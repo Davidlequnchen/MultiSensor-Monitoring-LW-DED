{
 "cells": [
  {
   "cell_type": "markdown",
   "id": "0e8a73e8-62c6-478a-a623-b3285c7bb46b",
   "metadata": {},
   "source": [
    "# MultiSensor Dataset Preparation \n",
    "- Experiment data: March 2024. Aluminum, Laser-Wire DED\n",
    "- Aurthor: Chen Lequn\n",
    "\n",
    "### Notebook 3a: Feature selection, ML modelling and ablation study (feature-based audio model)\n",
    "- Full Dataset: All features (from previous notebook 2b)\n",
    "- Ablated Dataset 1: Features after removing those with Pearson correlation > 0.97 (within audio modality).\n",
    "- Ablated Dataset 2: Features after removing those with Pearson correlation > 0.9 (within audio modality).\n",
    "- Ablated Dataset 3: Features from Ablated Dataset 1 with MI > 0.05.\n",
    "- Ablated Dataset 4: Features from Ablated Dataset 1 with MI > 0.1."
   ]
  },
  {
   "cell_type": "code",
   "execution_count": 4,
   "id": "60425ac2-09bd-4bd1-af37-463a33363e08",
   "metadata": {},
   "outputs": [],
   "source": [
    "# from sklearnex import patch_sklearn, config_context\n",
    "# import dpctl\n",
    "# patch_sklearn()"
   ]
  },
  {
   "cell_type": "code",
   "execution_count": 5,
   "id": "1dd4d910-cf99-4091-9459-887c8119a16b",
   "metadata": {},
   "outputs": [],
   "source": [
    "import wandb"
   ]
  },
  {
   "cell_type": "code",
   "execution_count": 1,
   "id": "4bf02ab4-a68c-4e2d-901f-ce0b33135ef4",
   "metadata": {},
   "outputs": [],
   "source": [
    "import os\n",
    "import glob\n",
    "import sys\n",
    "import math\n",
    "import numpy as np\n",
    "import pandas as pd\n",
    "from pandas import DataFrame\n",
    "import scipy as sp\n",
    "import itertools\n",
    "from collections import defaultdict\n",
    "from pprint import pprint\n",
    "import pickle\n",
    "from joblib import dump, load\n",
    "\n",
    "# Plotting\n",
    "import matplotlib as mpl\n",
    "import matplotlib.pyplot as plt\n",
    "from matplotlib.pyplot import gca\n",
    "from pylab import *\n",
    "import seaborn as sns\n",
    "mpl.rc('axes', labelsize=14)\n",
    "mpl.rc('xtick', labelsize=12)\n",
    "mpl.rc('ytick', labelsize=12)\n",
    "%matplotlib inline\n",
    "\n",
    "# Scikit-learn general\n",
    "from sklearn import preprocessing, metrics, svm, datasets, tree, neighbors\n",
    "from sklearn.metrics import accuracy_score, f1_score, roc_auc_score, precision_score, recall_score, confusion_matrix, roc_curve, auc, classification_report\n",
    "from sklearn.model_selection import train_test_split, RandomizedSearchCV, cross_validate, KFold, StratifiedKFold, GridSearchCV\n",
    "from sklearn.preprocessing import StandardScaler, LabelEncoder, OneHotEncoder, scale\n",
    "from sklearn.ensemble import HistGradientBoostingClassifier\n",
    "\n",
    "# Scikit-learn models\n",
    "from sklearn.neighbors import KNeighborsClassifier\n",
    "from sklearn.tree import DecisionTreeClassifier\n",
    "from sklearn.linear_model import LogisticRegression, Lasso, Ridge\n",
    "from sklearn.ensemble import RandomForestClassifier, AdaBoostClassifier, GradientBoostingClassifier, GradientBoostingRegressor\n",
    "from sklearn.neural_network import MLPClassifier, MLPRegressor\n",
    "from sklearn.gaussian_process import GaussianProcessClassifier\n",
    "from sklearn.gaussian_process.kernels import RBF\n",
    "from sklearn.naive_bayes import GaussianNB\n",
    "from sklearn.svm import SVC, SVR\n",
    "from sklearn.multiclass import OneVsRestClassifier\n",
    "\n",
    "# Imbalanced learn\n",
    "from imblearn.ensemble import BalancedRandomForestClassifier, RUSBoostClassifier\n",
    "\n",
    "# XGBoost and LightGBM\n",
    "import xgboost as xgb\n",
    "from xgboost import XGBClassifier\n",
    "import lightgbm as lgb\n",
    "from lightgbm import LGBMClassifier\n",
    "\n",
    "# Utilities\n",
    "from scipy.stats import uniform, randint\n",
    "from scipy.interpolate import griddata\n",
    "from sklearn.utils import shuffle, resample, class_weight\n",
    "from utils import *\n"
   ]
  },
  {
   "cell_type": "code",
   "execution_count": 2,
   "id": "f8888f60-bf0b-4a2a-8ee6-f32931a1938a",
   "metadata": {},
   "outputs": [],
   "source": [
    "PROJECT_ROOT_DIR = \"../\"\n",
    "IMAGE_PATH = os.path.join(PROJECT_ROOT_DIR, \"result_images\", 'defect classification', 'ML-baseline', 'ablation study')\n",
    "model_path = os.path.join(PROJECT_ROOT_DIR, \"trained_models\", 'defect classification', 'ML-baseline', 'ablation study')\n",
    "scaler_path = os.path.join(PROJECT_ROOT_DIR, \"saved_scalers\", 'defect classification',  'ML-baseline', 'ablation study')\n",
    "os.makedirs(IMAGE_PATH, exist_ok=True)\n",
    "os.makedirs(model_path, exist_ok=True)\n",
    "os.makedirs(scaler_path, exist_ok=True)\n",
    "\n",
    "\n",
    "# Change to desirable location of the raw dataset\n",
    "Multimodal_dataset_PATH = \"/home/chenlequn/pan1/Dataset/Laser-Wire-DED-ThermalAudio-Dataset\"\n",
    "Annotation_file_path = os.path.join(Multimodal_dataset_PATH, \"Annotation\")\n",
    "Dataset_path = os.path.join(Multimodal_dataset_PATH, 'Dataset')\n",
    "final_audio_dataset = os.path.join(Multimodal_dataset_PATH, 'Dataset', \"audio\")\n",
    "final_image_dataset = os.path.join(Multimodal_dataset_PATH, 'Dataset', \"thermal_images\")\n",
    "              \n",
    "\n",
    "## function for automatically save the diagram/graph into the folder \n",
    "def save_fig(fig_id, tight_layout=True, fig_extension=\"png\", resolution=300):\n",
    "    path = os.path.join(IMAGE_PATH, fig_id + \".\" + fig_extension)\n",
    "    print(\"Saving figure\", fig_id)\n",
    "    if tight_layout:\n",
    "        plt.tight_layout()\n",
    "    plt.savefig(path, format=fig_extension, dpi=resolution)\n",
    "\n",
    "import warnings\n",
    "warnings.filterwarnings(action=\"ignore\", message=\"^internal gelsd\")\n",
    "\n",
    "plt.rcParams[\"axes.edgecolor\"] = \"black\"\n",
    "plt.rcParams[\"axes.linewidth\"] = 2.50"
   ]
  },
  {
   "cell_type": "code",
   "execution_count": 3,
   "id": "78b4108b-6095-4336-9f14-56a4b96d50ea",
   "metadata": {
    "scrolled": true
   },
   "outputs": [
    {
     "ename": "NameError",
     "evalue": "name 'wandb' is not defined",
     "output_type": "error",
     "traceback": [
      "\u001b[0;31m---------------------------------------------------------------------------\u001b[0m",
      "\u001b[0;31mNameError\u001b[0m                                 Traceback (most recent call last)",
      "Cell \u001b[0;32mIn[3], line 2\u001b[0m\n\u001b[1;32m      1\u001b[0m \u001b[38;5;66;03m# # Initialize wandb\u001b[39;00m\n\u001b[0;32m----> 2\u001b[0m \u001b[43mwandb\u001b[49m\u001b[38;5;241m.\u001b[39minit(project\u001b[38;5;241m=\u001b[39m\u001b[38;5;124m\"\u001b[39m\u001b[38;5;124mLW-DED_audio-classification\u001b[39m\u001b[38;5;124m\"\u001b[39m)\n",
      "\u001b[0;31mNameError\u001b[0m: name 'wandb' is not defined"
     ]
    }
   ],
   "source": [
    "# # Initialize wandb\n",
    "wandb.init(project=\"LW-DED_audio-classification\")"
   ]
  },
  {
   "cell_type": "markdown",
   "id": "b3c1c916-c976-42f8-bab1-877575548b65",
   "metadata": {},
   "source": [
    "## Step 1: Dataset preparation"
   ]
  },
  {
   "cell_type": "code",
   "execution_count": 6,
   "id": "b965e8e5-f8ab-4bbf-b317-b76a218aa8a1",
   "metadata": {
    "scrolled": true
   },
   "outputs": [
    {
     "data": {
      "text/html": [
       "<div>\n",
       "<style scoped>\n",
       "    .dataframe tbody tr th:only-of-type {\n",
       "        vertical-align: middle;\n",
       "    }\n",
       "\n",
       "    .dataframe tbody tr th {\n",
       "        vertical-align: top;\n",
       "    }\n",
       "\n",
       "    .dataframe thead th {\n",
       "        text-align: right;\n",
       "    }\n",
       "</style>\n",
       "<table border=\"1\" class=\"dataframe\">\n",
       "  <thead>\n",
       "    <tr style=\"text-align: right;\">\n",
       "      <th></th>\n",
       "      <th>audio_name</th>\n",
       "      <th>image_name</th>\n",
       "      <th>experiment_number</th>\n",
       "      <th>label_1</th>\n",
       "      <th>label_2</th>\n",
       "      <th>label_3</th>\n",
       "      <th>rms_energy</th>\n",
       "      <th>amplitude_envelope_mean</th>\n",
       "      <th>amplitude_envelope_std</th>\n",
       "      <th>zero_crossing_rate</th>\n",
       "      <th>...</th>\n",
       "      <th>mfcc_8_mean</th>\n",
       "      <th>mfcc_8_std</th>\n",
       "      <th>mfcc_9_mean</th>\n",
       "      <th>mfcc_9_std</th>\n",
       "      <th>mfcc_10_mean</th>\n",
       "      <th>mfcc_10_std</th>\n",
       "      <th>mfcc_11_mean</th>\n",
       "      <th>mfcc_11_std</th>\n",
       "      <th>mfcc_12_mean</th>\n",
       "      <th>mfcc_12_std</th>\n",
       "    </tr>\n",
       "  </thead>\n",
       "  <tbody>\n",
       "    <tr>\n",
       "      <th>0</th>\n",
       "      <td>Exp_17_1_10.wav</td>\n",
       "      <td>Exp_17_1_10.jpg</td>\n",
       "      <td>17_1</td>\n",
       "      <td>Non-defective</td>\n",
       "      <td>NaN</td>\n",
       "      <td>NaN</td>\n",
       "      <td>0.031746</td>\n",
       "      <td>0.038982</td>\n",
       "      <td>0.014304</td>\n",
       "      <td>0.064399</td>\n",
       "      <td>...</td>\n",
       "      <td>-1.955670</td>\n",
       "      <td>7.565694</td>\n",
       "      <td>6.784209</td>\n",
       "      <td>13.263989</td>\n",
       "      <td>-4.241771</td>\n",
       "      <td>7.623967</td>\n",
       "      <td>10.760045</td>\n",
       "      <td>6.365362</td>\n",
       "      <td>-4.255302</td>\n",
       "      <td>6.843529</td>\n",
       "    </tr>\n",
       "    <tr>\n",
       "      <th>1</th>\n",
       "      <td>Exp_17_1_9.wav</td>\n",
       "      <td>Exp_17_1_9.jpg</td>\n",
       "      <td>17_1</td>\n",
       "      <td>Non-defective</td>\n",
       "      <td>NaN</td>\n",
       "      <td>NaN</td>\n",
       "      <td>0.042696</td>\n",
       "      <td>0.046830</td>\n",
       "      <td>0.018378</td>\n",
       "      <td>0.048526</td>\n",
       "      <td>...</td>\n",
       "      <td>2.400870</td>\n",
       "      <td>8.425775</td>\n",
       "      <td>10.965203</td>\n",
       "      <td>9.471119</td>\n",
       "      <td>-3.135444</td>\n",
       "      <td>8.011312</td>\n",
       "      <td>13.603483</td>\n",
       "      <td>6.959040</td>\n",
       "      <td>-5.711248</td>\n",
       "      <td>7.241501</td>\n",
       "    </tr>\n",
       "    <tr>\n",
       "      <th>2</th>\n",
       "      <td>Exp_17_1_8.wav</td>\n",
       "      <td>Exp_17_1_8.jpg</td>\n",
       "      <td>17_1</td>\n",
       "      <td>Non-defective</td>\n",
       "      <td>NaN</td>\n",
       "      <td>NaN</td>\n",
       "      <td>0.035057</td>\n",
       "      <td>0.042734</td>\n",
       "      <td>0.011573</td>\n",
       "      <td>0.075737</td>\n",
       "      <td>...</td>\n",
       "      <td>1.150261</td>\n",
       "      <td>9.403788</td>\n",
       "      <td>14.162999</td>\n",
       "      <td>9.516252</td>\n",
       "      <td>-8.762444</td>\n",
       "      <td>7.957384</td>\n",
       "      <td>12.542859</td>\n",
       "      <td>4.588312</td>\n",
       "      <td>-11.905286</td>\n",
       "      <td>5.806112</td>\n",
       "    </tr>\n",
       "    <tr>\n",
       "      <th>3</th>\n",
       "      <td>Exp_17_1_7.wav</td>\n",
       "      <td>Exp_17_1_7.jpg</td>\n",
       "      <td>17_1</td>\n",
       "      <td>Non-defective</td>\n",
       "      <td>NaN</td>\n",
       "      <td>NaN</td>\n",
       "      <td>0.030621</td>\n",
       "      <td>0.034609</td>\n",
       "      <td>0.014976</td>\n",
       "      <td>0.087528</td>\n",
       "      <td>...</td>\n",
       "      <td>-1.952435</td>\n",
       "      <td>7.164872</td>\n",
       "      <td>11.940722</td>\n",
       "      <td>13.199364</td>\n",
       "      <td>-8.201095</td>\n",
       "      <td>7.420465</td>\n",
       "      <td>10.894137</td>\n",
       "      <td>8.839649</td>\n",
       "      <td>-8.552934</td>\n",
       "      <td>7.470698</td>\n",
       "    </tr>\n",
       "    <tr>\n",
       "      <th>4</th>\n",
       "      <td>Exp_17_1_6.wav</td>\n",
       "      <td>Exp_17_1_6.jpg</td>\n",
       "      <td>17_1</td>\n",
       "      <td>Non-defective</td>\n",
       "      <td>NaN</td>\n",
       "      <td>NaN</td>\n",
       "      <td>0.029938</td>\n",
       "      <td>0.039680</td>\n",
       "      <td>0.008860</td>\n",
       "      <td>0.091837</td>\n",
       "      <td>...</td>\n",
       "      <td>-2.629555</td>\n",
       "      <td>10.869521</td>\n",
       "      <td>10.822444</td>\n",
       "      <td>7.406270</td>\n",
       "      <td>-7.824436</td>\n",
       "      <td>7.594238</td>\n",
       "      <td>11.877039</td>\n",
       "      <td>7.440609</td>\n",
       "      <td>-7.672489</td>\n",
       "      <td>7.914073</td>\n",
       "    </tr>\n",
       "    <tr>\n",
       "      <th>...</th>\n",
       "      <td>...</td>\n",
       "      <td>...</td>\n",
       "      <td>...</td>\n",
       "      <td>...</td>\n",
       "      <td>...</td>\n",
       "      <td>...</td>\n",
       "      <td>...</td>\n",
       "      <td>...</td>\n",
       "      <td>...</td>\n",
       "      <td>...</td>\n",
       "      <td>...</td>\n",
       "      <td>...</td>\n",
       "      <td>...</td>\n",
       "      <td>...</td>\n",
       "      <td>...</td>\n",
       "      <td>...</td>\n",
       "      <td>...</td>\n",
       "      <td>...</td>\n",
       "      <td>...</td>\n",
       "      <td>...</td>\n",
       "      <td>...</td>\n",
       "    </tr>\n",
       "    <tr>\n",
       "      <th>6812</th>\n",
       "      <td>Exp_April_16_test_4_4.wav</td>\n",
       "      <td>Exp_April_16_test_4_4.jpg</td>\n",
       "      <td>April_16_test_4</td>\n",
       "      <td>Laser-off</td>\n",
       "      <td>Shielding Gas-off</td>\n",
       "      <td>NaN</td>\n",
       "      <td>0.012902</td>\n",
       "      <td>0.015071</td>\n",
       "      <td>0.005879</td>\n",
       "      <td>0.099093</td>\n",
       "      <td>...</td>\n",
       "      <td>2.168951</td>\n",
       "      <td>6.490287</td>\n",
       "      <td>1.928032</td>\n",
       "      <td>8.401035</td>\n",
       "      <td>-1.724736</td>\n",
       "      <td>10.288368</td>\n",
       "      <td>-0.060851</td>\n",
       "      <td>8.381465</td>\n",
       "      <td>-12.953316</td>\n",
       "      <td>5.754806</td>\n",
       "    </tr>\n",
       "    <tr>\n",
       "      <th>6813</th>\n",
       "      <td>Exp_April_16_test_4_1.wav</td>\n",
       "      <td>Exp_April_16_test_4_1.jpg</td>\n",
       "      <td>April_16_test_4</td>\n",
       "      <td>Laser-off</td>\n",
       "      <td>Shielding Gas-off</td>\n",
       "      <td>NaN</td>\n",
       "      <td>0.013222</td>\n",
       "      <td>0.015257</td>\n",
       "      <td>0.005407</td>\n",
       "      <td>0.084127</td>\n",
       "      <td>...</td>\n",
       "      <td>0.476796</td>\n",
       "      <td>9.227147</td>\n",
       "      <td>0.945553</td>\n",
       "      <td>7.366714</td>\n",
       "      <td>-1.322515</td>\n",
       "      <td>7.652929</td>\n",
       "      <td>-0.733449</td>\n",
       "      <td>5.396196</td>\n",
       "      <td>-14.786466</td>\n",
       "      <td>7.339162</td>\n",
       "    </tr>\n",
       "    <tr>\n",
       "      <th>6814</th>\n",
       "      <td>Exp_April_16_test_4_2.wav</td>\n",
       "      <td>Exp_April_16_test_4_2.jpg</td>\n",
       "      <td>April_16_test_4</td>\n",
       "      <td>Laser-off</td>\n",
       "      <td>Shielding Gas-off</td>\n",
       "      <td>NaN</td>\n",
       "      <td>0.012246</td>\n",
       "      <td>0.014805</td>\n",
       "      <td>0.005100</td>\n",
       "      <td>0.093878</td>\n",
       "      <td>...</td>\n",
       "      <td>-0.026498</td>\n",
       "      <td>7.503857</td>\n",
       "      <td>2.117017</td>\n",
       "      <td>7.400688</td>\n",
       "      <td>-2.097013</td>\n",
       "      <td>8.523264</td>\n",
       "      <td>0.141502</td>\n",
       "      <td>6.387466</td>\n",
       "      <td>-10.734591</td>\n",
       "      <td>8.097878</td>\n",
       "    </tr>\n",
       "    <tr>\n",
       "      <th>6815</th>\n",
       "      <td>Exp_April_16_test_4_3.wav</td>\n",
       "      <td>Exp_April_16_test_4_3.jpg</td>\n",
       "      <td>April_16_test_4</td>\n",
       "      <td>Laser-off</td>\n",
       "      <td>Shielding Gas-off</td>\n",
       "      <td>NaN</td>\n",
       "      <td>0.013367</td>\n",
       "      <td>0.016546</td>\n",
       "      <td>0.005384</td>\n",
       "      <td>0.087302</td>\n",
       "      <td>...</td>\n",
       "      <td>1.089101</td>\n",
       "      <td>6.276635</td>\n",
       "      <td>0.685349</td>\n",
       "      <td>5.679959</td>\n",
       "      <td>-5.039695</td>\n",
       "      <td>5.392179</td>\n",
       "      <td>-2.741401</td>\n",
       "      <td>4.763264</td>\n",
       "      <td>-13.847133</td>\n",
       "      <td>7.911690</td>\n",
       "    </tr>\n",
       "    <tr>\n",
       "      <th>6816</th>\n",
       "      <td>Exp_April_16_test_4_5.wav</td>\n",
       "      <td>Exp_April_16_test_4_5.jpg</td>\n",
       "      <td>April_16_test_4</td>\n",
       "      <td>Laser-off</td>\n",
       "      <td>Shielding Gas-off</td>\n",
       "      <td>NaN</td>\n",
       "      <td>0.012981</td>\n",
       "      <td>0.015662</td>\n",
       "      <td>0.005640</td>\n",
       "      <td>0.076417</td>\n",
       "      <td>...</td>\n",
       "      <td>1.269098</td>\n",
       "      <td>6.512943</td>\n",
       "      <td>2.457465</td>\n",
       "      <td>8.290963</td>\n",
       "      <td>-2.943163</td>\n",
       "      <td>6.821808</td>\n",
       "      <td>-1.925373</td>\n",
       "      <td>5.722186</td>\n",
       "      <td>-13.050309</td>\n",
       "      <td>7.418693</td>\n",
       "    </tr>\n",
       "  </tbody>\n",
       "</table>\n",
       "<p>6817 rows × 89 columns</p>\n",
       "</div>"
      ],
      "text/plain": [
       "                     audio_name                 image_name experiment_number  \\\n",
       "0               Exp_17_1_10.wav            Exp_17_1_10.jpg              17_1   \n",
       "1                Exp_17_1_9.wav             Exp_17_1_9.jpg              17_1   \n",
       "2                Exp_17_1_8.wav             Exp_17_1_8.jpg              17_1   \n",
       "3                Exp_17_1_7.wav             Exp_17_1_7.jpg              17_1   \n",
       "4                Exp_17_1_6.wav             Exp_17_1_6.jpg              17_1   \n",
       "...                         ...                        ...               ...   \n",
       "6812  Exp_April_16_test_4_4.wav  Exp_April_16_test_4_4.jpg   April_16_test_4   \n",
       "6813  Exp_April_16_test_4_1.wav  Exp_April_16_test_4_1.jpg   April_16_test_4   \n",
       "6814  Exp_April_16_test_4_2.wav  Exp_April_16_test_4_2.jpg   April_16_test_4   \n",
       "6815  Exp_April_16_test_4_3.wav  Exp_April_16_test_4_3.jpg   April_16_test_4   \n",
       "6816  Exp_April_16_test_4_5.wav  Exp_April_16_test_4_5.jpg   April_16_test_4   \n",
       "\n",
       "            label_1            label_2 label_3  rms_energy  \\\n",
       "0     Non-defective                NaN     NaN    0.031746   \n",
       "1     Non-defective                NaN     NaN    0.042696   \n",
       "2     Non-defective                NaN     NaN    0.035057   \n",
       "3     Non-defective                NaN     NaN    0.030621   \n",
       "4     Non-defective                NaN     NaN    0.029938   \n",
       "...             ...                ...     ...         ...   \n",
       "6812      Laser-off  Shielding Gas-off     NaN    0.012902   \n",
       "6813      Laser-off  Shielding Gas-off     NaN    0.013222   \n",
       "6814      Laser-off  Shielding Gas-off     NaN    0.012246   \n",
       "6815      Laser-off  Shielding Gas-off     NaN    0.013367   \n",
       "6816      Laser-off  Shielding Gas-off     NaN    0.012981   \n",
       "\n",
       "      amplitude_envelope_mean  amplitude_envelope_std  zero_crossing_rate  \\\n",
       "0                    0.038982                0.014304            0.064399   \n",
       "1                    0.046830                0.018378            0.048526   \n",
       "2                    0.042734                0.011573            0.075737   \n",
       "3                    0.034609                0.014976            0.087528   \n",
       "4                    0.039680                0.008860            0.091837   \n",
       "...                       ...                     ...                 ...   \n",
       "6812                 0.015071                0.005879            0.099093   \n",
       "6813                 0.015257                0.005407            0.084127   \n",
       "6814                 0.014805                0.005100            0.093878   \n",
       "6815                 0.016546                0.005384            0.087302   \n",
       "6816                 0.015662                0.005640            0.076417   \n",
       "\n",
       "      ...  mfcc_8_mean  mfcc_8_std  mfcc_9_mean  mfcc_9_std  mfcc_10_mean  \\\n",
       "0     ...    -1.955670    7.565694     6.784209   13.263989     -4.241771   \n",
       "1     ...     2.400870    8.425775    10.965203    9.471119     -3.135444   \n",
       "2     ...     1.150261    9.403788    14.162999    9.516252     -8.762444   \n",
       "3     ...    -1.952435    7.164872    11.940722   13.199364     -8.201095   \n",
       "4     ...    -2.629555   10.869521    10.822444    7.406270     -7.824436   \n",
       "...   ...          ...         ...          ...         ...           ...   \n",
       "6812  ...     2.168951    6.490287     1.928032    8.401035     -1.724736   \n",
       "6813  ...     0.476796    9.227147     0.945553    7.366714     -1.322515   \n",
       "6814  ...    -0.026498    7.503857     2.117017    7.400688     -2.097013   \n",
       "6815  ...     1.089101    6.276635     0.685349    5.679959     -5.039695   \n",
       "6816  ...     1.269098    6.512943     2.457465    8.290963     -2.943163   \n",
       "\n",
       "      mfcc_10_std  mfcc_11_mean  mfcc_11_std  mfcc_12_mean  mfcc_12_std  \n",
       "0        7.623967     10.760045     6.365362     -4.255302     6.843529  \n",
       "1        8.011312     13.603483     6.959040     -5.711248     7.241501  \n",
       "2        7.957384     12.542859     4.588312    -11.905286     5.806112  \n",
       "3        7.420465     10.894137     8.839649     -8.552934     7.470698  \n",
       "4        7.594238     11.877039     7.440609     -7.672489     7.914073  \n",
       "...           ...           ...          ...           ...          ...  \n",
       "6812    10.288368     -0.060851     8.381465    -12.953316     5.754806  \n",
       "6813     7.652929     -0.733449     5.396196    -14.786466     7.339162  \n",
       "6814     8.523264      0.141502     6.387466    -10.734591     8.097878  \n",
       "6815     5.392179     -2.741401     4.763264    -13.847133     7.911690  \n",
       "6816     6.821808     -1.925373     5.722186    -13.050309     7.418693  \n",
       "\n",
       "[6817 rows x 89 columns]"
      ]
     },
     "execution_count": 6,
     "metadata": {},
     "output_type": "execute_result"
    }
   ],
   "source": [
    "# Read the data back from the HDF5 file into a new DataFrame\n",
    "df_audio_dataset = pd.read_hdf(os.path.join(Dataset_path, 'df_audio_dataset_with_annotations(raw_audio).h5'), key='df')\n",
    "\n",
    "df_audio_dataset"
   ]
  },
  {
   "cell_type": "code",
   "execution_count": 7,
   "id": "316cfce2-4741-4b5b-9c1d-b90ff5311519",
   "metadata": {},
   "outputs": [
    {
     "data": {
      "text/plain": [
       "(6817, 83)"
      ]
     },
     "execution_count": 7,
     "metadata": {},
     "output_type": "execute_result"
    }
   ],
   "source": [
    "# Extract labels\n",
    "y = df_audio_dataset['label_1'].to_list()\n",
    "y_array = np.array(y)\n",
    "le = LabelEncoder()\n",
    "le.fit(y)\n",
    "Y_encoded = le.transform(y)\n",
    "\n",
    "# Non-feature columns to be dropped\n",
    "non_feature_columns = ['audio_name', 'image_name', 'experiment_number',\n",
    "                       'label_1', 'label_2', 'label_3']\n",
    "\n",
    "# Extract features for the full dataset\n",
    "X_all = df_audio_dataset.drop(columns=non_feature_columns).to_numpy()\n",
    "\n",
    "X_all.shape"
   ]
  },
  {
   "cell_type": "code",
   "execution_count": 9,
   "id": "31e8626c-8f1a-4caa-9afc-703cc63c0cee",
   "metadata": {},
   "outputs": [
    {
     "name": "stdout",
     "output_type": "stream",
     "text": [
      "class weights: [2.99385156 0.60003521 1.00058711]\n",
      "class weights encoded: [2.99385156 0.60003521 1.00058711]\n",
      "class        : ['Balling', 'Laser-off', 'Non-defective']\n"
     ]
    }
   ],
   "source": [
    "class_weights = class_weight.compute_class_weight('balanced',\n",
    "                                                 classes = np.unique(y),\n",
    "                                                 y = y)\n",
    "\n",
    "class_weights_encoded = class_weight.compute_class_weight('balanced',\n",
    "                                                 classes = np.unique(Y_encoded),\n",
    "                                                 y = Y_encoded)\n",
    "\n",
    "\n",
    "class_names = (le.classes_).tolist()\n",
    "print(f\"class weights: {class_weights}\")\n",
    "print(f\"class weights encoded: {class_weights_encoded}\")\n",
    "print(f\"class        : {class_names}\")"
   ]
  },
  {
   "cell_type": "code",
   "execution_count": 10,
   "id": "fc1bbc50-dd46-4a41-91fb-33829159863f",
   "metadata": {},
   "outputs": [
    {
     "data": {
      "text/plain": [
       "((6817, 73), (6817, 58), (6817, 30), (6817, 20))"
      ]
     },
     "execution_count": 10,
     "metadata": {},
     "output_type": "execute_result"
    }
   ],
   "source": [
    "# Given features based on previous analysis results\n",
    "features_dropped_090 = ['spectral_centroid_mean', 'spectral_centroid_std',\n",
    "       'spectral_complexity_std', 'spectral_contrast_0_mean',\n",
    "       'spectral_contrast_0_std', 'spectral_contrast_1_mean',\n",
    "       'spectral_contrast_1_std', 'spectral_contrast_2_mean',\n",
    "       'spectral_contrast_2_std', 'spectral_contrast_3_mean',\n",
    "       'spectral_contrast_3_std', 'spectral_contrast_4_mean',\n",
    "       'spectral_contrast_4_std', 'spectral_contrast_5_mean',\n",
    "       'spectral_valley_0_std', 'spectral_valley_1_std',\n",
    "       'spectral_valley_2_mean', 'spectral_valley_2_std',\n",
    "       'spectral_valley_3_std', 'spectral_valley_4_std',\n",
    "       'spectral_valley_5_mean', 'spectral_energy_band_ratio_std',\n",
    "       'spectral_flatness_mean', 'spectral_flatness_std',\n",
    "       'spectral_rolloff_std', 'spectral_strong_peak_mean',\n",
    "       'spectral_strong_peak_std', 'spectral_variance_mean',\n",
    "       'spectral_variance_std', 'spectral_skewness_std',\n",
    "       'spectral_kurtosis_std', 'spectral_crest_factor_mean',\n",
    "       'spectral_crest_factor_std', 'mfcc_0_std', 'mfcc_1_mean', 'mfcc_1_std',\n",
    "       'mfcc_2_mean', 'mfcc_2_std', 'mfcc_3_mean', 'mfcc_3_std', 'mfcc_4_mean',\n",
    "       'mfcc_4_std', 'mfcc_5_mean', 'mfcc_5_std', 'mfcc_6_mean', 'mfcc_6_std',\n",
    "       'mfcc_7_mean', 'mfcc_7_std', 'mfcc_8_mean', 'mfcc_8_std', 'mfcc_9_mean',\n",
    "       'mfcc_9_std', 'mfcc_10_mean', 'mfcc_10_std', 'mfcc_11_mean',\n",
    "       'mfcc_11_std', 'mfcc_12_mean', 'mfcc_12_std']\n",
    "\n",
    "features_dropped_097 = ['amplitude_envelope_std', 'zero_crossing_rate',\n",
    "       'loudness_vickers', 'spectral_centroid_mean', 'spectral_centroid_std',\n",
    "       'spectral_complexity_mean', 'spectral_complexity_std',\n",
    "       'spectral_contrast_0_mean', 'spectral_contrast_0_std',\n",
    "       'spectral_contrast_1_mean', 'spectral_contrast_1_std',\n",
    "       'spectral_contrast_2_mean', 'spectral_contrast_2_std',\n",
    "       'spectral_contrast_3_mean', 'spectral_contrast_3_std',\n",
    "       'spectral_contrast_4_mean', 'spectral_contrast_4_std',\n",
    "       'spectral_contrast_5_mean', 'spectral_contrast_5_std',\n",
    "       'spectral_valley_0_mean', 'spectral_valley_0_std',\n",
    "       'spectral_valley_1_mean', 'spectral_valley_1_std',\n",
    "       'spectral_valley_2_mean', 'spectral_valley_2_std',\n",
    "       'spectral_valley_3_mean', 'spectral_valley_3_std',\n",
    "       'spectral_valley_4_mean', 'spectral_valley_4_std',\n",
    "       'spectral_valley_5_mean', 'spectral_valley_5_std',\n",
    "       'spectral_decrease_mean', 'spectral_energy_band_ratio_mean',\n",
    "       'spectral_energy_band_ratio_std', 'spectral_flatness_mean',\n",
    "       'spectral_flatness_std', 'spectral_flux_std', 'spectral_rolloff_mean',\n",
    "       'spectral_rolloff_std', 'spectral_strong_peak_mean',\n",
    "       'spectral_strong_peak_std', 'spectral_variance_mean',\n",
    "       'spectral_variance_std', 'spectral_skewness_std',\n",
    "       'spectral_kurtosis_std', 'spectral_crest_factor_mean',\n",
    "       'spectral_crest_factor_std', 'mfcc_0_mean', 'mfcc_0_std', 'mfcc_1_mean',\n",
    "       'mfcc_1_std', 'mfcc_2_mean', 'mfcc_2_std', 'mfcc_3_mean', 'mfcc_3_std',\n",
    "       'mfcc_4_mean', 'mfcc_4_std', 'mfcc_5_mean', 'mfcc_5_std', 'mfcc_6_mean',\n",
    "       'mfcc_6_std', 'mfcc_7_mean', 'mfcc_7_std', 'mfcc_8_mean', 'mfcc_8_std',\n",
    "       'mfcc_9_mean', 'mfcc_9_std', 'mfcc_10_mean', 'mfcc_10_std',\n",
    "       'mfcc_11_mean', 'mfcc_11_std', 'mfcc_12_mean', 'mfcc_12_std']\n",
    "\n",
    "\n",
    "features_dropped_090_mi_filtered_01 = ['spectral_centroid_mean', 'spectral_centroid_std',\n",
    "       'spectral_complexity_std', 'spectral_contrast_3_mean',\n",
    "       'spectral_contrast_5_mean', 'spectral_valley_2_mean',\n",
    "       'spectral_valley_5_mean', 'spectral_flatness_mean',\n",
    "       'spectral_flatness_std', 'spectral_variance_mean',\n",
    "       'spectral_skewness_std', 'spectral_crest_factor_mean',\n",
    "       'spectral_crest_factor_std', 'mfcc_1_mean', 'mfcc_2_mean',\n",
    "       'mfcc_3_mean', 'mfcc_5_mean', 'mfcc_7_mean', 'mfcc_9_mean',\n",
    "       'mfcc_11_mean']\n",
    "\n",
    "\n",
    "features_dropped_090_mi_filtered_005 = ['spectral_centroid_mean', 'spectral_centroid_std',\n",
    "       'spectral_complexity_std', 'spectral_contrast_3_mean',\n",
    "       'spectral_contrast_4_mean', 'spectral_contrast_5_mean',\n",
    "       'spectral_valley_2_mean', 'spectral_valley_5_mean',\n",
    "       'spectral_energy_band_ratio_std', 'spectral_flatness_mean',\n",
    "       'spectral_flatness_std', 'spectral_rolloff_std',\n",
    "       'spectral_strong_peak_std', 'spectral_variance_mean',\n",
    "       'spectral_skewness_std', 'spectral_kurtosis_std',\n",
    "       'spectral_crest_factor_mean', 'spectral_crest_factor_std',\n",
    "       'mfcc_1_mean', 'mfcc_2_mean', 'mfcc_3_mean', 'mfcc_5_mean',\n",
    "       'mfcc_6_mean', 'mfcc_7_mean', 'mfcc_7_std', 'mfcc_8_mean',\n",
    "       'mfcc_9_mean', 'mfcc_9_std', 'mfcc_11_mean', 'mfcc_12_mean']\n",
    "\n",
    "# Create ablated datasets\n",
    "X_dropped_097 = df_audio_dataset[features_dropped_097].to_numpy()\n",
    "X_dropped_090 = df_audio_dataset[features_dropped_090].to_numpy()\n",
    "X_dropped_090_mi_filtered_01 = df_audio_dataset[features_dropped_090_mi_filtered_01].to_numpy()\n",
    "X_dropped_090_mi_filtered_005 = df_audio_dataset[features_dropped_090_mi_filtered_005].to_numpy()\n",
    "\n",
    "\n",
    "# Get the shapes of these additional ablated datasets\n",
    "X_dropped_097.shape, X_dropped_090.shape, X_dropped_090_mi_filtered_005.shape, X_dropped_090_mi_filtered_01.shape,"
   ]
  },
  {
   "cell_type": "markdown",
   "id": "923395bd-b023-4dd8-90be-a1ec2acbe5d2",
   "metadata": {},
   "source": [
    "- ALL Dataset (X_all):  `83 features`\n",
    "- Ablated Dataset 1 (X_dropped_097):  `73 features`\n",
    "- Ablated Dataset 2 (X_dropped_090):  `58 features`\n",
    "- Ablated Dataset 3 (X_dropped_090_mi_filtered_005): `30 features`\n",
    "- Ablated Dataset 4 (X_dropped_090_mi_filtered_01):  `20 features`"
   ]
  },
  {
   "cell_type": "markdown",
   "id": "b5748274-236e-445c-b4ea-dea76b24401e",
   "metadata": {},
   "source": [
    "### Train val test split\n",
    "- Train 80%, Val 10%, Test 10%"
   ]
  },
  {
   "cell_type": "code",
   "execution_count": 11,
   "id": "bfc65b8f-a9ef-4518-944f-528fb2e1dfb6",
   "metadata": {},
   "outputs": [
    {
     "data": {
      "text/plain": [
       "(5453, 682, 682)"
      ]
     },
     "execution_count": 11,
     "metadata": {},
     "output_type": "execute_result"
    }
   ],
   "source": [
    "y_array = np.array(y)\n",
    "\n",
    "# First split: Separate out the training set (80% of original)\n",
    "train_indices, temp_indices = train_test_split(\n",
    "    np.arange(len(df_audio_dataset)), test_size=0.2, random_state=0, stratify=y_array)\n",
    "\n",
    "# Second split: Separate out the validation and test sets (each will be 10% of original)\n",
    "val_indices, test_indices = train_test_split(\n",
    "    temp_indices, test_size=0.5, random_state=0, stratify=y_array[temp_indices])\n",
    "\n",
    "# Check the shape of the indices for train, val, and test splits\n",
    "len(train_indices), len(val_indices), len(test_indices)"
   ]
  },
  {
   "cell_type": "code",
   "execution_count": 12,
   "id": "3041252d-5423-4655-a9a2-851a42ef176e",
   "metadata": {},
   "outputs": [
    {
     "name": "stdout",
     "output_type": "stream",
     "text": [
      "Stored 'train_indices' (ndarray)\n",
      "Stored 'val_indices' (ndarray)\n",
      "Stored 'test_indices' (ndarray)\n"
     ]
    }
   ],
   "source": [
    "%store train_indices\n",
    "%store val_indices\n",
    "%store test_indices"
   ]
  },
  {
   "cell_type": "markdown",
   "id": "58c2e72e-9547-44bd-a5bc-de4579c69657",
   "metadata": {},
   "source": [
    "## Step 2: Create a Pipeline and Iterate Over Datasets and Models"
   ]
  },
  {
   "cell_type": "code",
   "execution_count": 17,
   "id": "f404db24-33a7-45ba-a382-ffad15476bd4",
   "metadata": {},
   "outputs": [],
   "source": [
    "# Define hyperparameters for each model\n",
    "hyperparameters = {\n",
    "    'KNN': {'n_neighbors': 12, 'weights': 'distance'},\n",
    "    'DT': {'ccp_alpha': 3.89e-05, 'max_depth': 21, 'min_samples_leaf': 1, 'min_samples_split': 13},\n",
    "    'LR': {'C': 5.15, 'max_iter': 2528, 'penalty': 'l2', 'solver': 'lbfgs'},\n",
    "    'RF': {'bootstrap': False, 'max_depth': 64, 'max_features': 'sqrt', 'min_samples_leaf': 3, 'min_samples_split': 6, 'n_estimators': 307},\n",
    "    'BalancedRF': {'bootstrap': False, 'max_depth': 23, 'max_features': 'sqrt', 'min_samples_leaf': 8, 'min_samples_split': 17, 'n_estimators': 237},\n",
    "    'RUSBoost': {'learning_rate': 0.1, 'n_estimators': 150},\n",
    "    'Ada': {'algorithm': 'SAMME', 'learning_rate': 0.57, 'n_estimators': 307},\n",
    "    'GP': {'kernel': 1**2 * RBF(length_scale=1)},\n",
    "    'NN': {'activation': 'relu', 'alpha': 0.077, 'early_stopping': True, 'hidden_layer_sizes': (229, 255, 168), 'learning_rate': 'adaptive', 'max_iter': 11805, 'solver': 'adam', 'validation_fraction': 0.1},\n",
    "    'XGBoost': {'colsample_bytree': 0.62, 'gamma': 0.48, 'learning_rate': 0.35, 'max_depth': 44, 'min_child_weight': 8, 'n_estimators': 480, 'subsample': 0.59,  'gpu_id': 0},\n",
    "    'LightGBM': {'colsample_bytree': 0.80, 'learning_rate': 0.15, 'max_depth': 35, 'min_child_weight': 1, 'n_estimators': 276, 'num_leaves': 120, 'reg_alpha': 1.94, 'reg_lambda': 1.70, 'subsample': 0.86, 'verbose': -1},\n",
    "    'SVM': {'C': 524.86, 'degree': 9, 'gamma': 0.029, 'kernel': 'rbf', 'probability': True},\n",
    "    'GB': {'learning_rate': 0.23, 'max_depth': 49, 'min_samples_leaf': 10, 'min_samples_split': 17, 'n_estimators': 271, 'n_iter_no_change': 10, 'subsample': 0.73, 'tol': 0.0001},\n",
    "    'HistGB': {'learning_rate': 0.23, 'max_iter': 100, 'max_depth': 49, 'min_samples_leaf': 10, 'n_iter_no_change': 10, 'tol': 0.0001},\n",
    "}\n",
    "\n",
    "# List of datasets\n",
    "datasets = {\n",
    "    'All Features': X_all,\n",
    "    'Ablated 1': X_dropped_097,\n",
    "    'Ablated 2': X_dropped_090,\n",
    "    'Ablated 3': X_dropped_090_mi_filtered_005,\n",
    "    'Ablated 4': X_dropped_090_mi_filtered_01,\n",
    "}\n",
    "\n",
    "\n",
    "# List of models\n",
    "models = {\n",
    "    'KNN': KNeighborsClassifier,\n",
    "    'DT': DecisionTreeClassifier,\n",
    "    'LR': LogisticRegression,\n",
    "    'RF': RandomForestClassifier,\n",
    "    'BalancedRF': BalancedRandomForestClassifier,\n",
    "    'RUSBoost': RUSBoostClassifier,\n",
    "    'Ada': AdaBoostClassifier,\n",
    "    # 'GP': GaussianProcessClassifier,\n",
    "    'NN': MLPClassifier,\n",
    "    'XGBoost': XGBClassifier,\n",
    "    'LightGBM': LGBMClassifier,\n",
    "    'SVM': SVC,\n",
    "    # 'GB': GradientBoostingClassifier,\n",
    "    'HistGB': HistGradientBoostingClassifier\n",
    "}"
   ]
  },
  {
   "cell_type": "markdown",
   "id": "e03e9c58-2a68-429c-9f67-1ad896dbd890",
   "metadata": {},
   "source": [
    "## Step 3: Model Training"
   ]
  },
  {
   "cell_type": "code",
   "execution_count": 18,
   "id": "8b6a8783-3f67-4fb8-bcee-d467f559d282",
   "metadata": {
    "scrolled": true
   },
   "outputs": [
    {
     "name": "stdout",
     "output_type": "stream",
     "text": [
      "Processing dataset: All Features\n",
      "\tTraining model: KNN\n"
     ]
    },
    {
     "data": {
      "text/html": [
       "Finishing last run (ID:1bniqjhk) before initializing another..."
      ],
      "text/plain": [
       "<IPython.core.display.HTML object>"
      ]
     },
     "metadata": {},
     "output_type": "display_data"
    },
    {
     "data": {
      "text/html": [
       "Waiting for W&B process to finish... <strong style=\"color:green\">(success).</strong>"
      ],
      "text/plain": [
       "<IPython.core.display.HTML object>"
      ]
     },
     "metadata": {},
     "output_type": "display_data"
    },
    {
     "data": {
      "application/vnd.jupyter.widget-view+json": {
       "model_id": "d3a5fb0e91e04eeea2f731e5c17b40c2",
       "version_major": 2,
       "version_minor": 0
      },
      "text/plain": [
       "VBox(children=(Label(value='0.004 MB of 0.004 MB uploaded (0.000 MB deduped)\\r'), FloatProgress(value=1.0, max…"
      ]
     },
     "metadata": {},
     "output_type": "display_data"
    },
    {
     "data": {
      "text/html": [
       " View run <strong style=\"color:#cdcd00\">effortless-sound-1</strong> at: <a href='https://wandb.ai/lequn/LW-DED_audio-classification/runs/1bniqjhk' target=\"_blank\">https://wandb.ai/lequn/LW-DED_audio-classification/runs/1bniqjhk</a><br/> View job at <a href='https://wandb.ai/lequn/LW-DED_audio-classification/jobs/QXJ0aWZhY3RDb2xsZWN0aW9uOjE2MTUxNDY2MA==/version_details/v0' target=\"_blank\">https://wandb.ai/lequn/LW-DED_audio-classification/jobs/QXJ0aWZhY3RDb2xsZWN0aW9uOjE2MTUxNDY2MA==/version_details/v0</a><br/>Synced 6 W&B file(s), 0 media file(s), 2 artifact file(s) and 0 other file(s)"
      ],
      "text/plain": [
       "<IPython.core.display.HTML object>"
      ]
     },
     "metadata": {},
     "output_type": "display_data"
    },
    {
     "data": {
      "text/html": [
       "Find logs at: <code>./wandb/run-20240411_145813-1bniqjhk/logs</code>"
      ],
      "text/plain": [
       "<IPython.core.display.HTML object>"
      ]
     },
     "metadata": {},
     "output_type": "display_data"
    },
    {
     "data": {
      "text/html": [
       "Successfully finished last run (ID:1bniqjhk). Initializing new run:<br/>"
      ],
      "text/plain": [
       "<IPython.core.display.HTML object>"
      ]
     },
     "metadata": {},
     "output_type": "display_data"
    },
    {
     "data": {
      "application/vnd.jupyter.widget-view+json": {
       "model_id": "91646ffe440149e096ffb11dd4e73234",
       "version_major": 2,
       "version_minor": 0
      },
      "text/plain": [
       "VBox(children=(Label(value='Waiting for wandb.init()...\\r'), FloatProgress(value=0.011113579188895528, max=1.0…"
      ]
     },
     "metadata": {},
     "output_type": "display_data"
    },
    {
     "data": {
      "text/html": [
       "wandb version 0.16.6 is available!  To upgrade, please run:\n",
       " $ pip install wandb --upgrade"
      ],
      "text/plain": [
       "<IPython.core.display.HTML object>"
      ]
     },
     "metadata": {},
     "output_type": "display_data"
    },
    {
     "data": {
      "text/html": [
       "Tracking run with wandb version 0.15.12"
      ],
      "text/plain": [
       "<IPython.core.display.HTML object>"
      ]
     },
     "metadata": {},
     "output_type": "display_data"
    },
    {
     "data": {
      "text/html": [
       "Run data is saved locally in <code>/home/chenlequn/GitHub/MultiSensor-Monitoring-LW-DED/Code/wandb/run-20240411_145941-5p9u9mok</code>"
      ],
      "text/plain": [
       "<IPython.core.display.HTML object>"
      ]
     },
     "metadata": {},
     "output_type": "display_data"
    },
    {
     "data": {
      "text/html": [
       "Syncing run <strong><a href='https://wandb.ai/lequn/LW-DED_audio-classification/runs/5p9u9mok' target=\"_blank\">KNN_All Features</a></strong> to <a href='https://wandb.ai/lequn/LW-DED_audio-classification' target=\"_blank\">Weights & Biases</a> (<a href='https://wandb.me/run' target=\"_blank\">docs</a>)<br/>"
      ],
      "text/plain": [
       "<IPython.core.display.HTML object>"
      ]
     },
     "metadata": {},
     "output_type": "display_data"
    },
    {
     "data": {
      "text/html": [
       " View project at <a href='https://wandb.ai/lequn/LW-DED_audio-classification' target=\"_blank\">https://wandb.ai/lequn/LW-DED_audio-classification</a>"
      ],
      "text/plain": [
       "<IPython.core.display.HTML object>"
      ]
     },
     "metadata": {},
     "output_type": "display_data"
    },
    {
     "data": {
      "text/html": [
       " View run at <a href='https://wandb.ai/lequn/LW-DED_audio-classification/runs/5p9u9mok' target=\"_blank\">https://wandb.ai/lequn/LW-DED_audio-classification/runs/5p9u9mok</a>"
      ],
      "text/plain": [
       "<IPython.core.display.HTML object>"
      ]
     },
     "metadata": {},
     "output_type": "display_data"
    },
    {
     "name": "stdout",
     "output_type": "stream",
     "text": [
      "\t\tAccuracy: Mean = 0.9222520395019321, Std = 0.02313765192616552\n",
      "\t\tF1 Score: Mean = 0.9214166889075145, Std = 0.025178707325386417\n",
      "\t\tPrecision: Mean = 0.9225255852049452, Std = 0.026958798797163123\n",
      "\t\tRecall: Mean = 0.9222520395019321, Std = 0.02313765192616552\n",
      "\t\tROC-AUC: Mean = 0.978449006898096, Std = 0.007070030250265055\n"
     ]
    },
    {
     "data": {
      "text/html": [
       "Waiting for W&B process to finish... <strong style=\"color:green\">(success).</strong>"
      ],
      "text/plain": [
       "<IPython.core.display.HTML object>"
      ]
     },
     "metadata": {},
     "output_type": "display_data"
    },
    {
     "data": {
      "text/html": [
       "<style>\n",
       "    table.wandb td:nth-child(1) { padding: 0 10px; text-align: left ; width: auto;} td:nth-child(2) {text-align: left ; width: 100%}\n",
       "    .wandb-row { display: flex; flex-direction: row; flex-wrap: wrap; justify-content: flex-start; width: 100% }\n",
       "    .wandb-col { display: flex; flex-direction: column; flex-basis: 100%; flex: 1; padding: 10px; }\n",
       "    </style>\n",
       "<div class=\"wandb-row\"><div class=\"wandb-col\"><h3>Run history:</h3><br/><table class=\"wandb\"><tr><td>Accuracy_mean</td><td>▁</td></tr><tr><td>Accuracy_std</td><td>▁</td></tr><tr><td>F1 Score_mean</td><td>▁</td></tr><tr><td>F1 Score_std</td><td>▁</td></tr><tr><td>Precision_mean</td><td>▁</td></tr><tr><td>Precision_std</td><td>▁</td></tr><tr><td>ROC-AUC_mean</td><td>▁</td></tr><tr><td>ROC-AUC_std</td><td>▁</td></tr><tr><td>Recall_mean</td><td>▁</td></tr><tr><td>Recall_std</td><td>▁</td></tr></table><br/></div><div class=\"wandb-col\"><h3>Run summary:</h3><br/><table class=\"wandb\"><tr><td>Accuracy_mean</td><td>0.92225</td></tr><tr><td>Accuracy_std</td><td>0.02314</td></tr><tr><td>F1 Score_mean</td><td>0.92142</td></tr><tr><td>F1 Score_std</td><td>0.02518</td></tr><tr><td>Precision_mean</td><td>0.92253</td></tr><tr><td>Precision_std</td><td>0.02696</td></tr><tr><td>ROC-AUC_mean</td><td>0.97845</td></tr><tr><td>ROC-AUC_std</td><td>0.00707</td></tr><tr><td>Recall_mean</td><td>0.92225</td></tr><tr><td>Recall_std</td><td>0.02314</td></tr></table><br/></div></div>"
      ],
      "text/plain": [
       "<IPython.core.display.HTML object>"
      ]
     },
     "metadata": {},
     "output_type": "display_data"
    },
    {
     "data": {
      "text/html": [
       " View run <strong style=\"color:#cdcd00\">KNN_All Features</strong> at: <a href='https://wandb.ai/lequn/LW-DED_audio-classification/runs/5p9u9mok' target=\"_blank\">https://wandb.ai/lequn/LW-DED_audio-classification/runs/5p9u9mok</a><br/> View job at <a href='https://wandb.ai/lequn/LW-DED_audio-classification/jobs/QXJ0aWZhY3RDb2xsZWN0aW9uOjE2MTUxNDY2MA==/version_details/v1' target=\"_blank\">https://wandb.ai/lequn/LW-DED_audio-classification/jobs/QXJ0aWZhY3RDb2xsZWN0aW9uOjE2MTUxNDY2MA==/version_details/v1</a><br/>Synced 6 W&B file(s), 0 media file(s), 2 artifact file(s) and 0 other file(s)"
      ],
      "text/plain": [
       "<IPython.core.display.HTML object>"
      ]
     },
     "metadata": {},
     "output_type": "display_data"
    },
    {
     "data": {
      "text/html": [
       "Find logs at: <code>./wandb/run-20240411_145941-5p9u9mok/logs</code>"
      ],
      "text/plain": [
       "<IPython.core.display.HTML object>"
      ]
     },
     "metadata": {},
     "output_type": "display_data"
    },
    {
     "name": "stdout",
     "output_type": "stream",
     "text": [
      "\tTraining model: DT\n"
     ]
    },
    {
     "data": {
      "application/vnd.jupyter.widget-view+json": {
       "model_id": "6dabc2dc01e84439bb7443840b634921",
       "version_major": 2,
       "version_minor": 0
      },
      "text/plain": [
       "VBox(children=(Label(value='Waiting for wandb.init()...\\r'), FloatProgress(value=0.011113391566686915, max=1.0…"
      ]
     },
     "metadata": {},
     "output_type": "display_data"
    },
    {
     "data": {
      "text/html": [
       "wandb version 0.16.6 is available!  To upgrade, please run:\n",
       " $ pip install wandb --upgrade"
      ],
      "text/plain": [
       "<IPython.core.display.HTML object>"
      ]
     },
     "metadata": {},
     "output_type": "display_data"
    },
    {
     "data": {
      "text/html": [
       "Tracking run with wandb version 0.15.12"
      ],
      "text/plain": [
       "<IPython.core.display.HTML object>"
      ]
     },
     "metadata": {},
     "output_type": "display_data"
    },
    {
     "data": {
      "text/html": [
       "Run data is saved locally in <code>/home/chenlequn/GitHub/MultiSensor-Monitoring-LW-DED/Code/wandb/run-20240411_150005-kbpsdbg5</code>"
      ],
      "text/plain": [
       "<IPython.core.display.HTML object>"
      ]
     },
     "metadata": {},
     "output_type": "display_data"
    },
    {
     "data": {
      "text/html": [
       "Syncing run <strong><a href='https://wandb.ai/lequn/LW-DED_audio-classification/runs/kbpsdbg5' target=\"_blank\">DT_All Features</a></strong> to <a href='https://wandb.ai/lequn/LW-DED_audio-classification' target=\"_blank\">Weights & Biases</a> (<a href='https://wandb.me/run' target=\"_blank\">docs</a>)<br/>"
      ],
      "text/plain": [
       "<IPython.core.display.HTML object>"
      ]
     },
     "metadata": {},
     "output_type": "display_data"
    },
    {
     "data": {
      "text/html": [
       " View project at <a href='https://wandb.ai/lequn/LW-DED_audio-classification' target=\"_blank\">https://wandb.ai/lequn/LW-DED_audio-classification</a>"
      ],
      "text/plain": [
       "<IPython.core.display.HTML object>"
      ]
     },
     "metadata": {},
     "output_type": "display_data"
    },
    {
     "data": {
      "text/html": [
       " View run at <a href='https://wandb.ai/lequn/LW-DED_audio-classification/runs/kbpsdbg5' target=\"_blank\">https://wandb.ai/lequn/LW-DED_audio-classification/runs/kbpsdbg5</a>"
      ],
      "text/plain": [
       "<IPython.core.display.HTML object>"
      ]
     },
     "metadata": {},
     "output_type": "display_data"
    },
    {
     "name": "stdout",
     "output_type": "stream",
     "text": [
      "\t\tAccuracy: Mean = 0.8943537999141261, Std = 0.02944544852011838\n",
      "\t\tF1 Score: Mean = 0.8934470154582043, Std = 0.0293240507530964\n",
      "\t\tPrecision: Mean = 0.8942871219695944, Std = 0.029755204911977553\n",
      "\t\tRecall: Mean = 0.8943537999141261, Std = 0.02944544852011838\n",
      "\t\tROC-AUC: Mean = 0.9298970808676599, Std = 0.01267099972964232\n"
     ]
    },
    {
     "data": {
      "text/html": [
       "Waiting for W&B process to finish... <strong style=\"color:green\">(success).</strong>"
      ],
      "text/plain": [
       "<IPython.core.display.HTML object>"
      ]
     },
     "metadata": {},
     "output_type": "display_data"
    },
    {
     "data": {
      "text/html": [
       "<style>\n",
       "    table.wandb td:nth-child(1) { padding: 0 10px; text-align: left ; width: auto;} td:nth-child(2) {text-align: left ; width: 100%}\n",
       "    .wandb-row { display: flex; flex-direction: row; flex-wrap: wrap; justify-content: flex-start; width: 100% }\n",
       "    .wandb-col { display: flex; flex-direction: column; flex-basis: 100%; flex: 1; padding: 10px; }\n",
       "    </style>\n",
       "<div class=\"wandb-row\"><div class=\"wandb-col\"><h3>Run history:</h3><br/><table class=\"wandb\"><tr><td>Accuracy_mean</td><td>▁</td></tr><tr><td>Accuracy_std</td><td>▁</td></tr><tr><td>F1 Score_mean</td><td>▁</td></tr><tr><td>F1 Score_std</td><td>▁</td></tr><tr><td>Precision_mean</td><td>▁</td></tr><tr><td>Precision_std</td><td>▁</td></tr><tr><td>ROC-AUC_mean</td><td>▁</td></tr><tr><td>ROC-AUC_std</td><td>▁</td></tr><tr><td>Recall_mean</td><td>▁</td></tr><tr><td>Recall_std</td><td>▁</td></tr></table><br/></div><div class=\"wandb-col\"><h3>Run summary:</h3><br/><table class=\"wandb\"><tr><td>Accuracy_mean</td><td>0.89435</td></tr><tr><td>Accuracy_std</td><td>0.02945</td></tr><tr><td>F1 Score_mean</td><td>0.89345</td></tr><tr><td>F1 Score_std</td><td>0.02932</td></tr><tr><td>Precision_mean</td><td>0.89429</td></tr><tr><td>Precision_std</td><td>0.02976</td></tr><tr><td>ROC-AUC_mean</td><td>0.9299</td></tr><tr><td>ROC-AUC_std</td><td>0.01267</td></tr><tr><td>Recall_mean</td><td>0.89435</td></tr><tr><td>Recall_std</td><td>0.02945</td></tr></table><br/></div></div>"
      ],
      "text/plain": [
       "<IPython.core.display.HTML object>"
      ]
     },
     "metadata": {},
     "output_type": "display_data"
    },
    {
     "data": {
      "text/html": [
       " View run <strong style=\"color:#cdcd00\">DT_All Features</strong> at: <a href='https://wandb.ai/lequn/LW-DED_audio-classification/runs/kbpsdbg5' target=\"_blank\">https://wandb.ai/lequn/LW-DED_audio-classification/runs/kbpsdbg5</a><br/> View job at <a href='https://wandb.ai/lequn/LW-DED_audio-classification/jobs/QXJ0aWZhY3RDb2xsZWN0aW9uOjE2MTUxNDY2MA==/version_details/v2' target=\"_blank\">https://wandb.ai/lequn/LW-DED_audio-classification/jobs/QXJ0aWZhY3RDb2xsZWN0aW9uOjE2MTUxNDY2MA==/version_details/v2</a><br/>Synced 6 W&B file(s), 0 media file(s), 2 artifact file(s) and 0 other file(s)"
      ],
      "text/plain": [
       "<IPython.core.display.HTML object>"
      ]
     },
     "metadata": {},
     "output_type": "display_data"
    },
    {
     "data": {
      "text/html": [
       "Find logs at: <code>./wandb/run-20240411_150005-kbpsdbg5/logs</code>"
      ],
      "text/plain": [
       "<IPython.core.display.HTML object>"
      ]
     },
     "metadata": {},
     "output_type": "display_data"
    },
    {
     "name": "stdout",
     "output_type": "stream",
     "text": [
      "\tTraining model: LR\n"
     ]
    },
    {
     "data": {
      "application/vnd.jupyter.widget-view+json": {
       "model_id": "0f49b94d1c3847a58ec2ab9ebeaf49e2",
       "version_major": 2,
       "version_minor": 0
      },
      "text/plain": [
       "VBox(children=(Label(value='Waiting for wandb.init()...\\r'), FloatProgress(value=0.011113073433322521, max=1.0…"
      ]
     },
     "metadata": {},
     "output_type": "display_data"
    },
    {
     "data": {
      "text/html": [
       "wandb version 0.16.6 is available!  To upgrade, please run:\n",
       " $ pip install wandb --upgrade"
      ],
      "text/plain": [
       "<IPython.core.display.HTML object>"
      ]
     },
     "metadata": {},
     "output_type": "display_data"
    },
    {
     "data": {
      "text/html": [
       "Tracking run with wandb version 0.15.12"
      ],
      "text/plain": [
       "<IPython.core.display.HTML object>"
      ]
     },
     "metadata": {},
     "output_type": "display_data"
    },
    {
     "data": {
      "text/html": [
       "Run data is saved locally in <code>/home/chenlequn/GitHub/MultiSensor-Monitoring-LW-DED/Code/wandb/run-20240411_150018-hapdk3si</code>"
      ],
      "text/plain": [
       "<IPython.core.display.HTML object>"
      ]
     },
     "metadata": {},
     "output_type": "display_data"
    },
    {
     "data": {
      "text/html": [
       "Syncing run <strong><a href='https://wandb.ai/lequn/LW-DED_audio-classification/runs/hapdk3si' target=\"_blank\">LR_All Features</a></strong> to <a href='https://wandb.ai/lequn/LW-DED_audio-classification' target=\"_blank\">Weights & Biases</a> (<a href='https://wandb.me/run' target=\"_blank\">docs</a>)<br/>"
      ],
      "text/plain": [
       "<IPython.core.display.HTML object>"
      ]
     },
     "metadata": {},
     "output_type": "display_data"
    },
    {
     "data": {
      "text/html": [
       " View project at <a href='https://wandb.ai/lequn/LW-DED_audio-classification' target=\"_blank\">https://wandb.ai/lequn/LW-DED_audio-classification</a>"
      ],
      "text/plain": [
       "<IPython.core.display.HTML object>"
      ]
     },
     "metadata": {},
     "output_type": "display_data"
    },
    {
     "data": {
      "text/html": [
       " View run at <a href='https://wandb.ai/lequn/LW-DED_audio-classification/runs/hapdk3si' target=\"_blank\">https://wandb.ai/lequn/LW-DED_audio-classification/runs/hapdk3si</a>"
      ],
      "text/plain": [
       "<IPython.core.display.HTML object>"
      ]
     },
     "metadata": {},
     "output_type": "display_data"
    },
    {
     "name": "stdout",
     "output_type": "stream",
     "text": [
      "\t\tAccuracy: Mean = 0.9296371833404896, Std = 0.015041703783257523\n",
      "\t\tF1 Score: Mean = 0.9288391534220597, Std = 0.014204484479046434\n",
      "\t\tPrecision: Mean = 0.9320469650627414, Std = 0.013808665115899503\n",
      "\t\tRecall: Mean = 0.9296371833404896, Std = 0.015041703783257523\n",
      "\t\tROC-AUC: Mean = 0.987091189971036, Std = 0.0030820629801293067\n"
     ]
    },
    {
     "data": {
      "text/html": [
       "Waiting for W&B process to finish... <strong style=\"color:green\">(success).</strong>"
      ],
      "text/plain": [
       "<IPython.core.display.HTML object>"
      ]
     },
     "metadata": {},
     "output_type": "display_data"
    },
    {
     "data": {
      "text/html": [
       "<style>\n",
       "    table.wandb td:nth-child(1) { padding: 0 10px; text-align: left ; width: auto;} td:nth-child(2) {text-align: left ; width: 100%}\n",
       "    .wandb-row { display: flex; flex-direction: row; flex-wrap: wrap; justify-content: flex-start; width: 100% }\n",
       "    .wandb-col { display: flex; flex-direction: column; flex-basis: 100%; flex: 1; padding: 10px; }\n",
       "    </style>\n",
       "<div class=\"wandb-row\"><div class=\"wandb-col\"><h3>Run history:</h3><br/><table class=\"wandb\"><tr><td>Accuracy_mean</td><td>▁</td></tr><tr><td>Accuracy_std</td><td>▁</td></tr><tr><td>F1 Score_mean</td><td>▁</td></tr><tr><td>F1 Score_std</td><td>▁</td></tr><tr><td>Precision_mean</td><td>▁</td></tr><tr><td>Precision_std</td><td>▁</td></tr><tr><td>ROC-AUC_mean</td><td>▁</td></tr><tr><td>ROC-AUC_std</td><td>▁</td></tr><tr><td>Recall_mean</td><td>▁</td></tr><tr><td>Recall_std</td><td>▁</td></tr></table><br/></div><div class=\"wandb-col\"><h3>Run summary:</h3><br/><table class=\"wandb\"><tr><td>Accuracy_mean</td><td>0.92964</td></tr><tr><td>Accuracy_std</td><td>0.01504</td></tr><tr><td>F1 Score_mean</td><td>0.92884</td></tr><tr><td>F1 Score_std</td><td>0.0142</td></tr><tr><td>Precision_mean</td><td>0.93205</td></tr><tr><td>Precision_std</td><td>0.01381</td></tr><tr><td>ROC-AUC_mean</td><td>0.98709</td></tr><tr><td>ROC-AUC_std</td><td>0.00308</td></tr><tr><td>Recall_mean</td><td>0.92964</td></tr><tr><td>Recall_std</td><td>0.01504</td></tr></table><br/></div></div>"
      ],
      "text/plain": [
       "<IPython.core.display.HTML object>"
      ]
     },
     "metadata": {},
     "output_type": "display_data"
    },
    {
     "data": {
      "text/html": [
       " View run <strong style=\"color:#cdcd00\">LR_All Features</strong> at: <a href='https://wandb.ai/lequn/LW-DED_audio-classification/runs/hapdk3si' target=\"_blank\">https://wandb.ai/lequn/LW-DED_audio-classification/runs/hapdk3si</a><br/> View job at <a href='https://wandb.ai/lequn/LW-DED_audio-classification/jobs/QXJ0aWZhY3RDb2xsZWN0aW9uOjE2MTUxNDY2MA==/version_details/v3' target=\"_blank\">https://wandb.ai/lequn/LW-DED_audio-classification/jobs/QXJ0aWZhY3RDb2xsZWN0aW9uOjE2MTUxNDY2MA==/version_details/v3</a><br/>Synced 6 W&B file(s), 0 media file(s), 2 artifact file(s) and 0 other file(s)"
      ],
      "text/plain": [
       "<IPython.core.display.HTML object>"
      ]
     },
     "metadata": {},
     "output_type": "display_data"
    },
    {
     "data": {
      "text/html": [
       "Find logs at: <code>./wandb/run-20240411_150018-hapdk3si/logs</code>"
      ],
      "text/plain": [
       "<IPython.core.display.HTML object>"
      ]
     },
     "metadata": {},
     "output_type": "display_data"
    },
    {
     "name": "stdout",
     "output_type": "stream",
     "text": [
      "\tTraining model: RF\n"
     ]
    },
    {
     "data": {
      "application/vnd.jupyter.widget-view+json": {
       "model_id": "57c34ab4ae674350a66841f25bc6cf07",
       "version_major": 2,
       "version_minor": 0
      },
      "text/plain": [
       "VBox(children=(Label(value='Waiting for wandb.init()...\\r'), FloatProgress(value=0.011113925488866193, max=1.0…"
      ]
     },
     "metadata": {},
     "output_type": "display_data"
    },
    {
     "data": {
      "text/html": [
       "wandb version 0.16.6 is available!  To upgrade, please run:\n",
       " $ pip install wandb --upgrade"
      ],
      "text/plain": [
       "<IPython.core.display.HTML object>"
      ]
     },
     "metadata": {},
     "output_type": "display_data"
    },
    {
     "data": {
      "text/html": [
       "Tracking run with wandb version 0.15.12"
      ],
      "text/plain": [
       "<IPython.core.display.HTML object>"
      ]
     },
     "metadata": {},
     "output_type": "display_data"
    },
    {
     "data": {
      "text/html": [
       "Run data is saved locally in <code>/home/chenlequn/GitHub/MultiSensor-Monitoring-LW-DED/Code/wandb/run-20240411_150034-3vz435ei</code>"
      ],
      "text/plain": [
       "<IPython.core.display.HTML object>"
      ]
     },
     "metadata": {},
     "output_type": "display_data"
    },
    {
     "data": {
      "text/html": [
       "Syncing run <strong><a href='https://wandb.ai/lequn/LW-DED_audio-classification/runs/3vz435ei' target=\"_blank\">RF_All Features</a></strong> to <a href='https://wandb.ai/lequn/LW-DED_audio-classification' target=\"_blank\">Weights & Biases</a> (<a href='https://wandb.me/run' target=\"_blank\">docs</a>)<br/>"
      ],
      "text/plain": [
       "<IPython.core.display.HTML object>"
      ]
     },
     "metadata": {},
     "output_type": "display_data"
    },
    {
     "data": {
      "text/html": [
       " View project at <a href='https://wandb.ai/lequn/LW-DED_audio-classification' target=\"_blank\">https://wandb.ai/lequn/LW-DED_audio-classification</a>"
      ],
      "text/plain": [
       "<IPython.core.display.HTML object>"
      ]
     },
     "metadata": {},
     "output_type": "display_data"
    },
    {
     "data": {
      "text/html": [
       " View run at <a href='https://wandb.ai/lequn/LW-DED_audio-classification/runs/3vz435ei' target=\"_blank\">https://wandb.ai/lequn/LW-DED_audio-classification/runs/3vz435ei</a>"
      ],
      "text/plain": [
       "<IPython.core.display.HTML object>"
      ]
     },
     "metadata": {},
     "output_type": "display_data"
    },
    {
     "name": "stdout",
     "output_type": "stream",
     "text": [
      "\t\tAccuracy: Mean = 0.9339845427221982, Std = 0.01921644374196493\n",
      "\t\tF1 Score: Mean = 0.9332968499894447, Std = 0.019130551881297277\n",
      "\t\tPrecision: Mean = 0.9356085922927646, Std = 0.019108644257865726\n",
      "\t\tRecall: Mean = 0.9339845427221982, Std = 0.01921644374196493\n",
      "\t\tROC-AUC: Mean = 0.991173192798739, Std = 0.003520110539416214\n"
     ]
    },
    {
     "data": {
      "text/html": [
       "Waiting for W&B process to finish... <strong style=\"color:green\">(success).</strong>"
      ],
      "text/plain": [
       "<IPython.core.display.HTML object>"
      ]
     },
     "metadata": {},
     "output_type": "display_data"
    },
    {
     "data": {
      "text/html": [
       "<style>\n",
       "    table.wandb td:nth-child(1) { padding: 0 10px; text-align: left ; width: auto;} td:nth-child(2) {text-align: left ; width: 100%}\n",
       "    .wandb-row { display: flex; flex-direction: row; flex-wrap: wrap; justify-content: flex-start; width: 100% }\n",
       "    .wandb-col { display: flex; flex-direction: column; flex-basis: 100%; flex: 1; padding: 10px; }\n",
       "    </style>\n",
       "<div class=\"wandb-row\"><div class=\"wandb-col\"><h3>Run history:</h3><br/><table class=\"wandb\"><tr><td>Accuracy_mean</td><td>▁</td></tr><tr><td>Accuracy_std</td><td>▁</td></tr><tr><td>F1 Score_mean</td><td>▁</td></tr><tr><td>F1 Score_std</td><td>▁</td></tr><tr><td>Precision_mean</td><td>▁</td></tr><tr><td>Precision_std</td><td>▁</td></tr><tr><td>ROC-AUC_mean</td><td>▁</td></tr><tr><td>ROC-AUC_std</td><td>▁</td></tr><tr><td>Recall_mean</td><td>▁</td></tr><tr><td>Recall_std</td><td>▁</td></tr></table><br/></div><div class=\"wandb-col\"><h3>Run summary:</h3><br/><table class=\"wandb\"><tr><td>Accuracy_mean</td><td>0.93398</td></tr><tr><td>Accuracy_std</td><td>0.01922</td></tr><tr><td>F1 Score_mean</td><td>0.9333</td></tr><tr><td>F1 Score_std</td><td>0.01913</td></tr><tr><td>Precision_mean</td><td>0.93561</td></tr><tr><td>Precision_std</td><td>0.01911</td></tr><tr><td>ROC-AUC_mean</td><td>0.99117</td></tr><tr><td>ROC-AUC_std</td><td>0.00352</td></tr><tr><td>Recall_mean</td><td>0.93398</td></tr><tr><td>Recall_std</td><td>0.01922</td></tr></table><br/></div></div>"
      ],
      "text/plain": [
       "<IPython.core.display.HTML object>"
      ]
     },
     "metadata": {},
     "output_type": "display_data"
    },
    {
     "data": {
      "text/html": [
       " View run <strong style=\"color:#cdcd00\">RF_All Features</strong> at: <a href='https://wandb.ai/lequn/LW-DED_audio-classification/runs/3vz435ei' target=\"_blank\">https://wandb.ai/lequn/LW-DED_audio-classification/runs/3vz435ei</a><br/> View job at <a href='https://wandb.ai/lequn/LW-DED_audio-classification/jobs/QXJ0aWZhY3RDb2xsZWN0aW9uOjE2MTUxNDY2MA==/version_details/v4' target=\"_blank\">https://wandb.ai/lequn/LW-DED_audio-classification/jobs/QXJ0aWZhY3RDb2xsZWN0aW9uOjE2MTUxNDY2MA==/version_details/v4</a><br/>Synced 6 W&B file(s), 0 media file(s), 2 artifact file(s) and 0 other file(s)"
      ],
      "text/plain": [
       "<IPython.core.display.HTML object>"
      ]
     },
     "metadata": {},
     "output_type": "display_data"
    },
    {
     "data": {
      "text/html": [
       "Find logs at: <code>./wandb/run-20240411_150034-3vz435ei/logs</code>"
      ],
      "text/plain": [
       "<IPython.core.display.HTML object>"
      ]
     },
     "metadata": {},
     "output_type": "display_data"
    },
    {
     "name": "stdout",
     "output_type": "stream",
     "text": [
      "\tTraining model: BalancedRF\n"
     ]
    },
    {
     "data": {
      "application/vnd.jupyter.widget-view+json": {
       "model_id": "0d23519b9d11419ba284a92e2aa45bc0",
       "version_major": 2,
       "version_minor": 0
      },
      "text/plain": [
       "VBox(children=(Label(value='Waiting for wandb.init()...\\r'), FloatProgress(value=0.011112642677795116, max=1.0…"
      ]
     },
     "metadata": {},
     "output_type": "display_data"
    },
    {
     "data": {
      "text/html": [
       "wandb version 0.16.6 is available!  To upgrade, please run:\n",
       " $ pip install wandb --upgrade"
      ],
      "text/plain": [
       "<IPython.core.display.HTML object>"
      ]
     },
     "metadata": {},
     "output_type": "display_data"
    },
    {
     "data": {
      "text/html": [
       "Tracking run with wandb version 0.15.12"
      ],
      "text/plain": [
       "<IPython.core.display.HTML object>"
      ]
     },
     "metadata": {},
     "output_type": "display_data"
    },
    {
     "data": {
      "text/html": [
       "Run data is saved locally in <code>/home/chenlequn/GitHub/MultiSensor-Monitoring-LW-DED/Code/wandb/run-20240411_150057-20eex6iy</code>"
      ],
      "text/plain": [
       "<IPython.core.display.HTML object>"
      ]
     },
     "metadata": {},
     "output_type": "display_data"
    },
    {
     "data": {
      "text/html": [
       "Syncing run <strong><a href='https://wandb.ai/lequn/LW-DED_audio-classification/runs/20eex6iy' target=\"_blank\">BalancedRF_All Features</a></strong> to <a href='https://wandb.ai/lequn/LW-DED_audio-classification' target=\"_blank\">Weights & Biases</a> (<a href='https://wandb.me/run' target=\"_blank\">docs</a>)<br/>"
      ],
      "text/plain": [
       "<IPython.core.display.HTML object>"
      ]
     },
     "metadata": {},
     "output_type": "display_data"
    },
    {
     "data": {
      "text/html": [
       " View project at <a href='https://wandb.ai/lequn/LW-DED_audio-classification' target=\"_blank\">https://wandb.ai/lequn/LW-DED_audio-classification</a>"
      ],
      "text/plain": [
       "<IPython.core.display.HTML object>"
      ]
     },
     "metadata": {},
     "output_type": "display_data"
    },
    {
     "data": {
      "text/html": [
       " View run at <a href='https://wandb.ai/lequn/LW-DED_audio-classification/runs/20eex6iy' target=\"_blank\">https://wandb.ai/lequn/LW-DED_audio-classification/runs/20eex6iy</a>"
      ],
      "text/plain": [
       "<IPython.core.display.HTML object>"
      ]
     },
     "metadata": {},
     "output_type": "display_data"
    },
    {
     "name": "stderr",
     "output_type": "stream",
     "text": [
      "/home/chenlequn/anaconda3/envs/torch/lib/python3.9/site-packages/imblearn/ensemble/_forest.py:546: FutureWarning: The default of `sampling_strategy` will change from `'auto'` to `'all'` in version 0.13. This change will follow the implementation proposed in the original paper. Set to `'all'` to silence this warning and adopt the future behaviour.\n",
      "  warn(\n",
      "/home/chenlequn/anaconda3/envs/torch/lib/python3.9/site-packages/imblearn/ensemble/_forest.py:558: FutureWarning: The default of `replacement` will change from `False` to `True` in version 0.13. This change will follow the implementation proposed in the original paper. Set to `True` to silence this warning and adopt the future behaviour.\n",
      "  warn(\n"
     ]
    },
    {
     "name": "stdout",
     "output_type": "stream",
     "text": [
      "\t\tAccuracy: Mean = 0.9075998282524689, Std = 0.02006192823778179\n",
      "\t\tF1 Score: Mean = 0.9124001785768403, Std = 0.019065589788161422\n",
      "\t\tPrecision: Mean = 0.9238278312003392, Std = 0.016901857055027992\n",
      "\t\tRecall: Mean = 0.9075998282524689, Std = 0.02006192823778179\n",
      "\t\tROC-AUC: Mean = 0.9876674282092865, Std = 0.003456331139127593\n"
     ]
    },
    {
     "data": {
      "text/html": [
       "Waiting for W&B process to finish... <strong style=\"color:green\">(success).</strong>"
      ],
      "text/plain": [
       "<IPython.core.display.HTML object>"
      ]
     },
     "metadata": {},
     "output_type": "display_data"
    },
    {
     "data": {
      "text/html": [
       "<style>\n",
       "    table.wandb td:nth-child(1) { padding: 0 10px; text-align: left ; width: auto;} td:nth-child(2) {text-align: left ; width: 100%}\n",
       "    .wandb-row { display: flex; flex-direction: row; flex-wrap: wrap; justify-content: flex-start; width: 100% }\n",
       "    .wandb-col { display: flex; flex-direction: column; flex-basis: 100%; flex: 1; padding: 10px; }\n",
       "    </style>\n",
       "<div class=\"wandb-row\"><div class=\"wandb-col\"><h3>Run history:</h3><br/><table class=\"wandb\"><tr><td>Accuracy_mean</td><td>▁</td></tr><tr><td>Accuracy_std</td><td>▁</td></tr><tr><td>F1 Score_mean</td><td>▁</td></tr><tr><td>F1 Score_std</td><td>▁</td></tr><tr><td>Precision_mean</td><td>▁</td></tr><tr><td>Precision_std</td><td>▁</td></tr><tr><td>ROC-AUC_mean</td><td>▁</td></tr><tr><td>ROC-AUC_std</td><td>▁</td></tr><tr><td>Recall_mean</td><td>▁</td></tr><tr><td>Recall_std</td><td>▁</td></tr></table><br/></div><div class=\"wandb-col\"><h3>Run summary:</h3><br/><table class=\"wandb\"><tr><td>Accuracy_mean</td><td>0.9076</td></tr><tr><td>Accuracy_std</td><td>0.02006</td></tr><tr><td>F1 Score_mean</td><td>0.9124</td></tr><tr><td>F1 Score_std</td><td>0.01907</td></tr><tr><td>Precision_mean</td><td>0.92383</td></tr><tr><td>Precision_std</td><td>0.0169</td></tr><tr><td>ROC-AUC_mean</td><td>0.98767</td></tr><tr><td>ROC-AUC_std</td><td>0.00346</td></tr><tr><td>Recall_mean</td><td>0.9076</td></tr><tr><td>Recall_std</td><td>0.02006</td></tr></table><br/></div></div>"
      ],
      "text/plain": [
       "<IPython.core.display.HTML object>"
      ]
     },
     "metadata": {},
     "output_type": "display_data"
    },
    {
     "data": {
      "text/html": [
       " View run <strong style=\"color:#cdcd00\">BalancedRF_All Features</strong> at: <a href='https://wandb.ai/lequn/LW-DED_audio-classification/runs/20eex6iy' target=\"_blank\">https://wandb.ai/lequn/LW-DED_audio-classification/runs/20eex6iy</a><br/> View job at <a href='https://wandb.ai/lequn/LW-DED_audio-classification/jobs/QXJ0aWZhY3RDb2xsZWN0aW9uOjE2MTUxNDY2MA==/version_details/v4' target=\"_blank\">https://wandb.ai/lequn/LW-DED_audio-classification/jobs/QXJ0aWZhY3RDb2xsZWN0aW9uOjE2MTUxNDY2MA==/version_details/v4</a><br/>Synced 6 W&B file(s), 0 media file(s), 0 artifact file(s) and 0 other file(s)"
      ],
      "text/plain": [
       "<IPython.core.display.HTML object>"
      ]
     },
     "metadata": {},
     "output_type": "display_data"
    },
    {
     "data": {
      "text/html": [
       "Find logs at: <code>./wandb/run-20240411_150057-20eex6iy/logs</code>"
      ],
      "text/plain": [
       "<IPython.core.display.HTML object>"
      ]
     },
     "metadata": {},
     "output_type": "display_data"
    },
    {
     "name": "stdout",
     "output_type": "stream",
     "text": [
      "\tTraining model: RUSBoost\n"
     ]
    },
    {
     "data": {
      "application/vnd.jupyter.widget-view+json": {
       "model_id": "b9d7773db62d459bac1618ad39c774b8",
       "version_major": 2,
       "version_minor": 0
      },
      "text/plain": [
       "VBox(children=(Label(value='Waiting for wandb.init()...\\r'), FloatProgress(value=0.01111308081110312, max=1.0)…"
      ]
     },
     "metadata": {},
     "output_type": "display_data"
    },
    {
     "data": {
      "text/html": [
       "wandb version 0.16.6 is available!  To upgrade, please run:\n",
       " $ pip install wandb --upgrade"
      ],
      "text/plain": [
       "<IPython.core.display.HTML object>"
      ]
     },
     "metadata": {},
     "output_type": "display_data"
    },
    {
     "data": {
      "text/html": [
       "Tracking run with wandb version 0.15.12"
      ],
      "text/plain": [
       "<IPython.core.display.HTML object>"
      ]
     },
     "metadata": {},
     "output_type": "display_data"
    },
    {
     "data": {
      "text/html": [
       "Run data is saved locally in <code>/home/chenlequn/GitHub/MultiSensor-Monitoring-LW-DED/Code/wandb/run-20240411_150112-0w4fbgbk</code>"
      ],
      "text/plain": [
       "<IPython.core.display.HTML object>"
      ]
     },
     "metadata": {},
     "output_type": "display_data"
    },
    {
     "data": {
      "text/html": [
       "Syncing run <strong><a href='https://wandb.ai/lequn/LW-DED_audio-classification/runs/0w4fbgbk' target=\"_blank\">RUSBoost_All Features</a></strong> to <a href='https://wandb.ai/lequn/LW-DED_audio-classification' target=\"_blank\">Weights & Biases</a> (<a href='https://wandb.me/run' target=\"_blank\">docs</a>)<br/>"
      ],
      "text/plain": [
       "<IPython.core.display.HTML object>"
      ]
     },
     "metadata": {},
     "output_type": "display_data"
    },
    {
     "data": {
      "text/html": [
       " View project at <a href='https://wandb.ai/lequn/LW-DED_audio-classification' target=\"_blank\">https://wandb.ai/lequn/LW-DED_audio-classification</a>"
      ],
      "text/plain": [
       "<IPython.core.display.HTML object>"
      ]
     },
     "metadata": {},
     "output_type": "display_data"
    },
    {
     "data": {
      "text/html": [
       " View run at <a href='https://wandb.ai/lequn/LW-DED_audio-classification/runs/0w4fbgbk' target=\"_blank\">https://wandb.ai/lequn/LW-DED_audio-classification/runs/0w4fbgbk</a>"
      ],
      "text/plain": [
       "<IPython.core.display.HTML object>"
      ]
     },
     "metadata": {},
     "output_type": "display_data"
    },
    {
     "name": "stdout",
     "output_type": "stream",
     "text": [
      "\t\tAccuracy: Mean = 0.8855732073851439, Std = 0.02179644239960446\n",
      "\t\tF1 Score: Mean = 0.8939129262253467, Std = 0.02003796174026735\n",
      "\t\tPrecision: Mean = 0.9122714518578077, Std = 0.019879077682774783\n",
      "\t\tRecall: Mean = 0.8855732073851439, Std = 0.02179644239960446\n",
      "\t\tROC-AUC: Mean = 0.9784215692418321, Std = 0.0059447979454589385\n"
     ]
    },
    {
     "data": {
      "text/html": [
       "Waiting for W&B process to finish... <strong style=\"color:green\">(success).</strong>"
      ],
      "text/plain": [
       "<IPython.core.display.HTML object>"
      ]
     },
     "metadata": {},
     "output_type": "display_data"
    },
    {
     "data": {
      "text/html": [
       "<style>\n",
       "    table.wandb td:nth-child(1) { padding: 0 10px; text-align: left ; width: auto;} td:nth-child(2) {text-align: left ; width: 100%}\n",
       "    .wandb-row { display: flex; flex-direction: row; flex-wrap: wrap; justify-content: flex-start; width: 100% }\n",
       "    .wandb-col { display: flex; flex-direction: column; flex-basis: 100%; flex: 1; padding: 10px; }\n",
       "    </style>\n",
       "<div class=\"wandb-row\"><div class=\"wandb-col\"><h3>Run history:</h3><br/><table class=\"wandb\"><tr><td>Accuracy_mean</td><td>▁</td></tr><tr><td>Accuracy_std</td><td>▁</td></tr><tr><td>F1 Score_mean</td><td>▁</td></tr><tr><td>F1 Score_std</td><td>▁</td></tr><tr><td>Precision_mean</td><td>▁</td></tr><tr><td>Precision_std</td><td>▁</td></tr><tr><td>ROC-AUC_mean</td><td>▁</td></tr><tr><td>ROC-AUC_std</td><td>▁</td></tr><tr><td>Recall_mean</td><td>▁</td></tr><tr><td>Recall_std</td><td>▁</td></tr></table><br/></div><div class=\"wandb-col\"><h3>Run summary:</h3><br/><table class=\"wandb\"><tr><td>Accuracy_mean</td><td>0.88557</td></tr><tr><td>Accuracy_std</td><td>0.0218</td></tr><tr><td>F1 Score_mean</td><td>0.89391</td></tr><tr><td>F1 Score_std</td><td>0.02004</td></tr><tr><td>Precision_mean</td><td>0.91227</td></tr><tr><td>Precision_std</td><td>0.01988</td></tr><tr><td>ROC-AUC_mean</td><td>0.97842</td></tr><tr><td>ROC-AUC_std</td><td>0.00594</td></tr><tr><td>Recall_mean</td><td>0.88557</td></tr><tr><td>Recall_std</td><td>0.0218</td></tr></table><br/></div></div>"
      ],
      "text/plain": [
       "<IPython.core.display.HTML object>"
      ]
     },
     "metadata": {},
     "output_type": "display_data"
    },
    {
     "data": {
      "text/html": [
       " View run <strong style=\"color:#cdcd00\">RUSBoost_All Features</strong> at: <a href='https://wandb.ai/lequn/LW-DED_audio-classification/runs/0w4fbgbk' target=\"_blank\">https://wandb.ai/lequn/LW-DED_audio-classification/runs/0w4fbgbk</a><br/> View job at <a href='https://wandb.ai/lequn/LW-DED_audio-classification/jobs/QXJ0aWZhY3RDb2xsZWN0aW9uOjE2MTUxNDY2MA==/version_details/v5' target=\"_blank\">https://wandb.ai/lequn/LW-DED_audio-classification/jobs/QXJ0aWZhY3RDb2xsZWN0aW9uOjE2MTUxNDY2MA==/version_details/v5</a><br/>Synced 6 W&B file(s), 0 media file(s), 2 artifact file(s) and 0 other file(s)"
      ],
      "text/plain": [
       "<IPython.core.display.HTML object>"
      ]
     },
     "metadata": {},
     "output_type": "display_data"
    },
    {
     "data": {
      "text/html": [
       "Find logs at: <code>./wandb/run-20240411_150112-0w4fbgbk/logs</code>"
      ],
      "text/plain": [
       "<IPython.core.display.HTML object>"
      ]
     },
     "metadata": {},
     "output_type": "display_data"
    },
    {
     "name": "stdout",
     "output_type": "stream",
     "text": [
      "\tTraining model: Ada\n"
     ]
    },
    {
     "data": {
      "application/vnd.jupyter.widget-view+json": {
       "model_id": "f7351d336aa845278b4de6a525d2482a",
       "version_major": 2,
       "version_minor": 0
      },
      "text/plain": [
       "VBox(children=(Label(value='Waiting for wandb.init()...\\r'), FloatProgress(value=0.011113715288876039, max=1.0…"
      ]
     },
     "metadata": {},
     "output_type": "display_data"
    },
    {
     "data": {
      "text/html": [
       "wandb version 0.16.6 is available!  To upgrade, please run:\n",
       " $ pip install wandb --upgrade"
      ],
      "text/plain": [
       "<IPython.core.display.HTML object>"
      ]
     },
     "metadata": {},
     "output_type": "display_data"
    },
    {
     "data": {
      "text/html": [
       "Tracking run with wandb version 0.15.12"
      ],
      "text/plain": [
       "<IPython.core.display.HTML object>"
      ]
     },
     "metadata": {},
     "output_type": "display_data"
    },
    {
     "data": {
      "text/html": [
       "Run data is saved locally in <code>/home/chenlequn/GitHub/MultiSensor-Monitoring-LW-DED/Code/wandb/run-20240411_150127-0uzrza79</code>"
      ],
      "text/plain": [
       "<IPython.core.display.HTML object>"
      ]
     },
     "metadata": {},
     "output_type": "display_data"
    },
    {
     "data": {
      "text/html": [
       "Syncing run <strong><a href='https://wandb.ai/lequn/LW-DED_audio-classification/runs/0uzrza79' target=\"_blank\">Ada_All Features</a></strong> to <a href='https://wandb.ai/lequn/LW-DED_audio-classification' target=\"_blank\">Weights & Biases</a> (<a href='https://wandb.me/run' target=\"_blank\">docs</a>)<br/>"
      ],
      "text/plain": [
       "<IPython.core.display.HTML object>"
      ]
     },
     "metadata": {},
     "output_type": "display_data"
    },
    {
     "data": {
      "text/html": [
       " View project at <a href='https://wandb.ai/lequn/LW-DED_audio-classification' target=\"_blank\">https://wandb.ai/lequn/LW-DED_audio-classification</a>"
      ],
      "text/plain": [
       "<IPython.core.display.HTML object>"
      ]
     },
     "metadata": {},
     "output_type": "display_data"
    },
    {
     "data": {
      "text/html": [
       " View run at <a href='https://wandb.ai/lequn/LW-DED_audio-classification/runs/0uzrza79' target=\"_blank\">https://wandb.ai/lequn/LW-DED_audio-classification/runs/0uzrza79</a>"
      ],
      "text/plain": [
       "<IPython.core.display.HTML object>"
      ]
     },
     "metadata": {},
     "output_type": "display_data"
    },
    {
     "name": "stdout",
     "output_type": "stream",
     "text": [
      "\t\tAccuracy: Mean = 0.9208029197080292, Std = 0.019942107894351226\n",
      "\t\tF1 Score: Mean = 0.9178522521405281, Std = 0.021314231376305285\n",
      "\t\tPrecision: Mean = 0.9231632086552791, Std = 0.016170186100499435\n",
      "\t\tRecall: Mean = 0.9208029197080292, Std = 0.019942107894351226\n",
      "\t\tROC-AUC: Mean = 0.9790012297762974, Std = 0.005148539248514478\n"
     ]
    },
    {
     "data": {
      "text/html": [
       "Waiting for W&B process to finish... <strong style=\"color:green\">(success).</strong>"
      ],
      "text/plain": [
       "<IPython.core.display.HTML object>"
      ]
     },
     "metadata": {},
     "output_type": "display_data"
    },
    {
     "data": {
      "text/html": [
       "<style>\n",
       "    table.wandb td:nth-child(1) { padding: 0 10px; text-align: left ; width: auto;} td:nth-child(2) {text-align: left ; width: 100%}\n",
       "    .wandb-row { display: flex; flex-direction: row; flex-wrap: wrap; justify-content: flex-start; width: 100% }\n",
       "    .wandb-col { display: flex; flex-direction: column; flex-basis: 100%; flex: 1; padding: 10px; }\n",
       "    </style>\n",
       "<div class=\"wandb-row\"><div class=\"wandb-col\"><h3>Run history:</h3><br/><table class=\"wandb\"><tr><td>Accuracy_mean</td><td>▁</td></tr><tr><td>Accuracy_std</td><td>▁</td></tr><tr><td>F1 Score_mean</td><td>▁</td></tr><tr><td>F1 Score_std</td><td>▁</td></tr><tr><td>Precision_mean</td><td>▁</td></tr><tr><td>Precision_std</td><td>▁</td></tr><tr><td>ROC-AUC_mean</td><td>▁</td></tr><tr><td>ROC-AUC_std</td><td>▁</td></tr><tr><td>Recall_mean</td><td>▁</td></tr><tr><td>Recall_std</td><td>▁</td></tr></table><br/></div><div class=\"wandb-col\"><h3>Run summary:</h3><br/><table class=\"wandb\"><tr><td>Accuracy_mean</td><td>0.9208</td></tr><tr><td>Accuracy_std</td><td>0.01994</td></tr><tr><td>F1 Score_mean</td><td>0.91785</td></tr><tr><td>F1 Score_std</td><td>0.02131</td></tr><tr><td>Precision_mean</td><td>0.92316</td></tr><tr><td>Precision_std</td><td>0.01617</td></tr><tr><td>ROC-AUC_mean</td><td>0.979</td></tr><tr><td>ROC-AUC_std</td><td>0.00515</td></tr><tr><td>Recall_mean</td><td>0.9208</td></tr><tr><td>Recall_std</td><td>0.01994</td></tr></table><br/></div></div>"
      ],
      "text/plain": [
       "<IPython.core.display.HTML object>"
      ]
     },
     "metadata": {},
     "output_type": "display_data"
    },
    {
     "data": {
      "text/html": [
       " View run <strong style=\"color:#cdcd00\">Ada_All Features</strong> at: <a href='https://wandb.ai/lequn/LW-DED_audio-classification/runs/0uzrza79' target=\"_blank\">https://wandb.ai/lequn/LW-DED_audio-classification/runs/0uzrza79</a><br/> View job at <a href='https://wandb.ai/lequn/LW-DED_audio-classification/jobs/QXJ0aWZhY3RDb2xsZWN0aW9uOjE2MTUxNDY2MA==/version_details/v6' target=\"_blank\">https://wandb.ai/lequn/LW-DED_audio-classification/jobs/QXJ0aWZhY3RDb2xsZWN0aW9uOjE2MTUxNDY2MA==/version_details/v6</a><br/>Synced 6 W&B file(s), 0 media file(s), 2 artifact file(s) and 0 other file(s)"
      ],
      "text/plain": [
       "<IPython.core.display.HTML object>"
      ]
     },
     "metadata": {},
     "output_type": "display_data"
    },
    {
     "data": {
      "text/html": [
       "Find logs at: <code>./wandb/run-20240411_150127-0uzrza79/logs</code>"
      ],
      "text/plain": [
       "<IPython.core.display.HTML object>"
      ]
     },
     "metadata": {},
     "output_type": "display_data"
    },
    {
     "name": "stdout",
     "output_type": "stream",
     "text": [
      "\tTraining model: NN\n"
     ]
    },
    {
     "data": {
      "application/vnd.jupyter.widget-view+json": {
       "model_id": "bdc5f6a0862445e5999c86aa4b120382",
       "version_major": 2,
       "version_minor": 0
      },
      "text/plain": [
       "VBox(children=(Label(value='Waiting for wandb.init()...\\r'), FloatProgress(value=0.011113723333336465, max=1.0…"
      ]
     },
     "metadata": {},
     "output_type": "display_data"
    },
    {
     "data": {
      "text/html": [
       "wandb version 0.16.6 is available!  To upgrade, please run:\n",
       " $ pip install wandb --upgrade"
      ],
      "text/plain": [
       "<IPython.core.display.HTML object>"
      ]
     },
     "metadata": {},
     "output_type": "display_data"
    },
    {
     "data": {
      "text/html": [
       "Tracking run with wandb version 0.15.12"
      ],
      "text/plain": [
       "<IPython.core.display.HTML object>"
      ]
     },
     "metadata": {},
     "output_type": "display_data"
    },
    {
     "data": {
      "text/html": [
       "Run data is saved locally in <code>/home/chenlequn/GitHub/MultiSensor-Monitoring-LW-DED/Code/wandb/run-20240411_150150-zughodtw</code>"
      ],
      "text/plain": [
       "<IPython.core.display.HTML object>"
      ]
     },
     "metadata": {},
     "output_type": "display_data"
    },
    {
     "data": {
      "text/html": [
       "Syncing run <strong><a href='https://wandb.ai/lequn/LW-DED_audio-classification/runs/zughodtw' target=\"_blank\">NN_All Features</a></strong> to <a href='https://wandb.ai/lequn/LW-DED_audio-classification' target=\"_blank\">Weights & Biases</a> (<a href='https://wandb.me/run' target=\"_blank\">docs</a>)<br/>"
      ],
      "text/plain": [
       "<IPython.core.display.HTML object>"
      ]
     },
     "metadata": {},
     "output_type": "display_data"
    },
    {
     "data": {
      "text/html": [
       " View project at <a href='https://wandb.ai/lequn/LW-DED_audio-classification' target=\"_blank\">https://wandb.ai/lequn/LW-DED_audio-classification</a>"
      ],
      "text/plain": [
       "<IPython.core.display.HTML object>"
      ]
     },
     "metadata": {},
     "output_type": "display_data"
    },
    {
     "data": {
      "text/html": [
       " View run at <a href='https://wandb.ai/lequn/LW-DED_audio-classification/runs/zughodtw' target=\"_blank\">https://wandb.ai/lequn/LW-DED_audio-classification/runs/zughodtw</a>"
      ],
      "text/plain": [
       "<IPython.core.display.HTML object>"
      ]
     },
     "metadata": {},
     "output_type": "display_data"
    },
    {
     "name": "stdout",
     "output_type": "stream",
     "text": [
      "\t\tAccuracy: Mean = 0.9222949763847144, Std = 0.01702883212749272\n",
      "\t\tF1 Score: Mean = 0.9234179768830215, Std = 0.016543602180797153\n",
      "\t\tPrecision: Mean = 0.9279701347448974, Std = 0.017422877895398207\n",
      "\t\tRecall: Mean = 0.9222949763847144, Std = 0.01702883212749272\n",
      "\t\tROC-AUC: Mean = 0.9882545172140365, Std = 0.0032514648430359426\n"
     ]
    },
    {
     "data": {
      "text/html": [
       "Waiting for W&B process to finish... <strong style=\"color:green\">(success).</strong>"
      ],
      "text/plain": [
       "<IPython.core.display.HTML object>"
      ]
     },
     "metadata": {},
     "output_type": "display_data"
    },
    {
     "data": {
      "text/html": [
       "<style>\n",
       "    table.wandb td:nth-child(1) { padding: 0 10px; text-align: left ; width: auto;} td:nth-child(2) {text-align: left ; width: 100%}\n",
       "    .wandb-row { display: flex; flex-direction: row; flex-wrap: wrap; justify-content: flex-start; width: 100% }\n",
       "    .wandb-col { display: flex; flex-direction: column; flex-basis: 100%; flex: 1; padding: 10px; }\n",
       "    </style>\n",
       "<div class=\"wandb-row\"><div class=\"wandb-col\"><h3>Run history:</h3><br/><table class=\"wandb\"><tr><td>Accuracy_mean</td><td>▁</td></tr><tr><td>Accuracy_std</td><td>▁</td></tr><tr><td>F1 Score_mean</td><td>▁</td></tr><tr><td>F1 Score_std</td><td>▁</td></tr><tr><td>Precision_mean</td><td>▁</td></tr><tr><td>Precision_std</td><td>▁</td></tr><tr><td>ROC-AUC_mean</td><td>▁</td></tr><tr><td>ROC-AUC_std</td><td>▁</td></tr><tr><td>Recall_mean</td><td>▁</td></tr><tr><td>Recall_std</td><td>▁</td></tr></table><br/></div><div class=\"wandb-col\"><h3>Run summary:</h3><br/><table class=\"wandb\"><tr><td>Accuracy_mean</td><td>0.92229</td></tr><tr><td>Accuracy_std</td><td>0.01703</td></tr><tr><td>F1 Score_mean</td><td>0.92342</td></tr><tr><td>F1 Score_std</td><td>0.01654</td></tr><tr><td>Precision_mean</td><td>0.92797</td></tr><tr><td>Precision_std</td><td>0.01742</td></tr><tr><td>ROC-AUC_mean</td><td>0.98825</td></tr><tr><td>ROC-AUC_std</td><td>0.00325</td></tr><tr><td>Recall_mean</td><td>0.92229</td></tr><tr><td>Recall_std</td><td>0.01703</td></tr></table><br/></div></div>"
      ],
      "text/plain": [
       "<IPython.core.display.HTML object>"
      ]
     },
     "metadata": {},
     "output_type": "display_data"
    },
    {
     "data": {
      "text/html": [
       " View run <strong style=\"color:#cdcd00\">NN_All Features</strong> at: <a href='https://wandb.ai/lequn/LW-DED_audio-classification/runs/zughodtw' target=\"_blank\">https://wandb.ai/lequn/LW-DED_audio-classification/runs/zughodtw</a><br/> View job at <a href='https://wandb.ai/lequn/LW-DED_audio-classification/jobs/QXJ0aWZhY3RDb2xsZWN0aW9uOjE2MTUxNDY2MA==/version_details/v7' target=\"_blank\">https://wandb.ai/lequn/LW-DED_audio-classification/jobs/QXJ0aWZhY3RDb2xsZWN0aW9uOjE2MTUxNDY2MA==/version_details/v7</a><br/>Synced 6 W&B file(s), 0 media file(s), 2 artifact file(s) and 0 other file(s)"
      ],
      "text/plain": [
       "<IPython.core.display.HTML object>"
      ]
     },
     "metadata": {},
     "output_type": "display_data"
    },
    {
     "data": {
      "text/html": [
       "Find logs at: <code>./wandb/run-20240411_150150-zughodtw/logs</code>"
      ],
      "text/plain": [
       "<IPython.core.display.HTML object>"
      ]
     },
     "metadata": {},
     "output_type": "display_data"
    },
    {
     "name": "stdout",
     "output_type": "stream",
     "text": [
      "\tTraining model: XGBoost\n"
     ]
    },
    {
     "data": {
      "application/vnd.jupyter.widget-view+json": {
       "model_id": "99cb417d054b4096a7be4649e782ca03",
       "version_major": 2,
       "version_minor": 0
      },
      "text/plain": [
       "VBox(children=(Label(value='Waiting for wandb.init()...\\r'), FloatProgress(value=0.011112500466656962, max=1.0…"
      ]
     },
     "metadata": {},
     "output_type": "display_data"
    },
    {
     "data": {
      "text/html": [
       "wandb version 0.16.6 is available!  To upgrade, please run:\n",
       " $ pip install wandb --upgrade"
      ],
      "text/plain": [
       "<IPython.core.display.HTML object>"
      ]
     },
     "metadata": {},
     "output_type": "display_data"
    },
    {
     "data": {
      "text/html": [
       "Tracking run with wandb version 0.15.12"
      ],
      "text/plain": [
       "<IPython.core.display.HTML object>"
      ]
     },
     "metadata": {},
     "output_type": "display_data"
    },
    {
     "data": {
      "text/html": [
       "Run data is saved locally in <code>/home/chenlequn/GitHub/MultiSensor-Monitoring-LW-DED/Code/wandb/run-20240411_150206-axnarx9x</code>"
      ],
      "text/plain": [
       "<IPython.core.display.HTML object>"
      ]
     },
     "metadata": {},
     "output_type": "display_data"
    },
    {
     "data": {
      "text/html": [
       "Syncing run <strong><a href='https://wandb.ai/lequn/LW-DED_audio-classification/runs/axnarx9x' target=\"_blank\">XGBoost_All Features</a></strong> to <a href='https://wandb.ai/lequn/LW-DED_audio-classification' target=\"_blank\">Weights & Biases</a> (<a href='https://wandb.me/run' target=\"_blank\">docs</a>)<br/>"
      ],
      "text/plain": [
       "<IPython.core.display.HTML object>"
      ]
     },
     "metadata": {},
     "output_type": "display_data"
    },
    {
     "data": {
      "text/html": [
       " View project at <a href='https://wandb.ai/lequn/LW-DED_audio-classification' target=\"_blank\">https://wandb.ai/lequn/LW-DED_audio-classification</a>"
      ],
      "text/plain": [
       "<IPython.core.display.HTML object>"
      ]
     },
     "metadata": {},
     "output_type": "display_data"
    },
    {
     "data": {
      "text/html": [
       " View run at <a href='https://wandb.ai/lequn/LW-DED_audio-classification/runs/axnarx9x' target=\"_blank\">https://wandb.ai/lequn/LW-DED_audio-classification/runs/axnarx9x</a>"
      ],
      "text/plain": [
       "<IPython.core.display.HTML object>"
      ]
     },
     "metadata": {},
     "output_type": "display_data"
    },
    {
     "name": "stdout",
     "output_type": "stream",
     "text": [
      "[15:02:10] WARNING: ../src/learner.cc:339: No visible GPU is found, setting `gpu_id` to -1\n",
      "\t\tAccuracy: Mean = 0.9310648346930014, Std = 0.019570624578095493\n",
      "\t\tF1 Score: Mean = 0.9283756048266278, Std = 0.019314334977401145\n",
      "\t\tPrecision: Mean = 0.9314514408378572, Std = 0.01895879277205857\n",
      "\t\tRecall: Mean = 0.9310648346930014, Std = 0.019570624578095493\n",
      "\t\tROC-AUC: Mean = 0.9911727859498962, Std = 0.002120391754141269\n"
     ]
    },
    {
     "data": {
      "text/html": [
       "Waiting for W&B process to finish... <strong style=\"color:green\">(success).</strong>"
      ],
      "text/plain": [
       "<IPython.core.display.HTML object>"
      ]
     },
     "metadata": {},
     "output_type": "display_data"
    },
    {
     "data": {
      "application/vnd.jupyter.widget-view+json": {
       "model_id": "21ebd811b2f541af97d3b93ba670dd19",
       "version_major": 2,
       "version_minor": 0
      },
      "text/plain": [
       "VBox(children=(Label(value='0.004 MB of 0.004 MB uploaded (0.000 MB deduped)\\r'), FloatProgress(value=1.0, max…"
      ]
     },
     "metadata": {},
     "output_type": "display_data"
    },
    {
     "data": {
      "text/html": [
       "<style>\n",
       "    table.wandb td:nth-child(1) { padding: 0 10px; text-align: left ; width: auto;} td:nth-child(2) {text-align: left ; width: 100%}\n",
       "    .wandb-row { display: flex; flex-direction: row; flex-wrap: wrap; justify-content: flex-start; width: 100% }\n",
       "    .wandb-col { display: flex; flex-direction: column; flex-basis: 100%; flex: 1; padding: 10px; }\n",
       "    </style>\n",
       "<div class=\"wandb-row\"><div class=\"wandb-col\"><h3>Run history:</h3><br/><table class=\"wandb\"><tr><td>Accuracy_mean</td><td>▁</td></tr><tr><td>Accuracy_std</td><td>▁</td></tr><tr><td>F1 Score_mean</td><td>▁</td></tr><tr><td>F1 Score_std</td><td>▁</td></tr><tr><td>Precision_mean</td><td>▁</td></tr><tr><td>Precision_std</td><td>▁</td></tr><tr><td>ROC-AUC_mean</td><td>▁</td></tr><tr><td>ROC-AUC_std</td><td>▁</td></tr><tr><td>Recall_mean</td><td>▁</td></tr><tr><td>Recall_std</td><td>▁</td></tr></table><br/></div><div class=\"wandb-col\"><h3>Run summary:</h3><br/><table class=\"wandb\"><tr><td>Accuracy_mean</td><td>0.93106</td></tr><tr><td>Accuracy_std</td><td>0.01957</td></tr><tr><td>F1 Score_mean</td><td>0.92838</td></tr><tr><td>F1 Score_std</td><td>0.01931</td></tr><tr><td>Precision_mean</td><td>0.93145</td></tr><tr><td>Precision_std</td><td>0.01896</td></tr><tr><td>ROC-AUC_mean</td><td>0.99117</td></tr><tr><td>ROC-AUC_std</td><td>0.00212</td></tr><tr><td>Recall_mean</td><td>0.93106</td></tr><tr><td>Recall_std</td><td>0.01957</td></tr></table><br/></div></div>"
      ],
      "text/plain": [
       "<IPython.core.display.HTML object>"
      ]
     },
     "metadata": {},
     "output_type": "display_data"
    },
    {
     "data": {
      "text/html": [
       " View run <strong style=\"color:#cdcd00\">XGBoost_All Features</strong> at: <a href='https://wandb.ai/lequn/LW-DED_audio-classification/runs/axnarx9x' target=\"_blank\">https://wandb.ai/lequn/LW-DED_audio-classification/runs/axnarx9x</a><br/> View job at <a href='https://wandb.ai/lequn/LW-DED_audio-classification/jobs/QXJ0aWZhY3RDb2xsZWN0aW9uOjE2MTUxNDY2MA==/version_details/v8' target=\"_blank\">https://wandb.ai/lequn/LW-DED_audio-classification/jobs/QXJ0aWZhY3RDb2xsZWN0aW9uOjE2MTUxNDY2MA==/version_details/v8</a><br/>Synced 6 W&B file(s), 0 media file(s), 2 artifact file(s) and 0 other file(s)"
      ],
      "text/plain": [
       "<IPython.core.display.HTML object>"
      ]
     },
     "metadata": {},
     "output_type": "display_data"
    },
    {
     "data": {
      "text/html": [
       "Find logs at: <code>./wandb/run-20240411_150206-axnarx9x/logs</code>"
      ],
      "text/plain": [
       "<IPython.core.display.HTML object>"
      ]
     },
     "metadata": {},
     "output_type": "display_data"
    },
    {
     "name": "stdout",
     "output_type": "stream",
     "text": [
      "\tTraining model: LightGBM\n"
     ]
    },
    {
     "data": {
      "application/vnd.jupyter.widget-view+json": {
       "model_id": "5af7e3fe8ee449bdaeffa32eb08b65cd",
       "version_major": 2,
       "version_minor": 0
      },
      "text/plain": [
       "VBox(children=(Label(value='Waiting for wandb.init()...\\r'), FloatProgress(value=0.011112383466671519, max=1.0…"
      ]
     },
     "metadata": {},
     "output_type": "display_data"
    },
    {
     "data": {
      "text/html": [
       "wandb version 0.16.6 is available!  To upgrade, please run:\n",
       " $ pip install wandb --upgrade"
      ],
      "text/plain": [
       "<IPython.core.display.HTML object>"
      ]
     },
     "metadata": {},
     "output_type": "display_data"
    },
    {
     "data": {
      "text/html": [
       "Tracking run with wandb version 0.15.12"
      ],
      "text/plain": [
       "<IPython.core.display.HTML object>"
      ]
     },
     "metadata": {},
     "output_type": "display_data"
    },
    {
     "data": {
      "text/html": [
       "Run data is saved locally in <code>/home/chenlequn/GitHub/MultiSensor-Monitoring-LW-DED/Code/wandb/run-20240411_150222-sbx1z6h8</code>"
      ],
      "text/plain": [
       "<IPython.core.display.HTML object>"
      ]
     },
     "metadata": {},
     "output_type": "display_data"
    },
    {
     "data": {
      "text/html": [
       "Syncing run <strong><a href='https://wandb.ai/lequn/LW-DED_audio-classification/runs/sbx1z6h8' target=\"_blank\">LightGBM_All Features</a></strong> to <a href='https://wandb.ai/lequn/LW-DED_audio-classification' target=\"_blank\">Weights & Biases</a> (<a href='https://wandb.me/run' target=\"_blank\">docs</a>)<br/>"
      ],
      "text/plain": [
       "<IPython.core.display.HTML object>"
      ]
     },
     "metadata": {},
     "output_type": "display_data"
    },
    {
     "data": {
      "text/html": [
       " View project at <a href='https://wandb.ai/lequn/LW-DED_audio-classification' target=\"_blank\">https://wandb.ai/lequn/LW-DED_audio-classification</a>"
      ],
      "text/plain": [
       "<IPython.core.display.HTML object>"
      ]
     },
     "metadata": {},
     "output_type": "display_data"
    },
    {
     "data": {
      "text/html": [
       " View run at <a href='https://wandb.ai/lequn/LW-DED_audio-classification/runs/sbx1z6h8' target=\"_blank\">https://wandb.ai/lequn/LW-DED_audio-classification/runs/sbx1z6h8</a>"
      ],
      "text/plain": [
       "<IPython.core.display.HTML object>"
      ]
     },
     "metadata": {},
     "output_type": "display_data"
    },
    {
     "name": "stdout",
     "output_type": "stream",
     "text": [
      "\t\tAccuracy: Mean = 0.9413267496779735, Std = 0.01803829497028462\n",
      "\t\tF1 Score: Mean = 0.9400377194830201, Std = 0.01766160382813562\n",
      "\t\tPrecision: Mean = 0.9425942795680408, Std = 0.017663453536177404\n",
      "\t\tRecall: Mean = 0.9413267496779735, Std = 0.01803829497028462\n",
      "\t\tROC-AUC: Mean = 0.9918350791528964, Std = 0.0035852341720743366\n"
     ]
    },
    {
     "data": {
      "text/html": [
       "Waiting for W&B process to finish... <strong style=\"color:green\">(success).</strong>"
      ],
      "text/plain": [
       "<IPython.core.display.HTML object>"
      ]
     },
     "metadata": {},
     "output_type": "display_data"
    },
    {
     "data": {
      "text/html": [
       "<style>\n",
       "    table.wandb td:nth-child(1) { padding: 0 10px; text-align: left ; width: auto;} td:nth-child(2) {text-align: left ; width: 100%}\n",
       "    .wandb-row { display: flex; flex-direction: row; flex-wrap: wrap; justify-content: flex-start; width: 100% }\n",
       "    .wandb-col { display: flex; flex-direction: column; flex-basis: 100%; flex: 1; padding: 10px; }\n",
       "    </style>\n",
       "<div class=\"wandb-row\"><div class=\"wandb-col\"><h3>Run history:</h3><br/><table class=\"wandb\"><tr><td>Accuracy_mean</td><td>▁</td></tr><tr><td>Accuracy_std</td><td>▁</td></tr><tr><td>F1 Score_mean</td><td>▁</td></tr><tr><td>F1 Score_std</td><td>▁</td></tr><tr><td>Precision_mean</td><td>▁</td></tr><tr><td>Precision_std</td><td>▁</td></tr><tr><td>ROC-AUC_mean</td><td>▁</td></tr><tr><td>ROC-AUC_std</td><td>▁</td></tr><tr><td>Recall_mean</td><td>▁</td></tr><tr><td>Recall_std</td><td>▁</td></tr></table><br/></div><div class=\"wandb-col\"><h3>Run summary:</h3><br/><table class=\"wandb\"><tr><td>Accuracy_mean</td><td>0.94133</td></tr><tr><td>Accuracy_std</td><td>0.01804</td></tr><tr><td>F1 Score_mean</td><td>0.94004</td></tr><tr><td>F1 Score_std</td><td>0.01766</td></tr><tr><td>Precision_mean</td><td>0.94259</td></tr><tr><td>Precision_std</td><td>0.01766</td></tr><tr><td>ROC-AUC_mean</td><td>0.99184</td></tr><tr><td>ROC-AUC_std</td><td>0.00359</td></tr><tr><td>Recall_mean</td><td>0.94133</td></tr><tr><td>Recall_std</td><td>0.01804</td></tr></table><br/></div></div>"
      ],
      "text/plain": [
       "<IPython.core.display.HTML object>"
      ]
     },
     "metadata": {},
     "output_type": "display_data"
    },
    {
     "data": {
      "text/html": [
       " View run <strong style=\"color:#cdcd00\">LightGBM_All Features</strong> at: <a href='https://wandb.ai/lequn/LW-DED_audio-classification/runs/sbx1z6h8' target=\"_blank\">https://wandb.ai/lequn/LW-DED_audio-classification/runs/sbx1z6h8</a><br/> View job at <a href='https://wandb.ai/lequn/LW-DED_audio-classification/jobs/QXJ0aWZhY3RDb2xsZWN0aW9uOjE2MTUxNDY2MA==/version_details/v9' target=\"_blank\">https://wandb.ai/lequn/LW-DED_audio-classification/jobs/QXJ0aWZhY3RDb2xsZWN0aW9uOjE2MTUxNDY2MA==/version_details/v9</a><br/>Synced 6 W&B file(s), 0 media file(s), 2 artifact file(s) and 0 other file(s)"
      ],
      "text/plain": [
       "<IPython.core.display.HTML object>"
      ]
     },
     "metadata": {},
     "output_type": "display_data"
    },
    {
     "data": {
      "text/html": [
       "Find logs at: <code>./wandb/run-20240411_150222-sbx1z6h8/logs</code>"
      ],
      "text/plain": [
       "<IPython.core.display.HTML object>"
      ]
     },
     "metadata": {},
     "output_type": "display_data"
    },
    {
     "name": "stdout",
     "output_type": "stream",
     "text": [
      "\tTraining model: SVM\n"
     ]
    },
    {
     "data": {
      "application/vnd.jupyter.widget-view+json": {
       "model_id": "550631758ccd4b538fbb103f3cfd4ac6",
       "version_major": 2,
       "version_minor": 0
      },
      "text/plain": [
       "VBox(children=(Label(value='Waiting for wandb.init()...\\r'), FloatProgress(value=0.01111248955555008, max=1.0)…"
      ]
     },
     "metadata": {},
     "output_type": "display_data"
    },
    {
     "data": {
      "text/html": [
       "wandb version 0.16.6 is available!  To upgrade, please run:\n",
       " $ pip install wandb --upgrade"
      ],
      "text/plain": [
       "<IPython.core.display.HTML object>"
      ]
     },
     "metadata": {},
     "output_type": "display_data"
    },
    {
     "data": {
      "text/html": [
       "Tracking run with wandb version 0.15.12"
      ],
      "text/plain": [
       "<IPython.core.display.HTML object>"
      ]
     },
     "metadata": {},
     "output_type": "display_data"
    },
    {
     "data": {
      "text/html": [
       "Run data is saved locally in <code>/home/chenlequn/GitHub/MultiSensor-Monitoring-LW-DED/Code/wandb/run-20240411_150236-rry315sn</code>"
      ],
      "text/plain": [
       "<IPython.core.display.HTML object>"
      ]
     },
     "metadata": {},
     "output_type": "display_data"
    },
    {
     "data": {
      "text/html": [
       "Syncing run <strong><a href='https://wandb.ai/lequn/LW-DED_audio-classification/runs/rry315sn' target=\"_blank\">SVM_All Features</a></strong> to <a href='https://wandb.ai/lequn/LW-DED_audio-classification' target=\"_blank\">Weights & Biases</a> (<a href='https://wandb.me/run' target=\"_blank\">docs</a>)<br/>"
      ],
      "text/plain": [
       "<IPython.core.display.HTML object>"
      ]
     },
     "metadata": {},
     "output_type": "display_data"
    },
    {
     "data": {
      "text/html": [
       " View project at <a href='https://wandb.ai/lequn/LW-DED_audio-classification' target=\"_blank\">https://wandb.ai/lequn/LW-DED_audio-classification</a>"
      ],
      "text/plain": [
       "<IPython.core.display.HTML object>"
      ]
     },
     "metadata": {},
     "output_type": "display_data"
    },
    {
     "data": {
      "text/html": [
       " View run at <a href='https://wandb.ai/lequn/LW-DED_audio-classification/runs/rry315sn' target=\"_blank\">https://wandb.ai/lequn/LW-DED_audio-classification/runs/rry315sn</a>"
      ],
      "text/plain": [
       "<IPython.core.display.HTML object>"
      ]
     },
     "metadata": {},
     "output_type": "display_data"
    },
    {
     "name": "stdout",
     "output_type": "stream",
     "text": [
      "\t\tAccuracy: Mean = 0.9222413052812366, Std = 0.01792625783179145\n",
      "\t\tF1 Score: Mean = 0.9195878585292478, Std = 0.019235280903167472\n",
      "\t\tPrecision: Mean = 0.9217465246030685, Std = 0.019848298798961186\n",
      "\t\tRecall: Mean = 0.9222413052812366, Std = 0.01792625783179145\n",
      "\t\tROC-AUC: Mean = 0.9864274672136121, Std = 0.00416969564835515\n"
     ]
    },
    {
     "data": {
      "text/html": [
       "Waiting for W&B process to finish... <strong style=\"color:green\">(success).</strong>"
      ],
      "text/plain": [
       "<IPython.core.display.HTML object>"
      ]
     },
     "metadata": {},
     "output_type": "display_data"
    },
    {
     "data": {
      "text/html": [
       "<style>\n",
       "    table.wandb td:nth-child(1) { padding: 0 10px; text-align: left ; width: auto;} td:nth-child(2) {text-align: left ; width: 100%}\n",
       "    .wandb-row { display: flex; flex-direction: row; flex-wrap: wrap; justify-content: flex-start; width: 100% }\n",
       "    .wandb-col { display: flex; flex-direction: column; flex-basis: 100%; flex: 1; padding: 10px; }\n",
       "    </style>\n",
       "<div class=\"wandb-row\"><div class=\"wandb-col\"><h3>Run history:</h3><br/><table class=\"wandb\"><tr><td>Accuracy_mean</td><td>▁</td></tr><tr><td>Accuracy_std</td><td>▁</td></tr><tr><td>F1 Score_mean</td><td>▁</td></tr><tr><td>F1 Score_std</td><td>▁</td></tr><tr><td>Precision_mean</td><td>▁</td></tr><tr><td>Precision_std</td><td>▁</td></tr><tr><td>ROC-AUC_mean</td><td>▁</td></tr><tr><td>ROC-AUC_std</td><td>▁</td></tr><tr><td>Recall_mean</td><td>▁</td></tr><tr><td>Recall_std</td><td>▁</td></tr></table><br/></div><div class=\"wandb-col\"><h3>Run summary:</h3><br/><table class=\"wandb\"><tr><td>Accuracy_mean</td><td>0.92224</td></tr><tr><td>Accuracy_std</td><td>0.01793</td></tr><tr><td>F1 Score_mean</td><td>0.91959</td></tr><tr><td>F1 Score_std</td><td>0.01924</td></tr><tr><td>Precision_mean</td><td>0.92175</td></tr><tr><td>Precision_std</td><td>0.01985</td></tr><tr><td>ROC-AUC_mean</td><td>0.98643</td></tr><tr><td>ROC-AUC_std</td><td>0.00417</td></tr><tr><td>Recall_mean</td><td>0.92224</td></tr><tr><td>Recall_std</td><td>0.01793</td></tr></table><br/></div></div>"
      ],
      "text/plain": [
       "<IPython.core.display.HTML object>"
      ]
     },
     "metadata": {},
     "output_type": "display_data"
    },
    {
     "data": {
      "text/html": [
       " View run <strong style=\"color:#cdcd00\">SVM_All Features</strong> at: <a href='https://wandb.ai/lequn/LW-DED_audio-classification/runs/rry315sn' target=\"_blank\">https://wandb.ai/lequn/LW-DED_audio-classification/runs/rry315sn</a><br/> View job at <a href='https://wandb.ai/lequn/LW-DED_audio-classification/jobs/QXJ0aWZhY3RDb2xsZWN0aW9uOjE2MTUxNDY2MA==/version_details/v10' target=\"_blank\">https://wandb.ai/lequn/LW-DED_audio-classification/jobs/QXJ0aWZhY3RDb2xsZWN0aW9uOjE2MTUxNDY2MA==/version_details/v10</a><br/>Synced 6 W&B file(s), 0 media file(s), 2 artifact file(s) and 0 other file(s)"
      ],
      "text/plain": [
       "<IPython.core.display.HTML object>"
      ]
     },
     "metadata": {},
     "output_type": "display_data"
    },
    {
     "data": {
      "text/html": [
       "Find logs at: <code>./wandb/run-20240411_150236-rry315sn/logs</code>"
      ],
      "text/plain": [
       "<IPython.core.display.HTML object>"
      ]
     },
     "metadata": {},
     "output_type": "display_data"
    },
    {
     "name": "stdout",
     "output_type": "stream",
     "text": [
      "\tTraining model: HistGB\n"
     ]
    },
    {
     "data": {
      "application/vnd.jupyter.widget-view+json": {
       "model_id": "f0951ebbb74d44589c7eee507e72762f",
       "version_major": 2,
       "version_minor": 0
      },
      "text/plain": [
       "VBox(children=(Label(value='Waiting for wandb.init()...\\r'), FloatProgress(value=0.011113887011136588, max=1.0…"
      ]
     },
     "metadata": {},
     "output_type": "display_data"
    },
    {
     "data": {
      "text/html": [
       "wandb version 0.16.6 is available!  To upgrade, please run:\n",
       " $ pip install wandb --upgrade"
      ],
      "text/plain": [
       "<IPython.core.display.HTML object>"
      ]
     },
     "metadata": {},
     "output_type": "display_data"
    },
    {
     "data": {
      "text/html": [
       "Tracking run with wandb version 0.15.12"
      ],
      "text/plain": [
       "<IPython.core.display.HTML object>"
      ]
     },
     "metadata": {},
     "output_type": "display_data"
    },
    {
     "data": {
      "text/html": [
       "Run data is saved locally in <code>/home/chenlequn/GitHub/MultiSensor-Monitoring-LW-DED/Code/wandb/run-20240411_150250-lo7ox6we</code>"
      ],
      "text/plain": [
       "<IPython.core.display.HTML object>"
      ]
     },
     "metadata": {},
     "output_type": "display_data"
    },
    {
     "data": {
      "text/html": [
       "Syncing run <strong><a href='https://wandb.ai/lequn/LW-DED_audio-classification/runs/lo7ox6we' target=\"_blank\">HistGB_All Features</a></strong> to <a href='https://wandb.ai/lequn/LW-DED_audio-classification' target=\"_blank\">Weights & Biases</a> (<a href='https://wandb.me/run' target=\"_blank\">docs</a>)<br/>"
      ],
      "text/plain": [
       "<IPython.core.display.HTML object>"
      ]
     },
     "metadata": {},
     "output_type": "display_data"
    },
    {
     "data": {
      "text/html": [
       " View project at <a href='https://wandb.ai/lequn/LW-DED_audio-classification' target=\"_blank\">https://wandb.ai/lequn/LW-DED_audio-classification</a>"
      ],
      "text/plain": [
       "<IPython.core.display.HTML object>"
      ]
     },
     "metadata": {},
     "output_type": "display_data"
    },
    {
     "data": {
      "text/html": [
       " View run at <a href='https://wandb.ai/lequn/LW-DED_audio-classification/runs/lo7ox6we' target=\"_blank\">https://wandb.ai/lequn/LW-DED_audio-classification/runs/lo7ox6we</a>"
      ],
      "text/plain": [
       "<IPython.core.display.HTML object>"
      ]
     },
     "metadata": {},
     "output_type": "display_data"
    },
    {
     "name": "stdout",
     "output_type": "stream",
     "text": [
      "\t\tAccuracy: Mean = 0.944257191927866, Std = 0.021069763193571796\n",
      "\t\tF1 Score: Mean = 0.9439297662888897, Std = 0.020489519606308803\n",
      "\t\tPrecision: Mean = 0.9460274802048361, Std = 0.01893810334646757\n",
      "\t\tRecall: Mean = 0.944257191927866, Std = 0.021069763193571796\n",
      "\t\tROC-AUC: Mean = 0.9925852696479456, Std = 0.0024037500394544233\n"
     ]
    },
    {
     "data": {
      "text/html": [
       "Waiting for W&B process to finish... <strong style=\"color:green\">(success).</strong>"
      ],
      "text/plain": [
       "<IPython.core.display.HTML object>"
      ]
     },
     "metadata": {},
     "output_type": "display_data"
    },
    {
     "data": {
      "text/html": [
       "<style>\n",
       "    table.wandb td:nth-child(1) { padding: 0 10px; text-align: left ; width: auto;} td:nth-child(2) {text-align: left ; width: 100%}\n",
       "    .wandb-row { display: flex; flex-direction: row; flex-wrap: wrap; justify-content: flex-start; width: 100% }\n",
       "    .wandb-col { display: flex; flex-direction: column; flex-basis: 100%; flex: 1; padding: 10px; }\n",
       "    </style>\n",
       "<div class=\"wandb-row\"><div class=\"wandb-col\"><h3>Run history:</h3><br/><table class=\"wandb\"><tr><td>Accuracy_mean</td><td>▁</td></tr><tr><td>Accuracy_std</td><td>▁</td></tr><tr><td>F1 Score_mean</td><td>▁</td></tr><tr><td>F1 Score_std</td><td>▁</td></tr><tr><td>Precision_mean</td><td>▁</td></tr><tr><td>Precision_std</td><td>▁</td></tr><tr><td>ROC-AUC_mean</td><td>▁</td></tr><tr><td>ROC-AUC_std</td><td>▁</td></tr><tr><td>Recall_mean</td><td>▁</td></tr><tr><td>Recall_std</td><td>▁</td></tr></table><br/></div><div class=\"wandb-col\"><h3>Run summary:</h3><br/><table class=\"wandb\"><tr><td>Accuracy_mean</td><td>0.94426</td></tr><tr><td>Accuracy_std</td><td>0.02107</td></tr><tr><td>F1 Score_mean</td><td>0.94393</td></tr><tr><td>F1 Score_std</td><td>0.02049</td></tr><tr><td>Precision_mean</td><td>0.94603</td></tr><tr><td>Precision_std</td><td>0.01894</td></tr><tr><td>ROC-AUC_mean</td><td>0.99259</td></tr><tr><td>ROC-AUC_std</td><td>0.0024</td></tr><tr><td>Recall_mean</td><td>0.94426</td></tr><tr><td>Recall_std</td><td>0.02107</td></tr></table><br/></div></div>"
      ],
      "text/plain": [
       "<IPython.core.display.HTML object>"
      ]
     },
     "metadata": {},
     "output_type": "display_data"
    },
    {
     "data": {
      "text/html": [
       " View run <strong style=\"color:#cdcd00\">HistGB_All Features</strong> at: <a href='https://wandb.ai/lequn/LW-DED_audio-classification/runs/lo7ox6we' target=\"_blank\">https://wandb.ai/lequn/LW-DED_audio-classification/runs/lo7ox6we</a><br/> View job at <a href='https://wandb.ai/lequn/LW-DED_audio-classification/jobs/QXJ0aWZhY3RDb2xsZWN0aW9uOjE2MTUxNDY2MA==/version_details/v11' target=\"_blank\">https://wandb.ai/lequn/LW-DED_audio-classification/jobs/QXJ0aWZhY3RDb2xsZWN0aW9uOjE2MTUxNDY2MA==/version_details/v11</a><br/>Synced 6 W&B file(s), 0 media file(s), 2 artifact file(s) and 0 other file(s)"
      ],
      "text/plain": [
       "<IPython.core.display.HTML object>"
      ]
     },
     "metadata": {},
     "output_type": "display_data"
    },
    {
     "data": {
      "text/html": [
       "Find logs at: <code>./wandb/run-20240411_150250-lo7ox6we/logs</code>"
      ],
      "text/plain": [
       "<IPython.core.display.HTML object>"
      ]
     },
     "metadata": {},
     "output_type": "display_data"
    },
    {
     "name": "stdout",
     "output_type": "stream",
     "text": [
      "Processing dataset: Ablated 1\n",
      "\tTraining model: KNN\n"
     ]
    },
    {
     "data": {
      "application/vnd.jupyter.widget-view+json": {
       "model_id": "7a80642bb93142c98aa9f6806c3ef6d9",
       "version_major": 2,
       "version_minor": 0
      },
      "text/plain": [
       "VBox(children=(Label(value='Waiting for wandb.init()...\\r'), FloatProgress(value=0.011113236988886556, max=1.0…"
      ]
     },
     "metadata": {},
     "output_type": "display_data"
    },
    {
     "data": {
      "text/html": [
       "wandb version 0.16.6 is available!  To upgrade, please run:\n",
       " $ pip install wandb --upgrade"
      ],
      "text/plain": [
       "<IPython.core.display.HTML object>"
      ]
     },
     "metadata": {},
     "output_type": "display_data"
    },
    {
     "data": {
      "text/html": [
       "Tracking run with wandb version 0.15.12"
      ],
      "text/plain": [
       "<IPython.core.display.HTML object>"
      ]
     },
     "metadata": {},
     "output_type": "display_data"
    },
    {
     "data": {
      "text/html": [
       "Run data is saved locally in <code>/home/chenlequn/GitHub/MultiSensor-Monitoring-LW-DED/Code/wandb/run-20240411_150305-rjctgt60</code>"
      ],
      "text/plain": [
       "<IPython.core.display.HTML object>"
      ]
     },
     "metadata": {},
     "output_type": "display_data"
    },
    {
     "data": {
      "text/html": [
       "Syncing run <strong><a href='https://wandb.ai/lequn/LW-DED_audio-classification/runs/rjctgt60' target=\"_blank\">KNN_Ablated 1</a></strong> to <a href='https://wandb.ai/lequn/LW-DED_audio-classification' target=\"_blank\">Weights & Biases</a> (<a href='https://wandb.me/run' target=\"_blank\">docs</a>)<br/>"
      ],
      "text/plain": [
       "<IPython.core.display.HTML object>"
      ]
     },
     "metadata": {},
     "output_type": "display_data"
    },
    {
     "data": {
      "text/html": [
       " View project at <a href='https://wandb.ai/lequn/LW-DED_audio-classification' target=\"_blank\">https://wandb.ai/lequn/LW-DED_audio-classification</a>"
      ],
      "text/plain": [
       "<IPython.core.display.HTML object>"
      ]
     },
     "metadata": {},
     "output_type": "display_data"
    },
    {
     "data": {
      "text/html": [
       " View run at <a href='https://wandb.ai/lequn/LW-DED_audio-classification/runs/rjctgt60' target=\"_blank\">https://wandb.ai/lequn/LW-DED_audio-classification/runs/rjctgt60</a>"
      ],
      "text/plain": [
       "<IPython.core.display.HTML object>"
      ]
     },
     "metadata": {},
     "output_type": "display_data"
    },
    {
     "name": "stdout",
     "output_type": "stream",
     "text": [
      "\t\tAccuracy: Mean = 0.917861743237441, Std = 0.02206872238638344\n",
      "\t\tF1 Score: Mean = 0.9167686287931561, Std = 0.02416576651492924\n",
      "\t\tPrecision: Mean = 0.9190694979320139, Std = 0.025968136689767392\n",
      "\t\tRecall: Mean = 0.917861743237441, Std = 0.02206872238638344\n",
      "\t\tROC-AUC: Mean = 0.9796157241014288, Std = 0.007964744864924442\n"
     ]
    },
    {
     "data": {
      "text/html": [
       "Waiting for W&B process to finish... <strong style=\"color:green\">(success).</strong>"
      ],
      "text/plain": [
       "<IPython.core.display.HTML object>"
      ]
     },
     "metadata": {},
     "output_type": "display_data"
    },
    {
     "data": {
      "text/html": [
       "<style>\n",
       "    table.wandb td:nth-child(1) { padding: 0 10px; text-align: left ; width: auto;} td:nth-child(2) {text-align: left ; width: 100%}\n",
       "    .wandb-row { display: flex; flex-direction: row; flex-wrap: wrap; justify-content: flex-start; width: 100% }\n",
       "    .wandb-col { display: flex; flex-direction: column; flex-basis: 100%; flex: 1; padding: 10px; }\n",
       "    </style>\n",
       "<div class=\"wandb-row\"><div class=\"wandb-col\"><h3>Run history:</h3><br/><table class=\"wandb\"><tr><td>Accuracy_mean</td><td>▁</td></tr><tr><td>Accuracy_std</td><td>▁</td></tr><tr><td>F1 Score_mean</td><td>▁</td></tr><tr><td>F1 Score_std</td><td>▁</td></tr><tr><td>Precision_mean</td><td>▁</td></tr><tr><td>Precision_std</td><td>▁</td></tr><tr><td>ROC-AUC_mean</td><td>▁</td></tr><tr><td>ROC-AUC_std</td><td>▁</td></tr><tr><td>Recall_mean</td><td>▁</td></tr><tr><td>Recall_std</td><td>▁</td></tr></table><br/></div><div class=\"wandb-col\"><h3>Run summary:</h3><br/><table class=\"wandb\"><tr><td>Accuracy_mean</td><td>0.91786</td></tr><tr><td>Accuracy_std</td><td>0.02207</td></tr><tr><td>F1 Score_mean</td><td>0.91677</td></tr><tr><td>F1 Score_std</td><td>0.02417</td></tr><tr><td>Precision_mean</td><td>0.91907</td></tr><tr><td>Precision_std</td><td>0.02597</td></tr><tr><td>ROC-AUC_mean</td><td>0.97962</td></tr><tr><td>ROC-AUC_std</td><td>0.00796</td></tr><tr><td>Recall_mean</td><td>0.91786</td></tr><tr><td>Recall_std</td><td>0.02207</td></tr></table><br/></div></div>"
      ],
      "text/plain": [
       "<IPython.core.display.HTML object>"
      ]
     },
     "metadata": {},
     "output_type": "display_data"
    },
    {
     "data": {
      "text/html": [
       " View run <strong style=\"color:#cdcd00\">KNN_Ablated 1</strong> at: <a href='https://wandb.ai/lequn/LW-DED_audio-classification/runs/rjctgt60' target=\"_blank\">https://wandb.ai/lequn/LW-DED_audio-classification/runs/rjctgt60</a><br/> View job at <a href='https://wandb.ai/lequn/LW-DED_audio-classification/jobs/QXJ0aWZhY3RDb2xsZWN0aW9uOjE2MTUxNDY2MA==/version_details/v12' target=\"_blank\">https://wandb.ai/lequn/LW-DED_audio-classification/jobs/QXJ0aWZhY3RDb2xsZWN0aW9uOjE2MTUxNDY2MA==/version_details/v12</a><br/>Synced 6 W&B file(s), 0 media file(s), 0 artifact file(s) and 0 other file(s)"
      ],
      "text/plain": [
       "<IPython.core.display.HTML object>"
      ]
     },
     "metadata": {},
     "output_type": "display_data"
    },
    {
     "data": {
      "text/html": [
       "Find logs at: <code>./wandb/run-20240411_150305-rjctgt60/logs</code>"
      ],
      "text/plain": [
       "<IPython.core.display.HTML object>"
      ]
     },
     "metadata": {},
     "output_type": "display_data"
    },
    {
     "name": "stdout",
     "output_type": "stream",
     "text": [
      "\tTraining model: DT\n"
     ]
    },
    {
     "data": {
      "application/vnd.jupyter.widget-view+json": {
       "model_id": "cd2c536148c34d428ce984af3df41523",
       "version_major": 2,
       "version_minor": 0
      },
      "text/plain": [
       "VBox(children=(Label(value='Waiting for wandb.init()...\\r'), FloatProgress(value=0.011113130277792354, max=1.0…"
      ]
     },
     "metadata": {},
     "output_type": "display_data"
    },
    {
     "data": {
      "text/html": [
       "wandb version 0.16.6 is available!  To upgrade, please run:\n",
       " $ pip install wandb --upgrade"
      ],
      "text/plain": [
       "<IPython.core.display.HTML object>"
      ]
     },
     "metadata": {},
     "output_type": "display_data"
    },
    {
     "data": {
      "text/html": [
       "Tracking run with wandb version 0.15.12"
      ],
      "text/plain": [
       "<IPython.core.display.HTML object>"
      ]
     },
     "metadata": {},
     "output_type": "display_data"
    },
    {
     "data": {
      "text/html": [
       "Run data is saved locally in <code>/home/chenlequn/GitHub/MultiSensor-Monitoring-LW-DED/Code/wandb/run-20240411_150317-7dps121e</code>"
      ],
      "text/plain": [
       "<IPython.core.display.HTML object>"
      ]
     },
     "metadata": {},
     "output_type": "display_data"
    },
    {
     "data": {
      "text/html": [
       "Syncing run <strong><a href='https://wandb.ai/lequn/LW-DED_audio-classification/runs/7dps121e' target=\"_blank\">DT_Ablated 1</a></strong> to <a href='https://wandb.ai/lequn/LW-DED_audio-classification' target=\"_blank\">Weights & Biases</a> (<a href='https://wandb.me/run' target=\"_blank\">docs</a>)<br/>"
      ],
      "text/plain": [
       "<IPython.core.display.HTML object>"
      ]
     },
     "metadata": {},
     "output_type": "display_data"
    },
    {
     "data": {
      "text/html": [
       " View project at <a href='https://wandb.ai/lequn/LW-DED_audio-classification' target=\"_blank\">https://wandb.ai/lequn/LW-DED_audio-classification</a>"
      ],
      "text/plain": [
       "<IPython.core.display.HTML object>"
      ]
     },
     "metadata": {},
     "output_type": "display_data"
    },
    {
     "data": {
      "text/html": [
       " View run at <a href='https://wandb.ai/lequn/LW-DED_audio-classification/runs/7dps121e' target=\"_blank\">https://wandb.ai/lequn/LW-DED_audio-classification/runs/7dps121e</a>"
      ],
      "text/plain": [
       "<IPython.core.display.HTML object>"
      ]
     },
     "metadata": {},
     "output_type": "display_data"
    },
    {
     "name": "stdout",
     "output_type": "stream",
     "text": [
      "\t\tAccuracy: Mean = 0.8694933447831688, Std = 0.02984674337427509\n",
      "\t\tF1 Score: Mean = 0.870528239205929, Std = 0.027154931598423245\n",
      "\t\tPrecision: Mean = 0.8762429286628052, Std = 0.024054618155534054\n",
      "\t\tRecall: Mean = 0.8694933447831688, Std = 0.02984674337427509\n",
      "\t\tROC-AUC: Mean = 0.9062790356172348, Std = 0.024504770908581098\n"
     ]
    },
    {
     "data": {
      "text/html": [
       "Waiting for W&B process to finish... <strong style=\"color:green\">(success).</strong>"
      ],
      "text/plain": [
       "<IPython.core.display.HTML object>"
      ]
     },
     "metadata": {},
     "output_type": "display_data"
    },
    {
     "data": {
      "text/html": [
       "<style>\n",
       "    table.wandb td:nth-child(1) { padding: 0 10px; text-align: left ; width: auto;} td:nth-child(2) {text-align: left ; width: 100%}\n",
       "    .wandb-row { display: flex; flex-direction: row; flex-wrap: wrap; justify-content: flex-start; width: 100% }\n",
       "    .wandb-col { display: flex; flex-direction: column; flex-basis: 100%; flex: 1; padding: 10px; }\n",
       "    </style>\n",
       "<div class=\"wandb-row\"><div class=\"wandb-col\"><h3>Run history:</h3><br/><table class=\"wandb\"><tr><td>Accuracy_mean</td><td>▁</td></tr><tr><td>Accuracy_std</td><td>▁</td></tr><tr><td>F1 Score_mean</td><td>▁</td></tr><tr><td>F1 Score_std</td><td>▁</td></tr><tr><td>Precision_mean</td><td>▁</td></tr><tr><td>Precision_std</td><td>▁</td></tr><tr><td>ROC-AUC_mean</td><td>▁</td></tr><tr><td>ROC-AUC_std</td><td>▁</td></tr><tr><td>Recall_mean</td><td>▁</td></tr><tr><td>Recall_std</td><td>▁</td></tr></table><br/></div><div class=\"wandb-col\"><h3>Run summary:</h3><br/><table class=\"wandb\"><tr><td>Accuracy_mean</td><td>0.86949</td></tr><tr><td>Accuracy_std</td><td>0.02985</td></tr><tr><td>F1 Score_mean</td><td>0.87053</td></tr><tr><td>F1 Score_std</td><td>0.02715</td></tr><tr><td>Precision_mean</td><td>0.87624</td></tr><tr><td>Precision_std</td><td>0.02405</td></tr><tr><td>ROC-AUC_mean</td><td>0.90628</td></tr><tr><td>ROC-AUC_std</td><td>0.0245</td></tr><tr><td>Recall_mean</td><td>0.86949</td></tr><tr><td>Recall_std</td><td>0.02985</td></tr></table><br/></div></div>"
      ],
      "text/plain": [
       "<IPython.core.display.HTML object>"
      ]
     },
     "metadata": {},
     "output_type": "display_data"
    },
    {
     "data": {
      "text/html": [
       " View run <strong style=\"color:#cdcd00\">DT_Ablated 1</strong> at: <a href='https://wandb.ai/lequn/LW-DED_audio-classification/runs/7dps121e' target=\"_blank\">https://wandb.ai/lequn/LW-DED_audio-classification/runs/7dps121e</a><br/> View job at <a href='https://wandb.ai/lequn/LW-DED_audio-classification/jobs/QXJ0aWZhY3RDb2xsZWN0aW9uOjE2MTUxNDY2MA==/version_details/v12' target=\"_blank\">https://wandb.ai/lequn/LW-DED_audio-classification/jobs/QXJ0aWZhY3RDb2xsZWN0aW9uOjE2MTUxNDY2MA==/version_details/v12</a><br/>Synced 6 W&B file(s), 0 media file(s), 0 artifact file(s) and 0 other file(s)"
      ],
      "text/plain": [
       "<IPython.core.display.HTML object>"
      ]
     },
     "metadata": {},
     "output_type": "display_data"
    },
    {
     "data": {
      "text/html": [
       "Find logs at: <code>./wandb/run-20240411_150317-7dps121e/logs</code>"
      ],
      "text/plain": [
       "<IPython.core.display.HTML object>"
      ]
     },
     "metadata": {},
     "output_type": "display_data"
    },
    {
     "name": "stdout",
     "output_type": "stream",
     "text": [
      "\tTraining model: LR\n"
     ]
    },
    {
     "data": {
      "application/vnd.jupyter.widget-view+json": {
       "model_id": "ec537232186d4361b4869b9ff5336047",
       "version_major": 2,
       "version_minor": 0
      },
      "text/plain": [
       "VBox(children=(Label(value='Waiting for wandb.init()...\\r'), FloatProgress(value=0.011112396488897502, max=1.0…"
      ]
     },
     "metadata": {},
     "output_type": "display_data"
    },
    {
     "data": {
      "text/html": [
       "wandb version 0.16.6 is available!  To upgrade, please run:\n",
       " $ pip install wandb --upgrade"
      ],
      "text/plain": [
       "<IPython.core.display.HTML object>"
      ]
     },
     "metadata": {},
     "output_type": "display_data"
    },
    {
     "data": {
      "text/html": [
       "Tracking run with wandb version 0.15.12"
      ],
      "text/plain": [
       "<IPython.core.display.HTML object>"
      ]
     },
     "metadata": {},
     "output_type": "display_data"
    },
    {
     "data": {
      "text/html": [
       "Run data is saved locally in <code>/home/chenlequn/GitHub/MultiSensor-Monitoring-LW-DED/Code/wandb/run-20240411_150328-uapa1poe</code>"
      ],
      "text/plain": [
       "<IPython.core.display.HTML object>"
      ]
     },
     "metadata": {},
     "output_type": "display_data"
    },
    {
     "data": {
      "text/html": [
       "Syncing run <strong><a href='https://wandb.ai/lequn/LW-DED_audio-classification/runs/uapa1poe' target=\"_blank\">LR_Ablated 1</a></strong> to <a href='https://wandb.ai/lequn/LW-DED_audio-classification' target=\"_blank\">Weights & Biases</a> (<a href='https://wandb.me/run' target=\"_blank\">docs</a>)<br/>"
      ],
      "text/plain": [
       "<IPython.core.display.HTML object>"
      ]
     },
     "metadata": {},
     "output_type": "display_data"
    },
    {
     "data": {
      "text/html": [
       " View project at <a href='https://wandb.ai/lequn/LW-DED_audio-classification' target=\"_blank\">https://wandb.ai/lequn/LW-DED_audio-classification</a>"
      ],
      "text/plain": [
       "<IPython.core.display.HTML object>"
      ]
     },
     "metadata": {},
     "output_type": "display_data"
    },
    {
     "data": {
      "text/html": [
       " View run at <a href='https://wandb.ai/lequn/LW-DED_audio-classification/runs/uapa1poe' target=\"_blank\">https://wandb.ai/lequn/LW-DED_audio-classification/runs/uapa1poe</a>"
      ],
      "text/plain": [
       "<IPython.core.display.HTML object>"
      ]
     },
     "metadata": {},
     "output_type": "display_data"
    },
    {
     "name": "stdout",
     "output_type": "stream",
     "text": [
      "\t\tAccuracy: Mean = 0.9252361528553028, Std = 0.01875265590547225\n",
      "\t\tF1 Score: Mean = 0.9239441605760266, Std = 0.018646875571043744\n",
      "\t\tPrecision: Mean = 0.9268907855678392, Std = 0.018158326154535834\n",
      "\t\tRecall: Mean = 0.9252361528553028, Std = 0.01875265590547225\n",
      "\t\tROC-AUC: Mean = 0.9866892258678395, Std = 0.003336656343831394\n"
     ]
    },
    {
     "data": {
      "text/html": [
       "Waiting for W&B process to finish... <strong style=\"color:green\">(success).</strong>"
      ],
      "text/plain": [
       "<IPython.core.display.HTML object>"
      ]
     },
     "metadata": {},
     "output_type": "display_data"
    },
    {
     "data": {
      "text/html": [
       "<style>\n",
       "    table.wandb td:nth-child(1) { padding: 0 10px; text-align: left ; width: auto;} td:nth-child(2) {text-align: left ; width: 100%}\n",
       "    .wandb-row { display: flex; flex-direction: row; flex-wrap: wrap; justify-content: flex-start; width: 100% }\n",
       "    .wandb-col { display: flex; flex-direction: column; flex-basis: 100%; flex: 1; padding: 10px; }\n",
       "    </style>\n",
       "<div class=\"wandb-row\"><div class=\"wandb-col\"><h3>Run history:</h3><br/><table class=\"wandb\"><tr><td>Accuracy_mean</td><td>▁</td></tr><tr><td>Accuracy_std</td><td>▁</td></tr><tr><td>F1 Score_mean</td><td>▁</td></tr><tr><td>F1 Score_std</td><td>▁</td></tr><tr><td>Precision_mean</td><td>▁</td></tr><tr><td>Precision_std</td><td>▁</td></tr><tr><td>ROC-AUC_mean</td><td>▁</td></tr><tr><td>ROC-AUC_std</td><td>▁</td></tr><tr><td>Recall_mean</td><td>▁</td></tr><tr><td>Recall_std</td><td>▁</td></tr></table><br/></div><div class=\"wandb-col\"><h3>Run summary:</h3><br/><table class=\"wandb\"><tr><td>Accuracy_mean</td><td>0.92524</td></tr><tr><td>Accuracy_std</td><td>0.01875</td></tr><tr><td>F1 Score_mean</td><td>0.92394</td></tr><tr><td>F1 Score_std</td><td>0.01865</td></tr><tr><td>Precision_mean</td><td>0.92689</td></tr><tr><td>Precision_std</td><td>0.01816</td></tr><tr><td>ROC-AUC_mean</td><td>0.98669</td></tr><tr><td>ROC-AUC_std</td><td>0.00334</td></tr><tr><td>Recall_mean</td><td>0.92524</td></tr><tr><td>Recall_std</td><td>0.01875</td></tr></table><br/></div></div>"
      ],
      "text/plain": [
       "<IPython.core.display.HTML object>"
      ]
     },
     "metadata": {},
     "output_type": "display_data"
    },
    {
     "data": {
      "text/html": [
       " View run <strong style=\"color:#cdcd00\">LR_Ablated 1</strong> at: <a href='https://wandb.ai/lequn/LW-DED_audio-classification/runs/uapa1poe' target=\"_blank\">https://wandb.ai/lequn/LW-DED_audio-classification/runs/uapa1poe</a><br/> View job at <a href='https://wandb.ai/lequn/LW-DED_audio-classification/jobs/QXJ0aWZhY3RDb2xsZWN0aW9uOjE2MTUxNDY2MA==/version_details/v12' target=\"_blank\">https://wandb.ai/lequn/LW-DED_audio-classification/jobs/QXJ0aWZhY3RDb2xsZWN0aW9uOjE2MTUxNDY2MA==/version_details/v12</a><br/>Synced 6 W&B file(s), 0 media file(s), 0 artifact file(s) and 0 other file(s)"
      ],
      "text/plain": [
       "<IPython.core.display.HTML object>"
      ]
     },
     "metadata": {},
     "output_type": "display_data"
    },
    {
     "data": {
      "text/html": [
       "Find logs at: <code>./wandb/run-20240411_150328-uapa1poe/logs</code>"
      ],
      "text/plain": [
       "<IPython.core.display.HTML object>"
      ]
     },
     "metadata": {},
     "output_type": "display_data"
    },
    {
     "name": "stdout",
     "output_type": "stream",
     "text": [
      "\tTraining model: RF\n"
     ]
    },
    {
     "data": {
      "application/vnd.jupyter.widget-view+json": {
       "model_id": "b80d8a42b4224dbf9247045ecc0480aa",
       "version_major": 2,
       "version_minor": 0
      },
      "text/plain": [
       "VBox(children=(Label(value='Waiting for wandb.init()...\\r'), FloatProgress(value=0.011113348999990396, max=1.0…"
      ]
     },
     "metadata": {},
     "output_type": "display_data"
    },
    {
     "data": {
      "text/html": [
       "wandb version 0.16.6 is available!  To upgrade, please run:\n",
       " $ pip install wandb --upgrade"
      ],
      "text/plain": [
       "<IPython.core.display.HTML object>"
      ]
     },
     "metadata": {},
     "output_type": "display_data"
    },
    {
     "data": {
      "text/html": [
       "Tracking run with wandb version 0.15.12"
      ],
      "text/plain": [
       "<IPython.core.display.HTML object>"
      ]
     },
     "metadata": {},
     "output_type": "display_data"
    },
    {
     "data": {
      "text/html": [
       "Run data is saved locally in <code>/home/chenlequn/GitHub/MultiSensor-Monitoring-LW-DED/Code/wandb/run-20240411_150339-1tecc4iq</code>"
      ],
      "text/plain": [
       "<IPython.core.display.HTML object>"
      ]
     },
     "metadata": {},
     "output_type": "display_data"
    },
    {
     "data": {
      "text/html": [
       "Syncing run <strong><a href='https://wandb.ai/lequn/LW-DED_audio-classification/runs/1tecc4iq' target=\"_blank\">RF_Ablated 1</a></strong> to <a href='https://wandb.ai/lequn/LW-DED_audio-classification' target=\"_blank\">Weights & Biases</a> (<a href='https://wandb.me/run' target=\"_blank\">docs</a>)<br/>"
      ],
      "text/plain": [
       "<IPython.core.display.HTML object>"
      ]
     },
     "metadata": {},
     "output_type": "display_data"
    },
    {
     "data": {
      "text/html": [
       " View project at <a href='https://wandb.ai/lequn/LW-DED_audio-classification' target=\"_blank\">https://wandb.ai/lequn/LW-DED_audio-classification</a>"
      ],
      "text/plain": [
       "<IPython.core.display.HTML object>"
      ]
     },
     "metadata": {},
     "output_type": "display_data"
    },
    {
     "data": {
      "text/html": [
       " View run at <a href='https://wandb.ai/lequn/LW-DED_audio-classification/runs/1tecc4iq' target=\"_blank\">https://wandb.ai/lequn/LW-DED_audio-classification/runs/1tecc4iq</a>"
      ],
      "text/plain": [
       "<IPython.core.display.HTML object>"
      ]
     },
     "metadata": {},
     "output_type": "display_data"
    },
    {
     "name": "stdout",
     "output_type": "stream",
     "text": [
      "\t\tAccuracy: Mean = 0.9310541004723056, Std = 0.019008380352946812\n",
      "\t\tF1 Score: Mean = 0.930054284067366, Std = 0.01989638579394992\n",
      "\t\tPrecision: Mean = 0.9325051061380121, Std = 0.019737236299151847\n",
      "\t\tRecall: Mean = 0.9310541004723056, Std = 0.019008380352946812\n",
      "\t\tROC-AUC: Mean = 0.991156150886139, Std = 0.002896780166243841\n"
     ]
    },
    {
     "data": {
      "text/html": [
       "Waiting for W&B process to finish... <strong style=\"color:green\">(success).</strong>"
      ],
      "text/plain": [
       "<IPython.core.display.HTML object>"
      ]
     },
     "metadata": {},
     "output_type": "display_data"
    },
    {
     "data": {
      "text/html": [
       "<style>\n",
       "    table.wandb td:nth-child(1) { padding: 0 10px; text-align: left ; width: auto;} td:nth-child(2) {text-align: left ; width: 100%}\n",
       "    .wandb-row { display: flex; flex-direction: row; flex-wrap: wrap; justify-content: flex-start; width: 100% }\n",
       "    .wandb-col { display: flex; flex-direction: column; flex-basis: 100%; flex: 1; padding: 10px; }\n",
       "    </style>\n",
       "<div class=\"wandb-row\"><div class=\"wandb-col\"><h3>Run history:</h3><br/><table class=\"wandb\"><tr><td>Accuracy_mean</td><td>▁</td></tr><tr><td>Accuracy_std</td><td>▁</td></tr><tr><td>F1 Score_mean</td><td>▁</td></tr><tr><td>F1 Score_std</td><td>▁</td></tr><tr><td>Precision_mean</td><td>▁</td></tr><tr><td>Precision_std</td><td>▁</td></tr><tr><td>ROC-AUC_mean</td><td>▁</td></tr><tr><td>ROC-AUC_std</td><td>▁</td></tr><tr><td>Recall_mean</td><td>▁</td></tr><tr><td>Recall_std</td><td>▁</td></tr></table><br/></div><div class=\"wandb-col\"><h3>Run summary:</h3><br/><table class=\"wandb\"><tr><td>Accuracy_mean</td><td>0.93105</td></tr><tr><td>Accuracy_std</td><td>0.01901</td></tr><tr><td>F1 Score_mean</td><td>0.93005</td></tr><tr><td>F1 Score_std</td><td>0.0199</td></tr><tr><td>Precision_mean</td><td>0.93251</td></tr><tr><td>Precision_std</td><td>0.01974</td></tr><tr><td>ROC-AUC_mean</td><td>0.99116</td></tr><tr><td>ROC-AUC_std</td><td>0.0029</td></tr><tr><td>Recall_mean</td><td>0.93105</td></tr><tr><td>Recall_std</td><td>0.01901</td></tr></table><br/></div></div>"
      ],
      "text/plain": [
       "<IPython.core.display.HTML object>"
      ]
     },
     "metadata": {},
     "output_type": "display_data"
    },
    {
     "data": {
      "text/html": [
       " View run <strong style=\"color:#cdcd00\">RF_Ablated 1</strong> at: <a href='https://wandb.ai/lequn/LW-DED_audio-classification/runs/1tecc4iq' target=\"_blank\">https://wandb.ai/lequn/LW-DED_audio-classification/runs/1tecc4iq</a><br/> View job at <a href='https://wandb.ai/lequn/LW-DED_audio-classification/jobs/QXJ0aWZhY3RDb2xsZWN0aW9uOjE2MTUxNDY2MA==/version_details/v12' target=\"_blank\">https://wandb.ai/lequn/LW-DED_audio-classification/jobs/QXJ0aWZhY3RDb2xsZWN0aW9uOjE2MTUxNDY2MA==/version_details/v12</a><br/>Synced 6 W&B file(s), 0 media file(s), 0 artifact file(s) and 0 other file(s)"
      ],
      "text/plain": [
       "<IPython.core.display.HTML object>"
      ]
     },
     "metadata": {},
     "output_type": "display_data"
    },
    {
     "data": {
      "text/html": [
       "Find logs at: <code>./wandb/run-20240411_150339-1tecc4iq/logs</code>"
      ],
      "text/plain": [
       "<IPython.core.display.HTML object>"
      ]
     },
     "metadata": {},
     "output_type": "display_data"
    },
    {
     "name": "stdout",
     "output_type": "stream",
     "text": [
      "\tTraining model: BalancedRF\n"
     ]
    },
    {
     "data": {
      "application/vnd.jupyter.widget-view+json": {
       "model_id": "e4971667a9b44afbba4ac97918882a65",
       "version_major": 2,
       "version_minor": 0
      },
      "text/plain": [
       "VBox(children=(Label(value='Waiting for wandb.init()...\\r'), FloatProgress(value=0.011113112544464659, max=1.0…"
      ]
     },
     "metadata": {},
     "output_type": "display_data"
    },
    {
     "data": {
      "text/html": [
       "wandb version 0.16.6 is available!  To upgrade, please run:\n",
       " $ pip install wandb --upgrade"
      ],
      "text/plain": [
       "<IPython.core.display.HTML object>"
      ]
     },
     "metadata": {},
     "output_type": "display_data"
    },
    {
     "data": {
      "text/html": [
       "Tracking run with wandb version 0.15.12"
      ],
      "text/plain": [
       "<IPython.core.display.HTML object>"
      ]
     },
     "metadata": {},
     "output_type": "display_data"
    },
    {
     "data": {
      "text/html": [
       "Run data is saved locally in <code>/home/chenlequn/GitHub/MultiSensor-Monitoring-LW-DED/Code/wandb/run-20240411_150359-mx3k8tb6</code>"
      ],
      "text/plain": [
       "<IPython.core.display.HTML object>"
      ]
     },
     "metadata": {},
     "output_type": "display_data"
    },
    {
     "data": {
      "text/html": [
       "Syncing run <strong><a href='https://wandb.ai/lequn/LW-DED_audio-classification/runs/mx3k8tb6' target=\"_blank\">BalancedRF_Ablated 1</a></strong> to <a href='https://wandb.ai/lequn/LW-DED_audio-classification' target=\"_blank\">Weights & Biases</a> (<a href='https://wandb.me/run' target=\"_blank\">docs</a>)<br/>"
      ],
      "text/plain": [
       "<IPython.core.display.HTML object>"
      ]
     },
     "metadata": {},
     "output_type": "display_data"
    },
    {
     "data": {
      "text/html": [
       " View project at <a href='https://wandb.ai/lequn/LW-DED_audio-classification' target=\"_blank\">https://wandb.ai/lequn/LW-DED_audio-classification</a>"
      ],
      "text/plain": [
       "<IPython.core.display.HTML object>"
      ]
     },
     "metadata": {},
     "output_type": "display_data"
    },
    {
     "data": {
      "text/html": [
       " View run at <a href='https://wandb.ai/lequn/LW-DED_audio-classification/runs/mx3k8tb6' target=\"_blank\">https://wandb.ai/lequn/LW-DED_audio-classification/runs/mx3k8tb6</a>"
      ],
      "text/plain": [
       "<IPython.core.display.HTML object>"
      ]
     },
     "metadata": {},
     "output_type": "display_data"
    },
    {
     "name": "stderr",
     "output_type": "stream",
     "text": [
      "/home/chenlequn/anaconda3/envs/torch/lib/python3.9/site-packages/imblearn/ensemble/_forest.py:546: FutureWarning: The default of `sampling_strategy` will change from `'auto'` to `'all'` in version 0.13. This change will follow the implementation proposed in the original paper. Set to `'all'` to silence this warning and adopt the future behaviour.\n",
      "  warn(\n",
      "/home/chenlequn/anaconda3/envs/torch/lib/python3.9/site-packages/imblearn/ensemble/_forest.py:558: FutureWarning: The default of `replacement` will change from `False` to `True` in version 0.13. This change will follow the implementation proposed in the original paper. Set to `True` to silence this warning and adopt the future behaviour.\n",
      "  warn(\n"
     ]
    },
    {
     "name": "stdout",
     "output_type": "stream",
     "text": [
      "\t\tAccuracy: Mean = 0.9149313009875482, Std = 0.02110381640039727\n",
      "\t\tF1 Score: Mean = 0.9192582155325398, Std = 0.020188240743572734\n",
      "\t\tPrecision: Mean = 0.9293671529222122, Std = 0.01944633428246586\n",
      "\t\tRecall: Mean = 0.9149313009875482, Std = 0.02110381640039727\n",
      "\t\tROC-AUC: Mean = 0.9877115475695065, Std = 0.0031761499626687963\n"
     ]
    },
    {
     "data": {
      "text/html": [
       "Waiting for W&B process to finish... <strong style=\"color:green\">(success).</strong>"
      ],
      "text/plain": [
       "<IPython.core.display.HTML object>"
      ]
     },
     "metadata": {},
     "output_type": "display_data"
    },
    {
     "data": {
      "text/html": [
       "<style>\n",
       "    table.wandb td:nth-child(1) { padding: 0 10px; text-align: left ; width: auto;} td:nth-child(2) {text-align: left ; width: 100%}\n",
       "    .wandb-row { display: flex; flex-direction: row; flex-wrap: wrap; justify-content: flex-start; width: 100% }\n",
       "    .wandb-col { display: flex; flex-direction: column; flex-basis: 100%; flex: 1; padding: 10px; }\n",
       "    </style>\n",
       "<div class=\"wandb-row\"><div class=\"wandb-col\"><h3>Run history:</h3><br/><table class=\"wandb\"><tr><td>Accuracy_mean</td><td>▁</td></tr><tr><td>Accuracy_std</td><td>▁</td></tr><tr><td>F1 Score_mean</td><td>▁</td></tr><tr><td>F1 Score_std</td><td>▁</td></tr><tr><td>Precision_mean</td><td>▁</td></tr><tr><td>Precision_std</td><td>▁</td></tr><tr><td>ROC-AUC_mean</td><td>▁</td></tr><tr><td>ROC-AUC_std</td><td>▁</td></tr><tr><td>Recall_mean</td><td>▁</td></tr><tr><td>Recall_std</td><td>▁</td></tr></table><br/></div><div class=\"wandb-col\"><h3>Run summary:</h3><br/><table class=\"wandb\"><tr><td>Accuracy_mean</td><td>0.91493</td></tr><tr><td>Accuracy_std</td><td>0.0211</td></tr><tr><td>F1 Score_mean</td><td>0.91926</td></tr><tr><td>F1 Score_std</td><td>0.02019</td></tr><tr><td>Precision_mean</td><td>0.92937</td></tr><tr><td>Precision_std</td><td>0.01945</td></tr><tr><td>ROC-AUC_mean</td><td>0.98771</td></tr><tr><td>ROC-AUC_std</td><td>0.00318</td></tr><tr><td>Recall_mean</td><td>0.91493</td></tr><tr><td>Recall_std</td><td>0.0211</td></tr></table><br/></div></div>"
      ],
      "text/plain": [
       "<IPython.core.display.HTML object>"
      ]
     },
     "metadata": {},
     "output_type": "display_data"
    },
    {
     "data": {
      "text/html": [
       " View run <strong style=\"color:#cdcd00\">BalancedRF_Ablated 1</strong> at: <a href='https://wandb.ai/lequn/LW-DED_audio-classification/runs/mx3k8tb6' target=\"_blank\">https://wandb.ai/lequn/LW-DED_audio-classification/runs/mx3k8tb6</a><br/> View job at <a href='https://wandb.ai/lequn/LW-DED_audio-classification/jobs/QXJ0aWZhY3RDb2xsZWN0aW9uOjE2MTUxNDY2MA==/version_details/v12' target=\"_blank\">https://wandb.ai/lequn/LW-DED_audio-classification/jobs/QXJ0aWZhY3RDb2xsZWN0aW9uOjE2MTUxNDY2MA==/version_details/v12</a><br/>Synced 6 W&B file(s), 0 media file(s), 0 artifact file(s) and 0 other file(s)"
      ],
      "text/plain": [
       "<IPython.core.display.HTML object>"
      ]
     },
     "metadata": {},
     "output_type": "display_data"
    },
    {
     "data": {
      "text/html": [
       "Find logs at: <code>./wandb/run-20240411_150359-mx3k8tb6/logs</code>"
      ],
      "text/plain": [
       "<IPython.core.display.HTML object>"
      ]
     },
     "metadata": {},
     "output_type": "display_data"
    },
    {
     "name": "stdout",
     "output_type": "stream",
     "text": [
      "\tTraining model: RUSBoost\n"
     ]
    },
    {
     "data": {
      "application/vnd.jupyter.widget-view+json": {
       "model_id": "e16ce7441d6041a29454ddc8519ab32a",
       "version_major": 2,
       "version_minor": 0
      },
      "text/plain": [
       "VBox(children=(Label(value='Waiting for wandb.init()...\\r'), FloatProgress(value=0.011112447433333728, max=1.0…"
      ]
     },
     "metadata": {},
     "output_type": "display_data"
    },
    {
     "data": {
      "text/html": [
       "wandb version 0.16.6 is available!  To upgrade, please run:\n",
       " $ pip install wandb --upgrade"
      ],
      "text/plain": [
       "<IPython.core.display.HTML object>"
      ]
     },
     "metadata": {},
     "output_type": "display_data"
    },
    {
     "data": {
      "text/html": [
       "Tracking run with wandb version 0.15.12"
      ],
      "text/plain": [
       "<IPython.core.display.HTML object>"
      ]
     },
     "metadata": {},
     "output_type": "display_data"
    },
    {
     "data": {
      "text/html": [
       "Run data is saved locally in <code>/home/chenlequn/GitHub/MultiSensor-Monitoring-LW-DED/Code/wandb/run-20240411_150412-0tga2302</code>"
      ],
      "text/plain": [
       "<IPython.core.display.HTML object>"
      ]
     },
     "metadata": {},
     "output_type": "display_data"
    },
    {
     "data": {
      "text/html": [
       "Syncing run <strong><a href='https://wandb.ai/lequn/LW-DED_audio-classification/runs/0tga2302' target=\"_blank\">RUSBoost_Ablated 1</a></strong> to <a href='https://wandb.ai/lequn/LW-DED_audio-classification' target=\"_blank\">Weights & Biases</a> (<a href='https://wandb.me/run' target=\"_blank\">docs</a>)<br/>"
      ],
      "text/plain": [
       "<IPython.core.display.HTML object>"
      ]
     },
     "metadata": {},
     "output_type": "display_data"
    },
    {
     "data": {
      "text/html": [
       " View project at <a href='https://wandb.ai/lequn/LW-DED_audio-classification' target=\"_blank\">https://wandb.ai/lequn/LW-DED_audio-classification</a>"
      ],
      "text/plain": [
       "<IPython.core.display.HTML object>"
      ]
     },
     "metadata": {},
     "output_type": "display_data"
    },
    {
     "data": {
      "text/html": [
       " View run at <a href='https://wandb.ai/lequn/LW-DED_audio-classification/runs/0tga2302' target=\"_blank\">https://wandb.ai/lequn/LW-DED_audio-classification/runs/0tga2302</a>"
      ],
      "text/plain": [
       "<IPython.core.display.HTML object>"
      ]
     },
     "metadata": {},
     "output_type": "display_data"
    },
    {
     "name": "stdout",
     "output_type": "stream",
     "text": [
      "\t\tAccuracy: Mean = 0.9105624731644483, Std = 0.008470286422458999\n",
      "\t\tF1 Score: Mean = 0.9159620345414327, Std = 0.006797832560175339\n",
      "\t\tPrecision: Mean = 0.9298366939793945, Std = 0.011465820433661598\n",
      "\t\tRecall: Mean = 0.9105624731644483, Std = 0.008470286422458999\n",
      "\t\tROC-AUC: Mean = 0.9795818552248846, Std = 0.0043939165426208895\n"
     ]
    },
    {
     "data": {
      "text/html": [
       "Waiting for W&B process to finish... <strong style=\"color:green\">(success).</strong>"
      ],
      "text/plain": [
       "<IPython.core.display.HTML object>"
      ]
     },
     "metadata": {},
     "output_type": "display_data"
    },
    {
     "data": {
      "text/html": [
       "<style>\n",
       "    table.wandb td:nth-child(1) { padding: 0 10px; text-align: left ; width: auto;} td:nth-child(2) {text-align: left ; width: 100%}\n",
       "    .wandb-row { display: flex; flex-direction: row; flex-wrap: wrap; justify-content: flex-start; width: 100% }\n",
       "    .wandb-col { display: flex; flex-direction: column; flex-basis: 100%; flex: 1; padding: 10px; }\n",
       "    </style>\n",
       "<div class=\"wandb-row\"><div class=\"wandb-col\"><h3>Run history:</h3><br/><table class=\"wandb\"><tr><td>Accuracy_mean</td><td>▁</td></tr><tr><td>Accuracy_std</td><td>▁</td></tr><tr><td>F1 Score_mean</td><td>▁</td></tr><tr><td>F1 Score_std</td><td>▁</td></tr><tr><td>Precision_mean</td><td>▁</td></tr><tr><td>Precision_std</td><td>▁</td></tr><tr><td>ROC-AUC_mean</td><td>▁</td></tr><tr><td>ROC-AUC_std</td><td>▁</td></tr><tr><td>Recall_mean</td><td>▁</td></tr><tr><td>Recall_std</td><td>▁</td></tr></table><br/></div><div class=\"wandb-col\"><h3>Run summary:</h3><br/><table class=\"wandb\"><tr><td>Accuracy_mean</td><td>0.91056</td></tr><tr><td>Accuracy_std</td><td>0.00847</td></tr><tr><td>F1 Score_mean</td><td>0.91596</td></tr><tr><td>F1 Score_std</td><td>0.0068</td></tr><tr><td>Precision_mean</td><td>0.92984</td></tr><tr><td>Precision_std</td><td>0.01147</td></tr><tr><td>ROC-AUC_mean</td><td>0.97958</td></tr><tr><td>ROC-AUC_std</td><td>0.00439</td></tr><tr><td>Recall_mean</td><td>0.91056</td></tr><tr><td>Recall_std</td><td>0.00847</td></tr></table><br/></div></div>"
      ],
      "text/plain": [
       "<IPython.core.display.HTML object>"
      ]
     },
     "metadata": {},
     "output_type": "display_data"
    },
    {
     "data": {
      "text/html": [
       " View run <strong style=\"color:#cdcd00\">RUSBoost_Ablated 1</strong> at: <a href='https://wandb.ai/lequn/LW-DED_audio-classification/runs/0tga2302' target=\"_blank\">https://wandb.ai/lequn/LW-DED_audio-classification/runs/0tga2302</a><br/> View job at <a href='https://wandb.ai/lequn/LW-DED_audio-classification/jobs/QXJ0aWZhY3RDb2xsZWN0aW9uOjE2MTUxNDY2MA==/version_details/v12' target=\"_blank\">https://wandb.ai/lequn/LW-DED_audio-classification/jobs/QXJ0aWZhY3RDb2xsZWN0aW9uOjE2MTUxNDY2MA==/version_details/v12</a><br/>Synced 6 W&B file(s), 0 media file(s), 0 artifact file(s) and 0 other file(s)"
      ],
      "text/plain": [
       "<IPython.core.display.HTML object>"
      ]
     },
     "metadata": {},
     "output_type": "display_data"
    },
    {
     "data": {
      "text/html": [
       "Find logs at: <code>./wandb/run-20240411_150412-0tga2302/logs</code>"
      ],
      "text/plain": [
       "<IPython.core.display.HTML object>"
      ]
     },
     "metadata": {},
     "output_type": "display_data"
    },
    {
     "name": "stdout",
     "output_type": "stream",
     "text": [
      "\tTraining model: Ada\n"
     ]
    },
    {
     "data": {
      "application/vnd.jupyter.widget-view+json": {
       "model_id": "4cc01f4cfeb64a788c0828aee79e4616",
       "version_major": 2,
       "version_minor": 0
      },
      "text/plain": [
       "VBox(children=(Label(value='Waiting for wandb.init()...\\r'), FloatProgress(value=0.011112476366664244, max=1.0…"
      ]
     },
     "metadata": {},
     "output_type": "display_data"
    },
    {
     "data": {
      "text/html": [
       "wandb version 0.16.6 is available!  To upgrade, please run:\n",
       " $ pip install wandb --upgrade"
      ],
      "text/plain": [
       "<IPython.core.display.HTML object>"
      ]
     },
     "metadata": {},
     "output_type": "display_data"
    },
    {
     "data": {
      "text/html": [
       "Tracking run with wandb version 0.15.12"
      ],
      "text/plain": [
       "<IPython.core.display.HTML object>"
      ]
     },
     "metadata": {},
     "output_type": "display_data"
    },
    {
     "data": {
      "text/html": [
       "Run data is saved locally in <code>/home/chenlequn/GitHub/MultiSensor-Monitoring-LW-DED/Code/wandb/run-20240411_150425-fgu679k1</code>"
      ],
      "text/plain": [
       "<IPython.core.display.HTML object>"
      ]
     },
     "metadata": {},
     "output_type": "display_data"
    },
    {
     "data": {
      "text/html": [
       "Syncing run <strong><a href='https://wandb.ai/lequn/LW-DED_audio-classification/runs/fgu679k1' target=\"_blank\">Ada_Ablated 1</a></strong> to <a href='https://wandb.ai/lequn/LW-DED_audio-classification' target=\"_blank\">Weights & Biases</a> (<a href='https://wandb.me/run' target=\"_blank\">docs</a>)<br/>"
      ],
      "text/plain": [
       "<IPython.core.display.HTML object>"
      ]
     },
     "metadata": {},
     "output_type": "display_data"
    },
    {
     "data": {
      "text/html": [
       " View project at <a href='https://wandb.ai/lequn/LW-DED_audio-classification' target=\"_blank\">https://wandb.ai/lequn/LW-DED_audio-classification</a>"
      ],
      "text/plain": [
       "<IPython.core.display.HTML object>"
      ]
     },
     "metadata": {},
     "output_type": "display_data"
    },
    {
     "data": {
      "text/html": [
       " View run at <a href='https://wandb.ai/lequn/LW-DED_audio-classification/runs/fgu679k1' target=\"_blank\">https://wandb.ai/lequn/LW-DED_audio-classification/runs/fgu679k1</a>"
      ],
      "text/plain": [
       "<IPython.core.display.HTML object>"
      ]
     },
     "metadata": {},
     "output_type": "display_data"
    },
    {
     "name": "stdout",
     "output_type": "stream",
     "text": [
      "\t\tAccuracy: Mean = 0.9149635036496351, Std = 0.01940041055829878\n",
      "\t\tF1 Score: Mean = 0.9126592283623933, Std = 0.018917196270235064\n",
      "\t\tPrecision: Mean = 0.9162644475041197, Std = 0.015148796214167202\n",
      "\t\tRecall: Mean = 0.9149635036496351, Std = 0.01940041055829878\n",
      "\t\tROC-AUC: Mean = 0.9790179620059082, Std = 0.004160357129024215\n"
     ]
    },
    {
     "data": {
      "text/html": [
       "Waiting for W&B process to finish... <strong style=\"color:green\">(success).</strong>"
      ],
      "text/plain": [
       "<IPython.core.display.HTML object>"
      ]
     },
     "metadata": {},
     "output_type": "display_data"
    },
    {
     "data": {
      "text/html": [
       "<style>\n",
       "    table.wandb td:nth-child(1) { padding: 0 10px; text-align: left ; width: auto;} td:nth-child(2) {text-align: left ; width: 100%}\n",
       "    .wandb-row { display: flex; flex-direction: row; flex-wrap: wrap; justify-content: flex-start; width: 100% }\n",
       "    .wandb-col { display: flex; flex-direction: column; flex-basis: 100%; flex: 1; padding: 10px; }\n",
       "    </style>\n",
       "<div class=\"wandb-row\"><div class=\"wandb-col\"><h3>Run history:</h3><br/><table class=\"wandb\"><tr><td>Accuracy_mean</td><td>▁</td></tr><tr><td>Accuracy_std</td><td>▁</td></tr><tr><td>F1 Score_mean</td><td>▁</td></tr><tr><td>F1 Score_std</td><td>▁</td></tr><tr><td>Precision_mean</td><td>▁</td></tr><tr><td>Precision_std</td><td>▁</td></tr><tr><td>ROC-AUC_mean</td><td>▁</td></tr><tr><td>ROC-AUC_std</td><td>▁</td></tr><tr><td>Recall_mean</td><td>▁</td></tr><tr><td>Recall_std</td><td>▁</td></tr></table><br/></div><div class=\"wandb-col\"><h3>Run summary:</h3><br/><table class=\"wandb\"><tr><td>Accuracy_mean</td><td>0.91496</td></tr><tr><td>Accuracy_std</td><td>0.0194</td></tr><tr><td>F1 Score_mean</td><td>0.91266</td></tr><tr><td>F1 Score_std</td><td>0.01892</td></tr><tr><td>Precision_mean</td><td>0.91626</td></tr><tr><td>Precision_std</td><td>0.01515</td></tr><tr><td>ROC-AUC_mean</td><td>0.97902</td></tr><tr><td>ROC-AUC_std</td><td>0.00416</td></tr><tr><td>Recall_mean</td><td>0.91496</td></tr><tr><td>Recall_std</td><td>0.0194</td></tr></table><br/></div></div>"
      ],
      "text/plain": [
       "<IPython.core.display.HTML object>"
      ]
     },
     "metadata": {},
     "output_type": "display_data"
    },
    {
     "data": {
      "text/html": [
       " View run <strong style=\"color:#cdcd00\">Ada_Ablated 1</strong> at: <a href='https://wandb.ai/lequn/LW-DED_audio-classification/runs/fgu679k1' target=\"_blank\">https://wandb.ai/lequn/LW-DED_audio-classification/runs/fgu679k1</a><br/> View job at <a href='https://wandb.ai/lequn/LW-DED_audio-classification/jobs/QXJ0aWZhY3RDb2xsZWN0aW9uOjE2MTUxNDY2MA==/version_details/v12' target=\"_blank\">https://wandb.ai/lequn/LW-DED_audio-classification/jobs/QXJ0aWZhY3RDb2xsZWN0aW9uOjE2MTUxNDY2MA==/version_details/v12</a><br/>Synced 6 W&B file(s), 0 media file(s), 0 artifact file(s) and 0 other file(s)"
      ],
      "text/plain": [
       "<IPython.core.display.HTML object>"
      ]
     },
     "metadata": {},
     "output_type": "display_data"
    },
    {
     "data": {
      "text/html": [
       "Find logs at: <code>./wandb/run-20240411_150425-fgu679k1/logs</code>"
      ],
      "text/plain": [
       "<IPython.core.display.HTML object>"
      ]
     },
     "metadata": {},
     "output_type": "display_data"
    },
    {
     "name": "stdout",
     "output_type": "stream",
     "text": [
      "\tTraining model: NN\n"
     ]
    },
    {
     "data": {
      "application/vnd.jupyter.widget-view+json": {
       "model_id": "b919899732974b8d9b35a71e40832a17",
       "version_major": 2,
       "version_minor": 0
      },
      "text/plain": [
       "VBox(children=(Label(value='Waiting for wandb.init()...\\r'), FloatProgress(value=0.01111421637781152, max=1.0)…"
      ]
     },
     "metadata": {},
     "output_type": "display_data"
    },
    {
     "data": {
      "text/html": [
       "wandb version 0.16.6 is available!  To upgrade, please run:\n",
       " $ pip install wandb --upgrade"
      ],
      "text/plain": [
       "<IPython.core.display.HTML object>"
      ]
     },
     "metadata": {},
     "output_type": "display_data"
    },
    {
     "data": {
      "text/html": [
       "Tracking run with wandb version 0.15.12"
      ],
      "text/plain": [
       "<IPython.core.display.HTML object>"
      ]
     },
     "metadata": {},
     "output_type": "display_data"
    },
    {
     "data": {
      "text/html": [
       "Run data is saved locally in <code>/home/chenlequn/GitHub/MultiSensor-Monitoring-LW-DED/Code/wandb/run-20240411_150444-gqg1zswo</code>"
      ],
      "text/plain": [
       "<IPython.core.display.HTML object>"
      ]
     },
     "metadata": {},
     "output_type": "display_data"
    },
    {
     "data": {
      "text/html": [
       "Syncing run <strong><a href='https://wandb.ai/lequn/LW-DED_audio-classification/runs/gqg1zswo' target=\"_blank\">NN_Ablated 1</a></strong> to <a href='https://wandb.ai/lequn/LW-DED_audio-classification' target=\"_blank\">Weights & Biases</a> (<a href='https://wandb.me/run' target=\"_blank\">docs</a>)<br/>"
      ],
      "text/plain": [
       "<IPython.core.display.HTML object>"
      ]
     },
     "metadata": {},
     "output_type": "display_data"
    },
    {
     "data": {
      "text/html": [
       " View project at <a href='https://wandb.ai/lequn/LW-DED_audio-classification' target=\"_blank\">https://wandb.ai/lequn/LW-DED_audio-classification</a>"
      ],
      "text/plain": [
       "<IPython.core.display.HTML object>"
      ]
     },
     "metadata": {},
     "output_type": "display_data"
    },
    {
     "data": {
      "text/html": [
       " View run at <a href='https://wandb.ai/lequn/LW-DED_audio-classification/runs/gqg1zswo' target=\"_blank\">https://wandb.ai/lequn/LW-DED_audio-classification/runs/gqg1zswo</a>"
      ],
      "text/plain": [
       "<IPython.core.display.HTML object>"
      ]
     },
     "metadata": {},
     "output_type": "display_data"
    },
    {
     "name": "stdout",
     "output_type": "stream",
     "text": [
      "\t\tAccuracy: Mean = 0.9295835122370116, Std = 0.012103898879144915\n",
      "\t\tF1 Score: Mean = 0.928806815212039, Std = 0.01335716625027119\n",
      "\t\tPrecision: Mean = 0.9314807963661629, Std = 0.014233067816470475\n",
      "\t\tRecall: Mean = 0.9295835122370116, Std = 0.012103898879144915\n",
      "\t\tROC-AUC: Mean = 0.9892091904796942, Std = 0.0017684917353659663\n"
     ]
    },
    {
     "data": {
      "text/html": [
       "Waiting for W&B process to finish... <strong style=\"color:green\">(success).</strong>"
      ],
      "text/plain": [
       "<IPython.core.display.HTML object>"
      ]
     },
     "metadata": {},
     "output_type": "display_data"
    },
    {
     "data": {
      "text/html": [
       "<style>\n",
       "    table.wandb td:nth-child(1) { padding: 0 10px; text-align: left ; width: auto;} td:nth-child(2) {text-align: left ; width: 100%}\n",
       "    .wandb-row { display: flex; flex-direction: row; flex-wrap: wrap; justify-content: flex-start; width: 100% }\n",
       "    .wandb-col { display: flex; flex-direction: column; flex-basis: 100%; flex: 1; padding: 10px; }\n",
       "    </style>\n",
       "<div class=\"wandb-row\"><div class=\"wandb-col\"><h3>Run history:</h3><br/><table class=\"wandb\"><tr><td>Accuracy_mean</td><td>▁</td></tr><tr><td>Accuracy_std</td><td>▁</td></tr><tr><td>F1 Score_mean</td><td>▁</td></tr><tr><td>F1 Score_std</td><td>▁</td></tr><tr><td>Precision_mean</td><td>▁</td></tr><tr><td>Precision_std</td><td>▁</td></tr><tr><td>ROC-AUC_mean</td><td>▁</td></tr><tr><td>ROC-AUC_std</td><td>▁</td></tr><tr><td>Recall_mean</td><td>▁</td></tr><tr><td>Recall_std</td><td>▁</td></tr></table><br/></div><div class=\"wandb-col\"><h3>Run summary:</h3><br/><table class=\"wandb\"><tr><td>Accuracy_mean</td><td>0.92958</td></tr><tr><td>Accuracy_std</td><td>0.0121</td></tr><tr><td>F1 Score_mean</td><td>0.92881</td></tr><tr><td>F1 Score_std</td><td>0.01336</td></tr><tr><td>Precision_mean</td><td>0.93148</td></tr><tr><td>Precision_std</td><td>0.01423</td></tr><tr><td>ROC-AUC_mean</td><td>0.98921</td></tr><tr><td>ROC-AUC_std</td><td>0.00177</td></tr><tr><td>Recall_mean</td><td>0.92958</td></tr><tr><td>Recall_std</td><td>0.0121</td></tr></table><br/></div></div>"
      ],
      "text/plain": [
       "<IPython.core.display.HTML object>"
      ]
     },
     "metadata": {},
     "output_type": "display_data"
    },
    {
     "data": {
      "text/html": [
       " View run <strong style=\"color:#cdcd00\">NN_Ablated 1</strong> at: <a href='https://wandb.ai/lequn/LW-DED_audio-classification/runs/gqg1zswo' target=\"_blank\">https://wandb.ai/lequn/LW-DED_audio-classification/runs/gqg1zswo</a><br/> View job at <a href='https://wandb.ai/lequn/LW-DED_audio-classification/jobs/QXJ0aWZhY3RDb2xsZWN0aW9uOjE2MTUxNDY2MA==/version_details/v12' target=\"_blank\">https://wandb.ai/lequn/LW-DED_audio-classification/jobs/QXJ0aWZhY3RDb2xsZWN0aW9uOjE2MTUxNDY2MA==/version_details/v12</a><br/>Synced 6 W&B file(s), 0 media file(s), 0 artifact file(s) and 0 other file(s)"
      ],
      "text/plain": [
       "<IPython.core.display.HTML object>"
      ]
     },
     "metadata": {},
     "output_type": "display_data"
    },
    {
     "data": {
      "text/html": [
       "Find logs at: <code>./wandb/run-20240411_150444-gqg1zswo/logs</code>"
      ],
      "text/plain": [
       "<IPython.core.display.HTML object>"
      ]
     },
     "metadata": {},
     "output_type": "display_data"
    },
    {
     "name": "stdout",
     "output_type": "stream",
     "text": [
      "\tTraining model: XGBoost\n"
     ]
    },
    {
     "data": {
      "application/vnd.jupyter.widget-view+json": {
       "model_id": "60c5aeed65914f2f8a05f49431f2c849",
       "version_major": 2,
       "version_minor": 0
      },
      "text/plain": [
       "VBox(children=(Label(value='Waiting for wandb.init()...\\r'), FloatProgress(value=0.011112272044435182, max=1.0…"
      ]
     },
     "metadata": {},
     "output_type": "display_data"
    },
    {
     "data": {
      "text/html": [
       "wandb version 0.16.6 is available!  To upgrade, please run:\n",
       " $ pip install wandb --upgrade"
      ],
      "text/plain": [
       "<IPython.core.display.HTML object>"
      ]
     },
     "metadata": {},
     "output_type": "display_data"
    },
    {
     "data": {
      "text/html": [
       "Tracking run with wandb version 0.15.12"
      ],
      "text/plain": [
       "<IPython.core.display.HTML object>"
      ]
     },
     "metadata": {},
     "output_type": "display_data"
    },
    {
     "data": {
      "text/html": [
       "Run data is saved locally in <code>/home/chenlequn/GitHub/MultiSensor-Monitoring-LW-DED/Code/wandb/run-20240411_150457-ho4bx3gm</code>"
      ],
      "text/plain": [
       "<IPython.core.display.HTML object>"
      ]
     },
     "metadata": {},
     "output_type": "display_data"
    },
    {
     "data": {
      "text/html": [
       "Syncing run <strong><a href='https://wandb.ai/lequn/LW-DED_audio-classification/runs/ho4bx3gm' target=\"_blank\">XGBoost_Ablated 1</a></strong> to <a href='https://wandb.ai/lequn/LW-DED_audio-classification' target=\"_blank\">Weights & Biases</a> (<a href='https://wandb.me/run' target=\"_blank\">docs</a>)<br/>"
      ],
      "text/plain": [
       "<IPython.core.display.HTML object>"
      ]
     },
     "metadata": {},
     "output_type": "display_data"
    },
    {
     "data": {
      "text/html": [
       " View project at <a href='https://wandb.ai/lequn/LW-DED_audio-classification' target=\"_blank\">https://wandb.ai/lequn/LW-DED_audio-classification</a>"
      ],
      "text/plain": [
       "<IPython.core.display.HTML object>"
      ]
     },
     "metadata": {},
     "output_type": "display_data"
    },
    {
     "data": {
      "text/html": [
       " View run at <a href='https://wandb.ai/lequn/LW-DED_audio-classification/runs/ho4bx3gm' target=\"_blank\">https://wandb.ai/lequn/LW-DED_audio-classification/runs/ho4bx3gm</a>"
      ],
      "text/plain": [
       "<IPython.core.display.HTML object>"
      ]
     },
     "metadata": {},
     "output_type": "display_data"
    },
    {
     "name": "stdout",
     "output_type": "stream",
     "text": [
      "[15:05:01] WARNING: ../src/learner.cc:339: No visible GPU is found, setting `gpu_id` to -1\n",
      "\t\tAccuracy: Mean = 0.9310755689136968, Std = 0.011058925336499898\n",
      "\t\tF1 Score: Mean = 0.9293371700848532, Std = 0.011454808293576568\n",
      "\t\tPrecision: Mean = 0.9305842592303449, Std = 0.011091908177326314\n",
      "\t\tRecall: Mean = 0.9310755689136968, Std = 0.011058925336499898\n",
      "\t\tROC-AUC: Mean = 0.9918718499716631, Std = 0.0019216212957510292\n"
     ]
    },
    {
     "data": {
      "text/html": [
       "Waiting for W&B process to finish... <strong style=\"color:green\">(success).</strong>"
      ],
      "text/plain": [
       "<IPython.core.display.HTML object>"
      ]
     },
     "metadata": {},
     "output_type": "display_data"
    },
    {
     "data": {
      "application/vnd.jupyter.widget-view+json": {
       "model_id": "2dd2cd53cf364d91b4ad2901a7fd3486",
       "version_major": 2,
       "version_minor": 0
      },
      "text/plain": [
       "VBox(children=(Label(value='0.004 MB of 0.004 MB uploaded (0.000 MB deduped)\\r'), FloatProgress(value=1.0, max…"
      ]
     },
     "metadata": {},
     "output_type": "display_data"
    },
    {
     "data": {
      "text/html": [
       "<style>\n",
       "    table.wandb td:nth-child(1) { padding: 0 10px; text-align: left ; width: auto;} td:nth-child(2) {text-align: left ; width: 100%}\n",
       "    .wandb-row { display: flex; flex-direction: row; flex-wrap: wrap; justify-content: flex-start; width: 100% }\n",
       "    .wandb-col { display: flex; flex-direction: column; flex-basis: 100%; flex: 1; padding: 10px; }\n",
       "    </style>\n",
       "<div class=\"wandb-row\"><div class=\"wandb-col\"><h3>Run history:</h3><br/><table class=\"wandb\"><tr><td>Accuracy_mean</td><td>▁</td></tr><tr><td>Accuracy_std</td><td>▁</td></tr><tr><td>F1 Score_mean</td><td>▁</td></tr><tr><td>F1 Score_std</td><td>▁</td></tr><tr><td>Precision_mean</td><td>▁</td></tr><tr><td>Precision_std</td><td>▁</td></tr><tr><td>ROC-AUC_mean</td><td>▁</td></tr><tr><td>ROC-AUC_std</td><td>▁</td></tr><tr><td>Recall_mean</td><td>▁</td></tr><tr><td>Recall_std</td><td>▁</td></tr></table><br/></div><div class=\"wandb-col\"><h3>Run summary:</h3><br/><table class=\"wandb\"><tr><td>Accuracy_mean</td><td>0.93108</td></tr><tr><td>Accuracy_std</td><td>0.01106</td></tr><tr><td>F1 Score_mean</td><td>0.92934</td></tr><tr><td>F1 Score_std</td><td>0.01145</td></tr><tr><td>Precision_mean</td><td>0.93058</td></tr><tr><td>Precision_std</td><td>0.01109</td></tr><tr><td>ROC-AUC_mean</td><td>0.99187</td></tr><tr><td>ROC-AUC_std</td><td>0.00192</td></tr><tr><td>Recall_mean</td><td>0.93108</td></tr><tr><td>Recall_std</td><td>0.01106</td></tr></table><br/></div></div>"
      ],
      "text/plain": [
       "<IPython.core.display.HTML object>"
      ]
     },
     "metadata": {},
     "output_type": "display_data"
    },
    {
     "data": {
      "text/html": [
       " View run <strong style=\"color:#cdcd00\">XGBoost_Ablated 1</strong> at: <a href='https://wandb.ai/lequn/LW-DED_audio-classification/runs/ho4bx3gm' target=\"_blank\">https://wandb.ai/lequn/LW-DED_audio-classification/runs/ho4bx3gm</a><br/> View job at <a href='https://wandb.ai/lequn/LW-DED_audio-classification/jobs/QXJ0aWZhY3RDb2xsZWN0aW9uOjE2MTUxNDY2MA==/version_details/v12' target=\"_blank\">https://wandb.ai/lequn/LW-DED_audio-classification/jobs/QXJ0aWZhY3RDb2xsZWN0aW9uOjE2MTUxNDY2MA==/version_details/v12</a><br/>Synced 6 W&B file(s), 0 media file(s), 0 artifact file(s) and 0 other file(s)"
      ],
      "text/plain": [
       "<IPython.core.display.HTML object>"
      ]
     },
     "metadata": {},
     "output_type": "display_data"
    },
    {
     "data": {
      "text/html": [
       "Find logs at: <code>./wandb/run-20240411_150457-ho4bx3gm/logs</code>"
      ],
      "text/plain": [
       "<IPython.core.display.HTML object>"
      ]
     },
     "metadata": {},
     "output_type": "display_data"
    },
    {
     "name": "stdout",
     "output_type": "stream",
     "text": [
      "\tTraining model: LightGBM\n"
     ]
    },
    {
     "data": {
      "application/vnd.jupyter.widget-view+json": {
       "model_id": "0e6ffadd70fb4531ba99c86cf1c7167a",
       "version_major": 2,
       "version_minor": 0
      },
      "text/plain": [
       "VBox(children=(Label(value='Waiting for wandb.init()...\\r'), FloatProgress(value=0.011113951522202115, max=1.0…"
      ]
     },
     "metadata": {},
     "output_type": "display_data"
    },
    {
     "data": {
      "text/html": [
       "wandb version 0.16.6 is available!  To upgrade, please run:\n",
       " $ pip install wandb --upgrade"
      ],
      "text/plain": [
       "<IPython.core.display.HTML object>"
      ]
     },
     "metadata": {},
     "output_type": "display_data"
    },
    {
     "data": {
      "text/html": [
       "Tracking run with wandb version 0.15.12"
      ],
      "text/plain": [
       "<IPython.core.display.HTML object>"
      ]
     },
     "metadata": {},
     "output_type": "display_data"
    },
    {
     "data": {
      "text/html": [
       "Run data is saved locally in <code>/home/chenlequn/GitHub/MultiSensor-Monitoring-LW-DED/Code/wandb/run-20240411_150508-aq4nnkh5</code>"
      ],
      "text/plain": [
       "<IPython.core.display.HTML object>"
      ]
     },
     "metadata": {},
     "output_type": "display_data"
    },
    {
     "data": {
      "text/html": [
       "Syncing run <strong><a href='https://wandb.ai/lequn/LW-DED_audio-classification/runs/aq4nnkh5' target=\"_blank\">LightGBM_Ablated 1</a></strong> to <a href='https://wandb.ai/lequn/LW-DED_audio-classification' target=\"_blank\">Weights & Biases</a> (<a href='https://wandb.me/run' target=\"_blank\">docs</a>)<br/>"
      ],
      "text/plain": [
       "<IPython.core.display.HTML object>"
      ]
     },
     "metadata": {},
     "output_type": "display_data"
    },
    {
     "data": {
      "text/html": [
       " View project at <a href='https://wandb.ai/lequn/LW-DED_audio-classification' target=\"_blank\">https://wandb.ai/lequn/LW-DED_audio-classification</a>"
      ],
      "text/plain": [
       "<IPython.core.display.HTML object>"
      ]
     },
     "metadata": {},
     "output_type": "display_data"
    },
    {
     "data": {
      "text/html": [
       " View run at <a href='https://wandb.ai/lequn/LW-DED_audio-classification/runs/aq4nnkh5' target=\"_blank\">https://wandb.ai/lequn/LW-DED_audio-classification/runs/aq4nnkh5</a>"
      ],
      "text/plain": [
       "<IPython.core.display.HTML object>"
      ]
     },
     "metadata": {},
     "output_type": "display_data"
    },
    {
     "name": "stdout",
     "output_type": "stream",
     "text": [
      "\t\tAccuracy: Mean = 0.9398668956633749, Std = 0.01640593513163501\n",
      "\t\tF1 Score: Mean = 0.9385797724747492, Std = 0.015806401453450376\n",
      "\t\tPrecision: Mean = 0.9410111603514217, Std = 0.015906128563076605\n",
      "\t\tRecall: Mean = 0.9398668956633749, Std = 0.01640593513163501\n",
      "\t\tROC-AUC: Mean = 0.9925963828268358, Std = 0.00274589240756995\n"
     ]
    },
    {
     "data": {
      "text/html": [
       "Waiting for W&B process to finish... <strong style=\"color:green\">(success).</strong>"
      ],
      "text/plain": [
       "<IPython.core.display.HTML object>"
      ]
     },
     "metadata": {},
     "output_type": "display_data"
    },
    {
     "data": {
      "text/html": [
       "<style>\n",
       "    table.wandb td:nth-child(1) { padding: 0 10px; text-align: left ; width: auto;} td:nth-child(2) {text-align: left ; width: 100%}\n",
       "    .wandb-row { display: flex; flex-direction: row; flex-wrap: wrap; justify-content: flex-start; width: 100% }\n",
       "    .wandb-col { display: flex; flex-direction: column; flex-basis: 100%; flex: 1; padding: 10px; }\n",
       "    </style>\n",
       "<div class=\"wandb-row\"><div class=\"wandb-col\"><h3>Run history:</h3><br/><table class=\"wandb\"><tr><td>Accuracy_mean</td><td>▁</td></tr><tr><td>Accuracy_std</td><td>▁</td></tr><tr><td>F1 Score_mean</td><td>▁</td></tr><tr><td>F1 Score_std</td><td>▁</td></tr><tr><td>Precision_mean</td><td>▁</td></tr><tr><td>Precision_std</td><td>▁</td></tr><tr><td>ROC-AUC_mean</td><td>▁</td></tr><tr><td>ROC-AUC_std</td><td>▁</td></tr><tr><td>Recall_mean</td><td>▁</td></tr><tr><td>Recall_std</td><td>▁</td></tr></table><br/></div><div class=\"wandb-col\"><h3>Run summary:</h3><br/><table class=\"wandb\"><tr><td>Accuracy_mean</td><td>0.93987</td></tr><tr><td>Accuracy_std</td><td>0.01641</td></tr><tr><td>F1 Score_mean</td><td>0.93858</td></tr><tr><td>F1 Score_std</td><td>0.01581</td></tr><tr><td>Precision_mean</td><td>0.94101</td></tr><tr><td>Precision_std</td><td>0.01591</td></tr><tr><td>ROC-AUC_mean</td><td>0.9926</td></tr><tr><td>ROC-AUC_std</td><td>0.00275</td></tr><tr><td>Recall_mean</td><td>0.93987</td></tr><tr><td>Recall_std</td><td>0.01641</td></tr></table><br/></div></div>"
      ],
      "text/plain": [
       "<IPython.core.display.HTML object>"
      ]
     },
     "metadata": {},
     "output_type": "display_data"
    },
    {
     "data": {
      "text/html": [
       " View run <strong style=\"color:#cdcd00\">LightGBM_Ablated 1</strong> at: <a href='https://wandb.ai/lequn/LW-DED_audio-classification/runs/aq4nnkh5' target=\"_blank\">https://wandb.ai/lequn/LW-DED_audio-classification/runs/aq4nnkh5</a><br/> View job at <a href='https://wandb.ai/lequn/LW-DED_audio-classification/jobs/QXJ0aWZhY3RDb2xsZWN0aW9uOjE2MTUxNDY2MA==/version_details/v12' target=\"_blank\">https://wandb.ai/lequn/LW-DED_audio-classification/jobs/QXJ0aWZhY3RDb2xsZWN0aW9uOjE2MTUxNDY2MA==/version_details/v12</a><br/>Synced 6 W&B file(s), 0 media file(s), 0 artifact file(s) and 0 other file(s)"
      ],
      "text/plain": [
       "<IPython.core.display.HTML object>"
      ]
     },
     "metadata": {},
     "output_type": "display_data"
    },
    {
     "data": {
      "text/html": [
       "Find logs at: <code>./wandb/run-20240411_150508-aq4nnkh5/logs</code>"
      ],
      "text/plain": [
       "<IPython.core.display.HTML object>"
      ]
     },
     "metadata": {},
     "output_type": "display_data"
    },
    {
     "name": "stdout",
     "output_type": "stream",
     "text": [
      "\tTraining model: SVM\n"
     ]
    },
    {
     "data": {
      "application/vnd.jupyter.widget-view+json": {
       "model_id": "04ef22099f314f32b92e99d78411b35d",
       "version_major": 2,
       "version_minor": 0
      },
      "text/plain": [
       "VBox(children=(Label(value='Waiting for wandb.init()...\\r'), FloatProgress(value=0.011113799411113076, max=1.0…"
      ]
     },
     "metadata": {},
     "output_type": "display_data"
    },
    {
     "data": {
      "text/html": [
       "wandb version 0.16.6 is available!  To upgrade, please run:\n",
       " $ pip install wandb --upgrade"
      ],
      "text/plain": [
       "<IPython.core.display.HTML object>"
      ]
     },
     "metadata": {},
     "output_type": "display_data"
    },
    {
     "data": {
      "text/html": [
       "Tracking run with wandb version 0.15.12"
      ],
      "text/plain": [
       "<IPython.core.display.HTML object>"
      ]
     },
     "metadata": {},
     "output_type": "display_data"
    },
    {
     "data": {
      "text/html": [
       "Run data is saved locally in <code>/home/chenlequn/GitHub/MultiSensor-Monitoring-LW-DED/Code/wandb/run-20240411_150519-1l8f09nd</code>"
      ],
      "text/plain": [
       "<IPython.core.display.HTML object>"
      ]
     },
     "metadata": {},
     "output_type": "display_data"
    },
    {
     "data": {
      "text/html": [
       "Syncing run <strong><a href='https://wandb.ai/lequn/LW-DED_audio-classification/runs/1l8f09nd' target=\"_blank\">SVM_Ablated 1</a></strong> to <a href='https://wandb.ai/lequn/LW-DED_audio-classification' target=\"_blank\">Weights & Biases</a> (<a href='https://wandb.me/run' target=\"_blank\">docs</a>)<br/>"
      ],
      "text/plain": [
       "<IPython.core.display.HTML object>"
      ]
     },
     "metadata": {},
     "output_type": "display_data"
    },
    {
     "data": {
      "text/html": [
       " View project at <a href='https://wandb.ai/lequn/LW-DED_audio-classification' target=\"_blank\">https://wandb.ai/lequn/LW-DED_audio-classification</a>"
      ],
      "text/plain": [
       "<IPython.core.display.HTML object>"
      ]
     },
     "metadata": {},
     "output_type": "display_data"
    },
    {
     "data": {
      "text/html": [
       " View run at <a href='https://wandb.ai/lequn/LW-DED_audio-classification/runs/1l8f09nd' target=\"_blank\">https://wandb.ai/lequn/LW-DED_audio-classification/runs/1l8f09nd</a>"
      ],
      "text/plain": [
       "<IPython.core.display.HTML object>"
      ]
     },
     "metadata": {},
     "output_type": "display_data"
    },
    {
     "name": "stdout",
     "output_type": "stream",
     "text": [
      "\t\tAccuracy: Mean = 0.9120008587376557, Std = 0.016209796394766673\n",
      "\t\tF1 Score: Mean = 0.90955713562067, Std = 0.017986572871940516\n",
      "\t\tPrecision: Mean = 0.9121562465019458, Std = 0.019081510063561246\n",
      "\t\tRecall: Mean = 0.9120008587376557, Std = 0.016209796394766673\n",
      "\t\tROC-AUC: Mean = 0.9879651031624341, Std = 0.003494724638844576\n"
     ]
    },
    {
     "data": {
      "text/html": [
       "Waiting for W&B process to finish... <strong style=\"color:green\">(success).</strong>"
      ],
      "text/plain": [
       "<IPython.core.display.HTML object>"
      ]
     },
     "metadata": {},
     "output_type": "display_data"
    },
    {
     "data": {
      "text/html": [
       "<style>\n",
       "    table.wandb td:nth-child(1) { padding: 0 10px; text-align: left ; width: auto;} td:nth-child(2) {text-align: left ; width: 100%}\n",
       "    .wandb-row { display: flex; flex-direction: row; flex-wrap: wrap; justify-content: flex-start; width: 100% }\n",
       "    .wandb-col { display: flex; flex-direction: column; flex-basis: 100%; flex: 1; padding: 10px; }\n",
       "    </style>\n",
       "<div class=\"wandb-row\"><div class=\"wandb-col\"><h3>Run history:</h3><br/><table class=\"wandb\"><tr><td>Accuracy_mean</td><td>▁</td></tr><tr><td>Accuracy_std</td><td>▁</td></tr><tr><td>F1 Score_mean</td><td>▁</td></tr><tr><td>F1 Score_std</td><td>▁</td></tr><tr><td>Precision_mean</td><td>▁</td></tr><tr><td>Precision_std</td><td>▁</td></tr><tr><td>ROC-AUC_mean</td><td>▁</td></tr><tr><td>ROC-AUC_std</td><td>▁</td></tr><tr><td>Recall_mean</td><td>▁</td></tr><tr><td>Recall_std</td><td>▁</td></tr></table><br/></div><div class=\"wandb-col\"><h3>Run summary:</h3><br/><table class=\"wandb\"><tr><td>Accuracy_mean</td><td>0.912</td></tr><tr><td>Accuracy_std</td><td>0.01621</td></tr><tr><td>F1 Score_mean</td><td>0.90956</td></tr><tr><td>F1 Score_std</td><td>0.01799</td></tr><tr><td>Precision_mean</td><td>0.91216</td></tr><tr><td>Precision_std</td><td>0.01908</td></tr><tr><td>ROC-AUC_mean</td><td>0.98797</td></tr><tr><td>ROC-AUC_std</td><td>0.00349</td></tr><tr><td>Recall_mean</td><td>0.912</td></tr><tr><td>Recall_std</td><td>0.01621</td></tr></table><br/></div></div>"
      ],
      "text/plain": [
       "<IPython.core.display.HTML object>"
      ]
     },
     "metadata": {},
     "output_type": "display_data"
    },
    {
     "data": {
      "text/html": [
       " View run <strong style=\"color:#cdcd00\">SVM_Ablated 1</strong> at: <a href='https://wandb.ai/lequn/LW-DED_audio-classification/runs/1l8f09nd' target=\"_blank\">https://wandb.ai/lequn/LW-DED_audio-classification/runs/1l8f09nd</a><br/> View job at <a href='https://wandb.ai/lequn/LW-DED_audio-classification/jobs/QXJ0aWZhY3RDb2xsZWN0aW9uOjE2MTUxNDY2MA==/version_details/v12' target=\"_blank\">https://wandb.ai/lequn/LW-DED_audio-classification/jobs/QXJ0aWZhY3RDb2xsZWN0aW9uOjE2MTUxNDY2MA==/version_details/v12</a><br/>Synced 6 W&B file(s), 0 media file(s), 0 artifact file(s) and 0 other file(s)"
      ],
      "text/plain": [
       "<IPython.core.display.HTML object>"
      ]
     },
     "metadata": {},
     "output_type": "display_data"
    },
    {
     "data": {
      "text/html": [
       "Find logs at: <code>./wandb/run-20240411_150519-1l8f09nd/logs</code>"
      ],
      "text/plain": [
       "<IPython.core.display.HTML object>"
      ]
     },
     "metadata": {},
     "output_type": "display_data"
    },
    {
     "name": "stdout",
     "output_type": "stream",
     "text": [
      "\tTraining model: HistGB\n"
     ]
    },
    {
     "data": {
      "application/vnd.jupyter.widget-view+json": {
       "model_id": "3be6405bbf5e4f058f524a69f1ba2fbf",
       "version_major": 2,
       "version_minor": 0
      },
      "text/plain": [
       "VBox(children=(Label(value='Waiting for wandb.init()...\\r'), FloatProgress(value=0.0111134299333369, max=1.0))…"
      ]
     },
     "metadata": {},
     "output_type": "display_data"
    },
    {
     "data": {
      "text/html": [
       "wandb version 0.16.6 is available!  To upgrade, please run:\n",
       " $ pip install wandb --upgrade"
      ],
      "text/plain": [
       "<IPython.core.display.HTML object>"
      ]
     },
     "metadata": {},
     "output_type": "display_data"
    },
    {
     "data": {
      "text/html": [
       "Tracking run with wandb version 0.15.12"
      ],
      "text/plain": [
       "<IPython.core.display.HTML object>"
      ]
     },
     "metadata": {},
     "output_type": "display_data"
    },
    {
     "data": {
      "text/html": [
       "Run data is saved locally in <code>/home/chenlequn/GitHub/MultiSensor-Monitoring-LW-DED/Code/wandb/run-20240411_150530-4j3dua1k</code>"
      ],
      "text/plain": [
       "<IPython.core.display.HTML object>"
      ]
     },
     "metadata": {},
     "output_type": "display_data"
    },
    {
     "data": {
      "text/html": [
       "Syncing run <strong><a href='https://wandb.ai/lequn/LW-DED_audio-classification/runs/4j3dua1k' target=\"_blank\">HistGB_Ablated 1</a></strong> to <a href='https://wandb.ai/lequn/LW-DED_audio-classification' target=\"_blank\">Weights & Biases</a> (<a href='https://wandb.me/run' target=\"_blank\">docs</a>)<br/>"
      ],
      "text/plain": [
       "<IPython.core.display.HTML object>"
      ]
     },
     "metadata": {},
     "output_type": "display_data"
    },
    {
     "data": {
      "text/html": [
       " View project at <a href='https://wandb.ai/lequn/LW-DED_audio-classification' target=\"_blank\">https://wandb.ai/lequn/LW-DED_audio-classification</a>"
      ],
      "text/plain": [
       "<IPython.core.display.HTML object>"
      ]
     },
     "metadata": {},
     "output_type": "display_data"
    },
    {
     "data": {
      "text/html": [
       " View run at <a href='https://wandb.ai/lequn/LW-DED_audio-classification/runs/4j3dua1k' target=\"_blank\">https://wandb.ai/lequn/LW-DED_audio-classification/runs/4j3dua1k</a>"
      ],
      "text/plain": [
       "<IPython.core.display.HTML object>"
      ]
     },
     "metadata": {},
     "output_type": "display_data"
    },
    {
     "name": "stdout",
     "output_type": "stream",
     "text": [
      "\t\tAccuracy: Mean = 0.9471983683984542, Std = 0.010841584158395028\n",
      "\t\tF1 Score: Mean = 0.9464213827803025, Std = 0.01078457682861131\n",
      "\t\tPrecision: Mean = 0.9474520043226166, Std = 0.010019882846886529\n",
      "\t\tRecall: Mean = 0.9471983683984542, Std = 0.010841584158395028\n",
      "\t\tROC-AUC: Mean = 0.9921454901341168, Std = 0.0022325544379586367\n"
     ]
    },
    {
     "data": {
      "text/html": [
       "Waiting for W&B process to finish... <strong style=\"color:green\">(success).</strong>"
      ],
      "text/plain": [
       "<IPython.core.display.HTML object>"
      ]
     },
     "metadata": {},
     "output_type": "display_data"
    },
    {
     "data": {
      "text/html": [
       "<style>\n",
       "    table.wandb td:nth-child(1) { padding: 0 10px; text-align: left ; width: auto;} td:nth-child(2) {text-align: left ; width: 100%}\n",
       "    .wandb-row { display: flex; flex-direction: row; flex-wrap: wrap; justify-content: flex-start; width: 100% }\n",
       "    .wandb-col { display: flex; flex-direction: column; flex-basis: 100%; flex: 1; padding: 10px; }\n",
       "    </style>\n",
       "<div class=\"wandb-row\"><div class=\"wandb-col\"><h3>Run history:</h3><br/><table class=\"wandb\"><tr><td>Accuracy_mean</td><td>▁</td></tr><tr><td>Accuracy_std</td><td>▁</td></tr><tr><td>F1 Score_mean</td><td>▁</td></tr><tr><td>F1 Score_std</td><td>▁</td></tr><tr><td>Precision_mean</td><td>▁</td></tr><tr><td>Precision_std</td><td>▁</td></tr><tr><td>ROC-AUC_mean</td><td>▁</td></tr><tr><td>ROC-AUC_std</td><td>▁</td></tr><tr><td>Recall_mean</td><td>▁</td></tr><tr><td>Recall_std</td><td>▁</td></tr></table><br/></div><div class=\"wandb-col\"><h3>Run summary:</h3><br/><table class=\"wandb\"><tr><td>Accuracy_mean</td><td>0.9472</td></tr><tr><td>Accuracy_std</td><td>0.01084</td></tr><tr><td>F1 Score_mean</td><td>0.94642</td></tr><tr><td>F1 Score_std</td><td>0.01078</td></tr><tr><td>Precision_mean</td><td>0.94745</td></tr><tr><td>Precision_std</td><td>0.01002</td></tr><tr><td>ROC-AUC_mean</td><td>0.99215</td></tr><tr><td>ROC-AUC_std</td><td>0.00223</td></tr><tr><td>Recall_mean</td><td>0.9472</td></tr><tr><td>Recall_std</td><td>0.01084</td></tr></table><br/></div></div>"
      ],
      "text/plain": [
       "<IPython.core.display.HTML object>"
      ]
     },
     "metadata": {},
     "output_type": "display_data"
    },
    {
     "data": {
      "text/html": [
       " View run <strong style=\"color:#cdcd00\">HistGB_Ablated 1</strong> at: <a href='https://wandb.ai/lequn/LW-DED_audio-classification/runs/4j3dua1k' target=\"_blank\">https://wandb.ai/lequn/LW-DED_audio-classification/runs/4j3dua1k</a><br/> View job at <a href='https://wandb.ai/lequn/LW-DED_audio-classification/jobs/QXJ0aWZhY3RDb2xsZWN0aW9uOjE2MTUxNDY2MA==/version_details/v11' target=\"_blank\">https://wandb.ai/lequn/LW-DED_audio-classification/jobs/QXJ0aWZhY3RDb2xsZWN0aW9uOjE2MTUxNDY2MA==/version_details/v11</a><br/>Synced 6 W&B file(s), 0 media file(s), 0 artifact file(s) and 0 other file(s)"
      ],
      "text/plain": [
       "<IPython.core.display.HTML object>"
      ]
     },
     "metadata": {},
     "output_type": "display_data"
    },
    {
     "data": {
      "text/html": [
       "Find logs at: <code>./wandb/run-20240411_150530-4j3dua1k/logs</code>"
      ],
      "text/plain": [
       "<IPython.core.display.HTML object>"
      ]
     },
     "metadata": {},
     "output_type": "display_data"
    },
    {
     "name": "stdout",
     "output_type": "stream",
     "text": [
      "Processing dataset: Ablated 2\n",
      "\tTraining model: KNN\n"
     ]
    },
    {
     "data": {
      "application/vnd.jupyter.widget-view+json": {
       "model_id": "ac4b00d7113b4a53b07ae085eb7f5201",
       "version_major": 2,
       "version_minor": 0
      },
      "text/plain": [
       "VBox(children=(Label(value='Waiting for wandb.init()...\\r'), FloatProgress(value=0.011112456422213451, max=1.0…"
      ]
     },
     "metadata": {},
     "output_type": "display_data"
    },
    {
     "data": {
      "text/html": [
       "wandb version 0.16.6 is available!  To upgrade, please run:\n",
       " $ pip install wandb --upgrade"
      ],
      "text/plain": [
       "<IPython.core.display.HTML object>"
      ]
     },
     "metadata": {},
     "output_type": "display_data"
    },
    {
     "data": {
      "text/html": [
       "Tracking run with wandb version 0.15.12"
      ],
      "text/plain": [
       "<IPython.core.display.HTML object>"
      ]
     },
     "metadata": {},
     "output_type": "display_data"
    },
    {
     "data": {
      "text/html": [
       "Run data is saved locally in <code>/home/chenlequn/GitHub/MultiSensor-Monitoring-LW-DED/Code/wandb/run-20240411_150544-4lwjne0e</code>"
      ],
      "text/plain": [
       "<IPython.core.display.HTML object>"
      ]
     },
     "metadata": {},
     "output_type": "display_data"
    },
    {
     "data": {
      "text/html": [
       "Syncing run <strong><a href='https://wandb.ai/lequn/LW-DED_audio-classification/runs/4lwjne0e' target=\"_blank\">KNN_Ablated 2</a></strong> to <a href='https://wandb.ai/lequn/LW-DED_audio-classification' target=\"_blank\">Weights & Biases</a> (<a href='https://wandb.me/run' target=\"_blank\">docs</a>)<br/>"
      ],
      "text/plain": [
       "<IPython.core.display.HTML object>"
      ]
     },
     "metadata": {},
     "output_type": "display_data"
    },
    {
     "data": {
      "text/html": [
       " View project at <a href='https://wandb.ai/lequn/LW-DED_audio-classification' target=\"_blank\">https://wandb.ai/lequn/LW-DED_audio-classification</a>"
      ],
      "text/plain": [
       "<IPython.core.display.HTML object>"
      ]
     },
     "metadata": {},
     "output_type": "display_data"
    },
    {
     "data": {
      "text/html": [
       " View run at <a href='https://wandb.ai/lequn/LW-DED_audio-classification/runs/4lwjne0e' target=\"_blank\">https://wandb.ai/lequn/LW-DED_audio-classification/runs/4lwjne0e</a>"
      ],
      "text/plain": [
       "<IPython.core.display.HTML object>"
      ]
     },
     "metadata": {},
     "output_type": "display_data"
    },
    {
     "name": "stdout",
     "output_type": "stream",
     "text": [
      "\t\tAccuracy: Mean = 0.9178724774581365, Std = 0.0170912390947633\n",
      "\t\tF1 Score: Mean = 0.9156690301189597, Std = 0.0193790900559631\n",
      "\t\tPrecision: Mean = 0.9194717692235738, Std = 0.019587656879816902\n",
      "\t\tRecall: Mean = 0.9178724774581365, Std = 0.0170912390947633\n",
      "\t\tROC-AUC: Mean = 0.9781850845151979, Std = 0.008031814871014774\n"
     ]
    },
    {
     "data": {
      "text/html": [
       "Waiting for W&B process to finish... <strong style=\"color:green\">(success).</strong>"
      ],
      "text/plain": [
       "<IPython.core.display.HTML object>"
      ]
     },
     "metadata": {},
     "output_type": "display_data"
    },
    {
     "data": {
      "text/html": [
       "<style>\n",
       "    table.wandb td:nth-child(1) { padding: 0 10px; text-align: left ; width: auto;} td:nth-child(2) {text-align: left ; width: 100%}\n",
       "    .wandb-row { display: flex; flex-direction: row; flex-wrap: wrap; justify-content: flex-start; width: 100% }\n",
       "    .wandb-col { display: flex; flex-direction: column; flex-basis: 100%; flex: 1; padding: 10px; }\n",
       "    </style>\n",
       "<div class=\"wandb-row\"><div class=\"wandb-col\"><h3>Run history:</h3><br/><table class=\"wandb\"><tr><td>Accuracy_mean</td><td>▁</td></tr><tr><td>Accuracy_std</td><td>▁</td></tr><tr><td>F1 Score_mean</td><td>▁</td></tr><tr><td>F1 Score_std</td><td>▁</td></tr><tr><td>Precision_mean</td><td>▁</td></tr><tr><td>Precision_std</td><td>▁</td></tr><tr><td>ROC-AUC_mean</td><td>▁</td></tr><tr><td>ROC-AUC_std</td><td>▁</td></tr><tr><td>Recall_mean</td><td>▁</td></tr><tr><td>Recall_std</td><td>▁</td></tr></table><br/></div><div class=\"wandb-col\"><h3>Run summary:</h3><br/><table class=\"wandb\"><tr><td>Accuracy_mean</td><td>0.91787</td></tr><tr><td>Accuracy_std</td><td>0.01709</td></tr><tr><td>F1 Score_mean</td><td>0.91567</td></tr><tr><td>F1 Score_std</td><td>0.01938</td></tr><tr><td>Precision_mean</td><td>0.91947</td></tr><tr><td>Precision_std</td><td>0.01959</td></tr><tr><td>ROC-AUC_mean</td><td>0.97819</td></tr><tr><td>ROC-AUC_std</td><td>0.00803</td></tr><tr><td>Recall_mean</td><td>0.91787</td></tr><tr><td>Recall_std</td><td>0.01709</td></tr></table><br/></div></div>"
      ],
      "text/plain": [
       "<IPython.core.display.HTML object>"
      ]
     },
     "metadata": {},
     "output_type": "display_data"
    },
    {
     "data": {
      "text/html": [
       " View run <strong style=\"color:#cdcd00\">KNN_Ablated 2</strong> at: <a href='https://wandb.ai/lequn/LW-DED_audio-classification/runs/4lwjne0e' target=\"_blank\">https://wandb.ai/lequn/LW-DED_audio-classification/runs/4lwjne0e</a><br/> View job at <a href='https://wandb.ai/lequn/LW-DED_audio-classification/jobs/QXJ0aWZhY3RDb2xsZWN0aW9uOjE2MTUxNDY2MA==/version_details/v12' target=\"_blank\">https://wandb.ai/lequn/LW-DED_audio-classification/jobs/QXJ0aWZhY3RDb2xsZWN0aW9uOjE2MTUxNDY2MA==/version_details/v12</a><br/>Synced 6 W&B file(s), 0 media file(s), 0 artifact file(s) and 0 other file(s)"
      ],
      "text/plain": [
       "<IPython.core.display.HTML object>"
      ]
     },
     "metadata": {},
     "output_type": "display_data"
    },
    {
     "data": {
      "text/html": [
       "Find logs at: <code>./wandb/run-20240411_150544-4lwjne0e/logs</code>"
      ],
      "text/plain": [
       "<IPython.core.display.HTML object>"
      ]
     },
     "metadata": {},
     "output_type": "display_data"
    },
    {
     "name": "stdout",
     "output_type": "stream",
     "text": [
      "\tTraining model: DT\n"
     ]
    },
    {
     "data": {
      "application/vnd.jupyter.widget-view+json": {
       "model_id": "fc74ed092f344794b74a7eff05dbb771",
       "version_major": 2,
       "version_minor": 0
      },
      "text/plain": [
       "VBox(children=(Label(value='Waiting for wandb.init()...\\r'), FloatProgress(value=0.011113960233342369, max=1.0…"
      ]
     },
     "metadata": {},
     "output_type": "display_data"
    },
    {
     "data": {
      "text/html": [
       "wandb version 0.16.6 is available!  To upgrade, please run:\n",
       " $ pip install wandb --upgrade"
      ],
      "text/plain": [
       "<IPython.core.display.HTML object>"
      ]
     },
     "metadata": {},
     "output_type": "display_data"
    },
    {
     "data": {
      "text/html": [
       "Tracking run with wandb version 0.15.12"
      ],
      "text/plain": [
       "<IPython.core.display.HTML object>"
      ]
     },
     "metadata": {},
     "output_type": "display_data"
    },
    {
     "data": {
      "text/html": [
       "Run data is saved locally in <code>/home/chenlequn/GitHub/MultiSensor-Monitoring-LW-DED/Code/wandb/run-20240411_150555-ldcu9kdt</code>"
      ],
      "text/plain": [
       "<IPython.core.display.HTML object>"
      ]
     },
     "metadata": {},
     "output_type": "display_data"
    },
    {
     "data": {
      "text/html": [
       "Syncing run <strong><a href='https://wandb.ai/lequn/LW-DED_audio-classification/runs/ldcu9kdt' target=\"_blank\">DT_Ablated 2</a></strong> to <a href='https://wandb.ai/lequn/LW-DED_audio-classification' target=\"_blank\">Weights & Biases</a> (<a href='https://wandb.me/run' target=\"_blank\">docs</a>)<br/>"
      ],
      "text/plain": [
       "<IPython.core.display.HTML object>"
      ]
     },
     "metadata": {},
     "output_type": "display_data"
    },
    {
     "data": {
      "text/html": [
       " View project at <a href='https://wandb.ai/lequn/LW-DED_audio-classification' target=\"_blank\">https://wandb.ai/lequn/LW-DED_audio-classification</a>"
      ],
      "text/plain": [
       "<IPython.core.display.HTML object>"
      ]
     },
     "metadata": {},
     "output_type": "display_data"
    },
    {
     "data": {
      "text/html": [
       " View run at <a href='https://wandb.ai/lequn/LW-DED_audio-classification/runs/ldcu9kdt' target=\"_blank\">https://wandb.ai/lequn/LW-DED_audio-classification/runs/ldcu9kdt</a>"
      ],
      "text/plain": [
       "<IPython.core.display.HTML object>"
      ]
     },
     "metadata": {},
     "output_type": "display_data"
    },
    {
     "name": "stdout",
     "output_type": "stream",
     "text": [
      "\t\tAccuracy: Mean = 0.8959102619149849, Std = 0.014833147255113368\n",
      "\t\tF1 Score: Mean = 0.8961244082796824, Std = 0.013668793089079223\n",
      "\t\tPrecision: Mean = 0.9006361732765656, Std = 0.01338810109305809\n",
      "\t\tRecall: Mean = 0.8959102619149849, Std = 0.014833147255113368\n",
      "\t\tROC-AUC: Mean = 0.9424898441796039, Std = 0.007560177814143059\n"
     ]
    },
    {
     "data": {
      "text/html": [
       "Waiting for W&B process to finish... <strong style=\"color:green\">(success).</strong>"
      ],
      "text/plain": [
       "<IPython.core.display.HTML object>"
      ]
     },
     "metadata": {},
     "output_type": "display_data"
    },
    {
     "data": {
      "text/html": [
       "<style>\n",
       "    table.wandb td:nth-child(1) { padding: 0 10px; text-align: left ; width: auto;} td:nth-child(2) {text-align: left ; width: 100%}\n",
       "    .wandb-row { display: flex; flex-direction: row; flex-wrap: wrap; justify-content: flex-start; width: 100% }\n",
       "    .wandb-col { display: flex; flex-direction: column; flex-basis: 100%; flex: 1; padding: 10px; }\n",
       "    </style>\n",
       "<div class=\"wandb-row\"><div class=\"wandb-col\"><h3>Run history:</h3><br/><table class=\"wandb\"><tr><td>Accuracy_mean</td><td>▁</td></tr><tr><td>Accuracy_std</td><td>▁</td></tr><tr><td>F1 Score_mean</td><td>▁</td></tr><tr><td>F1 Score_std</td><td>▁</td></tr><tr><td>Precision_mean</td><td>▁</td></tr><tr><td>Precision_std</td><td>▁</td></tr><tr><td>ROC-AUC_mean</td><td>▁</td></tr><tr><td>ROC-AUC_std</td><td>▁</td></tr><tr><td>Recall_mean</td><td>▁</td></tr><tr><td>Recall_std</td><td>▁</td></tr></table><br/></div><div class=\"wandb-col\"><h3>Run summary:</h3><br/><table class=\"wandb\"><tr><td>Accuracy_mean</td><td>0.89591</td></tr><tr><td>Accuracy_std</td><td>0.01483</td></tr><tr><td>F1 Score_mean</td><td>0.89612</td></tr><tr><td>F1 Score_std</td><td>0.01367</td></tr><tr><td>Precision_mean</td><td>0.90064</td></tr><tr><td>Precision_std</td><td>0.01339</td></tr><tr><td>ROC-AUC_mean</td><td>0.94249</td></tr><tr><td>ROC-AUC_std</td><td>0.00756</td></tr><tr><td>Recall_mean</td><td>0.89591</td></tr><tr><td>Recall_std</td><td>0.01483</td></tr></table><br/></div></div>"
      ],
      "text/plain": [
       "<IPython.core.display.HTML object>"
      ]
     },
     "metadata": {},
     "output_type": "display_data"
    },
    {
     "data": {
      "text/html": [
       " View run <strong style=\"color:#cdcd00\">DT_Ablated 2</strong> at: <a href='https://wandb.ai/lequn/LW-DED_audio-classification/runs/ldcu9kdt' target=\"_blank\">https://wandb.ai/lequn/LW-DED_audio-classification/runs/ldcu9kdt</a><br/> View job at <a href='https://wandb.ai/lequn/LW-DED_audio-classification/jobs/QXJ0aWZhY3RDb2xsZWN0aW9uOjE2MTUxNDY2MA==/version_details/v12' target=\"_blank\">https://wandb.ai/lequn/LW-DED_audio-classification/jobs/QXJ0aWZhY3RDb2xsZWN0aW9uOjE2MTUxNDY2MA==/version_details/v12</a><br/>Synced 6 W&B file(s), 0 media file(s), 0 artifact file(s) and 0 other file(s)"
      ],
      "text/plain": [
       "<IPython.core.display.HTML object>"
      ]
     },
     "metadata": {},
     "output_type": "display_data"
    },
    {
     "data": {
      "text/html": [
       "Find logs at: <code>./wandb/run-20240411_150555-ldcu9kdt/logs</code>"
      ],
      "text/plain": [
       "<IPython.core.display.HTML object>"
      ]
     },
     "metadata": {},
     "output_type": "display_data"
    },
    {
     "name": "stdout",
     "output_type": "stream",
     "text": [
      "\tTraining model: LR\n"
     ]
    },
    {
     "data": {
      "application/vnd.jupyter.widget-view+json": {
       "model_id": "956427868738474cb63195ec5bd9d66e",
       "version_major": 2,
       "version_minor": 0
      },
      "text/plain": [
       "VBox(children=(Label(value='Waiting for wandb.init()...\\r'), FloatProgress(value=0.011112808788877576, max=1.0…"
      ]
     },
     "metadata": {},
     "output_type": "display_data"
    },
    {
     "data": {
      "text/html": [
       "wandb version 0.16.6 is available!  To upgrade, please run:\n",
       " $ pip install wandb --upgrade"
      ],
      "text/plain": [
       "<IPython.core.display.HTML object>"
      ]
     },
     "metadata": {},
     "output_type": "display_data"
    },
    {
     "data": {
      "text/html": [
       "Tracking run with wandb version 0.15.12"
      ],
      "text/plain": [
       "<IPython.core.display.HTML object>"
      ]
     },
     "metadata": {},
     "output_type": "display_data"
    },
    {
     "data": {
      "text/html": [
       "Run data is saved locally in <code>/home/chenlequn/GitHub/MultiSensor-Monitoring-LW-DED/Code/wandb/run-20240411_150606-ljmhce37</code>"
      ],
      "text/plain": [
       "<IPython.core.display.HTML object>"
      ]
     },
     "metadata": {},
     "output_type": "display_data"
    },
    {
     "data": {
      "text/html": [
       "Syncing run <strong><a href='https://wandb.ai/lequn/LW-DED_audio-classification/runs/ljmhce37' target=\"_blank\">LR_Ablated 2</a></strong> to <a href='https://wandb.ai/lequn/LW-DED_audio-classification' target=\"_blank\">Weights & Biases</a> (<a href='https://wandb.me/run' target=\"_blank\">docs</a>)<br/>"
      ],
      "text/plain": [
       "<IPython.core.display.HTML object>"
      ]
     },
     "metadata": {},
     "output_type": "display_data"
    },
    {
     "data": {
      "text/html": [
       " View project at <a href='https://wandb.ai/lequn/LW-DED_audio-classification' target=\"_blank\">https://wandb.ai/lequn/LW-DED_audio-classification</a>"
      ],
      "text/plain": [
       "<IPython.core.display.HTML object>"
      ]
     },
     "metadata": {},
     "output_type": "display_data"
    },
    {
     "data": {
      "text/html": [
       " View run at <a href='https://wandb.ai/lequn/LW-DED_audio-classification/runs/ljmhce37' target=\"_blank\">https://wandb.ai/lequn/LW-DED_audio-classification/runs/ljmhce37</a>"
      ],
      "text/plain": [
       "<IPython.core.display.HTML object>"
      ]
     },
     "metadata": {},
     "output_type": "display_data"
    },
    {
     "name": "stdout",
     "output_type": "stream",
     "text": [
      "\t\tAccuracy: Mean = 0.9251932159725206, Std = 0.014378904321352227\n",
      "\t\tF1 Score: Mean = 0.9240437700622465, Std = 0.01639191961647771\n",
      "\t\tPrecision: Mean = 0.9269366903916751, Std = 0.017043139666881094\n",
      "\t\tRecall: Mean = 0.9251932159725206, Std = 0.014378904321352227\n",
      "\t\tROC-AUC: Mean = 0.9849425094924442, Std = 0.004073955778332085\n"
     ]
    },
    {
     "data": {
      "text/html": [
       "Waiting for W&B process to finish... <strong style=\"color:green\">(success).</strong>"
      ],
      "text/plain": [
       "<IPython.core.display.HTML object>"
      ]
     },
     "metadata": {},
     "output_type": "display_data"
    },
    {
     "data": {
      "text/html": [
       "<style>\n",
       "    table.wandb td:nth-child(1) { padding: 0 10px; text-align: left ; width: auto;} td:nth-child(2) {text-align: left ; width: 100%}\n",
       "    .wandb-row { display: flex; flex-direction: row; flex-wrap: wrap; justify-content: flex-start; width: 100% }\n",
       "    .wandb-col { display: flex; flex-direction: column; flex-basis: 100%; flex: 1; padding: 10px; }\n",
       "    </style>\n",
       "<div class=\"wandb-row\"><div class=\"wandb-col\"><h3>Run history:</h3><br/><table class=\"wandb\"><tr><td>Accuracy_mean</td><td>▁</td></tr><tr><td>Accuracy_std</td><td>▁</td></tr><tr><td>F1 Score_mean</td><td>▁</td></tr><tr><td>F1 Score_std</td><td>▁</td></tr><tr><td>Precision_mean</td><td>▁</td></tr><tr><td>Precision_std</td><td>▁</td></tr><tr><td>ROC-AUC_mean</td><td>▁</td></tr><tr><td>ROC-AUC_std</td><td>▁</td></tr><tr><td>Recall_mean</td><td>▁</td></tr><tr><td>Recall_std</td><td>▁</td></tr></table><br/></div><div class=\"wandb-col\"><h3>Run summary:</h3><br/><table class=\"wandb\"><tr><td>Accuracy_mean</td><td>0.92519</td></tr><tr><td>Accuracy_std</td><td>0.01438</td></tr><tr><td>F1 Score_mean</td><td>0.92404</td></tr><tr><td>F1 Score_std</td><td>0.01639</td></tr><tr><td>Precision_mean</td><td>0.92694</td></tr><tr><td>Precision_std</td><td>0.01704</td></tr><tr><td>ROC-AUC_mean</td><td>0.98494</td></tr><tr><td>ROC-AUC_std</td><td>0.00407</td></tr><tr><td>Recall_mean</td><td>0.92519</td></tr><tr><td>Recall_std</td><td>0.01438</td></tr></table><br/></div></div>"
      ],
      "text/plain": [
       "<IPython.core.display.HTML object>"
      ]
     },
     "metadata": {},
     "output_type": "display_data"
    },
    {
     "data": {
      "text/html": [
       " View run <strong style=\"color:#cdcd00\">LR_Ablated 2</strong> at: <a href='https://wandb.ai/lequn/LW-DED_audio-classification/runs/ljmhce37' target=\"_blank\">https://wandb.ai/lequn/LW-DED_audio-classification/runs/ljmhce37</a><br/> View job at <a href='https://wandb.ai/lequn/LW-DED_audio-classification/jobs/QXJ0aWZhY3RDb2xsZWN0aW9uOjE2MTUxNDY2MA==/version_details/v12' target=\"_blank\">https://wandb.ai/lequn/LW-DED_audio-classification/jobs/QXJ0aWZhY3RDb2xsZWN0aW9uOjE2MTUxNDY2MA==/version_details/v12</a><br/>Synced 6 W&B file(s), 0 media file(s), 0 artifact file(s) and 0 other file(s)"
      ],
      "text/plain": [
       "<IPython.core.display.HTML object>"
      ]
     },
     "metadata": {},
     "output_type": "display_data"
    },
    {
     "data": {
      "text/html": [
       "Find logs at: <code>./wandb/run-20240411_150606-ljmhce37/logs</code>"
      ],
      "text/plain": [
       "<IPython.core.display.HTML object>"
      ]
     },
     "metadata": {},
     "output_type": "display_data"
    },
    {
     "name": "stdout",
     "output_type": "stream",
     "text": [
      "\tTraining model: RF\n"
     ]
    },
    {
     "data": {
      "application/vnd.jupyter.widget-view+json": {
       "model_id": "f4b66247cf714998a4645dc802fe833a",
       "version_major": 2,
       "version_minor": 0
      },
      "text/plain": [
       "VBox(children=(Label(value='Waiting for wandb.init()...\\r'), FloatProgress(value=0.011114052166683703, max=1.0…"
      ]
     },
     "metadata": {},
     "output_type": "display_data"
    },
    {
     "data": {
      "text/html": [
       "wandb version 0.16.6 is available!  To upgrade, please run:\n",
       " $ pip install wandb --upgrade"
      ],
      "text/plain": [
       "<IPython.core.display.HTML object>"
      ]
     },
     "metadata": {},
     "output_type": "display_data"
    },
    {
     "data": {
      "text/html": [
       "Tracking run with wandb version 0.15.12"
      ],
      "text/plain": [
       "<IPython.core.display.HTML object>"
      ]
     },
     "metadata": {},
     "output_type": "display_data"
    },
    {
     "data": {
      "text/html": [
       "Run data is saved locally in <code>/home/chenlequn/GitHub/MultiSensor-Monitoring-LW-DED/Code/wandb/run-20240411_150619-37gannrz</code>"
      ],
      "text/plain": [
       "<IPython.core.display.HTML object>"
      ]
     },
     "metadata": {},
     "output_type": "display_data"
    },
    {
     "data": {
      "text/html": [
       "Syncing run <strong><a href='https://wandb.ai/lequn/LW-DED_audio-classification/runs/37gannrz' target=\"_blank\">RF_Ablated 2</a></strong> to <a href='https://wandb.ai/lequn/LW-DED_audio-classification' target=\"_blank\">Weights & Biases</a> (<a href='https://wandb.me/run' target=\"_blank\">docs</a>)<br/>"
      ],
      "text/plain": [
       "<IPython.core.display.HTML object>"
      ]
     },
     "metadata": {},
     "output_type": "display_data"
    },
    {
     "data": {
      "text/html": [
       " View project at <a href='https://wandb.ai/lequn/LW-DED_audio-classification' target=\"_blank\">https://wandb.ai/lequn/LW-DED_audio-classification</a>"
      ],
      "text/plain": [
       "<IPython.core.display.HTML object>"
      ]
     },
     "metadata": {},
     "output_type": "display_data"
    },
    {
     "data": {
      "text/html": [
       " View run at <a href='https://wandb.ai/lequn/LW-DED_audio-classification/runs/37gannrz' target=\"_blank\">https://wandb.ai/lequn/LW-DED_audio-classification/runs/37gannrz</a>"
      ],
      "text/plain": [
       "<IPython.core.display.HTML object>"
      ]
     },
     "metadata": {},
     "output_type": "display_data"
    },
    {
     "name": "stdout",
     "output_type": "stream",
     "text": [
      "\t\tAccuracy: Mean = 0.9383963074280807, Std = 0.011099485251624141\n",
      "\t\tF1 Score: Mean = 0.9369213115075773, Std = 0.011650687530748596\n",
      "\t\tPrecision: Mean = 0.9401759815751252, Std = 0.01135470757724742\n",
      "\t\tRecall: Mean = 0.9383963074280807, Std = 0.011099485251624141\n",
      "\t\tROC-AUC: Mean = 0.9900825332640318, Std = 0.0027938243102260643\n"
     ]
    },
    {
     "data": {
      "text/html": [
       "Waiting for W&B process to finish... <strong style=\"color:green\">(success).</strong>"
      ],
      "text/plain": [
       "<IPython.core.display.HTML object>"
      ]
     },
     "metadata": {},
     "output_type": "display_data"
    },
    {
     "data": {
      "text/html": [
       "<style>\n",
       "    table.wandb td:nth-child(1) { padding: 0 10px; text-align: left ; width: auto;} td:nth-child(2) {text-align: left ; width: 100%}\n",
       "    .wandb-row { display: flex; flex-direction: row; flex-wrap: wrap; justify-content: flex-start; width: 100% }\n",
       "    .wandb-col { display: flex; flex-direction: column; flex-basis: 100%; flex: 1; padding: 10px; }\n",
       "    </style>\n",
       "<div class=\"wandb-row\"><div class=\"wandb-col\"><h3>Run history:</h3><br/><table class=\"wandb\"><tr><td>Accuracy_mean</td><td>▁</td></tr><tr><td>Accuracy_std</td><td>▁</td></tr><tr><td>F1 Score_mean</td><td>▁</td></tr><tr><td>F1 Score_std</td><td>▁</td></tr><tr><td>Precision_mean</td><td>▁</td></tr><tr><td>Precision_std</td><td>▁</td></tr><tr><td>ROC-AUC_mean</td><td>▁</td></tr><tr><td>ROC-AUC_std</td><td>▁</td></tr><tr><td>Recall_mean</td><td>▁</td></tr><tr><td>Recall_std</td><td>▁</td></tr></table><br/></div><div class=\"wandb-col\"><h3>Run summary:</h3><br/><table class=\"wandb\"><tr><td>Accuracy_mean</td><td>0.9384</td></tr><tr><td>Accuracy_std</td><td>0.0111</td></tr><tr><td>F1 Score_mean</td><td>0.93692</td></tr><tr><td>F1 Score_std</td><td>0.01165</td></tr><tr><td>Precision_mean</td><td>0.94018</td></tr><tr><td>Precision_std</td><td>0.01135</td></tr><tr><td>ROC-AUC_mean</td><td>0.99008</td></tr><tr><td>ROC-AUC_std</td><td>0.00279</td></tr><tr><td>Recall_mean</td><td>0.9384</td></tr><tr><td>Recall_std</td><td>0.0111</td></tr></table><br/></div></div>"
      ],
      "text/plain": [
       "<IPython.core.display.HTML object>"
      ]
     },
     "metadata": {},
     "output_type": "display_data"
    },
    {
     "data": {
      "text/html": [
       " View run <strong style=\"color:#cdcd00\">RF_Ablated 2</strong> at: <a href='https://wandb.ai/lequn/LW-DED_audio-classification/runs/37gannrz' target=\"_blank\">https://wandb.ai/lequn/LW-DED_audio-classification/runs/37gannrz</a><br/> View job at <a href='https://wandb.ai/lequn/LW-DED_audio-classification/jobs/QXJ0aWZhY3RDb2xsZWN0aW9uOjE2MTUxNDY2MA==/version_details/v12' target=\"_blank\">https://wandb.ai/lequn/LW-DED_audio-classification/jobs/QXJ0aWZhY3RDb2xsZWN0aW9uOjE2MTUxNDY2MA==/version_details/v12</a><br/>Synced 6 W&B file(s), 0 media file(s), 0 artifact file(s) and 0 other file(s)"
      ],
      "text/plain": [
       "<IPython.core.display.HTML object>"
      ]
     },
     "metadata": {},
     "output_type": "display_data"
    },
    {
     "data": {
      "text/html": [
       "Find logs at: <code>./wandb/run-20240411_150619-37gannrz/logs</code>"
      ],
      "text/plain": [
       "<IPython.core.display.HTML object>"
      ]
     },
     "metadata": {},
     "output_type": "display_data"
    },
    {
     "name": "stdout",
     "output_type": "stream",
     "text": [
      "\tTraining model: BalancedRF\n"
     ]
    },
    {
     "data": {
      "application/vnd.jupyter.widget-view+json": {
       "model_id": "5ef3001837bd42e3900e5b45f3c5a86f",
       "version_major": 2,
       "version_minor": 0
      },
      "text/plain": [
       "VBox(children=(Label(value='Waiting for wandb.init()...\\r'), FloatProgress(value=0.011113671777800644, max=1.0…"
      ]
     },
     "metadata": {},
     "output_type": "display_data"
    },
    {
     "data": {
      "text/html": [
       "wandb version 0.16.6 is available!  To upgrade, please run:\n",
       " $ pip install wandb --upgrade"
      ],
      "text/plain": [
       "<IPython.core.display.HTML object>"
      ]
     },
     "metadata": {},
     "output_type": "display_data"
    },
    {
     "data": {
      "text/html": [
       "Tracking run with wandb version 0.15.12"
      ],
      "text/plain": [
       "<IPython.core.display.HTML object>"
      ]
     },
     "metadata": {},
     "output_type": "display_data"
    },
    {
     "data": {
      "text/html": [
       "Run data is saved locally in <code>/home/chenlequn/GitHub/MultiSensor-Monitoring-LW-DED/Code/wandb/run-20240411_150639-7hmfs36d</code>"
      ],
      "text/plain": [
       "<IPython.core.display.HTML object>"
      ]
     },
     "metadata": {},
     "output_type": "display_data"
    },
    {
     "data": {
      "text/html": [
       "Syncing run <strong><a href='https://wandb.ai/lequn/LW-DED_audio-classification/runs/7hmfs36d' target=\"_blank\">BalancedRF_Ablated 2</a></strong> to <a href='https://wandb.ai/lequn/LW-DED_audio-classification' target=\"_blank\">Weights & Biases</a> (<a href='https://wandb.me/run' target=\"_blank\">docs</a>)<br/>"
      ],
      "text/plain": [
       "<IPython.core.display.HTML object>"
      ]
     },
     "metadata": {},
     "output_type": "display_data"
    },
    {
     "data": {
      "text/html": [
       " View project at <a href='https://wandb.ai/lequn/LW-DED_audio-classification' target=\"_blank\">https://wandb.ai/lequn/LW-DED_audio-classification</a>"
      ],
      "text/plain": [
       "<IPython.core.display.HTML object>"
      ]
     },
     "metadata": {},
     "output_type": "display_data"
    },
    {
     "data": {
      "text/html": [
       " View run at <a href='https://wandb.ai/lequn/LW-DED_audio-classification/runs/7hmfs36d' target=\"_blank\">https://wandb.ai/lequn/LW-DED_audio-classification/runs/7hmfs36d</a>"
      ],
      "text/plain": [
       "<IPython.core.display.HTML object>"
      ]
     },
     "metadata": {},
     "output_type": "display_data"
    },
    {
     "name": "stderr",
     "output_type": "stream",
     "text": [
      "/home/chenlequn/anaconda3/envs/torch/lib/python3.9/site-packages/imblearn/ensemble/_forest.py:546: FutureWarning: The default of `sampling_strategy` will change from `'auto'` to `'all'` in version 0.13. This change will follow the implementation proposed in the original paper. Set to `'all'` to silence this warning and adopt the future behaviour.\n",
      "  warn(\n",
      "/home/chenlequn/anaconda3/envs/torch/lib/python3.9/site-packages/imblearn/ensemble/_forest.py:558: FutureWarning: The default of `replacement` will change from `False` to `True` in version 0.13. This change will follow the implementation proposed in the original paper. Set to `True` to silence this warning and adopt the future behaviour.\n",
      "  warn(\n"
     ]
    },
    {
     "name": "stdout",
     "output_type": "stream",
     "text": [
      "\t\tAccuracy: Mean = 0.91199012451696, Std = 0.019254343618530245\n",
      "\t\tF1 Score: Mean = 0.916843482644194, Std = 0.018346981708032336\n",
      "\t\tPrecision: Mean = 0.9271415377839893, Std = 0.01742896914108023\n",
      "\t\tRecall: Mean = 0.91199012451696, Std = 0.019254343618530245\n",
      "\t\tROC-AUC: Mean = 0.9862667526972537, Std = 0.0033302002233253944\n"
     ]
    },
    {
     "data": {
      "text/html": [
       "Waiting for W&B process to finish... <strong style=\"color:green\">(success).</strong>"
      ],
      "text/plain": [
       "<IPython.core.display.HTML object>"
      ]
     },
     "metadata": {},
     "output_type": "display_data"
    },
    {
     "name": "stderr",
     "output_type": "stream",
     "text": [
      "wandb: Network error (ReadTimeout), entering retry loop.\n"
     ]
    },
    {
     "data": {
      "text/html": [
       "<style>\n",
       "    table.wandb td:nth-child(1) { padding: 0 10px; text-align: left ; width: auto;} td:nth-child(2) {text-align: left ; width: 100%}\n",
       "    .wandb-row { display: flex; flex-direction: row; flex-wrap: wrap; justify-content: flex-start; width: 100% }\n",
       "    .wandb-col { display: flex; flex-direction: column; flex-basis: 100%; flex: 1; padding: 10px; }\n",
       "    </style>\n",
       "<div class=\"wandb-row\"><div class=\"wandb-col\"><h3>Run history:</h3><br/><table class=\"wandb\"><tr><td>Accuracy_mean</td><td>▁</td></tr><tr><td>Accuracy_std</td><td>▁</td></tr><tr><td>F1 Score_mean</td><td>▁</td></tr><tr><td>F1 Score_std</td><td>▁</td></tr><tr><td>Precision_mean</td><td>▁</td></tr><tr><td>Precision_std</td><td>▁</td></tr><tr><td>ROC-AUC_mean</td><td>▁</td></tr><tr><td>ROC-AUC_std</td><td>▁</td></tr><tr><td>Recall_mean</td><td>▁</td></tr><tr><td>Recall_std</td><td>▁</td></tr></table><br/></div><div class=\"wandb-col\"><h3>Run summary:</h3><br/><table class=\"wandb\"><tr><td>Accuracy_mean</td><td>0.91199</td></tr><tr><td>Accuracy_std</td><td>0.01925</td></tr><tr><td>F1 Score_mean</td><td>0.91684</td></tr><tr><td>F1 Score_std</td><td>0.01835</td></tr><tr><td>Precision_mean</td><td>0.92714</td></tr><tr><td>Precision_std</td><td>0.01743</td></tr><tr><td>ROC-AUC_mean</td><td>0.98627</td></tr><tr><td>ROC-AUC_std</td><td>0.00333</td></tr><tr><td>Recall_mean</td><td>0.91199</td></tr><tr><td>Recall_std</td><td>0.01925</td></tr></table><br/></div></div>"
      ],
      "text/plain": [
       "<IPython.core.display.HTML object>"
      ]
     },
     "metadata": {},
     "output_type": "display_data"
    },
    {
     "data": {
      "text/html": [
       " View run <strong style=\"color:#cdcd00\">BalancedRF_Ablated 2</strong> at: <a href='https://wandb.ai/lequn/LW-DED_audio-classification/runs/7hmfs36d' target=\"_blank\">https://wandb.ai/lequn/LW-DED_audio-classification/runs/7hmfs36d</a><br/> View job at <a href='https://wandb.ai/lequn/LW-DED_audio-classification/jobs/QXJ0aWZhY3RDb2xsZWN0aW9uOjE2MTUxNDY2MA==/version_details/v12' target=\"_blank\">https://wandb.ai/lequn/LW-DED_audio-classification/jobs/QXJ0aWZhY3RDb2xsZWN0aW9uOjE2MTUxNDY2MA==/version_details/v12</a><br/>Synced 6 W&B file(s), 0 media file(s), 0 artifact file(s) and 0 other file(s)"
      ],
      "text/plain": [
       "<IPython.core.display.HTML object>"
      ]
     },
     "metadata": {},
     "output_type": "display_data"
    },
    {
     "data": {
      "text/html": [
       "Find logs at: <code>./wandb/run-20240411_150639-7hmfs36d/logs</code>"
      ],
      "text/plain": [
       "<IPython.core.display.HTML object>"
      ]
     },
     "metadata": {},
     "output_type": "display_data"
    },
    {
     "name": "stdout",
     "output_type": "stream",
     "text": [
      "\tTraining model: RUSBoost\n"
     ]
    },
    {
     "data": {
      "application/vnd.jupyter.widget-view+json": {
       "model_id": "b108087cf85d427ea84e0936bc8b9a73",
       "version_major": 2,
       "version_minor": 0
      },
      "text/plain": [
       "VBox(children=(Label(value='Waiting for wandb.init()...\\r'), FloatProgress(value=0.011114195733332761, max=1.0…"
      ]
     },
     "metadata": {},
     "output_type": "display_data"
    },
    {
     "data": {
      "text/html": [
       "wandb version 0.16.6 is available!  To upgrade, please run:\n",
       " $ pip install wandb --upgrade"
      ],
      "text/plain": [
       "<IPython.core.display.HTML object>"
      ]
     },
     "metadata": {},
     "output_type": "display_data"
    },
    {
     "data": {
      "text/html": [
       "Tracking run with wandb version 0.15.12"
      ],
      "text/plain": [
       "<IPython.core.display.HTML object>"
      ]
     },
     "metadata": {},
     "output_type": "display_data"
    },
    {
     "data": {
      "text/html": [
       "Run data is saved locally in <code>/home/chenlequn/GitHub/MultiSensor-Monitoring-LW-DED/Code/wandb/run-20240411_150956-ye2yjc47</code>"
      ],
      "text/plain": [
       "<IPython.core.display.HTML object>"
      ]
     },
     "metadata": {},
     "output_type": "display_data"
    },
    {
     "data": {
      "text/html": [
       "Syncing run <strong><a href='https://wandb.ai/lequn/LW-DED_audio-classification/runs/ye2yjc47' target=\"_blank\">RUSBoost_Ablated 2</a></strong> to <a href='https://wandb.ai/lequn/LW-DED_audio-classification' target=\"_blank\">Weights & Biases</a> (<a href='https://wandb.me/run' target=\"_blank\">docs</a>)<br/>"
      ],
      "text/plain": [
       "<IPython.core.display.HTML object>"
      ]
     },
     "metadata": {},
     "output_type": "display_data"
    },
    {
     "data": {
      "text/html": [
       " View project at <a href='https://wandb.ai/lequn/LW-DED_audio-classification' target=\"_blank\">https://wandb.ai/lequn/LW-DED_audio-classification</a>"
      ],
      "text/plain": [
       "<IPython.core.display.HTML object>"
      ]
     },
     "metadata": {},
     "output_type": "display_data"
    },
    {
     "data": {
      "text/html": [
       " View run at <a href='https://wandb.ai/lequn/LW-DED_audio-classification/runs/ye2yjc47' target=\"_blank\">https://wandb.ai/lequn/LW-DED_audio-classification/runs/ye2yjc47</a>"
      ],
      "text/plain": [
       "<IPython.core.display.HTML object>"
      ]
     },
     "metadata": {},
     "output_type": "display_data"
    },
    {
     "name": "stdout",
     "output_type": "stream",
     "text": [
      "\t\tAccuracy: Mean = 0.8943860025762129, Std = 0.028859414983858914\n",
      "\t\tF1 Score: Mean = 0.9018592712508203, Std = 0.02573539499451527\n",
      "\t\tPrecision: Mean = 0.9168612386561902, Std = 0.022568102091756474\n",
      "\t\tRecall: Mean = 0.8943860025762129, Std = 0.028859414983858914\n",
      "\t\tROC-AUC: Mean = 0.9755452553485844, Std = 0.004689180965710246\n"
     ]
    },
    {
     "data": {
      "text/html": [
       "Waiting for W&B process to finish... <strong style=\"color:green\">(success).</strong>"
      ],
      "text/plain": [
       "<IPython.core.display.HTML object>"
      ]
     },
     "metadata": {},
     "output_type": "display_data"
    },
    {
     "data": {
      "text/html": [
       "<style>\n",
       "    table.wandb td:nth-child(1) { padding: 0 10px; text-align: left ; width: auto;} td:nth-child(2) {text-align: left ; width: 100%}\n",
       "    .wandb-row { display: flex; flex-direction: row; flex-wrap: wrap; justify-content: flex-start; width: 100% }\n",
       "    .wandb-col { display: flex; flex-direction: column; flex-basis: 100%; flex: 1; padding: 10px; }\n",
       "    </style>\n",
       "<div class=\"wandb-row\"><div class=\"wandb-col\"><h3>Run history:</h3><br/><table class=\"wandb\"><tr><td>Accuracy_mean</td><td>▁</td></tr><tr><td>Accuracy_std</td><td>▁</td></tr><tr><td>F1 Score_mean</td><td>▁</td></tr><tr><td>F1 Score_std</td><td>▁</td></tr><tr><td>Precision_mean</td><td>▁</td></tr><tr><td>Precision_std</td><td>▁</td></tr><tr><td>ROC-AUC_mean</td><td>▁</td></tr><tr><td>ROC-AUC_std</td><td>▁</td></tr><tr><td>Recall_mean</td><td>▁</td></tr><tr><td>Recall_std</td><td>▁</td></tr></table><br/></div><div class=\"wandb-col\"><h3>Run summary:</h3><br/><table class=\"wandb\"><tr><td>Accuracy_mean</td><td>0.89439</td></tr><tr><td>Accuracy_std</td><td>0.02886</td></tr><tr><td>F1 Score_mean</td><td>0.90186</td></tr><tr><td>F1 Score_std</td><td>0.02574</td></tr><tr><td>Precision_mean</td><td>0.91686</td></tr><tr><td>Precision_std</td><td>0.02257</td></tr><tr><td>ROC-AUC_mean</td><td>0.97555</td></tr><tr><td>ROC-AUC_std</td><td>0.00469</td></tr><tr><td>Recall_mean</td><td>0.89439</td></tr><tr><td>Recall_std</td><td>0.02886</td></tr></table><br/></div></div>"
      ],
      "text/plain": [
       "<IPython.core.display.HTML object>"
      ]
     },
     "metadata": {},
     "output_type": "display_data"
    },
    {
     "data": {
      "text/html": [
       " View run <strong style=\"color:#cdcd00\">RUSBoost_Ablated 2</strong> at: <a href='https://wandb.ai/lequn/LW-DED_audio-classification/runs/ye2yjc47' target=\"_blank\">https://wandb.ai/lequn/LW-DED_audio-classification/runs/ye2yjc47</a><br/> View job at <a href='https://wandb.ai/lequn/LW-DED_audio-classification/jobs/QXJ0aWZhY3RDb2xsZWN0aW9uOjE2MTUxNDY2MA==/version_details/v12' target=\"_blank\">https://wandb.ai/lequn/LW-DED_audio-classification/jobs/QXJ0aWZhY3RDb2xsZWN0aW9uOjE2MTUxNDY2MA==/version_details/v12</a><br/>Synced 6 W&B file(s), 0 media file(s), 0 artifact file(s) and 0 other file(s)"
      ],
      "text/plain": [
       "<IPython.core.display.HTML object>"
      ]
     },
     "metadata": {},
     "output_type": "display_data"
    },
    {
     "data": {
      "text/html": [
       "Find logs at: <code>./wandb/run-20240411_150956-ye2yjc47/logs</code>"
      ],
      "text/plain": [
       "<IPython.core.display.HTML object>"
      ]
     },
     "metadata": {},
     "output_type": "display_data"
    },
    {
     "name": "stdout",
     "output_type": "stream",
     "text": [
      "\tTraining model: Ada\n"
     ]
    },
    {
     "data": {
      "application/vnd.jupyter.widget-view+json": {
       "model_id": "f9a76fbba67e47ffa4fd1d4c41e5c5d2",
       "version_major": 2,
       "version_minor": 0
      },
      "text/plain": [
       "VBox(children=(Label(value='Waiting for wandb.init()...\\r'), FloatProgress(value=0.01111391535555918, max=1.0)…"
      ]
     },
     "metadata": {},
     "output_type": "display_data"
    },
    {
     "data": {
      "text/html": [
       "wandb version 0.16.6 is available!  To upgrade, please run:\n",
       " $ pip install wandb --upgrade"
      ],
      "text/plain": [
       "<IPython.core.display.HTML object>"
      ]
     },
     "metadata": {},
     "output_type": "display_data"
    },
    {
     "data": {
      "text/html": [
       "Tracking run with wandb version 0.15.12"
      ],
      "text/plain": [
       "<IPython.core.display.HTML object>"
      ]
     },
     "metadata": {},
     "output_type": "display_data"
    },
    {
     "data": {
      "text/html": [
       "Run data is saved locally in <code>/home/chenlequn/GitHub/MultiSensor-Monitoring-LW-DED/Code/wandb/run-20240411_151008-tqgzxebp</code>"
      ],
      "text/plain": [
       "<IPython.core.display.HTML object>"
      ]
     },
     "metadata": {},
     "output_type": "display_data"
    },
    {
     "data": {
      "text/html": [
       "Syncing run <strong><a href='https://wandb.ai/lequn/LW-DED_audio-classification/runs/tqgzxebp' target=\"_blank\">Ada_Ablated 2</a></strong> to <a href='https://wandb.ai/lequn/LW-DED_audio-classification' target=\"_blank\">Weights & Biases</a> (<a href='https://wandb.me/run' target=\"_blank\">docs</a>)<br/>"
      ],
      "text/plain": [
       "<IPython.core.display.HTML object>"
      ]
     },
     "metadata": {},
     "output_type": "display_data"
    },
    {
     "data": {
      "text/html": [
       " View project at <a href='https://wandb.ai/lequn/LW-DED_audio-classification' target=\"_blank\">https://wandb.ai/lequn/LW-DED_audio-classification</a>"
      ],
      "text/plain": [
       "<IPython.core.display.HTML object>"
      ]
     },
     "metadata": {},
     "output_type": "display_data"
    },
    {
     "data": {
      "text/html": [
       " View run at <a href='https://wandb.ai/lequn/LW-DED_audio-classification/runs/tqgzxebp' target=\"_blank\">https://wandb.ai/lequn/LW-DED_audio-classification/runs/tqgzxebp</a>"
      ],
      "text/plain": [
       "<IPython.core.display.HTML object>"
      ]
     },
     "metadata": {},
     "output_type": "display_data"
    },
    {
     "name": "stdout",
     "output_type": "stream",
     "text": [
      "\t\tAccuracy: Mean = 0.9164233576642336, Std = 0.013624825861197941\n",
      "\t\tF1 Score: Mean = 0.9136739695497639, Std = 0.014723305675340762\n",
      "\t\tPrecision: Mean = 0.9167663502883032, Std = 0.01187163994393146\n",
      "\t\tRecall: Mean = 0.9164233576642336, Std = 0.013624825861197941\n",
      "\t\tROC-AUC: Mean = 0.9769994227167202, Std = 0.0046773615826374145\n"
     ]
    },
    {
     "data": {
      "text/html": [
       "Waiting for W&B process to finish... <strong style=\"color:green\">(success).</strong>"
      ],
      "text/plain": [
       "<IPython.core.display.HTML object>"
      ]
     },
     "metadata": {},
     "output_type": "display_data"
    },
    {
     "data": {
      "text/html": [
       "<style>\n",
       "    table.wandb td:nth-child(1) { padding: 0 10px; text-align: left ; width: auto;} td:nth-child(2) {text-align: left ; width: 100%}\n",
       "    .wandb-row { display: flex; flex-direction: row; flex-wrap: wrap; justify-content: flex-start; width: 100% }\n",
       "    .wandb-col { display: flex; flex-direction: column; flex-basis: 100%; flex: 1; padding: 10px; }\n",
       "    </style>\n",
       "<div class=\"wandb-row\"><div class=\"wandb-col\"><h3>Run history:</h3><br/><table class=\"wandb\"><tr><td>Accuracy_mean</td><td>▁</td></tr><tr><td>Accuracy_std</td><td>▁</td></tr><tr><td>F1 Score_mean</td><td>▁</td></tr><tr><td>F1 Score_std</td><td>▁</td></tr><tr><td>Precision_mean</td><td>▁</td></tr><tr><td>Precision_std</td><td>▁</td></tr><tr><td>ROC-AUC_mean</td><td>▁</td></tr><tr><td>ROC-AUC_std</td><td>▁</td></tr><tr><td>Recall_mean</td><td>▁</td></tr><tr><td>Recall_std</td><td>▁</td></tr></table><br/></div><div class=\"wandb-col\"><h3>Run summary:</h3><br/><table class=\"wandb\"><tr><td>Accuracy_mean</td><td>0.91642</td></tr><tr><td>Accuracy_std</td><td>0.01362</td></tr><tr><td>F1 Score_mean</td><td>0.91367</td></tr><tr><td>F1 Score_std</td><td>0.01472</td></tr><tr><td>Precision_mean</td><td>0.91677</td></tr><tr><td>Precision_std</td><td>0.01187</td></tr><tr><td>ROC-AUC_mean</td><td>0.977</td></tr><tr><td>ROC-AUC_std</td><td>0.00468</td></tr><tr><td>Recall_mean</td><td>0.91642</td></tr><tr><td>Recall_std</td><td>0.01362</td></tr></table><br/></div></div>"
      ],
      "text/plain": [
       "<IPython.core.display.HTML object>"
      ]
     },
     "metadata": {},
     "output_type": "display_data"
    },
    {
     "data": {
      "text/html": [
       " View run <strong style=\"color:#cdcd00\">Ada_Ablated 2</strong> at: <a href='https://wandb.ai/lequn/LW-DED_audio-classification/runs/tqgzxebp' target=\"_blank\">https://wandb.ai/lequn/LW-DED_audio-classification/runs/tqgzxebp</a><br/> View job at <a href='https://wandb.ai/lequn/LW-DED_audio-classification/jobs/QXJ0aWZhY3RDb2xsZWN0aW9uOjE2MTUxNDY2MA==/version_details/v12' target=\"_blank\">https://wandb.ai/lequn/LW-DED_audio-classification/jobs/QXJ0aWZhY3RDb2xsZWN0aW9uOjE2MTUxNDY2MA==/version_details/v12</a><br/>Synced 6 W&B file(s), 0 media file(s), 0 artifact file(s) and 0 other file(s)"
      ],
      "text/plain": [
       "<IPython.core.display.HTML object>"
      ]
     },
     "metadata": {},
     "output_type": "display_data"
    },
    {
     "data": {
      "text/html": [
       "Find logs at: <code>./wandb/run-20240411_151008-tqgzxebp/logs</code>"
      ],
      "text/plain": [
       "<IPython.core.display.HTML object>"
      ]
     },
     "metadata": {},
     "output_type": "display_data"
    },
    {
     "name": "stdout",
     "output_type": "stream",
     "text": [
      "\tTraining model: NN\n"
     ]
    },
    {
     "data": {
      "application/vnd.jupyter.widget-view+json": {
       "model_id": "1d69847d83754002b3f4362216cb0b78",
       "version_major": 2,
       "version_minor": 0
      },
      "text/plain": [
       "VBox(children=(Label(value='Waiting for wandb.init()...\\r'), FloatProgress(value=0.011113876899980824, max=1.0…"
      ]
     },
     "metadata": {},
     "output_type": "display_data"
    },
    {
     "data": {
      "text/html": [
       "wandb version 0.16.6 is available!  To upgrade, please run:\n",
       " $ pip install wandb --upgrade"
      ],
      "text/plain": [
       "<IPython.core.display.HTML object>"
      ]
     },
     "metadata": {},
     "output_type": "display_data"
    },
    {
     "data": {
      "text/html": [
       "Tracking run with wandb version 0.15.12"
      ],
      "text/plain": [
       "<IPython.core.display.HTML object>"
      ]
     },
     "metadata": {},
     "output_type": "display_data"
    },
    {
     "data": {
      "text/html": [
       "Run data is saved locally in <code>/home/chenlequn/GitHub/MultiSensor-Monitoring-LW-DED/Code/wandb/run-20240411_151025-4nbkb3y0</code>"
      ],
      "text/plain": [
       "<IPython.core.display.HTML object>"
      ]
     },
     "metadata": {},
     "output_type": "display_data"
    },
    {
     "data": {
      "text/html": [
       "Syncing run <strong><a href='https://wandb.ai/lequn/LW-DED_audio-classification/runs/4nbkb3y0' target=\"_blank\">NN_Ablated 2</a></strong> to <a href='https://wandb.ai/lequn/LW-DED_audio-classification' target=\"_blank\">Weights & Biases</a> (<a href='https://wandb.me/run' target=\"_blank\">docs</a>)<br/>"
      ],
      "text/plain": [
       "<IPython.core.display.HTML object>"
      ]
     },
     "metadata": {},
     "output_type": "display_data"
    },
    {
     "data": {
      "text/html": [
       " View project at <a href='https://wandb.ai/lequn/LW-DED_audio-classification' target=\"_blank\">https://wandb.ai/lequn/LW-DED_audio-classification</a>"
      ],
      "text/plain": [
       "<IPython.core.display.HTML object>"
      ]
     },
     "metadata": {},
     "output_type": "display_data"
    },
    {
     "data": {
      "text/html": [
       " View run at <a href='https://wandb.ai/lequn/LW-DED_audio-classification/runs/4nbkb3y0' target=\"_blank\">https://wandb.ai/lequn/LW-DED_audio-classification/runs/4nbkb3y0</a>"
      ],
      "text/plain": [
       "<IPython.core.display.HTML object>"
      ]
     },
     "metadata": {},
     "output_type": "display_data"
    },
    {
     "name": "stdout",
     "output_type": "stream",
     "text": [
      "\t\tAccuracy: Mean = 0.9252146844139115, Std = 0.007252838963469053\n",
      "\t\tF1 Score: Mean = 0.9252788715704574, Std = 0.007893138912882302\n",
      "\t\tPrecision: Mean = 0.9296390518081159, Std = 0.009760365077327537\n",
      "\t\tRecall: Mean = 0.9252146844139115, Std = 0.007252838963469053\n",
      "\t\tROC-AUC: Mean = 0.9900019595524974, Std = 0.0007419127168643148\n"
     ]
    },
    {
     "data": {
      "text/html": [
       "Waiting for W&B process to finish... <strong style=\"color:green\">(success).</strong>"
      ],
      "text/plain": [
       "<IPython.core.display.HTML object>"
      ]
     },
     "metadata": {},
     "output_type": "display_data"
    },
    {
     "data": {
      "text/html": [
       "<style>\n",
       "    table.wandb td:nth-child(1) { padding: 0 10px; text-align: left ; width: auto;} td:nth-child(2) {text-align: left ; width: 100%}\n",
       "    .wandb-row { display: flex; flex-direction: row; flex-wrap: wrap; justify-content: flex-start; width: 100% }\n",
       "    .wandb-col { display: flex; flex-direction: column; flex-basis: 100%; flex: 1; padding: 10px; }\n",
       "    </style>\n",
       "<div class=\"wandb-row\"><div class=\"wandb-col\"><h3>Run history:</h3><br/><table class=\"wandb\"><tr><td>Accuracy_mean</td><td>▁</td></tr><tr><td>Accuracy_std</td><td>▁</td></tr><tr><td>F1 Score_mean</td><td>▁</td></tr><tr><td>F1 Score_std</td><td>▁</td></tr><tr><td>Precision_mean</td><td>▁</td></tr><tr><td>Precision_std</td><td>▁</td></tr><tr><td>ROC-AUC_mean</td><td>▁</td></tr><tr><td>ROC-AUC_std</td><td>▁</td></tr><tr><td>Recall_mean</td><td>▁</td></tr><tr><td>Recall_std</td><td>▁</td></tr></table><br/></div><div class=\"wandb-col\"><h3>Run summary:</h3><br/><table class=\"wandb\"><tr><td>Accuracy_mean</td><td>0.92521</td></tr><tr><td>Accuracy_std</td><td>0.00725</td></tr><tr><td>F1 Score_mean</td><td>0.92528</td></tr><tr><td>F1 Score_std</td><td>0.00789</td></tr><tr><td>Precision_mean</td><td>0.92964</td></tr><tr><td>Precision_std</td><td>0.00976</td></tr><tr><td>ROC-AUC_mean</td><td>0.99</td></tr><tr><td>ROC-AUC_std</td><td>0.00074</td></tr><tr><td>Recall_mean</td><td>0.92521</td></tr><tr><td>Recall_std</td><td>0.00725</td></tr></table><br/></div></div>"
      ],
      "text/plain": [
       "<IPython.core.display.HTML object>"
      ]
     },
     "metadata": {},
     "output_type": "display_data"
    },
    {
     "data": {
      "text/html": [
       " View run <strong style=\"color:#cdcd00\">NN_Ablated 2</strong> at: <a href='https://wandb.ai/lequn/LW-DED_audio-classification/runs/4nbkb3y0' target=\"_blank\">https://wandb.ai/lequn/LW-DED_audio-classification/runs/4nbkb3y0</a><br/> View job at <a href='https://wandb.ai/lequn/LW-DED_audio-classification/jobs/QXJ0aWZhY3RDb2xsZWN0aW9uOjE2MTUxNDY2MA==/version_details/v12' target=\"_blank\">https://wandb.ai/lequn/LW-DED_audio-classification/jobs/QXJ0aWZhY3RDb2xsZWN0aW9uOjE2MTUxNDY2MA==/version_details/v12</a><br/>Synced 6 W&B file(s), 0 media file(s), 0 artifact file(s) and 0 other file(s)"
      ],
      "text/plain": [
       "<IPython.core.display.HTML object>"
      ]
     },
     "metadata": {},
     "output_type": "display_data"
    },
    {
     "data": {
      "text/html": [
       "Find logs at: <code>./wandb/run-20240411_151025-4nbkb3y0/logs</code>"
      ],
      "text/plain": [
       "<IPython.core.display.HTML object>"
      ]
     },
     "metadata": {},
     "output_type": "display_data"
    },
    {
     "name": "stdout",
     "output_type": "stream",
     "text": [
      "\tTraining model: XGBoost\n"
     ]
    },
    {
     "data": {
      "application/vnd.jupyter.widget-view+json": {
       "model_id": "33f8d28aecfb45b8b60d1436ba21d4ca",
       "version_major": 2,
       "version_minor": 0
      },
      "text/plain": [
       "VBox(children=(Label(value='Waiting for wandb.init()...\\r'), FloatProgress(value=0.011113296422222953, max=1.0…"
      ]
     },
     "metadata": {},
     "output_type": "display_data"
    },
    {
     "data": {
      "text/html": [
       "wandb version 0.16.6 is available!  To upgrade, please run:\n",
       " $ pip install wandb --upgrade"
      ],
      "text/plain": [
       "<IPython.core.display.HTML object>"
      ]
     },
     "metadata": {},
     "output_type": "display_data"
    },
    {
     "data": {
      "text/html": [
       "Tracking run with wandb version 0.15.12"
      ],
      "text/plain": [
       "<IPython.core.display.HTML object>"
      ]
     },
     "metadata": {},
     "output_type": "display_data"
    },
    {
     "data": {
      "text/html": [
       "Run data is saved locally in <code>/home/chenlequn/GitHub/MultiSensor-Monitoring-LW-DED/Code/wandb/run-20240411_151038-pc0s5uap</code>"
      ],
      "text/plain": [
       "<IPython.core.display.HTML object>"
      ]
     },
     "metadata": {},
     "output_type": "display_data"
    },
    {
     "data": {
      "text/html": [
       "Syncing run <strong><a href='https://wandb.ai/lequn/LW-DED_audio-classification/runs/pc0s5uap' target=\"_blank\">XGBoost_Ablated 2</a></strong> to <a href='https://wandb.ai/lequn/LW-DED_audio-classification' target=\"_blank\">Weights & Biases</a> (<a href='https://wandb.me/run' target=\"_blank\">docs</a>)<br/>"
      ],
      "text/plain": [
       "<IPython.core.display.HTML object>"
      ]
     },
     "metadata": {},
     "output_type": "display_data"
    },
    {
     "data": {
      "text/html": [
       " View project at <a href='https://wandb.ai/lequn/LW-DED_audio-classification' target=\"_blank\">https://wandb.ai/lequn/LW-DED_audio-classification</a>"
      ],
      "text/plain": [
       "<IPython.core.display.HTML object>"
      ]
     },
     "metadata": {},
     "output_type": "display_data"
    },
    {
     "data": {
      "text/html": [
       " View run at <a href='https://wandb.ai/lequn/LW-DED_audio-classification/runs/pc0s5uap' target=\"_blank\">https://wandb.ai/lequn/LW-DED_audio-classification/runs/pc0s5uap</a>"
      ],
      "text/plain": [
       "<IPython.core.display.HTML object>"
      ]
     },
     "metadata": {},
     "output_type": "display_data"
    },
    {
     "name": "stdout",
     "output_type": "stream",
     "text": [
      "[15:10:43] WARNING: ../src/learner.cc:339: No visible GPU is found, setting `gpu_id` to -1\n",
      "\t\tAccuracy: Mean = 0.9339845427221984, Std = 0.013286172989923387\n",
      "\t\tF1 Score: Mean = 0.9330964177558794, Std = 0.013301910535170363\n",
      "\t\tPrecision: Mean = 0.9338663003193197, Std = 0.013684159036928805\n",
      "\t\tRecall: Mean = 0.9339845427221984, Std = 0.013286172989923387\n",
      "\t\tROC-AUC: Mean = 0.9903694352644212, Std = 0.0036968168918125317\n"
     ]
    },
    {
     "data": {
      "text/html": [
       "Waiting for W&B process to finish... <strong style=\"color:green\">(success).</strong>"
      ],
      "text/plain": [
       "<IPython.core.display.HTML object>"
      ]
     },
     "metadata": {},
     "output_type": "display_data"
    },
    {
     "data": {
      "application/vnd.jupyter.widget-view+json": {
       "model_id": "370b5cb681e8467fb2661dd7a41dd827",
       "version_major": 2,
       "version_minor": 0
      },
      "text/plain": [
       "VBox(children=(Label(value='0.004 MB of 0.004 MB uploaded (0.000 MB deduped)\\r'), FloatProgress(value=1.0, max…"
      ]
     },
     "metadata": {},
     "output_type": "display_data"
    },
    {
     "data": {
      "text/html": [
       "<style>\n",
       "    table.wandb td:nth-child(1) { padding: 0 10px; text-align: left ; width: auto;} td:nth-child(2) {text-align: left ; width: 100%}\n",
       "    .wandb-row { display: flex; flex-direction: row; flex-wrap: wrap; justify-content: flex-start; width: 100% }\n",
       "    .wandb-col { display: flex; flex-direction: column; flex-basis: 100%; flex: 1; padding: 10px; }\n",
       "    </style>\n",
       "<div class=\"wandb-row\"><div class=\"wandb-col\"><h3>Run history:</h3><br/><table class=\"wandb\"><tr><td>Accuracy_mean</td><td>▁</td></tr><tr><td>Accuracy_std</td><td>▁</td></tr><tr><td>F1 Score_mean</td><td>▁</td></tr><tr><td>F1 Score_std</td><td>▁</td></tr><tr><td>Precision_mean</td><td>▁</td></tr><tr><td>Precision_std</td><td>▁</td></tr><tr><td>ROC-AUC_mean</td><td>▁</td></tr><tr><td>ROC-AUC_std</td><td>▁</td></tr><tr><td>Recall_mean</td><td>▁</td></tr><tr><td>Recall_std</td><td>▁</td></tr></table><br/></div><div class=\"wandb-col\"><h3>Run summary:</h3><br/><table class=\"wandb\"><tr><td>Accuracy_mean</td><td>0.93398</td></tr><tr><td>Accuracy_std</td><td>0.01329</td></tr><tr><td>F1 Score_mean</td><td>0.9331</td></tr><tr><td>F1 Score_std</td><td>0.0133</td></tr><tr><td>Precision_mean</td><td>0.93387</td></tr><tr><td>Precision_std</td><td>0.01368</td></tr><tr><td>ROC-AUC_mean</td><td>0.99037</td></tr><tr><td>ROC-AUC_std</td><td>0.0037</td></tr><tr><td>Recall_mean</td><td>0.93398</td></tr><tr><td>Recall_std</td><td>0.01329</td></tr></table><br/></div></div>"
      ],
      "text/plain": [
       "<IPython.core.display.HTML object>"
      ]
     },
     "metadata": {},
     "output_type": "display_data"
    },
    {
     "data": {
      "text/html": [
       " View run <strong style=\"color:#cdcd00\">XGBoost_Ablated 2</strong> at: <a href='https://wandb.ai/lequn/LW-DED_audio-classification/runs/pc0s5uap' target=\"_blank\">https://wandb.ai/lequn/LW-DED_audio-classification/runs/pc0s5uap</a><br/> View job at <a href='https://wandb.ai/lequn/LW-DED_audio-classification/jobs/QXJ0aWZhY3RDb2xsZWN0aW9uOjE2MTUxNDY2MA==/version_details/v12' target=\"_blank\">https://wandb.ai/lequn/LW-DED_audio-classification/jobs/QXJ0aWZhY3RDb2xsZWN0aW9uOjE2MTUxNDY2MA==/version_details/v12</a><br/>Synced 6 W&B file(s), 0 media file(s), 0 artifact file(s) and 0 other file(s)"
      ],
      "text/plain": [
       "<IPython.core.display.HTML object>"
      ]
     },
     "metadata": {},
     "output_type": "display_data"
    },
    {
     "data": {
      "text/html": [
       "Find logs at: <code>./wandb/run-20240411_151038-pc0s5uap/logs</code>"
      ],
      "text/plain": [
       "<IPython.core.display.HTML object>"
      ]
     },
     "metadata": {},
     "output_type": "display_data"
    },
    {
     "name": "stdout",
     "output_type": "stream",
     "text": [
      "\tTraining model: LightGBM\n"
     ]
    },
    {
     "data": {
      "application/vnd.jupyter.widget-view+json": {
       "model_id": "c0575cd3f0bd4eb7a7db1157829ef62f",
       "version_major": 2,
       "version_minor": 0
      },
      "text/plain": [
       "VBox(children=(Label(value='Waiting for wandb.init()...\\r'), FloatProgress(value=0.011114413366643323, max=1.0…"
      ]
     },
     "metadata": {},
     "output_type": "display_data"
    },
    {
     "data": {
      "text/html": [
       "wandb version 0.16.6 is available!  To upgrade, please run:\n",
       " $ pip install wandb --upgrade"
      ],
      "text/plain": [
       "<IPython.core.display.HTML object>"
      ]
     },
     "metadata": {},
     "output_type": "display_data"
    },
    {
     "data": {
      "text/html": [
       "Tracking run with wandb version 0.15.12"
      ],
      "text/plain": [
       "<IPython.core.display.HTML object>"
      ]
     },
     "metadata": {},
     "output_type": "display_data"
    },
    {
     "data": {
      "text/html": [
       "Run data is saved locally in <code>/home/chenlequn/GitHub/MultiSensor-Monitoring-LW-DED/Code/wandb/run-20240411_151050-6l06ozw2</code>"
      ],
      "text/plain": [
       "<IPython.core.display.HTML object>"
      ]
     },
     "metadata": {},
     "output_type": "display_data"
    },
    {
     "data": {
      "text/html": [
       "Syncing run <strong><a href='https://wandb.ai/lequn/LW-DED_audio-classification/runs/6l06ozw2' target=\"_blank\">LightGBM_Ablated 2</a></strong> to <a href='https://wandb.ai/lequn/LW-DED_audio-classification' target=\"_blank\">Weights & Biases</a> (<a href='https://wandb.me/run' target=\"_blank\">docs</a>)<br/>"
      ],
      "text/plain": [
       "<IPython.core.display.HTML object>"
      ]
     },
     "metadata": {},
     "output_type": "display_data"
    },
    {
     "data": {
      "text/html": [
       " View project at <a href='https://wandb.ai/lequn/LW-DED_audio-classification' target=\"_blank\">https://wandb.ai/lequn/LW-DED_audio-classification</a>"
      ],
      "text/plain": [
       "<IPython.core.display.HTML object>"
      ]
     },
     "metadata": {},
     "output_type": "display_data"
    },
    {
     "data": {
      "text/html": [
       " View run at <a href='https://wandb.ai/lequn/LW-DED_audio-classification/runs/6l06ozw2' target=\"_blank\">https://wandb.ai/lequn/LW-DED_audio-classification/runs/6l06ozw2</a>"
      ],
      "text/plain": [
       "<IPython.core.display.HTML object>"
      ]
     },
     "metadata": {},
     "output_type": "display_data"
    },
    {
     "name": "stdout",
     "output_type": "stream",
     "text": [
      "\t\tAccuracy: Mean = 0.9427973379132674, Std = 0.015015229577136163\n",
      "\t\tF1 Score: Mean = 0.9418039043911332, Std = 0.014432571314928293\n",
      "\t\tPrecision: Mean = 0.9441949666755999, Std = 0.014957367391168297\n",
      "\t\tRecall: Mean = 0.9427973379132674, Std = 0.015015229577136163\n",
      "\t\tROC-AUC: Mean = 0.9919655463716831, Std = 0.002955304523753686\n"
     ]
    },
    {
     "data": {
      "text/html": [
       "Waiting for W&B process to finish... <strong style=\"color:green\">(success).</strong>"
      ],
      "text/plain": [
       "<IPython.core.display.HTML object>"
      ]
     },
     "metadata": {},
     "output_type": "display_data"
    },
    {
     "data": {
      "text/html": [
       "<style>\n",
       "    table.wandb td:nth-child(1) { padding: 0 10px; text-align: left ; width: auto;} td:nth-child(2) {text-align: left ; width: 100%}\n",
       "    .wandb-row { display: flex; flex-direction: row; flex-wrap: wrap; justify-content: flex-start; width: 100% }\n",
       "    .wandb-col { display: flex; flex-direction: column; flex-basis: 100%; flex: 1; padding: 10px; }\n",
       "    </style>\n",
       "<div class=\"wandb-row\"><div class=\"wandb-col\"><h3>Run history:</h3><br/><table class=\"wandb\"><tr><td>Accuracy_mean</td><td>▁</td></tr><tr><td>Accuracy_std</td><td>▁</td></tr><tr><td>F1 Score_mean</td><td>▁</td></tr><tr><td>F1 Score_std</td><td>▁</td></tr><tr><td>Precision_mean</td><td>▁</td></tr><tr><td>Precision_std</td><td>▁</td></tr><tr><td>ROC-AUC_mean</td><td>▁</td></tr><tr><td>ROC-AUC_std</td><td>▁</td></tr><tr><td>Recall_mean</td><td>▁</td></tr><tr><td>Recall_std</td><td>▁</td></tr></table><br/></div><div class=\"wandb-col\"><h3>Run summary:</h3><br/><table class=\"wandb\"><tr><td>Accuracy_mean</td><td>0.9428</td></tr><tr><td>Accuracy_std</td><td>0.01502</td></tr><tr><td>F1 Score_mean</td><td>0.9418</td></tr><tr><td>F1 Score_std</td><td>0.01443</td></tr><tr><td>Precision_mean</td><td>0.94419</td></tr><tr><td>Precision_std</td><td>0.01496</td></tr><tr><td>ROC-AUC_mean</td><td>0.99197</td></tr><tr><td>ROC-AUC_std</td><td>0.00296</td></tr><tr><td>Recall_mean</td><td>0.9428</td></tr><tr><td>Recall_std</td><td>0.01502</td></tr></table><br/></div></div>"
      ],
      "text/plain": [
       "<IPython.core.display.HTML object>"
      ]
     },
     "metadata": {},
     "output_type": "display_data"
    },
    {
     "data": {
      "text/html": [
       " View run <strong style=\"color:#cdcd00\">LightGBM_Ablated 2</strong> at: <a href='https://wandb.ai/lequn/LW-DED_audio-classification/runs/6l06ozw2' target=\"_blank\">https://wandb.ai/lequn/LW-DED_audio-classification/runs/6l06ozw2</a><br/> View job at <a href='https://wandb.ai/lequn/LW-DED_audio-classification/jobs/QXJ0aWZhY3RDb2xsZWN0aW9uOjE2MTUxNDY2MA==/version_details/v12' target=\"_blank\">https://wandb.ai/lequn/LW-DED_audio-classification/jobs/QXJ0aWZhY3RDb2xsZWN0aW9uOjE2MTUxNDY2MA==/version_details/v12</a><br/>Synced 6 W&B file(s), 0 media file(s), 0 artifact file(s) and 0 other file(s)"
      ],
      "text/plain": [
       "<IPython.core.display.HTML object>"
      ]
     },
     "metadata": {},
     "output_type": "display_data"
    },
    {
     "data": {
      "text/html": [
       "Find logs at: <code>./wandb/run-20240411_151050-6l06ozw2/logs</code>"
      ],
      "text/plain": [
       "<IPython.core.display.HTML object>"
      ]
     },
     "metadata": {},
     "output_type": "display_data"
    },
    {
     "name": "stdout",
     "output_type": "stream",
     "text": [
      "\tTraining model: SVM\n"
     ]
    },
    {
     "data": {
      "application/vnd.jupyter.widget-view+json": {
       "model_id": "1240250a45f243d09c2016a3543f9aeb",
       "version_major": 2,
       "version_minor": 0
      },
      "text/plain": [
       "VBox(children=(Label(value='Waiting for wandb.init()...\\r'), FloatProgress(value=0.011113071077771666, max=1.0…"
      ]
     },
     "metadata": {},
     "output_type": "display_data"
    },
    {
     "data": {
      "text/html": [
       "wandb version 0.16.6 is available!  To upgrade, please run:\n",
       " $ pip install wandb --upgrade"
      ],
      "text/plain": [
       "<IPython.core.display.HTML object>"
      ]
     },
     "metadata": {},
     "output_type": "display_data"
    },
    {
     "data": {
      "text/html": [
       "Tracking run with wandb version 0.15.12"
      ],
      "text/plain": [
       "<IPython.core.display.HTML object>"
      ]
     },
     "metadata": {},
     "output_type": "display_data"
    },
    {
     "data": {
      "text/html": [
       "Run data is saved locally in <code>/home/chenlequn/GitHub/MultiSensor-Monitoring-LW-DED/Code/wandb/run-20240411_151102-d8cy4f3d</code>"
      ],
      "text/plain": [
       "<IPython.core.display.HTML object>"
      ]
     },
     "metadata": {},
     "output_type": "display_data"
    },
    {
     "data": {
      "text/html": [
       "Syncing run <strong><a href='https://wandb.ai/lequn/LW-DED_audio-classification/runs/d8cy4f3d' target=\"_blank\">SVM_Ablated 2</a></strong> to <a href='https://wandb.ai/lequn/LW-DED_audio-classification' target=\"_blank\">Weights & Biases</a> (<a href='https://wandb.me/run' target=\"_blank\">docs</a>)<br/>"
      ],
      "text/plain": [
       "<IPython.core.display.HTML object>"
      ]
     },
     "metadata": {},
     "output_type": "display_data"
    },
    {
     "data": {
      "text/html": [
       " View project at <a href='https://wandb.ai/lequn/LW-DED_audio-classification' target=\"_blank\">https://wandb.ai/lequn/LW-DED_audio-classification</a>"
      ],
      "text/plain": [
       "<IPython.core.display.HTML object>"
      ]
     },
     "metadata": {},
     "output_type": "display_data"
    },
    {
     "data": {
      "text/html": [
       " View run at <a href='https://wandb.ai/lequn/LW-DED_audio-classification/runs/d8cy4f3d' target=\"_blank\">https://wandb.ai/lequn/LW-DED_audio-classification/runs/d8cy4f3d</a>"
      ],
      "text/plain": [
       "<IPython.core.display.HTML object>"
      ]
     },
     "metadata": {},
     "output_type": "display_data"
    },
    {
     "name": "stdout",
     "output_type": "stream",
     "text": [
      "\t\tAccuracy: Mean = 0.9252576212966938, Std = 0.016787325958077786\n",
      "\t\tF1 Score: Mean = 0.9255124203746004, Std = 0.016291831508625773\n",
      "\t\tPrecision: Mean = 0.9286647582394851, Std = 0.012412254078711504\n",
      "\t\tRecall: Mean = 0.9252576212966938, Std = 0.016787325958077786\n",
      "\t\tROC-AUC: Mean = 0.9877137195463475, Std = 0.002985279359817022\n"
     ]
    },
    {
     "data": {
      "text/html": [
       "Waiting for W&B process to finish... <strong style=\"color:green\">(success).</strong>"
      ],
      "text/plain": [
       "<IPython.core.display.HTML object>"
      ]
     },
     "metadata": {},
     "output_type": "display_data"
    },
    {
     "data": {
      "text/html": [
       "<style>\n",
       "    table.wandb td:nth-child(1) { padding: 0 10px; text-align: left ; width: auto;} td:nth-child(2) {text-align: left ; width: 100%}\n",
       "    .wandb-row { display: flex; flex-direction: row; flex-wrap: wrap; justify-content: flex-start; width: 100% }\n",
       "    .wandb-col { display: flex; flex-direction: column; flex-basis: 100%; flex: 1; padding: 10px; }\n",
       "    </style>\n",
       "<div class=\"wandb-row\"><div class=\"wandb-col\"><h3>Run history:</h3><br/><table class=\"wandb\"><tr><td>Accuracy_mean</td><td>▁</td></tr><tr><td>Accuracy_std</td><td>▁</td></tr><tr><td>F1 Score_mean</td><td>▁</td></tr><tr><td>F1 Score_std</td><td>▁</td></tr><tr><td>Precision_mean</td><td>▁</td></tr><tr><td>Precision_std</td><td>▁</td></tr><tr><td>ROC-AUC_mean</td><td>▁</td></tr><tr><td>ROC-AUC_std</td><td>▁</td></tr><tr><td>Recall_mean</td><td>▁</td></tr><tr><td>Recall_std</td><td>▁</td></tr></table><br/></div><div class=\"wandb-col\"><h3>Run summary:</h3><br/><table class=\"wandb\"><tr><td>Accuracy_mean</td><td>0.92526</td></tr><tr><td>Accuracy_std</td><td>0.01679</td></tr><tr><td>F1 Score_mean</td><td>0.92551</td></tr><tr><td>F1 Score_std</td><td>0.01629</td></tr><tr><td>Precision_mean</td><td>0.92866</td></tr><tr><td>Precision_std</td><td>0.01241</td></tr><tr><td>ROC-AUC_mean</td><td>0.98771</td></tr><tr><td>ROC-AUC_std</td><td>0.00299</td></tr><tr><td>Recall_mean</td><td>0.92526</td></tr><tr><td>Recall_std</td><td>0.01679</td></tr></table><br/></div></div>"
      ],
      "text/plain": [
       "<IPython.core.display.HTML object>"
      ]
     },
     "metadata": {},
     "output_type": "display_data"
    },
    {
     "data": {
      "text/html": [
       " View run <strong style=\"color:#cdcd00\">SVM_Ablated 2</strong> at: <a href='https://wandb.ai/lequn/LW-DED_audio-classification/runs/d8cy4f3d' target=\"_blank\">https://wandb.ai/lequn/LW-DED_audio-classification/runs/d8cy4f3d</a><br/> View job at <a href='https://wandb.ai/lequn/LW-DED_audio-classification/jobs/QXJ0aWZhY3RDb2xsZWN0aW9uOjE2MTUxNDY2MA==/version_details/v12' target=\"_blank\">https://wandb.ai/lequn/LW-DED_audio-classification/jobs/QXJ0aWZhY3RDb2xsZWN0aW9uOjE2MTUxNDY2MA==/version_details/v12</a><br/>Synced 6 W&B file(s), 0 media file(s), 0 artifact file(s) and 0 other file(s)"
      ],
      "text/plain": [
       "<IPython.core.display.HTML object>"
      ]
     },
     "metadata": {},
     "output_type": "display_data"
    },
    {
     "data": {
      "text/html": [
       "Find logs at: <code>./wandb/run-20240411_151102-d8cy4f3d/logs</code>"
      ],
      "text/plain": [
       "<IPython.core.display.HTML object>"
      ]
     },
     "metadata": {},
     "output_type": "display_data"
    },
    {
     "name": "stdout",
     "output_type": "stream",
     "text": [
      "\tTraining model: HistGB\n"
     ]
    },
    {
     "data": {
      "application/vnd.jupyter.widget-view+json": {
       "model_id": "2909d60d04214ad0ac8ec57bb7e351c8",
       "version_major": 2,
       "version_minor": 0
      },
      "text/plain": [
       "VBox(children=(Label(value='Waiting for wandb.init()...\\r'), FloatProgress(value=0.01111318676666997, max=1.0)…"
      ]
     },
     "metadata": {},
     "output_type": "display_data"
    },
    {
     "data": {
      "text/html": [
       "wandb version 0.16.6 is available!  To upgrade, please run:\n",
       " $ pip install wandb --upgrade"
      ],
      "text/plain": [
       "<IPython.core.display.HTML object>"
      ]
     },
     "metadata": {},
     "output_type": "display_data"
    },
    {
     "data": {
      "text/html": [
       "Tracking run with wandb version 0.15.12"
      ],
      "text/plain": [
       "<IPython.core.display.HTML object>"
      ]
     },
     "metadata": {},
     "output_type": "display_data"
    },
    {
     "data": {
      "text/html": [
       "Run data is saved locally in <code>/home/chenlequn/GitHub/MultiSensor-Monitoring-LW-DED/Code/wandb/run-20240411_151113-pspeo9c4</code>"
      ],
      "text/plain": [
       "<IPython.core.display.HTML object>"
      ]
     },
     "metadata": {},
     "output_type": "display_data"
    },
    {
     "data": {
      "text/html": [
       "Syncing run <strong><a href='https://wandb.ai/lequn/LW-DED_audio-classification/runs/pspeo9c4' target=\"_blank\">HistGB_Ablated 2</a></strong> to <a href='https://wandb.ai/lequn/LW-DED_audio-classification' target=\"_blank\">Weights & Biases</a> (<a href='https://wandb.me/run' target=\"_blank\">docs</a>)<br/>"
      ],
      "text/plain": [
       "<IPython.core.display.HTML object>"
      ]
     },
     "metadata": {},
     "output_type": "display_data"
    },
    {
     "data": {
      "text/html": [
       " View project at <a href='https://wandb.ai/lequn/LW-DED_audio-classification' target=\"_blank\">https://wandb.ai/lequn/LW-DED_audio-classification</a>"
      ],
      "text/plain": [
       "<IPython.core.display.HTML object>"
      ]
     },
     "metadata": {},
     "output_type": "display_data"
    },
    {
     "data": {
      "text/html": [
       " View run at <a href='https://wandb.ai/lequn/LW-DED_audio-classification/runs/pspeo9c4' target=\"_blank\">https://wandb.ai/lequn/LW-DED_audio-classification/runs/pspeo9c4</a>"
      ],
      "text/plain": [
       "<IPython.core.display.HTML object>"
      ]
     },
     "metadata": {},
     "output_type": "display_data"
    },
    {
     "name": "stdout",
     "output_type": "stream",
     "text": [
      "\t\tAccuracy: Mean = 0.9457277801631602, Std = 0.01517916732083239\n",
      "\t\tF1 Score: Mean = 0.9450682316271912, Std = 0.014317578013771754\n",
      "\t\tPrecision: Mean = 0.9468881136433158, Std = 0.014584457964521347\n",
      "\t\tRecall: Mean = 0.9457277801631602, Std = 0.01517916732083239\n",
      "\t\tROC-AUC: Mean = 0.991467732087683, Std = 0.0022801799975596857\n"
     ]
    },
    {
     "data": {
      "text/html": [
       "Waiting for W&B process to finish... <strong style=\"color:green\">(success).</strong>"
      ],
      "text/plain": [
       "<IPython.core.display.HTML object>"
      ]
     },
     "metadata": {},
     "output_type": "display_data"
    },
    {
     "data": {
      "text/html": [
       "<style>\n",
       "    table.wandb td:nth-child(1) { padding: 0 10px; text-align: left ; width: auto;} td:nth-child(2) {text-align: left ; width: 100%}\n",
       "    .wandb-row { display: flex; flex-direction: row; flex-wrap: wrap; justify-content: flex-start; width: 100% }\n",
       "    .wandb-col { display: flex; flex-direction: column; flex-basis: 100%; flex: 1; padding: 10px; }\n",
       "    </style>\n",
       "<div class=\"wandb-row\"><div class=\"wandb-col\"><h3>Run history:</h3><br/><table class=\"wandb\"><tr><td>Accuracy_mean</td><td>▁</td></tr><tr><td>Accuracy_std</td><td>▁</td></tr><tr><td>F1 Score_mean</td><td>▁</td></tr><tr><td>F1 Score_std</td><td>▁</td></tr><tr><td>Precision_mean</td><td>▁</td></tr><tr><td>Precision_std</td><td>▁</td></tr><tr><td>ROC-AUC_mean</td><td>▁</td></tr><tr><td>ROC-AUC_std</td><td>▁</td></tr><tr><td>Recall_mean</td><td>▁</td></tr><tr><td>Recall_std</td><td>▁</td></tr></table><br/></div><div class=\"wandb-col\"><h3>Run summary:</h3><br/><table class=\"wandb\"><tr><td>Accuracy_mean</td><td>0.94573</td></tr><tr><td>Accuracy_std</td><td>0.01518</td></tr><tr><td>F1 Score_mean</td><td>0.94507</td></tr><tr><td>F1 Score_std</td><td>0.01432</td></tr><tr><td>Precision_mean</td><td>0.94689</td></tr><tr><td>Precision_std</td><td>0.01458</td></tr><tr><td>ROC-AUC_mean</td><td>0.99147</td></tr><tr><td>ROC-AUC_std</td><td>0.00228</td></tr><tr><td>Recall_mean</td><td>0.94573</td></tr><tr><td>Recall_std</td><td>0.01518</td></tr></table><br/></div></div>"
      ],
      "text/plain": [
       "<IPython.core.display.HTML object>"
      ]
     },
     "metadata": {},
     "output_type": "display_data"
    },
    {
     "data": {
      "text/html": [
       " View run <strong style=\"color:#cdcd00\">HistGB_Ablated 2</strong> at: <a href='https://wandb.ai/lequn/LW-DED_audio-classification/runs/pspeo9c4' target=\"_blank\">https://wandb.ai/lequn/LW-DED_audio-classification/runs/pspeo9c4</a><br/> View job at <a href='https://wandb.ai/lequn/LW-DED_audio-classification/jobs/QXJ0aWZhY3RDb2xsZWN0aW9uOjE2MTUxNDY2MA==/version_details/v11' target=\"_blank\">https://wandb.ai/lequn/LW-DED_audio-classification/jobs/QXJ0aWZhY3RDb2xsZWN0aW9uOjE2MTUxNDY2MA==/version_details/v11</a><br/>Synced 6 W&B file(s), 0 media file(s), 0 artifact file(s) and 0 other file(s)"
      ],
      "text/plain": [
       "<IPython.core.display.HTML object>"
      ]
     },
     "metadata": {},
     "output_type": "display_data"
    },
    {
     "data": {
      "text/html": [
       "Find logs at: <code>./wandb/run-20240411_151113-pspeo9c4/logs</code>"
      ],
      "text/plain": [
       "<IPython.core.display.HTML object>"
      ]
     },
     "metadata": {},
     "output_type": "display_data"
    },
    {
     "name": "stdout",
     "output_type": "stream",
     "text": [
      "Processing dataset: Ablated 3\n",
      "\tTraining model: KNN\n"
     ]
    },
    {
     "data": {
      "application/vnd.jupyter.widget-view+json": {
       "model_id": "0406584e01164f2697e22cbdf1cc7ddb",
       "version_major": 2,
       "version_minor": 0
      },
      "text/plain": [
       "VBox(children=(Label(value='Waiting for wandb.init()...\\r'), FloatProgress(value=0.011113892655541552, max=1.0…"
      ]
     },
     "metadata": {},
     "output_type": "display_data"
    },
    {
     "data": {
      "text/html": [
       "wandb version 0.16.6 is available!  To upgrade, please run:\n",
       " $ pip install wandb --upgrade"
      ],
      "text/plain": [
       "<IPython.core.display.HTML object>"
      ]
     },
     "metadata": {},
     "output_type": "display_data"
    },
    {
     "data": {
      "text/html": [
       "Tracking run with wandb version 0.15.12"
      ],
      "text/plain": [
       "<IPython.core.display.HTML object>"
      ]
     },
     "metadata": {},
     "output_type": "display_data"
    },
    {
     "data": {
      "text/html": [
       "Run data is saved locally in <code>/home/chenlequn/GitHub/MultiSensor-Monitoring-LW-DED/Code/wandb/run-20240411_151127-4m1yfnuj</code>"
      ],
      "text/plain": [
       "<IPython.core.display.HTML object>"
      ]
     },
     "metadata": {},
     "output_type": "display_data"
    },
    {
     "data": {
      "text/html": [
       "Syncing run <strong><a href='https://wandb.ai/lequn/LW-DED_audio-classification/runs/4m1yfnuj' target=\"_blank\">KNN_Ablated 3</a></strong> to <a href='https://wandb.ai/lequn/LW-DED_audio-classification' target=\"_blank\">Weights & Biases</a> (<a href='https://wandb.me/run' target=\"_blank\">docs</a>)<br/>"
      ],
      "text/plain": [
       "<IPython.core.display.HTML object>"
      ]
     },
     "metadata": {},
     "output_type": "display_data"
    },
    {
     "data": {
      "text/html": [
       " View project at <a href='https://wandb.ai/lequn/LW-DED_audio-classification' target=\"_blank\">https://wandb.ai/lequn/LW-DED_audio-classification</a>"
      ],
      "text/plain": [
       "<IPython.core.display.HTML object>"
      ]
     },
     "metadata": {},
     "output_type": "display_data"
    },
    {
     "data": {
      "text/html": [
       " View run at <a href='https://wandb.ai/lequn/LW-DED_audio-classification/runs/4m1yfnuj' target=\"_blank\">https://wandb.ai/lequn/LW-DED_audio-classification/runs/4m1yfnuj</a>"
      ],
      "text/plain": [
       "<IPython.core.display.HTML object>"
      ]
     },
     "metadata": {},
     "output_type": "display_data"
    },
    {
     "name": "stdout",
     "output_type": "stream",
     "text": [
      "\t\tAccuracy: Mean = 0.928102189781022, Std = 0.017181346684092633\n",
      "\t\tF1 Score: Mean = 0.927048113354409, Std = 0.01918892150002036\n",
      "\t\tPrecision: Mean = 0.9294312457824354, Std = 0.01888675149164159\n",
      "\t\tRecall: Mean = 0.928102189781022, Std = 0.017181346684092633\n",
      "\t\tROC-AUC: Mean = 0.9841046682133143, Std = 0.004909091843694015\n"
     ]
    },
    {
     "data": {
      "text/html": [
       "Waiting for W&B process to finish... <strong style=\"color:green\">(success).</strong>"
      ],
      "text/plain": [
       "<IPython.core.display.HTML object>"
      ]
     },
     "metadata": {},
     "output_type": "display_data"
    },
    {
     "data": {
      "text/html": [
       "<style>\n",
       "    table.wandb td:nth-child(1) { padding: 0 10px; text-align: left ; width: auto;} td:nth-child(2) {text-align: left ; width: 100%}\n",
       "    .wandb-row { display: flex; flex-direction: row; flex-wrap: wrap; justify-content: flex-start; width: 100% }\n",
       "    .wandb-col { display: flex; flex-direction: column; flex-basis: 100%; flex: 1; padding: 10px; }\n",
       "    </style>\n",
       "<div class=\"wandb-row\"><div class=\"wandb-col\"><h3>Run history:</h3><br/><table class=\"wandb\"><tr><td>Accuracy_mean</td><td>▁</td></tr><tr><td>Accuracy_std</td><td>▁</td></tr><tr><td>F1 Score_mean</td><td>▁</td></tr><tr><td>F1 Score_std</td><td>▁</td></tr><tr><td>Precision_mean</td><td>▁</td></tr><tr><td>Precision_std</td><td>▁</td></tr><tr><td>ROC-AUC_mean</td><td>▁</td></tr><tr><td>ROC-AUC_std</td><td>▁</td></tr><tr><td>Recall_mean</td><td>▁</td></tr><tr><td>Recall_std</td><td>▁</td></tr></table><br/></div><div class=\"wandb-col\"><h3>Run summary:</h3><br/><table class=\"wandb\"><tr><td>Accuracy_mean</td><td>0.9281</td></tr><tr><td>Accuracy_std</td><td>0.01718</td></tr><tr><td>F1 Score_mean</td><td>0.92705</td></tr><tr><td>F1 Score_std</td><td>0.01919</td></tr><tr><td>Precision_mean</td><td>0.92943</td></tr><tr><td>Precision_std</td><td>0.01889</td></tr><tr><td>ROC-AUC_mean</td><td>0.9841</td></tr><tr><td>ROC-AUC_std</td><td>0.00491</td></tr><tr><td>Recall_mean</td><td>0.9281</td></tr><tr><td>Recall_std</td><td>0.01718</td></tr></table><br/></div></div>"
      ],
      "text/plain": [
       "<IPython.core.display.HTML object>"
      ]
     },
     "metadata": {},
     "output_type": "display_data"
    },
    {
     "data": {
      "text/html": [
       " View run <strong style=\"color:#cdcd00\">KNN_Ablated 3</strong> at: <a href='https://wandb.ai/lequn/LW-DED_audio-classification/runs/4m1yfnuj' target=\"_blank\">https://wandb.ai/lequn/LW-DED_audio-classification/runs/4m1yfnuj</a><br/> View job at <a href='https://wandb.ai/lequn/LW-DED_audio-classification/jobs/QXJ0aWZhY3RDb2xsZWN0aW9uOjE2MTUxNDY2MA==/version_details/v12' target=\"_blank\">https://wandb.ai/lequn/LW-DED_audio-classification/jobs/QXJ0aWZhY3RDb2xsZWN0aW9uOjE2MTUxNDY2MA==/version_details/v12</a><br/>Synced 6 W&B file(s), 0 media file(s), 0 artifact file(s) and 0 other file(s)"
      ],
      "text/plain": [
       "<IPython.core.display.HTML object>"
      ]
     },
     "metadata": {},
     "output_type": "display_data"
    },
    {
     "data": {
      "text/html": [
       "Find logs at: <code>./wandb/run-20240411_151127-4m1yfnuj/logs</code>"
      ],
      "text/plain": [
       "<IPython.core.display.HTML object>"
      ]
     },
     "metadata": {},
     "output_type": "display_data"
    },
    {
     "name": "stdout",
     "output_type": "stream",
     "text": [
      "\tTraining model: DT\n"
     ]
    },
    {
     "data": {
      "application/vnd.jupyter.widget-view+json": {
       "model_id": "c1afec1380c74284adb71f5bdd80ad22",
       "version_major": 2,
       "version_minor": 0
      },
      "text/plain": [
       "VBox(children=(Label(value='Waiting for wandb.init()...\\r'), FloatProgress(value=0.011112432977784515, max=1.0…"
      ]
     },
     "metadata": {},
     "output_type": "display_data"
    },
    {
     "data": {
      "text/html": [
       "wandb version 0.16.6 is available!  To upgrade, please run:\n",
       " $ pip install wandb --upgrade"
      ],
      "text/plain": [
       "<IPython.core.display.HTML object>"
      ]
     },
     "metadata": {},
     "output_type": "display_data"
    },
    {
     "data": {
      "text/html": [
       "Tracking run with wandb version 0.15.12"
      ],
      "text/plain": [
       "<IPython.core.display.HTML object>"
      ]
     },
     "metadata": {},
     "output_type": "display_data"
    },
    {
     "data": {
      "text/html": [
       "Run data is saved locally in <code>/home/chenlequn/GitHub/MultiSensor-Monitoring-LW-DED/Code/wandb/run-20240411_151138-3n6s9bzi</code>"
      ],
      "text/plain": [
       "<IPython.core.display.HTML object>"
      ]
     },
     "metadata": {},
     "output_type": "display_data"
    },
    {
     "data": {
      "text/html": [
       "Syncing run <strong><a href='https://wandb.ai/lequn/LW-DED_audio-classification/runs/3n6s9bzi' target=\"_blank\">DT_Ablated 3</a></strong> to <a href='https://wandb.ai/lequn/LW-DED_audio-classification' target=\"_blank\">Weights & Biases</a> (<a href='https://wandb.me/run' target=\"_blank\">docs</a>)<br/>"
      ],
      "text/plain": [
       "<IPython.core.display.HTML object>"
      ]
     },
     "metadata": {},
     "output_type": "display_data"
    },
    {
     "data": {
      "text/html": [
       " View project at <a href='https://wandb.ai/lequn/LW-DED_audio-classification' target=\"_blank\">https://wandb.ai/lequn/LW-DED_audio-classification</a>"
      ],
      "text/plain": [
       "<IPython.core.display.HTML object>"
      ]
     },
     "metadata": {},
     "output_type": "display_data"
    },
    {
     "data": {
      "text/html": [
       " View run at <a href='https://wandb.ai/lequn/LW-DED_audio-classification/runs/3n6s9bzi' target=\"_blank\">https://wandb.ai/lequn/LW-DED_audio-classification/runs/3n6s9bzi</a>"
      ],
      "text/plain": [
       "<IPython.core.display.HTML object>"
      ]
     },
     "metadata": {},
     "output_type": "display_data"
    },
    {
     "name": "stdout",
     "output_type": "stream",
     "text": [
      "\t\tAccuracy: Mean = 0.8797552597681408, Std = 0.014473957271091917\n",
      "\t\tF1 Score: Mean = 0.8779746821299753, Std = 0.015861458267210277\n",
      "\t\tPrecision: Mean = 0.8798191674202359, Std = 0.018223896637358128\n",
      "\t\tRecall: Mean = 0.8797552597681408, Std = 0.014473957271091917\n",
      "\t\tROC-AUC: Mean = 0.9318767458893842, Std = 0.020799460267097808\n"
     ]
    },
    {
     "data": {
      "text/html": [
       "Waiting for W&B process to finish... <strong style=\"color:green\">(success).</strong>"
      ],
      "text/plain": [
       "<IPython.core.display.HTML object>"
      ]
     },
     "metadata": {},
     "output_type": "display_data"
    },
    {
     "data": {
      "text/html": [
       "<style>\n",
       "    table.wandb td:nth-child(1) { padding: 0 10px; text-align: left ; width: auto;} td:nth-child(2) {text-align: left ; width: 100%}\n",
       "    .wandb-row { display: flex; flex-direction: row; flex-wrap: wrap; justify-content: flex-start; width: 100% }\n",
       "    .wandb-col { display: flex; flex-direction: column; flex-basis: 100%; flex: 1; padding: 10px; }\n",
       "    </style>\n",
       "<div class=\"wandb-row\"><div class=\"wandb-col\"><h3>Run history:</h3><br/><table class=\"wandb\"><tr><td>Accuracy_mean</td><td>▁</td></tr><tr><td>Accuracy_std</td><td>▁</td></tr><tr><td>F1 Score_mean</td><td>▁</td></tr><tr><td>F1 Score_std</td><td>▁</td></tr><tr><td>Precision_mean</td><td>▁</td></tr><tr><td>Precision_std</td><td>▁</td></tr><tr><td>ROC-AUC_mean</td><td>▁</td></tr><tr><td>ROC-AUC_std</td><td>▁</td></tr><tr><td>Recall_mean</td><td>▁</td></tr><tr><td>Recall_std</td><td>▁</td></tr></table><br/></div><div class=\"wandb-col\"><h3>Run summary:</h3><br/><table class=\"wandb\"><tr><td>Accuracy_mean</td><td>0.87976</td></tr><tr><td>Accuracy_std</td><td>0.01447</td></tr><tr><td>F1 Score_mean</td><td>0.87797</td></tr><tr><td>F1 Score_std</td><td>0.01586</td></tr><tr><td>Precision_mean</td><td>0.87982</td></tr><tr><td>Precision_std</td><td>0.01822</td></tr><tr><td>ROC-AUC_mean</td><td>0.93188</td></tr><tr><td>ROC-AUC_std</td><td>0.0208</td></tr><tr><td>Recall_mean</td><td>0.87976</td></tr><tr><td>Recall_std</td><td>0.01447</td></tr></table><br/></div></div>"
      ],
      "text/plain": [
       "<IPython.core.display.HTML object>"
      ]
     },
     "metadata": {},
     "output_type": "display_data"
    },
    {
     "data": {
      "text/html": [
       " View run <strong style=\"color:#cdcd00\">DT_Ablated 3</strong> at: <a href='https://wandb.ai/lequn/LW-DED_audio-classification/runs/3n6s9bzi' target=\"_blank\">https://wandb.ai/lequn/LW-DED_audio-classification/runs/3n6s9bzi</a><br/> View job at <a href='https://wandb.ai/lequn/LW-DED_audio-classification/jobs/QXJ0aWZhY3RDb2xsZWN0aW9uOjE2MTUxNDY2MA==/version_details/v12' target=\"_blank\">https://wandb.ai/lequn/LW-DED_audio-classification/jobs/QXJ0aWZhY3RDb2xsZWN0aW9uOjE2MTUxNDY2MA==/version_details/v12</a><br/>Synced 6 W&B file(s), 0 media file(s), 0 artifact file(s) and 0 other file(s)"
      ],
      "text/plain": [
       "<IPython.core.display.HTML object>"
      ]
     },
     "metadata": {},
     "output_type": "display_data"
    },
    {
     "data": {
      "text/html": [
       "Find logs at: <code>./wandb/run-20240411_151138-3n6s9bzi/logs</code>"
      ],
      "text/plain": [
       "<IPython.core.display.HTML object>"
      ]
     },
     "metadata": {},
     "output_type": "display_data"
    },
    {
     "name": "stdout",
     "output_type": "stream",
     "text": [
      "\tTraining model: LR\n"
     ]
    },
    {
     "data": {
      "application/vnd.jupyter.widget-view+json": {
       "model_id": "e0bd69b0a79249a28d5b287fff4f8479",
       "version_major": 2,
       "version_minor": 0
      },
      "text/plain": [
       "VBox(children=(Label(value='Waiting for wandb.init()...\\r'), FloatProgress(value=0.01111362502221406, max=1.0)…"
      ]
     },
     "metadata": {},
     "output_type": "display_data"
    },
    {
     "data": {
      "text/html": [
       "wandb version 0.16.6 is available!  To upgrade, please run:\n",
       " $ pip install wandb --upgrade"
      ],
      "text/plain": [
       "<IPython.core.display.HTML object>"
      ]
     },
     "metadata": {},
     "output_type": "display_data"
    },
    {
     "data": {
      "text/html": [
       "Tracking run with wandb version 0.15.12"
      ],
      "text/plain": [
       "<IPython.core.display.HTML object>"
      ]
     },
     "metadata": {},
     "output_type": "display_data"
    },
    {
     "data": {
      "text/html": [
       "Run data is saved locally in <code>/home/chenlequn/GitHub/MultiSensor-Monitoring-LW-DED/Code/wandb/run-20240411_151149-cl355993</code>"
      ],
      "text/plain": [
       "<IPython.core.display.HTML object>"
      ]
     },
     "metadata": {},
     "output_type": "display_data"
    },
    {
     "data": {
      "text/html": [
       "Syncing run <strong><a href='https://wandb.ai/lequn/LW-DED_audio-classification/runs/cl355993' target=\"_blank\">LR_Ablated 3</a></strong> to <a href='https://wandb.ai/lequn/LW-DED_audio-classification' target=\"_blank\">Weights & Biases</a> (<a href='https://wandb.me/run' target=\"_blank\">docs</a>)<br/>"
      ],
      "text/plain": [
       "<IPython.core.display.HTML object>"
      ]
     },
     "metadata": {},
     "output_type": "display_data"
    },
    {
     "data": {
      "text/html": [
       " View project at <a href='https://wandb.ai/lequn/LW-DED_audio-classification' target=\"_blank\">https://wandb.ai/lequn/LW-DED_audio-classification</a>"
      ],
      "text/plain": [
       "<IPython.core.display.HTML object>"
      ]
     },
     "metadata": {},
     "output_type": "display_data"
    },
    {
     "data": {
      "text/html": [
       " View run at <a href='https://wandb.ai/lequn/LW-DED_audio-classification/runs/cl355993' target=\"_blank\">https://wandb.ai/lequn/LW-DED_audio-classification/runs/cl355993</a>"
      ],
      "text/plain": [
       "<IPython.core.display.HTML object>"
      ]
     },
     "metadata": {},
     "output_type": "display_data"
    },
    {
     "name": "stdout",
     "output_type": "stream",
     "text": [
      "\t\tAccuracy: Mean = 0.9251932159725204, Std = 0.01510180873014874\n",
      "\t\tF1 Score: Mean = 0.924041253116658, Std = 0.016926954066080066\n",
      "\t\tPrecision: Mean = 0.9267086525420813, Std = 0.016512001986696084\n",
      "\t\tRecall: Mean = 0.9251932159725204, Std = 0.01510180873014874\n",
      "\t\tROC-AUC: Mean = 0.9833153759525913, Std = 0.004825388495030169\n"
     ]
    },
    {
     "data": {
      "text/html": [
       "Waiting for W&B process to finish... <strong style=\"color:green\">(success).</strong>"
      ],
      "text/plain": [
       "<IPython.core.display.HTML object>"
      ]
     },
     "metadata": {},
     "output_type": "display_data"
    },
    {
     "data": {
      "text/html": [
       "<style>\n",
       "    table.wandb td:nth-child(1) { padding: 0 10px; text-align: left ; width: auto;} td:nth-child(2) {text-align: left ; width: 100%}\n",
       "    .wandb-row { display: flex; flex-direction: row; flex-wrap: wrap; justify-content: flex-start; width: 100% }\n",
       "    .wandb-col { display: flex; flex-direction: column; flex-basis: 100%; flex: 1; padding: 10px; }\n",
       "    </style>\n",
       "<div class=\"wandb-row\"><div class=\"wandb-col\"><h3>Run history:</h3><br/><table class=\"wandb\"><tr><td>Accuracy_mean</td><td>▁</td></tr><tr><td>Accuracy_std</td><td>▁</td></tr><tr><td>F1 Score_mean</td><td>▁</td></tr><tr><td>F1 Score_std</td><td>▁</td></tr><tr><td>Precision_mean</td><td>▁</td></tr><tr><td>Precision_std</td><td>▁</td></tr><tr><td>ROC-AUC_mean</td><td>▁</td></tr><tr><td>ROC-AUC_std</td><td>▁</td></tr><tr><td>Recall_mean</td><td>▁</td></tr><tr><td>Recall_std</td><td>▁</td></tr></table><br/></div><div class=\"wandb-col\"><h3>Run summary:</h3><br/><table class=\"wandb\"><tr><td>Accuracy_mean</td><td>0.92519</td></tr><tr><td>Accuracy_std</td><td>0.0151</td></tr><tr><td>F1 Score_mean</td><td>0.92404</td></tr><tr><td>F1 Score_std</td><td>0.01693</td></tr><tr><td>Precision_mean</td><td>0.92671</td></tr><tr><td>Precision_std</td><td>0.01651</td></tr><tr><td>ROC-AUC_mean</td><td>0.98332</td></tr><tr><td>ROC-AUC_std</td><td>0.00483</td></tr><tr><td>Recall_mean</td><td>0.92519</td></tr><tr><td>Recall_std</td><td>0.0151</td></tr></table><br/></div></div>"
      ],
      "text/plain": [
       "<IPython.core.display.HTML object>"
      ]
     },
     "metadata": {},
     "output_type": "display_data"
    },
    {
     "data": {
      "text/html": [
       " View run <strong style=\"color:#cdcd00\">LR_Ablated 3</strong> at: <a href='https://wandb.ai/lequn/LW-DED_audio-classification/runs/cl355993' target=\"_blank\">https://wandb.ai/lequn/LW-DED_audio-classification/runs/cl355993</a><br/> View job at <a href='https://wandb.ai/lequn/LW-DED_audio-classification/jobs/QXJ0aWZhY3RDb2xsZWN0aW9uOjE2MTUxNDY2MA==/version_details/v12' target=\"_blank\">https://wandb.ai/lequn/LW-DED_audio-classification/jobs/QXJ0aWZhY3RDb2xsZWN0aW9uOjE2MTUxNDY2MA==/version_details/v12</a><br/>Synced 6 W&B file(s), 0 media file(s), 0 artifact file(s) and 0 other file(s)"
      ],
      "text/plain": [
       "<IPython.core.display.HTML object>"
      ]
     },
     "metadata": {},
     "output_type": "display_data"
    },
    {
     "data": {
      "text/html": [
       "Find logs at: <code>./wandb/run-20240411_151149-cl355993/logs</code>"
      ],
      "text/plain": [
       "<IPython.core.display.HTML object>"
      ]
     },
     "metadata": {},
     "output_type": "display_data"
    },
    {
     "name": "stdout",
     "output_type": "stream",
     "text": [
      "\tTraining model: RF\n"
     ]
    },
    {
     "data": {
      "application/vnd.jupyter.widget-view+json": {
       "model_id": "3d9f52ec1cd04632b99c2e8f2fbd481a",
       "version_major": 2,
       "version_minor": 0
      },
      "text/plain": [
       "VBox(children=(Label(value='Waiting for wandb.init()...\\r'), FloatProgress(value=0.011113149955538878, max=1.0…"
      ]
     },
     "metadata": {},
     "output_type": "display_data"
    },
    {
     "data": {
      "text/html": [
       "wandb version 0.16.6 is available!  To upgrade, please run:\n",
       " $ pip install wandb --upgrade"
      ],
      "text/plain": [
       "<IPython.core.display.HTML object>"
      ]
     },
     "metadata": {},
     "output_type": "display_data"
    },
    {
     "data": {
      "text/html": [
       "Tracking run with wandb version 0.15.12"
      ],
      "text/plain": [
       "<IPython.core.display.HTML object>"
      ]
     },
     "metadata": {},
     "output_type": "display_data"
    },
    {
     "data": {
      "text/html": [
       "Run data is saved locally in <code>/home/chenlequn/GitHub/MultiSensor-Monitoring-LW-DED/Code/wandb/run-20240411_151200-l4xzq8yp</code>"
      ],
      "text/plain": [
       "<IPython.core.display.HTML object>"
      ]
     },
     "metadata": {},
     "output_type": "display_data"
    },
    {
     "data": {
      "text/html": [
       "Syncing run <strong><a href='https://wandb.ai/lequn/LW-DED_audio-classification/runs/l4xzq8yp' target=\"_blank\">RF_Ablated 3</a></strong> to <a href='https://wandb.ai/lequn/LW-DED_audio-classification' target=\"_blank\">Weights & Biases</a> (<a href='https://wandb.me/run' target=\"_blank\">docs</a>)<br/>"
      ],
      "text/plain": [
       "<IPython.core.display.HTML object>"
      ]
     },
     "metadata": {},
     "output_type": "display_data"
    },
    {
     "data": {
      "text/html": [
       " View project at <a href='https://wandb.ai/lequn/LW-DED_audio-classification' target=\"_blank\">https://wandb.ai/lequn/LW-DED_audio-classification</a>"
      ],
      "text/plain": [
       "<IPython.core.display.HTML object>"
      ]
     },
     "metadata": {},
     "output_type": "display_data"
    },
    {
     "data": {
      "text/html": [
       " View run at <a href='https://wandb.ai/lequn/LW-DED_audio-classification/runs/l4xzq8yp' target=\"_blank\">https://wandb.ai/lequn/LW-DED_audio-classification/runs/l4xzq8yp</a>"
      ],
      "text/plain": [
       "<IPython.core.display.HTML object>"
      ]
     },
     "metadata": {},
     "output_type": "display_data"
    },
    {
     "name": "stdout",
     "output_type": "stream",
     "text": [
      "\t\tAccuracy: Mean = 0.9369364534134823, Std = 0.013683247576693201\n",
      "\t\tF1 Score: Mean = 0.935491300300171, Std = 0.013317134820785392\n",
      "\t\tPrecision: Mean = 0.9389439871182935, Std = 0.014310277228686316\n",
      "\t\tRecall: Mean = 0.9369364534134823, Std = 0.013683247576693201\n",
      "\t\tROC-AUC: Mean = 0.991237931053675, Std = 0.002469211723806165\n"
     ]
    },
    {
     "data": {
      "text/html": [
       "Waiting for W&B process to finish... <strong style=\"color:green\">(success).</strong>"
      ],
      "text/plain": [
       "<IPython.core.display.HTML object>"
      ]
     },
     "metadata": {},
     "output_type": "display_data"
    },
    {
     "data": {
      "text/html": [
       "<style>\n",
       "    table.wandb td:nth-child(1) { padding: 0 10px; text-align: left ; width: auto;} td:nth-child(2) {text-align: left ; width: 100%}\n",
       "    .wandb-row { display: flex; flex-direction: row; flex-wrap: wrap; justify-content: flex-start; width: 100% }\n",
       "    .wandb-col { display: flex; flex-direction: column; flex-basis: 100%; flex: 1; padding: 10px; }\n",
       "    </style>\n",
       "<div class=\"wandb-row\"><div class=\"wandb-col\"><h3>Run history:</h3><br/><table class=\"wandb\"><tr><td>Accuracy_mean</td><td>▁</td></tr><tr><td>Accuracy_std</td><td>▁</td></tr><tr><td>F1 Score_mean</td><td>▁</td></tr><tr><td>F1 Score_std</td><td>▁</td></tr><tr><td>Precision_mean</td><td>▁</td></tr><tr><td>Precision_std</td><td>▁</td></tr><tr><td>ROC-AUC_mean</td><td>▁</td></tr><tr><td>ROC-AUC_std</td><td>▁</td></tr><tr><td>Recall_mean</td><td>▁</td></tr><tr><td>Recall_std</td><td>▁</td></tr></table><br/></div><div class=\"wandb-col\"><h3>Run summary:</h3><br/><table class=\"wandb\"><tr><td>Accuracy_mean</td><td>0.93694</td></tr><tr><td>Accuracy_std</td><td>0.01368</td></tr><tr><td>F1 Score_mean</td><td>0.93549</td></tr><tr><td>F1 Score_std</td><td>0.01332</td></tr><tr><td>Precision_mean</td><td>0.93894</td></tr><tr><td>Precision_std</td><td>0.01431</td></tr><tr><td>ROC-AUC_mean</td><td>0.99124</td></tr><tr><td>ROC-AUC_std</td><td>0.00247</td></tr><tr><td>Recall_mean</td><td>0.93694</td></tr><tr><td>Recall_std</td><td>0.01368</td></tr></table><br/></div></div>"
      ],
      "text/plain": [
       "<IPython.core.display.HTML object>"
      ]
     },
     "metadata": {},
     "output_type": "display_data"
    },
    {
     "data": {
      "text/html": [
       " View run <strong style=\"color:#cdcd00\">RF_Ablated 3</strong> at: <a href='https://wandb.ai/lequn/LW-DED_audio-classification/runs/l4xzq8yp' target=\"_blank\">https://wandb.ai/lequn/LW-DED_audio-classification/runs/l4xzq8yp</a><br/> View job at <a href='https://wandb.ai/lequn/LW-DED_audio-classification/jobs/QXJ0aWZhY3RDb2xsZWN0aW9uOjE2MTUxNDY2MA==/version_details/v12' target=\"_blank\">https://wandb.ai/lequn/LW-DED_audio-classification/jobs/QXJ0aWZhY3RDb2xsZWN0aW9uOjE2MTUxNDY2MA==/version_details/v12</a><br/>Synced 6 W&B file(s), 0 media file(s), 0 artifact file(s) and 0 other file(s)"
      ],
      "text/plain": [
       "<IPython.core.display.HTML object>"
      ]
     },
     "metadata": {},
     "output_type": "display_data"
    },
    {
     "data": {
      "text/html": [
       "Find logs at: <code>./wandb/run-20240411_151200-l4xzq8yp/logs</code>"
      ],
      "text/plain": [
       "<IPython.core.display.HTML object>"
      ]
     },
     "metadata": {},
     "output_type": "display_data"
    },
    {
     "name": "stdout",
     "output_type": "stream",
     "text": [
      "\tTraining model: BalancedRF\n"
     ]
    },
    {
     "data": {
      "application/vnd.jupyter.widget-view+json": {
       "model_id": "bf5dc3fbbb3544e6bfa3bf8428ad343f",
       "version_major": 2,
       "version_minor": 0
      },
      "text/plain": [
       "VBox(children=(Label(value='Waiting for wandb.init()...\\r'), FloatProgress(value=0.011114015644448551, max=1.0…"
      ]
     },
     "metadata": {},
     "output_type": "display_data"
    },
    {
     "data": {
      "text/html": [
       "wandb version 0.16.6 is available!  To upgrade, please run:\n",
       " $ pip install wandb --upgrade"
      ],
      "text/plain": [
       "<IPython.core.display.HTML object>"
      ]
     },
     "metadata": {},
     "output_type": "display_data"
    },
    {
     "data": {
      "text/html": [
       "Tracking run with wandb version 0.15.12"
      ],
      "text/plain": [
       "<IPython.core.display.HTML object>"
      ]
     },
     "metadata": {},
     "output_type": "display_data"
    },
    {
     "data": {
      "text/html": [
       "Run data is saved locally in <code>/home/chenlequn/GitHub/MultiSensor-Monitoring-LW-DED/Code/wandb/run-20240411_151218-kf3quk9w</code>"
      ],
      "text/plain": [
       "<IPython.core.display.HTML object>"
      ]
     },
     "metadata": {},
     "output_type": "display_data"
    },
    {
     "data": {
      "text/html": [
       "Syncing run <strong><a href='https://wandb.ai/lequn/LW-DED_audio-classification/runs/kf3quk9w' target=\"_blank\">BalancedRF_Ablated 3</a></strong> to <a href='https://wandb.ai/lequn/LW-DED_audio-classification' target=\"_blank\">Weights & Biases</a> (<a href='https://wandb.me/run' target=\"_blank\">docs</a>)<br/>"
      ],
      "text/plain": [
       "<IPython.core.display.HTML object>"
      ]
     },
     "metadata": {},
     "output_type": "display_data"
    },
    {
     "data": {
      "text/html": [
       " View project at <a href='https://wandb.ai/lequn/LW-DED_audio-classification' target=\"_blank\">https://wandb.ai/lequn/LW-DED_audio-classification</a>"
      ],
      "text/plain": [
       "<IPython.core.display.HTML object>"
      ]
     },
     "metadata": {},
     "output_type": "display_data"
    },
    {
     "data": {
      "text/html": [
       " View run at <a href='https://wandb.ai/lequn/LW-DED_audio-classification/runs/kf3quk9w' target=\"_blank\">https://wandb.ai/lequn/LW-DED_audio-classification/runs/kf3quk9w</a>"
      ],
      "text/plain": [
       "<IPython.core.display.HTML object>"
      ]
     },
     "metadata": {},
     "output_type": "display_data"
    },
    {
     "name": "stderr",
     "output_type": "stream",
     "text": [
      "/home/chenlequn/anaconda3/envs/torch/lib/python3.9/site-packages/imblearn/ensemble/_forest.py:546: FutureWarning: The default of `sampling_strategy` will change from `'auto'` to `'all'` in version 0.13. This change will follow the implementation proposed in the original paper. Set to `'all'` to silence this warning and adopt the future behaviour.\n",
      "  warn(\n",
      "/home/chenlequn/anaconda3/envs/torch/lib/python3.9/site-packages/imblearn/ensemble/_forest.py:558: FutureWarning: The default of `replacement` will change from `False` to `True` in version 0.13. This change will follow the implementation proposed in the original paper. Set to `True` to silence this warning and adopt the future behaviour.\n",
      "  warn(\n"
     ]
    },
    {
     "name": "stdout",
     "output_type": "stream",
     "text": [
      "\t\tAccuracy: Mean = 0.9149098325461573, Std = 0.021210765771412347\n",
      "\t\tF1 Score: Mean = 0.9190267316727198, Std = 0.020603137665427904\n",
      "\t\tPrecision: Mean = 0.928352036101861, Std = 0.02062480324959156\n",
      "\t\tRecall: Mean = 0.9149098325461573, Std = 0.021210765771412347\n",
      "\t\tROC-AUC: Mean = 0.9859884841634227, Std = 0.002909446470491513\n"
     ]
    },
    {
     "data": {
      "text/html": [
       "Waiting for W&B process to finish... <strong style=\"color:green\">(success).</strong>"
      ],
      "text/plain": [
       "<IPython.core.display.HTML object>"
      ]
     },
     "metadata": {},
     "output_type": "display_data"
    },
    {
     "data": {
      "text/html": [
       "<style>\n",
       "    table.wandb td:nth-child(1) { padding: 0 10px; text-align: left ; width: auto;} td:nth-child(2) {text-align: left ; width: 100%}\n",
       "    .wandb-row { display: flex; flex-direction: row; flex-wrap: wrap; justify-content: flex-start; width: 100% }\n",
       "    .wandb-col { display: flex; flex-direction: column; flex-basis: 100%; flex: 1; padding: 10px; }\n",
       "    </style>\n",
       "<div class=\"wandb-row\"><div class=\"wandb-col\"><h3>Run history:</h3><br/><table class=\"wandb\"><tr><td>Accuracy_mean</td><td>▁</td></tr><tr><td>Accuracy_std</td><td>▁</td></tr><tr><td>F1 Score_mean</td><td>▁</td></tr><tr><td>F1 Score_std</td><td>▁</td></tr><tr><td>Precision_mean</td><td>▁</td></tr><tr><td>Precision_std</td><td>▁</td></tr><tr><td>ROC-AUC_mean</td><td>▁</td></tr><tr><td>ROC-AUC_std</td><td>▁</td></tr><tr><td>Recall_mean</td><td>▁</td></tr><tr><td>Recall_std</td><td>▁</td></tr></table><br/></div><div class=\"wandb-col\"><h3>Run summary:</h3><br/><table class=\"wandb\"><tr><td>Accuracy_mean</td><td>0.91491</td></tr><tr><td>Accuracy_std</td><td>0.02121</td></tr><tr><td>F1 Score_mean</td><td>0.91903</td></tr><tr><td>F1 Score_std</td><td>0.0206</td></tr><tr><td>Precision_mean</td><td>0.92835</td></tr><tr><td>Precision_std</td><td>0.02062</td></tr><tr><td>ROC-AUC_mean</td><td>0.98599</td></tr><tr><td>ROC-AUC_std</td><td>0.00291</td></tr><tr><td>Recall_mean</td><td>0.91491</td></tr><tr><td>Recall_std</td><td>0.02121</td></tr></table><br/></div></div>"
      ],
      "text/plain": [
       "<IPython.core.display.HTML object>"
      ]
     },
     "metadata": {},
     "output_type": "display_data"
    },
    {
     "data": {
      "text/html": [
       " View run <strong style=\"color:#cdcd00\">BalancedRF_Ablated 3</strong> at: <a href='https://wandb.ai/lequn/LW-DED_audio-classification/runs/kf3quk9w' target=\"_blank\">https://wandb.ai/lequn/LW-DED_audio-classification/runs/kf3quk9w</a><br/> View job at <a href='https://wandb.ai/lequn/LW-DED_audio-classification/jobs/QXJ0aWZhY3RDb2xsZWN0aW9uOjE2MTUxNDY2MA==/version_details/v12' target=\"_blank\">https://wandb.ai/lequn/LW-DED_audio-classification/jobs/QXJ0aWZhY3RDb2xsZWN0aW9uOjE2MTUxNDY2MA==/version_details/v12</a><br/>Synced 6 W&B file(s), 0 media file(s), 0 artifact file(s) and 0 other file(s)"
      ],
      "text/plain": [
       "<IPython.core.display.HTML object>"
      ]
     },
     "metadata": {},
     "output_type": "display_data"
    },
    {
     "data": {
      "text/html": [
       "Find logs at: <code>./wandb/run-20240411_151218-kf3quk9w/logs</code>"
      ],
      "text/plain": [
       "<IPython.core.display.HTML object>"
      ]
     },
     "metadata": {},
     "output_type": "display_data"
    },
    {
     "name": "stdout",
     "output_type": "stream",
     "text": [
      "\tTraining model: RUSBoost\n"
     ]
    },
    {
     "data": {
      "application/vnd.jupyter.widget-view+json": {
       "model_id": "dcd80b99cf734c4bb45f7fd41fd42069",
       "version_major": 2,
       "version_minor": 0
      },
      "text/plain": [
       "VBox(children=(Label(value='Waiting for wandb.init()...\\r'), FloatProgress(value=0.011114018744410713, max=1.0…"
      ]
     },
     "metadata": {},
     "output_type": "display_data"
    },
    {
     "data": {
      "text/html": [
       "wandb version 0.16.6 is available!  To upgrade, please run:\n",
       " $ pip install wandb --upgrade"
      ],
      "text/plain": [
       "<IPython.core.display.HTML object>"
      ]
     },
     "metadata": {},
     "output_type": "display_data"
    },
    {
     "data": {
      "text/html": [
       "Tracking run with wandb version 0.15.12"
      ],
      "text/plain": [
       "<IPython.core.display.HTML object>"
      ]
     },
     "metadata": {},
     "output_type": "display_data"
    },
    {
     "data": {
      "text/html": [
       "Run data is saved locally in <code>/home/chenlequn/GitHub/MultiSensor-Monitoring-LW-DED/Code/wandb/run-20240411_151230-ishu44x3</code>"
      ],
      "text/plain": [
       "<IPython.core.display.HTML object>"
      ]
     },
     "metadata": {},
     "output_type": "display_data"
    },
    {
     "data": {
      "text/html": [
       "Syncing run <strong><a href='https://wandb.ai/lequn/LW-DED_audio-classification/runs/ishu44x3' target=\"_blank\">RUSBoost_Ablated 3</a></strong> to <a href='https://wandb.ai/lequn/LW-DED_audio-classification' target=\"_blank\">Weights & Biases</a> (<a href='https://wandb.me/run' target=\"_blank\">docs</a>)<br/>"
      ],
      "text/plain": [
       "<IPython.core.display.HTML object>"
      ]
     },
     "metadata": {},
     "output_type": "display_data"
    },
    {
     "data": {
      "text/html": [
       " View project at <a href='https://wandb.ai/lequn/LW-DED_audio-classification' target=\"_blank\">https://wandb.ai/lequn/LW-DED_audio-classification</a>"
      ],
      "text/plain": [
       "<IPython.core.display.HTML object>"
      ]
     },
     "metadata": {},
     "output_type": "display_data"
    },
    {
     "data": {
      "text/html": [
       " View run at <a href='https://wandb.ai/lequn/LW-DED_audio-classification/runs/ishu44x3' target=\"_blank\">https://wandb.ai/lequn/LW-DED_audio-classification/runs/ishu44x3</a>"
      ],
      "text/plain": [
       "<IPython.core.display.HTML object>"
      ]
     },
     "metadata": {},
     "output_type": "display_data"
    },
    {
     "name": "stdout",
     "output_type": "stream",
     "text": [
      "\t\tAccuracy: Mean = 0.9061292400171748, Std = 0.01579193216002814\n",
      "\t\tF1 Score: Mean = 0.9115317987015841, Std = 0.015589177562316547\n",
      "\t\tPrecision: Mean = 0.9225710104285316, Std = 0.019084532967763457\n",
      "\t\tRecall: Mean = 0.9061292400171748, Std = 0.01579193216002814\n",
      "\t\tROC-AUC: Mean = 0.9767507724936909, Std = 0.005307359385846564\n"
     ]
    },
    {
     "data": {
      "text/html": [
       "Waiting for W&B process to finish... <strong style=\"color:green\">(success).</strong>"
      ],
      "text/plain": [
       "<IPython.core.display.HTML object>"
      ]
     },
     "metadata": {},
     "output_type": "display_data"
    },
    {
     "data": {
      "text/html": [
       "<style>\n",
       "    table.wandb td:nth-child(1) { padding: 0 10px; text-align: left ; width: auto;} td:nth-child(2) {text-align: left ; width: 100%}\n",
       "    .wandb-row { display: flex; flex-direction: row; flex-wrap: wrap; justify-content: flex-start; width: 100% }\n",
       "    .wandb-col { display: flex; flex-direction: column; flex-basis: 100%; flex: 1; padding: 10px; }\n",
       "    </style>\n",
       "<div class=\"wandb-row\"><div class=\"wandb-col\"><h3>Run history:</h3><br/><table class=\"wandb\"><tr><td>Accuracy_mean</td><td>▁</td></tr><tr><td>Accuracy_std</td><td>▁</td></tr><tr><td>F1 Score_mean</td><td>▁</td></tr><tr><td>F1 Score_std</td><td>▁</td></tr><tr><td>Precision_mean</td><td>▁</td></tr><tr><td>Precision_std</td><td>▁</td></tr><tr><td>ROC-AUC_mean</td><td>▁</td></tr><tr><td>ROC-AUC_std</td><td>▁</td></tr><tr><td>Recall_mean</td><td>▁</td></tr><tr><td>Recall_std</td><td>▁</td></tr></table><br/></div><div class=\"wandb-col\"><h3>Run summary:</h3><br/><table class=\"wandb\"><tr><td>Accuracy_mean</td><td>0.90613</td></tr><tr><td>Accuracy_std</td><td>0.01579</td></tr><tr><td>F1 Score_mean</td><td>0.91153</td></tr><tr><td>F1 Score_std</td><td>0.01559</td></tr><tr><td>Precision_mean</td><td>0.92257</td></tr><tr><td>Precision_std</td><td>0.01908</td></tr><tr><td>ROC-AUC_mean</td><td>0.97675</td></tr><tr><td>ROC-AUC_std</td><td>0.00531</td></tr><tr><td>Recall_mean</td><td>0.90613</td></tr><tr><td>Recall_std</td><td>0.01579</td></tr></table><br/></div></div>"
      ],
      "text/plain": [
       "<IPython.core.display.HTML object>"
      ]
     },
     "metadata": {},
     "output_type": "display_data"
    },
    {
     "data": {
      "text/html": [
       " View run <strong style=\"color:#cdcd00\">RUSBoost_Ablated 3</strong> at: <a href='https://wandb.ai/lequn/LW-DED_audio-classification/runs/ishu44x3' target=\"_blank\">https://wandb.ai/lequn/LW-DED_audio-classification/runs/ishu44x3</a><br/> View job at <a href='https://wandb.ai/lequn/LW-DED_audio-classification/jobs/QXJ0aWZhY3RDb2xsZWN0aW9uOjE2MTUxNDY2MA==/version_details/v12' target=\"_blank\">https://wandb.ai/lequn/LW-DED_audio-classification/jobs/QXJ0aWZhY3RDb2xsZWN0aW9uOjE2MTUxNDY2MA==/version_details/v12</a><br/>Synced 6 W&B file(s), 0 media file(s), 0 artifact file(s) and 0 other file(s)"
      ],
      "text/plain": [
       "<IPython.core.display.HTML object>"
      ]
     },
     "metadata": {},
     "output_type": "display_data"
    },
    {
     "data": {
      "text/html": [
       "Find logs at: <code>./wandb/run-20240411_151230-ishu44x3/logs</code>"
      ],
      "text/plain": [
       "<IPython.core.display.HTML object>"
      ]
     },
     "metadata": {},
     "output_type": "display_data"
    },
    {
     "name": "stdout",
     "output_type": "stream",
     "text": [
      "\tTraining model: Ada\n"
     ]
    },
    {
     "data": {
      "application/vnd.jupyter.widget-view+json": {
       "model_id": "4f3cd19e409b4840b549c0dd0503bb50",
       "version_major": 2,
       "version_minor": 0
      },
      "text/plain": [
       "VBox(children=(Label(value='Waiting for wandb.init()...\\r'), FloatProgress(value=0.011113684699982211, max=1.0…"
      ]
     },
     "metadata": {},
     "output_type": "display_data"
    },
    {
     "data": {
      "text/html": [
       "wandb version 0.16.6 is available!  To upgrade, please run:\n",
       " $ pip install wandb --upgrade"
      ],
      "text/plain": [
       "<IPython.core.display.HTML object>"
      ]
     },
     "metadata": {},
     "output_type": "display_data"
    },
    {
     "data": {
      "text/html": [
       "Tracking run with wandb version 0.15.12"
      ],
      "text/plain": [
       "<IPython.core.display.HTML object>"
      ]
     },
     "metadata": {},
     "output_type": "display_data"
    },
    {
     "data": {
      "text/html": [
       "Run data is saved locally in <code>/home/chenlequn/GitHub/MultiSensor-Monitoring-LW-DED/Code/wandb/run-20240411_151242-8a2w2d9x</code>"
      ],
      "text/plain": [
       "<IPython.core.display.HTML object>"
      ]
     },
     "metadata": {},
     "output_type": "display_data"
    },
    {
     "data": {
      "text/html": [
       "Syncing run <strong><a href='https://wandb.ai/lequn/LW-DED_audio-classification/runs/8a2w2d9x' target=\"_blank\">Ada_Ablated 3</a></strong> to <a href='https://wandb.ai/lequn/LW-DED_audio-classification' target=\"_blank\">Weights & Biases</a> (<a href='https://wandb.me/run' target=\"_blank\">docs</a>)<br/>"
      ],
      "text/plain": [
       "<IPython.core.display.HTML object>"
      ]
     },
     "metadata": {},
     "output_type": "display_data"
    },
    {
     "data": {
      "text/html": [
       " View project at <a href='https://wandb.ai/lequn/LW-DED_audio-classification' target=\"_blank\">https://wandb.ai/lequn/LW-DED_audio-classification</a>"
      ],
      "text/plain": [
       "<IPython.core.display.HTML object>"
      ]
     },
     "metadata": {},
     "output_type": "display_data"
    },
    {
     "data": {
      "text/html": [
       " View run at <a href='https://wandb.ai/lequn/LW-DED_audio-classification/runs/8a2w2d9x' target=\"_blank\">https://wandb.ai/lequn/LW-DED_audio-classification/runs/8a2w2d9x</a>"
      ],
      "text/plain": [
       "<IPython.core.display.HTML object>"
      ]
     },
     "metadata": {},
     "output_type": "display_data"
    },
    {
     "name": "stdout",
     "output_type": "stream",
     "text": [
      "\t\tAccuracy: Mean = 0.9149527694289394, Std = 0.015153039740015726\n",
      "\t\tF1 Score: Mean = 0.9118618368523542, Std = 0.017332526327269882\n",
      "\t\tPrecision: Mean = 0.9159544462758566, Std = 0.01309618211737114\n",
      "\t\tRecall: Mean = 0.9149527694289394, Std = 0.015153039740015726\n",
      "\t\tROC-AUC: Mean = 0.9742085114992609, Std = 0.00604713691636298\n"
     ]
    },
    {
     "data": {
      "text/html": [
       "Waiting for W&B process to finish... <strong style=\"color:green\">(success).</strong>"
      ],
      "text/plain": [
       "<IPython.core.display.HTML object>"
      ]
     },
     "metadata": {},
     "output_type": "display_data"
    },
    {
     "data": {
      "text/html": [
       "<style>\n",
       "    table.wandb td:nth-child(1) { padding: 0 10px; text-align: left ; width: auto;} td:nth-child(2) {text-align: left ; width: 100%}\n",
       "    .wandb-row { display: flex; flex-direction: row; flex-wrap: wrap; justify-content: flex-start; width: 100% }\n",
       "    .wandb-col { display: flex; flex-direction: column; flex-basis: 100%; flex: 1; padding: 10px; }\n",
       "    </style>\n",
       "<div class=\"wandb-row\"><div class=\"wandb-col\"><h3>Run history:</h3><br/><table class=\"wandb\"><tr><td>Accuracy_mean</td><td>▁</td></tr><tr><td>Accuracy_std</td><td>▁</td></tr><tr><td>F1 Score_mean</td><td>▁</td></tr><tr><td>F1 Score_std</td><td>▁</td></tr><tr><td>Precision_mean</td><td>▁</td></tr><tr><td>Precision_std</td><td>▁</td></tr><tr><td>ROC-AUC_mean</td><td>▁</td></tr><tr><td>ROC-AUC_std</td><td>▁</td></tr><tr><td>Recall_mean</td><td>▁</td></tr><tr><td>Recall_std</td><td>▁</td></tr></table><br/></div><div class=\"wandb-col\"><h3>Run summary:</h3><br/><table class=\"wandb\"><tr><td>Accuracy_mean</td><td>0.91495</td></tr><tr><td>Accuracy_std</td><td>0.01515</td></tr><tr><td>F1 Score_mean</td><td>0.91186</td></tr><tr><td>F1 Score_std</td><td>0.01733</td></tr><tr><td>Precision_mean</td><td>0.91595</td></tr><tr><td>Precision_std</td><td>0.0131</td></tr><tr><td>ROC-AUC_mean</td><td>0.97421</td></tr><tr><td>ROC-AUC_std</td><td>0.00605</td></tr><tr><td>Recall_mean</td><td>0.91495</td></tr><tr><td>Recall_std</td><td>0.01515</td></tr></table><br/></div></div>"
      ],
      "text/plain": [
       "<IPython.core.display.HTML object>"
      ]
     },
     "metadata": {},
     "output_type": "display_data"
    },
    {
     "data": {
      "text/html": [
       " View run <strong style=\"color:#cdcd00\">Ada_Ablated 3</strong> at: <a href='https://wandb.ai/lequn/LW-DED_audio-classification/runs/8a2w2d9x' target=\"_blank\">https://wandb.ai/lequn/LW-DED_audio-classification/runs/8a2w2d9x</a><br/> View job at <a href='https://wandb.ai/lequn/LW-DED_audio-classification/jobs/QXJ0aWZhY3RDb2xsZWN0aW9uOjE2MTUxNDY2MA==/version_details/v12' target=\"_blank\">https://wandb.ai/lequn/LW-DED_audio-classification/jobs/QXJ0aWZhY3RDb2xsZWN0aW9uOjE2MTUxNDY2MA==/version_details/v12</a><br/>Synced 6 W&B file(s), 0 media file(s), 0 artifact file(s) and 0 other file(s)"
      ],
      "text/plain": [
       "<IPython.core.display.HTML object>"
      ]
     },
     "metadata": {},
     "output_type": "display_data"
    },
    {
     "data": {
      "text/html": [
       "Find logs at: <code>./wandb/run-20240411_151242-8a2w2d9x/logs</code>"
      ],
      "text/plain": [
       "<IPython.core.display.HTML object>"
      ]
     },
     "metadata": {},
     "output_type": "display_data"
    },
    {
     "name": "stdout",
     "output_type": "stream",
     "text": [
      "\tTraining model: NN\n"
     ]
    },
    {
     "data": {
      "application/vnd.jupyter.widget-view+json": {
       "model_id": "ff798e39df7a41d48d8be69119b2a5a4",
       "version_major": 2,
       "version_minor": 0
      },
      "text/plain": [
       "VBox(children=(Label(value='Waiting for wandb.init()...\\r'), FloatProgress(value=0.011113809122212439, max=1.0…"
      ]
     },
     "metadata": {},
     "output_type": "display_data"
    },
    {
     "data": {
      "text/html": [
       "wandb version 0.16.6 is available!  To upgrade, please run:\n",
       " $ pip install wandb --upgrade"
      ],
      "text/plain": [
       "<IPython.core.display.HTML object>"
      ]
     },
     "metadata": {},
     "output_type": "display_data"
    },
    {
     "data": {
      "text/html": [
       "Tracking run with wandb version 0.15.12"
      ],
      "text/plain": [
       "<IPython.core.display.HTML object>"
      ]
     },
     "metadata": {},
     "output_type": "display_data"
    },
    {
     "data": {
      "text/html": [
       "Run data is saved locally in <code>/home/chenlequn/GitHub/MultiSensor-Monitoring-LW-DED/Code/wandb/run-20240411_151257-5zmo09vx</code>"
      ],
      "text/plain": [
       "<IPython.core.display.HTML object>"
      ]
     },
     "metadata": {},
     "output_type": "display_data"
    },
    {
     "data": {
      "text/html": [
       "Syncing run <strong><a href='https://wandb.ai/lequn/LW-DED_audio-classification/runs/5zmo09vx' target=\"_blank\">NN_Ablated 3</a></strong> to <a href='https://wandb.ai/lequn/LW-DED_audio-classification' target=\"_blank\">Weights & Biases</a> (<a href='https://wandb.me/run' target=\"_blank\">docs</a>)<br/>"
      ],
      "text/plain": [
       "<IPython.core.display.HTML object>"
      ]
     },
     "metadata": {},
     "output_type": "display_data"
    },
    {
     "data": {
      "text/html": [
       " View project at <a href='https://wandb.ai/lequn/LW-DED_audio-classification' target=\"_blank\">https://wandb.ai/lequn/LW-DED_audio-classification</a>"
      ],
      "text/plain": [
       "<IPython.core.display.HTML object>"
      ]
     },
     "metadata": {},
     "output_type": "display_data"
    },
    {
     "data": {
      "text/html": [
       " View run at <a href='https://wandb.ai/lequn/LW-DED_audio-classification/runs/5zmo09vx' target=\"_blank\">https://wandb.ai/lequn/LW-DED_audio-classification/runs/5zmo09vx</a>"
      ],
      "text/plain": [
       "<IPython.core.display.HTML object>"
      ]
     },
     "metadata": {},
     "output_type": "display_data"
    },
    {
     "name": "stdout",
     "output_type": "stream",
     "text": [
      "\t\tAccuracy: Mean = 0.9252254186346072, Std = 0.0169383621712051\n",
      "\t\tF1 Score: Mean = 0.923030183920957, Std = 0.01735098958056566\n",
      "\t\tPrecision: Mean = 0.9287474576688384, Std = 0.012099536690090477\n",
      "\t\tRecall: Mean = 0.9252254186346072, Std = 0.0169383621712051\n",
      "\t\tROC-AUC: Mean = 0.9887393436056069, Std = 0.002147405239817823\n"
     ]
    },
    {
     "data": {
      "text/html": [
       "Waiting for W&B process to finish... <strong style=\"color:green\">(success).</strong>"
      ],
      "text/plain": [
       "<IPython.core.display.HTML object>"
      ]
     },
     "metadata": {},
     "output_type": "display_data"
    },
    {
     "data": {
      "text/html": [
       "<style>\n",
       "    table.wandb td:nth-child(1) { padding: 0 10px; text-align: left ; width: auto;} td:nth-child(2) {text-align: left ; width: 100%}\n",
       "    .wandb-row { display: flex; flex-direction: row; flex-wrap: wrap; justify-content: flex-start; width: 100% }\n",
       "    .wandb-col { display: flex; flex-direction: column; flex-basis: 100%; flex: 1; padding: 10px; }\n",
       "    </style>\n",
       "<div class=\"wandb-row\"><div class=\"wandb-col\"><h3>Run history:</h3><br/><table class=\"wandb\"><tr><td>Accuracy_mean</td><td>▁</td></tr><tr><td>Accuracy_std</td><td>▁</td></tr><tr><td>F1 Score_mean</td><td>▁</td></tr><tr><td>F1 Score_std</td><td>▁</td></tr><tr><td>Precision_mean</td><td>▁</td></tr><tr><td>Precision_std</td><td>▁</td></tr><tr><td>ROC-AUC_mean</td><td>▁</td></tr><tr><td>ROC-AUC_std</td><td>▁</td></tr><tr><td>Recall_mean</td><td>▁</td></tr><tr><td>Recall_std</td><td>▁</td></tr></table><br/></div><div class=\"wandb-col\"><h3>Run summary:</h3><br/><table class=\"wandb\"><tr><td>Accuracy_mean</td><td>0.92523</td></tr><tr><td>Accuracy_std</td><td>0.01694</td></tr><tr><td>F1 Score_mean</td><td>0.92303</td></tr><tr><td>F1 Score_std</td><td>0.01735</td></tr><tr><td>Precision_mean</td><td>0.92875</td></tr><tr><td>Precision_std</td><td>0.0121</td></tr><tr><td>ROC-AUC_mean</td><td>0.98874</td></tr><tr><td>ROC-AUC_std</td><td>0.00215</td></tr><tr><td>Recall_mean</td><td>0.92523</td></tr><tr><td>Recall_std</td><td>0.01694</td></tr></table><br/></div></div>"
      ],
      "text/plain": [
       "<IPython.core.display.HTML object>"
      ]
     },
     "metadata": {},
     "output_type": "display_data"
    },
    {
     "data": {
      "text/html": [
       " View run <strong style=\"color:#cdcd00\">NN_Ablated 3</strong> at: <a href='https://wandb.ai/lequn/LW-DED_audio-classification/runs/5zmo09vx' target=\"_blank\">https://wandb.ai/lequn/LW-DED_audio-classification/runs/5zmo09vx</a><br/> View job at <a href='https://wandb.ai/lequn/LW-DED_audio-classification/jobs/QXJ0aWZhY3RDb2xsZWN0aW9uOjE2MTUxNDY2MA==/version_details/v12' target=\"_blank\">https://wandb.ai/lequn/LW-DED_audio-classification/jobs/QXJ0aWZhY3RDb2xsZWN0aW9uOjE2MTUxNDY2MA==/version_details/v12</a><br/>Synced 6 W&B file(s), 0 media file(s), 0 artifact file(s) and 0 other file(s)"
      ],
      "text/plain": [
       "<IPython.core.display.HTML object>"
      ]
     },
     "metadata": {},
     "output_type": "display_data"
    },
    {
     "data": {
      "text/html": [
       "Find logs at: <code>./wandb/run-20240411_151257-5zmo09vx/logs</code>"
      ],
      "text/plain": [
       "<IPython.core.display.HTML object>"
      ]
     },
     "metadata": {},
     "output_type": "display_data"
    },
    {
     "name": "stdout",
     "output_type": "stream",
     "text": [
      "\tTraining model: XGBoost\n"
     ]
    },
    {
     "data": {
      "application/vnd.jupyter.widget-view+json": {
       "model_id": "450b1a7119844803802ac558de1860af",
       "version_major": 2,
       "version_minor": 0
      },
      "text/plain": [
       "VBox(children=(Label(value='Waiting for wandb.init()...\\r'), FloatProgress(value=0.011113167811143083, max=1.0…"
      ]
     },
     "metadata": {},
     "output_type": "display_data"
    },
    {
     "data": {
      "text/html": [
       "wandb version 0.16.6 is available!  To upgrade, please run:\n",
       " $ pip install wandb --upgrade"
      ],
      "text/plain": [
       "<IPython.core.display.HTML object>"
      ]
     },
     "metadata": {},
     "output_type": "display_data"
    },
    {
     "data": {
      "text/html": [
       "Tracking run with wandb version 0.15.12"
      ],
      "text/plain": [
       "<IPython.core.display.HTML object>"
      ]
     },
     "metadata": {},
     "output_type": "display_data"
    },
    {
     "data": {
      "text/html": [
       "Run data is saved locally in <code>/home/chenlequn/GitHub/MultiSensor-Monitoring-LW-DED/Code/wandb/run-20240411_151310-fnn869ts</code>"
      ],
      "text/plain": [
       "<IPython.core.display.HTML object>"
      ]
     },
     "metadata": {},
     "output_type": "display_data"
    },
    {
     "data": {
      "text/html": [
       "Syncing run <strong><a href='https://wandb.ai/lequn/LW-DED_audio-classification/runs/fnn869ts' target=\"_blank\">XGBoost_Ablated 3</a></strong> to <a href='https://wandb.ai/lequn/LW-DED_audio-classification' target=\"_blank\">Weights & Biases</a> (<a href='https://wandb.me/run' target=\"_blank\">docs</a>)<br/>"
      ],
      "text/plain": [
       "<IPython.core.display.HTML object>"
      ]
     },
     "metadata": {},
     "output_type": "display_data"
    },
    {
     "data": {
      "text/html": [
       " View project at <a href='https://wandb.ai/lequn/LW-DED_audio-classification' target=\"_blank\">https://wandb.ai/lequn/LW-DED_audio-classification</a>"
      ],
      "text/plain": [
       "<IPython.core.display.HTML object>"
      ]
     },
     "metadata": {},
     "output_type": "display_data"
    },
    {
     "data": {
      "text/html": [
       " View run at <a href='https://wandb.ai/lequn/LW-DED_audio-classification/runs/fnn869ts' target=\"_blank\">https://wandb.ai/lequn/LW-DED_audio-classification/runs/fnn869ts</a>"
      ],
      "text/plain": [
       "<IPython.core.display.HTML object>"
      ]
     },
     "metadata": {},
     "output_type": "display_data"
    },
    {
     "name": "stdout",
     "output_type": "stream",
     "text": [
      "[15:13:15] WARNING: ../src/learner.cc:339: No visible GPU is found, setting `gpu_id` to -1\n",
      "\t\tAccuracy: Mean = 0.9354443967367969, Std = 0.016497816266932048\n",
      "\t\tF1 Score: Mean = 0.9334202299555224, Std = 0.01709044412755831\n",
      "\t\tPrecision: Mean = 0.9355636566479124, Std = 0.017972747971609873\n",
      "\t\tRecall: Mean = 0.9354443967367969, Std = 0.016497816266932048\n",
      "\t\tROC-AUC: Mean = 0.9897904192031973, Std = 0.002668261935240822\n"
     ]
    },
    {
     "data": {
      "text/html": [
       "Waiting for W&B process to finish... <strong style=\"color:green\">(success).</strong>"
      ],
      "text/plain": [
       "<IPython.core.display.HTML object>"
      ]
     },
     "metadata": {},
     "output_type": "display_data"
    },
    {
     "data": {
      "application/vnd.jupyter.widget-view+json": {
       "model_id": "53020ff6c71246789e794a5ca259e372",
       "version_major": 2,
       "version_minor": 0
      },
      "text/plain": [
       "VBox(children=(Label(value='0.004 MB of 0.004 MB uploaded (0.000 MB deduped)\\r'), FloatProgress(value=1.0, max…"
      ]
     },
     "metadata": {},
     "output_type": "display_data"
    },
    {
     "data": {
      "text/html": [
       "<style>\n",
       "    table.wandb td:nth-child(1) { padding: 0 10px; text-align: left ; width: auto;} td:nth-child(2) {text-align: left ; width: 100%}\n",
       "    .wandb-row { display: flex; flex-direction: row; flex-wrap: wrap; justify-content: flex-start; width: 100% }\n",
       "    .wandb-col { display: flex; flex-direction: column; flex-basis: 100%; flex: 1; padding: 10px; }\n",
       "    </style>\n",
       "<div class=\"wandb-row\"><div class=\"wandb-col\"><h3>Run history:</h3><br/><table class=\"wandb\"><tr><td>Accuracy_mean</td><td>▁</td></tr><tr><td>Accuracy_std</td><td>▁</td></tr><tr><td>F1 Score_mean</td><td>▁</td></tr><tr><td>F1 Score_std</td><td>▁</td></tr><tr><td>Precision_mean</td><td>▁</td></tr><tr><td>Precision_std</td><td>▁</td></tr><tr><td>ROC-AUC_mean</td><td>▁</td></tr><tr><td>ROC-AUC_std</td><td>▁</td></tr><tr><td>Recall_mean</td><td>▁</td></tr><tr><td>Recall_std</td><td>▁</td></tr></table><br/></div><div class=\"wandb-col\"><h3>Run summary:</h3><br/><table class=\"wandb\"><tr><td>Accuracy_mean</td><td>0.93544</td></tr><tr><td>Accuracy_std</td><td>0.0165</td></tr><tr><td>F1 Score_mean</td><td>0.93342</td></tr><tr><td>F1 Score_std</td><td>0.01709</td></tr><tr><td>Precision_mean</td><td>0.93556</td></tr><tr><td>Precision_std</td><td>0.01797</td></tr><tr><td>ROC-AUC_mean</td><td>0.98979</td></tr><tr><td>ROC-AUC_std</td><td>0.00267</td></tr><tr><td>Recall_mean</td><td>0.93544</td></tr><tr><td>Recall_std</td><td>0.0165</td></tr></table><br/></div></div>"
      ],
      "text/plain": [
       "<IPython.core.display.HTML object>"
      ]
     },
     "metadata": {},
     "output_type": "display_data"
    },
    {
     "data": {
      "text/html": [
       " View run <strong style=\"color:#cdcd00\">XGBoost_Ablated 3</strong> at: <a href='https://wandb.ai/lequn/LW-DED_audio-classification/runs/fnn869ts' target=\"_blank\">https://wandb.ai/lequn/LW-DED_audio-classification/runs/fnn869ts</a><br/> View job at <a href='https://wandb.ai/lequn/LW-DED_audio-classification/jobs/QXJ0aWZhY3RDb2xsZWN0aW9uOjE2MTUxNDY2MA==/version_details/v12' target=\"_blank\">https://wandb.ai/lequn/LW-DED_audio-classification/jobs/QXJ0aWZhY3RDb2xsZWN0aW9uOjE2MTUxNDY2MA==/version_details/v12</a><br/>Synced 6 W&B file(s), 0 media file(s), 0 artifact file(s) and 0 other file(s)"
      ],
      "text/plain": [
       "<IPython.core.display.HTML object>"
      ]
     },
     "metadata": {},
     "output_type": "display_data"
    },
    {
     "data": {
      "text/html": [
       "Find logs at: <code>./wandb/run-20240411_151310-fnn869ts/logs</code>"
      ],
      "text/plain": [
       "<IPython.core.display.HTML object>"
      ]
     },
     "metadata": {},
     "output_type": "display_data"
    },
    {
     "name": "stdout",
     "output_type": "stream",
     "text": [
      "\tTraining model: LightGBM\n"
     ]
    },
    {
     "data": {
      "application/vnd.jupyter.widget-view+json": {
       "model_id": "b9281d9c7993482d9022a8b980ce8154",
       "version_major": 2,
       "version_minor": 0
      },
      "text/plain": [
       "VBox(children=(Label(value='Waiting for wandb.init()...\\r'), FloatProgress(value=0.011114145577772029, max=1.0…"
      ]
     },
     "metadata": {},
     "output_type": "display_data"
    },
    {
     "data": {
      "text/html": [
       "wandb version 0.16.6 is available!  To upgrade, please run:\n",
       " $ pip install wandb --upgrade"
      ],
      "text/plain": [
       "<IPython.core.display.HTML object>"
      ]
     },
     "metadata": {},
     "output_type": "display_data"
    },
    {
     "data": {
      "text/html": [
       "Tracking run with wandb version 0.15.12"
      ],
      "text/plain": [
       "<IPython.core.display.HTML object>"
      ]
     },
     "metadata": {},
     "output_type": "display_data"
    },
    {
     "data": {
      "text/html": [
       "Run data is saved locally in <code>/home/chenlequn/GitHub/MultiSensor-Monitoring-LW-DED/Code/wandb/run-20240411_151322-xkvmeg82</code>"
      ],
      "text/plain": [
       "<IPython.core.display.HTML object>"
      ]
     },
     "metadata": {},
     "output_type": "display_data"
    },
    {
     "data": {
      "text/html": [
       "Syncing run <strong><a href='https://wandb.ai/lequn/LW-DED_audio-classification/runs/xkvmeg82' target=\"_blank\">LightGBM_Ablated 3</a></strong> to <a href='https://wandb.ai/lequn/LW-DED_audio-classification' target=\"_blank\">Weights & Biases</a> (<a href='https://wandb.me/run' target=\"_blank\">docs</a>)<br/>"
      ],
      "text/plain": [
       "<IPython.core.display.HTML object>"
      ]
     },
     "metadata": {},
     "output_type": "display_data"
    },
    {
     "data": {
      "text/html": [
       " View project at <a href='https://wandb.ai/lequn/LW-DED_audio-classification' target=\"_blank\">https://wandb.ai/lequn/LW-DED_audio-classification</a>"
      ],
      "text/plain": [
       "<IPython.core.display.HTML object>"
      ]
     },
     "metadata": {},
     "output_type": "display_data"
    },
    {
     "data": {
      "text/html": [
       " View run at <a href='https://wandb.ai/lequn/LW-DED_audio-classification/runs/xkvmeg82' target=\"_blank\">https://wandb.ai/lequn/LW-DED_audio-classification/runs/xkvmeg82</a>"
      ],
      "text/plain": [
       "<IPython.core.display.HTML object>"
      ]
     },
     "metadata": {},
     "output_type": "display_data"
    },
    {
     "name": "stdout",
     "output_type": "stream",
     "text": [
      "\t\tAccuracy: Mean = 0.9369257191927867, Std = 0.01899821819252014\n",
      "\t\tF1 Score: Mean = 0.9353163344240301, Std = 0.018495136289752606\n",
      "\t\tPrecision: Mean = 0.9383541927067833, Std = 0.017710150990950257\n",
      "\t\tRecall: Mean = 0.9369257191927867, Std = 0.01899821819252014\n",
      "\t\tROC-AUC: Mean = 0.9908740982928748, Std = 0.003418269630792605\n"
     ]
    },
    {
     "data": {
      "text/html": [
       "Waiting for W&B process to finish... <strong style=\"color:green\">(success).</strong>"
      ],
      "text/plain": [
       "<IPython.core.display.HTML object>"
      ]
     },
     "metadata": {},
     "output_type": "display_data"
    },
    {
     "data": {
      "text/html": [
       "<style>\n",
       "    table.wandb td:nth-child(1) { padding: 0 10px; text-align: left ; width: auto;} td:nth-child(2) {text-align: left ; width: 100%}\n",
       "    .wandb-row { display: flex; flex-direction: row; flex-wrap: wrap; justify-content: flex-start; width: 100% }\n",
       "    .wandb-col { display: flex; flex-direction: column; flex-basis: 100%; flex: 1; padding: 10px; }\n",
       "    </style>\n",
       "<div class=\"wandb-row\"><div class=\"wandb-col\"><h3>Run history:</h3><br/><table class=\"wandb\"><tr><td>Accuracy_mean</td><td>▁</td></tr><tr><td>Accuracy_std</td><td>▁</td></tr><tr><td>F1 Score_mean</td><td>▁</td></tr><tr><td>F1 Score_std</td><td>▁</td></tr><tr><td>Precision_mean</td><td>▁</td></tr><tr><td>Precision_std</td><td>▁</td></tr><tr><td>ROC-AUC_mean</td><td>▁</td></tr><tr><td>ROC-AUC_std</td><td>▁</td></tr><tr><td>Recall_mean</td><td>▁</td></tr><tr><td>Recall_std</td><td>▁</td></tr></table><br/></div><div class=\"wandb-col\"><h3>Run summary:</h3><br/><table class=\"wandb\"><tr><td>Accuracy_mean</td><td>0.93693</td></tr><tr><td>Accuracy_std</td><td>0.019</td></tr><tr><td>F1 Score_mean</td><td>0.93532</td></tr><tr><td>F1 Score_std</td><td>0.0185</td></tr><tr><td>Precision_mean</td><td>0.93835</td></tr><tr><td>Precision_std</td><td>0.01771</td></tr><tr><td>ROC-AUC_mean</td><td>0.99087</td></tr><tr><td>ROC-AUC_std</td><td>0.00342</td></tr><tr><td>Recall_mean</td><td>0.93693</td></tr><tr><td>Recall_std</td><td>0.019</td></tr></table><br/></div></div>"
      ],
      "text/plain": [
       "<IPython.core.display.HTML object>"
      ]
     },
     "metadata": {},
     "output_type": "display_data"
    },
    {
     "data": {
      "text/html": [
       " View run <strong style=\"color:#cdcd00\">LightGBM_Ablated 3</strong> at: <a href='https://wandb.ai/lequn/LW-DED_audio-classification/runs/xkvmeg82' target=\"_blank\">https://wandb.ai/lequn/LW-DED_audio-classification/runs/xkvmeg82</a><br/> View job at <a href='https://wandb.ai/lequn/LW-DED_audio-classification/jobs/QXJ0aWZhY3RDb2xsZWN0aW9uOjE2MTUxNDY2MA==/version_details/v12' target=\"_blank\">https://wandb.ai/lequn/LW-DED_audio-classification/jobs/QXJ0aWZhY3RDb2xsZWN0aW9uOjE2MTUxNDY2MA==/version_details/v12</a><br/>Synced 6 W&B file(s), 0 media file(s), 0 artifact file(s) and 0 other file(s)"
      ],
      "text/plain": [
       "<IPython.core.display.HTML object>"
      ]
     },
     "metadata": {},
     "output_type": "display_data"
    },
    {
     "data": {
      "text/html": [
       "Find logs at: <code>./wandb/run-20240411_151322-xkvmeg82/logs</code>"
      ],
      "text/plain": [
       "<IPython.core.display.HTML object>"
      ]
     },
     "metadata": {},
     "output_type": "display_data"
    },
    {
     "name": "stdout",
     "output_type": "stream",
     "text": [
      "\tTraining model: SVM\n"
     ]
    },
    {
     "data": {
      "application/vnd.jupyter.widget-view+json": {
       "model_id": "d9a84cf5be14429da29b97c2a0f711cc",
       "version_major": 2,
       "version_minor": 0
      },
      "text/plain": [
       "VBox(children=(Label(value='Waiting for wandb.init()...\\r'), FloatProgress(value=0.011114052322227508, max=1.0…"
      ]
     },
     "metadata": {},
     "output_type": "display_data"
    },
    {
     "data": {
      "text/html": [
       "wandb version 0.16.6 is available!  To upgrade, please run:\n",
       " $ pip install wandb --upgrade"
      ],
      "text/plain": [
       "<IPython.core.display.HTML object>"
      ]
     },
     "metadata": {},
     "output_type": "display_data"
    },
    {
     "data": {
      "text/html": [
       "Tracking run with wandb version 0.15.12"
      ],
      "text/plain": [
       "<IPython.core.display.HTML object>"
      ]
     },
     "metadata": {},
     "output_type": "display_data"
    },
    {
     "data": {
      "text/html": [
       "Run data is saved locally in <code>/home/chenlequn/GitHub/MultiSensor-Monitoring-LW-DED/Code/wandb/run-20240411_151335-x28ssqki</code>"
      ],
      "text/plain": [
       "<IPython.core.display.HTML object>"
      ]
     },
     "metadata": {},
     "output_type": "display_data"
    },
    {
     "data": {
      "text/html": [
       "Syncing run <strong><a href='https://wandb.ai/lequn/LW-DED_audio-classification/runs/x28ssqki' target=\"_blank\">SVM_Ablated 3</a></strong> to <a href='https://wandb.ai/lequn/LW-DED_audio-classification' target=\"_blank\">Weights & Biases</a> (<a href='https://wandb.me/run' target=\"_blank\">docs</a>)<br/>"
      ],
      "text/plain": [
       "<IPython.core.display.HTML object>"
      ]
     },
     "metadata": {},
     "output_type": "display_data"
    },
    {
     "data": {
      "text/html": [
       " View project at <a href='https://wandb.ai/lequn/LW-DED_audio-classification' target=\"_blank\">https://wandb.ai/lequn/LW-DED_audio-classification</a>"
      ],
      "text/plain": [
       "<IPython.core.display.HTML object>"
      ]
     },
     "metadata": {},
     "output_type": "display_data"
    },
    {
     "data": {
      "text/html": [
       " View run at <a href='https://wandb.ai/lequn/LW-DED_audio-classification/runs/x28ssqki' target=\"_blank\">https://wandb.ai/lequn/LW-DED_audio-classification/runs/x28ssqki</a>"
      ],
      "text/plain": [
       "<IPython.core.display.HTML object>"
      ]
     },
     "metadata": {},
     "output_type": "display_data"
    },
    {
     "name": "stdout",
     "output_type": "stream",
     "text": [
      "\t\tAccuracy: Mean = 0.9164233576642337, Std = 0.01360171898956335\n",
      "\t\tF1 Score: Mean = 0.9161700568986062, Std = 0.012096868262362835\n",
      "\t\tPrecision: Mean = 0.9184930878325301, Std = 0.01064790969499796\n",
      "\t\tRecall: Mean = 0.9164233576642337, Std = 0.01360171898956335\n",
      "\t\tROC-AUC: Mean = 0.9848463777523516, Std = 0.0051540673960620755\n"
     ]
    },
    {
     "data": {
      "text/html": [
       "Waiting for W&B process to finish... <strong style=\"color:green\">(success).</strong>"
      ],
      "text/plain": [
       "<IPython.core.display.HTML object>"
      ]
     },
     "metadata": {},
     "output_type": "display_data"
    },
    {
     "data": {
      "text/html": [
       "<style>\n",
       "    table.wandb td:nth-child(1) { padding: 0 10px; text-align: left ; width: auto;} td:nth-child(2) {text-align: left ; width: 100%}\n",
       "    .wandb-row { display: flex; flex-direction: row; flex-wrap: wrap; justify-content: flex-start; width: 100% }\n",
       "    .wandb-col { display: flex; flex-direction: column; flex-basis: 100%; flex: 1; padding: 10px; }\n",
       "    </style>\n",
       "<div class=\"wandb-row\"><div class=\"wandb-col\"><h3>Run history:</h3><br/><table class=\"wandb\"><tr><td>Accuracy_mean</td><td>▁</td></tr><tr><td>Accuracy_std</td><td>▁</td></tr><tr><td>F1 Score_mean</td><td>▁</td></tr><tr><td>F1 Score_std</td><td>▁</td></tr><tr><td>Precision_mean</td><td>▁</td></tr><tr><td>Precision_std</td><td>▁</td></tr><tr><td>ROC-AUC_mean</td><td>▁</td></tr><tr><td>ROC-AUC_std</td><td>▁</td></tr><tr><td>Recall_mean</td><td>▁</td></tr><tr><td>Recall_std</td><td>▁</td></tr></table><br/></div><div class=\"wandb-col\"><h3>Run summary:</h3><br/><table class=\"wandb\"><tr><td>Accuracy_mean</td><td>0.91642</td></tr><tr><td>Accuracy_std</td><td>0.0136</td></tr><tr><td>F1 Score_mean</td><td>0.91617</td></tr><tr><td>F1 Score_std</td><td>0.0121</td></tr><tr><td>Precision_mean</td><td>0.91849</td></tr><tr><td>Precision_std</td><td>0.01065</td></tr><tr><td>ROC-AUC_mean</td><td>0.98485</td></tr><tr><td>ROC-AUC_std</td><td>0.00515</td></tr><tr><td>Recall_mean</td><td>0.91642</td></tr><tr><td>Recall_std</td><td>0.0136</td></tr></table><br/></div></div>"
      ],
      "text/plain": [
       "<IPython.core.display.HTML object>"
      ]
     },
     "metadata": {},
     "output_type": "display_data"
    },
    {
     "data": {
      "text/html": [
       " View run <strong style=\"color:#cdcd00\">SVM_Ablated 3</strong> at: <a href='https://wandb.ai/lequn/LW-DED_audio-classification/runs/x28ssqki' target=\"_blank\">https://wandb.ai/lequn/LW-DED_audio-classification/runs/x28ssqki</a><br/> View job at <a href='https://wandb.ai/lequn/LW-DED_audio-classification/jobs/QXJ0aWZhY3RDb2xsZWN0aW9uOjE2MTUxNDY2MA==/version_details/v12' target=\"_blank\">https://wandb.ai/lequn/LW-DED_audio-classification/jobs/QXJ0aWZhY3RDb2xsZWN0aW9uOjE2MTUxNDY2MA==/version_details/v12</a><br/>Synced 6 W&B file(s), 0 media file(s), 0 artifact file(s) and 0 other file(s)"
      ],
      "text/plain": [
       "<IPython.core.display.HTML object>"
      ]
     },
     "metadata": {},
     "output_type": "display_data"
    },
    {
     "data": {
      "text/html": [
       "Find logs at: <code>./wandb/run-20240411_151335-x28ssqki/logs</code>"
      ],
      "text/plain": [
       "<IPython.core.display.HTML object>"
      ]
     },
     "metadata": {},
     "output_type": "display_data"
    },
    {
     "name": "stdout",
     "output_type": "stream",
     "text": [
      "\tTraining model: HistGB\n"
     ]
    },
    {
     "data": {
      "application/vnd.jupyter.widget-view+json": {
       "model_id": "a447dfc6f72243e6b47b085d496fbb14",
       "version_major": 2,
       "version_minor": 0
      },
      "text/plain": [
       "VBox(children=(Label(value='Waiting for wandb.init()...\\r'), FloatProgress(value=0.011113765766640426, max=1.0…"
      ]
     },
     "metadata": {},
     "output_type": "display_data"
    },
    {
     "data": {
      "text/html": [
       "wandb version 0.16.6 is available!  To upgrade, please run:\n",
       " $ pip install wandb --upgrade"
      ],
      "text/plain": [
       "<IPython.core.display.HTML object>"
      ]
     },
     "metadata": {},
     "output_type": "display_data"
    },
    {
     "data": {
      "text/html": [
       "Tracking run with wandb version 0.15.12"
      ],
      "text/plain": [
       "<IPython.core.display.HTML object>"
      ]
     },
     "metadata": {},
     "output_type": "display_data"
    },
    {
     "data": {
      "text/html": [
       "Run data is saved locally in <code>/home/chenlequn/GitHub/MultiSensor-Monitoring-LW-DED/Code/wandb/run-20240411_151347-5fs6wvnm</code>"
      ],
      "text/plain": [
       "<IPython.core.display.HTML object>"
      ]
     },
     "metadata": {},
     "output_type": "display_data"
    },
    {
     "data": {
      "text/html": [
       "Syncing run <strong><a href='https://wandb.ai/lequn/LW-DED_audio-classification/runs/5fs6wvnm' target=\"_blank\">HistGB_Ablated 3</a></strong> to <a href='https://wandb.ai/lequn/LW-DED_audio-classification' target=\"_blank\">Weights & Biases</a> (<a href='https://wandb.me/run' target=\"_blank\">docs</a>)<br/>"
      ],
      "text/plain": [
       "<IPython.core.display.HTML object>"
      ]
     },
     "metadata": {},
     "output_type": "display_data"
    },
    {
     "data": {
      "text/html": [
       " View project at <a href='https://wandb.ai/lequn/LW-DED_audio-classification' target=\"_blank\">https://wandb.ai/lequn/LW-DED_audio-classification</a>"
      ],
      "text/plain": [
       "<IPython.core.display.HTML object>"
      ]
     },
     "metadata": {},
     "output_type": "display_data"
    },
    {
     "data": {
      "text/html": [
       " View run at <a href='https://wandb.ai/lequn/LW-DED_audio-classification/runs/5fs6wvnm' target=\"_blank\">https://wandb.ai/lequn/LW-DED_audio-classification/runs/5fs6wvnm</a>"
      ],
      "text/plain": [
       "<IPython.core.display.HTML object>"
      ]
     },
     "metadata": {},
     "output_type": "display_data"
    },
    {
     "name": "stdout",
     "output_type": "stream",
     "text": [
      "\t\tAccuracy: Mean = 0.9383963074280809, Std = 0.018952585189801016\n",
      "\t\tF1 Score: Mean = 0.9369464083099235, Std = 0.018622056818105324\n",
      "\t\tPrecision: Mean = 0.9395931667133309, Std = 0.01789622231264216\n",
      "\t\tRecall: Mean = 0.9383963074280809, Std = 0.018952585189801016\n",
      "\t\tROC-AUC: Mean = 0.9911464326331598, Std = 0.0026470955947736413\n"
     ]
    },
    {
     "data": {
      "text/html": [
       "Waiting for W&B process to finish... <strong style=\"color:green\">(success).</strong>"
      ],
      "text/plain": [
       "<IPython.core.display.HTML object>"
      ]
     },
     "metadata": {},
     "output_type": "display_data"
    },
    {
     "data": {
      "text/html": [
       "<style>\n",
       "    table.wandb td:nth-child(1) { padding: 0 10px; text-align: left ; width: auto;} td:nth-child(2) {text-align: left ; width: 100%}\n",
       "    .wandb-row { display: flex; flex-direction: row; flex-wrap: wrap; justify-content: flex-start; width: 100% }\n",
       "    .wandb-col { display: flex; flex-direction: column; flex-basis: 100%; flex: 1; padding: 10px; }\n",
       "    </style>\n",
       "<div class=\"wandb-row\"><div class=\"wandb-col\"><h3>Run history:</h3><br/><table class=\"wandb\"><tr><td>Accuracy_mean</td><td>▁</td></tr><tr><td>Accuracy_std</td><td>▁</td></tr><tr><td>F1 Score_mean</td><td>▁</td></tr><tr><td>F1 Score_std</td><td>▁</td></tr><tr><td>Precision_mean</td><td>▁</td></tr><tr><td>Precision_std</td><td>▁</td></tr><tr><td>ROC-AUC_mean</td><td>▁</td></tr><tr><td>ROC-AUC_std</td><td>▁</td></tr><tr><td>Recall_mean</td><td>▁</td></tr><tr><td>Recall_std</td><td>▁</td></tr></table><br/></div><div class=\"wandb-col\"><h3>Run summary:</h3><br/><table class=\"wandb\"><tr><td>Accuracy_mean</td><td>0.9384</td></tr><tr><td>Accuracy_std</td><td>0.01895</td></tr><tr><td>F1 Score_mean</td><td>0.93695</td></tr><tr><td>F1 Score_std</td><td>0.01862</td></tr><tr><td>Precision_mean</td><td>0.93959</td></tr><tr><td>Precision_std</td><td>0.0179</td></tr><tr><td>ROC-AUC_mean</td><td>0.99115</td></tr><tr><td>ROC-AUC_std</td><td>0.00265</td></tr><tr><td>Recall_mean</td><td>0.9384</td></tr><tr><td>Recall_std</td><td>0.01895</td></tr></table><br/></div></div>"
      ],
      "text/plain": [
       "<IPython.core.display.HTML object>"
      ]
     },
     "metadata": {},
     "output_type": "display_data"
    },
    {
     "data": {
      "text/html": [
       " View run <strong style=\"color:#cdcd00\">HistGB_Ablated 3</strong> at: <a href='https://wandb.ai/lequn/LW-DED_audio-classification/runs/5fs6wvnm' target=\"_blank\">https://wandb.ai/lequn/LW-DED_audio-classification/runs/5fs6wvnm</a><br/> View job at <a href='https://wandb.ai/lequn/LW-DED_audio-classification/jobs/QXJ0aWZhY3RDb2xsZWN0aW9uOjE2MTUxNDY2MA==/version_details/v11' target=\"_blank\">https://wandb.ai/lequn/LW-DED_audio-classification/jobs/QXJ0aWZhY3RDb2xsZWN0aW9uOjE2MTUxNDY2MA==/version_details/v11</a><br/>Synced 6 W&B file(s), 0 media file(s), 0 artifact file(s) and 0 other file(s)"
      ],
      "text/plain": [
       "<IPython.core.display.HTML object>"
      ]
     },
     "metadata": {},
     "output_type": "display_data"
    },
    {
     "data": {
      "text/html": [
       "Find logs at: <code>./wandb/run-20240411_151347-5fs6wvnm/logs</code>"
      ],
      "text/plain": [
       "<IPython.core.display.HTML object>"
      ]
     },
     "metadata": {},
     "output_type": "display_data"
    },
    {
     "name": "stdout",
     "output_type": "stream",
     "text": [
      "Processing dataset: Ablated 4\n",
      "\tTraining model: KNN\n"
     ]
    },
    {
     "data": {
      "application/vnd.jupyter.widget-view+json": {
       "model_id": "e50215813e3e498794306d1e56caaf7e",
       "version_major": 2,
       "version_minor": 0
      },
      "text/plain": [
       "VBox(children=(Label(value='Waiting for wandb.init()...\\r'), FloatProgress(value=0.01111367544443864, max=1.0)…"
      ]
     },
     "metadata": {},
     "output_type": "display_data"
    },
    {
     "data": {
      "text/html": [
       "wandb version 0.16.6 is available!  To upgrade, please run:\n",
       " $ pip install wandb --upgrade"
      ],
      "text/plain": [
       "<IPython.core.display.HTML object>"
      ]
     },
     "metadata": {},
     "output_type": "display_data"
    },
    {
     "data": {
      "text/html": [
       "Tracking run with wandb version 0.15.12"
      ],
      "text/plain": [
       "<IPython.core.display.HTML object>"
      ]
     },
     "metadata": {},
     "output_type": "display_data"
    },
    {
     "data": {
      "text/html": [
       "Run data is saved locally in <code>/home/chenlequn/GitHub/MultiSensor-Monitoring-LW-DED/Code/wandb/run-20240411_151401-ofrabf0l</code>"
      ],
      "text/plain": [
       "<IPython.core.display.HTML object>"
      ]
     },
     "metadata": {},
     "output_type": "display_data"
    },
    {
     "data": {
      "text/html": [
       "Syncing run <strong><a href='https://wandb.ai/lequn/LW-DED_audio-classification/runs/ofrabf0l' target=\"_blank\">KNN_Ablated 4</a></strong> to <a href='https://wandb.ai/lequn/LW-DED_audio-classification' target=\"_blank\">Weights & Biases</a> (<a href='https://wandb.me/run' target=\"_blank\">docs</a>)<br/>"
      ],
      "text/plain": [
       "<IPython.core.display.HTML object>"
      ]
     },
     "metadata": {},
     "output_type": "display_data"
    },
    {
     "data": {
      "text/html": [
       " View project at <a href='https://wandb.ai/lequn/LW-DED_audio-classification' target=\"_blank\">https://wandb.ai/lequn/LW-DED_audio-classification</a>"
      ],
      "text/plain": [
       "<IPython.core.display.HTML object>"
      ]
     },
     "metadata": {},
     "output_type": "display_data"
    },
    {
     "data": {
      "text/html": [
       " View run at <a href='https://wandb.ai/lequn/LW-DED_audio-classification/runs/ofrabf0l' target=\"_blank\">https://wandb.ai/lequn/LW-DED_audio-classification/runs/ofrabf0l</a>"
      ],
      "text/plain": [
       "<IPython.core.display.HTML object>"
      ]
     },
     "metadata": {},
     "output_type": "display_data"
    },
    {
     "name": "stdout",
     "output_type": "stream",
     "text": [
      "\t\tAccuracy: Mean = 0.9383855732073851, Std = 0.012064280369832004\n",
      "\t\tF1 Score: Mean = 0.9381206036915435, Std = 0.012403661716909882\n",
      "\t\tPrecision: Mean = 0.9397903487106933, Std = 0.012919706513237228\n",
      "\t\tRecall: Mean = 0.9383855732073851, Std = 0.012064280369832004\n",
      "\t\tROC-AUC: Mean = 0.9807666002964186, Std = 0.00570307242715318\n"
     ]
    },
    {
     "data": {
      "text/html": [
       "Waiting for W&B process to finish... <strong style=\"color:green\">(success).</strong>"
      ],
      "text/plain": [
       "<IPython.core.display.HTML object>"
      ]
     },
     "metadata": {},
     "output_type": "display_data"
    },
    {
     "data": {
      "text/html": [
       "<style>\n",
       "    table.wandb td:nth-child(1) { padding: 0 10px; text-align: left ; width: auto;} td:nth-child(2) {text-align: left ; width: 100%}\n",
       "    .wandb-row { display: flex; flex-direction: row; flex-wrap: wrap; justify-content: flex-start; width: 100% }\n",
       "    .wandb-col { display: flex; flex-direction: column; flex-basis: 100%; flex: 1; padding: 10px; }\n",
       "    </style>\n",
       "<div class=\"wandb-row\"><div class=\"wandb-col\"><h3>Run history:</h3><br/><table class=\"wandb\"><tr><td>Accuracy_mean</td><td>▁</td></tr><tr><td>Accuracy_std</td><td>▁</td></tr><tr><td>F1 Score_mean</td><td>▁</td></tr><tr><td>F1 Score_std</td><td>▁</td></tr><tr><td>Precision_mean</td><td>▁</td></tr><tr><td>Precision_std</td><td>▁</td></tr><tr><td>ROC-AUC_mean</td><td>▁</td></tr><tr><td>ROC-AUC_std</td><td>▁</td></tr><tr><td>Recall_mean</td><td>▁</td></tr><tr><td>Recall_std</td><td>▁</td></tr></table><br/></div><div class=\"wandb-col\"><h3>Run summary:</h3><br/><table class=\"wandb\"><tr><td>Accuracy_mean</td><td>0.93839</td></tr><tr><td>Accuracy_std</td><td>0.01206</td></tr><tr><td>F1 Score_mean</td><td>0.93812</td></tr><tr><td>F1 Score_std</td><td>0.0124</td></tr><tr><td>Precision_mean</td><td>0.93979</td></tr><tr><td>Precision_std</td><td>0.01292</td></tr><tr><td>ROC-AUC_mean</td><td>0.98077</td></tr><tr><td>ROC-AUC_std</td><td>0.0057</td></tr><tr><td>Recall_mean</td><td>0.93839</td></tr><tr><td>Recall_std</td><td>0.01206</td></tr></table><br/></div></div>"
      ],
      "text/plain": [
       "<IPython.core.display.HTML object>"
      ]
     },
     "metadata": {},
     "output_type": "display_data"
    },
    {
     "data": {
      "text/html": [
       " View run <strong style=\"color:#cdcd00\">KNN_Ablated 4</strong> at: <a href='https://wandb.ai/lequn/LW-DED_audio-classification/runs/ofrabf0l' target=\"_blank\">https://wandb.ai/lequn/LW-DED_audio-classification/runs/ofrabf0l</a><br/> View job at <a href='https://wandb.ai/lequn/LW-DED_audio-classification/jobs/QXJ0aWZhY3RDb2xsZWN0aW9uOjE2MTUxNDY2MA==/version_details/v12' target=\"_blank\">https://wandb.ai/lequn/LW-DED_audio-classification/jobs/QXJ0aWZhY3RDb2xsZWN0aW9uOjE2MTUxNDY2MA==/version_details/v12</a><br/>Synced 6 W&B file(s), 0 media file(s), 0 artifact file(s) and 0 other file(s)"
      ],
      "text/plain": [
       "<IPython.core.display.HTML object>"
      ]
     },
     "metadata": {},
     "output_type": "display_data"
    },
    {
     "data": {
      "text/html": [
       "Find logs at: <code>./wandb/run-20240411_151401-ofrabf0l/logs</code>"
      ],
      "text/plain": [
       "<IPython.core.display.HTML object>"
      ]
     },
     "metadata": {},
     "output_type": "display_data"
    },
    {
     "name": "stdout",
     "output_type": "stream",
     "text": [
      "\tTraining model: DT\n"
     ]
    },
    {
     "data": {
      "application/vnd.jupyter.widget-view+json": {
       "model_id": "179fc0614db6412998f3a75e3abf104c",
       "version_major": 2,
       "version_minor": 0
      },
      "text/plain": [
       "VBox(children=(Label(value='Waiting for wandb.init()...\\r'), FloatProgress(value=0.011113239699989208, max=1.0…"
      ]
     },
     "metadata": {},
     "output_type": "display_data"
    },
    {
     "data": {
      "text/html": [
       "wandb version 0.16.6 is available!  To upgrade, please run:\n",
       " $ pip install wandb --upgrade"
      ],
      "text/plain": [
       "<IPython.core.display.HTML object>"
      ]
     },
     "metadata": {},
     "output_type": "display_data"
    },
    {
     "data": {
      "text/html": [
       "Tracking run with wandb version 0.15.12"
      ],
      "text/plain": [
       "<IPython.core.display.HTML object>"
      ]
     },
     "metadata": {},
     "output_type": "display_data"
    },
    {
     "data": {
      "text/html": [
       "Run data is saved locally in <code>/home/chenlequn/GitHub/MultiSensor-Monitoring-LW-DED/Code/wandb/run-20240411_151415-ohf9x6z4</code>"
      ],
      "text/plain": [
       "<IPython.core.display.HTML object>"
      ]
     },
     "metadata": {},
     "output_type": "display_data"
    },
    {
     "data": {
      "text/html": [
       "Syncing run <strong><a href='https://wandb.ai/lequn/LW-DED_audio-classification/runs/ohf9x6z4' target=\"_blank\">DT_Ablated 4</a></strong> to <a href='https://wandb.ai/lequn/LW-DED_audio-classification' target=\"_blank\">Weights & Biases</a> (<a href='https://wandb.me/run' target=\"_blank\">docs</a>)<br/>"
      ],
      "text/plain": [
       "<IPython.core.display.HTML object>"
      ]
     },
     "metadata": {},
     "output_type": "display_data"
    },
    {
     "data": {
      "text/html": [
       " View project at <a href='https://wandb.ai/lequn/LW-DED_audio-classification' target=\"_blank\">https://wandb.ai/lequn/LW-DED_audio-classification</a>"
      ],
      "text/plain": [
       "<IPython.core.display.HTML object>"
      ]
     },
     "metadata": {},
     "output_type": "display_data"
    },
    {
     "data": {
      "text/html": [
       " View run at <a href='https://wandb.ai/lequn/LW-DED_audio-classification/runs/ohf9x6z4' target=\"_blank\">https://wandb.ai/lequn/LW-DED_audio-classification/runs/ohf9x6z4</a>"
      ],
      "text/plain": [
       "<IPython.core.display.HTML object>"
      ]
     },
     "metadata": {},
     "output_type": "display_data"
    },
    {
     "name": "stdout",
     "output_type": "stream",
     "text": [
      "\t\tAccuracy: Mean = 0.8871189351653068, Std = 0.011709524413031512\n",
      "\t\tF1 Score: Mean = 0.8855161494188101, Std = 0.01183737934939555\n",
      "\t\tPrecision: Mean = 0.8871758501119942, Std = 0.01122937196735961\n",
      "\t\tRecall: Mean = 0.8871189351653068, Std = 0.011709524413031512\n",
      "\t\tROC-AUC: Mean = 0.9415764431242939, Std = 0.011037672908432255\n"
     ]
    },
    {
     "data": {
      "text/html": [
       "Waiting for W&B process to finish... <strong style=\"color:green\">(success).</strong>"
      ],
      "text/plain": [
       "<IPython.core.display.HTML object>"
      ]
     },
     "metadata": {},
     "output_type": "display_data"
    },
    {
     "data": {
      "text/html": [
       "<style>\n",
       "    table.wandb td:nth-child(1) { padding: 0 10px; text-align: left ; width: auto;} td:nth-child(2) {text-align: left ; width: 100%}\n",
       "    .wandb-row { display: flex; flex-direction: row; flex-wrap: wrap; justify-content: flex-start; width: 100% }\n",
       "    .wandb-col { display: flex; flex-direction: column; flex-basis: 100%; flex: 1; padding: 10px; }\n",
       "    </style>\n",
       "<div class=\"wandb-row\"><div class=\"wandb-col\"><h3>Run history:</h3><br/><table class=\"wandb\"><tr><td>Accuracy_mean</td><td>▁</td></tr><tr><td>Accuracy_std</td><td>▁</td></tr><tr><td>F1 Score_mean</td><td>▁</td></tr><tr><td>F1 Score_std</td><td>▁</td></tr><tr><td>Precision_mean</td><td>▁</td></tr><tr><td>Precision_std</td><td>▁</td></tr><tr><td>ROC-AUC_mean</td><td>▁</td></tr><tr><td>ROC-AUC_std</td><td>▁</td></tr><tr><td>Recall_mean</td><td>▁</td></tr><tr><td>Recall_std</td><td>▁</td></tr></table><br/></div><div class=\"wandb-col\"><h3>Run summary:</h3><br/><table class=\"wandb\"><tr><td>Accuracy_mean</td><td>0.88712</td></tr><tr><td>Accuracy_std</td><td>0.01171</td></tr><tr><td>F1 Score_mean</td><td>0.88552</td></tr><tr><td>F1 Score_std</td><td>0.01184</td></tr><tr><td>Precision_mean</td><td>0.88718</td></tr><tr><td>Precision_std</td><td>0.01123</td></tr><tr><td>ROC-AUC_mean</td><td>0.94158</td></tr><tr><td>ROC-AUC_std</td><td>0.01104</td></tr><tr><td>Recall_mean</td><td>0.88712</td></tr><tr><td>Recall_std</td><td>0.01171</td></tr></table><br/></div></div>"
      ],
      "text/plain": [
       "<IPython.core.display.HTML object>"
      ]
     },
     "metadata": {},
     "output_type": "display_data"
    },
    {
     "data": {
      "text/html": [
       " View run <strong style=\"color:#cdcd00\">DT_Ablated 4</strong> at: <a href='https://wandb.ai/lequn/LW-DED_audio-classification/runs/ohf9x6z4' target=\"_blank\">https://wandb.ai/lequn/LW-DED_audio-classification/runs/ohf9x6z4</a><br/> View job at <a href='https://wandb.ai/lequn/LW-DED_audio-classification/jobs/QXJ0aWZhY3RDb2xsZWN0aW9uOjE2MTUxNDY2MA==/version_details/v12' target=\"_blank\">https://wandb.ai/lequn/LW-DED_audio-classification/jobs/QXJ0aWZhY3RDb2xsZWN0aW9uOjE2MTUxNDY2MA==/version_details/v12</a><br/>Synced 6 W&B file(s), 0 media file(s), 0 artifact file(s) and 0 other file(s)"
      ],
      "text/plain": [
       "<IPython.core.display.HTML object>"
      ]
     },
     "metadata": {},
     "output_type": "display_data"
    },
    {
     "data": {
      "text/html": [
       "Find logs at: <code>./wandb/run-20240411_151415-ohf9x6z4/logs</code>"
      ],
      "text/plain": [
       "<IPython.core.display.HTML object>"
      ]
     },
     "metadata": {},
     "output_type": "display_data"
    },
    {
     "name": "stdout",
     "output_type": "stream",
     "text": [
      "\tTraining model: LR\n"
     ]
    },
    {
     "data": {
      "application/vnd.jupyter.widget-view+json": {
       "model_id": "1b937cb3bb16460a9aec20953b6d30ab",
       "version_major": 2,
       "version_minor": 0
      },
      "text/plain": [
       "VBox(children=(Label(value='Waiting for wandb.init()...\\r'), FloatProgress(value=0.011113196333341572, max=1.0…"
      ]
     },
     "metadata": {},
     "output_type": "display_data"
    },
    {
     "data": {
      "text/html": [
       "wandb version 0.16.6 is available!  To upgrade, please run:\n",
       " $ pip install wandb --upgrade"
      ],
      "text/plain": [
       "<IPython.core.display.HTML object>"
      ]
     },
     "metadata": {},
     "output_type": "display_data"
    },
    {
     "data": {
      "text/html": [
       "Tracking run with wandb version 0.15.12"
      ],
      "text/plain": [
       "<IPython.core.display.HTML object>"
      ]
     },
     "metadata": {},
     "output_type": "display_data"
    },
    {
     "data": {
      "text/html": [
       "Run data is saved locally in <code>/home/chenlequn/GitHub/MultiSensor-Monitoring-LW-DED/Code/wandb/run-20240411_151427-ehjynwxu</code>"
      ],
      "text/plain": [
       "<IPython.core.display.HTML object>"
      ]
     },
     "metadata": {},
     "output_type": "display_data"
    },
    {
     "data": {
      "text/html": [
       "Syncing run <strong><a href='https://wandb.ai/lequn/LW-DED_audio-classification/runs/ehjynwxu' target=\"_blank\">LR_Ablated 4</a></strong> to <a href='https://wandb.ai/lequn/LW-DED_audio-classification' target=\"_blank\">Weights & Biases</a> (<a href='https://wandb.me/run' target=\"_blank\">docs</a>)<br/>"
      ],
      "text/plain": [
       "<IPython.core.display.HTML object>"
      ]
     },
     "metadata": {},
     "output_type": "display_data"
    },
    {
     "data": {
      "text/html": [
       " View project at <a href='https://wandb.ai/lequn/LW-DED_audio-classification' target=\"_blank\">https://wandb.ai/lequn/LW-DED_audio-classification</a>"
      ],
      "text/plain": [
       "<IPython.core.display.HTML object>"
      ]
     },
     "metadata": {},
     "output_type": "display_data"
    },
    {
     "data": {
      "text/html": [
       " View run at <a href='https://wandb.ai/lequn/LW-DED_audio-classification/runs/ehjynwxu' target=\"_blank\">https://wandb.ai/lequn/LW-DED_audio-classification/runs/ehjynwxu</a>"
      ],
      "text/plain": [
       "<IPython.core.display.HTML object>"
      ]
     },
     "metadata": {},
     "output_type": "display_data"
    },
    {
     "name": "stdout",
     "output_type": "stream",
     "text": [
      "\t\tAccuracy: Mean = 0.9222520395019321, Std = 0.015973501449577664\n",
      "\t\tF1 Score: Mean = 0.9210363447812944, Std = 0.018152365096765037\n",
      "\t\tPrecision: Mean = 0.9252727699093711, Std = 0.017582319107030446\n",
      "\t\tRecall: Mean = 0.9222520395019321, Std = 0.015973501449577664\n",
      "\t\tROC-AUC: Mean = 0.9814492515586271, Std = 0.006194024664248165\n"
     ]
    },
    {
     "data": {
      "text/html": [
       "Waiting for W&B process to finish... <strong style=\"color:green\">(success).</strong>"
      ],
      "text/plain": [
       "<IPython.core.display.HTML object>"
      ]
     },
     "metadata": {},
     "output_type": "display_data"
    },
    {
     "data": {
      "text/html": [
       "<style>\n",
       "    table.wandb td:nth-child(1) { padding: 0 10px; text-align: left ; width: auto;} td:nth-child(2) {text-align: left ; width: 100%}\n",
       "    .wandb-row { display: flex; flex-direction: row; flex-wrap: wrap; justify-content: flex-start; width: 100% }\n",
       "    .wandb-col { display: flex; flex-direction: column; flex-basis: 100%; flex: 1; padding: 10px; }\n",
       "    </style>\n",
       "<div class=\"wandb-row\"><div class=\"wandb-col\"><h3>Run history:</h3><br/><table class=\"wandb\"><tr><td>Accuracy_mean</td><td>▁</td></tr><tr><td>Accuracy_std</td><td>▁</td></tr><tr><td>F1 Score_mean</td><td>▁</td></tr><tr><td>F1 Score_std</td><td>▁</td></tr><tr><td>Precision_mean</td><td>▁</td></tr><tr><td>Precision_std</td><td>▁</td></tr><tr><td>ROC-AUC_mean</td><td>▁</td></tr><tr><td>ROC-AUC_std</td><td>▁</td></tr><tr><td>Recall_mean</td><td>▁</td></tr><tr><td>Recall_std</td><td>▁</td></tr></table><br/></div><div class=\"wandb-col\"><h3>Run summary:</h3><br/><table class=\"wandb\"><tr><td>Accuracy_mean</td><td>0.92225</td></tr><tr><td>Accuracy_std</td><td>0.01597</td></tr><tr><td>F1 Score_mean</td><td>0.92104</td></tr><tr><td>F1 Score_std</td><td>0.01815</td></tr><tr><td>Precision_mean</td><td>0.92527</td></tr><tr><td>Precision_std</td><td>0.01758</td></tr><tr><td>ROC-AUC_mean</td><td>0.98145</td></tr><tr><td>ROC-AUC_std</td><td>0.00619</td></tr><tr><td>Recall_mean</td><td>0.92225</td></tr><tr><td>Recall_std</td><td>0.01597</td></tr></table><br/></div></div>"
      ],
      "text/plain": [
       "<IPython.core.display.HTML object>"
      ]
     },
     "metadata": {},
     "output_type": "display_data"
    },
    {
     "data": {
      "text/html": [
       " View run <strong style=\"color:#cdcd00\">LR_Ablated 4</strong> at: <a href='https://wandb.ai/lequn/LW-DED_audio-classification/runs/ehjynwxu' target=\"_blank\">https://wandb.ai/lequn/LW-DED_audio-classification/runs/ehjynwxu</a><br/> View job at <a href='https://wandb.ai/lequn/LW-DED_audio-classification/jobs/QXJ0aWZhY3RDb2xsZWN0aW9uOjE2MTUxNDY2MA==/version_details/v12' target=\"_blank\">https://wandb.ai/lequn/LW-DED_audio-classification/jobs/QXJ0aWZhY3RDb2xsZWN0aW9uOjE2MTUxNDY2MA==/version_details/v12</a><br/>Synced 6 W&B file(s), 0 media file(s), 0 artifact file(s) and 0 other file(s)"
      ],
      "text/plain": [
       "<IPython.core.display.HTML object>"
      ]
     },
     "metadata": {},
     "output_type": "display_data"
    },
    {
     "data": {
      "text/html": [
       "Find logs at: <code>./wandb/run-20240411_151427-ehjynwxu/logs</code>"
      ],
      "text/plain": [
       "<IPython.core.display.HTML object>"
      ]
     },
     "metadata": {},
     "output_type": "display_data"
    },
    {
     "name": "stdout",
     "output_type": "stream",
     "text": [
      "\tTraining model: RF\n"
     ]
    },
    {
     "data": {
      "application/vnd.jupyter.widget-view+json": {
       "model_id": "9de301fec6d8470babe8e424ce8eddae",
       "version_major": 2,
       "version_minor": 0
      },
      "text/plain": [
       "VBox(children=(Label(value='Waiting for wandb.init()...\\r'), FloatProgress(value=0.011113758066656172, max=1.0…"
      ]
     },
     "metadata": {},
     "output_type": "display_data"
    },
    {
     "data": {
      "text/html": [
       "wandb version 0.16.6 is available!  To upgrade, please run:\n",
       " $ pip install wandb --upgrade"
      ],
      "text/plain": [
       "<IPython.core.display.HTML object>"
      ]
     },
     "metadata": {},
     "output_type": "display_data"
    },
    {
     "data": {
      "text/html": [
       "Tracking run with wandb version 0.15.12"
      ],
      "text/plain": [
       "<IPython.core.display.HTML object>"
      ]
     },
     "metadata": {},
     "output_type": "display_data"
    },
    {
     "data": {
      "text/html": [
       "Run data is saved locally in <code>/home/chenlequn/GitHub/MultiSensor-Monitoring-LW-DED/Code/wandb/run-20240411_151440-kum56ion</code>"
      ],
      "text/plain": [
       "<IPython.core.display.HTML object>"
      ]
     },
     "metadata": {},
     "output_type": "display_data"
    },
    {
     "data": {
      "text/html": [
       "Syncing run <strong><a href='https://wandb.ai/lequn/LW-DED_audio-classification/runs/kum56ion' target=\"_blank\">RF_Ablated 4</a></strong> to <a href='https://wandb.ai/lequn/LW-DED_audio-classification' target=\"_blank\">Weights & Biases</a> (<a href='https://wandb.me/run' target=\"_blank\">docs</a>)<br/>"
      ],
      "text/plain": [
       "<IPython.core.display.HTML object>"
      ]
     },
     "metadata": {},
     "output_type": "display_data"
    },
    {
     "data": {
      "text/html": [
       " View project at <a href='https://wandb.ai/lequn/LW-DED_audio-classification' target=\"_blank\">https://wandb.ai/lequn/LW-DED_audio-classification</a>"
      ],
      "text/plain": [
       "<IPython.core.display.HTML object>"
      ]
     },
     "metadata": {},
     "output_type": "display_data"
    },
    {
     "data": {
      "text/html": [
       " View run at <a href='https://wandb.ai/lequn/LW-DED_audio-classification/runs/kum56ion' target=\"_blank\">https://wandb.ai/lequn/LW-DED_audio-classification/runs/kum56ion</a>"
      ],
      "text/plain": [
       "<IPython.core.display.HTML object>"
      ]
     },
     "metadata": {},
     "output_type": "display_data"
    },
    {
     "name": "stdout",
     "output_type": "stream",
     "text": [
      "\t\tAccuracy: Mean = 0.9340060111635896, Std = 0.016091653023864668\n",
      "\t\tF1 Score: Mean = 0.9327165686248376, Std = 0.014972288728124285\n",
      "\t\tPrecision: Mean = 0.9366192246132581, Std = 0.015242051026436563\n",
      "\t\tRecall: Mean = 0.9340060111635896, Std = 0.016091653023864668\n",
      "\t\tROC-AUC: Mean = 0.989766227622092, Std = 0.003307171016111083\n"
     ]
    },
    {
     "data": {
      "text/html": [
       "Waiting for W&B process to finish... <strong style=\"color:green\">(success).</strong>"
      ],
      "text/plain": [
       "<IPython.core.display.HTML object>"
      ]
     },
     "metadata": {},
     "output_type": "display_data"
    },
    {
     "data": {
      "text/html": [
       "<style>\n",
       "    table.wandb td:nth-child(1) { padding: 0 10px; text-align: left ; width: auto;} td:nth-child(2) {text-align: left ; width: 100%}\n",
       "    .wandb-row { display: flex; flex-direction: row; flex-wrap: wrap; justify-content: flex-start; width: 100% }\n",
       "    .wandb-col { display: flex; flex-direction: column; flex-basis: 100%; flex: 1; padding: 10px; }\n",
       "    </style>\n",
       "<div class=\"wandb-row\"><div class=\"wandb-col\"><h3>Run history:</h3><br/><table class=\"wandb\"><tr><td>Accuracy_mean</td><td>▁</td></tr><tr><td>Accuracy_std</td><td>▁</td></tr><tr><td>F1 Score_mean</td><td>▁</td></tr><tr><td>F1 Score_std</td><td>▁</td></tr><tr><td>Precision_mean</td><td>▁</td></tr><tr><td>Precision_std</td><td>▁</td></tr><tr><td>ROC-AUC_mean</td><td>▁</td></tr><tr><td>ROC-AUC_std</td><td>▁</td></tr><tr><td>Recall_mean</td><td>▁</td></tr><tr><td>Recall_std</td><td>▁</td></tr></table><br/></div><div class=\"wandb-col\"><h3>Run summary:</h3><br/><table class=\"wandb\"><tr><td>Accuracy_mean</td><td>0.93401</td></tr><tr><td>Accuracy_std</td><td>0.01609</td></tr><tr><td>F1 Score_mean</td><td>0.93272</td></tr><tr><td>F1 Score_std</td><td>0.01497</td></tr><tr><td>Precision_mean</td><td>0.93662</td></tr><tr><td>Precision_std</td><td>0.01524</td></tr><tr><td>ROC-AUC_mean</td><td>0.98977</td></tr><tr><td>ROC-AUC_std</td><td>0.00331</td></tr><tr><td>Recall_mean</td><td>0.93401</td></tr><tr><td>Recall_std</td><td>0.01609</td></tr></table><br/></div></div>"
      ],
      "text/plain": [
       "<IPython.core.display.HTML object>"
      ]
     },
     "metadata": {},
     "output_type": "display_data"
    },
    {
     "data": {
      "text/html": [
       " View run <strong style=\"color:#cdcd00\">RF_Ablated 4</strong> at: <a href='https://wandb.ai/lequn/LW-DED_audio-classification/runs/kum56ion' target=\"_blank\">https://wandb.ai/lequn/LW-DED_audio-classification/runs/kum56ion</a><br/> View job at <a href='https://wandb.ai/lequn/LW-DED_audio-classification/jobs/QXJ0aWZhY3RDb2xsZWN0aW9uOjE2MTUxNDY2MA==/version_details/v12' target=\"_blank\">https://wandb.ai/lequn/LW-DED_audio-classification/jobs/QXJ0aWZhY3RDb2xsZWN0aW9uOjE2MTUxNDY2MA==/version_details/v12</a><br/>Synced 6 W&B file(s), 0 media file(s), 0 artifact file(s) and 0 other file(s)"
      ],
      "text/plain": [
       "<IPython.core.display.HTML object>"
      ]
     },
     "metadata": {},
     "output_type": "display_data"
    },
    {
     "data": {
      "text/html": [
       "Find logs at: <code>./wandb/run-20240411_151440-kum56ion/logs</code>"
      ],
      "text/plain": [
       "<IPython.core.display.HTML object>"
      ]
     },
     "metadata": {},
     "output_type": "display_data"
    },
    {
     "name": "stdout",
     "output_type": "stream",
     "text": [
      "\tTraining model: BalancedRF\n"
     ]
    },
    {
     "data": {
      "application/vnd.jupyter.widget-view+json": {
       "model_id": "032657a5582548e2b8d500bba1dd6198",
       "version_major": 2,
       "version_minor": 0
      },
      "text/plain": [
       "VBox(children=(Label(value='Waiting for wandb.init()...\\r'), FloatProgress(value=0.011112573411123271, max=1.0…"
      ]
     },
     "metadata": {},
     "output_type": "display_data"
    },
    {
     "data": {
      "text/html": [
       "wandb version 0.16.6 is available!  To upgrade, please run:\n",
       " $ pip install wandb --upgrade"
      ],
      "text/plain": [
       "<IPython.core.display.HTML object>"
      ]
     },
     "metadata": {},
     "output_type": "display_data"
    },
    {
     "data": {
      "text/html": [
       "Tracking run with wandb version 0.15.12"
      ],
      "text/plain": [
       "<IPython.core.display.HTML object>"
      ]
     },
     "metadata": {},
     "output_type": "display_data"
    },
    {
     "data": {
      "text/html": [
       "Run data is saved locally in <code>/home/chenlequn/GitHub/MultiSensor-Monitoring-LW-DED/Code/wandb/run-20240411_151456-mwcglpdc</code>"
      ],
      "text/plain": [
       "<IPython.core.display.HTML object>"
      ]
     },
     "metadata": {},
     "output_type": "display_data"
    },
    {
     "data": {
      "text/html": [
       "Syncing run <strong><a href='https://wandb.ai/lequn/LW-DED_audio-classification/runs/mwcglpdc' target=\"_blank\">BalancedRF_Ablated 4</a></strong> to <a href='https://wandb.ai/lequn/LW-DED_audio-classification' target=\"_blank\">Weights & Biases</a> (<a href='https://wandb.me/run' target=\"_blank\">docs</a>)<br/>"
      ],
      "text/plain": [
       "<IPython.core.display.HTML object>"
      ]
     },
     "metadata": {},
     "output_type": "display_data"
    },
    {
     "data": {
      "text/html": [
       " View project at <a href='https://wandb.ai/lequn/LW-DED_audio-classification' target=\"_blank\">https://wandb.ai/lequn/LW-DED_audio-classification</a>"
      ],
      "text/plain": [
       "<IPython.core.display.HTML object>"
      ]
     },
     "metadata": {},
     "output_type": "display_data"
    },
    {
     "data": {
      "text/html": [
       " View run at <a href='https://wandb.ai/lequn/LW-DED_audio-classification/runs/mwcglpdc' target=\"_blank\">https://wandb.ai/lequn/LW-DED_audio-classification/runs/mwcglpdc</a>"
      ],
      "text/plain": [
       "<IPython.core.display.HTML object>"
      ]
     },
     "metadata": {},
     "output_type": "display_data"
    },
    {
     "name": "stderr",
     "output_type": "stream",
     "text": [
      "/home/chenlequn/anaconda3/envs/torch/lib/python3.9/site-packages/imblearn/ensemble/_forest.py:546: FutureWarning: The default of `sampling_strategy` will change from `'auto'` to `'all'` in version 0.13. This change will follow the implementation proposed in the original paper. Set to `'all'` to silence this warning and adopt the future behaviour.\n",
      "  warn(\n",
      "/home/chenlequn/anaconda3/envs/torch/lib/python3.9/site-packages/imblearn/ensemble/_forest.py:558: FutureWarning: The default of `replacement` will change from `False` to `True` in version 0.13. This change will follow the implementation proposed in the original paper. Set to `True` to silence this warning and adopt the future behaviour.\n",
      "  warn(\n"
     ]
    },
    {
     "name": "stdout",
     "output_type": "stream",
     "text": [
      "\t\tAccuracy: Mean = 0.9149205667668527, Std = 0.019568145752596407\n",
      "\t\tF1 Score: Mean = 0.9191695656467733, Std = 0.018991436601634288\n",
      "\t\tPrecision: Mean = 0.9288339024641872, Std = 0.018851355314024022\n",
      "\t\tRecall: Mean = 0.9149205667668527, Std = 0.019568145752596407\n",
      "\t\tROC-AUC: Mean = 0.9862607346049526, Std = 0.003705518878833054\n"
     ]
    },
    {
     "data": {
      "text/html": [
       "Waiting for W&B process to finish... <strong style=\"color:green\">(success).</strong>"
      ],
      "text/plain": [
       "<IPython.core.display.HTML object>"
      ]
     },
     "metadata": {},
     "output_type": "display_data"
    },
    {
     "data": {
      "text/html": [
       "<style>\n",
       "    table.wandb td:nth-child(1) { padding: 0 10px; text-align: left ; width: auto;} td:nth-child(2) {text-align: left ; width: 100%}\n",
       "    .wandb-row { display: flex; flex-direction: row; flex-wrap: wrap; justify-content: flex-start; width: 100% }\n",
       "    .wandb-col { display: flex; flex-direction: column; flex-basis: 100%; flex: 1; padding: 10px; }\n",
       "    </style>\n",
       "<div class=\"wandb-row\"><div class=\"wandb-col\"><h3>Run history:</h3><br/><table class=\"wandb\"><tr><td>Accuracy_mean</td><td>▁</td></tr><tr><td>Accuracy_std</td><td>▁</td></tr><tr><td>F1 Score_mean</td><td>▁</td></tr><tr><td>F1 Score_std</td><td>▁</td></tr><tr><td>Precision_mean</td><td>▁</td></tr><tr><td>Precision_std</td><td>▁</td></tr><tr><td>ROC-AUC_mean</td><td>▁</td></tr><tr><td>ROC-AUC_std</td><td>▁</td></tr><tr><td>Recall_mean</td><td>▁</td></tr><tr><td>Recall_std</td><td>▁</td></tr></table><br/></div><div class=\"wandb-col\"><h3>Run summary:</h3><br/><table class=\"wandb\"><tr><td>Accuracy_mean</td><td>0.91492</td></tr><tr><td>Accuracy_std</td><td>0.01957</td></tr><tr><td>F1 Score_mean</td><td>0.91917</td></tr><tr><td>F1 Score_std</td><td>0.01899</td></tr><tr><td>Precision_mean</td><td>0.92883</td></tr><tr><td>Precision_std</td><td>0.01885</td></tr><tr><td>ROC-AUC_mean</td><td>0.98626</td></tr><tr><td>ROC-AUC_std</td><td>0.00371</td></tr><tr><td>Recall_mean</td><td>0.91492</td></tr><tr><td>Recall_std</td><td>0.01957</td></tr></table><br/></div></div>"
      ],
      "text/plain": [
       "<IPython.core.display.HTML object>"
      ]
     },
     "metadata": {},
     "output_type": "display_data"
    },
    {
     "data": {
      "text/html": [
       " View run <strong style=\"color:#cdcd00\">BalancedRF_Ablated 4</strong> at: <a href='https://wandb.ai/lequn/LW-DED_audio-classification/runs/mwcglpdc' target=\"_blank\">https://wandb.ai/lequn/LW-DED_audio-classification/runs/mwcglpdc</a><br/> View job at <a href='https://wandb.ai/lequn/LW-DED_audio-classification/jobs/QXJ0aWZhY3RDb2xsZWN0aW9uOjE2MTUxNDY2MA==/version_details/v12' target=\"_blank\">https://wandb.ai/lequn/LW-DED_audio-classification/jobs/QXJ0aWZhY3RDb2xsZWN0aW9uOjE2MTUxNDY2MA==/version_details/v12</a><br/>Synced 6 W&B file(s), 0 media file(s), 0 artifact file(s) and 0 other file(s)"
      ],
      "text/plain": [
       "<IPython.core.display.HTML object>"
      ]
     },
     "metadata": {},
     "output_type": "display_data"
    },
    {
     "data": {
      "text/html": [
       "Find logs at: <code>./wandb/run-20240411_151456-mwcglpdc/logs</code>"
      ],
      "text/plain": [
       "<IPython.core.display.HTML object>"
      ]
     },
     "metadata": {},
     "output_type": "display_data"
    },
    {
     "name": "stdout",
     "output_type": "stream",
     "text": [
      "\tTraining model: RUSBoost\n"
     ]
    },
    {
     "data": {
      "application/vnd.jupyter.widget-view+json": {
       "model_id": "b3821cc7f1624c12817d197ba02ddf28",
       "version_major": 2,
       "version_minor": 0
      },
      "text/plain": [
       "VBox(children=(Label(value='Waiting for wandb.init()...\\r'), FloatProgress(value=0.011113771855565977, max=1.0…"
      ]
     },
     "metadata": {},
     "output_type": "display_data"
    },
    {
     "data": {
      "text/html": [
       "wandb version 0.16.6 is available!  To upgrade, please run:\n",
       " $ pip install wandb --upgrade"
      ],
      "text/plain": [
       "<IPython.core.display.HTML object>"
      ]
     },
     "metadata": {},
     "output_type": "display_data"
    },
    {
     "data": {
      "text/html": [
       "Tracking run with wandb version 0.15.12"
      ],
      "text/plain": [
       "<IPython.core.display.HTML object>"
      ]
     },
     "metadata": {},
     "output_type": "display_data"
    },
    {
     "data": {
      "text/html": [
       "Run data is saved locally in <code>/home/chenlequn/GitHub/MultiSensor-Monitoring-LW-DED/Code/wandb/run-20240411_151509-bym7p36r</code>"
      ],
      "text/plain": [
       "<IPython.core.display.HTML object>"
      ]
     },
     "metadata": {},
     "output_type": "display_data"
    },
    {
     "data": {
      "text/html": [
       "Syncing run <strong><a href='https://wandb.ai/lequn/LW-DED_audio-classification/runs/bym7p36r' target=\"_blank\">RUSBoost_Ablated 4</a></strong> to <a href='https://wandb.ai/lequn/LW-DED_audio-classification' target=\"_blank\">Weights & Biases</a> (<a href='https://wandb.me/run' target=\"_blank\">docs</a>)<br/>"
      ],
      "text/plain": [
       "<IPython.core.display.HTML object>"
      ]
     },
     "metadata": {},
     "output_type": "display_data"
    },
    {
     "data": {
      "text/html": [
       " View project at <a href='https://wandb.ai/lequn/LW-DED_audio-classification' target=\"_blank\">https://wandb.ai/lequn/LW-DED_audio-classification</a>"
      ],
      "text/plain": [
       "<IPython.core.display.HTML object>"
      ]
     },
     "metadata": {},
     "output_type": "display_data"
    },
    {
     "data": {
      "text/html": [
       " View run at <a href='https://wandb.ai/lequn/LW-DED_audio-classification/runs/bym7p36r' target=\"_blank\">https://wandb.ai/lequn/LW-DED_audio-classification/runs/bym7p36r</a>"
      ],
      "text/plain": [
       "<IPython.core.display.HTML object>"
      ]
     },
     "metadata": {},
     "output_type": "display_data"
    },
    {
     "name": "stdout",
     "output_type": "stream",
     "text": [
      "\t\tAccuracy: Mean = 0.9031773293258908, Std = 0.020070294613663532\n",
      "\t\tF1 Score: Mean = 0.9080340916851177, Std = 0.01987496769421717\n",
      "\t\tPrecision: Mean = 0.9177517139152475, Std = 0.023060360433262105\n",
      "\t\tRecall: Mean = 0.9031773293258908, Std = 0.020070294613663532\n",
      "\t\tROC-AUC: Mean = 0.9762269509519099, Std = 0.005533477930803821\n"
     ]
    },
    {
     "data": {
      "text/html": [
       "Waiting for W&B process to finish... <strong style=\"color:green\">(success).</strong>"
      ],
      "text/plain": [
       "<IPython.core.display.HTML object>"
      ]
     },
     "metadata": {},
     "output_type": "display_data"
    },
    {
     "data": {
      "text/html": [
       "<style>\n",
       "    table.wandb td:nth-child(1) { padding: 0 10px; text-align: left ; width: auto;} td:nth-child(2) {text-align: left ; width: 100%}\n",
       "    .wandb-row { display: flex; flex-direction: row; flex-wrap: wrap; justify-content: flex-start; width: 100% }\n",
       "    .wandb-col { display: flex; flex-direction: column; flex-basis: 100%; flex: 1; padding: 10px; }\n",
       "    </style>\n",
       "<div class=\"wandb-row\"><div class=\"wandb-col\"><h3>Run history:</h3><br/><table class=\"wandb\"><tr><td>Accuracy_mean</td><td>▁</td></tr><tr><td>Accuracy_std</td><td>▁</td></tr><tr><td>F1 Score_mean</td><td>▁</td></tr><tr><td>F1 Score_std</td><td>▁</td></tr><tr><td>Precision_mean</td><td>▁</td></tr><tr><td>Precision_std</td><td>▁</td></tr><tr><td>ROC-AUC_mean</td><td>▁</td></tr><tr><td>ROC-AUC_std</td><td>▁</td></tr><tr><td>Recall_mean</td><td>▁</td></tr><tr><td>Recall_std</td><td>▁</td></tr></table><br/></div><div class=\"wandb-col\"><h3>Run summary:</h3><br/><table class=\"wandb\"><tr><td>Accuracy_mean</td><td>0.90318</td></tr><tr><td>Accuracy_std</td><td>0.02007</td></tr><tr><td>F1 Score_mean</td><td>0.90803</td></tr><tr><td>F1 Score_std</td><td>0.01987</td></tr><tr><td>Precision_mean</td><td>0.91775</td></tr><tr><td>Precision_std</td><td>0.02306</td></tr><tr><td>ROC-AUC_mean</td><td>0.97623</td></tr><tr><td>ROC-AUC_std</td><td>0.00553</td></tr><tr><td>Recall_mean</td><td>0.90318</td></tr><tr><td>Recall_std</td><td>0.02007</td></tr></table><br/></div></div>"
      ],
      "text/plain": [
       "<IPython.core.display.HTML object>"
      ]
     },
     "metadata": {},
     "output_type": "display_data"
    },
    {
     "data": {
      "text/html": [
       " View run <strong style=\"color:#cdcd00\">RUSBoost_Ablated 4</strong> at: <a href='https://wandb.ai/lequn/LW-DED_audio-classification/runs/bym7p36r' target=\"_blank\">https://wandb.ai/lequn/LW-DED_audio-classification/runs/bym7p36r</a><br/> View job at <a href='https://wandb.ai/lequn/LW-DED_audio-classification/jobs/QXJ0aWZhY3RDb2xsZWN0aW9uOjE2MTUxNDY2MA==/version_details/v12' target=\"_blank\">https://wandb.ai/lequn/LW-DED_audio-classification/jobs/QXJ0aWZhY3RDb2xsZWN0aW9uOjE2MTUxNDY2MA==/version_details/v12</a><br/>Synced 6 W&B file(s), 0 media file(s), 0 artifact file(s) and 0 other file(s)"
      ],
      "text/plain": [
       "<IPython.core.display.HTML object>"
      ]
     },
     "metadata": {},
     "output_type": "display_data"
    },
    {
     "data": {
      "text/html": [
       "Find logs at: <code>./wandb/run-20240411_151509-bym7p36r/logs</code>"
      ],
      "text/plain": [
       "<IPython.core.display.HTML object>"
      ]
     },
     "metadata": {},
     "output_type": "display_data"
    },
    {
     "name": "stdout",
     "output_type": "stream",
     "text": [
      "\tTraining model: Ada\n"
     ]
    },
    {
     "data": {
      "application/vnd.jupyter.widget-view+json": {
       "model_id": "29923acdbc7845939de0075e72669a0d",
       "version_major": 2,
       "version_minor": 0
      },
      "text/plain": [
       "VBox(children=(Label(value='Waiting for wandb.init()...\\r'), FloatProgress(value=0.011114182711106776, max=1.0…"
      ]
     },
     "metadata": {},
     "output_type": "display_data"
    },
    {
     "data": {
      "text/html": [
       "wandb version 0.16.6 is available!  To upgrade, please run:\n",
       " $ pip install wandb --upgrade"
      ],
      "text/plain": [
       "<IPython.core.display.HTML object>"
      ]
     },
     "metadata": {},
     "output_type": "display_data"
    },
    {
     "data": {
      "text/html": [
       "Tracking run with wandb version 0.15.12"
      ],
      "text/plain": [
       "<IPython.core.display.HTML object>"
      ]
     },
     "metadata": {},
     "output_type": "display_data"
    },
    {
     "data": {
      "text/html": [
       "Run data is saved locally in <code>/home/chenlequn/GitHub/MultiSensor-Monitoring-LW-DED/Code/wandb/run-20240411_151522-y8zgpb8o</code>"
      ],
      "text/plain": [
       "<IPython.core.display.HTML object>"
      ]
     },
     "metadata": {},
     "output_type": "display_data"
    },
    {
     "data": {
      "text/html": [
       "Syncing run <strong><a href='https://wandb.ai/lequn/LW-DED_audio-classification/runs/y8zgpb8o' target=\"_blank\">Ada_Ablated 4</a></strong> to <a href='https://wandb.ai/lequn/LW-DED_audio-classification' target=\"_blank\">Weights & Biases</a> (<a href='https://wandb.me/run' target=\"_blank\">docs</a>)<br/>"
      ],
      "text/plain": [
       "<IPython.core.display.HTML object>"
      ]
     },
     "metadata": {},
     "output_type": "display_data"
    },
    {
     "data": {
      "text/html": [
       " View project at <a href='https://wandb.ai/lequn/LW-DED_audio-classification' target=\"_blank\">https://wandb.ai/lequn/LW-DED_audio-classification</a>"
      ],
      "text/plain": [
       "<IPython.core.display.HTML object>"
      ]
     },
     "metadata": {},
     "output_type": "display_data"
    },
    {
     "data": {
      "text/html": [
       " View run at <a href='https://wandb.ai/lequn/LW-DED_audio-classification/runs/y8zgpb8o' target=\"_blank\">https://wandb.ai/lequn/LW-DED_audio-classification/runs/y8zgpb8o</a>"
      ],
      "text/plain": [
       "<IPython.core.display.HTML object>"
      ]
     },
     "metadata": {},
     "output_type": "display_data"
    },
    {
     "name": "stdout",
     "output_type": "stream",
     "text": [
      "\t\tAccuracy: Mean = 0.9178510090167453, Std = 0.017171921728828296\n",
      "\t\tF1 Score: Mean = 0.9145151779949524, Std = 0.02023586501451679\n",
      "\t\tPrecision: Mean = 0.9159212127164265, Std = 0.01852835629659854\n",
      "\t\tRecall: Mean = 0.9178510090167453, Std = 0.017171921728828296\n",
      "\t\tROC-AUC: Mean = 0.9742803378270141, Std = 0.00555335364464998\n"
     ]
    },
    {
     "data": {
      "text/html": [
       "Waiting for W&B process to finish... <strong style=\"color:green\">(success).</strong>"
      ],
      "text/plain": [
       "<IPython.core.display.HTML object>"
      ]
     },
     "metadata": {},
     "output_type": "display_data"
    },
    {
     "data": {
      "text/html": [
       "<style>\n",
       "    table.wandb td:nth-child(1) { padding: 0 10px; text-align: left ; width: auto;} td:nth-child(2) {text-align: left ; width: 100%}\n",
       "    .wandb-row { display: flex; flex-direction: row; flex-wrap: wrap; justify-content: flex-start; width: 100% }\n",
       "    .wandb-col { display: flex; flex-direction: column; flex-basis: 100%; flex: 1; padding: 10px; }\n",
       "    </style>\n",
       "<div class=\"wandb-row\"><div class=\"wandb-col\"><h3>Run history:</h3><br/><table class=\"wandb\"><tr><td>Accuracy_mean</td><td>▁</td></tr><tr><td>Accuracy_std</td><td>▁</td></tr><tr><td>F1 Score_mean</td><td>▁</td></tr><tr><td>F1 Score_std</td><td>▁</td></tr><tr><td>Precision_mean</td><td>▁</td></tr><tr><td>Precision_std</td><td>▁</td></tr><tr><td>ROC-AUC_mean</td><td>▁</td></tr><tr><td>ROC-AUC_std</td><td>▁</td></tr><tr><td>Recall_mean</td><td>▁</td></tr><tr><td>Recall_std</td><td>▁</td></tr></table><br/></div><div class=\"wandb-col\"><h3>Run summary:</h3><br/><table class=\"wandb\"><tr><td>Accuracy_mean</td><td>0.91785</td></tr><tr><td>Accuracy_std</td><td>0.01717</td></tr><tr><td>F1 Score_mean</td><td>0.91452</td></tr><tr><td>F1 Score_std</td><td>0.02024</td></tr><tr><td>Precision_mean</td><td>0.91592</td></tr><tr><td>Precision_std</td><td>0.01853</td></tr><tr><td>ROC-AUC_mean</td><td>0.97428</td></tr><tr><td>ROC-AUC_std</td><td>0.00555</td></tr><tr><td>Recall_mean</td><td>0.91785</td></tr><tr><td>Recall_std</td><td>0.01717</td></tr></table><br/></div></div>"
      ],
      "text/plain": [
       "<IPython.core.display.HTML object>"
      ]
     },
     "metadata": {},
     "output_type": "display_data"
    },
    {
     "data": {
      "text/html": [
       " View run <strong style=\"color:#cdcd00\">Ada_Ablated 4</strong> at: <a href='https://wandb.ai/lequn/LW-DED_audio-classification/runs/y8zgpb8o' target=\"_blank\">https://wandb.ai/lequn/LW-DED_audio-classification/runs/y8zgpb8o</a><br/> View job at <a href='https://wandb.ai/lequn/LW-DED_audio-classification/jobs/QXJ0aWZhY3RDb2xsZWN0aW9uOjE2MTUxNDY2MA==/version_details/v12' target=\"_blank\">https://wandb.ai/lequn/LW-DED_audio-classification/jobs/QXJ0aWZhY3RDb2xsZWN0aW9uOjE2MTUxNDY2MA==/version_details/v12</a><br/>Synced 6 W&B file(s), 0 media file(s), 0 artifact file(s) and 0 other file(s)"
      ],
      "text/plain": [
       "<IPython.core.display.HTML object>"
      ]
     },
     "metadata": {},
     "output_type": "display_data"
    },
    {
     "data": {
      "text/html": [
       "Find logs at: <code>./wandb/run-20240411_151522-y8zgpb8o/logs</code>"
      ],
      "text/plain": [
       "<IPython.core.display.HTML object>"
      ]
     },
     "metadata": {},
     "output_type": "display_data"
    },
    {
     "name": "stdout",
     "output_type": "stream",
     "text": [
      "\tTraining model: NN\n"
     ]
    },
    {
     "data": {
      "application/vnd.jupyter.widget-view+json": {
       "model_id": "c2c2bdd3a08740659cbf86ece1dbf9e7",
       "version_major": 2,
       "version_minor": 0
      },
      "text/plain": [
       "VBox(children=(Label(value='Waiting for wandb.init()...\\r'), FloatProgress(value=0.01111416990000483, max=1.0)…"
      ]
     },
     "metadata": {},
     "output_type": "display_data"
    },
    {
     "data": {
      "text/html": [
       "wandb version 0.16.6 is available!  To upgrade, please run:\n",
       " $ pip install wandb --upgrade"
      ],
      "text/plain": [
       "<IPython.core.display.HTML object>"
      ]
     },
     "metadata": {},
     "output_type": "display_data"
    },
    {
     "data": {
      "text/html": [
       "Tracking run with wandb version 0.15.12"
      ],
      "text/plain": [
       "<IPython.core.display.HTML object>"
      ]
     },
     "metadata": {},
     "output_type": "display_data"
    },
    {
     "data": {
      "text/html": [
       "Run data is saved locally in <code>/home/chenlequn/GitHub/MultiSensor-Monitoring-LW-DED/Code/wandb/run-20240411_151536-lwc18v9p</code>"
      ],
      "text/plain": [
       "<IPython.core.display.HTML object>"
      ]
     },
     "metadata": {},
     "output_type": "display_data"
    },
    {
     "data": {
      "text/html": [
       "Syncing run <strong><a href='https://wandb.ai/lequn/LW-DED_audio-classification/runs/lwc18v9p' target=\"_blank\">NN_Ablated 4</a></strong> to <a href='https://wandb.ai/lequn/LW-DED_audio-classification' target=\"_blank\">Weights & Biases</a> (<a href='https://wandb.me/run' target=\"_blank\">docs</a>)<br/>"
      ],
      "text/plain": [
       "<IPython.core.display.HTML object>"
      ]
     },
     "metadata": {},
     "output_type": "display_data"
    },
    {
     "data": {
      "text/html": [
       " View project at <a href='https://wandb.ai/lequn/LW-DED_audio-classification' target=\"_blank\">https://wandb.ai/lequn/LW-DED_audio-classification</a>"
      ],
      "text/plain": [
       "<IPython.core.display.HTML object>"
      ]
     },
     "metadata": {},
     "output_type": "display_data"
    },
    {
     "data": {
      "text/html": [
       " View run at <a href='https://wandb.ai/lequn/LW-DED_audio-classification/runs/lwc18v9p' target=\"_blank\">https://wandb.ai/lequn/LW-DED_audio-classification/runs/lwc18v9p</a>"
      ],
      "text/plain": [
       "<IPython.core.display.HTML object>"
      ]
     },
     "metadata": {},
     "output_type": "display_data"
    },
    {
     "name": "stdout",
     "output_type": "stream",
     "text": [
      "\t\tAccuracy: Mean = 0.9354980678402749, Std = 0.0084506613923973\n",
      "\t\tF1 Score: Mean = 0.9337415995122262, Std = 0.007922608261541992\n",
      "\t\tPrecision: Mean = 0.9364536524127971, Std = 0.01017469277939917\n",
      "\t\tRecall: Mean = 0.9354980678402749, Std = 0.0084506613923973\n",
      "\t\tROC-AUC: Mean = 0.9906237505431722, Std = 0.0032047222192242344\n"
     ]
    },
    {
     "data": {
      "text/html": [
       "Waiting for W&B process to finish... <strong style=\"color:green\">(success).</strong>"
      ],
      "text/plain": [
       "<IPython.core.display.HTML object>"
      ]
     },
     "metadata": {},
     "output_type": "display_data"
    },
    {
     "data": {
      "text/html": [
       "<style>\n",
       "    table.wandb td:nth-child(1) { padding: 0 10px; text-align: left ; width: auto;} td:nth-child(2) {text-align: left ; width: 100%}\n",
       "    .wandb-row { display: flex; flex-direction: row; flex-wrap: wrap; justify-content: flex-start; width: 100% }\n",
       "    .wandb-col { display: flex; flex-direction: column; flex-basis: 100%; flex: 1; padding: 10px; }\n",
       "    </style>\n",
       "<div class=\"wandb-row\"><div class=\"wandb-col\"><h3>Run history:</h3><br/><table class=\"wandb\"><tr><td>Accuracy_mean</td><td>▁</td></tr><tr><td>Accuracy_std</td><td>▁</td></tr><tr><td>F1 Score_mean</td><td>▁</td></tr><tr><td>F1 Score_std</td><td>▁</td></tr><tr><td>Precision_mean</td><td>▁</td></tr><tr><td>Precision_std</td><td>▁</td></tr><tr><td>ROC-AUC_mean</td><td>▁</td></tr><tr><td>ROC-AUC_std</td><td>▁</td></tr><tr><td>Recall_mean</td><td>▁</td></tr><tr><td>Recall_std</td><td>▁</td></tr></table><br/></div><div class=\"wandb-col\"><h3>Run summary:</h3><br/><table class=\"wandb\"><tr><td>Accuracy_mean</td><td>0.9355</td></tr><tr><td>Accuracy_std</td><td>0.00845</td></tr><tr><td>F1 Score_mean</td><td>0.93374</td></tr><tr><td>F1 Score_std</td><td>0.00792</td></tr><tr><td>Precision_mean</td><td>0.93645</td></tr><tr><td>Precision_std</td><td>0.01017</td></tr><tr><td>ROC-AUC_mean</td><td>0.99062</td></tr><tr><td>ROC-AUC_std</td><td>0.0032</td></tr><tr><td>Recall_mean</td><td>0.9355</td></tr><tr><td>Recall_std</td><td>0.00845</td></tr></table><br/></div></div>"
      ],
      "text/plain": [
       "<IPython.core.display.HTML object>"
      ]
     },
     "metadata": {},
     "output_type": "display_data"
    },
    {
     "data": {
      "text/html": [
       " View run <strong style=\"color:#cdcd00\">NN_Ablated 4</strong> at: <a href='https://wandb.ai/lequn/LW-DED_audio-classification/runs/lwc18v9p' target=\"_blank\">https://wandb.ai/lequn/LW-DED_audio-classification/runs/lwc18v9p</a><br/> View job at <a href='https://wandb.ai/lequn/LW-DED_audio-classification/jobs/QXJ0aWZhY3RDb2xsZWN0aW9uOjE2MTUxNDY2MA==/version_details/v12' target=\"_blank\">https://wandb.ai/lequn/LW-DED_audio-classification/jobs/QXJ0aWZhY3RDb2xsZWN0aW9uOjE2MTUxNDY2MA==/version_details/v12</a><br/>Synced 6 W&B file(s), 0 media file(s), 0 artifact file(s) and 0 other file(s)"
      ],
      "text/plain": [
       "<IPython.core.display.HTML object>"
      ]
     },
     "metadata": {},
     "output_type": "display_data"
    },
    {
     "data": {
      "text/html": [
       "Find logs at: <code>./wandb/run-20240411_151536-lwc18v9p/logs</code>"
      ],
      "text/plain": [
       "<IPython.core.display.HTML object>"
      ]
     },
     "metadata": {},
     "output_type": "display_data"
    },
    {
     "name": "stdout",
     "output_type": "stream",
     "text": [
      "\tTraining model: XGBoost\n"
     ]
    },
    {
     "data": {
      "application/vnd.jupyter.widget-view+json": {
       "model_id": "93b73b054d934e77a4c7668f22b38566",
       "version_major": 2,
       "version_minor": 0
      },
      "text/plain": [
       "VBox(children=(Label(value='Waiting for wandb.init()...\\r'), FloatProgress(value=0.011113835333324258, max=1.0…"
      ]
     },
     "metadata": {},
     "output_type": "display_data"
    },
    {
     "data": {
      "text/html": [
       "wandb version 0.16.6 is available!  To upgrade, please run:\n",
       " $ pip install wandb --upgrade"
      ],
      "text/plain": [
       "<IPython.core.display.HTML object>"
      ]
     },
     "metadata": {},
     "output_type": "display_data"
    },
    {
     "data": {
      "text/html": [
       "Tracking run with wandb version 0.15.12"
      ],
      "text/plain": [
       "<IPython.core.display.HTML object>"
      ]
     },
     "metadata": {},
     "output_type": "display_data"
    },
    {
     "data": {
      "text/html": [
       "Run data is saved locally in <code>/home/chenlequn/GitHub/MultiSensor-Monitoring-LW-DED/Code/wandb/run-20240411_151550-etxgse8q</code>"
      ],
      "text/plain": [
       "<IPython.core.display.HTML object>"
      ]
     },
     "metadata": {},
     "output_type": "display_data"
    },
    {
     "data": {
      "text/html": [
       "Syncing run <strong><a href='https://wandb.ai/lequn/LW-DED_audio-classification/runs/etxgse8q' target=\"_blank\">XGBoost_Ablated 4</a></strong> to <a href='https://wandb.ai/lequn/LW-DED_audio-classification' target=\"_blank\">Weights & Biases</a> (<a href='https://wandb.me/run' target=\"_blank\">docs</a>)<br/>"
      ],
      "text/plain": [
       "<IPython.core.display.HTML object>"
      ]
     },
     "metadata": {},
     "output_type": "display_data"
    },
    {
     "data": {
      "text/html": [
       " View project at <a href='https://wandb.ai/lequn/LW-DED_audio-classification' target=\"_blank\">https://wandb.ai/lequn/LW-DED_audio-classification</a>"
      ],
      "text/plain": [
       "<IPython.core.display.HTML object>"
      ]
     },
     "metadata": {},
     "output_type": "display_data"
    },
    {
     "data": {
      "text/html": [
       " View run at <a href='https://wandb.ai/lequn/LW-DED_audio-classification/runs/etxgse8q' target=\"_blank\">https://wandb.ai/lequn/LW-DED_audio-classification/runs/etxgse8q</a>"
      ],
      "text/plain": [
       "<IPython.core.display.HTML object>"
      ]
     },
     "metadata": {},
     "output_type": "display_data"
    },
    {
     "name": "stdout",
     "output_type": "stream",
     "text": [
      "[15:15:55] WARNING: ../src/learner.cc:339: No visible GPU is found, setting `gpu_id` to -1\n",
      "\t\tAccuracy: Mean = 0.9208136539287249, Std = 0.024324170429539695\n",
      "\t\tF1 Score: Mean = 0.9192302007988479, Std = 0.024019262382554925\n",
      "\t\tPrecision: Mean = 0.9223643065166399, Std = 0.02419110775473505\n",
      "\t\tRecall: Mean = 0.9208136539287249, Std = 0.024324170429539695\n",
      "\t\tROC-AUC: Mean = 0.9896039855941158, Std = 0.0031988091197462263\n"
     ]
    },
    {
     "data": {
      "text/html": [
       "Waiting for W&B process to finish... <strong style=\"color:green\">(success).</strong>"
      ],
      "text/plain": [
       "<IPython.core.display.HTML object>"
      ]
     },
     "metadata": {},
     "output_type": "display_data"
    },
    {
     "data": {
      "application/vnd.jupyter.widget-view+json": {
       "model_id": "0608b24788e6476b9016be7cb72ddf19",
       "version_major": 2,
       "version_minor": 0
      },
      "text/plain": [
       "VBox(children=(Label(value='0.004 MB of 0.004 MB uploaded (0.000 MB deduped)\\r'), FloatProgress(value=1.0, max…"
      ]
     },
     "metadata": {},
     "output_type": "display_data"
    },
    {
     "data": {
      "text/html": [
       "<style>\n",
       "    table.wandb td:nth-child(1) { padding: 0 10px; text-align: left ; width: auto;} td:nth-child(2) {text-align: left ; width: 100%}\n",
       "    .wandb-row { display: flex; flex-direction: row; flex-wrap: wrap; justify-content: flex-start; width: 100% }\n",
       "    .wandb-col { display: flex; flex-direction: column; flex-basis: 100%; flex: 1; padding: 10px; }\n",
       "    </style>\n",
       "<div class=\"wandb-row\"><div class=\"wandb-col\"><h3>Run history:</h3><br/><table class=\"wandb\"><tr><td>Accuracy_mean</td><td>▁</td></tr><tr><td>Accuracy_std</td><td>▁</td></tr><tr><td>F1 Score_mean</td><td>▁</td></tr><tr><td>F1 Score_std</td><td>▁</td></tr><tr><td>Precision_mean</td><td>▁</td></tr><tr><td>Precision_std</td><td>▁</td></tr><tr><td>ROC-AUC_mean</td><td>▁</td></tr><tr><td>ROC-AUC_std</td><td>▁</td></tr><tr><td>Recall_mean</td><td>▁</td></tr><tr><td>Recall_std</td><td>▁</td></tr></table><br/></div><div class=\"wandb-col\"><h3>Run summary:</h3><br/><table class=\"wandb\"><tr><td>Accuracy_mean</td><td>0.92081</td></tr><tr><td>Accuracy_std</td><td>0.02432</td></tr><tr><td>F1 Score_mean</td><td>0.91923</td></tr><tr><td>F1 Score_std</td><td>0.02402</td></tr><tr><td>Precision_mean</td><td>0.92236</td></tr><tr><td>Precision_std</td><td>0.02419</td></tr><tr><td>ROC-AUC_mean</td><td>0.9896</td></tr><tr><td>ROC-AUC_std</td><td>0.0032</td></tr><tr><td>Recall_mean</td><td>0.92081</td></tr><tr><td>Recall_std</td><td>0.02432</td></tr></table><br/></div></div>"
      ],
      "text/plain": [
       "<IPython.core.display.HTML object>"
      ]
     },
     "metadata": {},
     "output_type": "display_data"
    },
    {
     "data": {
      "text/html": [
       " View run <strong style=\"color:#cdcd00\">XGBoost_Ablated 4</strong> at: <a href='https://wandb.ai/lequn/LW-DED_audio-classification/runs/etxgse8q' target=\"_blank\">https://wandb.ai/lequn/LW-DED_audio-classification/runs/etxgse8q</a><br/> View job at <a href='https://wandb.ai/lequn/LW-DED_audio-classification/jobs/QXJ0aWZhY3RDb2xsZWN0aW9uOjE2MTUxNDY2MA==/version_details/v12' target=\"_blank\">https://wandb.ai/lequn/LW-DED_audio-classification/jobs/QXJ0aWZhY3RDb2xsZWN0aW9uOjE2MTUxNDY2MA==/version_details/v12</a><br/>Synced 6 W&B file(s), 0 media file(s), 0 artifact file(s) and 0 other file(s)"
      ],
      "text/plain": [
       "<IPython.core.display.HTML object>"
      ]
     },
     "metadata": {},
     "output_type": "display_data"
    },
    {
     "data": {
      "text/html": [
       "Find logs at: <code>./wandb/run-20240411_151550-etxgse8q/logs</code>"
      ],
      "text/plain": [
       "<IPython.core.display.HTML object>"
      ]
     },
     "metadata": {},
     "output_type": "display_data"
    },
    {
     "name": "stdout",
     "output_type": "stream",
     "text": [
      "\tTraining model: LightGBM\n"
     ]
    },
    {
     "data": {
      "application/vnd.jupyter.widget-view+json": {
       "model_id": "803931b3258d447b9fe68a56faf1dfda",
       "version_major": 2,
       "version_minor": 0
      },
      "text/plain": [
       "VBox(children=(Label(value='Waiting for wandb.init()...\\r'), FloatProgress(value=0.011113906333331315, max=1.0…"
      ]
     },
     "metadata": {},
     "output_type": "display_data"
    },
    {
     "data": {
      "text/html": [
       "wandb version 0.16.6 is available!  To upgrade, please run:\n",
       " $ pip install wandb --upgrade"
      ],
      "text/plain": [
       "<IPython.core.display.HTML object>"
      ]
     },
     "metadata": {},
     "output_type": "display_data"
    },
    {
     "data": {
      "text/html": [
       "Tracking run with wandb version 0.15.12"
      ],
      "text/plain": [
       "<IPython.core.display.HTML object>"
      ]
     },
     "metadata": {},
     "output_type": "display_data"
    },
    {
     "data": {
      "text/html": [
       "Run data is saved locally in <code>/home/chenlequn/GitHub/MultiSensor-Monitoring-LW-DED/Code/wandb/run-20240411_151603-naw8i96m</code>"
      ],
      "text/plain": [
       "<IPython.core.display.HTML object>"
      ]
     },
     "metadata": {},
     "output_type": "display_data"
    },
    {
     "data": {
      "text/html": [
       "Syncing run <strong><a href='https://wandb.ai/lequn/LW-DED_audio-classification/runs/naw8i96m' target=\"_blank\">LightGBM_Ablated 4</a></strong> to <a href='https://wandb.ai/lequn/LW-DED_audio-classification' target=\"_blank\">Weights & Biases</a> (<a href='https://wandb.me/run' target=\"_blank\">docs</a>)<br/>"
      ],
      "text/plain": [
       "<IPython.core.display.HTML object>"
      ]
     },
     "metadata": {},
     "output_type": "display_data"
    },
    {
     "data": {
      "text/html": [
       " View project at <a href='https://wandb.ai/lequn/LW-DED_audio-classification' target=\"_blank\">https://wandb.ai/lequn/LW-DED_audio-classification</a>"
      ],
      "text/plain": [
       "<IPython.core.display.HTML object>"
      ]
     },
     "metadata": {},
     "output_type": "display_data"
    },
    {
     "data": {
      "text/html": [
       " View run at <a href='https://wandb.ai/lequn/LW-DED_audio-classification/runs/naw8i96m' target=\"_blank\">https://wandb.ai/lequn/LW-DED_audio-classification/runs/naw8i96m</a>"
      ],
      "text/plain": [
       "<IPython.core.display.HTML object>"
      ]
     },
     "metadata": {},
     "output_type": "display_data"
    },
    {
     "name": "stdout",
     "output_type": "stream",
     "text": [
      "\t\tAccuracy: Mean = 0.9339738085015027, Std = 0.024672493602408776\n",
      "\t\tF1 Score: Mean = 0.9325552227010047, Std = 0.024420325357228663\n",
      "\t\tPrecision: Mean = 0.9359068750423631, Std = 0.024825348087794297\n",
      "\t\tRecall: Mean = 0.9339738085015027, Std = 0.024672493602408776\n",
      "\t\tROC-AUC: Mean = 0.9903524295509925, Std = 0.003559641439258975\n"
     ]
    },
    {
     "data": {
      "text/html": [
       "Waiting for W&B process to finish... <strong style=\"color:green\">(success).</strong>"
      ],
      "text/plain": [
       "<IPython.core.display.HTML object>"
      ]
     },
     "metadata": {},
     "output_type": "display_data"
    },
    {
     "data": {
      "text/html": [
       "<style>\n",
       "    table.wandb td:nth-child(1) { padding: 0 10px; text-align: left ; width: auto;} td:nth-child(2) {text-align: left ; width: 100%}\n",
       "    .wandb-row { display: flex; flex-direction: row; flex-wrap: wrap; justify-content: flex-start; width: 100% }\n",
       "    .wandb-col { display: flex; flex-direction: column; flex-basis: 100%; flex: 1; padding: 10px; }\n",
       "    </style>\n",
       "<div class=\"wandb-row\"><div class=\"wandb-col\"><h3>Run history:</h3><br/><table class=\"wandb\"><tr><td>Accuracy_mean</td><td>▁</td></tr><tr><td>Accuracy_std</td><td>▁</td></tr><tr><td>F1 Score_mean</td><td>▁</td></tr><tr><td>F1 Score_std</td><td>▁</td></tr><tr><td>Precision_mean</td><td>▁</td></tr><tr><td>Precision_std</td><td>▁</td></tr><tr><td>ROC-AUC_mean</td><td>▁</td></tr><tr><td>ROC-AUC_std</td><td>▁</td></tr><tr><td>Recall_mean</td><td>▁</td></tr><tr><td>Recall_std</td><td>▁</td></tr></table><br/></div><div class=\"wandb-col\"><h3>Run summary:</h3><br/><table class=\"wandb\"><tr><td>Accuracy_mean</td><td>0.93397</td></tr><tr><td>Accuracy_std</td><td>0.02467</td></tr><tr><td>F1 Score_mean</td><td>0.93256</td></tr><tr><td>F1 Score_std</td><td>0.02442</td></tr><tr><td>Precision_mean</td><td>0.93591</td></tr><tr><td>Precision_std</td><td>0.02483</td></tr><tr><td>ROC-AUC_mean</td><td>0.99035</td></tr><tr><td>ROC-AUC_std</td><td>0.00356</td></tr><tr><td>Recall_mean</td><td>0.93397</td></tr><tr><td>Recall_std</td><td>0.02467</td></tr></table><br/></div></div>"
      ],
      "text/plain": [
       "<IPython.core.display.HTML object>"
      ]
     },
     "metadata": {},
     "output_type": "display_data"
    },
    {
     "data": {
      "text/html": [
       " View run <strong style=\"color:#cdcd00\">LightGBM_Ablated 4</strong> at: <a href='https://wandb.ai/lequn/LW-DED_audio-classification/runs/naw8i96m' target=\"_blank\">https://wandb.ai/lequn/LW-DED_audio-classification/runs/naw8i96m</a><br/> View job at <a href='https://wandb.ai/lequn/LW-DED_audio-classification/jobs/QXJ0aWZhY3RDb2xsZWN0aW9uOjE2MTUxNDY2MA==/version_details/v12' target=\"_blank\">https://wandb.ai/lequn/LW-DED_audio-classification/jobs/QXJ0aWZhY3RDb2xsZWN0aW9uOjE2MTUxNDY2MA==/version_details/v12</a><br/>Synced 6 W&B file(s), 0 media file(s), 0 artifact file(s) and 0 other file(s)"
      ],
      "text/plain": [
       "<IPython.core.display.HTML object>"
      ]
     },
     "metadata": {},
     "output_type": "display_data"
    },
    {
     "data": {
      "text/html": [
       "Find logs at: <code>./wandb/run-20240411_151603-naw8i96m/logs</code>"
      ],
      "text/plain": [
       "<IPython.core.display.HTML object>"
      ]
     },
     "metadata": {},
     "output_type": "display_data"
    },
    {
     "name": "stdout",
     "output_type": "stream",
     "text": [
      "\tTraining model: SVM\n"
     ]
    },
    {
     "data": {
      "application/vnd.jupyter.widget-view+json": {
       "model_id": "61f592484b1f45fc813e4789f661b700",
       "version_major": 2,
       "version_minor": 0
      },
      "text/plain": [
       "VBox(children=(Label(value='Waiting for wandb.init()...\\r'), FloatProgress(value=0.011113230644413205, max=1.0…"
      ]
     },
     "metadata": {},
     "output_type": "display_data"
    },
    {
     "data": {
      "text/html": [
       "wandb version 0.16.6 is available!  To upgrade, please run:\n",
       " $ pip install wandb --upgrade"
      ],
      "text/plain": [
       "<IPython.core.display.HTML object>"
      ]
     },
     "metadata": {},
     "output_type": "display_data"
    },
    {
     "data": {
      "text/html": [
       "Tracking run with wandb version 0.15.12"
      ],
      "text/plain": [
       "<IPython.core.display.HTML object>"
      ]
     },
     "metadata": {},
     "output_type": "display_data"
    },
    {
     "data": {
      "text/html": [
       "Run data is saved locally in <code>/home/chenlequn/GitHub/MultiSensor-Monitoring-LW-DED/Code/wandb/run-20240411_151615-f2y9ppgf</code>"
      ],
      "text/plain": [
       "<IPython.core.display.HTML object>"
      ]
     },
     "metadata": {},
     "output_type": "display_data"
    },
    {
     "data": {
      "text/html": [
       "Syncing run <strong><a href='https://wandb.ai/lequn/LW-DED_audio-classification/runs/f2y9ppgf' target=\"_blank\">SVM_Ablated 4</a></strong> to <a href='https://wandb.ai/lequn/LW-DED_audio-classification' target=\"_blank\">Weights & Biases</a> (<a href='https://wandb.me/run' target=\"_blank\">docs</a>)<br/>"
      ],
      "text/plain": [
       "<IPython.core.display.HTML object>"
      ]
     },
     "metadata": {},
     "output_type": "display_data"
    },
    {
     "data": {
      "text/html": [
       " View project at <a href='https://wandb.ai/lequn/LW-DED_audio-classification' target=\"_blank\">https://wandb.ai/lequn/LW-DED_audio-classification</a>"
      ],
      "text/plain": [
       "<IPython.core.display.HTML object>"
      ]
     },
     "metadata": {},
     "output_type": "display_data"
    },
    {
     "data": {
      "text/html": [
       " View run at <a href='https://wandb.ai/lequn/LW-DED_audio-classification/runs/f2y9ppgf' target=\"_blank\">https://wandb.ai/lequn/LW-DED_audio-classification/runs/f2y9ppgf</a>"
      ],
      "text/plain": [
       "<IPython.core.display.HTML object>"
      ]
     },
     "metadata": {},
     "output_type": "display_data"
    },
    {
     "name": "stdout",
     "output_type": "stream",
     "text": [
      "\t\tAccuracy: Mean = 0.9105732073851438, Std = 0.029456829578871722\n",
      "\t\tF1 Score: Mean = 0.9120992397779151, Std = 0.026062631587214703\n",
      "\t\tPrecision: Mean = 0.9173454169081653, Std = 0.02348180859524792\n",
      "\t\tRecall: Mean = 0.9105732073851438, Std = 0.029456829578871722\n",
      "\t\tROC-AUC: Mean = 0.9836647181851795, Std = 0.0044609729697660085\n"
     ]
    },
    {
     "data": {
      "text/html": [
       "Waiting for W&B process to finish... <strong style=\"color:green\">(success).</strong>"
      ],
      "text/plain": [
       "<IPython.core.display.HTML object>"
      ]
     },
     "metadata": {},
     "output_type": "display_data"
    },
    {
     "data": {
      "text/html": [
       "<style>\n",
       "    table.wandb td:nth-child(1) { padding: 0 10px; text-align: left ; width: auto;} td:nth-child(2) {text-align: left ; width: 100%}\n",
       "    .wandb-row { display: flex; flex-direction: row; flex-wrap: wrap; justify-content: flex-start; width: 100% }\n",
       "    .wandb-col { display: flex; flex-direction: column; flex-basis: 100%; flex: 1; padding: 10px; }\n",
       "    </style>\n",
       "<div class=\"wandb-row\"><div class=\"wandb-col\"><h3>Run history:</h3><br/><table class=\"wandb\"><tr><td>Accuracy_mean</td><td>▁</td></tr><tr><td>Accuracy_std</td><td>▁</td></tr><tr><td>F1 Score_mean</td><td>▁</td></tr><tr><td>F1 Score_std</td><td>▁</td></tr><tr><td>Precision_mean</td><td>▁</td></tr><tr><td>Precision_std</td><td>▁</td></tr><tr><td>ROC-AUC_mean</td><td>▁</td></tr><tr><td>ROC-AUC_std</td><td>▁</td></tr><tr><td>Recall_mean</td><td>▁</td></tr><tr><td>Recall_std</td><td>▁</td></tr></table><br/></div><div class=\"wandb-col\"><h3>Run summary:</h3><br/><table class=\"wandb\"><tr><td>Accuracy_mean</td><td>0.91057</td></tr><tr><td>Accuracy_std</td><td>0.02946</td></tr><tr><td>F1 Score_mean</td><td>0.9121</td></tr><tr><td>F1 Score_std</td><td>0.02606</td></tr><tr><td>Precision_mean</td><td>0.91735</td></tr><tr><td>Precision_std</td><td>0.02348</td></tr><tr><td>ROC-AUC_mean</td><td>0.98366</td></tr><tr><td>ROC-AUC_std</td><td>0.00446</td></tr><tr><td>Recall_mean</td><td>0.91057</td></tr><tr><td>Recall_std</td><td>0.02946</td></tr></table><br/></div></div>"
      ],
      "text/plain": [
       "<IPython.core.display.HTML object>"
      ]
     },
     "metadata": {},
     "output_type": "display_data"
    },
    {
     "data": {
      "text/html": [
       " View run <strong style=\"color:#cdcd00\">SVM_Ablated 4</strong> at: <a href='https://wandb.ai/lequn/LW-DED_audio-classification/runs/f2y9ppgf' target=\"_blank\">https://wandb.ai/lequn/LW-DED_audio-classification/runs/f2y9ppgf</a><br/> View job at <a href='https://wandb.ai/lequn/LW-DED_audio-classification/jobs/QXJ0aWZhY3RDb2xsZWN0aW9uOjE2MTUxNDY2MA==/version_details/v12' target=\"_blank\">https://wandb.ai/lequn/LW-DED_audio-classification/jobs/QXJ0aWZhY3RDb2xsZWN0aW9uOjE2MTUxNDY2MA==/version_details/v12</a><br/>Synced 6 W&B file(s), 0 media file(s), 0 artifact file(s) and 0 other file(s)"
      ],
      "text/plain": [
       "<IPython.core.display.HTML object>"
      ]
     },
     "metadata": {},
     "output_type": "display_data"
    },
    {
     "data": {
      "text/html": [
       "Find logs at: <code>./wandb/run-20240411_151615-f2y9ppgf/logs</code>"
      ],
      "text/plain": [
       "<IPython.core.display.HTML object>"
      ]
     },
     "metadata": {},
     "output_type": "display_data"
    },
    {
     "name": "stdout",
     "output_type": "stream",
     "text": [
      "\tTraining model: HistGB\n"
     ]
    },
    {
     "data": {
      "application/vnd.jupyter.widget-view+json": {
       "model_id": "a7a31d352b244affb90cf61010d106ed",
       "version_major": 2,
       "version_minor": 0
      },
      "text/plain": [
       "VBox(children=(Label(value='Waiting for wandb.init()...\\r'), FloatProgress(value=0.01111399161111169, max=1.0)…"
      ]
     },
     "metadata": {},
     "output_type": "display_data"
    },
    {
     "data": {
      "text/html": [
       "wandb version 0.16.6 is available!  To upgrade, please run:\n",
       " $ pip install wandb --upgrade"
      ],
      "text/plain": [
       "<IPython.core.display.HTML object>"
      ]
     },
     "metadata": {},
     "output_type": "display_data"
    },
    {
     "data": {
      "text/html": [
       "Tracking run with wandb version 0.15.12"
      ],
      "text/plain": [
       "<IPython.core.display.HTML object>"
      ]
     },
     "metadata": {},
     "output_type": "display_data"
    },
    {
     "data": {
      "text/html": [
       "Run data is saved locally in <code>/home/chenlequn/GitHub/MultiSensor-Monitoring-LW-DED/Code/wandb/run-20240411_151627-8tm5h8xs</code>"
      ],
      "text/plain": [
       "<IPython.core.display.HTML object>"
      ]
     },
     "metadata": {},
     "output_type": "display_data"
    },
    {
     "data": {
      "text/html": [
       "Syncing run <strong><a href='https://wandb.ai/lequn/LW-DED_audio-classification/runs/8tm5h8xs' target=\"_blank\">HistGB_Ablated 4</a></strong> to <a href='https://wandb.ai/lequn/LW-DED_audio-classification' target=\"_blank\">Weights & Biases</a> (<a href='https://wandb.me/run' target=\"_blank\">docs</a>)<br/>"
      ],
      "text/plain": [
       "<IPython.core.display.HTML object>"
      ]
     },
     "metadata": {},
     "output_type": "display_data"
    },
    {
     "data": {
      "text/html": [
       " View project at <a href='https://wandb.ai/lequn/LW-DED_audio-classification' target=\"_blank\">https://wandb.ai/lequn/LW-DED_audio-classification</a>"
      ],
      "text/plain": [
       "<IPython.core.display.HTML object>"
      ]
     },
     "metadata": {},
     "output_type": "display_data"
    },
    {
     "data": {
      "text/html": [
       " View run at <a href='https://wandb.ai/lequn/LW-DED_audio-classification/runs/8tm5h8xs' target=\"_blank\">https://wandb.ai/lequn/LW-DED_audio-classification/runs/8tm5h8xs</a>"
      ],
      "text/plain": [
       "<IPython.core.display.HTML object>"
      ]
     },
     "metadata": {},
     "output_type": "display_data"
    },
    {
     "name": "stdout",
     "output_type": "stream",
     "text": [
      "\t\tAccuracy: Mean = 0.9413267496779735, Std = 0.01803829497028462\n",
      "\t\tF1 Score: Mean = 0.941050008339751, Std = 0.017487730095400274\n",
      "\t\tPrecision: Mean = 0.9427548322160128, Std = 0.01698022267539937\n",
      "\t\tRecall: Mean = 0.9413267496779735, Std = 0.01803829497028462\n",
      "\t\tROC-AUC: Mean = 0.9903721259376912, Std = 0.002232979429277916\n"
     ]
    },
    {
     "data": {
      "text/html": [
       "Waiting for W&B process to finish... <strong style=\"color:green\">(success).</strong>"
      ],
      "text/plain": [
       "<IPython.core.display.HTML object>"
      ]
     },
     "metadata": {},
     "output_type": "display_data"
    },
    {
     "data": {
      "text/html": [
       "<style>\n",
       "    table.wandb td:nth-child(1) { padding: 0 10px; text-align: left ; width: auto;} td:nth-child(2) {text-align: left ; width: 100%}\n",
       "    .wandb-row { display: flex; flex-direction: row; flex-wrap: wrap; justify-content: flex-start; width: 100% }\n",
       "    .wandb-col { display: flex; flex-direction: column; flex-basis: 100%; flex: 1; padding: 10px; }\n",
       "    </style>\n",
       "<div class=\"wandb-row\"><div class=\"wandb-col\"><h3>Run history:</h3><br/><table class=\"wandb\"><tr><td>Accuracy_mean</td><td>▁</td></tr><tr><td>Accuracy_std</td><td>▁</td></tr><tr><td>F1 Score_mean</td><td>▁</td></tr><tr><td>F1 Score_std</td><td>▁</td></tr><tr><td>Precision_mean</td><td>▁</td></tr><tr><td>Precision_std</td><td>▁</td></tr><tr><td>ROC-AUC_mean</td><td>▁</td></tr><tr><td>ROC-AUC_std</td><td>▁</td></tr><tr><td>Recall_mean</td><td>▁</td></tr><tr><td>Recall_std</td><td>▁</td></tr></table><br/></div><div class=\"wandb-col\"><h3>Run summary:</h3><br/><table class=\"wandb\"><tr><td>Accuracy_mean</td><td>0.94133</td></tr><tr><td>Accuracy_std</td><td>0.01804</td></tr><tr><td>F1 Score_mean</td><td>0.94105</td></tr><tr><td>F1 Score_std</td><td>0.01749</td></tr><tr><td>Precision_mean</td><td>0.94275</td></tr><tr><td>Precision_std</td><td>0.01698</td></tr><tr><td>ROC-AUC_mean</td><td>0.99037</td></tr><tr><td>ROC-AUC_std</td><td>0.00223</td></tr><tr><td>Recall_mean</td><td>0.94133</td></tr><tr><td>Recall_std</td><td>0.01804</td></tr></table><br/></div></div>"
      ],
      "text/plain": [
       "<IPython.core.display.HTML object>"
      ]
     },
     "metadata": {},
     "output_type": "display_data"
    },
    {
     "data": {
      "text/html": [
       " View run <strong style=\"color:#cdcd00\">HistGB_Ablated 4</strong> at: <a href='https://wandb.ai/lequn/LW-DED_audio-classification/runs/8tm5h8xs' target=\"_blank\">https://wandb.ai/lequn/LW-DED_audio-classification/runs/8tm5h8xs</a><br/> View job at <a href='https://wandb.ai/lequn/LW-DED_audio-classification/jobs/QXJ0aWZhY3RDb2xsZWN0aW9uOjE2MTUxNDY2MA==/version_details/v11' target=\"_blank\">https://wandb.ai/lequn/LW-DED_audio-classification/jobs/QXJ0aWZhY3RDb2xsZWN0aW9uOjE2MTUxNDY2MA==/version_details/v11</a><br/>Synced 6 W&B file(s), 0 media file(s), 0 artifact file(s) and 0 other file(s)"
      ],
      "text/plain": [
       "<IPython.core.display.HTML object>"
      ]
     },
     "metadata": {},
     "output_type": "display_data"
    },
    {
     "data": {
      "text/html": [
       "Find logs at: <code>./wandb/run-20240411_151627-8tm5h8xs/logs</code>"
      ],
      "text/plain": [
       "<IPython.core.display.HTML object>"
      ]
     },
     "metadata": {},
     "output_type": "display_data"
    }
   ],
   "source": [
    "# Initialize KFold with the number of splits you desire\n",
    "kf = KFold(n_splits=5)\n",
    "# Create a dictionary to store final results\n",
    "final_results = defaultdict(list)\n",
    "# Create a dictionary to store temporary cross-validation results for each dataset and model\n",
    "cv_results = defaultdict(lambda: defaultdict(list))\n",
    "\n",
    "\n",
    "# Iterate over datasets and models\n",
    "for dataset_name, X in datasets.items():\n",
    "    print(f\"Processing dataset: {dataset_name}\")\n",
    "    # Split data\n",
    "    X_train = X[train_indices]\n",
    "    X_val = X[val_indices]\n",
    "    X_test = X[test_indices]\n",
    "  \n",
    "    y_train = Y_encoded[train_indices]\n",
    "    y_val = Y_encoded[val_indices]\n",
    "    y_test = Y_encoded[test_indices]\n",
    "\n",
    "    # Scaling\n",
    "    scaler = StandardScaler()\n",
    "    X_train = scaler.fit_transform(X_train)\n",
    "    X_val = scaler.transform(X_val)\n",
    "    X_test = scaler.transform(X_test)\n",
    "    \n",
    "    with open(os.path.join(scaler_path, f'StandardScaler_{dataset_name}.pkl'), 'wb') as file:\n",
    "        pickle.dump(scaler, file)\n",
    "\n",
    "    for model_name, Model in models.items():\n",
    "        print(f\"\\tTraining model: {model_name}\")\n",
    "        with wandb.init(project=\"LW-DED_audio-classification\", name=f\"{model_name}_{dataset_name}\", reinit=True) as run:\n",
    "            # Log model and hyperparameters\n",
    "            wandb.config.update({\"Model\": model_name, \"Hyperparameters\": hyperparameters[model_name]})\n",
    "    \n",
    "            # Initialize model with the best hyperparameters\n",
    "            model = Model(**hyperparameters[model_name])\n",
    "    \n",
    "            # If the model is SVM, use only 20% of the training data\n",
    "            if model_name == 'SVM':\n",
    "                sample_indices = np.random.choice(len(X_train), int(0.2 * len(X_train)), replace=False)\n",
    "                X_train_sampled = X_train[sample_indices]\n",
    "                y_train_sampled = y_train[sample_indices]\n",
    "                model.fit(X_train_sampled, y_train_sampled)\n",
    "            else:\n",
    "                # Train the model\n",
    "                model.fit(X_train, y_train)\n",
    "\n",
    "            # Save the model\n",
    "            dump(model, os.path.join(model_path, f'{model_name}_{dataset_name}.joblib'))\n",
    "\n",
    "\n",
    "            #####------   cross-validation on the testing dataset--------------\n",
    "            fold_metrics = defaultdict(list)\n",
    "    \n",
    "            for train_idx, test_idx in kf.split(X_test):\n",
    "                X_test_train, X_test_val = X_test[train_idx], X_test[test_idx]\n",
    "                y_test_train, y_test_val = y_test[train_idx], y_test[test_idx]\n",
    "                \n",
    "                # Make predictions\n",
    "                y_test_pred = model.predict(X_test_val)\n",
    "                \n",
    "                # Evaluate the model\n",
    "                acc = accuracy_score(y_test_val, y_test_pred)\n",
    "                f1 = f1_score(y_test_val, y_test_pred, average='weighted')\n",
    "                precision = precision_score(y_test_val, y_test_pred, average='weighted')\n",
    "                recall = recall_score(y_test_val, y_test_pred, average='weighted')\n",
    "                \n",
    "                # Optional: ROC-AUC can only be calculated for binary classification or multilabel indicator format\n",
    "                try:\n",
    "                    roc_auc = roc_auc_score(y_test_val, model.predict_proba(X_test_val), multi_class='ovr', average='weighted')\n",
    "                    \n",
    "                except:\n",
    "                    roc_auc = 'N/A'\n",
    "                \n",
    "                # Store the metrics for this fold\n",
    "                fold_metrics['Accuracy'].append(acc)\n",
    "                fold_metrics['F1 Score'].append(f1)\n",
    "                fold_metrics['Precision'].append(precision)\n",
    "                fold_metrics['Recall'].append(recall)\n",
    "                fold_metrics['ROC-AUC'].append(roc_auc if roc_auc != 'N/A' else np.nan)\n",
    "            \n",
    "            # Calculate mean and std for each metric and print them\n",
    "            for metric, values in fold_metrics.items():\n",
    "                mean_val = np.nanmean(values)  # Handle 'N/A' values\n",
    "                std_val = np.nanstd(values)    # Handle 'N/A' values\n",
    "                \n",
    "                print(f\"\\t\\t{metric}: Mean = {mean_val}, Std = {std_val}\")\n",
    "                # Log the mean and std values to wandb\n",
    "                wandb.log({f\"{metric}_mean\": mean_val, f\"{metric}_std\": std_val})\n",
    "                \n",
    "                cv_results[dataset_name][f\"{model_name}_{metric}_mean\"] = mean_val\n",
    "                cv_results[dataset_name][f\"{model_name}_{metric}_std\"] = std_val\n",
    "             \n",
    "            #####------   cross-validation on the testing dataset--------------\n",
    "            \n",
    "# Convert the temporary results to final format\n",
    "for dataset_name, metrics in cv_results.items():\n",
    "    final_results['Dataset'].append(dataset_name)\n",
    "    for metric_name, value in metrics.items():\n",
    "        final_results[metric_name].append(value)\n",
    "\n",
    "# Convert results to a DataFrame for easier viewing\n",
    "final_results_df = pd.DataFrame(final_results)"
   ]
  },
  {
   "cell_type": "code",
   "execution_count": 19,
   "id": "d28920fb-c81d-4da5-ad69-47e1cc0e0cde",
   "metadata": {
    "scrolled": true
   },
   "outputs": [
    {
     "name": "stdout",
     "output_type": "stream",
     "text": [
      "Stored 'datasets' (dict)\n",
      "Stored 'le' (LabelEncoder)\n",
      "Stored 'Y_encoded' (ndarray)\n"
     ]
    }
   ],
   "source": [
    "%store datasets\n",
    "%store le\n",
    "%store Y_encoded"
   ]
  }
 ],
 "metadata": {
  "kernelspec": {
   "display_name": "Python 3 (ipykernel)",
   "language": "python",
   "name": "python3"
  },
  "language_info": {
   "codemirror_mode": {
    "name": "ipython",
    "version": 3
   },
   "file_extension": ".py",
   "mimetype": "text/x-python",
   "name": "python",
   "nbconvert_exporter": "python",
   "pygments_lexer": "ipython3",
   "version": "3.9.16"
  }
 },
 "nbformat": 4,
 "nbformat_minor": 5
}
