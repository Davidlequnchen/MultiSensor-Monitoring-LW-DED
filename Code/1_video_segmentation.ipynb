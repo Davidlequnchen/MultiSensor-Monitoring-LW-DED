{
 "cells": [
  {
   "cell_type": "markdown",
   "id": "fd983b1d-7748-47e3-95bd-f9ebb2c7dbab",
   "metadata": {},
   "source": [
    "# MultiSensor Dataset Preparation \n",
    "- Experiment data: March 2024. Aluminum, Laser-Wire DED\n",
    "- Aurthor: Chen Lequn\n",
    "\n",
    "### Notebook 1: Video Segmentation, Audio signal extraction, Annotation Data Loading"
   ]
  },
  {
   "cell_type": "code",
   "execution_count": 1,
   "id": "84c15e44-7af9-4991-a519-58ce15c05229",
   "metadata": {},
   "outputs": [],
   "source": [
    "## Required python libraries\n",
    "import pandas as pd\n",
    "import numpy as np\n",
    "import scipy as sp\n",
    "import scipy.signal\n",
    "import os\n",
    "import math\n",
    "import sys\n",
    "from scipy.interpolate import griddata\n",
    "\n",
    "# to make this notebook's output stable across runs\n",
    "np.random.seed(42)\n",
    "\n",
    "pd.plotting.register_matplotlib_converters()\n",
    "\n",
    "\n",
    "import matplotlib as mpl\n",
    "import matplotlib.pyplot as plt\n",
    "mpl.rc('axes', labelsize=14)\n",
    "mpl.rc('xtick', labelsize=12)\n",
    "mpl.rc('ytick', labelsize=12)\n",
    "%matplotlib inline\n",
    "import seaborn as sns\n",
    "import librosa\n",
    "import matplotlib.font_manager as font_manager\n",
    "\n",
    "#---------------opencv------------------------\n",
    "import cv2\n",
    "from IPython.display import Image, display"
   ]
  },
  {
   "cell_type": "code",
   "execution_count": 2,
   "id": "d8411ced-724d-429c-a5a6-925df20c63bc",
   "metadata": {},
   "outputs": [],
   "source": [
    "import scaleogram as scg \n",
    "from glob import glob\n",
    "import scipy\n",
    "from scipy.signal import welch\n",
    "import wave                    # library handles the parsing of WAV file headers\n",
    "import pywt\n",
    "import soundfile as sf\n",
    "import glob\n",
    "import re\n",
    "from tqdm.notebook import tqdm\n",
    "import numpy as np\n",
    "import torch\n",
    "from PIL import Image"
   ]
  },
  {
   "cell_type": "code",
   "execution_count": 3,
   "id": "d00f2471-373d-4feb-a277-d1d1ef7fc8e0",
   "metadata": {},
   "outputs": [],
   "source": [
    "# ------------------- plotly visualizatoin----------------------------------\n",
    "# from PIL import Image\n",
    "import plotly.io as pio\n",
    "import plotly.graph_objects as go\n",
    "import plotly.express as px\n",
    "from plotly.subplots import make_subplots\n",
    "from skimage import data\n",
    "\n",
    "from glob import glob\n",
    "import glob\n",
    "import scipy\n",
    "from scipy.signal import welch\n",
    "import wave                    # library handles the parsing of WAV file headers\n",
    "import pywt\n",
    "import soundfile as sf\n",
    "import matplotlib.font_manager as font_manager"
   ]
  },
  {
   "cell_type": "code",
   "execution_count": 4,
   "id": "5833c33f-e476-4cc6-a0a7-d40dfb25fad5",
   "metadata": {},
   "outputs": [],
   "source": [
    "## Audio signal processing libraries\n",
    "import librosa\n",
    "import librosa.display\n",
    "\n",
    "import IPython.display as ipd\n",
    "import plotly.express as px\n",
    "import plotly.io as pio\n",
    "# import nussl\n",
    "import natsort"
   ]
  },
  {
   "cell_type": "code",
   "execution_count": 5,
   "id": "f895e1b8-6d69-47a6-ad36-ff4942e21a1a",
   "metadata": {},
   "outputs": [],
   "source": [
    "from moviepy.editor import VideoFileClip\n",
    "import imageio_ffmpeg as ffmpeg\n",
    "from tqdm.notebook import tqdm"
   ]
  },
  {
   "cell_type": "code",
   "execution_count": 6,
   "id": "ee12e1ef-236d-4a31-9a0b-2addfe3913a4",
   "metadata": {},
   "outputs": [],
   "source": [
    "# Where to save the figures, and dataset locations\n",
    "PROJECT_ROOT_DIR = \"../\"\n",
    "\n",
    "# Change to desirable location of the raw dataset\n",
    "Multimodal_dataset_PATH = \"/home/chenlequn/pan1/Dataset/Laser-Wire-DED-ThermalAudio-Dataset\"\n",
    "\n",
    "segmented_video_folder = os.path.join(Multimodal_dataset_PATH, 'segmented_videos')\n",
    "segmented_audio_path = os.path.join(Multimodal_dataset_PATH, 'segmented_audio')\n",
    "Video_path = os.path.join(Multimodal_dataset_PATH, 'Raw_Video', \"Aluminium\", 'avi')\n",
    "Audio_path = os.path.join(Multimodal_dataset_PATH, 'Audio')\n",
    "IMAGE_PATH = os.path.join(PROJECT_ROOT_DIR, \"result_images\", 'pre-processing')\n",
    "\n",
    "final_audio_dataset = os.path.join(Multimodal_dataset_PATH, 'Dataset', \"audio\")\n",
    "final_image_dataset = os.path.join(Multimodal_dataset_PATH, 'Dataset', \"thermal_images\")\n",
    "\n",
    "os.makedirs(IMAGE_PATH, exist_ok=True)\n",
    "os.makedirs(segmented_video_folder, exist_ok=True)\n",
    "os.makedirs(segmented_audio_path, exist_ok=True)\n",
    "os.makedirs(Audio_path, exist_ok=True)\n",
    "os.makedirs(final_audio_dataset, exist_ok=True)\n",
    "os.makedirs(final_image_dataset, exist_ok=True)\n",
    "\n",
    "## function for automatically save the diagram/graph into the folder \n",
    "def save_fig(fig_id, tight_layout=True, fig_extension=\"png\", resolution=300):\n",
    "    path = os.path.join(IMAGE_PATH, fig_id + \".\" + fig_extension)\n",
    "    print(\"Saving figure\", fig_id)\n",
    "    if tight_layout:\n",
    "        plt.tight_layout()\n",
    "    plt.savefig(path, format=fig_extension, dpi=resolution)\n",
    "\n",
    "# Ignore useless warnings (see SciPy issue #5998)\n",
    "import warnings\n",
    "warnings.filterwarnings(action=\"ignore\", message=\"^internal gelsd\")"
   ]
  },
  {
   "cell_type": "code",
   "execution_count": 7,
   "id": "2a3be4cc-977f-4564-83a7-ec578c35500e",
   "metadata": {},
   "outputs": [],
   "source": [
    "def plot_data_distribution(data, variable, title, filename, figure_size=(7, 6)):\n",
    "    # Initialize the plot\n",
    "    fig, ax = plt.subplots(figsize=figure_size)\n",
    "    \n",
    "    # Create the countplot\n",
    "    sns.countplot(x=variable, data=data, palette='Set1', saturation=0.7, edgecolor='k', linewidth=1.5, ax=ax, alpha = 0.9)\n",
    "    ax.set_xticklabels(ax.get_xticklabels(), rotation=40, ha=\"right\")\n",
    "    \n",
    "    # Add percentages above each bar\n",
    "    total = len(data)\n",
    "    max_height = 0\n",
    "    for p in ax.patches:\n",
    "        max_height = max(max_height, p.get_height())\n",
    "        percentage = f'{100 * p.get_height() / total:.1f}%'\n",
    "        x = p.get_x() + p.get_width() / 2\n",
    "        y = p.get_height()\n",
    "        ax.annotate(percentage, (x, y), ha='center', va='bottom')\n",
    "    \n",
    "    # Extend the y-axis for better visibility of annotations\n",
    "    ax.set_ylim([0, max_height * 1.2])\n",
    "    \n",
    "    # Set labels and title\n",
    "    ax.set_title(title, fontsize=18, pad=14)\n",
    "    ax.set_xlabel(\"Categories\", fontsize=20, labelpad=12)\n",
    "    ax.set_ylabel(\"Data volume\", fontsize=20, labelpad=10)\n",
    "    ax.tick_params(labelsize=15)\n",
    "    \n",
    "    # Add grid\n",
    "    ax.grid(True, which='both', axis='y', linestyle='dotted', linewidth=0.5, alpha=0.7, color='black')\n",
    "    \n",
    "    # Show all four edges of the plot\n",
    "    ax.spines['top'].set_visible(True)\n",
    "    ax.spines['right'].set_visible(True)\n",
    "    ax.spines['bottom'].set_visible(True)\n",
    "    ax.spines['left'].set_visible(True)\n",
    "    \n",
    "    # Show the plot\n",
    "    plt.tight_layout()\n",
    "    save_fig(f\"{filename}\")\n",
    "    plt.show()"
   ]
  },
  {
   "cell_type": "code",
   "execution_count": 8,
   "id": "e73bbea3-5d86-4336-8b37-3f3bc867a678",
   "metadata": {},
   "outputs": [
    {
     "name": "stderr",
     "output_type": "stream",
     "text": [
      "SoX could not be found!\n",
      "\n",
      "    If you do not have SoX, proceed here:\n",
      "     - - - http://sox.sourceforge.net/ - - -\n",
      "\n",
      "    If you do (or think that you should) have SoX, double-check your\n",
      "    path variables.\n",
      "    \n",
      "/bin/sh: 1: sox: not found\n",
      "2024-05-24 12:08:00.381347: I tensorflow/core/util/port.cc:113] oneDNN custom operations are on. You may see slightly different numerical results due to floating-point round-off errors from different computation orders. To turn them off, set the environment variable `TF_ENABLE_ONEDNN_OPTS=0`.\n",
      "2024-05-24 12:08:00.401689: I tensorflow/core/platform/cpu_feature_guard.cc:210] This TensorFlow binary is optimized to use available CPU instructions in performance-critical operations.\n",
      "To enable the following instructions: AVX2 AVX_VNNI FMA, in other operations, rebuild TensorFlow with the appropriate compiler flags.\n",
      "2024-05-24 12:08:00.726333: W tensorflow/compiler/tf2tensorrt/utils/py_utils.cc:38] TF-TRT Warning: Could not find TensorRT\n"
     ]
    }
   ],
   "source": [
    "sys.path.insert(0, './utils')\n",
    "\n",
    "from utils_functions import *"
   ]
  },
  {
   "cell_type": "markdown",
   "id": "61ba7982-a37f-4fb8-afa8-25ee260a309a",
   "metadata": {},
   "source": [
    "### Read raw annotation file generated from label-studio"
   ]
  },
  {
   "cell_type": "code",
   "execution_count": 9,
   "id": "e4cd14ae-e95d-4a42-a42d-a551bb668aa2",
   "metadata": {
    "scrolled": true
   },
   "outputs": [
    {
     "data": {
      "text/html": [
       "<div>\n",
       "<style scoped>\n",
       "    .dataframe tbody tr th:only-of-type {\n",
       "        vertical-align: middle;\n",
       "    }\n",
       "\n",
       "    .dataframe tbody tr th {\n",
       "        vertical-align: top;\n",
       "    }\n",
       "\n",
       "    .dataframe thead th {\n",
       "        text-align: right;\n",
       "    }\n",
       "</style>\n",
       "<table border=\"1\" class=\"dataframe\">\n",
       "  <thead>\n",
       "    <tr style=\"text-align: right;\">\n",
       "      <th></th>\n",
       "      <th>annotation_id</th>\n",
       "      <th>annotator</th>\n",
       "      <th>created_at</th>\n",
       "      <th>id</th>\n",
       "      <th>lead_time</th>\n",
       "      <th>tricks</th>\n",
       "      <th>updated_at</th>\n",
       "      <th>video_url</th>\n",
       "    </tr>\n",
       "  </thead>\n",
       "  <tbody>\n",
       "    <tr>\n",
       "      <th>0</th>\n",
       "      <td>1</td>\n",
       "      <td>1</td>\n",
       "      <td>2024-04-06T05:53:57.952476Z</td>\n",
       "      <td>1</td>\n",
       "      <td>951.570</td>\n",
       "      <td>[{\"start\":0.13643146951251442,\"end\":2.23151717...</td>\n",
       "      <td>2024-04-06T05:54:02.688695Z</td>\n",
       "      <td>/data/upload/1/d08b69d0-Exp_25.mp4</td>\n",
       "    </tr>\n",
       "    <tr>\n",
       "      <th>1</th>\n",
       "      <td>2</td>\n",
       "      <td>1</td>\n",
       "      <td>2024-04-06T06:19:31.940332Z</td>\n",
       "      <td>2</td>\n",
       "      <td>226.184</td>\n",
       "      <td>[{\"start\":1.861716122872687,\"end\":3.5466838501...</td>\n",
       "      <td>2024-05-24T02:47:39.674555Z</td>\n",
       "      <td>/data/upload/1/f123370e-Exp_April_16_test.mp4</td>\n",
       "    </tr>\n",
       "    <tr>\n",
       "      <th>2</th>\n",
       "      <td>3</td>\n",
       "      <td>1</td>\n",
       "      <td>2024-04-06T07:28:18.531736Z</td>\n",
       "      <td>3</td>\n",
       "      <td>1032.868</td>\n",
       "      <td>[{\"start\":1.590334275965151,\"end\":4.4448258297...</td>\n",
       "      <td>2024-05-24T02:50:25.371054Z</td>\n",
       "      <td>/data/upload/1/f3a38ee1-Exp_24.mp4</td>\n",
       "    </tr>\n",
       "    <tr>\n",
       "      <th>3</th>\n",
       "      <td>4</td>\n",
       "      <td>1</td>\n",
       "      <td>2024-04-06T07:49:02.470237Z</td>\n",
       "      <td>4</td>\n",
       "      <td>947.742</td>\n",
       "      <td>[{\"start\":1.3547890103644464,\"end\":3.843715907...</td>\n",
       "      <td>2024-05-24T02:52:22.407017Z</td>\n",
       "      <td>/data/upload/1/f3bfc771-Exp_19.mp4</td>\n",
       "    </tr>\n",
       "    <tr>\n",
       "      <th>4</th>\n",
       "      <td>5</td>\n",
       "      <td>1</td>\n",
       "      <td>2024-04-06T08:28:43.140531Z</td>\n",
       "      <td>5</td>\n",
       "      <td>1412.740</td>\n",
       "      <td>[{\"start\":4.076867618221584,\"end\":5.2923102035...</td>\n",
       "      <td>2024-04-06T08:28:44.786510Z</td>\n",
       "      <td>/data/upload/1/117cf9c6-Exp_18.mp4</td>\n",
       "    </tr>\n",
       "  </tbody>\n",
       "</table>\n",
       "</div>"
      ],
      "text/plain": [
       "   annotation_id  annotator                   created_at  id  lead_time  \\\n",
       "0              1          1  2024-04-06T05:53:57.952476Z   1    951.570   \n",
       "1              2          1  2024-04-06T06:19:31.940332Z   2    226.184   \n",
       "2              3          1  2024-04-06T07:28:18.531736Z   3   1032.868   \n",
       "3              4          1  2024-04-06T07:49:02.470237Z   4    947.742   \n",
       "4              5          1  2024-04-06T08:28:43.140531Z   5   1412.740   \n",
       "\n",
       "                                              tricks  \\\n",
       "0  [{\"start\":0.13643146951251442,\"end\":2.23151717...   \n",
       "1  [{\"start\":1.861716122872687,\"end\":3.5466838501...   \n",
       "2  [{\"start\":1.590334275965151,\"end\":4.4448258297...   \n",
       "3  [{\"start\":1.3547890103644464,\"end\":3.843715907...   \n",
       "4  [{\"start\":4.076867618221584,\"end\":5.2923102035...   \n",
       "\n",
       "                    updated_at                                      video_url  \n",
       "0  2024-04-06T05:54:02.688695Z             /data/upload/1/d08b69d0-Exp_25.mp4  \n",
       "1  2024-05-24T02:47:39.674555Z  /data/upload/1/f123370e-Exp_April_16_test.mp4  \n",
       "2  2024-05-24T02:50:25.371054Z             /data/upload/1/f3a38ee1-Exp_24.mp4  \n",
       "3  2024-05-24T02:52:22.407017Z             /data/upload/1/f3bfc771-Exp_19.mp4  \n",
       "4  2024-04-06T08:28:44.786510Z             /data/upload/1/117cf9c6-Exp_18.mp4  "
      ]
     },
     "execution_count": 9,
     "metadata": {},
     "output_type": "execute_result"
    }
   ],
   "source": [
    "# Load the annotation CSV file\n",
    "annotation_path = os.path.join(Multimodal_dataset_PATH, 'Annotation', 'annotation.csv')\n",
    "annotations = pd.read_csv(annotation_path)\n",
    "\n",
    "# Display the first few rows to understand its structure, especially the \"tricks\" column and the video file name column\n",
    "annotations.head()"
   ]
  },
  {
   "cell_type": "markdown",
   "id": "062eb6c6-387e-412f-8ccb-6b29ac786766",
   "metadata": {},
   "source": [
    "The structure of the annotation CSV file includes a \"tricks\" column with the annotations (start time, end time, channel, labels) and a \"video_url\" column containing the paths to the original video files."
   ]
  },
  {
   "cell_type": "markdown",
   "id": "0d1b0dc2-9413-4c1c-9774-b612276b9a65",
   "metadata": {},
   "source": [
    "### Video segmentation\n",
    "\n",
    "- **Process Video File Names**: Extract the actual names from the \"video_url\" column and change the file extension.\n",
    "- **Process Annotations**: Decode the JSON in the \"tricks\" column to extract times and labels.\n",
    "- **Segment Videos**: Outline the method to segment videos based on the annotations.\n",
    "- **Generate New Annotation CSV**: Structure the new annotation details."
   ]
  },
  {
   "cell_type": "code",
   "execution_count": 10,
   "id": "1f60188e-a934-46f3-9a52-606b362fed24",
   "metadata": {},
   "outputs": [
    {
     "data": {
      "text/html": [
       "<div>\n",
       "<style scoped>\n",
       "    .dataframe tbody tr th:only-of-type {\n",
       "        vertical-align: middle;\n",
       "    }\n",
       "\n",
       "    .dataframe tbody tr th {\n",
       "        vertical-align: top;\n",
       "    }\n",
       "\n",
       "    .dataframe thead th {\n",
       "        text-align: right;\n",
       "    }\n",
       "</style>\n",
       "<table border=\"1\" class=\"dataframe\">\n",
       "  <thead>\n",
       "    <tr style=\"text-align: right;\">\n",
       "      <th></th>\n",
       "      <th>corrected_video_name</th>\n",
       "      <th>decoded_tricks</th>\n",
       "    </tr>\n",
       "  </thead>\n",
       "  <tbody>\n",
       "    <tr>\n",
       "      <th>0</th>\n",
       "      <td>Exp_25.avi</td>\n",
       "      <td>[{'start': 0.13643146951251442, 'end': 2.23151...</td>\n",
       "    </tr>\n",
       "    <tr>\n",
       "      <th>1</th>\n",
       "      <td>Exp_April_16_test.avi</td>\n",
       "      <td>[{'start': 1.861716122872687, 'end': 3.5466838...</td>\n",
       "    </tr>\n",
       "    <tr>\n",
       "      <th>2</th>\n",
       "      <td>Exp_24.avi</td>\n",
       "      <td>[{'start': 1.590334275965151, 'end': 4.4448258...</td>\n",
       "    </tr>\n",
       "    <tr>\n",
       "      <th>3</th>\n",
       "      <td>Exp_19.avi</td>\n",
       "      <td>[{'start': 1.3547890103644464, 'end': 3.843715...</td>\n",
       "    </tr>\n",
       "    <tr>\n",
       "      <th>4</th>\n",
       "      <td>Exp_18.avi</td>\n",
       "      <td>[{'start': 4.076867618221584, 'end': 5.2923102...</td>\n",
       "    </tr>\n",
       "  </tbody>\n",
       "</table>\n",
       "</div>"
      ],
      "text/plain": [
       "    corrected_video_name                                     decoded_tricks\n",
       "0             Exp_25.avi  [{'start': 0.13643146951251442, 'end': 2.23151...\n",
       "1  Exp_April_16_test.avi  [{'start': 1.861716122872687, 'end': 3.5466838...\n",
       "2             Exp_24.avi  [{'start': 1.590334275965151, 'end': 4.4448258...\n",
       "3             Exp_19.avi  [{'start': 1.3547890103644464, 'end': 3.843715...\n",
       "4             Exp_18.avi  [{'start': 4.076867618221584, 'end': 5.2923102..."
      ]
     },
     "execution_count": 10,
     "metadata": {},
     "output_type": "execute_result"
    }
   ],
   "source": [
    "import json\n",
    "\n",
    "# Process Video File Names: Extract actual names and change file extension\n",
    "annotations['corrected_video_name'] = annotations['video_url'].apply(lambda x: x.split('-')[-1].replace('.mp4', '.avi'))\n",
    "\n",
    "# Decode JSON in the \"tricks\" column and extract necessary information\n",
    "annotations['decoded_tricks'] = annotations['tricks'].apply(json.loads)\n",
    "\n",
    "# For demonstration, show the processed video names and a sample of the decoded tricks\n",
    "annotations[['corrected_video_name', 'decoded_tricks']].head()"
   ]
  },
  {
   "cell_type": "code",
   "execution_count": 11,
   "id": "dc5784f8-39c0-46b5-996f-3babfe72135b",
   "metadata": {
    "scrolled": true
   },
   "outputs": [
    {
     "data": {
      "text/html": [
       "<div>\n",
       "<style scoped>\n",
       "    .dataframe tbody tr th:only-of-type {\n",
       "        vertical-align: middle;\n",
       "    }\n",
       "\n",
       "    .dataframe tbody tr th {\n",
       "        vertical-align: top;\n",
       "    }\n",
       "\n",
       "    .dataframe thead th {\n",
       "        text-align: right;\n",
       "    }\n",
       "</style>\n",
       "<table border=\"1\" class=\"dataframe\">\n",
       "  <thead>\n",
       "    <tr style=\"text-align: right;\">\n",
       "      <th></th>\n",
       "      <th>annotation_id</th>\n",
       "      <th>annotator</th>\n",
       "      <th>created_at</th>\n",
       "      <th>id</th>\n",
       "      <th>lead_time</th>\n",
       "      <th>tricks</th>\n",
       "      <th>updated_at</th>\n",
       "      <th>video_url</th>\n",
       "      <th>corrected_video_name</th>\n",
       "      <th>decoded_tricks</th>\n",
       "    </tr>\n",
       "  </thead>\n",
       "  <tbody>\n",
       "    <tr>\n",
       "      <th>0</th>\n",
       "      <td>1</td>\n",
       "      <td>1</td>\n",
       "      <td>2024-04-06T05:53:57.952476Z</td>\n",
       "      <td>1</td>\n",
       "      <td>951.570</td>\n",
       "      <td>[{\"start\":0.13643146951251442,\"end\":2.23151717...</td>\n",
       "      <td>2024-04-06T05:54:02.688695Z</td>\n",
       "      <td>/data/upload/1/d08b69d0-Exp_25.mp4</td>\n",
       "      <td>Exp_25.avi</td>\n",
       "      <td>[{'start': 0.13643146951251442, 'end': 2.23151...</td>\n",
       "    </tr>\n",
       "    <tr>\n",
       "      <th>1</th>\n",
       "      <td>2</td>\n",
       "      <td>1</td>\n",
       "      <td>2024-04-06T06:19:31.940332Z</td>\n",
       "      <td>2</td>\n",
       "      <td>226.184</td>\n",
       "      <td>[{\"start\":1.861716122872687,\"end\":3.5466838501...</td>\n",
       "      <td>2024-05-24T02:47:39.674555Z</td>\n",
       "      <td>/data/upload/1/f123370e-Exp_April_16_test.mp4</td>\n",
       "      <td>Exp_April_16_test.avi</td>\n",
       "      <td>[{'start': 1.861716122872687, 'end': 3.5466838...</td>\n",
       "    </tr>\n",
       "    <tr>\n",
       "      <th>2</th>\n",
       "      <td>3</td>\n",
       "      <td>1</td>\n",
       "      <td>2024-04-06T07:28:18.531736Z</td>\n",
       "      <td>3</td>\n",
       "      <td>1032.868</td>\n",
       "      <td>[{\"start\":1.590334275965151,\"end\":4.4448258297...</td>\n",
       "      <td>2024-05-24T02:50:25.371054Z</td>\n",
       "      <td>/data/upload/1/f3a38ee1-Exp_24.mp4</td>\n",
       "      <td>Exp_24.avi</td>\n",
       "      <td>[{'start': 1.590334275965151, 'end': 4.4448258...</td>\n",
       "    </tr>\n",
       "    <tr>\n",
       "      <th>3</th>\n",
       "      <td>4</td>\n",
       "      <td>1</td>\n",
       "      <td>2024-04-06T07:49:02.470237Z</td>\n",
       "      <td>4</td>\n",
       "      <td>947.742</td>\n",
       "      <td>[{\"start\":1.3547890103644464,\"end\":3.843715907...</td>\n",
       "      <td>2024-05-24T02:52:22.407017Z</td>\n",
       "      <td>/data/upload/1/f3bfc771-Exp_19.mp4</td>\n",
       "      <td>Exp_19.avi</td>\n",
       "      <td>[{'start': 1.3547890103644464, 'end': 3.843715...</td>\n",
       "    </tr>\n",
       "    <tr>\n",
       "      <th>4</th>\n",
       "      <td>5</td>\n",
       "      <td>1</td>\n",
       "      <td>2024-04-06T08:28:43.140531Z</td>\n",
       "      <td>5</td>\n",
       "      <td>1412.740</td>\n",
       "      <td>[{\"start\":4.076867618221584,\"end\":5.2923102035...</td>\n",
       "      <td>2024-04-06T08:28:44.786510Z</td>\n",
       "      <td>/data/upload/1/117cf9c6-Exp_18.mp4</td>\n",
       "      <td>Exp_18.avi</td>\n",
       "      <td>[{'start': 4.076867618221584, 'end': 5.2923102...</td>\n",
       "    </tr>\n",
       "    <tr>\n",
       "      <th>5</th>\n",
       "      <td>6</td>\n",
       "      <td>1</td>\n",
       "      <td>2024-04-08T07:24:20.624279Z</td>\n",
       "      <td>6</td>\n",
       "      <td>981.520</td>\n",
       "      <td>[{\"start\":3.335127250685412,\"end\":4.7704057978...</td>\n",
       "      <td>2024-04-08T07:24:25.033052Z</td>\n",
       "      <td>/data/upload/1/b0e3f971-Exp_23.mp4</td>\n",
       "      <td>Exp_23.avi</td>\n",
       "      <td>[{'start': 3.335127250685412, 'end': 4.7704057...</td>\n",
       "    </tr>\n",
       "    <tr>\n",
       "      <th>6</th>\n",
       "      <td>7</td>\n",
       "      <td>1</td>\n",
       "      <td>2024-04-08T07:44:28.494292Z</td>\n",
       "      <td>7</td>\n",
       "      <td>1164.429</td>\n",
       "      <td>[{\"start\":10.079907695804085,\"end\":11.23742775...</td>\n",
       "      <td>2024-04-08T07:44:28.494335Z</td>\n",
       "      <td>/data/upload/1/1e6c3647-Exp_17.mp4</td>\n",
       "      <td>Exp_17.avi</td>\n",
       "      <td>[{'start': 10.079907695804085, 'end': 11.23742...</td>\n",
       "    </tr>\n",
       "    <tr>\n",
       "      <th>7</th>\n",
       "      <td>8</td>\n",
       "      <td>1</td>\n",
       "      <td>2024-04-08T10:09:06.536476Z</td>\n",
       "      <td>8</td>\n",
       "      <td>2610.963</td>\n",
       "      <td>[{\"start\":3.0633240000534805,\"end\":5.906396696...</td>\n",
       "      <td>2024-04-08T10:09:12.773727Z</td>\n",
       "      <td>/data/upload/1/2d10c30a-Exp_10.mp4</td>\n",
       "      <td>Exp_10.avi</td>\n",
       "      <td>[{'start': 3.0633240000534805, 'end': 5.906396...</td>\n",
       "    </tr>\n",
       "    <tr>\n",
       "      <th>8</th>\n",
       "      <td>9</td>\n",
       "      <td>1</td>\n",
       "      <td>2024-04-09T03:04:15.294172Z</td>\n",
       "      <td>9</td>\n",
       "      <td>6444.364</td>\n",
       "      <td>[{\"start\":4.112926194034195,\"end\":6.6206632036...</td>\n",
       "      <td>2024-05-24T03:09:22.013089Z</td>\n",
       "      <td>/data/upload/1/cbe799a9-Exp_April_16.mp4</td>\n",
       "      <td>Exp_April_16.avi</td>\n",
       "      <td>[{'start': 4.112926194034195, 'end': 6.6206632...</td>\n",
       "    </tr>\n",
       "    <tr>\n",
       "      <th>9</th>\n",
       "      <td>11</td>\n",
       "      <td>1</td>\n",
       "      <td>2024-04-23T09:28:27.714229Z</td>\n",
       "      <td>10</td>\n",
       "      <td>12745.305</td>\n",
       "      <td>[{\"start\":6.175908334445803,\"end\":7.6519987693...</td>\n",
       "      <td>2024-04-23T09:28:35.715094Z</td>\n",
       "      <td>/data/upload/1/6154881c-Exp_April_12.mp4</td>\n",
       "      <td>Exp_April_12.avi</td>\n",
       "      <td>[{'start': 6.175908334445803, 'end': 7.6519987...</td>\n",
       "    </tr>\n",
       "    <tr>\n",
       "      <th>10</th>\n",
       "      <td>13</td>\n",
       "      <td>1</td>\n",
       "      <td>2024-05-24T02:46:09.488740Z</td>\n",
       "      <td>11</td>\n",
       "      <td>239.791</td>\n",
       "      <td>[{\"start\":9.393340998554363,\"end\":10.154934000...</td>\n",
       "      <td>2024-05-24T03:18:06.535457Z</td>\n",
       "      <td>/data/upload/1/7723d936-Exp_April_13.mp4</td>\n",
       "      <td>Exp_April_13.avi</td>\n",
       "      <td>[{'start': 9.393340998554363, 'end': 10.154934...</td>\n",
       "    </tr>\n",
       "    <tr>\n",
       "      <th>11</th>\n",
       "      <td>10</td>\n",
       "      <td>1</td>\n",
       "      <td>2024-04-09T03:43:32.417402Z</td>\n",
       "      <td>12</td>\n",
       "      <td>1925.840</td>\n",
       "      <td>[{\"start\":4.33881610527483,\"end\":7.16919646718...</td>\n",
       "      <td>2024-05-24T03:21:02.957449Z</td>\n",
       "      <td>/data/upload/1/5ba7943d-Exp_April_14.mp4</td>\n",
       "      <td>Exp_April_14.avi</td>\n",
       "      <td>[{'start': 4.33881610527483, 'end': 7.16919646...</td>\n",
       "    </tr>\n",
       "    <tr>\n",
       "      <th>12</th>\n",
       "      <td>12</td>\n",
       "      <td>1</td>\n",
       "      <td>2024-05-21T09:35:41.979356Z</td>\n",
       "      <td>13</td>\n",
       "      <td>164.883</td>\n",
       "      <td>[{\"start\":6.461876583986425,\"end\":7.3967880859...</td>\n",
       "      <td>2024-05-21T09:35:43.343671Z</td>\n",
       "      <td>/data/upload/1/69cb317e-Exp_22.mp4</td>\n",
       "      <td>Exp_22.avi</td>\n",
       "      <td>[{'start': 6.461876583986425, 'end': 7.3967880...</td>\n",
       "    </tr>\n",
       "  </tbody>\n",
       "</table>\n",
       "</div>"
      ],
      "text/plain": [
       "    annotation_id  annotator                   created_at  id  lead_time  \\\n",
       "0               1          1  2024-04-06T05:53:57.952476Z   1    951.570   \n",
       "1               2          1  2024-04-06T06:19:31.940332Z   2    226.184   \n",
       "2               3          1  2024-04-06T07:28:18.531736Z   3   1032.868   \n",
       "3               4          1  2024-04-06T07:49:02.470237Z   4    947.742   \n",
       "4               5          1  2024-04-06T08:28:43.140531Z   5   1412.740   \n",
       "5               6          1  2024-04-08T07:24:20.624279Z   6    981.520   \n",
       "6               7          1  2024-04-08T07:44:28.494292Z   7   1164.429   \n",
       "7               8          1  2024-04-08T10:09:06.536476Z   8   2610.963   \n",
       "8               9          1  2024-04-09T03:04:15.294172Z   9   6444.364   \n",
       "9              11          1  2024-04-23T09:28:27.714229Z  10  12745.305   \n",
       "10             13          1  2024-05-24T02:46:09.488740Z  11    239.791   \n",
       "11             10          1  2024-04-09T03:43:32.417402Z  12   1925.840   \n",
       "12             12          1  2024-05-21T09:35:41.979356Z  13    164.883   \n",
       "\n",
       "                                               tricks  \\\n",
       "0   [{\"start\":0.13643146951251442,\"end\":2.23151717...   \n",
       "1   [{\"start\":1.861716122872687,\"end\":3.5466838501...   \n",
       "2   [{\"start\":1.590334275965151,\"end\":4.4448258297...   \n",
       "3   [{\"start\":1.3547890103644464,\"end\":3.843715907...   \n",
       "4   [{\"start\":4.076867618221584,\"end\":5.2923102035...   \n",
       "5   [{\"start\":3.335127250685412,\"end\":4.7704057978...   \n",
       "6   [{\"start\":10.079907695804085,\"end\":11.23742775...   \n",
       "7   [{\"start\":3.0633240000534805,\"end\":5.906396696...   \n",
       "8   [{\"start\":4.112926194034195,\"end\":6.6206632036...   \n",
       "9   [{\"start\":6.175908334445803,\"end\":7.6519987693...   \n",
       "10  [{\"start\":9.393340998554363,\"end\":10.154934000...   \n",
       "11  [{\"start\":4.33881610527483,\"end\":7.16919646718...   \n",
       "12  [{\"start\":6.461876583986425,\"end\":7.3967880859...   \n",
       "\n",
       "                     updated_at  \\\n",
       "0   2024-04-06T05:54:02.688695Z   \n",
       "1   2024-05-24T02:47:39.674555Z   \n",
       "2   2024-05-24T02:50:25.371054Z   \n",
       "3   2024-05-24T02:52:22.407017Z   \n",
       "4   2024-04-06T08:28:44.786510Z   \n",
       "5   2024-04-08T07:24:25.033052Z   \n",
       "6   2024-04-08T07:44:28.494335Z   \n",
       "7   2024-04-08T10:09:12.773727Z   \n",
       "8   2024-05-24T03:09:22.013089Z   \n",
       "9   2024-04-23T09:28:35.715094Z   \n",
       "10  2024-05-24T03:18:06.535457Z   \n",
       "11  2024-05-24T03:21:02.957449Z   \n",
       "12  2024-05-21T09:35:43.343671Z   \n",
       "\n",
       "                                        video_url   corrected_video_name  \\\n",
       "0              /data/upload/1/d08b69d0-Exp_25.mp4             Exp_25.avi   \n",
       "1   /data/upload/1/f123370e-Exp_April_16_test.mp4  Exp_April_16_test.avi   \n",
       "2              /data/upload/1/f3a38ee1-Exp_24.mp4             Exp_24.avi   \n",
       "3              /data/upload/1/f3bfc771-Exp_19.mp4             Exp_19.avi   \n",
       "4              /data/upload/1/117cf9c6-Exp_18.mp4             Exp_18.avi   \n",
       "5              /data/upload/1/b0e3f971-Exp_23.mp4             Exp_23.avi   \n",
       "6              /data/upload/1/1e6c3647-Exp_17.mp4             Exp_17.avi   \n",
       "7              /data/upload/1/2d10c30a-Exp_10.mp4             Exp_10.avi   \n",
       "8        /data/upload/1/cbe799a9-Exp_April_16.mp4       Exp_April_16.avi   \n",
       "9        /data/upload/1/6154881c-Exp_April_12.mp4       Exp_April_12.avi   \n",
       "10       /data/upload/1/7723d936-Exp_April_13.mp4       Exp_April_13.avi   \n",
       "11       /data/upload/1/5ba7943d-Exp_April_14.mp4       Exp_April_14.avi   \n",
       "12             /data/upload/1/69cb317e-Exp_22.mp4             Exp_22.avi   \n",
       "\n",
       "                                       decoded_tricks  \n",
       "0   [{'start': 0.13643146951251442, 'end': 2.23151...  \n",
       "1   [{'start': 1.861716122872687, 'end': 3.5466838...  \n",
       "2   [{'start': 1.590334275965151, 'end': 4.4448258...  \n",
       "3   [{'start': 1.3547890103644464, 'end': 3.843715...  \n",
       "4   [{'start': 4.076867618221584, 'end': 5.2923102...  \n",
       "5   [{'start': 3.335127250685412, 'end': 4.7704057...  \n",
       "6   [{'start': 10.079907695804085, 'end': 11.23742...  \n",
       "7   [{'start': 3.0633240000534805, 'end': 5.906396...  \n",
       "8   [{'start': 4.112926194034195, 'end': 6.6206632...  \n",
       "9   [{'start': 6.175908334445803, 'end': 7.6519987...  \n",
       "10  [{'start': 9.393340998554363, 'end': 10.154934...  \n",
       "11  [{'start': 4.33881610527483, 'end': 7.16919646...  \n",
       "12  [{'start': 6.461876583986425, 'end': 7.3967880...  "
      ]
     },
     "execution_count": 11,
     "metadata": {},
     "output_type": "execute_result"
    }
   ],
   "source": [
    "annotations"
   ]
  },
  {
   "cell_type": "markdown",
   "id": "4abb26a4-85b6-4b6d-a064-e9f3e9ee87cf",
   "metadata": {},
   "source": [
    "### Segment video\n",
    "For each row (video file) in the annotations DataFrame:\n",
    "\n",
    "- Load the corresponding .avi video from the raw_video_file directory.\n",
    "- For each annotation (`decoded_tricks`) in the row:\n",
    "    - Segment the video from start to end times.\n",
    "    - Save the segmented video to `segmented_video_folder` with a name format: `[original_video_name]_[index].avi`, where `[index]` indicates their position in the original video.\n",
    "\n",
    "### Generating a New Annotation CSV\n",
    "For each video segment:\n",
    "\n",
    "- Labels should be extracted from each segment and split into different columns as necessary. \n",
    "- If a segment has multiple labels, each label occupies its own column.\n",
    "- Duration is simply end - start time for each segment."
   ]
  },
  {
   "cell_type": "code",
   "execution_count": 12,
   "id": "f92e60aa-7374-42ec-b997-60d972348ad5",
   "metadata": {},
   "outputs": [],
   "source": [
    "# Initialize lists to hold the new annotation data\n",
    "new_annotations = []\n",
    "\n",
    "for index, row in annotations.iterrows():\n",
    "    video_name = row['corrected_video_name']\n",
    "\n",
    "    # if video_name == 'Exp_April_14.avi':\n",
    "    #     continue\n",
    "    for i, trick in enumerate(row['decoded_tricks']):\n",
    "        segment_name = f\"{video_name.split('.avi')[0]}_{i+1}.avi\"  # Constructing the new segment name\n",
    "        labels = trick['labels']\n",
    "        start_time = trick['start']\n",
    "        end_time = trick['end']\n",
    "        duration = end_time - start_time\n",
    "        \n",
    "        # Preparing the new annotation row with start and end times\n",
    "        new_row = {\n",
    "            'segment_name': segment_name,\n",
    "            'start_time': start_time,\n",
    "            'end_time': end_time,\n",
    "            'duration': duration\n",
    "        }\n",
    "        \n",
    "        # Adding labels to the row, handling the possibility of multiple labels\n",
    "        for j, label in enumerate(labels, start=1):\n",
    "            if label == 'Non-defective' and video_name in ['Exp_10.avi', 'Exp_22.avi']:\n",
    "                new_row[f'label_{j}'] = 'LoF'\n",
    "            elif label == 'Non-defective' and video_name in ['Exp_23.avi','Exp_24.avi','Exp_25.avi']:\n",
    "                new_row[f'label_{j}'] = 'Overheating'\n",
    "                \n",
    "            elif label == 'Balling' and video_name in ['Exp_10.avi', 'Exp_17.avi','Exp_18.avi', 'Exp_22.avi']:\n",
    "                new_row[f'label_{j}'] = 'Balling (LoF)'\n",
    "            elif label == 'Balling' and video_name in ['Exp_23.avi', 'Exp_24.avi','Exp_25.avi']:\n",
    "                new_row[f'label_{j}'] = 'Balling (Overheating)'\n",
    "            elif label == 'Balling' and video_name in ['Exp_19.avi', \"Exp_April_16_test.avi\", \"Exp_April_16.avi\", \"Exp_April_13.avi\", \"Exp_April_14.avi\"]:\n",
    "                new_row[f'label_{j}'] = 'Balling (Conduction)'\n",
    "\n",
    "            elif label == 'Non-defective' and video_name in ['Exp_17.avi','Exp_18.avi', 'Exp_April_12.avi']:\n",
    "                # Ignore 'Exp_April_12.avi' as too much. Ignore 'Exp_17.avi','Exp_18.avi' as they are not representative\n",
    "                continue\n",
    "            elif label == 'Laser-off' and video_name in ['Exp_April_12.avi', \"Exp_April_14.avi\", \"Exp_10.avi\", 'Exp_April_16.avi']:\n",
    "                # Ignore this annotation as too much already.\n",
    "                continue\n",
    "            \n",
    "                \n",
    "            else:    \n",
    "                new_row[f'label_{j}'] = label\n",
    "        \n",
    "        new_annotations.append(new_row)\n",
    "\n",
    "# Creating a new DataFrame for the updated annotations\n",
    "new_annotations_df = pd.DataFrame(new_annotations)\n",
    "\n",
    "# Filling NaN values with an empty string for uniformity\n",
    "# new_annotations_df.fillna('', inplace=True)\n",
    "\n",
    "# Remove rows where 'label_1' is NaN\n",
    "new_annotations_df_cleaned = new_annotations_df.dropna(subset=['label_1'])"
   ]
  },
  {
   "cell_type": "code",
   "execution_count": 13,
   "id": "413e71f1-9a5b-467d-8584-12a0bb118acf",
   "metadata": {
    "scrolled": true
   },
   "outputs": [
    {
     "data": {
      "text/html": [
       "<div>\n",
       "<style scoped>\n",
       "    .dataframe tbody tr th:only-of-type {\n",
       "        vertical-align: middle;\n",
       "    }\n",
       "\n",
       "    .dataframe tbody tr th {\n",
       "        vertical-align: top;\n",
       "    }\n",
       "\n",
       "    .dataframe thead th {\n",
       "        text-align: right;\n",
       "    }\n",
       "</style>\n",
       "<table border=\"1\" class=\"dataframe\">\n",
       "  <thead>\n",
       "    <tr style=\"text-align: right;\">\n",
       "      <th></th>\n",
       "      <th>segment_name</th>\n",
       "      <th>start_time</th>\n",
       "      <th>end_time</th>\n",
       "      <th>duration</th>\n",
       "      <th>label_1</th>\n",
       "      <th>label_2</th>\n",
       "      <th>label_3</th>\n",
       "    </tr>\n",
       "  </thead>\n",
       "  <tbody>\n",
       "    <tr>\n",
       "      <th>0</th>\n",
       "      <td>Exp_25_1.avi</td>\n",
       "      <td>0.136431</td>\n",
       "      <td>2.231517</td>\n",
       "      <td>2.095086</td>\n",
       "      <td>Laser-off</td>\n",
       "      <td>Shielding Gas-off</td>\n",
       "      <td>NaN</td>\n",
       "    </tr>\n",
       "    <tr>\n",
       "      <th>1</th>\n",
       "      <td>Exp_25_2.avi</td>\n",
       "      <td>2.748486</td>\n",
       "      <td>4.163349</td>\n",
       "      <td>1.414863</td>\n",
       "      <td>Laser-off</td>\n",
       "      <td>Shielding Gas-on</td>\n",
       "      <td>NaN</td>\n",
       "    </tr>\n",
       "    <tr>\n",
       "      <th>2</th>\n",
       "      <td>Exp_25_3.avi</td>\n",
       "      <td>4.381021</td>\n",
       "      <td>6.149600</td>\n",
       "      <td>1.768579</td>\n",
       "      <td>Overheating</td>\n",
       "      <td>NaN</td>\n",
       "      <td>NaN</td>\n",
       "    </tr>\n",
       "    <tr>\n",
       "      <th>3</th>\n",
       "      <td>Exp_25_4.avi</td>\n",
       "      <td>6.285644</td>\n",
       "      <td>6.884240</td>\n",
       "      <td>0.598596</td>\n",
       "      <td>Laser-off</td>\n",
       "      <td>Shielding Gas-on</td>\n",
       "      <td>NaN</td>\n",
       "    </tr>\n",
       "    <tr>\n",
       "      <th>4</th>\n",
       "      <td>Exp_25_5.avi</td>\n",
       "      <td>7.047493</td>\n",
       "      <td>9.142579</td>\n",
       "      <td>2.095086</td>\n",
       "      <td>Overheating</td>\n",
       "      <td>NaN</td>\n",
       "      <td>NaN</td>\n",
       "    </tr>\n",
       "    <tr>\n",
       "      <th>...</th>\n",
       "      <td>...</td>\n",
       "      <td>...</td>\n",
       "      <td>...</td>\n",
       "      <td>...</td>\n",
       "      <td>...</td>\n",
       "      <td>...</td>\n",
       "      <td>...</td>\n",
       "    </tr>\n",
       "    <tr>\n",
       "      <th>438</th>\n",
       "      <td>Exp_22_1.avi</td>\n",
       "      <td>6.461877</td>\n",
       "      <td>7.396788</td>\n",
       "      <td>0.934912</td>\n",
       "      <td>LoF</td>\n",
       "      <td>NaN</td>\n",
       "      <td>NaN</td>\n",
       "    </tr>\n",
       "    <tr>\n",
       "      <th>439</th>\n",
       "      <td>Exp_22_2.avi</td>\n",
       "      <td>8.884893</td>\n",
       "      <td>9.567126</td>\n",
       "      <td>0.682233</td>\n",
       "      <td>Balling (LoF)</td>\n",
       "      <td>NaN</td>\n",
       "      <td>NaN</td>\n",
       "    </tr>\n",
       "    <tr>\n",
       "      <th>440</th>\n",
       "      <td>Exp_22_3.avi</td>\n",
       "      <td>13.491051</td>\n",
       "      <td>14.072212</td>\n",
       "      <td>0.581161</td>\n",
       "      <td>LoF</td>\n",
       "      <td>NaN</td>\n",
       "      <td>NaN</td>\n",
       "    </tr>\n",
       "    <tr>\n",
       "      <th>441</th>\n",
       "      <td>Exp_22_4.avi</td>\n",
       "      <td>17.777746</td>\n",
       "      <td>18.653699</td>\n",
       "      <td>0.875953</td>\n",
       "      <td>LoF</td>\n",
       "      <td>NaN</td>\n",
       "      <td>NaN</td>\n",
       "    </tr>\n",
       "    <tr>\n",
       "      <th>442</th>\n",
       "      <td>Exp_22_5.avi</td>\n",
       "      <td>21.432838</td>\n",
       "      <td>22.502512</td>\n",
       "      <td>1.069674</td>\n",
       "      <td>LoF</td>\n",
       "      <td>NaN</td>\n",
       "      <td>NaN</td>\n",
       "    </tr>\n",
       "  </tbody>\n",
       "</table>\n",
       "<p>254 rows × 7 columns</p>\n",
       "</div>"
      ],
      "text/plain": [
       "     segment_name  start_time   end_time  duration        label_1  \\\n",
       "0    Exp_25_1.avi    0.136431   2.231517  2.095086      Laser-off   \n",
       "1    Exp_25_2.avi    2.748486   4.163349  1.414863      Laser-off   \n",
       "2    Exp_25_3.avi    4.381021   6.149600  1.768579    Overheating   \n",
       "3    Exp_25_4.avi    6.285644   6.884240  0.598596      Laser-off   \n",
       "4    Exp_25_5.avi    7.047493   9.142579  2.095086    Overheating   \n",
       "..            ...         ...        ...       ...            ...   \n",
       "438  Exp_22_1.avi    6.461877   7.396788  0.934912            LoF   \n",
       "439  Exp_22_2.avi    8.884893   9.567126  0.682233  Balling (LoF)   \n",
       "440  Exp_22_3.avi   13.491051  14.072212  0.581161            LoF   \n",
       "441  Exp_22_4.avi   17.777746  18.653699  0.875953            LoF   \n",
       "442  Exp_22_5.avi   21.432838  22.502512  1.069674            LoF   \n",
       "\n",
       "               label_2 label_3  \n",
       "0    Shielding Gas-off     NaN  \n",
       "1     Shielding Gas-on     NaN  \n",
       "2                  NaN     NaN  \n",
       "3     Shielding Gas-on     NaN  \n",
       "4                  NaN     NaN  \n",
       "..                 ...     ...  \n",
       "438                NaN     NaN  \n",
       "439                NaN     NaN  \n",
       "440                NaN     NaN  \n",
       "441                NaN     NaN  \n",
       "442                NaN     NaN  \n",
       "\n",
       "[254 rows x 7 columns]"
      ]
     },
     "execution_count": 13,
     "metadata": {},
     "output_type": "execute_result"
    }
   ],
   "source": [
    "# Show the structure of the new annotations DataFrame\n",
    "new_annotations_df_cleaned"
   ]
  },
  {
   "cell_type": "code",
   "execution_count": 14,
   "id": "b0607a7f-466b-4f30-9398-bad6728e0c03",
   "metadata": {
    "scrolled": true
   },
   "outputs": [
    {
     "name": "stdout",
     "output_type": "stream",
     "text": [
      "Saving figure dataset_distribution (segments)\n"
     ]
    },
    {
     "data": {
      "image/png": "[encoded data removed]",
      "text/plain": [
       "<Figure size 700x600 with 1 Axes>"
      ]
     },
     "metadata": {},
     "output_type": "display_data"
    }
   ],
   "source": [
    "plot_data_distribution(new_annotations_df_cleaned, 'label_1', \n",
    "                       'Distribution of Dataset per category', 'dataset_distribution (segments)')"
   ]
  },
  {
   "cell_type": "code",
   "execution_count": 15,
   "id": "f49175b5-68a8-4238-b15e-caee0c5c412f",
   "metadata": {},
   "outputs": [],
   "source": [
    "new_annotations_df_cleaned.to_csv('segment_annotations.csv', index=False)"
   ]
  },
  {
   "cell_type": "markdown",
   "id": "9d3fa3cb-97b6-4008-afb2-c279ad60324b",
   "metadata": {},
   "source": [
    "- **Segment the Videos**: Use a script with a video processing library (like moviepy) to read each original video, segment it according to the start and end times, and save the segments with the constructed names in the segmented_video_folder.\n",
    "\n",
    "- Save the New Annotations CSV: The prepared new_annotations_df_cleaned DataFrame should be saved as a CSV file to accompany the segmented videos."
   ]
  },
  {
   "cell_type": "code",
   "execution_count": 16,
   "id": "7bef63af-c4de-43c9-bc12-ef4686529ff5",
   "metadata": {
    "scrolled": true
   },
   "outputs": [
    {
     "name": "stdout",
     "output_type": "stream",
     "text": [
      "Moviepy - Building video /home/chenlequn/pan1/Dataset/Laser-Wire-DED-ThermalAudio-Dataset/segmented_videos/Exp_25_1.avi.\n",
      "MoviePy - Writing audio in Exp_25_1TEMP_MPY_wvf_snd.mp3\n"
     ]
    },
    {
     "name": "stderr",
     "output_type": "stream",
     "text": [
      "                                                                                                                     \r"
     ]
    },
    {
     "name": "stdout",
     "output_type": "stream",
     "text": [
      "MoviePy - Done.\n",
      "Moviepy - Writing video /home/chenlequn/pan1/Dataset/Laser-Wire-DED-ThermalAudio-Dataset/segmented_videos/Exp_25_1.avi\n",
      "\n"
     ]
    },
    {
     "name": "stderr",
     "output_type": "stream",
     "text": [
      "                                                                                                                     \r"
     ]
    },
    {
     "name": "stdout",
     "output_type": "stream",
     "text": [
      "Moviepy - Done !\n",
      "Moviepy - video ready /home/chenlequn/pan1/Dataset/Laser-Wire-DED-ThermalAudio-Dataset/segmented_videos/Exp_25_1.avi\n",
      "MoviePy - Writing audio in /home/chenlequn/pan1/Dataset/Laser-Wire-DED-ThermalAudio-Dataset/segmented_audio/Exp_25_1.wav\n"
     ]
    },
    {
     "name": "stderr",
     "output_type": "stream",
     "text": [
      "                                                                                                                     \r"
     ]
    },
    {
     "name": "stdout",
     "output_type": "stream",
     "text": [
      "MoviePy - Done.\n",
      "Moviepy - Building video /home/chenlequn/pan1/Dataset/Laser-Wire-DED-ThermalAudio-Dataset/segmented_videos/Exp_25_2.avi.\n",
      "MoviePy - Writing audio in Exp_25_2TEMP_MPY_wvf_snd.mp3\n"
     ]
    },
    {
     "name": "stderr",
     "output_type": "stream",
     "text": [
      "                                                                                                                     \r"
     ]
    },
    {
     "name": "stdout",
     "output_type": "stream",
     "text": [
      "MoviePy - Done.\n",
      "Moviepy - Writing video /home/chenlequn/pan1/Dataset/Laser-Wire-DED-ThermalAudio-Dataset/segmented_videos/Exp_25_2.avi\n",
      "\n"
     ]
    },
    {
     "name": "stderr",
     "output_type": "stream",
     "text": [
      "                                                                                                                     \r"
     ]
    },
    {
     "name": "stdout",
     "output_type": "stream",
     "text": [
      "Moviepy - Done !\n",
      "Moviepy - video ready /home/chenlequn/pan1/Dataset/Laser-Wire-DED-ThermalAudio-Dataset/segmented_videos/Exp_25_2.avi\n",
      "MoviePy - Writing audio in /home/chenlequn/pan1/Dataset/Laser-Wire-DED-ThermalAudio-Dataset/segmented_audio/Exp_25_2.wav\n"
     ]
    },
    {
     "name": "stderr",
     "output_type": "stream",
     "text": [
      "                                                                                                                     \r"
     ]
    },
    {
     "name": "stdout",
     "output_type": "stream",
     "text": [
      "MoviePy - Done.\n",
      "Moviepy - Building video /home/chenlequn/pan1/Dataset/Laser-Wire-DED-ThermalAudio-Dataset/segmented_videos/Exp_25_3.avi.\n",
      "MoviePy - Writing audio in Exp_25_3TEMP_MPY_wvf_snd.mp3\n"
     ]
    },
    {
     "name": "stderr",
     "output_type": "stream",
     "text": [
      "                                                                                                                     \r"
     ]
    },
    {
     "name": "stdout",
     "output_type": "stream",
     "text": [
      "MoviePy - Done.\n",
      "Moviepy - Writing video /home/chenlequn/pan1/Dataset/Laser-Wire-DED-ThermalAudio-Dataset/segmented_videos/Exp_25_3.avi\n",
      "\n"
     ]
    },
    {
     "name": "stderr",
     "output_type": "stream",
     "text": [
      "                                                                                                                     \r"
     ]
    },
    {
     "name": "stdout",
     "output_type": "stream",
     "text": [
      "Moviepy - Done !\n",
      "Moviepy - video ready /home/chenlequn/pan1/Dataset/Laser-Wire-DED-ThermalAudio-Dataset/segmented_videos/Exp_25_3.avi\n",
      "MoviePy - Writing audio in /home/chenlequn/pan1/Dataset/Laser-Wire-DED-ThermalAudio-Dataset/segmented_audio/Exp_25_3.wav\n"
     ]
    },
    {
     "name": "stderr",
     "output_type": "stream",
     "text": [
      "                                                                                                                     \r"
     ]
    },
    {
     "name": "stdout",
     "output_type": "stream",
     "text": [
      "MoviePy - Done.\n",
      "Moviepy - Building video /home/chenlequn/pan1/Dataset/Laser-Wire-DED-ThermalAudio-Dataset/segmented_videos/Exp_25_4.avi.\n",
      "MoviePy - Writing audio in Exp_25_4TEMP_MPY_wvf_snd.mp3\n"
     ]
    },
    {
     "name": "stderr",
     "output_type": "stream",
     "text": [
      "                                                                                                                     \r"
     ]
    },
    {
     "name": "stdout",
     "output_type": "stream",
     "text": [
      "MoviePy - Done.\n",
      "Moviepy - Writing video /home/chenlequn/pan1/Dataset/Laser-Wire-DED-ThermalAudio-Dataset/segmented_videos/Exp_25_4.avi\n",
      "\n"
     ]
    },
    {
     "name": "stderr",
     "output_type": "stream",
     "text": [
      "                                                                                                                     \r"
     ]
    },
    {
     "name": "stdout",
     "output_type": "stream",
     "text": [
      "Moviepy - Done !\n",
      "Moviepy - video ready /home/chenlequn/pan1/Dataset/Laser-Wire-DED-ThermalAudio-Dataset/segmented_videos/Exp_25_4.avi\n",
      "MoviePy - Writing audio in /home/chenlequn/pan1/Dataset/Laser-Wire-DED-ThermalAudio-Dataset/segmented_audio/Exp_25_4.wav\n"
     ]
    },
    {
     "name": "stderr",
     "output_type": "stream",
     "text": [
      "                                                                                                                     \r"
     ]
    },
    {
     "name": "stdout",
     "output_type": "stream",
     "text": [
      "MoviePy - Done.\n",
      "Moviepy - Building video /home/chenlequn/pan1/Dataset/Laser-Wire-DED-ThermalAudio-Dataset/segmented_videos/Exp_25_5.avi.\n",
      "MoviePy - Writing audio in Exp_25_5TEMP_MPY_wvf_snd.mp3\n"
     ]
    },
    {
     "name": "stderr",
     "output_type": "stream",
     "text": [
      "                                                                                                                     \r"
     ]
    },
    {
     "name": "stdout",
     "output_type": "stream",
     "text": [
      "MoviePy - Done.\n",
      "Moviepy - Writing video /home/chenlequn/pan1/Dataset/Laser-Wire-DED-ThermalAudio-Dataset/segmented_videos/Exp_25_5.avi\n",
      "\n"
     ]
    },
    {
     "name": "stderr",
     "output_type": "stream",
     "text": [
      "                                                                                                                     \r"
     ]
    },
    {
     "name": "stdout",
     "output_type": "stream",
     "text": [
      "Moviepy - Done !\n",
      "Moviepy - video ready /home/chenlequn/pan1/Dataset/Laser-Wire-DED-ThermalAudio-Dataset/segmented_videos/Exp_25_5.avi\n",
      "MoviePy - Writing audio in /home/chenlequn/pan1/Dataset/Laser-Wire-DED-ThermalAudio-Dataset/segmented_audio/Exp_25_5.wav\n"
     ]
    },
    {
     "name": "stderr",
     "output_type": "stream",
     "text": [
      "                                                                                                                     \r"
     ]
    },
    {
     "name": "stdout",
     "output_type": "stream",
     "text": [
      "MoviePy - Done.\n",
      "Moviepy - Building video /home/chenlequn/pan1/Dataset/Laser-Wire-DED-ThermalAudio-Dataset/segmented_videos/Exp_25_6.avi.\n",
      "MoviePy - Writing audio in Exp_25_6TEMP_MPY_wvf_snd.mp3\n"
     ]
    },
    {
     "name": "stderr",
     "output_type": "stream",
     "text": [
      "                                                                                                                     \r"
     ]
    },
    {
     "name": "stdout",
     "output_type": "stream",
     "text": [
      "MoviePy - Done.\n",
      "Moviepy - Writing video /home/chenlequn/pan1/Dataset/Laser-Wire-DED-ThermalAudio-Dataset/segmented_videos/Exp_25_6.avi\n",
      "\n"
     ]
    },
    {
     "name": "stderr",
     "output_type": "stream",
     "text": [
      "                                                                                                                     \r"
     ]
    },
    {
     "name": "stdout",
     "output_type": "stream",
     "text": [
      "Moviepy - Done !\n",
      "Moviepy - video ready /home/chenlequn/pan1/Dataset/Laser-Wire-DED-ThermalAudio-Dataset/segmented_videos/Exp_25_6.avi\n",
      "MoviePy - Writing audio in /home/chenlequn/pan1/Dataset/Laser-Wire-DED-ThermalAudio-Dataset/segmented_audio/Exp_25_6.wav\n"
     ]
    },
    {
     "name": "stderr",
     "output_type": "stream",
     "text": [
      "                                                                                                                     \r"
     ]
    },
    {
     "name": "stdout",
     "output_type": "stream",
     "text": [
      "MoviePy - Done.\n",
      "Moviepy - Building video /home/chenlequn/pan1/Dataset/Laser-Wire-DED-ThermalAudio-Dataset/segmented_videos/Exp_25_7.avi.\n",
      "MoviePy - Writing audio in Exp_25_7TEMP_MPY_wvf_snd.mp3\n"
     ]
    },
    {
     "name": "stderr",
     "output_type": "stream",
     "text": [
      "                                                                                                                     \r"
     ]
    },
    {
     "name": "stdout",
     "output_type": "stream",
     "text": [
      "MoviePy - Done.\n",
      "Moviepy - Writing video /home/chenlequn/pan1/Dataset/Laser-Wire-DED-ThermalAudio-Dataset/segmented_videos/Exp_25_7.avi\n",
      "\n"
     ]
    },
    {
     "name": "stderr",
     "output_type": "stream",
     "text": [
      "                                                                                                                     \r"
     ]
    },
    {
     "name": "stdout",
     "output_type": "stream",
     "text": [
      "Moviepy - Done !\n",
      "Moviepy - video ready /home/chenlequn/pan1/Dataset/Laser-Wire-DED-ThermalAudio-Dataset/segmented_videos/Exp_25_7.avi\n",
      "MoviePy - Writing audio in /home/chenlequn/pan1/Dataset/Laser-Wire-DED-ThermalAudio-Dataset/segmented_audio/Exp_25_7.wav\n"
     ]
    },
    {
     "name": "stderr",
     "output_type": "stream",
     "text": [
      "                                                                                                                     "
     ]
    },
    {
     "name": "stdout",
     "output_type": "stream",
     "text": [
      "MoviePy - Done.\n"
     ]
    },
    {
     "name": "stderr",
     "output_type": "stream",
     "text": [
      "\r"
     ]
    },
    {
     "name": "stdout",
     "output_type": "stream",
     "text": [
      "Moviepy - Building video /home/chenlequn/pan1/Dataset/Laser-Wire-DED-ThermalAudio-Dataset/segmented_videos/Exp_25_8.avi.\n",
      "MoviePy - Writing audio in Exp_25_8TEMP_MPY_wvf_snd.mp3\n"
     ]
    },
    {
     "name": "stderr",
     "output_type": "stream",
     "text": [
      "                                                                                                                     \r"
     ]
    },
    {
     "name": "stdout",
     "output_type": "stream",
     "text": [
      "MoviePy - Done.\n",
      "Moviepy - Writing video /home/chenlequn/pan1/Dataset/Laser-Wire-DED-ThermalAudio-Dataset/segmented_videos/Exp_25_8.avi\n",
      "\n"
     ]
    },
    {
     "name": "stderr",
     "output_type": "stream",
     "text": [
      "                                                                                                                     \r"
     ]
    },
    {
     "name": "stdout",
     "output_type": "stream",
     "text": [
      "Moviepy - Done !\n",
      "Moviepy - video ready /home/chenlequn/pan1/Dataset/Laser-Wire-DED-ThermalAudio-Dataset/segmented_videos/Exp_25_8.avi\n",
      "MoviePy - Writing audio in /home/chenlequn/pan1/Dataset/Laser-Wire-DED-ThermalAudio-Dataset/segmented_audio/Exp_25_8.wav\n"
     ]
    },
    {
     "name": "stderr",
     "output_type": "stream",
     "text": [
      "                                                                                                                     "
     ]
    },
    {
     "name": "stdout",
     "output_type": "stream",
     "text": [
      "MoviePy - Done.\n"
     ]
    },
    {
     "name": "stderr",
     "output_type": "stream",
     "text": [
      "\r"
     ]
    },
    {
     "name": "stdout",
     "output_type": "stream",
     "text": [
      "Moviepy - Building video /home/chenlequn/pan1/Dataset/Laser-Wire-DED-ThermalAudio-Dataset/segmented_videos/Exp_25_9.avi.\n",
      "MoviePy - Writing audio in Exp_25_9TEMP_MPY_wvf_snd.mp3\n"
     ]
    },
    {
     "name": "stderr",
     "output_type": "stream",
     "text": [
      "                                                                                                                     \r"
     ]
    },
    {
     "name": "stdout",
     "output_type": "stream",
     "text": [
      "MoviePy - Done.\n",
      "Moviepy - Writing video /home/chenlequn/pan1/Dataset/Laser-Wire-DED-ThermalAudio-Dataset/segmented_videos/Exp_25_9.avi\n",
      "\n"
     ]
    },
    {
     "name": "stderr",
     "output_type": "stream",
     "text": [
      "                                                                                                                     \r"
     ]
    },
    {
     "name": "stdout",
     "output_type": "stream",
     "text": [
      "Moviepy - Done !\n",
      "Moviepy - video ready /home/chenlequn/pan1/Dataset/Laser-Wire-DED-ThermalAudio-Dataset/segmented_videos/Exp_25_9.avi\n",
      "MoviePy - Writing audio in /home/chenlequn/pan1/Dataset/Laser-Wire-DED-ThermalAudio-Dataset/segmented_audio/Exp_25_9.wav\n"
     ]
    },
    {
     "name": "stderr",
     "output_type": "stream",
     "text": [
      "                                                                                                                     "
     ]
    },
    {
     "name": "stdout",
     "output_type": "stream",
     "text": [
      "MoviePy - Done.\n"
     ]
    },
    {
     "name": "stderr",
     "output_type": "stream",
     "text": [
      "\r"
     ]
    },
    {
     "name": "stdout",
     "output_type": "stream",
     "text": [
      "Moviepy - Building video /home/chenlequn/pan1/Dataset/Laser-Wire-DED-ThermalAudio-Dataset/segmented_videos/Exp_25_10.avi.\n",
      "MoviePy - Writing audio in Exp_25_10TEMP_MPY_wvf_snd.mp3\n"
     ]
    },
    {
     "name": "stderr",
     "output_type": "stream",
     "text": [
      "                                                                                                                     \r"
     ]
    },
    {
     "name": "stdout",
     "output_type": "stream",
     "text": [
      "MoviePy - Done.\n",
      "Moviepy - Writing video /home/chenlequn/pan1/Dataset/Laser-Wire-DED-ThermalAudio-Dataset/segmented_videos/Exp_25_10.avi\n",
      "\n"
     ]
    },
    {
     "name": "stderr",
     "output_type": "stream",
     "text": [
      "                                                                                                                     \r"
     ]
    },
    {
     "name": "stdout",
     "output_type": "stream",
     "text": [
      "Moviepy - Done !\n",
      "Moviepy - video ready /home/chenlequn/pan1/Dataset/Laser-Wire-DED-ThermalAudio-Dataset/segmented_videos/Exp_25_10.avi\n",
      "MoviePy - Writing audio in /home/chenlequn/pan1/Dataset/Laser-Wire-DED-ThermalAudio-Dataset/segmented_audio/Exp_25_10.wav\n"
     ]
    },
    {
     "name": "stderr",
     "output_type": "stream",
     "text": [
      "                                                                                                                     \r"
     ]
    },
    {
     "name": "stdout",
     "output_type": "stream",
     "text": [
      "MoviePy - Done.\n",
      "Moviepy - Building video /home/chenlequn/pan1/Dataset/Laser-Wire-DED-ThermalAudio-Dataset/segmented_videos/Exp_25_11.avi.\n",
      "MoviePy - Writing audio in Exp_25_11TEMP_MPY_wvf_snd.mp3\n"
     ]
    },
    {
     "name": "stderr",
     "output_type": "stream",
     "text": [
      "                                                                                                                     \r"
     ]
    },
    {
     "name": "stdout",
     "output_type": "stream",
     "text": [
      "MoviePy - Done.\n",
      "Moviepy - Writing video /home/chenlequn/pan1/Dataset/Laser-Wire-DED-ThermalAudio-Dataset/segmented_videos/Exp_25_11.avi\n",
      "\n"
     ]
    },
    {
     "name": "stderr",
     "output_type": "stream",
     "text": [
      "                                                                                                                     \r"
     ]
    },
    {
     "name": "stdout",
     "output_type": "stream",
     "text": [
      "Moviepy - Done !\n",
      "Moviepy - video ready /home/chenlequn/pan1/Dataset/Laser-Wire-DED-ThermalAudio-Dataset/segmented_videos/Exp_25_11.avi\n",
      "MoviePy - Writing audio in /home/chenlequn/pan1/Dataset/Laser-Wire-DED-ThermalAudio-Dataset/segmented_audio/Exp_25_11.wav\n"
     ]
    },
    {
     "name": "stderr",
     "output_type": "stream",
     "text": [
      "                                                                                                                     \r"
     ]
    },
    {
     "name": "stdout",
     "output_type": "stream",
     "text": [
      "MoviePy - Done.\n",
      "Moviepy - Building video /home/chenlequn/pan1/Dataset/Laser-Wire-DED-ThermalAudio-Dataset/segmented_videos/Exp_25_12.avi.\n",
      "MoviePy - Writing audio in Exp_25_12TEMP_MPY_wvf_snd.mp3\n"
     ]
    },
    {
     "name": "stderr",
     "output_type": "stream",
     "text": [
      "                                                                                                                     \r"
     ]
    },
    {
     "name": "stdout",
     "output_type": "stream",
     "text": [
      "MoviePy - Done.\n",
      "Moviepy - Writing video /home/chenlequn/pan1/Dataset/Laser-Wire-DED-ThermalAudio-Dataset/segmented_videos/Exp_25_12.avi\n",
      "\n"
     ]
    },
    {
     "name": "stderr",
     "output_type": "stream",
     "text": [
      "                                                                                                                     \r"
     ]
    },
    {
     "name": "stdout",
     "output_type": "stream",
     "text": [
      "Moviepy - Done !\n",
      "Moviepy - video ready /home/chenlequn/pan1/Dataset/Laser-Wire-DED-ThermalAudio-Dataset/segmented_videos/Exp_25_12.avi\n",
      "MoviePy - Writing audio in /home/chenlequn/pan1/Dataset/Laser-Wire-DED-ThermalAudio-Dataset/segmented_audio/Exp_25_12.wav\n"
     ]
    },
    {
     "name": "stderr",
     "output_type": "stream",
     "text": [
      "                                                                                                                     \r"
     ]
    },
    {
     "name": "stdout",
     "output_type": "stream",
     "text": [
      "MoviePy - Done.\n",
      "Moviepy - Building video /home/chenlequn/pan1/Dataset/Laser-Wire-DED-ThermalAudio-Dataset/segmented_videos/Exp_25_13.avi.\n",
      "MoviePy - Writing audio in Exp_25_13TEMP_MPY_wvf_snd.mp3\n"
     ]
    },
    {
     "name": "stderr",
     "output_type": "stream",
     "text": [
      "                                                                                                                     \r"
     ]
    },
    {
     "name": "stdout",
     "output_type": "stream",
     "text": [
      "MoviePy - Done.\n",
      "Moviepy - Writing video /home/chenlequn/pan1/Dataset/Laser-Wire-DED-ThermalAudio-Dataset/segmented_videos/Exp_25_13.avi\n",
      "\n"
     ]
    },
    {
     "name": "stderr",
     "output_type": "stream",
     "text": [
      "                                                                                                                     \r"
     ]
    },
    {
     "name": "stdout",
     "output_type": "stream",
     "text": [
      "Moviepy - Done !\n",
      "Moviepy - video ready /home/chenlequn/pan1/Dataset/Laser-Wire-DED-ThermalAudio-Dataset/segmented_videos/Exp_25_13.avi\n",
      "MoviePy - Writing audio in /home/chenlequn/pan1/Dataset/Laser-Wire-DED-ThermalAudio-Dataset/segmented_audio/Exp_25_13.wav\n"
     ]
    },
    {
     "name": "stderr",
     "output_type": "stream",
     "text": [
      "                                                                                                                     \r"
     ]
    },
    {
     "name": "stdout",
     "output_type": "stream",
     "text": [
      "MoviePy - Done.\n",
      "Moviepy - Building video /home/chenlequn/pan1/Dataset/Laser-Wire-DED-ThermalAudio-Dataset/segmented_videos/Exp_April_16_test_1.avi.\n",
      "MoviePy - Writing audio in Exp_April_16_test_1TEMP_MPY_wvf_snd.mp3\n"
     ]
    },
    {
     "name": "stderr",
     "output_type": "stream",
     "text": [
      "                                                                                                                     \r"
     ]
    },
    {
     "name": "stdout",
     "output_type": "stream",
     "text": [
      "MoviePy - Done.\n",
      "Moviepy - Writing video /home/chenlequn/pan1/Dataset/Laser-Wire-DED-ThermalAudio-Dataset/segmented_videos/Exp_April_16_test_1.avi\n",
      "\n"
     ]
    },
    {
     "name": "stderr",
     "output_type": "stream",
     "text": [
      "                                                                                                                     \r"
     ]
    },
    {
     "name": "stdout",
     "output_type": "stream",
     "text": [
      "Moviepy - Done !\n",
      "Moviepy - video ready /home/chenlequn/pan1/Dataset/Laser-Wire-DED-ThermalAudio-Dataset/segmented_videos/Exp_April_16_test_1.avi\n",
      "MoviePy - Writing audio in /home/chenlequn/pan1/Dataset/Laser-Wire-DED-ThermalAudio-Dataset/segmented_audio/Exp_April_16_test_1.wav\n"
     ]
    },
    {
     "name": "stderr",
     "output_type": "stream",
     "text": [
      "                                                                                                                     \r"
     ]
    },
    {
     "name": "stdout",
     "output_type": "stream",
     "text": [
      "MoviePy - Done.\n",
      "Moviepy - Building video /home/chenlequn/pan1/Dataset/Laser-Wire-DED-ThermalAudio-Dataset/segmented_videos/Exp_April_16_test_2.avi.\n",
      "MoviePy - Writing audio in Exp_April_16_test_2TEMP_MPY_wvf_snd.mp3\n"
     ]
    },
    {
     "name": "stderr",
     "output_type": "stream",
     "text": [
      "                                                                                                                     \r"
     ]
    },
    {
     "name": "stdout",
     "output_type": "stream",
     "text": [
      "MoviePy - Done.\n",
      "Moviepy - Writing video /home/chenlequn/pan1/Dataset/Laser-Wire-DED-ThermalAudio-Dataset/segmented_videos/Exp_April_16_test_2.avi\n",
      "\n"
     ]
    },
    {
     "name": "stderr",
     "output_type": "stream",
     "text": [
      "                                                                                                                     \r"
     ]
    },
    {
     "name": "stdout",
     "output_type": "stream",
     "text": [
      "Moviepy - Done !\n",
      "Moviepy - video ready /home/chenlequn/pan1/Dataset/Laser-Wire-DED-ThermalAudio-Dataset/segmented_videos/Exp_April_16_test_2.avi\n",
      "MoviePy - Writing audio in /home/chenlequn/pan1/Dataset/Laser-Wire-DED-ThermalAudio-Dataset/segmented_audio/Exp_April_16_test_2.wav\n"
     ]
    },
    {
     "name": "stderr",
     "output_type": "stream",
     "text": [
      "                                                                                                                     "
     ]
    },
    {
     "name": "stdout",
     "output_type": "stream",
     "text": [
      "MoviePy - Done.\n"
     ]
    },
    {
     "name": "stderr",
     "output_type": "stream",
     "text": [
      "\r"
     ]
    },
    {
     "name": "stdout",
     "output_type": "stream",
     "text": [
      "Moviepy - Building video /home/chenlequn/pan1/Dataset/Laser-Wire-DED-ThermalAudio-Dataset/segmented_videos/Exp_April_16_test_3.avi.\n",
      "MoviePy - Writing audio in Exp_April_16_test_3TEMP_MPY_wvf_snd.mp3\n"
     ]
    },
    {
     "name": "stderr",
     "output_type": "stream",
     "text": [
      "                                                                                                                     \r"
     ]
    },
    {
     "name": "stdout",
     "output_type": "stream",
     "text": [
      "MoviePy - Done.\n",
      "Moviepy - Writing video /home/chenlequn/pan1/Dataset/Laser-Wire-DED-ThermalAudio-Dataset/segmented_videos/Exp_April_16_test_3.avi\n",
      "\n"
     ]
    },
    {
     "name": "stderr",
     "output_type": "stream",
     "text": [
      "                                                                                                                     \r"
     ]
    },
    {
     "name": "stdout",
     "output_type": "stream",
     "text": [
      "Moviepy - Done !\n",
      "Moviepy - video ready /home/chenlequn/pan1/Dataset/Laser-Wire-DED-ThermalAudio-Dataset/segmented_videos/Exp_April_16_test_3.avi\n",
      "MoviePy - Writing audio in /home/chenlequn/pan1/Dataset/Laser-Wire-DED-ThermalAudio-Dataset/segmented_audio/Exp_April_16_test_3.wav\n"
     ]
    },
    {
     "name": "stderr",
     "output_type": "stream",
     "text": [
      "                                                                                                                     \r"
     ]
    },
    {
     "name": "stdout",
     "output_type": "stream",
     "text": [
      "MoviePy - Done.\n",
      "Moviepy - Building video /home/chenlequn/pan1/Dataset/Laser-Wire-DED-ThermalAudio-Dataset/segmented_videos/Exp_April_16_test_4.avi.\n",
      "MoviePy - Writing audio in Exp_April_16_test_4TEMP_MPY_wvf_snd.mp3\n"
     ]
    },
    {
     "name": "stderr",
     "output_type": "stream",
     "text": [
      "                                                                                                                     \r"
     ]
    },
    {
     "name": "stdout",
     "output_type": "stream",
     "text": [
      "MoviePy - Done.\n",
      "Moviepy - Writing video /home/chenlequn/pan1/Dataset/Laser-Wire-DED-ThermalAudio-Dataset/segmented_videos/Exp_April_16_test_4.avi\n",
      "\n"
     ]
    },
    {
     "name": "stderr",
     "output_type": "stream",
     "text": [
      "                                                                                                                     \r"
     ]
    },
    {
     "name": "stdout",
     "output_type": "stream",
     "text": [
      "Moviepy - Done !\n",
      "Moviepy - video ready /home/chenlequn/pan1/Dataset/Laser-Wire-DED-ThermalAudio-Dataset/segmented_videos/Exp_April_16_test_4.avi\n",
      "MoviePy - Writing audio in /home/chenlequn/pan1/Dataset/Laser-Wire-DED-ThermalAudio-Dataset/segmented_audio/Exp_April_16_test_4.wav\n"
     ]
    },
    {
     "name": "stderr",
     "output_type": "stream",
     "text": [
      "                                                                                                                     "
     ]
    },
    {
     "name": "stdout",
     "output_type": "stream",
     "text": [
      "MoviePy - Done.\n"
     ]
    },
    {
     "name": "stderr",
     "output_type": "stream",
     "text": [
      "\r"
     ]
    },
    {
     "name": "stdout",
     "output_type": "stream",
     "text": [
      "Moviepy - Building video /home/chenlequn/pan1/Dataset/Laser-Wire-DED-ThermalAudio-Dataset/segmented_videos/Exp_24_1.avi.\n",
      "MoviePy - Writing audio in Exp_24_1TEMP_MPY_wvf_snd.mp3\n"
     ]
    },
    {
     "name": "stderr",
     "output_type": "stream",
     "text": [
      "                                                                                                                     \r"
     ]
    },
    {
     "name": "stdout",
     "output_type": "stream",
     "text": [
      "MoviePy - Done.\n",
      "Moviepy - Writing video /home/chenlequn/pan1/Dataset/Laser-Wire-DED-ThermalAudio-Dataset/segmented_videos/Exp_24_1.avi\n",
      "\n"
     ]
    },
    {
     "name": "stderr",
     "output_type": "stream",
     "text": [
      "                                                                                                                     \r"
     ]
    },
    {
     "name": "stdout",
     "output_type": "stream",
     "text": [
      "Moviepy - Done !\n",
      "Moviepy - video ready /home/chenlequn/pan1/Dataset/Laser-Wire-DED-ThermalAudio-Dataset/segmented_videos/Exp_24_1.avi\n",
      "MoviePy - Writing audio in /home/chenlequn/pan1/Dataset/Laser-Wire-DED-ThermalAudio-Dataset/segmented_audio/Exp_24_1.wav\n"
     ]
    },
    {
     "name": "stderr",
     "output_type": "stream",
     "text": [
      "                                                                                                                     \r"
     ]
    },
    {
     "name": "stdout",
     "output_type": "stream",
     "text": [
      "MoviePy - Done.\n",
      "Moviepy - Building video /home/chenlequn/pan1/Dataset/Laser-Wire-DED-ThermalAudio-Dataset/segmented_videos/Exp_24_2.avi.\n",
      "MoviePy - Writing audio in Exp_24_2TEMP_MPY_wvf_snd.mp3\n"
     ]
    },
    {
     "name": "stderr",
     "output_type": "stream",
     "text": [
      "                                                                                                                     \r"
     ]
    },
    {
     "name": "stdout",
     "output_type": "stream",
     "text": [
      "MoviePy - Done.\n",
      "Moviepy - Writing video /home/chenlequn/pan1/Dataset/Laser-Wire-DED-ThermalAudio-Dataset/segmented_videos/Exp_24_2.avi\n",
      "\n"
     ]
    },
    {
     "name": "stderr",
     "output_type": "stream",
     "text": [
      "                                                                                                                     \r"
     ]
    },
    {
     "name": "stdout",
     "output_type": "stream",
     "text": [
      "Moviepy - Done !\n",
      "Moviepy - video ready /home/chenlequn/pan1/Dataset/Laser-Wire-DED-ThermalAudio-Dataset/segmented_videos/Exp_24_2.avi\n",
      "MoviePy - Writing audio in /home/chenlequn/pan1/Dataset/Laser-Wire-DED-ThermalAudio-Dataset/segmented_audio/Exp_24_2.wav\n"
     ]
    },
    {
     "name": "stderr",
     "output_type": "stream",
     "text": [
      "                                                                                                                     \r"
     ]
    },
    {
     "name": "stdout",
     "output_type": "stream",
     "text": [
      "MoviePy - Done.\n",
      "Moviepy - Building video /home/chenlequn/pan1/Dataset/Laser-Wire-DED-ThermalAudio-Dataset/segmented_videos/Exp_24_3.avi.\n",
      "MoviePy - Writing audio in Exp_24_3TEMP_MPY_wvf_snd.mp3\n"
     ]
    },
    {
     "name": "stderr",
     "output_type": "stream",
     "text": [
      "                                                                                                                     \r"
     ]
    },
    {
     "name": "stdout",
     "output_type": "stream",
     "text": [
      "MoviePy - Done.\n",
      "Moviepy - Writing video /home/chenlequn/pan1/Dataset/Laser-Wire-DED-ThermalAudio-Dataset/segmented_videos/Exp_24_3.avi\n",
      "\n"
     ]
    },
    {
     "name": "stderr",
     "output_type": "stream",
     "text": [
      "                                                                                                                     \r"
     ]
    },
    {
     "name": "stdout",
     "output_type": "stream",
     "text": [
      "Moviepy - Done !\n",
      "Moviepy - video ready /home/chenlequn/pan1/Dataset/Laser-Wire-DED-ThermalAudio-Dataset/segmented_videos/Exp_24_3.avi\n",
      "MoviePy - Writing audio in /home/chenlequn/pan1/Dataset/Laser-Wire-DED-ThermalAudio-Dataset/segmented_audio/Exp_24_3.wav\n"
     ]
    },
    {
     "name": "stderr",
     "output_type": "stream",
     "text": [
      "                                                                                                                     \r"
     ]
    },
    {
     "name": "stdout",
     "output_type": "stream",
     "text": [
      "MoviePy - Done.\n",
      "Moviepy - Building video /home/chenlequn/pan1/Dataset/Laser-Wire-DED-ThermalAudio-Dataset/segmented_videos/Exp_24_4.avi.\n",
      "MoviePy - Writing audio in Exp_24_4TEMP_MPY_wvf_snd.mp3\n"
     ]
    },
    {
     "name": "stderr",
     "output_type": "stream",
     "text": [
      "                                                                                                                     \r"
     ]
    },
    {
     "name": "stdout",
     "output_type": "stream",
     "text": [
      "MoviePy - Done.\n",
      "Moviepy - Writing video /home/chenlequn/pan1/Dataset/Laser-Wire-DED-ThermalAudio-Dataset/segmented_videos/Exp_24_4.avi\n",
      "\n"
     ]
    },
    {
     "name": "stderr",
     "output_type": "stream",
     "text": [
      "                                                                                                                     \r"
     ]
    },
    {
     "name": "stdout",
     "output_type": "stream",
     "text": [
      "Moviepy - Done !\n",
      "Moviepy - video ready /home/chenlequn/pan1/Dataset/Laser-Wire-DED-ThermalAudio-Dataset/segmented_videos/Exp_24_4.avi\n",
      "MoviePy - Writing audio in /home/chenlequn/pan1/Dataset/Laser-Wire-DED-ThermalAudio-Dataset/segmented_audio/Exp_24_4.wav\n"
     ]
    },
    {
     "name": "stderr",
     "output_type": "stream",
     "text": [
      "                                                                                                                     \r"
     ]
    },
    {
     "name": "stdout",
     "output_type": "stream",
     "text": [
      "MoviePy - Done.\n",
      "Moviepy - Building video /home/chenlequn/pan1/Dataset/Laser-Wire-DED-ThermalAudio-Dataset/segmented_videos/Exp_24_5.avi.\n",
      "MoviePy - Writing audio in Exp_24_5TEMP_MPY_wvf_snd.mp3\n"
     ]
    },
    {
     "name": "stderr",
     "output_type": "stream",
     "text": [
      "                                                                                                                     \r"
     ]
    },
    {
     "name": "stdout",
     "output_type": "stream",
     "text": [
      "MoviePy - Done.\n",
      "Moviepy - Writing video /home/chenlequn/pan1/Dataset/Laser-Wire-DED-ThermalAudio-Dataset/segmented_videos/Exp_24_5.avi\n",
      "\n"
     ]
    },
    {
     "name": "stderr",
     "output_type": "stream",
     "text": [
      "                                                                                                                     \r"
     ]
    },
    {
     "name": "stdout",
     "output_type": "stream",
     "text": [
      "Moviepy - Done !\n",
      "Moviepy - video ready /home/chenlequn/pan1/Dataset/Laser-Wire-DED-ThermalAudio-Dataset/segmented_videos/Exp_24_5.avi\n",
      "MoviePy - Writing audio in /home/chenlequn/pan1/Dataset/Laser-Wire-DED-ThermalAudio-Dataset/segmented_audio/Exp_24_5.wav\n"
     ]
    },
    {
     "name": "stderr",
     "output_type": "stream",
     "text": [
      "                                                                                                                     \r"
     ]
    },
    {
     "name": "stdout",
     "output_type": "stream",
     "text": [
      "MoviePy - Done.\n",
      "Moviepy - Building video /home/chenlequn/pan1/Dataset/Laser-Wire-DED-ThermalAudio-Dataset/segmented_videos/Exp_24_6.avi.\n",
      "MoviePy - Writing audio in Exp_24_6TEMP_MPY_wvf_snd.mp3\n"
     ]
    },
    {
     "name": "stderr",
     "output_type": "stream",
     "text": [
      "                                                                                                                     \r"
     ]
    },
    {
     "name": "stdout",
     "output_type": "stream",
     "text": [
      "MoviePy - Done.\n",
      "Moviepy - Writing video /home/chenlequn/pan1/Dataset/Laser-Wire-DED-ThermalAudio-Dataset/segmented_videos/Exp_24_6.avi\n",
      "\n"
     ]
    },
    {
     "name": "stderr",
     "output_type": "stream",
     "text": [
      "                                                                                                                     \r"
     ]
    },
    {
     "name": "stdout",
     "output_type": "stream",
     "text": [
      "Moviepy - Done !\n",
      "Moviepy - video ready /home/chenlequn/pan1/Dataset/Laser-Wire-DED-ThermalAudio-Dataset/segmented_videos/Exp_24_6.avi\n",
      "MoviePy - Writing audio in /home/chenlequn/pan1/Dataset/Laser-Wire-DED-ThermalAudio-Dataset/segmented_audio/Exp_24_6.wav\n"
     ]
    },
    {
     "name": "stderr",
     "output_type": "stream",
     "text": [
      "                                                                                                                     \r"
     ]
    },
    {
     "name": "stdout",
     "output_type": "stream",
     "text": [
      "MoviePy - Done.\n",
      "Moviepy - Building video /home/chenlequn/pan1/Dataset/Laser-Wire-DED-ThermalAudio-Dataset/segmented_videos/Exp_24_7.avi.\n",
      "MoviePy - Writing audio in Exp_24_7TEMP_MPY_wvf_snd.mp3\n"
     ]
    },
    {
     "name": "stderr",
     "output_type": "stream",
     "text": [
      "                                                                                                                     \r"
     ]
    },
    {
     "name": "stdout",
     "output_type": "stream",
     "text": [
      "MoviePy - Done.\n",
      "Moviepy - Writing video /home/chenlequn/pan1/Dataset/Laser-Wire-DED-ThermalAudio-Dataset/segmented_videos/Exp_24_7.avi\n",
      "\n"
     ]
    },
    {
     "name": "stderr",
     "output_type": "stream",
     "text": [
      "                                                                                                                     \r"
     ]
    },
    {
     "name": "stdout",
     "output_type": "stream",
     "text": [
      "Moviepy - Done !\n",
      "Moviepy - video ready /home/chenlequn/pan1/Dataset/Laser-Wire-DED-ThermalAudio-Dataset/segmented_videos/Exp_24_7.avi\n",
      "MoviePy - Writing audio in /home/chenlequn/pan1/Dataset/Laser-Wire-DED-ThermalAudio-Dataset/segmented_audio/Exp_24_7.wav\n"
     ]
    },
    {
     "name": "stderr",
     "output_type": "stream",
     "text": [
      "                                                                                                                     \r"
     ]
    },
    {
     "name": "stdout",
     "output_type": "stream",
     "text": [
      "MoviePy - Done.\n",
      "Moviepy - Building video /home/chenlequn/pan1/Dataset/Laser-Wire-DED-ThermalAudio-Dataset/segmented_videos/Exp_24_8.avi.\n",
      "MoviePy - Writing audio in Exp_24_8TEMP_MPY_wvf_snd.mp3\n"
     ]
    },
    {
     "name": "stderr",
     "output_type": "stream",
     "text": [
      "                                                                                                                     "
     ]
    },
    {
     "name": "stdout",
     "output_type": "stream",
     "text": [
      "MoviePy - Done.\n",
      "Moviepy - Writing video /home/chenlequn/pan1/Dataset/Laser-Wire-DED-ThermalAudio-Dataset/segmented_videos/Exp_24_8.avi\n",
      "\n"
     ]
    },
    {
     "name": "stderr",
     "output_type": "stream",
     "text": [
      "                                                                                                                     \r"
     ]
    },
    {
     "name": "stdout",
     "output_type": "stream",
     "text": [
      "Moviepy - Done !\n",
      "Moviepy - video ready /home/chenlequn/pan1/Dataset/Laser-Wire-DED-ThermalAudio-Dataset/segmented_videos/Exp_24_8.avi\n",
      "MoviePy - Writing audio in /home/chenlequn/pan1/Dataset/Laser-Wire-DED-ThermalAudio-Dataset/segmented_audio/Exp_24_8.wav\n"
     ]
    },
    {
     "name": "stderr",
     "output_type": "stream",
     "text": [
      "                                                                                                                     \r"
     ]
    },
    {
     "name": "stdout",
     "output_type": "stream",
     "text": [
      "MoviePy - Done.\n",
      "Moviepy - Building video /home/chenlequn/pan1/Dataset/Laser-Wire-DED-ThermalAudio-Dataset/segmented_videos/Exp_24_9.avi.\n",
      "MoviePy - Writing audio in Exp_24_9TEMP_MPY_wvf_snd.mp3\n"
     ]
    },
    {
     "name": "stderr",
     "output_type": "stream",
     "text": [
      "                                                                                                                     \r"
     ]
    },
    {
     "name": "stdout",
     "output_type": "stream",
     "text": [
      "MoviePy - Done.\n",
      "Moviepy - Writing video /home/chenlequn/pan1/Dataset/Laser-Wire-DED-ThermalAudio-Dataset/segmented_videos/Exp_24_9.avi\n",
      "\n"
     ]
    },
    {
     "name": "stderr",
     "output_type": "stream",
     "text": [
      "                                                                                                                     \r"
     ]
    },
    {
     "name": "stdout",
     "output_type": "stream",
     "text": [
      "Moviepy - Done !\n",
      "Moviepy - video ready /home/chenlequn/pan1/Dataset/Laser-Wire-DED-ThermalAudio-Dataset/segmented_videos/Exp_24_9.avi\n",
      "MoviePy - Writing audio in /home/chenlequn/pan1/Dataset/Laser-Wire-DED-ThermalAudio-Dataset/segmented_audio/Exp_24_9.wav\n"
     ]
    },
    {
     "name": "stderr",
     "output_type": "stream",
     "text": [
      "                                                                                                                     \r"
     ]
    },
    {
     "name": "stdout",
     "output_type": "stream",
     "text": [
      "MoviePy - Done.\n",
      "Moviepy - Building video /home/chenlequn/pan1/Dataset/Laser-Wire-DED-ThermalAudio-Dataset/segmented_videos/Exp_24_10.avi.\n",
      "MoviePy - Writing audio in Exp_24_10TEMP_MPY_wvf_snd.mp3\n"
     ]
    },
    {
     "name": "stderr",
     "output_type": "stream",
     "text": [
      "                                                                                                                     \r"
     ]
    },
    {
     "name": "stdout",
     "output_type": "stream",
     "text": [
      "MoviePy - Done.\n",
      "Moviepy - Writing video /home/chenlequn/pan1/Dataset/Laser-Wire-DED-ThermalAudio-Dataset/segmented_videos/Exp_24_10.avi\n",
      "\n"
     ]
    },
    {
     "name": "stderr",
     "output_type": "stream",
     "text": [
      "                                                                                                                     \r"
     ]
    },
    {
     "name": "stdout",
     "output_type": "stream",
     "text": [
      "Moviepy - Done !\n",
      "Moviepy - video ready /home/chenlequn/pan1/Dataset/Laser-Wire-DED-ThermalAudio-Dataset/segmented_videos/Exp_24_10.avi\n",
      "MoviePy - Writing audio in /home/chenlequn/pan1/Dataset/Laser-Wire-DED-ThermalAudio-Dataset/segmented_audio/Exp_24_10.wav\n"
     ]
    },
    {
     "name": "stderr",
     "output_type": "stream",
     "text": [
      "                                                                                                                     \r"
     ]
    },
    {
     "name": "stdout",
     "output_type": "stream",
     "text": [
      "MoviePy - Done.\n",
      "Moviepy - Building video /home/chenlequn/pan1/Dataset/Laser-Wire-DED-ThermalAudio-Dataset/segmented_videos/Exp_24_11.avi.\n",
      "MoviePy - Writing audio in Exp_24_11TEMP_MPY_wvf_snd.mp3\n"
     ]
    },
    {
     "name": "stderr",
     "output_type": "stream",
     "text": [
      "                                                                                                                     "
     ]
    },
    {
     "name": "stdout",
     "output_type": "stream",
     "text": [
      "MoviePy - Done.\n",
      "Moviepy - Writing video /home/chenlequn/pan1/Dataset/Laser-Wire-DED-ThermalAudio-Dataset/segmented_videos/Exp_24_11.avi\n",
      "\n"
     ]
    },
    {
     "name": "stderr",
     "output_type": "stream",
     "text": [
      "                                                                                                                     \r"
     ]
    },
    {
     "name": "stdout",
     "output_type": "stream",
     "text": [
      "Moviepy - Done !\n",
      "Moviepy - video ready /home/chenlequn/pan1/Dataset/Laser-Wire-DED-ThermalAudio-Dataset/segmented_videos/Exp_24_11.avi\n",
      "MoviePy - Writing audio in /home/chenlequn/pan1/Dataset/Laser-Wire-DED-ThermalAudio-Dataset/segmented_audio/Exp_24_11.wav\n"
     ]
    },
    {
     "name": "stderr",
     "output_type": "stream",
     "text": [
      "                                                                                                                     \r"
     ]
    },
    {
     "name": "stdout",
     "output_type": "stream",
     "text": [
      "MoviePy - Done.\n",
      "Moviepy - Building video /home/chenlequn/pan1/Dataset/Laser-Wire-DED-ThermalAudio-Dataset/segmented_videos/Exp_24_12.avi.\n",
      "MoviePy - Writing audio in Exp_24_12TEMP_MPY_wvf_snd.mp3\n"
     ]
    },
    {
     "name": "stderr",
     "output_type": "stream",
     "text": [
      "                                                                                                                     \r"
     ]
    },
    {
     "name": "stdout",
     "output_type": "stream",
     "text": [
      "MoviePy - Done.\n",
      "Moviepy - Writing video /home/chenlequn/pan1/Dataset/Laser-Wire-DED-ThermalAudio-Dataset/segmented_videos/Exp_24_12.avi\n",
      "\n"
     ]
    },
    {
     "name": "stderr",
     "output_type": "stream",
     "text": [
      "                                                                                                                     \r"
     ]
    },
    {
     "name": "stdout",
     "output_type": "stream",
     "text": [
      "Moviepy - Done !\n",
      "Moviepy - video ready /home/chenlequn/pan1/Dataset/Laser-Wire-DED-ThermalAudio-Dataset/segmented_videos/Exp_24_12.avi\n",
      "MoviePy - Writing audio in /home/chenlequn/pan1/Dataset/Laser-Wire-DED-ThermalAudio-Dataset/segmented_audio/Exp_24_12.wav\n"
     ]
    },
    {
     "name": "stderr",
     "output_type": "stream",
     "text": [
      "                                                                                                                     \r"
     ]
    },
    {
     "name": "stdout",
     "output_type": "stream",
     "text": [
      "MoviePy - Done.\n",
      "Moviepy - Building video /home/chenlequn/pan1/Dataset/Laser-Wire-DED-ThermalAudio-Dataset/segmented_videos/Exp_24_13.avi.\n",
      "MoviePy - Writing audio in Exp_24_13TEMP_MPY_wvf_snd.mp3\n"
     ]
    },
    {
     "name": "stderr",
     "output_type": "stream",
     "text": [
      "                                                                                                                     \r"
     ]
    },
    {
     "name": "stdout",
     "output_type": "stream",
     "text": [
      "MoviePy - Done.\n",
      "Moviepy - Writing video /home/chenlequn/pan1/Dataset/Laser-Wire-DED-ThermalAudio-Dataset/segmented_videos/Exp_24_13.avi\n",
      "\n"
     ]
    },
    {
     "name": "stderr",
     "output_type": "stream",
     "text": [
      "                                                                                                                     \r"
     ]
    },
    {
     "name": "stdout",
     "output_type": "stream",
     "text": [
      "Moviepy - Done !\n",
      "Moviepy - video ready /home/chenlequn/pan1/Dataset/Laser-Wire-DED-ThermalAudio-Dataset/segmented_videos/Exp_24_13.avi\n",
      "MoviePy - Writing audio in /home/chenlequn/pan1/Dataset/Laser-Wire-DED-ThermalAudio-Dataset/segmented_audio/Exp_24_13.wav\n"
     ]
    },
    {
     "name": "stderr",
     "output_type": "stream",
     "text": [
      "                                                                                                                     \r"
     ]
    },
    {
     "name": "stdout",
     "output_type": "stream",
     "text": [
      "MoviePy - Done.\n",
      "Moviepy - Building video /home/chenlequn/pan1/Dataset/Laser-Wire-DED-ThermalAudio-Dataset/segmented_videos/Exp_24_14.avi.\n",
      "MoviePy - Writing audio in Exp_24_14TEMP_MPY_wvf_snd.mp3\n"
     ]
    },
    {
     "name": "stderr",
     "output_type": "stream",
     "text": [
      "                                                                                                                     \r"
     ]
    },
    {
     "name": "stdout",
     "output_type": "stream",
     "text": [
      "MoviePy - Done.\n",
      "Moviepy - Writing video /home/chenlequn/pan1/Dataset/Laser-Wire-DED-ThermalAudio-Dataset/segmented_videos/Exp_24_14.avi\n",
      "\n"
     ]
    },
    {
     "name": "stderr",
     "output_type": "stream",
     "text": [
      "                                                                                                                     \r"
     ]
    },
    {
     "name": "stdout",
     "output_type": "stream",
     "text": [
      "Moviepy - Done !\n",
      "Moviepy - video ready /home/chenlequn/pan1/Dataset/Laser-Wire-DED-ThermalAudio-Dataset/segmented_videos/Exp_24_14.avi\n",
      "MoviePy - Writing audio in /home/chenlequn/pan1/Dataset/Laser-Wire-DED-ThermalAudio-Dataset/segmented_audio/Exp_24_14.wav\n"
     ]
    },
    {
     "name": "stderr",
     "output_type": "stream",
     "text": [
      "                                                                                                                     \r"
     ]
    },
    {
     "name": "stdout",
     "output_type": "stream",
     "text": [
      "MoviePy - Done.\n",
      "Moviepy - Building video /home/chenlequn/pan1/Dataset/Laser-Wire-DED-ThermalAudio-Dataset/segmented_videos/Exp_24_15.avi.\n",
      "MoviePy - Writing audio in Exp_24_15TEMP_MPY_wvf_snd.mp3\n"
     ]
    },
    {
     "name": "stderr",
     "output_type": "stream",
     "text": [
      "                                                                                                                     "
     ]
    },
    {
     "name": "stdout",
     "output_type": "stream",
     "text": [
      "MoviePy - Done.\n",
      "Moviepy - Writing video /home/chenlequn/pan1/Dataset/Laser-Wire-DED-ThermalAudio-Dataset/segmented_videos/Exp_24_15.avi\n",
      "\n"
     ]
    },
    {
     "name": "stderr",
     "output_type": "stream",
     "text": [
      "                                                                                                                     \r"
     ]
    },
    {
     "name": "stdout",
     "output_type": "stream",
     "text": [
      "Moviepy - Done !\n",
      "Moviepy - video ready /home/chenlequn/pan1/Dataset/Laser-Wire-DED-ThermalAudio-Dataset/segmented_videos/Exp_24_15.avi\n",
      "MoviePy - Writing audio in /home/chenlequn/pan1/Dataset/Laser-Wire-DED-ThermalAudio-Dataset/segmented_audio/Exp_24_15.wav\n"
     ]
    },
    {
     "name": "stderr",
     "output_type": "stream",
     "text": [
      "                                                                                                                     \r"
     ]
    },
    {
     "name": "stdout",
     "output_type": "stream",
     "text": [
      "MoviePy - Done.\n",
      "Moviepy - Building video /home/chenlequn/pan1/Dataset/Laser-Wire-DED-ThermalAudio-Dataset/segmented_videos/Exp_19_1.avi.\n",
      "MoviePy - Writing audio in Exp_19_1TEMP_MPY_wvf_snd.mp3\n"
     ]
    },
    {
     "name": "stderr",
     "output_type": "stream",
     "text": [
      "                                                                                                                     \r"
     ]
    },
    {
     "name": "stdout",
     "output_type": "stream",
     "text": [
      "MoviePy - Done.\n",
      "Moviepy - Writing video /home/chenlequn/pan1/Dataset/Laser-Wire-DED-ThermalAudio-Dataset/segmented_videos/Exp_19_1.avi\n",
      "\n"
     ]
    },
    {
     "name": "stderr",
     "output_type": "stream",
     "text": [
      "                                                                                                                     \r"
     ]
    },
    {
     "name": "stdout",
     "output_type": "stream",
     "text": [
      "Moviepy - Done !\n",
      "Moviepy - video ready /home/chenlequn/pan1/Dataset/Laser-Wire-DED-ThermalAudio-Dataset/segmented_videos/Exp_19_1.avi\n",
      "MoviePy - Writing audio in /home/chenlequn/pan1/Dataset/Laser-Wire-DED-ThermalAudio-Dataset/segmented_audio/Exp_19_1.wav\n"
     ]
    },
    {
     "name": "stderr",
     "output_type": "stream",
     "text": [
      "                                                                                                                     \r"
     ]
    },
    {
     "name": "stdout",
     "output_type": "stream",
     "text": [
      "MoviePy - Done.\n",
      "Moviepy - Building video /home/chenlequn/pan1/Dataset/Laser-Wire-DED-ThermalAudio-Dataset/segmented_videos/Exp_19_2.avi.\n",
      "MoviePy - Writing audio in Exp_19_2TEMP_MPY_wvf_snd.mp3\n"
     ]
    },
    {
     "name": "stderr",
     "output_type": "stream",
     "text": [
      "                                                                                                                     \r"
     ]
    },
    {
     "name": "stdout",
     "output_type": "stream",
     "text": [
      "MoviePy - Done.\n",
      "Moviepy - Writing video /home/chenlequn/pan1/Dataset/Laser-Wire-DED-ThermalAudio-Dataset/segmented_videos/Exp_19_2.avi\n",
      "\n"
     ]
    },
    {
     "name": "stderr",
     "output_type": "stream",
     "text": [
      "                                                                                                                     \r"
     ]
    },
    {
     "name": "stdout",
     "output_type": "stream",
     "text": [
      "Moviepy - Done !\n",
      "Moviepy - video ready /home/chenlequn/pan1/Dataset/Laser-Wire-DED-ThermalAudio-Dataset/segmented_videos/Exp_19_2.avi\n",
      "MoviePy - Writing audio in /home/chenlequn/pan1/Dataset/Laser-Wire-DED-ThermalAudio-Dataset/segmented_audio/Exp_19_2.wav\n"
     ]
    },
    {
     "name": "stderr",
     "output_type": "stream",
     "text": [
      "                                                                                                                     \r"
     ]
    },
    {
     "name": "stdout",
     "output_type": "stream",
     "text": [
      "MoviePy - Done.\n",
      "Moviepy - Building video /home/chenlequn/pan1/Dataset/Laser-Wire-DED-ThermalAudio-Dataset/segmented_videos/Exp_19_3.avi.\n",
      "MoviePy - Writing audio in Exp_19_3TEMP_MPY_wvf_snd.mp3\n"
     ]
    },
    {
     "name": "stderr",
     "output_type": "stream",
     "text": [
      "                                                                                                                     \r"
     ]
    },
    {
     "name": "stdout",
     "output_type": "stream",
     "text": [
      "MoviePy - Done.\n",
      "Moviepy - Writing video /home/chenlequn/pan1/Dataset/Laser-Wire-DED-ThermalAudio-Dataset/segmented_videos/Exp_19_3.avi\n",
      "\n"
     ]
    },
    {
     "name": "stderr",
     "output_type": "stream",
     "text": [
      "                                                                                                                     \r"
     ]
    },
    {
     "name": "stdout",
     "output_type": "stream",
     "text": [
      "Moviepy - Done !\n",
      "Moviepy - video ready /home/chenlequn/pan1/Dataset/Laser-Wire-DED-ThermalAudio-Dataset/segmented_videos/Exp_19_3.avi\n",
      "MoviePy - Writing audio in /home/chenlequn/pan1/Dataset/Laser-Wire-DED-ThermalAudio-Dataset/segmented_audio/Exp_19_3.wav\n"
     ]
    },
    {
     "name": "stderr",
     "output_type": "stream",
     "text": [
      "                                                                                                                     \r"
     ]
    },
    {
     "name": "stdout",
     "output_type": "stream",
     "text": [
      "MoviePy - Done.\n",
      "Moviepy - Building video /home/chenlequn/pan1/Dataset/Laser-Wire-DED-ThermalAudio-Dataset/segmented_videos/Exp_19_4.avi.\n",
      "MoviePy - Writing audio in Exp_19_4TEMP_MPY_wvf_snd.mp3\n"
     ]
    },
    {
     "name": "stderr",
     "output_type": "stream",
     "text": [
      "                                                                                                                     \r"
     ]
    },
    {
     "name": "stdout",
     "output_type": "stream",
     "text": [
      "MoviePy - Done.\n",
      "Moviepy - Writing video /home/chenlequn/pan1/Dataset/Laser-Wire-DED-ThermalAudio-Dataset/segmented_videos/Exp_19_4.avi\n",
      "\n"
     ]
    },
    {
     "name": "stderr",
     "output_type": "stream",
     "text": [
      "                                                                                                                     \r"
     ]
    },
    {
     "name": "stdout",
     "output_type": "stream",
     "text": [
      "Moviepy - Done !\n",
      "Moviepy - video ready /home/chenlequn/pan1/Dataset/Laser-Wire-DED-ThermalAudio-Dataset/segmented_videos/Exp_19_4.avi\n",
      "MoviePy - Writing audio in /home/chenlequn/pan1/Dataset/Laser-Wire-DED-ThermalAudio-Dataset/segmented_audio/Exp_19_4.wav\n"
     ]
    },
    {
     "name": "stderr",
     "output_type": "stream",
     "text": [
      "                                                                                                                     \r"
     ]
    },
    {
     "name": "stdout",
     "output_type": "stream",
     "text": [
      "MoviePy - Done.\n",
      "Moviepy - Building video /home/chenlequn/pan1/Dataset/Laser-Wire-DED-ThermalAudio-Dataset/segmented_videos/Exp_19_5.avi.\n",
      "MoviePy - Writing audio in Exp_19_5TEMP_MPY_wvf_snd.mp3\n"
     ]
    },
    {
     "name": "stderr",
     "output_type": "stream",
     "text": [
      "                                                                                                                     \r"
     ]
    },
    {
     "name": "stdout",
     "output_type": "stream",
     "text": [
      "MoviePy - Done.\n",
      "Moviepy - Writing video /home/chenlequn/pan1/Dataset/Laser-Wire-DED-ThermalAudio-Dataset/segmented_videos/Exp_19_5.avi\n",
      "\n"
     ]
    },
    {
     "name": "stderr",
     "output_type": "stream",
     "text": [
      "                                                                                                                     \r"
     ]
    },
    {
     "name": "stdout",
     "output_type": "stream",
     "text": [
      "Moviepy - Done !\n",
      "Moviepy - video ready /home/chenlequn/pan1/Dataset/Laser-Wire-DED-ThermalAudio-Dataset/segmented_videos/Exp_19_5.avi\n",
      "MoviePy - Writing audio in /home/chenlequn/pan1/Dataset/Laser-Wire-DED-ThermalAudio-Dataset/segmented_audio/Exp_19_5.wav\n"
     ]
    },
    {
     "name": "stderr",
     "output_type": "stream",
     "text": [
      "                                                                                                                     \r"
     ]
    },
    {
     "name": "stdout",
     "output_type": "stream",
     "text": [
      "MoviePy - Done.\n",
      "Moviepy - Building video /home/chenlequn/pan1/Dataset/Laser-Wire-DED-ThermalAudio-Dataset/segmented_videos/Exp_19_6.avi.\n",
      "MoviePy - Writing audio in Exp_19_6TEMP_MPY_wvf_snd.mp3\n"
     ]
    },
    {
     "name": "stderr",
     "output_type": "stream",
     "text": [
      "                                                                                                                     \r"
     ]
    },
    {
     "name": "stdout",
     "output_type": "stream",
     "text": [
      "MoviePy - Done.\n",
      "Moviepy - Writing video /home/chenlequn/pan1/Dataset/Laser-Wire-DED-ThermalAudio-Dataset/segmented_videos/Exp_19_6.avi\n",
      "\n"
     ]
    },
    {
     "name": "stderr",
     "output_type": "stream",
     "text": [
      "                                                                                                                     \r"
     ]
    },
    {
     "name": "stdout",
     "output_type": "stream",
     "text": [
      "Moviepy - Done !\n",
      "Moviepy - video ready /home/chenlequn/pan1/Dataset/Laser-Wire-DED-ThermalAudio-Dataset/segmented_videos/Exp_19_6.avi\n",
      "MoviePy - Writing audio in /home/chenlequn/pan1/Dataset/Laser-Wire-DED-ThermalAudio-Dataset/segmented_audio/Exp_19_6.wav\n"
     ]
    },
    {
     "name": "stderr",
     "output_type": "stream",
     "text": [
      "                                                                                                                     \r"
     ]
    },
    {
     "name": "stdout",
     "output_type": "stream",
     "text": [
      "MoviePy - Done.\n",
      "Moviepy - Building video /home/chenlequn/pan1/Dataset/Laser-Wire-DED-ThermalAudio-Dataset/segmented_videos/Exp_19_7.avi.\n",
      "MoviePy - Writing audio in Exp_19_7TEMP_MPY_wvf_snd.mp3\n"
     ]
    },
    {
     "name": "stderr",
     "output_type": "stream",
     "text": [
      "                                                                                                                     \r"
     ]
    },
    {
     "name": "stdout",
     "output_type": "stream",
     "text": [
      "MoviePy - Done.\n",
      "Moviepy - Writing video /home/chenlequn/pan1/Dataset/Laser-Wire-DED-ThermalAudio-Dataset/segmented_videos/Exp_19_7.avi\n",
      "\n"
     ]
    },
    {
     "name": "stderr",
     "output_type": "stream",
     "text": [
      "                                                                                                                     \r"
     ]
    },
    {
     "name": "stdout",
     "output_type": "stream",
     "text": [
      "Moviepy - Done !\n",
      "Moviepy - video ready /home/chenlequn/pan1/Dataset/Laser-Wire-DED-ThermalAudio-Dataset/segmented_videos/Exp_19_7.avi\n",
      "MoviePy - Writing audio in /home/chenlequn/pan1/Dataset/Laser-Wire-DED-ThermalAudio-Dataset/segmented_audio/Exp_19_7.wav\n"
     ]
    },
    {
     "name": "stderr",
     "output_type": "stream",
     "text": [
      "                                                                                                                     \r"
     ]
    },
    {
     "name": "stdout",
     "output_type": "stream",
     "text": [
      "MoviePy - Done.\n",
      "Moviepy - Building video /home/chenlequn/pan1/Dataset/Laser-Wire-DED-ThermalAudio-Dataset/segmented_videos/Exp_19_8.avi.\n",
      "MoviePy - Writing audio in Exp_19_8TEMP_MPY_wvf_snd.mp3\n"
     ]
    },
    {
     "name": "stderr",
     "output_type": "stream",
     "text": [
      "                                                                                                                     "
     ]
    },
    {
     "name": "stdout",
     "output_type": "stream",
     "text": [
      "MoviePy - Done.\n",
      "Moviepy - Writing video /home/chenlequn/pan1/Dataset/Laser-Wire-DED-ThermalAudio-Dataset/segmented_videos/Exp_19_8.avi\n",
      "\n"
     ]
    },
    {
     "name": "stderr",
     "output_type": "stream",
     "text": [
      "                                                                                                                     \r"
     ]
    },
    {
     "name": "stdout",
     "output_type": "stream",
     "text": [
      "Moviepy - Done !\n",
      "Moviepy - video ready /home/chenlequn/pan1/Dataset/Laser-Wire-DED-ThermalAudio-Dataset/segmented_videos/Exp_19_8.avi\n",
      "MoviePy - Writing audio in /home/chenlequn/pan1/Dataset/Laser-Wire-DED-ThermalAudio-Dataset/segmented_audio/Exp_19_8.wav\n"
     ]
    },
    {
     "name": "stderr",
     "output_type": "stream",
     "text": [
      "                                                                                                                     \r"
     ]
    },
    {
     "name": "stdout",
     "output_type": "stream",
     "text": [
      "MoviePy - Done.\n",
      "Moviepy - Building video /home/chenlequn/pan1/Dataset/Laser-Wire-DED-ThermalAudio-Dataset/segmented_videos/Exp_19_9.avi.\n",
      "MoviePy - Writing audio in Exp_19_9TEMP_MPY_wvf_snd.mp3\n"
     ]
    },
    {
     "name": "stderr",
     "output_type": "stream",
     "text": [
      "                                                                                                                     \r"
     ]
    },
    {
     "name": "stdout",
     "output_type": "stream",
     "text": [
      "MoviePy - Done.\n",
      "Moviepy - Writing video /home/chenlequn/pan1/Dataset/Laser-Wire-DED-ThermalAudio-Dataset/segmented_videos/Exp_19_9.avi\n",
      "\n"
     ]
    },
    {
     "name": "stderr",
     "output_type": "stream",
     "text": [
      "                                                                                                                     \r"
     ]
    },
    {
     "name": "stdout",
     "output_type": "stream",
     "text": [
      "Moviepy - Done !\n",
      "Moviepy - video ready /home/chenlequn/pan1/Dataset/Laser-Wire-DED-ThermalAudio-Dataset/segmented_videos/Exp_19_9.avi\n",
      "MoviePy - Writing audio in /home/chenlequn/pan1/Dataset/Laser-Wire-DED-ThermalAudio-Dataset/segmented_audio/Exp_19_9.wav\n"
     ]
    },
    {
     "name": "stderr",
     "output_type": "stream",
     "text": [
      "                                                                                                                     \r"
     ]
    },
    {
     "name": "stdout",
     "output_type": "stream",
     "text": [
      "MoviePy - Done.\n",
      "Moviepy - Building video /home/chenlequn/pan1/Dataset/Laser-Wire-DED-ThermalAudio-Dataset/segmented_videos/Exp_19_10.avi.\n",
      "MoviePy - Writing audio in Exp_19_10TEMP_MPY_wvf_snd.mp3\n"
     ]
    },
    {
     "name": "stderr",
     "output_type": "stream",
     "text": [
      "                                                                                                                     \r"
     ]
    },
    {
     "name": "stdout",
     "output_type": "stream",
     "text": [
      "MoviePy - Done.\n",
      "Moviepy - Writing video /home/chenlequn/pan1/Dataset/Laser-Wire-DED-ThermalAudio-Dataset/segmented_videos/Exp_19_10.avi\n",
      "\n"
     ]
    },
    {
     "name": "stderr",
     "output_type": "stream",
     "text": [
      "                                                                                                                     \r"
     ]
    },
    {
     "name": "stdout",
     "output_type": "stream",
     "text": [
      "Moviepy - Done !\n",
      "Moviepy - video ready /home/chenlequn/pan1/Dataset/Laser-Wire-DED-ThermalAudio-Dataset/segmented_videos/Exp_19_10.avi\n",
      "MoviePy - Writing audio in /home/chenlequn/pan1/Dataset/Laser-Wire-DED-ThermalAudio-Dataset/segmented_audio/Exp_19_10.wav\n"
     ]
    },
    {
     "name": "stderr",
     "output_type": "stream",
     "text": [
      "                                                                                                                     \r"
     ]
    },
    {
     "name": "stdout",
     "output_type": "stream",
     "text": [
      "MoviePy - Done.\n",
      "Moviepy - Building video /home/chenlequn/pan1/Dataset/Laser-Wire-DED-ThermalAudio-Dataset/segmented_videos/Exp_19_11.avi.\n",
      "MoviePy - Writing audio in Exp_19_11TEMP_MPY_wvf_snd.mp3\n"
     ]
    },
    {
     "name": "stderr",
     "output_type": "stream",
     "text": [
      "                                                                                                                     \r"
     ]
    },
    {
     "name": "stdout",
     "output_type": "stream",
     "text": [
      "MoviePy - Done.\n",
      "Moviepy - Writing video /home/chenlequn/pan1/Dataset/Laser-Wire-DED-ThermalAudio-Dataset/segmented_videos/Exp_19_11.avi\n",
      "\n"
     ]
    },
    {
     "name": "stderr",
     "output_type": "stream",
     "text": [
      "                                                                                                                     \r"
     ]
    },
    {
     "name": "stdout",
     "output_type": "stream",
     "text": [
      "Moviepy - Done !\n",
      "Moviepy - video ready /home/chenlequn/pan1/Dataset/Laser-Wire-DED-ThermalAudio-Dataset/segmented_videos/Exp_19_11.avi\n",
      "MoviePy - Writing audio in /home/chenlequn/pan1/Dataset/Laser-Wire-DED-ThermalAudio-Dataset/segmented_audio/Exp_19_11.wav\n"
     ]
    },
    {
     "name": "stderr",
     "output_type": "stream",
     "text": [
      "                                                                                                                     "
     ]
    },
    {
     "name": "stdout",
     "output_type": "stream",
     "text": [
      "MoviePy - Done.\n"
     ]
    },
    {
     "name": "stderr",
     "output_type": "stream",
     "text": [
      "\r"
     ]
    },
    {
     "name": "stdout",
     "output_type": "stream",
     "text": [
      "Moviepy - Building video /home/chenlequn/pan1/Dataset/Laser-Wire-DED-ThermalAudio-Dataset/segmented_videos/Exp_19_12.avi.\n",
      "MoviePy - Writing audio in Exp_19_12TEMP_MPY_wvf_snd.mp3\n"
     ]
    },
    {
     "name": "stderr",
     "output_type": "stream",
     "text": [
      "                                                                                                                     \r"
     ]
    },
    {
     "name": "stdout",
     "output_type": "stream",
     "text": [
      "MoviePy - Done.\n",
      "Moviepy - Writing video /home/chenlequn/pan1/Dataset/Laser-Wire-DED-ThermalAudio-Dataset/segmented_videos/Exp_19_12.avi\n",
      "\n"
     ]
    },
    {
     "name": "stderr",
     "output_type": "stream",
     "text": [
      "                                                                                                                     \r"
     ]
    },
    {
     "name": "stdout",
     "output_type": "stream",
     "text": [
      "Moviepy - Done !\n",
      "Moviepy - video ready /home/chenlequn/pan1/Dataset/Laser-Wire-DED-ThermalAudio-Dataset/segmented_videos/Exp_19_12.avi\n",
      "MoviePy - Writing audio in /home/chenlequn/pan1/Dataset/Laser-Wire-DED-ThermalAudio-Dataset/segmented_audio/Exp_19_12.wav\n"
     ]
    },
    {
     "name": "stderr",
     "output_type": "stream",
     "text": [
      "                                                                                                                     \r"
     ]
    },
    {
     "name": "stdout",
     "output_type": "stream",
     "text": [
      "MoviePy - Done.\n",
      "Moviepy - Building video /home/chenlequn/pan1/Dataset/Laser-Wire-DED-ThermalAudio-Dataset/segmented_videos/Exp_19_13.avi.\n",
      "MoviePy - Writing audio in Exp_19_13TEMP_MPY_wvf_snd.mp3\n"
     ]
    },
    {
     "name": "stderr",
     "output_type": "stream",
     "text": [
      "                                                                                                                     \r"
     ]
    },
    {
     "name": "stdout",
     "output_type": "stream",
     "text": [
      "MoviePy - Done.\n",
      "Moviepy - Writing video /home/chenlequn/pan1/Dataset/Laser-Wire-DED-ThermalAudio-Dataset/segmented_videos/Exp_19_13.avi\n",
      "\n"
     ]
    },
    {
     "name": "stderr",
     "output_type": "stream",
     "text": [
      "                                                                                                                     \r"
     ]
    },
    {
     "name": "stdout",
     "output_type": "stream",
     "text": [
      "Moviepy - Done !\n",
      "Moviepy - video ready /home/chenlequn/pan1/Dataset/Laser-Wire-DED-ThermalAudio-Dataset/segmented_videos/Exp_19_13.avi\n",
      "MoviePy - Writing audio in /home/chenlequn/pan1/Dataset/Laser-Wire-DED-ThermalAudio-Dataset/segmented_audio/Exp_19_13.wav\n"
     ]
    },
    {
     "name": "stderr",
     "output_type": "stream",
     "text": [
      "                                                                                                                     \r"
     ]
    },
    {
     "name": "stdout",
     "output_type": "stream",
     "text": [
      "MoviePy - Done.\n",
      "Moviepy - Building video /home/chenlequn/pan1/Dataset/Laser-Wire-DED-ThermalAudio-Dataset/segmented_videos/Exp_18_3.avi.\n",
      "MoviePy - Writing audio in Exp_18_3TEMP_MPY_wvf_snd.mp3\n"
     ]
    },
    {
     "name": "stderr",
     "output_type": "stream",
     "text": [
      "                                                                                                                     \r"
     ]
    },
    {
     "name": "stdout",
     "output_type": "stream",
     "text": [
      "MoviePy - Done.\n",
      "Moviepy - Writing video /home/chenlequn/pan1/Dataset/Laser-Wire-DED-ThermalAudio-Dataset/segmented_videos/Exp_18_3.avi\n",
      "\n"
     ]
    },
    {
     "name": "stderr",
     "output_type": "stream",
     "text": [
      "                                                                                                                     \r"
     ]
    },
    {
     "name": "stdout",
     "output_type": "stream",
     "text": [
      "Moviepy - Done !\n",
      "Moviepy - video ready /home/chenlequn/pan1/Dataset/Laser-Wire-DED-ThermalAudio-Dataset/segmented_videos/Exp_18_3.avi\n",
      "MoviePy - Writing audio in /home/chenlequn/pan1/Dataset/Laser-Wire-DED-ThermalAudio-Dataset/segmented_audio/Exp_18_3.wav\n"
     ]
    },
    {
     "name": "stderr",
     "output_type": "stream",
     "text": [
      "                                                                                                                     \r"
     ]
    },
    {
     "name": "stdout",
     "output_type": "stream",
     "text": [
      "MoviePy - Done.\n",
      "Moviepy - Building video /home/chenlequn/pan1/Dataset/Laser-Wire-DED-ThermalAudio-Dataset/segmented_videos/Exp_18_4.avi.\n",
      "MoviePy - Writing audio in Exp_18_4TEMP_MPY_wvf_snd.mp3\n"
     ]
    },
    {
     "name": "stderr",
     "output_type": "stream",
     "text": [
      "                                                                                                                     \r"
     ]
    },
    {
     "name": "stdout",
     "output_type": "stream",
     "text": [
      "MoviePy - Done.\n",
      "Moviepy - Writing video /home/chenlequn/pan1/Dataset/Laser-Wire-DED-ThermalAudio-Dataset/segmented_videos/Exp_18_4.avi\n",
      "\n"
     ]
    },
    {
     "name": "stderr",
     "output_type": "stream",
     "text": [
      "                                                                                                                     \r"
     ]
    },
    {
     "name": "stdout",
     "output_type": "stream",
     "text": [
      "Moviepy - Done !\n",
      "Moviepy - video ready /home/chenlequn/pan1/Dataset/Laser-Wire-DED-ThermalAudio-Dataset/segmented_videos/Exp_18_4.avi\n",
      "MoviePy - Writing audio in /home/chenlequn/pan1/Dataset/Laser-Wire-DED-ThermalAudio-Dataset/segmented_audio/Exp_18_4.wav\n"
     ]
    },
    {
     "name": "stderr",
     "output_type": "stream",
     "text": [
      "                                                                                                                     \r"
     ]
    },
    {
     "name": "stdout",
     "output_type": "stream",
     "text": [
      "MoviePy - Done.\n",
      "Moviepy - Building video /home/chenlequn/pan1/Dataset/Laser-Wire-DED-ThermalAudio-Dataset/segmented_videos/Exp_18_5.avi.\n",
      "MoviePy - Writing audio in Exp_18_5TEMP_MPY_wvf_snd.mp3\n"
     ]
    },
    {
     "name": "stderr",
     "output_type": "stream",
     "text": [
      "                                                                                                                     \r"
     ]
    },
    {
     "name": "stdout",
     "output_type": "stream",
     "text": [
      "MoviePy - Done.\n",
      "Moviepy - Writing video /home/chenlequn/pan1/Dataset/Laser-Wire-DED-ThermalAudio-Dataset/segmented_videos/Exp_18_5.avi\n",
      "\n"
     ]
    },
    {
     "name": "stderr",
     "output_type": "stream",
     "text": [
      "                                                                                                                     \r"
     ]
    },
    {
     "name": "stdout",
     "output_type": "stream",
     "text": [
      "Moviepy - Done !\n",
      "Moviepy - video ready /home/chenlequn/pan1/Dataset/Laser-Wire-DED-ThermalAudio-Dataset/segmented_videos/Exp_18_5.avi\n",
      "MoviePy - Writing audio in /home/chenlequn/pan1/Dataset/Laser-Wire-DED-ThermalAudio-Dataset/segmented_audio/Exp_18_5.wav\n"
     ]
    },
    {
     "name": "stderr",
     "output_type": "stream",
     "text": [
      "                                                                                                                     \r"
     ]
    },
    {
     "name": "stdout",
     "output_type": "stream",
     "text": [
      "MoviePy - Done.\n",
      "Moviepy - Building video /home/chenlequn/pan1/Dataset/Laser-Wire-DED-ThermalAudio-Dataset/segmented_videos/Exp_18_8.avi.\n",
      "MoviePy - Writing audio in Exp_18_8TEMP_MPY_wvf_snd.mp3\n"
     ]
    },
    {
     "name": "stderr",
     "output_type": "stream",
     "text": [
      "                                                                                                                     \r"
     ]
    },
    {
     "name": "stdout",
     "output_type": "stream",
     "text": [
      "MoviePy - Done.\n",
      "Moviepy - Writing video /home/chenlequn/pan1/Dataset/Laser-Wire-DED-ThermalAudio-Dataset/segmented_videos/Exp_18_8.avi\n",
      "\n"
     ]
    },
    {
     "name": "stderr",
     "output_type": "stream",
     "text": [
      "                                                                                                                     \r"
     ]
    },
    {
     "name": "stdout",
     "output_type": "stream",
     "text": [
      "Moviepy - Done !\n",
      "Moviepy - video ready /home/chenlequn/pan1/Dataset/Laser-Wire-DED-ThermalAudio-Dataset/segmented_videos/Exp_18_8.avi\n",
      "MoviePy - Writing audio in /home/chenlequn/pan1/Dataset/Laser-Wire-DED-ThermalAudio-Dataset/segmented_audio/Exp_18_8.wav\n"
     ]
    },
    {
     "name": "stderr",
     "output_type": "stream",
     "text": [
      "                                                                                                                     "
     ]
    },
    {
     "name": "stdout",
     "output_type": "stream",
     "text": [
      "MoviePy - Done.\n"
     ]
    },
    {
     "name": "stderr",
     "output_type": "stream",
     "text": [
      "\r"
     ]
    },
    {
     "name": "stdout",
     "output_type": "stream",
     "text": [
      "Moviepy - Building video /home/chenlequn/pan1/Dataset/Laser-Wire-DED-ThermalAudio-Dataset/segmented_videos/Exp_18_9.avi.\n",
      "MoviePy - Writing audio in Exp_18_9TEMP_MPY_wvf_snd.mp3\n"
     ]
    },
    {
     "name": "stderr",
     "output_type": "stream",
     "text": [
      "                                                                                                                     \r"
     ]
    },
    {
     "name": "stdout",
     "output_type": "stream",
     "text": [
      "MoviePy - Done.\n",
      "Moviepy - Writing video /home/chenlequn/pan1/Dataset/Laser-Wire-DED-ThermalAudio-Dataset/segmented_videos/Exp_18_9.avi\n",
      "\n"
     ]
    },
    {
     "name": "stderr",
     "output_type": "stream",
     "text": [
      "                                                                                                                     \r"
     ]
    },
    {
     "name": "stdout",
     "output_type": "stream",
     "text": [
      "Moviepy - Done !\n",
      "Moviepy - video ready /home/chenlequn/pan1/Dataset/Laser-Wire-DED-ThermalAudio-Dataset/segmented_videos/Exp_18_9.avi\n",
      "MoviePy - Writing audio in /home/chenlequn/pan1/Dataset/Laser-Wire-DED-ThermalAudio-Dataset/segmented_audio/Exp_18_9.wav\n"
     ]
    },
    {
     "name": "stderr",
     "output_type": "stream",
     "text": [
      "                                                                                                                     "
     ]
    },
    {
     "name": "stdout",
     "output_type": "stream",
     "text": [
      "MoviePy - Done.\n"
     ]
    },
    {
     "name": "stderr",
     "output_type": "stream",
     "text": [
      "\r"
     ]
    },
    {
     "name": "stdout",
     "output_type": "stream",
     "text": [
      "Moviepy - Building video /home/chenlequn/pan1/Dataset/Laser-Wire-DED-ThermalAudio-Dataset/segmented_videos/Exp_18_11.avi.\n",
      "MoviePy - Writing audio in Exp_18_11TEMP_MPY_wvf_snd.mp3\n"
     ]
    },
    {
     "name": "stderr",
     "output_type": "stream",
     "text": [
      "                                                                                                                     \r"
     ]
    },
    {
     "name": "stdout",
     "output_type": "stream",
     "text": [
      "MoviePy - Done.\n",
      "Moviepy - Writing video /home/chenlequn/pan1/Dataset/Laser-Wire-DED-ThermalAudio-Dataset/segmented_videos/Exp_18_11.avi\n",
      "\n"
     ]
    },
    {
     "name": "stderr",
     "output_type": "stream",
     "text": [
      "                                                                                                                     \r"
     ]
    },
    {
     "name": "stdout",
     "output_type": "stream",
     "text": [
      "Moviepy - Done !\n",
      "Moviepy - video ready /home/chenlequn/pan1/Dataset/Laser-Wire-DED-ThermalAudio-Dataset/segmented_videos/Exp_18_11.avi\n",
      "MoviePy - Writing audio in /home/chenlequn/pan1/Dataset/Laser-Wire-DED-ThermalAudio-Dataset/segmented_audio/Exp_18_11.wav\n"
     ]
    },
    {
     "name": "stderr",
     "output_type": "stream",
     "text": [
      "                                                                                                                     \r"
     ]
    },
    {
     "name": "stdout",
     "output_type": "stream",
     "text": [
      "MoviePy - Done.\n",
      "Moviepy - Building video /home/chenlequn/pan1/Dataset/Laser-Wire-DED-ThermalAudio-Dataset/segmented_videos/Exp_18_12.avi.\n",
      "MoviePy - Writing audio in Exp_18_12TEMP_MPY_wvf_snd.mp3\n"
     ]
    },
    {
     "name": "stderr",
     "output_type": "stream",
     "text": [
      "                                                                                                                     \r"
     ]
    },
    {
     "name": "stdout",
     "output_type": "stream",
     "text": [
      "MoviePy - Done.\n",
      "Moviepy - Writing video /home/chenlequn/pan1/Dataset/Laser-Wire-DED-ThermalAudio-Dataset/segmented_videos/Exp_18_12.avi\n",
      "\n"
     ]
    },
    {
     "name": "stderr",
     "output_type": "stream",
     "text": [
      "                                                                                                                     \r"
     ]
    },
    {
     "name": "stdout",
     "output_type": "stream",
     "text": [
      "Moviepy - Done !\n",
      "Moviepy - video ready /home/chenlequn/pan1/Dataset/Laser-Wire-DED-ThermalAudio-Dataset/segmented_videos/Exp_18_12.avi\n",
      "MoviePy - Writing audio in /home/chenlequn/pan1/Dataset/Laser-Wire-DED-ThermalAudio-Dataset/segmented_audio/Exp_18_12.wav\n"
     ]
    },
    {
     "name": "stderr",
     "output_type": "stream",
     "text": [
      "                                                                                                                     \r"
     ]
    },
    {
     "name": "stdout",
     "output_type": "stream",
     "text": [
      "MoviePy - Done.\n",
      "Moviepy - Building video /home/chenlequn/pan1/Dataset/Laser-Wire-DED-ThermalAudio-Dataset/segmented_videos/Exp_18_13.avi.\n",
      "MoviePy - Writing audio in Exp_18_13TEMP_MPY_wvf_snd.mp3\n"
     ]
    },
    {
     "name": "stderr",
     "output_type": "stream",
     "text": [
      "                                                                                                                     \r"
     ]
    },
    {
     "name": "stdout",
     "output_type": "stream",
     "text": [
      "MoviePy - Done.\n",
      "Moviepy - Writing video /home/chenlequn/pan1/Dataset/Laser-Wire-DED-ThermalAudio-Dataset/segmented_videos/Exp_18_13.avi\n",
      "\n"
     ]
    },
    {
     "name": "stderr",
     "output_type": "stream",
     "text": [
      "                                                                                                                     \r"
     ]
    },
    {
     "name": "stdout",
     "output_type": "stream",
     "text": [
      "Moviepy - Done !\n",
      "Moviepy - video ready /home/chenlequn/pan1/Dataset/Laser-Wire-DED-ThermalAudio-Dataset/segmented_videos/Exp_18_13.avi\n",
      "MoviePy - Writing audio in /home/chenlequn/pan1/Dataset/Laser-Wire-DED-ThermalAudio-Dataset/segmented_audio/Exp_18_13.wav\n"
     ]
    },
    {
     "name": "stderr",
     "output_type": "stream",
     "text": [
      "                                                                                                                     "
     ]
    },
    {
     "name": "stdout",
     "output_type": "stream",
     "text": [
      "MoviePy - Done.\n"
     ]
    },
    {
     "name": "stderr",
     "output_type": "stream",
     "text": [
      "\r"
     ]
    },
    {
     "name": "stdout",
     "output_type": "stream",
     "text": [
      "Moviepy - Building video /home/chenlequn/pan1/Dataset/Laser-Wire-DED-ThermalAudio-Dataset/segmented_videos/Exp_18_14.avi.\n",
      "MoviePy - Writing audio in Exp_18_14TEMP_MPY_wvf_snd.mp3\n"
     ]
    },
    {
     "name": "stderr",
     "output_type": "stream",
     "text": [
      "                                                                                                                     \r"
     ]
    },
    {
     "name": "stdout",
     "output_type": "stream",
     "text": [
      "MoviePy - Done.\n",
      "Moviepy - Writing video /home/chenlequn/pan1/Dataset/Laser-Wire-DED-ThermalAudio-Dataset/segmented_videos/Exp_18_14.avi\n",
      "\n"
     ]
    },
    {
     "name": "stderr",
     "output_type": "stream",
     "text": [
      "                                                                                                                     \r"
     ]
    },
    {
     "name": "stdout",
     "output_type": "stream",
     "text": [
      "Moviepy - Done !\n",
      "Moviepy - video ready /home/chenlequn/pan1/Dataset/Laser-Wire-DED-ThermalAudio-Dataset/segmented_videos/Exp_18_14.avi\n",
      "MoviePy - Writing audio in /home/chenlequn/pan1/Dataset/Laser-Wire-DED-ThermalAudio-Dataset/segmented_audio/Exp_18_14.wav\n"
     ]
    },
    {
     "name": "stderr",
     "output_type": "stream",
     "text": [
      "                                                                                                                     \r"
     ]
    },
    {
     "name": "stdout",
     "output_type": "stream",
     "text": [
      "MoviePy - Done.\n",
      "Moviepy - Building video /home/chenlequn/pan1/Dataset/Laser-Wire-DED-ThermalAudio-Dataset/segmented_videos/Exp_18_15.avi.\n",
      "MoviePy - Writing audio in Exp_18_15TEMP_MPY_wvf_snd.mp3\n"
     ]
    },
    {
     "name": "stderr",
     "output_type": "stream",
     "text": [
      "                                                                                                                     \r"
     ]
    },
    {
     "name": "stdout",
     "output_type": "stream",
     "text": [
      "MoviePy - Done.\n",
      "Moviepy - Writing video /home/chenlequn/pan1/Dataset/Laser-Wire-DED-ThermalAudio-Dataset/segmented_videos/Exp_18_15.avi\n",
      "\n"
     ]
    },
    {
     "name": "stderr",
     "output_type": "stream",
     "text": [
      "                                                                                                                     \r"
     ]
    },
    {
     "name": "stdout",
     "output_type": "stream",
     "text": [
      "Moviepy - Done !\n",
      "Moviepy - video ready /home/chenlequn/pan1/Dataset/Laser-Wire-DED-ThermalAudio-Dataset/segmented_videos/Exp_18_15.avi\n",
      "MoviePy - Writing audio in /home/chenlequn/pan1/Dataset/Laser-Wire-DED-ThermalAudio-Dataset/segmented_audio/Exp_18_15.wav\n"
     ]
    },
    {
     "name": "stderr",
     "output_type": "stream",
     "text": [
      "                                                                                                                     "
     ]
    },
    {
     "name": "stdout",
     "output_type": "stream",
     "text": [
      "MoviePy - Done.\n"
     ]
    },
    {
     "name": "stderr",
     "output_type": "stream",
     "text": [
      "\r"
     ]
    },
    {
     "name": "stdout",
     "output_type": "stream",
     "text": [
      "Moviepy - Building video /home/chenlequn/pan1/Dataset/Laser-Wire-DED-ThermalAudio-Dataset/segmented_videos/Exp_18_16.avi.\n",
      "MoviePy - Writing audio in Exp_18_16TEMP_MPY_wvf_snd.mp3\n"
     ]
    },
    {
     "name": "stderr",
     "output_type": "stream",
     "text": [
      "                                                                                                                     \r"
     ]
    },
    {
     "name": "stdout",
     "output_type": "stream",
     "text": [
      "MoviePy - Done.\n",
      "Moviepy - Writing video /home/chenlequn/pan1/Dataset/Laser-Wire-DED-ThermalAudio-Dataset/segmented_videos/Exp_18_16.avi\n",
      "\n"
     ]
    },
    {
     "name": "stderr",
     "output_type": "stream",
     "text": [
      "                                                                                                                     \r"
     ]
    },
    {
     "name": "stdout",
     "output_type": "stream",
     "text": [
      "Moviepy - Done !\n",
      "Moviepy - video ready /home/chenlequn/pan1/Dataset/Laser-Wire-DED-ThermalAudio-Dataset/segmented_videos/Exp_18_16.avi\n",
      "MoviePy - Writing audio in /home/chenlequn/pan1/Dataset/Laser-Wire-DED-ThermalAudio-Dataset/segmented_audio/Exp_18_16.wav\n"
     ]
    },
    {
     "name": "stderr",
     "output_type": "stream",
     "text": [
      "                                                                                                                     \r"
     ]
    },
    {
     "name": "stdout",
     "output_type": "stream",
     "text": [
      "MoviePy - Done.\n",
      "Moviepy - Building video /home/chenlequn/pan1/Dataset/Laser-Wire-DED-ThermalAudio-Dataset/segmented_videos/Exp_18_17.avi.\n",
      "MoviePy - Writing audio in Exp_18_17TEMP_MPY_wvf_snd.mp3\n"
     ]
    },
    {
     "name": "stderr",
     "output_type": "stream",
     "text": [
      "                                                                                                                     \r"
     ]
    },
    {
     "name": "stdout",
     "output_type": "stream",
     "text": [
      "MoviePy - Done.\n",
      "Moviepy - Writing video /home/chenlequn/pan1/Dataset/Laser-Wire-DED-ThermalAudio-Dataset/segmented_videos/Exp_18_17.avi\n",
      "\n"
     ]
    },
    {
     "name": "stderr",
     "output_type": "stream",
     "text": [
      "                                                                                                                     \r"
     ]
    },
    {
     "name": "stdout",
     "output_type": "stream",
     "text": [
      "Moviepy - Done !\n",
      "Moviepy - video ready /home/chenlequn/pan1/Dataset/Laser-Wire-DED-ThermalAudio-Dataset/segmented_videos/Exp_18_17.avi\n",
      "MoviePy - Writing audio in /home/chenlequn/pan1/Dataset/Laser-Wire-DED-ThermalAudio-Dataset/segmented_audio/Exp_18_17.wav\n"
     ]
    },
    {
     "name": "stderr",
     "output_type": "stream",
     "text": [
      "                                                                                                                     "
     ]
    },
    {
     "name": "stdout",
     "output_type": "stream",
     "text": [
      "MoviePy - Done.\n"
     ]
    },
    {
     "name": "stderr",
     "output_type": "stream",
     "text": [
      "\r"
     ]
    },
    {
     "name": "stdout",
     "output_type": "stream",
     "text": [
      "Moviepy - Building video /home/chenlequn/pan1/Dataset/Laser-Wire-DED-ThermalAudio-Dataset/segmented_videos/Exp_18_18.avi.\n",
      "MoviePy - Writing audio in Exp_18_18TEMP_MPY_wvf_snd.mp3\n"
     ]
    },
    {
     "name": "stderr",
     "output_type": "stream",
     "text": [
      "                                                                                                                     \r"
     ]
    },
    {
     "name": "stdout",
     "output_type": "stream",
     "text": [
      "MoviePy - Done.\n",
      "Moviepy - Writing video /home/chenlequn/pan1/Dataset/Laser-Wire-DED-ThermalAudio-Dataset/segmented_videos/Exp_18_18.avi\n",
      "\n"
     ]
    },
    {
     "name": "stderr",
     "output_type": "stream",
     "text": [
      "                                                                                                                     \r"
     ]
    },
    {
     "name": "stdout",
     "output_type": "stream",
     "text": [
      "Moviepy - Done !\n",
      "Moviepy - video ready /home/chenlequn/pan1/Dataset/Laser-Wire-DED-ThermalAudio-Dataset/segmented_videos/Exp_18_18.avi\n",
      "MoviePy - Writing audio in /home/chenlequn/pan1/Dataset/Laser-Wire-DED-ThermalAudio-Dataset/segmented_audio/Exp_18_18.wav\n"
     ]
    },
    {
     "name": "stderr",
     "output_type": "stream",
     "text": [
      "                                                                                                                     \r"
     ]
    },
    {
     "name": "stdout",
     "output_type": "stream",
     "text": [
      "MoviePy - Done.\n",
      "Moviepy - Building video /home/chenlequn/pan1/Dataset/Laser-Wire-DED-ThermalAudio-Dataset/segmented_videos/Exp_18_19.avi.\n",
      "MoviePy - Writing audio in Exp_18_19TEMP_MPY_wvf_snd.mp3\n"
     ]
    },
    {
     "name": "stderr",
     "output_type": "stream",
     "text": [
      "                                                                                                                     \r"
     ]
    },
    {
     "name": "stdout",
     "output_type": "stream",
     "text": [
      "MoviePy - Done.\n",
      "Moviepy - Writing video /home/chenlequn/pan1/Dataset/Laser-Wire-DED-ThermalAudio-Dataset/segmented_videos/Exp_18_19.avi\n",
      "\n"
     ]
    },
    {
     "name": "stderr",
     "output_type": "stream",
     "text": [
      "                                                                                                                     \r"
     ]
    },
    {
     "name": "stdout",
     "output_type": "stream",
     "text": [
      "Moviepy - Done !\n",
      "Moviepy - video ready /home/chenlequn/pan1/Dataset/Laser-Wire-DED-ThermalAudio-Dataset/segmented_videos/Exp_18_19.avi\n",
      "MoviePy - Writing audio in /home/chenlequn/pan1/Dataset/Laser-Wire-DED-ThermalAudio-Dataset/segmented_audio/Exp_18_19.wav\n"
     ]
    },
    {
     "name": "stderr",
     "output_type": "stream",
     "text": [
      "                                                                                                                     \r"
     ]
    },
    {
     "name": "stdout",
     "output_type": "stream",
     "text": [
      "MoviePy - Done.\n",
      "Moviepy - Building video /home/chenlequn/pan1/Dataset/Laser-Wire-DED-ThermalAudio-Dataset/segmented_videos/Exp_18_20.avi.\n",
      "MoviePy - Writing audio in Exp_18_20TEMP_MPY_wvf_snd.mp3\n"
     ]
    },
    {
     "name": "stderr",
     "output_type": "stream",
     "text": [
      "                                                                                                                     \r"
     ]
    },
    {
     "name": "stdout",
     "output_type": "stream",
     "text": [
      "MoviePy - Done.\n",
      "Moviepy - Writing video /home/chenlequn/pan1/Dataset/Laser-Wire-DED-ThermalAudio-Dataset/segmented_videos/Exp_18_20.avi\n",
      "\n"
     ]
    },
    {
     "name": "stderr",
     "output_type": "stream",
     "text": [
      "                                                                                                                     \r"
     ]
    },
    {
     "name": "stdout",
     "output_type": "stream",
     "text": [
      "Moviepy - Done !\n",
      "Moviepy - video ready /home/chenlequn/pan1/Dataset/Laser-Wire-DED-ThermalAudio-Dataset/segmented_videos/Exp_18_20.avi\n",
      "MoviePy - Writing audio in /home/chenlequn/pan1/Dataset/Laser-Wire-DED-ThermalAudio-Dataset/segmented_audio/Exp_18_20.wav\n"
     ]
    },
    {
     "name": "stderr",
     "output_type": "stream",
     "text": [
      "                                                                                                                     \r"
     ]
    },
    {
     "name": "stdout",
     "output_type": "stream",
     "text": [
      "MoviePy - Done.\n",
      "Moviepy - Building video /home/chenlequn/pan1/Dataset/Laser-Wire-DED-ThermalAudio-Dataset/segmented_videos/Exp_18_21.avi.\n",
      "MoviePy - Writing audio in Exp_18_21TEMP_MPY_wvf_snd.mp3\n"
     ]
    },
    {
     "name": "stderr",
     "output_type": "stream",
     "text": [
      "                                                                                                                     \r"
     ]
    },
    {
     "name": "stdout",
     "output_type": "stream",
     "text": [
      "MoviePy - Done.\n",
      "Moviepy - Writing video /home/chenlequn/pan1/Dataset/Laser-Wire-DED-ThermalAudio-Dataset/segmented_videos/Exp_18_21.avi\n",
      "\n"
     ]
    },
    {
     "name": "stderr",
     "output_type": "stream",
     "text": [
      "                                                                                                                     \r"
     ]
    },
    {
     "name": "stdout",
     "output_type": "stream",
     "text": [
      "Moviepy - Done !\n",
      "Moviepy - video ready /home/chenlequn/pan1/Dataset/Laser-Wire-DED-ThermalAudio-Dataset/segmented_videos/Exp_18_21.avi\n",
      "MoviePy - Writing audio in /home/chenlequn/pan1/Dataset/Laser-Wire-DED-ThermalAudio-Dataset/segmented_audio/Exp_18_21.wav\n"
     ]
    },
    {
     "name": "stderr",
     "output_type": "stream",
     "text": [
      "                                                                                                                     "
     ]
    },
    {
     "name": "stdout",
     "output_type": "stream",
     "text": [
      "MoviePy - Done.\n"
     ]
    },
    {
     "name": "stderr",
     "output_type": "stream",
     "text": [
      "\r"
     ]
    },
    {
     "name": "stdout",
     "output_type": "stream",
     "text": [
      "Moviepy - Building video /home/chenlequn/pan1/Dataset/Laser-Wire-DED-ThermalAudio-Dataset/segmented_videos/Exp_18_22.avi.\n",
      "MoviePy - Writing audio in Exp_18_22TEMP_MPY_wvf_snd.mp3\n"
     ]
    },
    {
     "name": "stderr",
     "output_type": "stream",
     "text": [
      "                                                                                                                     \r"
     ]
    },
    {
     "name": "stdout",
     "output_type": "stream",
     "text": [
      "MoviePy - Done.\n",
      "Moviepy - Writing video /home/chenlequn/pan1/Dataset/Laser-Wire-DED-ThermalAudio-Dataset/segmented_videos/Exp_18_22.avi\n",
      "\n"
     ]
    },
    {
     "name": "stderr",
     "output_type": "stream",
     "text": [
      "                                                                                                                     \r"
     ]
    },
    {
     "name": "stdout",
     "output_type": "stream",
     "text": [
      "Moviepy - Done !\n",
      "Moviepy - video ready /home/chenlequn/pan1/Dataset/Laser-Wire-DED-ThermalAudio-Dataset/segmented_videos/Exp_18_22.avi\n",
      "MoviePy - Writing audio in /home/chenlequn/pan1/Dataset/Laser-Wire-DED-ThermalAudio-Dataset/segmented_audio/Exp_18_22.wav\n"
     ]
    },
    {
     "name": "stderr",
     "output_type": "stream",
     "text": [
      "                                                                                                                     "
     ]
    },
    {
     "name": "stdout",
     "output_type": "stream",
     "text": [
      "MoviePy - Done.\n"
     ]
    },
    {
     "name": "stderr",
     "output_type": "stream",
     "text": [
      "\r"
     ]
    },
    {
     "name": "stdout",
     "output_type": "stream",
     "text": [
      "Moviepy - Building video /home/chenlequn/pan1/Dataset/Laser-Wire-DED-ThermalAudio-Dataset/segmented_videos/Exp_18_23.avi.\n",
      "MoviePy - Writing audio in Exp_18_23TEMP_MPY_wvf_snd.mp3\n"
     ]
    },
    {
     "name": "stderr",
     "output_type": "stream",
     "text": [
      "                                                                                                                     \r"
     ]
    },
    {
     "name": "stdout",
     "output_type": "stream",
     "text": [
      "MoviePy - Done.\n",
      "Moviepy - Writing video /home/chenlequn/pan1/Dataset/Laser-Wire-DED-ThermalAudio-Dataset/segmented_videos/Exp_18_23.avi\n",
      "\n"
     ]
    },
    {
     "name": "stderr",
     "output_type": "stream",
     "text": [
      "                                                                                                                     \r"
     ]
    },
    {
     "name": "stdout",
     "output_type": "stream",
     "text": [
      "Moviepy - Done !\n",
      "Moviepy - video ready /home/chenlequn/pan1/Dataset/Laser-Wire-DED-ThermalAudio-Dataset/segmented_videos/Exp_18_23.avi\n",
      "MoviePy - Writing audio in /home/chenlequn/pan1/Dataset/Laser-Wire-DED-ThermalAudio-Dataset/segmented_audio/Exp_18_23.wav\n"
     ]
    },
    {
     "name": "stderr",
     "output_type": "stream",
     "text": [
      "                                                                                                                     \r"
     ]
    },
    {
     "name": "stdout",
     "output_type": "stream",
     "text": [
      "MoviePy - Done.\n",
      "Moviepy - Building video /home/chenlequn/pan1/Dataset/Laser-Wire-DED-ThermalAudio-Dataset/segmented_videos/Exp_18_24.avi.\n",
      "MoviePy - Writing audio in Exp_18_24TEMP_MPY_wvf_snd.mp3\n"
     ]
    },
    {
     "name": "stderr",
     "output_type": "stream",
     "text": [
      "                                                                                                                     \r"
     ]
    },
    {
     "name": "stdout",
     "output_type": "stream",
     "text": [
      "MoviePy - Done.\n",
      "Moviepy - Writing video /home/chenlequn/pan1/Dataset/Laser-Wire-DED-ThermalAudio-Dataset/segmented_videos/Exp_18_24.avi\n",
      "\n"
     ]
    },
    {
     "name": "stderr",
     "output_type": "stream",
     "text": [
      "                                                                                                                     \r"
     ]
    },
    {
     "name": "stdout",
     "output_type": "stream",
     "text": [
      "Moviepy - Done !\n",
      "Moviepy - video ready /home/chenlequn/pan1/Dataset/Laser-Wire-DED-ThermalAudio-Dataset/segmented_videos/Exp_18_24.avi\n",
      "MoviePy - Writing audio in /home/chenlequn/pan1/Dataset/Laser-Wire-DED-ThermalAudio-Dataset/segmented_audio/Exp_18_24.wav\n"
     ]
    },
    {
     "name": "stderr",
     "output_type": "stream",
     "text": [
      "                                                                                                                     \r"
     ]
    },
    {
     "name": "stdout",
     "output_type": "stream",
     "text": [
      "MoviePy - Done.\n",
      "Moviepy - Building video /home/chenlequn/pan1/Dataset/Laser-Wire-DED-ThermalAudio-Dataset/segmented_videos/Exp_18_25.avi.\n",
      "MoviePy - Writing audio in Exp_18_25TEMP_MPY_wvf_snd.mp3\n"
     ]
    },
    {
     "name": "stderr",
     "output_type": "stream",
     "text": [
      "                                                                                                                     \r"
     ]
    },
    {
     "name": "stdout",
     "output_type": "stream",
     "text": [
      "MoviePy - Done.\n",
      "Moviepy - Writing video /home/chenlequn/pan1/Dataset/Laser-Wire-DED-ThermalAudio-Dataset/segmented_videos/Exp_18_25.avi\n",
      "\n"
     ]
    },
    {
     "name": "stderr",
     "output_type": "stream",
     "text": [
      "                                                                                                                     \r"
     ]
    },
    {
     "name": "stdout",
     "output_type": "stream",
     "text": [
      "Moviepy - Done !\n",
      "Moviepy - video ready /home/chenlequn/pan1/Dataset/Laser-Wire-DED-ThermalAudio-Dataset/segmented_videos/Exp_18_25.avi\n",
      "MoviePy - Writing audio in /home/chenlequn/pan1/Dataset/Laser-Wire-DED-ThermalAudio-Dataset/segmented_audio/Exp_18_25.wav\n"
     ]
    },
    {
     "name": "stderr",
     "output_type": "stream",
     "text": [
      "                                                                                                                     "
     ]
    },
    {
     "name": "stdout",
     "output_type": "stream",
     "text": [
      "MoviePy - Done.\n"
     ]
    },
    {
     "name": "stderr",
     "output_type": "stream",
     "text": [
      "\r"
     ]
    },
    {
     "name": "stdout",
     "output_type": "stream",
     "text": [
      "Moviepy - Building video /home/chenlequn/pan1/Dataset/Laser-Wire-DED-ThermalAudio-Dataset/segmented_videos/Exp_18_26.avi.\n",
      "MoviePy - Writing audio in Exp_18_26TEMP_MPY_wvf_snd.mp3\n"
     ]
    },
    {
     "name": "stderr",
     "output_type": "stream",
     "text": [
      "                                                                                                                     \r"
     ]
    },
    {
     "name": "stdout",
     "output_type": "stream",
     "text": [
      "MoviePy - Done.\n",
      "Moviepy - Writing video /home/chenlequn/pan1/Dataset/Laser-Wire-DED-ThermalAudio-Dataset/segmented_videos/Exp_18_26.avi\n",
      "\n"
     ]
    },
    {
     "name": "stderr",
     "output_type": "stream",
     "text": [
      "                                                                                                                     \r"
     ]
    },
    {
     "name": "stdout",
     "output_type": "stream",
     "text": [
      "Moviepy - Done !\n",
      "Moviepy - video ready /home/chenlequn/pan1/Dataset/Laser-Wire-DED-ThermalAudio-Dataset/segmented_videos/Exp_18_26.avi\n",
      "MoviePy - Writing audio in /home/chenlequn/pan1/Dataset/Laser-Wire-DED-ThermalAudio-Dataset/segmented_audio/Exp_18_26.wav\n"
     ]
    },
    {
     "name": "stderr",
     "output_type": "stream",
     "text": [
      "                                                                                                                     "
     ]
    },
    {
     "name": "stdout",
     "output_type": "stream",
     "text": [
      "MoviePy - Done.\n"
     ]
    },
    {
     "name": "stderr",
     "output_type": "stream",
     "text": [
      "\r"
     ]
    },
    {
     "name": "stdout",
     "output_type": "stream",
     "text": [
      "Moviepy - Building video /home/chenlequn/pan1/Dataset/Laser-Wire-DED-ThermalAudio-Dataset/segmented_videos/Exp_18_28.avi.\n",
      "MoviePy - Writing audio in Exp_18_28TEMP_MPY_wvf_snd.mp3\n"
     ]
    },
    {
     "name": "stderr",
     "output_type": "stream",
     "text": [
      "                                                                                                                     \r"
     ]
    },
    {
     "name": "stdout",
     "output_type": "stream",
     "text": [
      "MoviePy - Done.\n",
      "Moviepy - Writing video /home/chenlequn/pan1/Dataset/Laser-Wire-DED-ThermalAudio-Dataset/segmented_videos/Exp_18_28.avi\n",
      "\n"
     ]
    },
    {
     "name": "stderr",
     "output_type": "stream",
     "text": [
      "                                                                                                                     \r"
     ]
    },
    {
     "name": "stdout",
     "output_type": "stream",
     "text": [
      "Moviepy - Done !\n",
      "Moviepy - video ready /home/chenlequn/pan1/Dataset/Laser-Wire-DED-ThermalAudio-Dataset/segmented_videos/Exp_18_28.avi\n",
      "MoviePy - Writing audio in /home/chenlequn/pan1/Dataset/Laser-Wire-DED-ThermalAudio-Dataset/segmented_audio/Exp_18_28.wav\n"
     ]
    },
    {
     "name": "stderr",
     "output_type": "stream",
     "text": [
      "                                                                                                                     "
     ]
    },
    {
     "name": "stdout",
     "output_type": "stream",
     "text": [
      "MoviePy - Done.\n"
     ]
    },
    {
     "name": "stderr",
     "output_type": "stream",
     "text": [
      "\r"
     ]
    },
    {
     "name": "stdout",
     "output_type": "stream",
     "text": [
      "Moviepy - Building video /home/chenlequn/pan1/Dataset/Laser-Wire-DED-ThermalAudio-Dataset/segmented_videos/Exp_18_35.avi.\n",
      "MoviePy - Writing audio in Exp_18_35TEMP_MPY_wvf_snd.mp3\n"
     ]
    },
    {
     "name": "stderr",
     "output_type": "stream",
     "text": [
      "                                                                                                                     \r"
     ]
    },
    {
     "name": "stdout",
     "output_type": "stream",
     "text": [
      "MoviePy - Done.\n",
      "Moviepy - Writing video /home/chenlequn/pan1/Dataset/Laser-Wire-DED-ThermalAudio-Dataset/segmented_videos/Exp_18_35.avi\n",
      "\n"
     ]
    },
    {
     "name": "stderr",
     "output_type": "stream",
     "text": [
      "                                                                                                                     \r"
     ]
    },
    {
     "name": "stdout",
     "output_type": "stream",
     "text": [
      "Moviepy - Done !\n",
      "Moviepy - video ready /home/chenlequn/pan1/Dataset/Laser-Wire-DED-ThermalAudio-Dataset/segmented_videos/Exp_18_35.avi\n",
      "MoviePy - Writing audio in /home/chenlequn/pan1/Dataset/Laser-Wire-DED-ThermalAudio-Dataset/segmented_audio/Exp_18_35.wav\n"
     ]
    },
    {
     "name": "stderr",
     "output_type": "stream",
     "text": [
      "                                                                                                                     "
     ]
    },
    {
     "name": "stdout",
     "output_type": "stream",
     "text": [
      "MoviePy - Done.\n"
     ]
    },
    {
     "name": "stderr",
     "output_type": "stream",
     "text": [
      "\r"
     ]
    },
    {
     "name": "stdout",
     "output_type": "stream",
     "text": [
      "Moviepy - Building video /home/chenlequn/pan1/Dataset/Laser-Wire-DED-ThermalAudio-Dataset/segmented_videos/Exp_18_36.avi.\n",
      "MoviePy - Writing audio in Exp_18_36TEMP_MPY_wvf_snd.mp3\n"
     ]
    },
    {
     "name": "stderr",
     "output_type": "stream",
     "text": [
      "                                                                                                                     \r"
     ]
    },
    {
     "name": "stdout",
     "output_type": "stream",
     "text": [
      "MoviePy - Done.\n",
      "Moviepy - Writing video /home/chenlequn/pan1/Dataset/Laser-Wire-DED-ThermalAudio-Dataset/segmented_videos/Exp_18_36.avi\n",
      "\n"
     ]
    },
    {
     "name": "stderr",
     "output_type": "stream",
     "text": [
      "                                                                                                                     \r"
     ]
    },
    {
     "name": "stdout",
     "output_type": "stream",
     "text": [
      "Moviepy - Done !\n",
      "Moviepy - video ready /home/chenlequn/pan1/Dataset/Laser-Wire-DED-ThermalAudio-Dataset/segmented_videos/Exp_18_36.avi\n",
      "MoviePy - Writing audio in /home/chenlequn/pan1/Dataset/Laser-Wire-DED-ThermalAudio-Dataset/segmented_audio/Exp_18_36.wav\n"
     ]
    },
    {
     "name": "stderr",
     "output_type": "stream",
     "text": [
      "                                                                                                                     "
     ]
    },
    {
     "name": "stdout",
     "output_type": "stream",
     "text": [
      "MoviePy - Done.\n"
     ]
    },
    {
     "name": "stderr",
     "output_type": "stream",
     "text": [
      "\r"
     ]
    },
    {
     "name": "stdout",
     "output_type": "stream",
     "text": [
      "Moviepy - Building video /home/chenlequn/pan1/Dataset/Laser-Wire-DED-ThermalAudio-Dataset/segmented_videos/Exp_18_37.avi.\n",
      "MoviePy - Writing audio in Exp_18_37TEMP_MPY_wvf_snd.mp3\n"
     ]
    },
    {
     "name": "stderr",
     "output_type": "stream",
     "text": [
      "                                                                                                                     \r"
     ]
    },
    {
     "name": "stdout",
     "output_type": "stream",
     "text": [
      "MoviePy - Done.\n",
      "Moviepy - Writing video /home/chenlequn/pan1/Dataset/Laser-Wire-DED-ThermalAudio-Dataset/segmented_videos/Exp_18_37.avi\n",
      "\n"
     ]
    },
    {
     "name": "stderr",
     "output_type": "stream",
     "text": [
      "                                                                                                                     \r"
     ]
    },
    {
     "name": "stdout",
     "output_type": "stream",
     "text": [
      "Moviepy - Done !\n",
      "Moviepy - video ready /home/chenlequn/pan1/Dataset/Laser-Wire-DED-ThermalAudio-Dataset/segmented_videos/Exp_18_37.avi\n",
      "MoviePy - Writing audio in /home/chenlequn/pan1/Dataset/Laser-Wire-DED-ThermalAudio-Dataset/segmented_audio/Exp_18_37.wav\n"
     ]
    },
    {
     "name": "stderr",
     "output_type": "stream",
     "text": [
      "                                                                                                                     "
     ]
    },
    {
     "name": "stdout",
     "output_type": "stream",
     "text": [
      "MoviePy - Done.\n"
     ]
    },
    {
     "name": "stderr",
     "output_type": "stream",
     "text": [
      "\r"
     ]
    },
    {
     "name": "stdout",
     "output_type": "stream",
     "text": [
      "Moviepy - Building video /home/chenlequn/pan1/Dataset/Laser-Wire-DED-ThermalAudio-Dataset/segmented_videos/Exp_18_38.avi.\n",
      "MoviePy - Writing audio in Exp_18_38TEMP_MPY_wvf_snd.mp3\n"
     ]
    },
    {
     "name": "stderr",
     "output_type": "stream",
     "text": [
      "                                                                                                                     \r"
     ]
    },
    {
     "name": "stdout",
     "output_type": "stream",
     "text": [
      "MoviePy - Done.\n",
      "Moviepy - Writing video /home/chenlequn/pan1/Dataset/Laser-Wire-DED-ThermalAudio-Dataset/segmented_videos/Exp_18_38.avi\n",
      "\n"
     ]
    },
    {
     "name": "stderr",
     "output_type": "stream",
     "text": [
      "                                                                                                                     \r"
     ]
    },
    {
     "name": "stdout",
     "output_type": "stream",
     "text": [
      "Moviepy - Done !\n",
      "Moviepy - video ready /home/chenlequn/pan1/Dataset/Laser-Wire-DED-ThermalAudio-Dataset/segmented_videos/Exp_18_38.avi\n",
      "MoviePy - Writing audio in /home/chenlequn/pan1/Dataset/Laser-Wire-DED-ThermalAudio-Dataset/segmented_audio/Exp_18_38.wav\n"
     ]
    },
    {
     "name": "stderr",
     "output_type": "stream",
     "text": [
      "                                                                                                                     \r"
     ]
    },
    {
     "name": "stdout",
     "output_type": "stream",
     "text": [
      "MoviePy - Done.\n",
      "Moviepy - Building video /home/chenlequn/pan1/Dataset/Laser-Wire-DED-ThermalAudio-Dataset/segmented_videos/Exp_18_39.avi.\n",
      "MoviePy - Writing audio in Exp_18_39TEMP_MPY_wvf_snd.mp3\n"
     ]
    },
    {
     "name": "stderr",
     "output_type": "stream",
     "text": [
      "                                                                                                                     \r"
     ]
    },
    {
     "name": "stdout",
     "output_type": "stream",
     "text": [
      "MoviePy - Done.\n",
      "Moviepy - Writing video /home/chenlequn/pan1/Dataset/Laser-Wire-DED-ThermalAudio-Dataset/segmented_videos/Exp_18_39.avi\n",
      "\n"
     ]
    },
    {
     "name": "stderr",
     "output_type": "stream",
     "text": [
      "                                                                                                                     \r"
     ]
    },
    {
     "name": "stdout",
     "output_type": "stream",
     "text": [
      "Moviepy - Done !\n",
      "Moviepy - video ready /home/chenlequn/pan1/Dataset/Laser-Wire-DED-ThermalAudio-Dataset/segmented_videos/Exp_18_39.avi\n",
      "MoviePy - Writing audio in /home/chenlequn/pan1/Dataset/Laser-Wire-DED-ThermalAudio-Dataset/segmented_audio/Exp_18_39.wav\n"
     ]
    },
    {
     "name": "stderr",
     "output_type": "stream",
     "text": [
      "                                                                                                                     "
     ]
    },
    {
     "name": "stdout",
     "output_type": "stream",
     "text": [
      "MoviePy - Done.\n"
     ]
    },
    {
     "name": "stderr",
     "output_type": "stream",
     "text": [
      "\r"
     ]
    },
    {
     "name": "stdout",
     "output_type": "stream",
     "text": [
      "Moviepy - Building video /home/chenlequn/pan1/Dataset/Laser-Wire-DED-ThermalAudio-Dataset/segmented_videos/Exp_18_40.avi.\n",
      "MoviePy - Writing audio in Exp_18_40TEMP_MPY_wvf_snd.mp3\n"
     ]
    },
    {
     "name": "stderr",
     "output_type": "stream",
     "text": [
      "                                                                                                                     \r"
     ]
    },
    {
     "name": "stdout",
     "output_type": "stream",
     "text": [
      "MoviePy - Done.\n",
      "Moviepy - Writing video /home/chenlequn/pan1/Dataset/Laser-Wire-DED-ThermalAudio-Dataset/segmented_videos/Exp_18_40.avi\n",
      "\n"
     ]
    },
    {
     "name": "stderr",
     "output_type": "stream",
     "text": [
      "                                                                                                                     "
     ]
    },
    {
     "name": "stdout",
     "output_type": "stream",
     "text": [
      "Moviepy - Done !\n",
      "Moviepy - video ready /home/chenlequn/pan1/Dataset/Laser-Wire-DED-ThermalAudio-Dataset/segmented_videos/Exp_18_40.avi\n",
      "MoviePy - Writing audio in /home/chenlequn/pan1/Dataset/Laser-Wire-DED-ThermalAudio-Dataset/segmented_audio/Exp_18_40.wav\n"
     ]
    },
    {
     "name": "stderr",
     "output_type": "stream",
     "text": [
      "                                                                                                                     \r"
     ]
    },
    {
     "name": "stdout",
     "output_type": "stream",
     "text": [
      "MoviePy - Done.\n",
      "Moviepy - Building video /home/chenlequn/pan1/Dataset/Laser-Wire-DED-ThermalAudio-Dataset/segmented_videos/Exp_18_41.avi.\n",
      "MoviePy - Writing audio in Exp_18_41TEMP_MPY_wvf_snd.mp3\n"
     ]
    },
    {
     "name": "stderr",
     "output_type": "stream",
     "text": [
      "                                                                                                                     \r"
     ]
    },
    {
     "name": "stdout",
     "output_type": "stream",
     "text": [
      "MoviePy - Done.\n",
      "Moviepy - Writing video /home/chenlequn/pan1/Dataset/Laser-Wire-DED-ThermalAudio-Dataset/segmented_videos/Exp_18_41.avi\n",
      "\n"
     ]
    },
    {
     "name": "stderr",
     "output_type": "stream",
     "text": [
      "                                                                                                                     \r"
     ]
    },
    {
     "name": "stdout",
     "output_type": "stream",
     "text": [
      "Moviepy - Done !\n",
      "Moviepy - video ready /home/chenlequn/pan1/Dataset/Laser-Wire-DED-ThermalAudio-Dataset/segmented_videos/Exp_18_41.avi\n",
      "MoviePy - Writing audio in /home/chenlequn/pan1/Dataset/Laser-Wire-DED-ThermalAudio-Dataset/segmented_audio/Exp_18_41.wav\n"
     ]
    },
    {
     "name": "stderr",
     "output_type": "stream",
     "text": [
      "                                                                                                                     "
     ]
    },
    {
     "name": "stdout",
     "output_type": "stream",
     "text": [
      "MoviePy - Done.\n"
     ]
    },
    {
     "name": "stderr",
     "output_type": "stream",
     "text": [
      "\r"
     ]
    },
    {
     "name": "stdout",
     "output_type": "stream",
     "text": [
      "Moviepy - Building video /home/chenlequn/pan1/Dataset/Laser-Wire-DED-ThermalAudio-Dataset/segmented_videos/Exp_18_42.avi.\n",
      "MoviePy - Writing audio in Exp_18_42TEMP_MPY_wvf_snd.mp3\n"
     ]
    },
    {
     "name": "stderr",
     "output_type": "stream",
     "text": [
      "                                                                                                                     \r"
     ]
    },
    {
     "name": "stdout",
     "output_type": "stream",
     "text": [
      "MoviePy - Done.\n",
      "Moviepy - Writing video /home/chenlequn/pan1/Dataset/Laser-Wire-DED-ThermalAudio-Dataset/segmented_videos/Exp_18_42.avi\n",
      "\n"
     ]
    },
    {
     "name": "stderr",
     "output_type": "stream",
     "text": [
      "                                                                                                                     \r"
     ]
    },
    {
     "name": "stdout",
     "output_type": "stream",
     "text": [
      "Moviepy - Done !\n",
      "Moviepy - video ready /home/chenlequn/pan1/Dataset/Laser-Wire-DED-ThermalAudio-Dataset/segmented_videos/Exp_18_42.avi\n",
      "MoviePy - Writing audio in /home/chenlequn/pan1/Dataset/Laser-Wire-DED-ThermalAudio-Dataset/segmented_audio/Exp_18_42.wav\n"
     ]
    },
    {
     "name": "stderr",
     "output_type": "stream",
     "text": [
      "                                                                                                                     \r"
     ]
    },
    {
     "name": "stdout",
     "output_type": "stream",
     "text": [
      "MoviePy - Done.\n",
      "Moviepy - Building video /home/chenlequn/pan1/Dataset/Laser-Wire-DED-ThermalAudio-Dataset/segmented_videos/Exp_23_1.avi.\n",
      "MoviePy - Writing audio in Exp_23_1TEMP_MPY_wvf_snd.mp3\n"
     ]
    },
    {
     "name": "stderr",
     "output_type": "stream",
     "text": [
      "                                                                                                                     \r"
     ]
    },
    {
     "name": "stdout",
     "output_type": "stream",
     "text": [
      "MoviePy - Done.\n",
      "Moviepy - Writing video /home/chenlequn/pan1/Dataset/Laser-Wire-DED-ThermalAudio-Dataset/segmented_videos/Exp_23_1.avi\n",
      "\n"
     ]
    },
    {
     "name": "stderr",
     "output_type": "stream",
     "text": [
      "                                                                                                                     \r"
     ]
    },
    {
     "name": "stdout",
     "output_type": "stream",
     "text": [
      "Moviepy - Done !\n",
      "Moviepy - video ready /home/chenlequn/pan1/Dataset/Laser-Wire-DED-ThermalAudio-Dataset/segmented_videos/Exp_23_1.avi\n",
      "MoviePy - Writing audio in /home/chenlequn/pan1/Dataset/Laser-Wire-DED-ThermalAudio-Dataset/segmented_audio/Exp_23_1.wav\n"
     ]
    },
    {
     "name": "stderr",
     "output_type": "stream",
     "text": [
      "                                                                                                                     \r"
     ]
    },
    {
     "name": "stdout",
     "output_type": "stream",
     "text": [
      "MoviePy - Done.\n",
      "Moviepy - Building video /home/chenlequn/pan1/Dataset/Laser-Wire-DED-ThermalAudio-Dataset/segmented_videos/Exp_23_2.avi.\n",
      "MoviePy - Writing audio in Exp_23_2TEMP_MPY_wvf_snd.mp3\n"
     ]
    },
    {
     "name": "stderr",
     "output_type": "stream",
     "text": [
      "                                                                                                                     \r"
     ]
    },
    {
     "name": "stdout",
     "output_type": "stream",
     "text": [
      "MoviePy - Done.\n",
      "Moviepy - Writing video /home/chenlequn/pan1/Dataset/Laser-Wire-DED-ThermalAudio-Dataset/segmented_videos/Exp_23_2.avi\n",
      "\n"
     ]
    },
    {
     "name": "stderr",
     "output_type": "stream",
     "text": [
      "                                                                                                                     \r"
     ]
    },
    {
     "name": "stdout",
     "output_type": "stream",
     "text": [
      "Moviepy - Done !\n",
      "Moviepy - video ready /home/chenlequn/pan1/Dataset/Laser-Wire-DED-ThermalAudio-Dataset/segmented_videos/Exp_23_2.avi\n",
      "MoviePy - Writing audio in /home/chenlequn/pan1/Dataset/Laser-Wire-DED-ThermalAudio-Dataset/segmented_audio/Exp_23_2.wav\n"
     ]
    },
    {
     "name": "stderr",
     "output_type": "stream",
     "text": [
      "                                                                                                                     \r"
     ]
    },
    {
     "name": "stdout",
     "output_type": "stream",
     "text": [
      "MoviePy - Done.\n",
      "Moviepy - Building video /home/chenlequn/pan1/Dataset/Laser-Wire-DED-ThermalAudio-Dataset/segmented_videos/Exp_23_3.avi.\n",
      "MoviePy - Writing audio in Exp_23_3TEMP_MPY_wvf_snd.mp3\n"
     ]
    },
    {
     "name": "stderr",
     "output_type": "stream",
     "text": [
      "                                                                                                                     \r"
     ]
    },
    {
     "name": "stdout",
     "output_type": "stream",
     "text": [
      "MoviePy - Done.\n",
      "Moviepy - Writing video /home/chenlequn/pan1/Dataset/Laser-Wire-DED-ThermalAudio-Dataset/segmented_videos/Exp_23_3.avi\n",
      "\n"
     ]
    },
    {
     "name": "stderr",
     "output_type": "stream",
     "text": [
      "                                                                                                                     \r"
     ]
    },
    {
     "name": "stdout",
     "output_type": "stream",
     "text": [
      "Moviepy - Done !\n",
      "Moviepy - video ready /home/chenlequn/pan1/Dataset/Laser-Wire-DED-ThermalAudio-Dataset/segmented_videos/Exp_23_3.avi\n",
      "MoviePy - Writing audio in /home/chenlequn/pan1/Dataset/Laser-Wire-DED-ThermalAudio-Dataset/segmented_audio/Exp_23_3.wav\n"
     ]
    },
    {
     "name": "stderr",
     "output_type": "stream",
     "text": [
      "                                                                                                                     \r"
     ]
    },
    {
     "name": "stdout",
     "output_type": "stream",
     "text": [
      "MoviePy - Done.\n",
      "Moviepy - Building video /home/chenlequn/pan1/Dataset/Laser-Wire-DED-ThermalAudio-Dataset/segmented_videos/Exp_23_4.avi.\n",
      "MoviePy - Writing audio in Exp_23_4TEMP_MPY_wvf_snd.mp3\n"
     ]
    },
    {
     "name": "stderr",
     "output_type": "stream",
     "text": [
      "                                                                                                                     \r"
     ]
    },
    {
     "name": "stdout",
     "output_type": "stream",
     "text": [
      "MoviePy - Done.\n",
      "Moviepy - Writing video /home/chenlequn/pan1/Dataset/Laser-Wire-DED-ThermalAudio-Dataset/segmented_videos/Exp_23_4.avi\n",
      "\n"
     ]
    },
    {
     "name": "stderr",
     "output_type": "stream",
     "text": [
      "                                                                                                                     \r"
     ]
    },
    {
     "name": "stdout",
     "output_type": "stream",
     "text": [
      "Moviepy - Done !\n",
      "Moviepy - video ready /home/chenlequn/pan1/Dataset/Laser-Wire-DED-ThermalAudio-Dataset/segmented_videos/Exp_23_4.avi\n",
      "MoviePy - Writing audio in /home/chenlequn/pan1/Dataset/Laser-Wire-DED-ThermalAudio-Dataset/segmented_audio/Exp_23_4.wav\n"
     ]
    },
    {
     "name": "stderr",
     "output_type": "stream",
     "text": [
      "                                                                                                                     \r"
     ]
    },
    {
     "name": "stdout",
     "output_type": "stream",
     "text": [
      "MoviePy - Done.\n",
      "Moviepy - Building video /home/chenlequn/pan1/Dataset/Laser-Wire-DED-ThermalAudio-Dataset/segmented_videos/Exp_23_5.avi.\n",
      "MoviePy - Writing audio in Exp_23_5TEMP_MPY_wvf_snd.mp3\n"
     ]
    },
    {
     "name": "stderr",
     "output_type": "stream",
     "text": [
      "                                                                                                                     \r"
     ]
    },
    {
     "name": "stdout",
     "output_type": "stream",
     "text": [
      "MoviePy - Done.\n",
      "Moviepy - Writing video /home/chenlequn/pan1/Dataset/Laser-Wire-DED-ThermalAudio-Dataset/segmented_videos/Exp_23_5.avi\n",
      "\n"
     ]
    },
    {
     "name": "stderr",
     "output_type": "stream",
     "text": [
      "                                                                                                                     \r"
     ]
    },
    {
     "name": "stdout",
     "output_type": "stream",
     "text": [
      "Moviepy - Done !\n",
      "Moviepy - video ready /home/chenlequn/pan1/Dataset/Laser-Wire-DED-ThermalAudio-Dataset/segmented_videos/Exp_23_5.avi\n",
      "MoviePy - Writing audio in /home/chenlequn/pan1/Dataset/Laser-Wire-DED-ThermalAudio-Dataset/segmented_audio/Exp_23_5.wav\n"
     ]
    },
    {
     "name": "stderr",
     "output_type": "stream",
     "text": [
      "                                                                                                                     \r"
     ]
    },
    {
     "name": "stdout",
     "output_type": "stream",
     "text": [
      "MoviePy - Done.\n",
      "Moviepy - Building video /home/chenlequn/pan1/Dataset/Laser-Wire-DED-ThermalAudio-Dataset/segmented_videos/Exp_23_6.avi.\n",
      "MoviePy - Writing audio in Exp_23_6TEMP_MPY_wvf_snd.mp3\n"
     ]
    },
    {
     "name": "stderr",
     "output_type": "stream",
     "text": [
      "                                                                                                                     \r"
     ]
    },
    {
     "name": "stdout",
     "output_type": "stream",
     "text": [
      "MoviePy - Done.\n",
      "Moviepy - Writing video /home/chenlequn/pan1/Dataset/Laser-Wire-DED-ThermalAudio-Dataset/segmented_videos/Exp_23_6.avi\n",
      "\n"
     ]
    },
    {
     "name": "stderr",
     "output_type": "stream",
     "text": [
      "                                                                                                                     \r"
     ]
    },
    {
     "name": "stdout",
     "output_type": "stream",
     "text": [
      "Moviepy - Done !\n",
      "Moviepy - video ready /home/chenlequn/pan1/Dataset/Laser-Wire-DED-ThermalAudio-Dataset/segmented_videos/Exp_23_6.avi\n",
      "MoviePy - Writing audio in /home/chenlequn/pan1/Dataset/Laser-Wire-DED-ThermalAudio-Dataset/segmented_audio/Exp_23_6.wav\n"
     ]
    },
    {
     "name": "stderr",
     "output_type": "stream",
     "text": [
      "                                                                                                                     \r"
     ]
    },
    {
     "name": "stdout",
     "output_type": "stream",
     "text": [
      "MoviePy - Done.\n",
      "Moviepy - Building video /home/chenlequn/pan1/Dataset/Laser-Wire-DED-ThermalAudio-Dataset/segmented_videos/Exp_23_7.avi.\n",
      "MoviePy - Writing audio in Exp_23_7TEMP_MPY_wvf_snd.mp3\n"
     ]
    },
    {
     "name": "stderr",
     "output_type": "stream",
     "text": [
      "                                                                                                                     \r"
     ]
    },
    {
     "name": "stdout",
     "output_type": "stream",
     "text": [
      "MoviePy - Done.\n",
      "Moviepy - Writing video /home/chenlequn/pan1/Dataset/Laser-Wire-DED-ThermalAudio-Dataset/segmented_videos/Exp_23_7.avi\n",
      "\n"
     ]
    },
    {
     "name": "stderr",
     "output_type": "stream",
     "text": [
      "                                                                                                                     \r"
     ]
    },
    {
     "name": "stdout",
     "output_type": "stream",
     "text": [
      "Moviepy - Done !\n",
      "Moviepy - video ready /home/chenlequn/pan1/Dataset/Laser-Wire-DED-ThermalAudio-Dataset/segmented_videos/Exp_23_7.avi\n",
      "MoviePy - Writing audio in /home/chenlequn/pan1/Dataset/Laser-Wire-DED-ThermalAudio-Dataset/segmented_audio/Exp_23_7.wav\n"
     ]
    },
    {
     "name": "stderr",
     "output_type": "stream",
     "text": [
      "                                                                                                                     \r"
     ]
    },
    {
     "name": "stdout",
     "output_type": "stream",
     "text": [
      "MoviePy - Done.\n",
      "Moviepy - Building video /home/chenlequn/pan1/Dataset/Laser-Wire-DED-ThermalAudio-Dataset/segmented_videos/Exp_23_8.avi.\n",
      "MoviePy - Writing audio in Exp_23_8TEMP_MPY_wvf_snd.mp3\n"
     ]
    },
    {
     "name": "stderr",
     "output_type": "stream",
     "text": [
      "                                                                                                                     \r"
     ]
    },
    {
     "name": "stdout",
     "output_type": "stream",
     "text": [
      "MoviePy - Done.\n",
      "Moviepy - Writing video /home/chenlequn/pan1/Dataset/Laser-Wire-DED-ThermalAudio-Dataset/segmented_videos/Exp_23_8.avi\n",
      "\n"
     ]
    },
    {
     "name": "stderr",
     "output_type": "stream",
     "text": [
      "                                                                                                                     \r"
     ]
    },
    {
     "name": "stdout",
     "output_type": "stream",
     "text": [
      "Moviepy - Done !\n",
      "Moviepy - video ready /home/chenlequn/pan1/Dataset/Laser-Wire-DED-ThermalAudio-Dataset/segmented_videos/Exp_23_8.avi\n",
      "MoviePy - Writing audio in /home/chenlequn/pan1/Dataset/Laser-Wire-DED-ThermalAudio-Dataset/segmented_audio/Exp_23_8.wav\n"
     ]
    },
    {
     "name": "stderr",
     "output_type": "stream",
     "text": [
      "                                                                                                                     \r"
     ]
    },
    {
     "name": "stdout",
     "output_type": "stream",
     "text": [
      "MoviePy - Done.\n",
      "Moviepy - Building video /home/chenlequn/pan1/Dataset/Laser-Wire-DED-ThermalAudio-Dataset/segmented_videos/Exp_23_9.avi.\n",
      "MoviePy - Writing audio in Exp_23_9TEMP_MPY_wvf_snd.mp3\n"
     ]
    },
    {
     "name": "stderr",
     "output_type": "stream",
     "text": [
      "                                                                                                                     \r"
     ]
    },
    {
     "name": "stdout",
     "output_type": "stream",
     "text": [
      "MoviePy - Done.\n",
      "Moviepy - Writing video /home/chenlequn/pan1/Dataset/Laser-Wire-DED-ThermalAudio-Dataset/segmented_videos/Exp_23_9.avi\n",
      "\n"
     ]
    },
    {
     "name": "stderr",
     "output_type": "stream",
     "text": [
      "                                                                                                                     \r"
     ]
    },
    {
     "name": "stdout",
     "output_type": "stream",
     "text": [
      "Moviepy - Done !\n",
      "Moviepy - video ready /home/chenlequn/pan1/Dataset/Laser-Wire-DED-ThermalAudio-Dataset/segmented_videos/Exp_23_9.avi\n",
      "MoviePy - Writing audio in /home/chenlequn/pan1/Dataset/Laser-Wire-DED-ThermalAudio-Dataset/segmented_audio/Exp_23_9.wav\n"
     ]
    },
    {
     "name": "stderr",
     "output_type": "stream",
     "text": [
      "                                                                                                                     \r"
     ]
    },
    {
     "name": "stdout",
     "output_type": "stream",
     "text": [
      "MoviePy - Done.\n",
      "Moviepy - Building video /home/chenlequn/pan1/Dataset/Laser-Wire-DED-ThermalAudio-Dataset/segmented_videos/Exp_23_10.avi.\n",
      "MoviePy - Writing audio in Exp_23_10TEMP_MPY_wvf_snd.mp3\n"
     ]
    },
    {
     "name": "stderr",
     "output_type": "stream",
     "text": [
      "                                                                                                                     \r"
     ]
    },
    {
     "name": "stdout",
     "output_type": "stream",
     "text": [
      "MoviePy - Done.\n",
      "Moviepy - Writing video /home/chenlequn/pan1/Dataset/Laser-Wire-DED-ThermalAudio-Dataset/segmented_videos/Exp_23_10.avi\n",
      "\n"
     ]
    },
    {
     "name": "stderr",
     "output_type": "stream",
     "text": [
      "                                                                                                                     \r"
     ]
    },
    {
     "name": "stdout",
     "output_type": "stream",
     "text": [
      "Moviepy - Done !\n",
      "Moviepy - video ready /home/chenlequn/pan1/Dataset/Laser-Wire-DED-ThermalAudio-Dataset/segmented_videos/Exp_23_10.avi\n",
      "MoviePy - Writing audio in /home/chenlequn/pan1/Dataset/Laser-Wire-DED-ThermalAudio-Dataset/segmented_audio/Exp_23_10.wav\n"
     ]
    },
    {
     "name": "stderr",
     "output_type": "stream",
     "text": [
      "                                                                                                                     \r"
     ]
    },
    {
     "name": "stdout",
     "output_type": "stream",
     "text": [
      "MoviePy - Done.\n",
      "Moviepy - Building video /home/chenlequn/pan1/Dataset/Laser-Wire-DED-ThermalAudio-Dataset/segmented_videos/Exp_23_11.avi.\n",
      "MoviePy - Writing audio in Exp_23_11TEMP_MPY_wvf_snd.mp3\n"
     ]
    },
    {
     "name": "stderr",
     "output_type": "stream",
     "text": [
      "                                                                                                                     "
     ]
    },
    {
     "name": "stdout",
     "output_type": "stream",
     "text": [
      "MoviePy - Done.\n",
      "Moviepy - Writing video /home/chenlequn/pan1/Dataset/Laser-Wire-DED-ThermalAudio-Dataset/segmented_videos/Exp_23_11.avi\n",
      "\n"
     ]
    },
    {
     "name": "stderr",
     "output_type": "stream",
     "text": [
      "                                                                                                                     \r"
     ]
    },
    {
     "name": "stdout",
     "output_type": "stream",
     "text": [
      "Moviepy - Done !\n",
      "Moviepy - video ready /home/chenlequn/pan1/Dataset/Laser-Wire-DED-ThermalAudio-Dataset/segmented_videos/Exp_23_11.avi\n",
      "MoviePy - Writing audio in /home/chenlequn/pan1/Dataset/Laser-Wire-DED-ThermalAudio-Dataset/segmented_audio/Exp_23_11.wav\n"
     ]
    },
    {
     "name": "stderr",
     "output_type": "stream",
     "text": [
      "                                                                                                                     \r"
     ]
    },
    {
     "name": "stdout",
     "output_type": "stream",
     "text": [
      "MoviePy - Done.\n",
      "Moviepy - Building video /home/chenlequn/pan1/Dataset/Laser-Wire-DED-ThermalAudio-Dataset/segmented_videos/Exp_23_12.avi.\n",
      "MoviePy - Writing audio in Exp_23_12TEMP_MPY_wvf_snd.mp3\n"
     ]
    },
    {
     "name": "stderr",
     "output_type": "stream",
     "text": [
      "                                                                                                                     \r"
     ]
    },
    {
     "name": "stdout",
     "output_type": "stream",
     "text": [
      "MoviePy - Done.\n",
      "Moviepy - Writing video /home/chenlequn/pan1/Dataset/Laser-Wire-DED-ThermalAudio-Dataset/segmented_videos/Exp_23_12.avi\n",
      "\n"
     ]
    },
    {
     "name": "stderr",
     "output_type": "stream",
     "text": [
      "                                                                                                                     \r"
     ]
    },
    {
     "name": "stdout",
     "output_type": "stream",
     "text": [
      "Moviepy - Done !\n",
      "Moviepy - video ready /home/chenlequn/pan1/Dataset/Laser-Wire-DED-ThermalAudio-Dataset/segmented_videos/Exp_23_12.avi\n",
      "MoviePy - Writing audio in /home/chenlequn/pan1/Dataset/Laser-Wire-DED-ThermalAudio-Dataset/segmented_audio/Exp_23_12.wav\n"
     ]
    },
    {
     "name": "stderr",
     "output_type": "stream",
     "text": [
      "                                                                                                                     \r"
     ]
    },
    {
     "name": "stdout",
     "output_type": "stream",
     "text": [
      "MoviePy - Done.\n",
      "Moviepy - Building video /home/chenlequn/pan1/Dataset/Laser-Wire-DED-ThermalAudio-Dataset/segmented_videos/Exp_23_13.avi.\n",
      "MoviePy - Writing audio in Exp_23_13TEMP_MPY_wvf_snd.mp3\n"
     ]
    },
    {
     "name": "stderr",
     "output_type": "stream",
     "text": [
      "                                                                                                                     \r"
     ]
    },
    {
     "name": "stdout",
     "output_type": "stream",
     "text": [
      "MoviePy - Done.\n",
      "Moviepy - Writing video /home/chenlequn/pan1/Dataset/Laser-Wire-DED-ThermalAudio-Dataset/segmented_videos/Exp_23_13.avi\n",
      "\n"
     ]
    },
    {
     "name": "stderr",
     "output_type": "stream",
     "text": [
      "                                                                                                                     \r"
     ]
    },
    {
     "name": "stdout",
     "output_type": "stream",
     "text": [
      "Moviepy - Done !\n",
      "Moviepy - video ready /home/chenlequn/pan1/Dataset/Laser-Wire-DED-ThermalAudio-Dataset/segmented_videos/Exp_23_13.avi\n",
      "MoviePy - Writing audio in /home/chenlequn/pan1/Dataset/Laser-Wire-DED-ThermalAudio-Dataset/segmented_audio/Exp_23_13.wav\n"
     ]
    },
    {
     "name": "stderr",
     "output_type": "stream",
     "text": [
      "                                                                                                                     \r"
     ]
    },
    {
     "name": "stdout",
     "output_type": "stream",
     "text": [
      "MoviePy - Done.\n",
      "Moviepy - Building video /home/chenlequn/pan1/Dataset/Laser-Wire-DED-ThermalAudio-Dataset/segmented_videos/Exp_23_14.avi.\n",
      "MoviePy - Writing audio in Exp_23_14TEMP_MPY_wvf_snd.mp3\n"
     ]
    },
    {
     "name": "stderr",
     "output_type": "stream",
     "text": [
      "                                                                                                                     "
     ]
    },
    {
     "name": "stdout",
     "output_type": "stream",
     "text": [
      "MoviePy - Done.\n",
      "Moviepy - Writing video /home/chenlequn/pan1/Dataset/Laser-Wire-DED-ThermalAudio-Dataset/segmented_videos/Exp_23_14.avi\n",
      "\n"
     ]
    },
    {
     "name": "stderr",
     "output_type": "stream",
     "text": [
      "                                                                                                                     \r"
     ]
    },
    {
     "name": "stdout",
     "output_type": "stream",
     "text": [
      "Moviepy - Done !\n",
      "Moviepy - video ready /home/chenlequn/pan1/Dataset/Laser-Wire-DED-ThermalAudio-Dataset/segmented_videos/Exp_23_14.avi\n",
      "MoviePy - Writing audio in /home/chenlequn/pan1/Dataset/Laser-Wire-DED-ThermalAudio-Dataset/segmented_audio/Exp_23_14.wav\n"
     ]
    },
    {
     "name": "stderr",
     "output_type": "stream",
     "text": [
      "                                                                                                                     \r"
     ]
    },
    {
     "name": "stdout",
     "output_type": "stream",
     "text": [
      "MoviePy - Done.\n",
      "Moviepy - Building video /home/chenlequn/pan1/Dataset/Laser-Wire-DED-ThermalAudio-Dataset/segmented_videos/Exp_23_15.avi.\n",
      "MoviePy - Writing audio in Exp_23_15TEMP_MPY_wvf_snd.mp3\n"
     ]
    },
    {
     "name": "stderr",
     "output_type": "stream",
     "text": [
      "                                                                                                                     \r"
     ]
    },
    {
     "name": "stdout",
     "output_type": "stream",
     "text": [
      "MoviePy - Done.\n",
      "Moviepy - Writing video /home/chenlequn/pan1/Dataset/Laser-Wire-DED-ThermalAudio-Dataset/segmented_videos/Exp_23_15.avi\n",
      "\n"
     ]
    },
    {
     "name": "stderr",
     "output_type": "stream",
     "text": [
      "                                                                                                                     \r"
     ]
    },
    {
     "name": "stdout",
     "output_type": "stream",
     "text": [
      "Moviepy - Done !\n",
      "Moviepy - video ready /home/chenlequn/pan1/Dataset/Laser-Wire-DED-ThermalAudio-Dataset/segmented_videos/Exp_23_15.avi\n",
      "MoviePy - Writing audio in /home/chenlequn/pan1/Dataset/Laser-Wire-DED-ThermalAudio-Dataset/segmented_audio/Exp_23_15.wav\n"
     ]
    },
    {
     "name": "stderr",
     "output_type": "stream",
     "text": [
      "                                                                                                                     \r"
     ]
    },
    {
     "name": "stdout",
     "output_type": "stream",
     "text": [
      "MoviePy - Done.\n",
      "Moviepy - Building video /home/chenlequn/pan1/Dataset/Laser-Wire-DED-ThermalAudio-Dataset/segmented_videos/Exp_23_16.avi.\n",
      "MoviePy - Writing audio in Exp_23_16TEMP_MPY_wvf_snd.mp3\n"
     ]
    },
    {
     "name": "stderr",
     "output_type": "stream",
     "text": [
      "                                                                                                                     \r"
     ]
    },
    {
     "name": "stdout",
     "output_type": "stream",
     "text": [
      "MoviePy - Done.\n",
      "Moviepy - Writing video /home/chenlequn/pan1/Dataset/Laser-Wire-DED-ThermalAudio-Dataset/segmented_videos/Exp_23_16.avi\n",
      "\n"
     ]
    },
    {
     "name": "stderr",
     "output_type": "stream",
     "text": [
      "                                                                                                                     \r"
     ]
    },
    {
     "name": "stdout",
     "output_type": "stream",
     "text": [
      "Moviepy - Done !\n",
      "Moviepy - video ready /home/chenlequn/pan1/Dataset/Laser-Wire-DED-ThermalAudio-Dataset/segmented_videos/Exp_23_16.avi\n",
      "MoviePy - Writing audio in /home/chenlequn/pan1/Dataset/Laser-Wire-DED-ThermalAudio-Dataset/segmented_audio/Exp_23_16.wav\n"
     ]
    },
    {
     "name": "stderr",
     "output_type": "stream",
     "text": [
      "                                                                                                                     \r"
     ]
    },
    {
     "name": "stdout",
     "output_type": "stream",
     "text": [
      "MoviePy - Done.\n",
      "Moviepy - Building video /home/chenlequn/pan1/Dataset/Laser-Wire-DED-ThermalAudio-Dataset/segmented_videos/Exp_23_17.avi.\n",
      "MoviePy - Writing audio in Exp_23_17TEMP_MPY_wvf_snd.mp3\n"
     ]
    },
    {
     "name": "stderr",
     "output_type": "stream",
     "text": [
      "                                                                                                                     \r"
     ]
    },
    {
     "name": "stdout",
     "output_type": "stream",
     "text": [
      "MoviePy - Done.\n",
      "Moviepy - Writing video /home/chenlequn/pan1/Dataset/Laser-Wire-DED-ThermalAudio-Dataset/segmented_videos/Exp_23_17.avi\n",
      "\n"
     ]
    },
    {
     "name": "stderr",
     "output_type": "stream",
     "text": [
      "                                                                                                                     \r"
     ]
    },
    {
     "name": "stdout",
     "output_type": "stream",
     "text": [
      "Moviepy - Done !\n",
      "Moviepy - video ready /home/chenlequn/pan1/Dataset/Laser-Wire-DED-ThermalAudio-Dataset/segmented_videos/Exp_23_17.avi\n",
      "MoviePy - Writing audio in /home/chenlequn/pan1/Dataset/Laser-Wire-DED-ThermalAudio-Dataset/segmented_audio/Exp_23_17.wav\n"
     ]
    },
    {
     "name": "stderr",
     "output_type": "stream",
     "text": [
      "                                                                                                                     \r"
     ]
    },
    {
     "name": "stdout",
     "output_type": "stream",
     "text": [
      "MoviePy - Done.\n",
      "Moviepy - Building video /home/chenlequn/pan1/Dataset/Laser-Wire-DED-ThermalAudio-Dataset/segmented_videos/Exp_23_18.avi.\n",
      "MoviePy - Writing audio in Exp_23_18TEMP_MPY_wvf_snd.mp3\n"
     ]
    },
    {
     "name": "stderr",
     "output_type": "stream",
     "text": [
      "                                                                                                                     \r"
     ]
    },
    {
     "name": "stdout",
     "output_type": "stream",
     "text": [
      "MoviePy - Done.\n",
      "Moviepy - Writing video /home/chenlequn/pan1/Dataset/Laser-Wire-DED-ThermalAudio-Dataset/segmented_videos/Exp_23_18.avi\n",
      "\n"
     ]
    },
    {
     "name": "stderr",
     "output_type": "stream",
     "text": [
      "                                                                                                                     \r"
     ]
    },
    {
     "name": "stdout",
     "output_type": "stream",
     "text": [
      "Moviepy - Done !\n",
      "Moviepy - video ready /home/chenlequn/pan1/Dataset/Laser-Wire-DED-ThermalAudio-Dataset/segmented_videos/Exp_23_18.avi\n",
      "MoviePy - Writing audio in /home/chenlequn/pan1/Dataset/Laser-Wire-DED-ThermalAudio-Dataset/segmented_audio/Exp_23_18.wav\n"
     ]
    },
    {
     "name": "stderr",
     "output_type": "stream",
     "text": [
      "                                                                                                                     \r"
     ]
    },
    {
     "name": "stdout",
     "output_type": "stream",
     "text": [
      "MoviePy - Done.\n",
      "Moviepy - Building video /home/chenlequn/pan1/Dataset/Laser-Wire-DED-ThermalAudio-Dataset/segmented_videos/Exp_23_19.avi.\n",
      "MoviePy - Writing audio in Exp_23_19TEMP_MPY_wvf_snd.mp3\n"
     ]
    },
    {
     "name": "stderr",
     "output_type": "stream",
     "text": [
      "                                                                                                                     \r"
     ]
    },
    {
     "name": "stdout",
     "output_type": "stream",
     "text": [
      "MoviePy - Done.\n",
      "Moviepy - Writing video /home/chenlequn/pan1/Dataset/Laser-Wire-DED-ThermalAudio-Dataset/segmented_videos/Exp_23_19.avi\n",
      "\n"
     ]
    },
    {
     "name": "stderr",
     "output_type": "stream",
     "text": [
      "                                                                                                                     \r"
     ]
    },
    {
     "name": "stdout",
     "output_type": "stream",
     "text": [
      "Moviepy - Done !\n",
      "Moviepy - video ready /home/chenlequn/pan1/Dataset/Laser-Wire-DED-ThermalAudio-Dataset/segmented_videos/Exp_23_19.avi\n",
      "MoviePy - Writing audio in /home/chenlequn/pan1/Dataset/Laser-Wire-DED-ThermalAudio-Dataset/segmented_audio/Exp_23_19.wav\n"
     ]
    },
    {
     "name": "stderr",
     "output_type": "stream",
     "text": [
      "                                                                                                                     \r"
     ]
    },
    {
     "name": "stdout",
     "output_type": "stream",
     "text": [
      "MoviePy - Done.\n",
      "Moviepy - Building video /home/chenlequn/pan1/Dataset/Laser-Wire-DED-ThermalAudio-Dataset/segmented_videos/Exp_23_20.avi.\n",
      "MoviePy - Writing audio in Exp_23_20TEMP_MPY_wvf_snd.mp3\n"
     ]
    },
    {
     "name": "stderr",
     "output_type": "stream",
     "text": [
      "                                                                                                                     "
     ]
    },
    {
     "name": "stdout",
     "output_type": "stream",
     "text": [
      "MoviePy - Done.\n",
      "Moviepy - Writing video /home/chenlequn/pan1/Dataset/Laser-Wire-DED-ThermalAudio-Dataset/segmented_videos/Exp_23_20.avi\n",
      "\n"
     ]
    },
    {
     "name": "stderr",
     "output_type": "stream",
     "text": [
      "                                                                                                                     \r"
     ]
    },
    {
     "name": "stdout",
     "output_type": "stream",
     "text": [
      "Moviepy - Done !\n",
      "Moviepy - video ready /home/chenlequn/pan1/Dataset/Laser-Wire-DED-ThermalAudio-Dataset/segmented_videos/Exp_23_20.avi\n",
      "MoviePy - Writing audio in /home/chenlequn/pan1/Dataset/Laser-Wire-DED-ThermalAudio-Dataset/segmented_audio/Exp_23_20.wav\n"
     ]
    },
    {
     "name": "stderr",
     "output_type": "stream",
     "text": [
      "                                                                                                                     \r"
     ]
    },
    {
     "name": "stdout",
     "output_type": "stream",
     "text": [
      "MoviePy - Done.\n",
      "Moviepy - Building video /home/chenlequn/pan1/Dataset/Laser-Wire-DED-ThermalAudio-Dataset/segmented_videos/Exp_23_21.avi.\n",
      "MoviePy - Writing audio in Exp_23_21TEMP_MPY_wvf_snd.mp3\n"
     ]
    },
    {
     "name": "stderr",
     "output_type": "stream",
     "text": [
      "                                                                                                                     \r"
     ]
    },
    {
     "name": "stdout",
     "output_type": "stream",
     "text": [
      "MoviePy - Done.\n",
      "Moviepy - Writing video /home/chenlequn/pan1/Dataset/Laser-Wire-DED-ThermalAudio-Dataset/segmented_videos/Exp_23_21.avi\n",
      "\n"
     ]
    },
    {
     "name": "stderr",
     "output_type": "stream",
     "text": [
      "                                                                                                                     \r"
     ]
    },
    {
     "name": "stdout",
     "output_type": "stream",
     "text": [
      "Moviepy - Done !\n",
      "Moviepy - video ready /home/chenlequn/pan1/Dataset/Laser-Wire-DED-ThermalAudio-Dataset/segmented_videos/Exp_23_21.avi\n",
      "MoviePy - Writing audio in /home/chenlequn/pan1/Dataset/Laser-Wire-DED-ThermalAudio-Dataset/segmented_audio/Exp_23_21.wav\n"
     ]
    },
    {
     "name": "stderr",
     "output_type": "stream",
     "text": [
      "                                                                                                                     \r"
     ]
    },
    {
     "name": "stdout",
     "output_type": "stream",
     "text": [
      "MoviePy - Done.\n",
      "Moviepy - Building video /home/chenlequn/pan1/Dataset/Laser-Wire-DED-ThermalAudio-Dataset/segmented_videos/Exp_23_22.avi.\n",
      "MoviePy - Writing audio in Exp_23_22TEMP_MPY_wvf_snd.mp3\n"
     ]
    },
    {
     "name": "stderr",
     "output_type": "stream",
     "text": [
      "                                                                                                                     "
     ]
    },
    {
     "name": "stdout",
     "output_type": "stream",
     "text": [
      "MoviePy - Done.\n",
      "Moviepy - Writing video /home/chenlequn/pan1/Dataset/Laser-Wire-DED-ThermalAudio-Dataset/segmented_videos/Exp_23_22.avi\n",
      "\n"
     ]
    },
    {
     "name": "stderr",
     "output_type": "stream",
     "text": [
      "                                                                                                                     \r"
     ]
    },
    {
     "name": "stdout",
     "output_type": "stream",
     "text": [
      "Moviepy - Done !\n",
      "Moviepy - video ready /home/chenlequn/pan1/Dataset/Laser-Wire-DED-ThermalAudio-Dataset/segmented_videos/Exp_23_22.avi\n",
      "MoviePy - Writing audio in /home/chenlequn/pan1/Dataset/Laser-Wire-DED-ThermalAudio-Dataset/segmented_audio/Exp_23_22.wav\n"
     ]
    },
    {
     "name": "stderr",
     "output_type": "stream",
     "text": [
      "                                                                                                                     \r"
     ]
    },
    {
     "name": "stdout",
     "output_type": "stream",
     "text": [
      "MoviePy - Done.\n",
      "Moviepy - Building video /home/chenlequn/pan1/Dataset/Laser-Wire-DED-ThermalAudio-Dataset/segmented_videos/Exp_23_23.avi.\n",
      "MoviePy - Writing audio in Exp_23_23TEMP_MPY_wvf_snd.mp3\n"
     ]
    },
    {
     "name": "stderr",
     "output_type": "stream",
     "text": [
      "                                                                                                                     "
     ]
    },
    {
     "name": "stdout",
     "output_type": "stream",
     "text": [
      "MoviePy - Done.\n",
      "Moviepy - Writing video /home/chenlequn/pan1/Dataset/Laser-Wire-DED-ThermalAudio-Dataset/segmented_videos/Exp_23_23.avi\n",
      "\n"
     ]
    },
    {
     "name": "stderr",
     "output_type": "stream",
     "text": [
      "                                                                                                                     \r"
     ]
    },
    {
     "name": "stdout",
     "output_type": "stream",
     "text": [
      "Moviepy - Done !\n",
      "Moviepy - video ready /home/chenlequn/pan1/Dataset/Laser-Wire-DED-ThermalAudio-Dataset/segmented_videos/Exp_23_23.avi\n",
      "MoviePy - Writing audio in /home/chenlequn/pan1/Dataset/Laser-Wire-DED-ThermalAudio-Dataset/segmented_audio/Exp_23_23.wav\n"
     ]
    },
    {
     "name": "stderr",
     "output_type": "stream",
     "text": [
      "                                                                                                                     \r"
     ]
    },
    {
     "name": "stdout",
     "output_type": "stream",
     "text": [
      "MoviePy - Done.\n",
      "Moviepy - Building video /home/chenlequn/pan1/Dataset/Laser-Wire-DED-ThermalAudio-Dataset/segmented_videos/Exp_23_24.avi.\n",
      "MoviePy - Writing audio in Exp_23_24TEMP_MPY_wvf_snd.mp3\n"
     ]
    },
    {
     "name": "stderr",
     "output_type": "stream",
     "text": [
      "                                                                                                                     \r"
     ]
    },
    {
     "name": "stdout",
     "output_type": "stream",
     "text": [
      "MoviePy - Done.\n",
      "Moviepy - Writing video /home/chenlequn/pan1/Dataset/Laser-Wire-DED-ThermalAudio-Dataset/segmented_videos/Exp_23_24.avi\n",
      "\n"
     ]
    },
    {
     "name": "stderr",
     "output_type": "stream",
     "text": [
      "                                                                                                                     \r"
     ]
    },
    {
     "name": "stdout",
     "output_type": "stream",
     "text": [
      "Moviepy - Done !\n",
      "Moviepy - video ready /home/chenlequn/pan1/Dataset/Laser-Wire-DED-ThermalAudio-Dataset/segmented_videos/Exp_23_24.avi\n",
      "MoviePy - Writing audio in /home/chenlequn/pan1/Dataset/Laser-Wire-DED-ThermalAudio-Dataset/segmented_audio/Exp_23_24.wav\n"
     ]
    },
    {
     "name": "stderr",
     "output_type": "stream",
     "text": [
      "                                                                                                                     \r"
     ]
    },
    {
     "name": "stdout",
     "output_type": "stream",
     "text": [
      "MoviePy - Done.\n",
      "Moviepy - Building video /home/chenlequn/pan1/Dataset/Laser-Wire-DED-ThermalAudio-Dataset/segmented_videos/Exp_23_25.avi.\n",
      "MoviePy - Writing audio in Exp_23_25TEMP_MPY_wvf_snd.mp3\n"
     ]
    },
    {
     "name": "stderr",
     "output_type": "stream",
     "text": [
      "                                                                                                                     \r"
     ]
    },
    {
     "name": "stdout",
     "output_type": "stream",
     "text": [
      "MoviePy - Done.\n",
      "Moviepy - Writing video /home/chenlequn/pan1/Dataset/Laser-Wire-DED-ThermalAudio-Dataset/segmented_videos/Exp_23_25.avi\n",
      "\n"
     ]
    },
    {
     "name": "stderr",
     "output_type": "stream",
     "text": [
      "                                                                                                                     \r"
     ]
    },
    {
     "name": "stdout",
     "output_type": "stream",
     "text": [
      "Moviepy - Done !\n",
      "Moviepy - video ready /home/chenlequn/pan1/Dataset/Laser-Wire-DED-ThermalAudio-Dataset/segmented_videos/Exp_23_25.avi\n",
      "MoviePy - Writing audio in /home/chenlequn/pan1/Dataset/Laser-Wire-DED-ThermalAudio-Dataset/segmented_audio/Exp_23_25.wav\n"
     ]
    },
    {
     "name": "stderr",
     "output_type": "stream",
     "text": [
      "                                                                                                                     \r"
     ]
    },
    {
     "name": "stdout",
     "output_type": "stream",
     "text": [
      "MoviePy - Done.\n",
      "Moviepy - Building video /home/chenlequn/pan1/Dataset/Laser-Wire-DED-ThermalAudio-Dataset/segmented_videos/Exp_23_26.avi.\n",
      "MoviePy - Writing audio in Exp_23_26TEMP_MPY_wvf_snd.mp3\n"
     ]
    },
    {
     "name": "stderr",
     "output_type": "stream",
     "text": [
      "                                                                                                                     \r"
     ]
    },
    {
     "name": "stdout",
     "output_type": "stream",
     "text": [
      "MoviePy - Done.\n",
      "Moviepy - Writing video /home/chenlequn/pan1/Dataset/Laser-Wire-DED-ThermalAudio-Dataset/segmented_videos/Exp_23_26.avi\n",
      "\n"
     ]
    },
    {
     "name": "stderr",
     "output_type": "stream",
     "text": [
      "                                                                                                                     \r"
     ]
    },
    {
     "name": "stdout",
     "output_type": "stream",
     "text": [
      "Moviepy - Done !\n",
      "Moviepy - video ready /home/chenlequn/pan1/Dataset/Laser-Wire-DED-ThermalAudio-Dataset/segmented_videos/Exp_23_26.avi\n",
      "MoviePy - Writing audio in /home/chenlequn/pan1/Dataset/Laser-Wire-DED-ThermalAudio-Dataset/segmented_audio/Exp_23_26.wav\n"
     ]
    },
    {
     "name": "stderr",
     "output_type": "stream",
     "text": [
      "                                                                                                                     \r"
     ]
    },
    {
     "name": "stdout",
     "output_type": "stream",
     "text": [
      "MoviePy - Done.\n",
      "Moviepy - Building video /home/chenlequn/pan1/Dataset/Laser-Wire-DED-ThermalAudio-Dataset/segmented_videos/Exp_23_27.avi.\n",
      "MoviePy - Writing audio in Exp_23_27TEMP_MPY_wvf_snd.mp3\n"
     ]
    },
    {
     "name": "stderr",
     "output_type": "stream",
     "text": [
      "                                                                                                                     \r"
     ]
    },
    {
     "name": "stdout",
     "output_type": "stream",
     "text": [
      "MoviePy - Done.\n",
      "Moviepy - Writing video /home/chenlequn/pan1/Dataset/Laser-Wire-DED-ThermalAudio-Dataset/segmented_videos/Exp_23_27.avi\n",
      "\n"
     ]
    },
    {
     "name": "stderr",
     "output_type": "stream",
     "text": [
      "                                                                                                                     \r"
     ]
    },
    {
     "name": "stdout",
     "output_type": "stream",
     "text": [
      "Moviepy - Done !\n",
      "Moviepy - video ready /home/chenlequn/pan1/Dataset/Laser-Wire-DED-ThermalAudio-Dataset/segmented_videos/Exp_23_27.avi\n",
      "MoviePy - Writing audio in /home/chenlequn/pan1/Dataset/Laser-Wire-DED-ThermalAudio-Dataset/segmented_audio/Exp_23_27.wav\n"
     ]
    },
    {
     "name": "stderr",
     "output_type": "stream",
     "text": [
      "                                                                                                                     \r"
     ]
    },
    {
     "name": "stdout",
     "output_type": "stream",
     "text": [
      "MoviePy - Done.\n",
      "Moviepy - Building video /home/chenlequn/pan1/Dataset/Laser-Wire-DED-ThermalAudio-Dataset/segmented_videos/Exp_23_28.avi.\n",
      "MoviePy - Writing audio in Exp_23_28TEMP_MPY_wvf_snd.mp3\n"
     ]
    },
    {
     "name": "stderr",
     "output_type": "stream",
     "text": [
      "                                                                                                                     \r"
     ]
    },
    {
     "name": "stdout",
     "output_type": "stream",
     "text": [
      "MoviePy - Done.\n",
      "Moviepy - Writing video /home/chenlequn/pan1/Dataset/Laser-Wire-DED-ThermalAudio-Dataset/segmented_videos/Exp_23_28.avi\n",
      "\n"
     ]
    },
    {
     "name": "stderr",
     "output_type": "stream",
     "text": [
      "                                                                                                                     \r"
     ]
    },
    {
     "name": "stdout",
     "output_type": "stream",
     "text": [
      "Moviepy - Done !\n",
      "Moviepy - video ready /home/chenlequn/pan1/Dataset/Laser-Wire-DED-ThermalAudio-Dataset/segmented_videos/Exp_23_28.avi\n",
      "MoviePy - Writing audio in /home/chenlequn/pan1/Dataset/Laser-Wire-DED-ThermalAudio-Dataset/segmented_audio/Exp_23_28.wav\n"
     ]
    },
    {
     "name": "stderr",
     "output_type": "stream",
     "text": [
      "                                                                                                                     \r"
     ]
    },
    {
     "name": "stdout",
     "output_type": "stream",
     "text": [
      "MoviePy - Done.\n",
      "Moviepy - Building video /home/chenlequn/pan1/Dataset/Laser-Wire-DED-ThermalAudio-Dataset/segmented_videos/Exp_23_29.avi.\n",
      "MoviePy - Writing audio in Exp_23_29TEMP_MPY_wvf_snd.mp3\n"
     ]
    },
    {
     "name": "stderr",
     "output_type": "stream",
     "text": [
      "                                                                                                                     "
     ]
    },
    {
     "name": "stdout",
     "output_type": "stream",
     "text": [
      "MoviePy - Done.\n",
      "Moviepy - Writing video /home/chenlequn/pan1/Dataset/Laser-Wire-DED-ThermalAudio-Dataset/segmented_videos/Exp_23_29.avi\n",
      "\n"
     ]
    },
    {
     "name": "stderr",
     "output_type": "stream",
     "text": [
      "                                                                                                                     \r"
     ]
    },
    {
     "name": "stdout",
     "output_type": "stream",
     "text": [
      "Moviepy - Done !\n",
      "Moviepy - video ready /home/chenlequn/pan1/Dataset/Laser-Wire-DED-ThermalAudio-Dataset/segmented_videos/Exp_23_29.avi\n",
      "MoviePy - Writing audio in /home/chenlequn/pan1/Dataset/Laser-Wire-DED-ThermalAudio-Dataset/segmented_audio/Exp_23_29.wav\n"
     ]
    },
    {
     "name": "stderr",
     "output_type": "stream",
     "text": [
      "                                                                                                                     \r"
     ]
    },
    {
     "name": "stdout",
     "output_type": "stream",
     "text": [
      "MoviePy - Done.\n",
      "Moviepy - Building video /home/chenlequn/pan1/Dataset/Laser-Wire-DED-ThermalAudio-Dataset/segmented_videos/Exp_23_30.avi.\n",
      "MoviePy - Writing audio in Exp_23_30TEMP_MPY_wvf_snd.mp3\n"
     ]
    },
    {
     "name": "stderr",
     "output_type": "stream",
     "text": [
      "                                                                                                                     \r"
     ]
    },
    {
     "name": "stdout",
     "output_type": "stream",
     "text": [
      "MoviePy - Done.\n",
      "Moviepy - Writing video /home/chenlequn/pan1/Dataset/Laser-Wire-DED-ThermalAudio-Dataset/segmented_videos/Exp_23_30.avi\n",
      "\n"
     ]
    },
    {
     "name": "stderr",
     "output_type": "stream",
     "text": [
      "                                                                                                                     \r"
     ]
    },
    {
     "name": "stdout",
     "output_type": "stream",
     "text": [
      "Moviepy - Done !\n",
      "Moviepy - video ready /home/chenlequn/pan1/Dataset/Laser-Wire-DED-ThermalAudio-Dataset/segmented_videos/Exp_23_30.avi\n",
      "MoviePy - Writing audio in /home/chenlequn/pan1/Dataset/Laser-Wire-DED-ThermalAudio-Dataset/segmented_audio/Exp_23_30.wav\n"
     ]
    },
    {
     "name": "stderr",
     "output_type": "stream",
     "text": [
      "                                                                                                                     \r"
     ]
    },
    {
     "name": "stdout",
     "output_type": "stream",
     "text": [
      "MoviePy - Done.\n",
      "Moviepy - Building video /home/chenlequn/pan1/Dataset/Laser-Wire-DED-ThermalAudio-Dataset/segmented_videos/Exp_23_31.avi.\n",
      "MoviePy - Writing audio in Exp_23_31TEMP_MPY_wvf_snd.mp3\n"
     ]
    },
    {
     "name": "stderr",
     "output_type": "stream",
     "text": [
      "                                                                                                                     "
     ]
    },
    {
     "name": "stdout",
     "output_type": "stream",
     "text": [
      "MoviePy - Done.\n",
      "Moviepy - Writing video /home/chenlequn/pan1/Dataset/Laser-Wire-DED-ThermalAudio-Dataset/segmented_videos/Exp_23_31.avi\n",
      "\n"
     ]
    },
    {
     "name": "stderr",
     "output_type": "stream",
     "text": [
      "                                                                                                                     \r"
     ]
    },
    {
     "name": "stdout",
     "output_type": "stream",
     "text": [
      "Moviepy - Done !\n",
      "Moviepy - video ready /home/chenlequn/pan1/Dataset/Laser-Wire-DED-ThermalAudio-Dataset/segmented_videos/Exp_23_31.avi\n",
      "MoviePy - Writing audio in /home/chenlequn/pan1/Dataset/Laser-Wire-DED-ThermalAudio-Dataset/segmented_audio/Exp_23_31.wav\n"
     ]
    },
    {
     "name": "stderr",
     "output_type": "stream",
     "text": [
      "                                                                                                                     \r"
     ]
    },
    {
     "name": "stdout",
     "output_type": "stream",
     "text": [
      "MoviePy - Done.\n",
      "Moviepy - Building video /home/chenlequn/pan1/Dataset/Laser-Wire-DED-ThermalAudio-Dataset/segmented_videos/Exp_23_32.avi.\n",
      "MoviePy - Writing audio in Exp_23_32TEMP_MPY_wvf_snd.mp3\n"
     ]
    },
    {
     "name": "stderr",
     "output_type": "stream",
     "text": [
      "                                                                                                                     \r"
     ]
    },
    {
     "name": "stdout",
     "output_type": "stream",
     "text": [
      "MoviePy - Done.\n",
      "Moviepy - Writing video /home/chenlequn/pan1/Dataset/Laser-Wire-DED-ThermalAudio-Dataset/segmented_videos/Exp_23_32.avi\n",
      "\n"
     ]
    },
    {
     "name": "stderr",
     "output_type": "stream",
     "text": [
      "                                                                                                                     \r"
     ]
    },
    {
     "name": "stdout",
     "output_type": "stream",
     "text": [
      "Moviepy - Done !\n",
      "Moviepy - video ready /home/chenlequn/pan1/Dataset/Laser-Wire-DED-ThermalAudio-Dataset/segmented_videos/Exp_23_32.avi\n",
      "MoviePy - Writing audio in /home/chenlequn/pan1/Dataset/Laser-Wire-DED-ThermalAudio-Dataset/segmented_audio/Exp_23_32.wav\n"
     ]
    },
    {
     "name": "stderr",
     "output_type": "stream",
     "text": [
      "                                                                                                                     \r"
     ]
    },
    {
     "name": "stdout",
     "output_type": "stream",
     "text": [
      "MoviePy - Done.\n",
      "Moviepy - Building video /home/chenlequn/pan1/Dataset/Laser-Wire-DED-ThermalAudio-Dataset/segmented_videos/Exp_23_33.avi.\n",
      "MoviePy - Writing audio in Exp_23_33TEMP_MPY_wvf_snd.mp3\n"
     ]
    },
    {
     "name": "stderr",
     "output_type": "stream",
     "text": [
      "                                                                                                                     \r"
     ]
    },
    {
     "name": "stdout",
     "output_type": "stream",
     "text": [
      "MoviePy - Done.\n",
      "Moviepy - Writing video /home/chenlequn/pan1/Dataset/Laser-Wire-DED-ThermalAudio-Dataset/segmented_videos/Exp_23_33.avi\n",
      "\n"
     ]
    },
    {
     "name": "stderr",
     "output_type": "stream",
     "text": [
      "                                                                                                                     \r"
     ]
    },
    {
     "name": "stdout",
     "output_type": "stream",
     "text": [
      "Moviepy - Done !\n",
      "Moviepy - video ready /home/chenlequn/pan1/Dataset/Laser-Wire-DED-ThermalAudio-Dataset/segmented_videos/Exp_23_33.avi\n",
      "MoviePy - Writing audio in /home/chenlequn/pan1/Dataset/Laser-Wire-DED-ThermalAudio-Dataset/segmented_audio/Exp_23_33.wav\n"
     ]
    },
    {
     "name": "stderr",
     "output_type": "stream",
     "text": [
      "                                                                                                                     \r"
     ]
    },
    {
     "name": "stdout",
     "output_type": "stream",
     "text": [
      "MoviePy - Done.\n",
      "Moviepy - Building video /home/chenlequn/pan1/Dataset/Laser-Wire-DED-ThermalAudio-Dataset/segmented_videos/Exp_17_2.avi.\n",
      "MoviePy - Writing audio in Exp_17_2TEMP_MPY_wvf_snd.mp3\n"
     ]
    },
    {
     "name": "stderr",
     "output_type": "stream",
     "text": [
      "                                                                                                                     \r"
     ]
    },
    {
     "name": "stdout",
     "output_type": "stream",
     "text": [
      "MoviePy - Done.\n",
      "Moviepy - Writing video /home/chenlequn/pan1/Dataset/Laser-Wire-DED-ThermalAudio-Dataset/segmented_videos/Exp_17_2.avi\n",
      "\n"
     ]
    },
    {
     "name": "stderr",
     "output_type": "stream",
     "text": [
      "                                                                                                                     \r"
     ]
    },
    {
     "name": "stdout",
     "output_type": "stream",
     "text": [
      "Moviepy - Done !\n",
      "Moviepy - video ready /home/chenlequn/pan1/Dataset/Laser-Wire-DED-ThermalAudio-Dataset/segmented_videos/Exp_17_2.avi\n",
      "MoviePy - Writing audio in /home/chenlequn/pan1/Dataset/Laser-Wire-DED-ThermalAudio-Dataset/segmented_audio/Exp_17_2.wav\n"
     ]
    },
    {
     "name": "stderr",
     "output_type": "stream",
     "text": [
      "                                                                                                                     \r"
     ]
    },
    {
     "name": "stdout",
     "output_type": "stream",
     "text": [
      "MoviePy - Done.\n",
      "Moviepy - Building video /home/chenlequn/pan1/Dataset/Laser-Wire-DED-ThermalAudio-Dataset/segmented_videos/Exp_17_3.avi.\n",
      "MoviePy - Writing audio in Exp_17_3TEMP_MPY_wvf_snd.mp3\n"
     ]
    },
    {
     "name": "stderr",
     "output_type": "stream",
     "text": [
      "                                                                                                                     \r"
     ]
    },
    {
     "name": "stdout",
     "output_type": "stream",
     "text": [
      "MoviePy - Done.\n",
      "Moviepy - Writing video /home/chenlequn/pan1/Dataset/Laser-Wire-DED-ThermalAudio-Dataset/segmented_videos/Exp_17_3.avi\n",
      "\n"
     ]
    },
    {
     "name": "stderr",
     "output_type": "stream",
     "text": [
      "                                                                                                                     \r"
     ]
    },
    {
     "name": "stdout",
     "output_type": "stream",
     "text": [
      "Moviepy - Done !\n",
      "Moviepy - video ready /home/chenlequn/pan1/Dataset/Laser-Wire-DED-ThermalAudio-Dataset/segmented_videos/Exp_17_3.avi\n",
      "MoviePy - Writing audio in /home/chenlequn/pan1/Dataset/Laser-Wire-DED-ThermalAudio-Dataset/segmented_audio/Exp_17_3.wav\n"
     ]
    },
    {
     "name": "stderr",
     "output_type": "stream",
     "text": [
      "                                                                                                                     \r"
     ]
    },
    {
     "name": "stdout",
     "output_type": "stream",
     "text": [
      "MoviePy - Done.\n",
      "Moviepy - Building video /home/chenlequn/pan1/Dataset/Laser-Wire-DED-ThermalAudio-Dataset/segmented_videos/Exp_17_4.avi.\n",
      "MoviePy - Writing audio in Exp_17_4TEMP_MPY_wvf_snd.mp3\n"
     ]
    },
    {
     "name": "stderr",
     "output_type": "stream",
     "text": [
      "                                                                                                                     \r"
     ]
    },
    {
     "name": "stdout",
     "output_type": "stream",
     "text": [
      "MoviePy - Done.\n",
      "Moviepy - Writing video /home/chenlequn/pan1/Dataset/Laser-Wire-DED-ThermalAudio-Dataset/segmented_videos/Exp_17_4.avi\n",
      "\n"
     ]
    },
    {
     "name": "stderr",
     "output_type": "stream",
     "text": [
      "                                                                                                                     \r"
     ]
    },
    {
     "name": "stdout",
     "output_type": "stream",
     "text": [
      "Moviepy - Done !\n",
      "Moviepy - video ready /home/chenlequn/pan1/Dataset/Laser-Wire-DED-ThermalAudio-Dataset/segmented_videos/Exp_17_4.avi\n",
      "MoviePy - Writing audio in /home/chenlequn/pan1/Dataset/Laser-Wire-DED-ThermalAudio-Dataset/segmented_audio/Exp_17_4.wav\n"
     ]
    },
    {
     "name": "stderr",
     "output_type": "stream",
     "text": [
      "                                                                                                                     "
     ]
    },
    {
     "name": "stdout",
     "output_type": "stream",
     "text": [
      "MoviePy - Done.\n"
     ]
    },
    {
     "name": "stderr",
     "output_type": "stream",
     "text": [
      "\r"
     ]
    },
    {
     "name": "stdout",
     "output_type": "stream",
     "text": [
      "Moviepy - Building video /home/chenlequn/pan1/Dataset/Laser-Wire-DED-ThermalAudio-Dataset/segmented_videos/Exp_17_5.avi.\n",
      "MoviePy - Writing audio in Exp_17_5TEMP_MPY_wvf_snd.mp3\n"
     ]
    },
    {
     "name": "stderr",
     "output_type": "stream",
     "text": [
      "                                                                                                                     \r"
     ]
    },
    {
     "name": "stdout",
     "output_type": "stream",
     "text": [
      "MoviePy - Done.\n",
      "Moviepy - Writing video /home/chenlequn/pan1/Dataset/Laser-Wire-DED-ThermalAudio-Dataset/segmented_videos/Exp_17_5.avi\n",
      "\n"
     ]
    },
    {
     "name": "stderr",
     "output_type": "stream",
     "text": [
      "                                                                                                                     \r"
     ]
    },
    {
     "name": "stdout",
     "output_type": "stream",
     "text": [
      "Moviepy - Done !\n",
      "Moviepy - video ready /home/chenlequn/pan1/Dataset/Laser-Wire-DED-ThermalAudio-Dataset/segmented_videos/Exp_17_5.avi\n",
      "MoviePy - Writing audio in /home/chenlequn/pan1/Dataset/Laser-Wire-DED-ThermalAudio-Dataset/segmented_audio/Exp_17_5.wav\n"
     ]
    },
    {
     "name": "stderr",
     "output_type": "stream",
     "text": [
      "                                                                                                                     "
     ]
    },
    {
     "name": "stdout",
     "output_type": "stream",
     "text": [
      "MoviePy - Done.\n"
     ]
    },
    {
     "name": "stderr",
     "output_type": "stream",
     "text": [
      "\r"
     ]
    },
    {
     "name": "stdout",
     "output_type": "stream",
     "text": [
      "Moviepy - Building video /home/chenlequn/pan1/Dataset/Laser-Wire-DED-ThermalAudio-Dataset/segmented_videos/Exp_17_6.avi.\n",
      "MoviePy - Writing audio in Exp_17_6TEMP_MPY_wvf_snd.mp3\n"
     ]
    },
    {
     "name": "stderr",
     "output_type": "stream",
     "text": [
      "                                                                                                                     \r"
     ]
    },
    {
     "name": "stdout",
     "output_type": "stream",
     "text": [
      "MoviePy - Done.\n",
      "Moviepy - Writing video /home/chenlequn/pan1/Dataset/Laser-Wire-DED-ThermalAudio-Dataset/segmented_videos/Exp_17_6.avi\n",
      "\n"
     ]
    },
    {
     "name": "stderr",
     "output_type": "stream",
     "text": [
      "                                                                                                                     \r"
     ]
    },
    {
     "name": "stdout",
     "output_type": "stream",
     "text": [
      "Moviepy - Done !\n",
      "Moviepy - video ready /home/chenlequn/pan1/Dataset/Laser-Wire-DED-ThermalAudio-Dataset/segmented_videos/Exp_17_6.avi\n",
      "MoviePy - Writing audio in /home/chenlequn/pan1/Dataset/Laser-Wire-DED-ThermalAudio-Dataset/segmented_audio/Exp_17_6.wav\n"
     ]
    },
    {
     "name": "stderr",
     "output_type": "stream",
     "text": [
      "                                                                                                                     "
     ]
    },
    {
     "name": "stdout",
     "output_type": "stream",
     "text": [
      "MoviePy - Done.\n"
     ]
    },
    {
     "name": "stderr",
     "output_type": "stream",
     "text": [
      "\r"
     ]
    },
    {
     "name": "stdout",
     "output_type": "stream",
     "text": [
      "Moviepy - Building video /home/chenlequn/pan1/Dataset/Laser-Wire-DED-ThermalAudio-Dataset/segmented_videos/Exp_17_7.avi.\n",
      "MoviePy - Writing audio in Exp_17_7TEMP_MPY_wvf_snd.mp3\n"
     ]
    },
    {
     "name": "stderr",
     "output_type": "stream",
     "text": [
      "                                                                                                                     \r"
     ]
    },
    {
     "name": "stdout",
     "output_type": "stream",
     "text": [
      "MoviePy - Done.\n",
      "Moviepy - Writing video /home/chenlequn/pan1/Dataset/Laser-Wire-DED-ThermalAudio-Dataset/segmented_videos/Exp_17_7.avi\n",
      "\n"
     ]
    },
    {
     "name": "stderr",
     "output_type": "stream",
     "text": [
      "                                                                                                                     \r"
     ]
    },
    {
     "name": "stdout",
     "output_type": "stream",
     "text": [
      "Moviepy - Done !\n",
      "Moviepy - video ready /home/chenlequn/pan1/Dataset/Laser-Wire-DED-ThermalAudio-Dataset/segmented_videos/Exp_17_7.avi\n",
      "MoviePy - Writing audio in /home/chenlequn/pan1/Dataset/Laser-Wire-DED-ThermalAudio-Dataset/segmented_audio/Exp_17_7.wav\n"
     ]
    },
    {
     "name": "stderr",
     "output_type": "stream",
     "text": [
      "                                                                                                                     "
     ]
    },
    {
     "name": "stdout",
     "output_type": "stream",
     "text": [
      "MoviePy - Done.\n"
     ]
    },
    {
     "name": "stderr",
     "output_type": "stream",
     "text": [
      "\r"
     ]
    },
    {
     "name": "stdout",
     "output_type": "stream",
     "text": [
      "Moviepy - Building video /home/chenlequn/pan1/Dataset/Laser-Wire-DED-ThermalAudio-Dataset/segmented_videos/Exp_17_9.avi.\n",
      "MoviePy - Writing audio in Exp_17_9TEMP_MPY_wvf_snd.mp3\n"
     ]
    },
    {
     "name": "stderr",
     "output_type": "stream",
     "text": [
      "                                                                                                                     \r"
     ]
    },
    {
     "name": "stdout",
     "output_type": "stream",
     "text": [
      "MoviePy - Done.\n",
      "Moviepy - Writing video /home/chenlequn/pan1/Dataset/Laser-Wire-DED-ThermalAudio-Dataset/segmented_videos/Exp_17_9.avi\n",
      "\n"
     ]
    },
    {
     "name": "stderr",
     "output_type": "stream",
     "text": [
      "                                                                                                                     \r"
     ]
    },
    {
     "name": "stdout",
     "output_type": "stream",
     "text": [
      "Moviepy - Done !\n",
      "Moviepy - video ready /home/chenlequn/pan1/Dataset/Laser-Wire-DED-ThermalAudio-Dataset/segmented_videos/Exp_17_9.avi\n",
      "MoviePy - Writing audio in /home/chenlequn/pan1/Dataset/Laser-Wire-DED-ThermalAudio-Dataset/segmented_audio/Exp_17_9.wav\n"
     ]
    },
    {
     "name": "stderr",
     "output_type": "stream",
     "text": [
      "                                                                                                                     "
     ]
    },
    {
     "name": "stdout",
     "output_type": "stream",
     "text": [
      "MoviePy - Done.\n"
     ]
    },
    {
     "name": "stderr",
     "output_type": "stream",
     "text": [
      "\r"
     ]
    },
    {
     "name": "stdout",
     "output_type": "stream",
     "text": [
      "Moviepy - Building video /home/chenlequn/pan1/Dataset/Laser-Wire-DED-ThermalAudio-Dataset/segmented_videos/Exp_17_10.avi.\n",
      "MoviePy - Writing audio in Exp_17_10TEMP_MPY_wvf_snd.mp3\n"
     ]
    },
    {
     "name": "stderr",
     "output_type": "stream",
     "text": [
      "                                                                                                                     \r"
     ]
    },
    {
     "name": "stdout",
     "output_type": "stream",
     "text": [
      "MoviePy - Done.\n",
      "Moviepy - Writing video /home/chenlequn/pan1/Dataset/Laser-Wire-DED-ThermalAudio-Dataset/segmented_videos/Exp_17_10.avi\n",
      "\n"
     ]
    },
    {
     "name": "stderr",
     "output_type": "stream",
     "text": [
      "                                                                                                                     \r"
     ]
    },
    {
     "name": "stdout",
     "output_type": "stream",
     "text": [
      "Moviepy - Done !\n",
      "Moviepy - video ready /home/chenlequn/pan1/Dataset/Laser-Wire-DED-ThermalAudio-Dataset/segmented_videos/Exp_17_10.avi\n",
      "MoviePy - Writing audio in /home/chenlequn/pan1/Dataset/Laser-Wire-DED-ThermalAudio-Dataset/segmented_audio/Exp_17_10.wav\n"
     ]
    },
    {
     "name": "stderr",
     "output_type": "stream",
     "text": [
      "                                                                                                                     "
     ]
    },
    {
     "name": "stdout",
     "output_type": "stream",
     "text": [
      "MoviePy - Done.\n"
     ]
    },
    {
     "name": "stderr",
     "output_type": "stream",
     "text": [
      "\r"
     ]
    },
    {
     "name": "stdout",
     "output_type": "stream",
     "text": [
      "Moviepy - Building video /home/chenlequn/pan1/Dataset/Laser-Wire-DED-ThermalAudio-Dataset/segmented_videos/Exp_17_12.avi.\n",
      "MoviePy - Writing audio in Exp_17_12TEMP_MPY_wvf_snd.mp3\n"
     ]
    },
    {
     "name": "stderr",
     "output_type": "stream",
     "text": [
      "                                                                                                                     \r"
     ]
    },
    {
     "name": "stdout",
     "output_type": "stream",
     "text": [
      "MoviePy - Done.\n",
      "Moviepy - Writing video /home/chenlequn/pan1/Dataset/Laser-Wire-DED-ThermalAudio-Dataset/segmented_videos/Exp_17_12.avi\n",
      "\n"
     ]
    },
    {
     "name": "stderr",
     "output_type": "stream",
     "text": [
      "                                                                                                                     \r"
     ]
    },
    {
     "name": "stdout",
     "output_type": "stream",
     "text": [
      "Moviepy - Done !\n",
      "Moviepy - video ready /home/chenlequn/pan1/Dataset/Laser-Wire-DED-ThermalAudio-Dataset/segmented_videos/Exp_17_12.avi\n",
      "MoviePy - Writing audio in /home/chenlequn/pan1/Dataset/Laser-Wire-DED-ThermalAudio-Dataset/segmented_audio/Exp_17_12.wav\n"
     ]
    },
    {
     "name": "stderr",
     "output_type": "stream",
     "text": [
      "                                                                                                                     "
     ]
    },
    {
     "name": "stdout",
     "output_type": "stream",
     "text": [
      "MoviePy - Done.\n"
     ]
    },
    {
     "name": "stderr",
     "output_type": "stream",
     "text": [
      "\r"
     ]
    },
    {
     "name": "stdout",
     "output_type": "stream",
     "text": [
      "Moviepy - Building video /home/chenlequn/pan1/Dataset/Laser-Wire-DED-ThermalAudio-Dataset/segmented_videos/Exp_17_13.avi.\n",
      "MoviePy - Writing audio in Exp_17_13TEMP_MPY_wvf_snd.mp3\n"
     ]
    },
    {
     "name": "stderr",
     "output_type": "stream",
     "text": [
      "                                                                                                                     \r"
     ]
    },
    {
     "name": "stdout",
     "output_type": "stream",
     "text": [
      "MoviePy - Done.\n",
      "Moviepy - Writing video /home/chenlequn/pan1/Dataset/Laser-Wire-DED-ThermalAudio-Dataset/segmented_videos/Exp_17_13.avi\n",
      "\n"
     ]
    },
    {
     "name": "stderr",
     "output_type": "stream",
     "text": [
      "                                                                                                                     \r"
     ]
    },
    {
     "name": "stdout",
     "output_type": "stream",
     "text": [
      "Moviepy - Done !\n",
      "Moviepy - video ready /home/chenlequn/pan1/Dataset/Laser-Wire-DED-ThermalAudio-Dataset/segmented_videos/Exp_17_13.avi\n",
      "MoviePy - Writing audio in /home/chenlequn/pan1/Dataset/Laser-Wire-DED-ThermalAudio-Dataset/segmented_audio/Exp_17_13.wav\n"
     ]
    },
    {
     "name": "stderr",
     "output_type": "stream",
     "text": [
      "                                                                                                                     "
     ]
    },
    {
     "name": "stdout",
     "output_type": "stream",
     "text": [
      "MoviePy - Done.\n"
     ]
    },
    {
     "name": "stderr",
     "output_type": "stream",
     "text": [
      "\r"
     ]
    },
    {
     "name": "stdout",
     "output_type": "stream",
     "text": [
      "Moviepy - Building video /home/chenlequn/pan1/Dataset/Laser-Wire-DED-ThermalAudio-Dataset/segmented_videos/Exp_17_14.avi.\n",
      "MoviePy - Writing audio in Exp_17_14TEMP_MPY_wvf_snd.mp3\n"
     ]
    },
    {
     "name": "stderr",
     "output_type": "stream",
     "text": [
      "                                                                                                                     \r"
     ]
    },
    {
     "name": "stdout",
     "output_type": "stream",
     "text": [
      "MoviePy - Done.\n",
      "Moviepy - Writing video /home/chenlequn/pan1/Dataset/Laser-Wire-DED-ThermalAudio-Dataset/segmented_videos/Exp_17_14.avi\n",
      "\n"
     ]
    },
    {
     "name": "stderr",
     "output_type": "stream",
     "text": [
      "                                                                                                                     \r"
     ]
    },
    {
     "name": "stdout",
     "output_type": "stream",
     "text": [
      "Moviepy - Done !\n",
      "Moviepy - video ready /home/chenlequn/pan1/Dataset/Laser-Wire-DED-ThermalAudio-Dataset/segmented_videos/Exp_17_14.avi\n",
      "MoviePy - Writing audio in /home/chenlequn/pan1/Dataset/Laser-Wire-DED-ThermalAudio-Dataset/segmented_audio/Exp_17_14.wav\n"
     ]
    },
    {
     "name": "stderr",
     "output_type": "stream",
     "text": [
      "                                                                                                                     "
     ]
    },
    {
     "name": "stdout",
     "output_type": "stream",
     "text": [
      "MoviePy - Done.\n"
     ]
    },
    {
     "name": "stderr",
     "output_type": "stream",
     "text": [
      "\r"
     ]
    },
    {
     "name": "stdout",
     "output_type": "stream",
     "text": [
      "Moviepy - Building video /home/chenlequn/pan1/Dataset/Laser-Wire-DED-ThermalAudio-Dataset/segmented_videos/Exp_17_15.avi.\n",
      "MoviePy - Writing audio in Exp_17_15TEMP_MPY_wvf_snd.mp3\n"
     ]
    },
    {
     "name": "stderr",
     "output_type": "stream",
     "text": [
      "                                                                                                                     \r"
     ]
    },
    {
     "name": "stdout",
     "output_type": "stream",
     "text": [
      "MoviePy - Done.\n",
      "Moviepy - Writing video /home/chenlequn/pan1/Dataset/Laser-Wire-DED-ThermalAudio-Dataset/segmented_videos/Exp_17_15.avi\n",
      "\n"
     ]
    },
    {
     "name": "stderr",
     "output_type": "stream",
     "text": [
      "                                                                                                                     \r"
     ]
    },
    {
     "name": "stdout",
     "output_type": "stream",
     "text": [
      "Moviepy - Done !\n",
      "Moviepy - video ready /home/chenlequn/pan1/Dataset/Laser-Wire-DED-ThermalAudio-Dataset/segmented_videos/Exp_17_15.avi\n",
      "MoviePy - Writing audio in /home/chenlequn/pan1/Dataset/Laser-Wire-DED-ThermalAudio-Dataset/segmented_audio/Exp_17_15.wav\n"
     ]
    },
    {
     "name": "stderr",
     "output_type": "stream",
     "text": [
      "                                                                                                                     "
     ]
    },
    {
     "name": "stdout",
     "output_type": "stream",
     "text": [
      "MoviePy - Done.\n"
     ]
    },
    {
     "name": "stderr",
     "output_type": "stream",
     "text": [
      "\r"
     ]
    },
    {
     "name": "stdout",
     "output_type": "stream",
     "text": [
      "Moviepy - Building video /home/chenlequn/pan1/Dataset/Laser-Wire-DED-ThermalAudio-Dataset/segmented_videos/Exp_17_17.avi.\n",
      "MoviePy - Writing audio in Exp_17_17TEMP_MPY_wvf_snd.mp3\n"
     ]
    },
    {
     "name": "stderr",
     "output_type": "stream",
     "text": [
      "                                                                                                                     \r"
     ]
    },
    {
     "name": "stdout",
     "output_type": "stream",
     "text": [
      "MoviePy - Done.\n",
      "Moviepy - Writing video /home/chenlequn/pan1/Dataset/Laser-Wire-DED-ThermalAudio-Dataset/segmented_videos/Exp_17_17.avi\n",
      "\n"
     ]
    },
    {
     "name": "stderr",
     "output_type": "stream",
     "text": [
      "                                                                                                                     \r"
     ]
    },
    {
     "name": "stdout",
     "output_type": "stream",
     "text": [
      "Moviepy - Done !\n",
      "Moviepy - video ready /home/chenlequn/pan1/Dataset/Laser-Wire-DED-ThermalAudio-Dataset/segmented_videos/Exp_17_17.avi\n",
      "MoviePy - Writing audio in /home/chenlequn/pan1/Dataset/Laser-Wire-DED-ThermalAudio-Dataset/segmented_audio/Exp_17_17.wav\n"
     ]
    },
    {
     "name": "stderr",
     "output_type": "stream",
     "text": [
      "                                                                                                                     "
     ]
    },
    {
     "name": "stdout",
     "output_type": "stream",
     "text": [
      "MoviePy - Done.\n"
     ]
    },
    {
     "name": "stderr",
     "output_type": "stream",
     "text": [
      "\r"
     ]
    },
    {
     "name": "stdout",
     "output_type": "stream",
     "text": [
      "Moviepy - Building video /home/chenlequn/pan1/Dataset/Laser-Wire-DED-ThermalAudio-Dataset/segmented_videos/Exp_17_19.avi.\n",
      "MoviePy - Writing audio in Exp_17_19TEMP_MPY_wvf_snd.mp3\n"
     ]
    },
    {
     "name": "stderr",
     "output_type": "stream",
     "text": [
      "                                                                                                                     \r"
     ]
    },
    {
     "name": "stdout",
     "output_type": "stream",
     "text": [
      "MoviePy - Done.\n",
      "Moviepy - Writing video /home/chenlequn/pan1/Dataset/Laser-Wire-DED-ThermalAudio-Dataset/segmented_videos/Exp_17_19.avi\n",
      "\n"
     ]
    },
    {
     "name": "stderr",
     "output_type": "stream",
     "text": [
      "                                                                                                                     \r"
     ]
    },
    {
     "name": "stdout",
     "output_type": "stream",
     "text": [
      "Moviepy - Done !\n",
      "Moviepy - video ready /home/chenlequn/pan1/Dataset/Laser-Wire-DED-ThermalAudio-Dataset/segmented_videos/Exp_17_19.avi\n",
      "MoviePy - Writing audio in /home/chenlequn/pan1/Dataset/Laser-Wire-DED-ThermalAudio-Dataset/segmented_audio/Exp_17_19.wav\n"
     ]
    },
    {
     "name": "stderr",
     "output_type": "stream",
     "text": [
      "                                                                                                                     "
     ]
    },
    {
     "name": "stdout",
     "output_type": "stream",
     "text": [
      "MoviePy - Done.\n"
     ]
    },
    {
     "name": "stderr",
     "output_type": "stream",
     "text": [
      "\r"
     ]
    },
    {
     "name": "stdout",
     "output_type": "stream",
     "text": [
      "Moviepy - Building video /home/chenlequn/pan1/Dataset/Laser-Wire-DED-ThermalAudio-Dataset/segmented_videos/Exp_17_20.avi.\n",
      "MoviePy - Writing audio in Exp_17_20TEMP_MPY_wvf_snd.mp3\n"
     ]
    },
    {
     "name": "stderr",
     "output_type": "stream",
     "text": [
      "                                                                                                                     \r"
     ]
    },
    {
     "name": "stdout",
     "output_type": "stream",
     "text": [
      "MoviePy - Done.\n",
      "Moviepy - Writing video /home/chenlequn/pan1/Dataset/Laser-Wire-DED-ThermalAudio-Dataset/segmented_videos/Exp_17_20.avi\n",
      "\n"
     ]
    },
    {
     "name": "stderr",
     "output_type": "stream",
     "text": [
      "                                                                                                                     \r"
     ]
    },
    {
     "name": "stdout",
     "output_type": "stream",
     "text": [
      "Moviepy - Done !\n",
      "Moviepy - video ready /home/chenlequn/pan1/Dataset/Laser-Wire-DED-ThermalAudio-Dataset/segmented_videos/Exp_17_20.avi\n",
      "MoviePy - Writing audio in /home/chenlequn/pan1/Dataset/Laser-Wire-DED-ThermalAudio-Dataset/segmented_audio/Exp_17_20.wav\n"
     ]
    },
    {
     "name": "stderr",
     "output_type": "stream",
     "text": [
      "                                                                                                                     "
     ]
    },
    {
     "name": "stdout",
     "output_type": "stream",
     "text": [
      "MoviePy - Done.\n"
     ]
    },
    {
     "name": "stderr",
     "output_type": "stream",
     "text": [
      "\r"
     ]
    },
    {
     "name": "stdout",
     "output_type": "stream",
     "text": [
      "Moviepy - Building video /home/chenlequn/pan1/Dataset/Laser-Wire-DED-ThermalAudio-Dataset/segmented_videos/Exp_17_22.avi.\n",
      "MoviePy - Writing audio in Exp_17_22TEMP_MPY_wvf_snd.mp3\n"
     ]
    },
    {
     "name": "stderr",
     "output_type": "stream",
     "text": [
      "                                                                                                                     \r"
     ]
    },
    {
     "name": "stdout",
     "output_type": "stream",
     "text": [
      "MoviePy - Done.\n",
      "Moviepy - Writing video /home/chenlequn/pan1/Dataset/Laser-Wire-DED-ThermalAudio-Dataset/segmented_videos/Exp_17_22.avi\n",
      "\n"
     ]
    },
    {
     "name": "stderr",
     "output_type": "stream",
     "text": [
      "                                                                                                                     \r"
     ]
    },
    {
     "name": "stdout",
     "output_type": "stream",
     "text": [
      "Moviepy - Done !\n",
      "Moviepy - video ready /home/chenlequn/pan1/Dataset/Laser-Wire-DED-ThermalAudio-Dataset/segmented_videos/Exp_17_22.avi\n",
      "MoviePy - Writing audio in /home/chenlequn/pan1/Dataset/Laser-Wire-DED-ThermalAudio-Dataset/segmented_audio/Exp_17_22.wav\n"
     ]
    },
    {
     "name": "stderr",
     "output_type": "stream",
     "text": [
      "                                                                                                                     "
     ]
    },
    {
     "name": "stdout",
     "output_type": "stream",
     "text": [
      "MoviePy - Done.\n"
     ]
    },
    {
     "name": "stderr",
     "output_type": "stream",
     "text": [
      "\r"
     ]
    },
    {
     "name": "stdout",
     "output_type": "stream",
     "text": [
      "Moviepy - Building video /home/chenlequn/pan1/Dataset/Laser-Wire-DED-ThermalAudio-Dataset/segmented_videos/Exp_17_24.avi.\n",
      "MoviePy - Writing audio in Exp_17_24TEMP_MPY_wvf_snd.mp3\n"
     ]
    },
    {
     "name": "stderr",
     "output_type": "stream",
     "text": [
      "                                                                                                                     \r"
     ]
    },
    {
     "name": "stdout",
     "output_type": "stream",
     "text": [
      "MoviePy - Done.\n",
      "Moviepy - Writing video /home/chenlequn/pan1/Dataset/Laser-Wire-DED-ThermalAudio-Dataset/segmented_videos/Exp_17_24.avi\n",
      "\n"
     ]
    },
    {
     "name": "stderr",
     "output_type": "stream",
     "text": [
      "                                                                                                                     "
     ]
    },
    {
     "name": "stdout",
     "output_type": "stream",
     "text": [
      "Moviepy - Done !\n",
      "Moviepy - video ready /home/chenlequn/pan1/Dataset/Laser-Wire-DED-ThermalAudio-Dataset/segmented_videos/Exp_17_24.avi\n",
      "MoviePy - Writing audio in /home/chenlequn/pan1/Dataset/Laser-Wire-DED-ThermalAudio-Dataset/segmented_audio/Exp_17_24.wav\n"
     ]
    },
    {
     "name": "stderr",
     "output_type": "stream",
     "text": [
      "                                                                                                                     \r"
     ]
    },
    {
     "name": "stdout",
     "output_type": "stream",
     "text": [
      "MoviePy - Done.\n",
      "Moviepy - Building video /home/chenlequn/pan1/Dataset/Laser-Wire-DED-ThermalAudio-Dataset/segmented_videos/Exp_17_25.avi.\n",
      "MoviePy - Writing audio in Exp_17_25TEMP_MPY_wvf_snd.mp3\n"
     ]
    },
    {
     "name": "stderr",
     "output_type": "stream",
     "text": [
      "                                                                                                                     \r"
     ]
    },
    {
     "name": "stdout",
     "output_type": "stream",
     "text": [
      "MoviePy - Done.\n",
      "Moviepy - Writing video /home/chenlequn/pan1/Dataset/Laser-Wire-DED-ThermalAudio-Dataset/segmented_videos/Exp_17_25.avi\n",
      "\n"
     ]
    },
    {
     "name": "stderr",
     "output_type": "stream",
     "text": [
      "                                                                                                                     \r"
     ]
    },
    {
     "name": "stdout",
     "output_type": "stream",
     "text": [
      "Moviepy - Done !\n",
      "Moviepy - video ready /home/chenlequn/pan1/Dataset/Laser-Wire-DED-ThermalAudio-Dataset/segmented_videos/Exp_17_25.avi\n",
      "MoviePy - Writing audio in /home/chenlequn/pan1/Dataset/Laser-Wire-DED-ThermalAudio-Dataset/segmented_audio/Exp_17_25.wav\n"
     ]
    },
    {
     "name": "stderr",
     "output_type": "stream",
     "text": [
      "                                                                                                                     \r"
     ]
    },
    {
     "name": "stdout",
     "output_type": "stream",
     "text": [
      "MoviePy - Done.\n",
      "Moviepy - Building video /home/chenlequn/pan1/Dataset/Laser-Wire-DED-ThermalAudio-Dataset/segmented_videos/Exp_17_28.avi.\n",
      "MoviePy - Writing audio in Exp_17_28TEMP_MPY_wvf_snd.mp3\n"
     ]
    },
    {
     "name": "stderr",
     "output_type": "stream",
     "text": [
      "                                                                                                                     \r"
     ]
    },
    {
     "name": "stdout",
     "output_type": "stream",
     "text": [
      "MoviePy - Done.\n",
      "Moviepy - Writing video /home/chenlequn/pan1/Dataset/Laser-Wire-DED-ThermalAudio-Dataset/segmented_videos/Exp_17_28.avi\n",
      "\n"
     ]
    },
    {
     "name": "stderr",
     "output_type": "stream",
     "text": [
      "                                                                                                                     \r"
     ]
    },
    {
     "name": "stdout",
     "output_type": "stream",
     "text": [
      "Moviepy - Done !\n",
      "Moviepy - video ready /home/chenlequn/pan1/Dataset/Laser-Wire-DED-ThermalAudio-Dataset/segmented_videos/Exp_17_28.avi\n",
      "MoviePy - Writing audio in /home/chenlequn/pan1/Dataset/Laser-Wire-DED-ThermalAudio-Dataset/segmented_audio/Exp_17_28.wav\n"
     ]
    },
    {
     "name": "stderr",
     "output_type": "stream",
     "text": [
      "                                                                                                                     \r"
     ]
    },
    {
     "name": "stdout",
     "output_type": "stream",
     "text": [
      "MoviePy - Done.\n",
      "Moviepy - Building video /home/chenlequn/pan1/Dataset/Laser-Wire-DED-ThermalAudio-Dataset/segmented_videos/Exp_17_29.avi.\n",
      "MoviePy - Writing audio in Exp_17_29TEMP_MPY_wvf_snd.mp3\n"
     ]
    },
    {
     "name": "stderr",
     "output_type": "stream",
     "text": [
      "                                                                                                                     \r"
     ]
    },
    {
     "name": "stdout",
     "output_type": "stream",
     "text": [
      "MoviePy - Done.\n",
      "Moviepy - Writing video /home/chenlequn/pan1/Dataset/Laser-Wire-DED-ThermalAudio-Dataset/segmented_videos/Exp_17_29.avi\n",
      "\n"
     ]
    },
    {
     "name": "stderr",
     "output_type": "stream",
     "text": [
      "                                                                                                                     \r"
     ]
    },
    {
     "name": "stdout",
     "output_type": "stream",
     "text": [
      "Moviepy - Done !\n",
      "Moviepy - video ready /home/chenlequn/pan1/Dataset/Laser-Wire-DED-ThermalAudio-Dataset/segmented_videos/Exp_17_29.avi\n",
      "MoviePy - Writing audio in /home/chenlequn/pan1/Dataset/Laser-Wire-DED-ThermalAudio-Dataset/segmented_audio/Exp_17_29.wav\n"
     ]
    },
    {
     "name": "stderr",
     "output_type": "stream",
     "text": [
      "                                                                                                                     "
     ]
    },
    {
     "name": "stdout",
     "output_type": "stream",
     "text": [
      "MoviePy - Done.\n"
     ]
    },
    {
     "name": "stderr",
     "output_type": "stream",
     "text": [
      "\r"
     ]
    },
    {
     "name": "stdout",
     "output_type": "stream",
     "text": [
      "Moviepy - Building video /home/chenlequn/pan1/Dataset/Laser-Wire-DED-ThermalAudio-Dataset/segmented_videos/Exp_17_30.avi.\n",
      "MoviePy - Writing audio in Exp_17_30TEMP_MPY_wvf_snd.mp3\n"
     ]
    },
    {
     "name": "stderr",
     "output_type": "stream",
     "text": [
      "                                                                                                                     \r"
     ]
    },
    {
     "name": "stdout",
     "output_type": "stream",
     "text": [
      "MoviePy - Done.\n",
      "Moviepy - Writing video /home/chenlequn/pan1/Dataset/Laser-Wire-DED-ThermalAudio-Dataset/segmented_videos/Exp_17_30.avi\n",
      "\n"
     ]
    },
    {
     "name": "stderr",
     "output_type": "stream",
     "text": [
      "                                                                                                                     \r"
     ]
    },
    {
     "name": "stdout",
     "output_type": "stream",
     "text": [
      "Moviepy - Done !\n",
      "Moviepy - video ready /home/chenlequn/pan1/Dataset/Laser-Wire-DED-ThermalAudio-Dataset/segmented_videos/Exp_17_30.avi\n",
      "MoviePy - Writing audio in /home/chenlequn/pan1/Dataset/Laser-Wire-DED-ThermalAudio-Dataset/segmented_audio/Exp_17_30.wav\n"
     ]
    },
    {
     "name": "stderr",
     "output_type": "stream",
     "text": [
      "                                                                                                                     \r"
     ]
    },
    {
     "name": "stdout",
     "output_type": "stream",
     "text": [
      "MoviePy - Done.\n",
      "Moviepy - Building video /home/chenlequn/pan1/Dataset/Laser-Wire-DED-ThermalAudio-Dataset/segmented_videos/Exp_10_3.avi.\n",
      "MoviePy - Writing audio in Exp_10_3TEMP_MPY_wvf_snd.mp3\n"
     ]
    },
    {
     "name": "stderr",
     "output_type": "stream",
     "text": [
      "                                                                                                                     \r"
     ]
    },
    {
     "name": "stdout",
     "output_type": "stream",
     "text": [
      "MoviePy - Done.\n",
      "Moviepy - Writing video /home/chenlequn/pan1/Dataset/Laser-Wire-DED-ThermalAudio-Dataset/segmented_videos/Exp_10_3.avi\n",
      "\n"
     ]
    },
    {
     "name": "stderr",
     "output_type": "stream",
     "text": [
      "                                                                                                                     \r"
     ]
    },
    {
     "name": "stdout",
     "output_type": "stream",
     "text": [
      "Moviepy - Done !\n",
      "Moviepy - video ready /home/chenlequn/pan1/Dataset/Laser-Wire-DED-ThermalAudio-Dataset/segmented_videos/Exp_10_3.avi\n",
      "MoviePy - Writing audio in /home/chenlequn/pan1/Dataset/Laser-Wire-DED-ThermalAudio-Dataset/segmented_audio/Exp_10_3.wav\n"
     ]
    },
    {
     "name": "stderr",
     "output_type": "stream",
     "text": [
      "                                                                                                                     \r"
     ]
    },
    {
     "name": "stdout",
     "output_type": "stream",
     "text": [
      "MoviePy - Done.\n",
      "Moviepy - Building video /home/chenlequn/pan1/Dataset/Laser-Wire-DED-ThermalAudio-Dataset/segmented_videos/Exp_10_4.avi.\n",
      "MoviePy - Writing audio in Exp_10_4TEMP_MPY_wvf_snd.mp3\n"
     ]
    },
    {
     "name": "stderr",
     "output_type": "stream",
     "text": [
      "                                                                                                                     \r"
     ]
    },
    {
     "name": "stdout",
     "output_type": "stream",
     "text": [
      "MoviePy - Done.\n",
      "Moviepy - Writing video /home/chenlequn/pan1/Dataset/Laser-Wire-DED-ThermalAudio-Dataset/segmented_videos/Exp_10_4.avi\n",
      "\n"
     ]
    },
    {
     "name": "stderr",
     "output_type": "stream",
     "text": [
      "                                                                                                                     \r"
     ]
    },
    {
     "name": "stdout",
     "output_type": "stream",
     "text": [
      "Moviepy - Done !\n",
      "Moviepy - video ready /home/chenlequn/pan1/Dataset/Laser-Wire-DED-ThermalAudio-Dataset/segmented_videos/Exp_10_4.avi\n",
      "MoviePy - Writing audio in /home/chenlequn/pan1/Dataset/Laser-Wire-DED-ThermalAudio-Dataset/segmented_audio/Exp_10_4.wav\n"
     ]
    },
    {
     "name": "stderr",
     "output_type": "stream",
     "text": [
      "                                                                                                                     "
     ]
    },
    {
     "name": "stdout",
     "output_type": "stream",
     "text": [
      "MoviePy - Done.\n"
     ]
    },
    {
     "name": "stderr",
     "output_type": "stream",
     "text": [
      "\r"
     ]
    },
    {
     "name": "stdout",
     "output_type": "stream",
     "text": [
      "Moviepy - Building video /home/chenlequn/pan1/Dataset/Laser-Wire-DED-ThermalAudio-Dataset/segmented_videos/Exp_10_5.avi.\n",
      "MoviePy - Writing audio in Exp_10_5TEMP_MPY_wvf_snd.mp3\n"
     ]
    },
    {
     "name": "stderr",
     "output_type": "stream",
     "text": [
      "                                                                                                                     \r"
     ]
    },
    {
     "name": "stdout",
     "output_type": "stream",
     "text": [
      "MoviePy - Done.\n",
      "Moviepy - Writing video /home/chenlequn/pan1/Dataset/Laser-Wire-DED-ThermalAudio-Dataset/segmented_videos/Exp_10_5.avi\n",
      "\n"
     ]
    },
    {
     "name": "stderr",
     "output_type": "stream",
     "text": [
      "                                                                                                                     \r"
     ]
    },
    {
     "name": "stdout",
     "output_type": "stream",
     "text": [
      "Moviepy - Done !\n",
      "Moviepy - video ready /home/chenlequn/pan1/Dataset/Laser-Wire-DED-ThermalAudio-Dataset/segmented_videos/Exp_10_5.avi\n",
      "MoviePy - Writing audio in /home/chenlequn/pan1/Dataset/Laser-Wire-DED-ThermalAudio-Dataset/segmented_audio/Exp_10_5.wav\n"
     ]
    },
    {
     "name": "stderr",
     "output_type": "stream",
     "text": [
      "                                                                                                                     "
     ]
    },
    {
     "name": "stdout",
     "output_type": "stream",
     "text": [
      "MoviePy - Done.\n"
     ]
    },
    {
     "name": "stderr",
     "output_type": "stream",
     "text": [
      "\r"
     ]
    },
    {
     "name": "stdout",
     "output_type": "stream",
     "text": [
      "Moviepy - Building video /home/chenlequn/pan1/Dataset/Laser-Wire-DED-ThermalAudio-Dataset/segmented_videos/Exp_10_6.avi.\n",
      "MoviePy - Writing audio in Exp_10_6TEMP_MPY_wvf_snd.mp3\n"
     ]
    },
    {
     "name": "stderr",
     "output_type": "stream",
     "text": [
      "                                                                                                                     \r"
     ]
    },
    {
     "name": "stdout",
     "output_type": "stream",
     "text": [
      "MoviePy - Done.\n",
      "Moviepy - Writing video /home/chenlequn/pan1/Dataset/Laser-Wire-DED-ThermalAudio-Dataset/segmented_videos/Exp_10_6.avi\n",
      "\n"
     ]
    },
    {
     "name": "stderr",
     "output_type": "stream",
     "text": [
      "                                                                                                                     \r"
     ]
    },
    {
     "name": "stdout",
     "output_type": "stream",
     "text": [
      "Moviepy - Done !\n",
      "Moviepy - video ready /home/chenlequn/pan1/Dataset/Laser-Wire-DED-ThermalAudio-Dataset/segmented_videos/Exp_10_6.avi\n",
      "MoviePy - Writing audio in /home/chenlequn/pan1/Dataset/Laser-Wire-DED-ThermalAudio-Dataset/segmented_audio/Exp_10_6.wav\n"
     ]
    },
    {
     "name": "stderr",
     "output_type": "stream",
     "text": [
      "                                                                                                                     "
     ]
    },
    {
     "name": "stdout",
     "output_type": "stream",
     "text": [
      "MoviePy - Done.\n"
     ]
    },
    {
     "name": "stderr",
     "output_type": "stream",
     "text": [
      "\r"
     ]
    },
    {
     "name": "stdout",
     "output_type": "stream",
     "text": [
      "Moviepy - Building video /home/chenlequn/pan1/Dataset/Laser-Wire-DED-ThermalAudio-Dataset/segmented_videos/Exp_10_7.avi.\n",
      "MoviePy - Writing audio in Exp_10_7TEMP_MPY_wvf_snd.mp3\n"
     ]
    },
    {
     "name": "stderr",
     "output_type": "stream",
     "text": [
      "                                                                                                                     \r"
     ]
    },
    {
     "name": "stdout",
     "output_type": "stream",
     "text": [
      "MoviePy - Done.\n",
      "Moviepy - Writing video /home/chenlequn/pan1/Dataset/Laser-Wire-DED-ThermalAudio-Dataset/segmented_videos/Exp_10_7.avi\n",
      "\n"
     ]
    },
    {
     "name": "stderr",
     "output_type": "stream",
     "text": [
      "                                                                                                                     \r"
     ]
    },
    {
     "name": "stdout",
     "output_type": "stream",
     "text": [
      "Moviepy - Done !\n",
      "Moviepy - video ready /home/chenlequn/pan1/Dataset/Laser-Wire-DED-ThermalAudio-Dataset/segmented_videos/Exp_10_7.avi\n",
      "MoviePy - Writing audio in /home/chenlequn/pan1/Dataset/Laser-Wire-DED-ThermalAudio-Dataset/segmented_audio/Exp_10_7.wav\n"
     ]
    },
    {
     "name": "stderr",
     "output_type": "stream",
     "text": [
      "                                                                                                                     "
     ]
    },
    {
     "name": "stdout",
     "output_type": "stream",
     "text": [
      "MoviePy - Done.\n"
     ]
    },
    {
     "name": "stderr",
     "output_type": "stream",
     "text": [
      "\r"
     ]
    },
    {
     "name": "stdout",
     "output_type": "stream",
     "text": [
      "Moviepy - Building video /home/chenlequn/pan1/Dataset/Laser-Wire-DED-ThermalAudio-Dataset/segmented_videos/Exp_10_10.avi.\n",
      "MoviePy - Writing audio in Exp_10_10TEMP_MPY_wvf_snd.mp3\n"
     ]
    },
    {
     "name": "stderr",
     "output_type": "stream",
     "text": [
      "                                                                                                                     \r"
     ]
    },
    {
     "name": "stdout",
     "output_type": "stream",
     "text": [
      "MoviePy - Done.\n",
      "Moviepy - Writing video /home/chenlequn/pan1/Dataset/Laser-Wire-DED-ThermalAudio-Dataset/segmented_videos/Exp_10_10.avi\n",
      "\n"
     ]
    },
    {
     "name": "stderr",
     "output_type": "stream",
     "text": [
      "                                                                                                                     \r"
     ]
    },
    {
     "name": "stdout",
     "output_type": "stream",
     "text": [
      "Moviepy - Done !\n",
      "Moviepy - video ready /home/chenlequn/pan1/Dataset/Laser-Wire-DED-ThermalAudio-Dataset/segmented_videos/Exp_10_10.avi\n",
      "MoviePy - Writing audio in /home/chenlequn/pan1/Dataset/Laser-Wire-DED-ThermalAudio-Dataset/segmented_audio/Exp_10_10.wav\n"
     ]
    },
    {
     "name": "stderr",
     "output_type": "stream",
     "text": [
      "                                                                                                                     \r"
     ]
    },
    {
     "name": "stdout",
     "output_type": "stream",
     "text": [
      "MoviePy - Done.\n",
      "Moviepy - Building video /home/chenlequn/pan1/Dataset/Laser-Wire-DED-ThermalAudio-Dataset/segmented_videos/Exp_10_11.avi.\n",
      "MoviePy - Writing audio in Exp_10_11TEMP_MPY_wvf_snd.mp3\n"
     ]
    },
    {
     "name": "stderr",
     "output_type": "stream",
     "text": [
      "                                                                                                                     \r"
     ]
    },
    {
     "name": "stdout",
     "output_type": "stream",
     "text": [
      "MoviePy - Done.\n",
      "Moviepy - Writing video /home/chenlequn/pan1/Dataset/Laser-Wire-DED-ThermalAudio-Dataset/segmented_videos/Exp_10_11.avi\n",
      "\n"
     ]
    },
    {
     "name": "stderr",
     "output_type": "stream",
     "text": [
      "                                                                                                                     \r"
     ]
    },
    {
     "name": "stdout",
     "output_type": "stream",
     "text": [
      "Moviepy - Done !\n",
      "Moviepy - video ready /home/chenlequn/pan1/Dataset/Laser-Wire-DED-ThermalAudio-Dataset/segmented_videos/Exp_10_11.avi\n",
      "MoviePy - Writing audio in /home/chenlequn/pan1/Dataset/Laser-Wire-DED-ThermalAudio-Dataset/segmented_audio/Exp_10_11.wav\n"
     ]
    },
    {
     "name": "stderr",
     "output_type": "stream",
     "text": [
      "                                                                                                                     "
     ]
    },
    {
     "name": "stdout",
     "output_type": "stream",
     "text": [
      "MoviePy - Done.\n"
     ]
    },
    {
     "name": "stderr",
     "output_type": "stream",
     "text": [
      "\r"
     ]
    },
    {
     "name": "stdout",
     "output_type": "stream",
     "text": [
      "Moviepy - Building video /home/chenlequn/pan1/Dataset/Laser-Wire-DED-ThermalAudio-Dataset/segmented_videos/Exp_10_12.avi.\n",
      "MoviePy - Writing audio in Exp_10_12TEMP_MPY_wvf_snd.mp3\n"
     ]
    },
    {
     "name": "stderr",
     "output_type": "stream",
     "text": [
      "                                                                                                                     \r"
     ]
    },
    {
     "name": "stdout",
     "output_type": "stream",
     "text": [
      "MoviePy - Done.\n",
      "Moviepy - Writing video /home/chenlequn/pan1/Dataset/Laser-Wire-DED-ThermalAudio-Dataset/segmented_videos/Exp_10_12.avi\n",
      "\n"
     ]
    },
    {
     "name": "stderr",
     "output_type": "stream",
     "text": [
      "                                                                                                                     \r"
     ]
    },
    {
     "name": "stdout",
     "output_type": "stream",
     "text": [
      "Moviepy - Done !\n",
      "Moviepy - video ready /home/chenlequn/pan1/Dataset/Laser-Wire-DED-ThermalAudio-Dataset/segmented_videos/Exp_10_12.avi\n",
      "MoviePy - Writing audio in /home/chenlequn/pan1/Dataset/Laser-Wire-DED-ThermalAudio-Dataset/segmented_audio/Exp_10_12.wav\n"
     ]
    },
    {
     "name": "stderr",
     "output_type": "stream",
     "text": [
      "                                                                                                                     "
     ]
    },
    {
     "name": "stdout",
     "output_type": "stream",
     "text": [
      "MoviePy - Done.\n"
     ]
    },
    {
     "name": "stderr",
     "output_type": "stream",
     "text": [
      "\r"
     ]
    },
    {
     "name": "stdout",
     "output_type": "stream",
     "text": [
      "Moviepy - Building video /home/chenlequn/pan1/Dataset/Laser-Wire-DED-ThermalAudio-Dataset/segmented_videos/Exp_10_13.avi.\n",
      "MoviePy - Writing audio in Exp_10_13TEMP_MPY_wvf_snd.mp3\n"
     ]
    },
    {
     "name": "stderr",
     "output_type": "stream",
     "text": [
      "                                                                                                                     \r"
     ]
    },
    {
     "name": "stdout",
     "output_type": "stream",
     "text": [
      "MoviePy - Done.\n",
      "Moviepy - Writing video /home/chenlequn/pan1/Dataset/Laser-Wire-DED-ThermalAudio-Dataset/segmented_videos/Exp_10_13.avi\n",
      "\n"
     ]
    },
    {
     "name": "stderr",
     "output_type": "stream",
     "text": [
      "                                                                                                                     "
     ]
    },
    {
     "name": "stdout",
     "output_type": "stream",
     "text": [
      "Moviepy - Done !\n",
      "Moviepy - video ready /home/chenlequn/pan1/Dataset/Laser-Wire-DED-ThermalAudio-Dataset/segmented_videos/Exp_10_13.avi\n",
      "MoviePy - Writing audio in /home/chenlequn/pan1/Dataset/Laser-Wire-DED-ThermalAudio-Dataset/segmented_audio/Exp_10_13.wav\n"
     ]
    },
    {
     "name": "stderr",
     "output_type": "stream",
     "text": [
      "                                                                                                                     \r"
     ]
    },
    {
     "name": "stdout",
     "output_type": "stream",
     "text": [
      "MoviePy - Done.\n",
      "Moviepy - Building video /home/chenlequn/pan1/Dataset/Laser-Wire-DED-ThermalAudio-Dataset/segmented_videos/Exp_10_14.avi.\n",
      "MoviePy - Writing audio in Exp_10_14TEMP_MPY_wvf_snd.mp3\n"
     ]
    },
    {
     "name": "stderr",
     "output_type": "stream",
     "text": [
      "                                                                                                                     \r"
     ]
    },
    {
     "name": "stdout",
     "output_type": "stream",
     "text": [
      "MoviePy - Done.\n",
      "Moviepy - Writing video /home/chenlequn/pan1/Dataset/Laser-Wire-DED-ThermalAudio-Dataset/segmented_videos/Exp_10_14.avi\n",
      "\n"
     ]
    },
    {
     "name": "stderr",
     "output_type": "stream",
     "text": [
      "                                                                                                                     \r"
     ]
    },
    {
     "name": "stdout",
     "output_type": "stream",
     "text": [
      "Moviepy - Done !\n",
      "Moviepy - video ready /home/chenlequn/pan1/Dataset/Laser-Wire-DED-ThermalAudio-Dataset/segmented_videos/Exp_10_14.avi\n",
      "MoviePy - Writing audio in /home/chenlequn/pan1/Dataset/Laser-Wire-DED-ThermalAudio-Dataset/segmented_audio/Exp_10_14.wav\n"
     ]
    },
    {
     "name": "stderr",
     "output_type": "stream",
     "text": [
      "                                                                                                                     "
     ]
    },
    {
     "name": "stdout",
     "output_type": "stream",
     "text": [
      "MoviePy - Done.\n"
     ]
    },
    {
     "name": "stderr",
     "output_type": "stream",
     "text": [
      "\r"
     ]
    },
    {
     "name": "stdout",
     "output_type": "stream",
     "text": [
      "Moviepy - Building video /home/chenlequn/pan1/Dataset/Laser-Wire-DED-ThermalAudio-Dataset/segmented_videos/Exp_10_16.avi.\n",
      "MoviePy - Writing audio in Exp_10_16TEMP_MPY_wvf_snd.mp3\n"
     ]
    },
    {
     "name": "stderr",
     "output_type": "stream",
     "text": [
      "                                                                                                                     \r"
     ]
    },
    {
     "name": "stdout",
     "output_type": "stream",
     "text": [
      "MoviePy - Done.\n",
      "Moviepy - Writing video /home/chenlequn/pan1/Dataset/Laser-Wire-DED-ThermalAudio-Dataset/segmented_videos/Exp_10_16.avi\n",
      "\n"
     ]
    },
    {
     "name": "stderr",
     "output_type": "stream",
     "text": [
      "                                                                                                                     "
     ]
    },
    {
     "name": "stdout",
     "output_type": "stream",
     "text": [
      "Moviepy - Done !\n",
      "Moviepy - video ready /home/chenlequn/pan1/Dataset/Laser-Wire-DED-ThermalAudio-Dataset/segmented_videos/Exp_10_16.avi\n",
      "MoviePy - Writing audio in /home/chenlequn/pan1/Dataset/Laser-Wire-DED-ThermalAudio-Dataset/segmented_audio/Exp_10_16.wav\n"
     ]
    },
    {
     "name": "stderr",
     "output_type": "stream",
     "text": [
      "                                                                                                                     \r"
     ]
    },
    {
     "name": "stdout",
     "output_type": "stream",
     "text": [
      "MoviePy - Done.\n",
      "Moviepy - Building video /home/chenlequn/pan1/Dataset/Laser-Wire-DED-ThermalAudio-Dataset/segmented_videos/Exp_10_18.avi.\n",
      "MoviePy - Writing audio in Exp_10_18TEMP_MPY_wvf_snd.mp3\n"
     ]
    },
    {
     "name": "stderr",
     "output_type": "stream",
     "text": [
      "                                                                                                                     \r"
     ]
    },
    {
     "name": "stdout",
     "output_type": "stream",
     "text": [
      "MoviePy - Done.\n",
      "Moviepy - Writing video /home/chenlequn/pan1/Dataset/Laser-Wire-DED-ThermalAudio-Dataset/segmented_videos/Exp_10_18.avi\n",
      "\n"
     ]
    },
    {
     "name": "stderr",
     "output_type": "stream",
     "text": [
      "                                                                                                                     "
     ]
    },
    {
     "name": "stdout",
     "output_type": "stream",
     "text": [
      "Moviepy - Done !\n",
      "Moviepy - video ready /home/chenlequn/pan1/Dataset/Laser-Wire-DED-ThermalAudio-Dataset/segmented_videos/Exp_10_18.avi\n",
      "MoviePy - Writing audio in /home/chenlequn/pan1/Dataset/Laser-Wire-DED-ThermalAudio-Dataset/segmented_audio/Exp_10_18.wav\n"
     ]
    },
    {
     "name": "stderr",
     "output_type": "stream",
     "text": [
      "                                                                                                                     \r"
     ]
    },
    {
     "name": "stdout",
     "output_type": "stream",
     "text": [
      "MoviePy - Done.\n",
      "Moviepy - Building video /home/chenlequn/pan1/Dataset/Laser-Wire-DED-ThermalAudio-Dataset/segmented_videos/Exp_10_20.avi.\n",
      "MoviePy - Writing audio in Exp_10_20TEMP_MPY_wvf_snd.mp3\n"
     ]
    },
    {
     "name": "stderr",
     "output_type": "stream",
     "text": [
      "                                                                                                                     \r"
     ]
    },
    {
     "name": "stdout",
     "output_type": "stream",
     "text": [
      "MoviePy - Done.\n",
      "Moviepy - Writing video /home/chenlequn/pan1/Dataset/Laser-Wire-DED-ThermalAudio-Dataset/segmented_videos/Exp_10_20.avi\n",
      "\n"
     ]
    },
    {
     "name": "stderr",
     "output_type": "stream",
     "text": [
      "                                                                                                                     "
     ]
    },
    {
     "name": "stdout",
     "output_type": "stream",
     "text": [
      "Moviepy - Done !\n",
      "Moviepy - video ready /home/chenlequn/pan1/Dataset/Laser-Wire-DED-ThermalAudio-Dataset/segmented_videos/Exp_10_20.avi\n",
      "MoviePy - Writing audio in /home/chenlequn/pan1/Dataset/Laser-Wire-DED-ThermalAudio-Dataset/segmented_audio/Exp_10_20.wav\n"
     ]
    },
    {
     "name": "stderr",
     "output_type": "stream",
     "text": [
      "                                                                                                                     \r"
     ]
    },
    {
     "name": "stdout",
     "output_type": "stream",
     "text": [
      "MoviePy - Done.\n",
      "Moviepy - Building video /home/chenlequn/pan1/Dataset/Laser-Wire-DED-ThermalAudio-Dataset/segmented_videos/Exp_10_21.avi.\n",
      "MoviePy - Writing audio in Exp_10_21TEMP_MPY_wvf_snd.mp3\n"
     ]
    },
    {
     "name": "stderr",
     "output_type": "stream",
     "text": [
      "                                                                                                                     \r"
     ]
    },
    {
     "name": "stdout",
     "output_type": "stream",
     "text": [
      "MoviePy - Done.\n",
      "Moviepy - Writing video /home/chenlequn/pan1/Dataset/Laser-Wire-DED-ThermalAudio-Dataset/segmented_videos/Exp_10_21.avi\n",
      "\n"
     ]
    },
    {
     "name": "stderr",
     "output_type": "stream",
     "text": [
      "                                                                                                                     \r"
     ]
    },
    {
     "name": "stdout",
     "output_type": "stream",
     "text": [
      "Moviepy - Done !\n",
      "Moviepy - video ready /home/chenlequn/pan1/Dataset/Laser-Wire-DED-ThermalAudio-Dataset/segmented_videos/Exp_10_21.avi\n",
      "MoviePy - Writing audio in /home/chenlequn/pan1/Dataset/Laser-Wire-DED-ThermalAudio-Dataset/segmented_audio/Exp_10_21.wav\n"
     ]
    },
    {
     "name": "stderr",
     "output_type": "stream",
     "text": [
      "                                                                                                                     "
     ]
    },
    {
     "name": "stdout",
     "output_type": "stream",
     "text": [
      "MoviePy - Done.\n"
     ]
    },
    {
     "name": "stderr",
     "output_type": "stream",
     "text": [
      "\r"
     ]
    },
    {
     "name": "stdout",
     "output_type": "stream",
     "text": [
      "Moviepy - Building video /home/chenlequn/pan1/Dataset/Laser-Wire-DED-ThermalAudio-Dataset/segmented_videos/Exp_10_23.avi.\n",
      "MoviePy - Writing audio in Exp_10_23TEMP_MPY_wvf_snd.mp3\n"
     ]
    },
    {
     "name": "stderr",
     "output_type": "stream",
     "text": [
      "                                                                                                                     \r"
     ]
    },
    {
     "name": "stdout",
     "output_type": "stream",
     "text": [
      "MoviePy - Done.\n",
      "Moviepy - Writing video /home/chenlequn/pan1/Dataset/Laser-Wire-DED-ThermalAudio-Dataset/segmented_videos/Exp_10_23.avi\n",
      "\n"
     ]
    },
    {
     "name": "stderr",
     "output_type": "stream",
     "text": [
      "                                                                                                                     \r"
     ]
    },
    {
     "name": "stdout",
     "output_type": "stream",
     "text": [
      "Moviepy - Done !\n",
      "Moviepy - video ready /home/chenlequn/pan1/Dataset/Laser-Wire-DED-ThermalAudio-Dataset/segmented_videos/Exp_10_23.avi\n",
      "MoviePy - Writing audio in /home/chenlequn/pan1/Dataset/Laser-Wire-DED-ThermalAudio-Dataset/segmented_audio/Exp_10_23.wav\n"
     ]
    },
    {
     "name": "stderr",
     "output_type": "stream",
     "text": [
      "                                                                                                                     "
     ]
    },
    {
     "name": "stdout",
     "output_type": "stream",
     "text": [
      "MoviePy - Done.\n"
     ]
    },
    {
     "name": "stderr",
     "output_type": "stream",
     "text": [
      "\r"
     ]
    },
    {
     "name": "stdout",
     "output_type": "stream",
     "text": [
      "Moviepy - Building video /home/chenlequn/pan1/Dataset/Laser-Wire-DED-ThermalAudio-Dataset/segmented_videos/Exp_10_25.avi.\n",
      "MoviePy - Writing audio in Exp_10_25TEMP_MPY_wvf_snd.mp3\n"
     ]
    },
    {
     "name": "stderr",
     "output_type": "stream",
     "text": [
      "                                                                                                                     \r"
     ]
    },
    {
     "name": "stdout",
     "output_type": "stream",
     "text": [
      "MoviePy - Done.\n",
      "Moviepy - Writing video /home/chenlequn/pan1/Dataset/Laser-Wire-DED-ThermalAudio-Dataset/segmented_videos/Exp_10_25.avi\n",
      "\n"
     ]
    },
    {
     "name": "stderr",
     "output_type": "stream",
     "text": [
      "                                                                                                                     "
     ]
    },
    {
     "name": "stdout",
     "output_type": "stream",
     "text": [
      "Moviepy - Done !\n",
      "Moviepy - video ready /home/chenlequn/pan1/Dataset/Laser-Wire-DED-ThermalAudio-Dataset/segmented_videos/Exp_10_25.avi\n",
      "MoviePy - Writing audio in /home/chenlequn/pan1/Dataset/Laser-Wire-DED-ThermalAudio-Dataset/segmented_audio/Exp_10_25.wav\n"
     ]
    },
    {
     "name": "stderr",
     "output_type": "stream",
     "text": [
      "                                                                                                                     \r"
     ]
    },
    {
     "name": "stdout",
     "output_type": "stream",
     "text": [
      "MoviePy - Done.\n",
      "Moviepy - Building video /home/chenlequn/pan1/Dataset/Laser-Wire-DED-ThermalAudio-Dataset/segmented_videos/Exp_10_27.avi.\n",
      "MoviePy - Writing audio in Exp_10_27TEMP_MPY_wvf_snd.mp3\n"
     ]
    },
    {
     "name": "stderr",
     "output_type": "stream",
     "text": [
      "                                                                                                                     \r"
     ]
    },
    {
     "name": "stdout",
     "output_type": "stream",
     "text": [
      "MoviePy - Done.\n",
      "Moviepy - Writing video /home/chenlequn/pan1/Dataset/Laser-Wire-DED-ThermalAudio-Dataset/segmented_videos/Exp_10_27.avi\n",
      "\n"
     ]
    },
    {
     "name": "stderr",
     "output_type": "stream",
     "text": [
      "                                                                                                                     "
     ]
    },
    {
     "name": "stdout",
     "output_type": "stream",
     "text": [
      "Moviepy - Done !\n",
      "Moviepy - video ready /home/chenlequn/pan1/Dataset/Laser-Wire-DED-ThermalAudio-Dataset/segmented_videos/Exp_10_27.avi\n",
      "MoviePy - Writing audio in /home/chenlequn/pan1/Dataset/Laser-Wire-DED-ThermalAudio-Dataset/segmented_audio/Exp_10_27.wav\n"
     ]
    },
    {
     "name": "stderr",
     "output_type": "stream",
     "text": [
      "                                                                                                                     \r"
     ]
    },
    {
     "name": "stdout",
     "output_type": "stream",
     "text": [
      "MoviePy - Done.\n",
      "Moviepy - Building video /home/chenlequn/pan1/Dataset/Laser-Wire-DED-ThermalAudio-Dataset/segmented_videos/Exp_10_29.avi.\n",
      "MoviePy - Writing audio in Exp_10_29TEMP_MPY_wvf_snd.mp3\n"
     ]
    },
    {
     "name": "stderr",
     "output_type": "stream",
     "text": [
      "                                                                                                                     \r"
     ]
    },
    {
     "name": "stdout",
     "output_type": "stream",
     "text": [
      "MoviePy - Done.\n",
      "Moviepy - Writing video /home/chenlequn/pan1/Dataset/Laser-Wire-DED-ThermalAudio-Dataset/segmented_videos/Exp_10_29.avi\n",
      "\n"
     ]
    },
    {
     "name": "stderr",
     "output_type": "stream",
     "text": [
      "                                                                                                                     "
     ]
    },
    {
     "name": "stdout",
     "output_type": "stream",
     "text": [
      "Moviepy - Done !\n",
      "Moviepy - video ready /home/chenlequn/pan1/Dataset/Laser-Wire-DED-ThermalAudio-Dataset/segmented_videos/Exp_10_29.avi\n",
      "MoviePy - Writing audio in /home/chenlequn/pan1/Dataset/Laser-Wire-DED-ThermalAudio-Dataset/segmented_audio/Exp_10_29.wav\n"
     ]
    },
    {
     "name": "stderr",
     "output_type": "stream",
     "text": [
      "                                                                                                                     \r"
     ]
    },
    {
     "name": "stdout",
     "output_type": "stream",
     "text": [
      "MoviePy - Done.\n",
      "Moviepy - Building video /home/chenlequn/pan1/Dataset/Laser-Wire-DED-ThermalAudio-Dataset/segmented_videos/Exp_10_31.avi.\n",
      "MoviePy - Writing audio in Exp_10_31TEMP_MPY_wvf_snd.mp3\n"
     ]
    },
    {
     "name": "stderr",
     "output_type": "stream",
     "text": [
      "                                                                                                                     \r"
     ]
    },
    {
     "name": "stdout",
     "output_type": "stream",
     "text": [
      "MoviePy - Done.\n",
      "Moviepy - Writing video /home/chenlequn/pan1/Dataset/Laser-Wire-DED-ThermalAudio-Dataset/segmented_videos/Exp_10_31.avi\n",
      "\n"
     ]
    },
    {
     "name": "stderr",
     "output_type": "stream",
     "text": [
      "                                                                                                                     \r"
     ]
    },
    {
     "name": "stdout",
     "output_type": "stream",
     "text": [
      "Moviepy - Done !\n",
      "Moviepy - video ready /home/chenlequn/pan1/Dataset/Laser-Wire-DED-ThermalAudio-Dataset/segmented_videos/Exp_10_31.avi\n",
      "MoviePy - Writing audio in /home/chenlequn/pan1/Dataset/Laser-Wire-DED-ThermalAudio-Dataset/segmented_audio/Exp_10_31.wav\n"
     ]
    },
    {
     "name": "stderr",
     "output_type": "stream",
     "text": [
      "                                                                                                                     \r"
     ]
    },
    {
     "name": "stdout",
     "output_type": "stream",
     "text": [
      "MoviePy - Done.\n",
      "Moviepy - Building video /home/chenlequn/pan1/Dataset/Laser-Wire-DED-ThermalAudio-Dataset/segmented_videos/Exp_10_33.avi.\n",
      "MoviePy - Writing audio in Exp_10_33TEMP_MPY_wvf_snd.mp3\n"
     ]
    },
    {
     "name": "stderr",
     "output_type": "stream",
     "text": [
      "                                                                                                                     \r"
     ]
    },
    {
     "name": "stdout",
     "output_type": "stream",
     "text": [
      "MoviePy - Done.\n",
      "Moviepy - Writing video /home/chenlequn/pan1/Dataset/Laser-Wire-DED-ThermalAudio-Dataset/segmented_videos/Exp_10_33.avi\n",
      "\n"
     ]
    },
    {
     "name": "stderr",
     "output_type": "stream",
     "text": [
      "                                                                                                                     \r"
     ]
    },
    {
     "name": "stdout",
     "output_type": "stream",
     "text": [
      "Moviepy - Done !\n",
      "Moviepy - video ready /home/chenlequn/pan1/Dataset/Laser-Wire-DED-ThermalAudio-Dataset/segmented_videos/Exp_10_33.avi\n",
      "MoviePy - Writing audio in /home/chenlequn/pan1/Dataset/Laser-Wire-DED-ThermalAudio-Dataset/segmented_audio/Exp_10_33.wav\n"
     ]
    },
    {
     "name": "stderr",
     "output_type": "stream",
     "text": [
      "                                                                                                                     "
     ]
    },
    {
     "name": "stdout",
     "output_type": "stream",
     "text": [
      "MoviePy - Done.\n"
     ]
    },
    {
     "name": "stderr",
     "output_type": "stream",
     "text": [
      "\r"
     ]
    },
    {
     "name": "stdout",
     "output_type": "stream",
     "text": [
      "Moviepy - Building video /home/chenlequn/pan1/Dataset/Laser-Wire-DED-ThermalAudio-Dataset/segmented_videos/Exp_10_34.avi.\n",
      "MoviePy - Writing audio in Exp_10_34TEMP_MPY_wvf_snd.mp3\n"
     ]
    },
    {
     "name": "stderr",
     "output_type": "stream",
     "text": [
      "                                                                                                                     \r"
     ]
    },
    {
     "name": "stdout",
     "output_type": "stream",
     "text": [
      "MoviePy - Done.\n",
      "Moviepy - Writing video /home/chenlequn/pan1/Dataset/Laser-Wire-DED-ThermalAudio-Dataset/segmented_videos/Exp_10_34.avi\n",
      "\n"
     ]
    },
    {
     "name": "stderr",
     "output_type": "stream",
     "text": [
      "                                                                                                                     "
     ]
    },
    {
     "name": "stdout",
     "output_type": "stream",
     "text": [
      "Moviepy - Done !\n",
      "Moviepy - video ready /home/chenlequn/pan1/Dataset/Laser-Wire-DED-ThermalAudio-Dataset/segmented_videos/Exp_10_34.avi\n",
      "MoviePy - Writing audio in /home/chenlequn/pan1/Dataset/Laser-Wire-DED-ThermalAudio-Dataset/segmented_audio/Exp_10_34.wav\n"
     ]
    },
    {
     "name": "stderr",
     "output_type": "stream",
     "text": [
      "                                                                                                                     \r"
     ]
    },
    {
     "name": "stdout",
     "output_type": "stream",
     "text": [
      "MoviePy - Done.\n",
      "Moviepy - Building video /home/chenlequn/pan1/Dataset/Laser-Wire-DED-ThermalAudio-Dataset/segmented_videos/Exp_10_35.avi.\n",
      "MoviePy - Writing audio in Exp_10_35TEMP_MPY_wvf_snd.mp3\n"
     ]
    },
    {
     "name": "stderr",
     "output_type": "stream",
     "text": [
      "                                                                                                                     \r"
     ]
    },
    {
     "name": "stdout",
     "output_type": "stream",
     "text": [
      "MoviePy - Done.\n",
      "Moviepy - Writing video /home/chenlequn/pan1/Dataset/Laser-Wire-DED-ThermalAudio-Dataset/segmented_videos/Exp_10_35.avi\n",
      "\n"
     ]
    },
    {
     "name": "stderr",
     "output_type": "stream",
     "text": [
      "                                                                                                                     "
     ]
    },
    {
     "name": "stdout",
     "output_type": "stream",
     "text": [
      "Moviepy - Done !\n"
     ]
    },
    {
     "name": "stderr",
     "output_type": "stream",
     "text": [
      "\r"
     ]
    },
    {
     "name": "stdout",
     "output_type": "stream",
     "text": [
      "Moviepy - video ready /home/chenlequn/pan1/Dataset/Laser-Wire-DED-ThermalAudio-Dataset/segmented_videos/Exp_10_35.avi\n",
      "MoviePy - Writing audio in /home/chenlequn/pan1/Dataset/Laser-Wire-DED-ThermalAudio-Dataset/segmented_audio/Exp_10_35.wav\n"
     ]
    },
    {
     "name": "stderr",
     "output_type": "stream",
     "text": [
      "                                                                                                                     \r"
     ]
    },
    {
     "name": "stdout",
     "output_type": "stream",
     "text": [
      "MoviePy - Done.\n",
      "Moviepy - Building video /home/chenlequn/pan1/Dataset/Laser-Wire-DED-ThermalAudio-Dataset/segmented_videos/Exp_10_37.avi.\n",
      "MoviePy - Writing audio in Exp_10_37TEMP_MPY_wvf_snd.mp3\n"
     ]
    },
    {
     "name": "stderr",
     "output_type": "stream",
     "text": [
      "                                                                                                                     \r"
     ]
    },
    {
     "name": "stdout",
     "output_type": "stream",
     "text": [
      "MoviePy - Done.\n",
      "Moviepy - Writing video /home/chenlequn/pan1/Dataset/Laser-Wire-DED-ThermalAudio-Dataset/segmented_videos/Exp_10_37.avi\n",
      "\n"
     ]
    },
    {
     "name": "stderr",
     "output_type": "stream",
     "text": [
      "                                                                                                                     \r"
     ]
    },
    {
     "name": "stdout",
     "output_type": "stream",
     "text": [
      "Moviepy - Done !\n",
      "Moviepy - video ready /home/chenlequn/pan1/Dataset/Laser-Wire-DED-ThermalAudio-Dataset/segmented_videos/Exp_10_37.avi\n",
      "MoviePy - Writing audio in /home/chenlequn/pan1/Dataset/Laser-Wire-DED-ThermalAudio-Dataset/segmented_audio/Exp_10_37.wav\n"
     ]
    },
    {
     "name": "stderr",
     "output_type": "stream",
     "text": [
      "                                                                                                                     \r"
     ]
    },
    {
     "name": "stdout",
     "output_type": "stream",
     "text": [
      "MoviePy - Done.\n",
      "Moviepy - Building video /home/chenlequn/pan1/Dataset/Laser-Wire-DED-ThermalAudio-Dataset/segmented_videos/Exp_10_38.avi.\n",
      "MoviePy - Writing audio in Exp_10_38TEMP_MPY_wvf_snd.mp3\n"
     ]
    },
    {
     "name": "stderr",
     "output_type": "stream",
     "text": [
      "                                                                                                                     \r"
     ]
    },
    {
     "name": "stdout",
     "output_type": "stream",
     "text": [
      "MoviePy - Done.\n",
      "Moviepy - Writing video /home/chenlequn/pan1/Dataset/Laser-Wire-DED-ThermalAudio-Dataset/segmented_videos/Exp_10_38.avi\n",
      "\n"
     ]
    },
    {
     "name": "stderr",
     "output_type": "stream",
     "text": [
      "                                                                                                                     \r"
     ]
    },
    {
     "name": "stdout",
     "output_type": "stream",
     "text": [
      "Moviepy - Done !\n",
      "Moviepy - video ready /home/chenlequn/pan1/Dataset/Laser-Wire-DED-ThermalAudio-Dataset/segmented_videos/Exp_10_38.avi\n",
      "MoviePy - Writing audio in /home/chenlequn/pan1/Dataset/Laser-Wire-DED-ThermalAudio-Dataset/segmented_audio/Exp_10_38.wav\n"
     ]
    },
    {
     "name": "stderr",
     "output_type": "stream",
     "text": [
      "                                                                                                                     "
     ]
    },
    {
     "name": "stdout",
     "output_type": "stream",
     "text": [
      "MoviePy - Done.\n"
     ]
    },
    {
     "name": "stderr",
     "output_type": "stream",
     "text": [
      "\r"
     ]
    },
    {
     "name": "stdout",
     "output_type": "stream",
     "text": [
      "Moviepy - Building video /home/chenlequn/pan1/Dataset/Laser-Wire-DED-ThermalAudio-Dataset/segmented_videos/Exp_10_40.avi.\n",
      "MoviePy - Writing audio in Exp_10_40TEMP_MPY_wvf_snd.mp3\n"
     ]
    },
    {
     "name": "stderr",
     "output_type": "stream",
     "text": [
      "                                                                                                                     \r"
     ]
    },
    {
     "name": "stdout",
     "output_type": "stream",
     "text": [
      "MoviePy - Done.\n",
      "Moviepy - Writing video /home/chenlequn/pan1/Dataset/Laser-Wire-DED-ThermalAudio-Dataset/segmented_videos/Exp_10_40.avi\n",
      "\n"
     ]
    },
    {
     "name": "stderr",
     "output_type": "stream",
     "text": [
      "                                                                                                                     "
     ]
    },
    {
     "name": "stdout",
     "output_type": "stream",
     "text": [
      "Moviepy - Done !\n",
      "Moviepy - video ready /home/chenlequn/pan1/Dataset/Laser-Wire-DED-ThermalAudio-Dataset/segmented_videos/Exp_10_40.avi\n",
      "MoviePy - Writing audio in /home/chenlequn/pan1/Dataset/Laser-Wire-DED-ThermalAudio-Dataset/segmented_audio/Exp_10_40.wav\n"
     ]
    },
    {
     "name": "stderr",
     "output_type": "stream",
     "text": [
      "                                                                                                                     \r"
     ]
    },
    {
     "name": "stdout",
     "output_type": "stream",
     "text": [
      "MoviePy - Done.\n",
      "Moviepy - Building video /home/chenlequn/pan1/Dataset/Laser-Wire-DED-ThermalAudio-Dataset/segmented_videos/Exp_10_41.avi.\n",
      "MoviePy - Writing audio in Exp_10_41TEMP_MPY_wvf_snd.mp3\n"
     ]
    },
    {
     "name": "stderr",
     "output_type": "stream",
     "text": [
      "                                                                                                                     \r"
     ]
    },
    {
     "name": "stdout",
     "output_type": "stream",
     "text": [
      "MoviePy - Done.\n",
      "Moviepy - Writing video /home/chenlequn/pan1/Dataset/Laser-Wire-DED-ThermalAudio-Dataset/segmented_videos/Exp_10_41.avi\n",
      "\n"
     ]
    },
    {
     "name": "stderr",
     "output_type": "stream",
     "text": [
      "                                                                                                                     \r"
     ]
    },
    {
     "name": "stdout",
     "output_type": "stream",
     "text": [
      "Moviepy - Done !\n",
      "Moviepy - video ready /home/chenlequn/pan1/Dataset/Laser-Wire-DED-ThermalAudio-Dataset/segmented_videos/Exp_10_41.avi\n",
      "MoviePy - Writing audio in /home/chenlequn/pan1/Dataset/Laser-Wire-DED-ThermalAudio-Dataset/segmented_audio/Exp_10_41.wav\n"
     ]
    },
    {
     "name": "stderr",
     "output_type": "stream",
     "text": [
      "                                                                                                                     "
     ]
    },
    {
     "name": "stdout",
     "output_type": "stream",
     "text": [
      "MoviePy - Done.\n"
     ]
    },
    {
     "name": "stderr",
     "output_type": "stream",
     "text": [
      "\r"
     ]
    },
    {
     "name": "stdout",
     "output_type": "stream",
     "text": [
      "Moviepy - Building video /home/chenlequn/pan1/Dataset/Laser-Wire-DED-ThermalAudio-Dataset/segmented_videos/Exp_10_43.avi.\n",
      "MoviePy - Writing audio in Exp_10_43TEMP_MPY_wvf_snd.mp3\n"
     ]
    },
    {
     "name": "stderr",
     "output_type": "stream",
     "text": [
      "                                                                                                                     \r"
     ]
    },
    {
     "name": "stdout",
     "output_type": "stream",
     "text": [
      "MoviePy - Done.\n",
      "Moviepy - Writing video /home/chenlequn/pan1/Dataset/Laser-Wire-DED-ThermalAudio-Dataset/segmented_videos/Exp_10_43.avi\n",
      "\n"
     ]
    },
    {
     "name": "stderr",
     "output_type": "stream",
     "text": [
      "                                                                                                                     \r"
     ]
    },
    {
     "name": "stdout",
     "output_type": "stream",
     "text": [
      "Moviepy - Done !\n",
      "Moviepy - video ready /home/chenlequn/pan1/Dataset/Laser-Wire-DED-ThermalAudio-Dataset/segmented_videos/Exp_10_43.avi\n",
      "MoviePy - Writing audio in /home/chenlequn/pan1/Dataset/Laser-Wire-DED-ThermalAudio-Dataset/segmented_audio/Exp_10_43.wav\n"
     ]
    },
    {
     "name": "stderr",
     "output_type": "stream",
     "text": [
      "                                                                                                                     \r"
     ]
    },
    {
     "name": "stdout",
     "output_type": "stream",
     "text": [
      "MoviePy - Done.\n",
      "Moviepy - Building video /home/chenlequn/pan1/Dataset/Laser-Wire-DED-ThermalAudio-Dataset/segmented_videos/Exp_10_45.avi.\n",
      "MoviePy - Writing audio in Exp_10_45TEMP_MPY_wvf_snd.mp3\n"
     ]
    },
    {
     "name": "stderr",
     "output_type": "stream",
     "text": [
      "                                                                                                                     \r"
     ]
    },
    {
     "name": "stdout",
     "output_type": "stream",
     "text": [
      "MoviePy - Done.\n",
      "Moviepy - Writing video /home/chenlequn/pan1/Dataset/Laser-Wire-DED-ThermalAudio-Dataset/segmented_videos/Exp_10_45.avi\n",
      "\n"
     ]
    },
    {
     "name": "stderr",
     "output_type": "stream",
     "text": [
      "                                                                                                                     \r"
     ]
    },
    {
     "name": "stdout",
     "output_type": "stream",
     "text": [
      "Moviepy - Done !\n",
      "Moviepy - video ready /home/chenlequn/pan1/Dataset/Laser-Wire-DED-ThermalAudio-Dataset/segmented_videos/Exp_10_45.avi\n",
      "MoviePy - Writing audio in /home/chenlequn/pan1/Dataset/Laser-Wire-DED-ThermalAudio-Dataset/segmented_audio/Exp_10_45.wav\n"
     ]
    },
    {
     "name": "stderr",
     "output_type": "stream",
     "text": [
      "                                                                                                                     \r"
     ]
    },
    {
     "name": "stdout",
     "output_type": "stream",
     "text": [
      "MoviePy - Done.\n",
      "Moviepy - Building video /home/chenlequn/pan1/Dataset/Laser-Wire-DED-ThermalAudio-Dataset/segmented_videos/Exp_10_46.avi.\n",
      "MoviePy - Writing audio in Exp_10_46TEMP_MPY_wvf_snd.mp3\n"
     ]
    },
    {
     "name": "stderr",
     "output_type": "stream",
     "text": [
      "                                                                                                                     \r"
     ]
    },
    {
     "name": "stdout",
     "output_type": "stream",
     "text": [
      "MoviePy - Done.\n",
      "Moviepy - Writing video /home/chenlequn/pan1/Dataset/Laser-Wire-DED-ThermalAudio-Dataset/segmented_videos/Exp_10_46.avi\n",
      "\n"
     ]
    },
    {
     "name": "stderr",
     "output_type": "stream",
     "text": [
      "                                                                                                                     \r"
     ]
    },
    {
     "name": "stdout",
     "output_type": "stream",
     "text": [
      "Moviepy - Done !\n",
      "Moviepy - video ready /home/chenlequn/pan1/Dataset/Laser-Wire-DED-ThermalAudio-Dataset/segmented_videos/Exp_10_46.avi\n",
      "MoviePy - Writing audio in /home/chenlequn/pan1/Dataset/Laser-Wire-DED-ThermalAudio-Dataset/segmented_audio/Exp_10_46.wav\n"
     ]
    },
    {
     "name": "stderr",
     "output_type": "stream",
     "text": [
      "                                                                                                                     \r"
     ]
    },
    {
     "name": "stdout",
     "output_type": "stream",
     "text": [
      "MoviePy - Done.\n",
      "Moviepy - Building video /home/chenlequn/pan1/Dataset/Laser-Wire-DED-ThermalAudio-Dataset/segmented_videos/Exp_10_48.avi.\n",
      "MoviePy - Writing audio in Exp_10_48TEMP_MPY_wvf_snd.mp3\n"
     ]
    },
    {
     "name": "stderr",
     "output_type": "stream",
     "text": [
      "                                                                                                                     \r"
     ]
    },
    {
     "name": "stdout",
     "output_type": "stream",
     "text": [
      "MoviePy - Done.\n",
      "Moviepy - Writing video /home/chenlequn/pan1/Dataset/Laser-Wire-DED-ThermalAudio-Dataset/segmented_videos/Exp_10_48.avi\n",
      "\n"
     ]
    },
    {
     "name": "stderr",
     "output_type": "stream",
     "text": [
      "                                                                                                                     \r"
     ]
    },
    {
     "name": "stdout",
     "output_type": "stream",
     "text": [
      "Moviepy - Done !\n",
      "Moviepy - video ready /home/chenlequn/pan1/Dataset/Laser-Wire-DED-ThermalAudio-Dataset/segmented_videos/Exp_10_48.avi\n",
      "MoviePy - Writing audio in /home/chenlequn/pan1/Dataset/Laser-Wire-DED-ThermalAudio-Dataset/segmented_audio/Exp_10_48.wav\n"
     ]
    },
    {
     "name": "stderr",
     "output_type": "stream",
     "text": [
      "                                                                                                                     "
     ]
    },
    {
     "name": "stdout",
     "output_type": "stream",
     "text": [
      "MoviePy - Done.\n"
     ]
    },
    {
     "name": "stderr",
     "output_type": "stream",
     "text": [
      "\r"
     ]
    },
    {
     "name": "stdout",
     "output_type": "stream",
     "text": [
      "Moviepy - Building video /home/chenlequn/pan1/Dataset/Laser-Wire-DED-ThermalAudio-Dataset/segmented_videos/Exp_10_49.avi.\n",
      "MoviePy - Writing audio in Exp_10_49TEMP_MPY_wvf_snd.mp3\n"
     ]
    },
    {
     "name": "stderr",
     "output_type": "stream",
     "text": [
      "                                                                                                                     \r"
     ]
    },
    {
     "name": "stdout",
     "output_type": "stream",
     "text": [
      "MoviePy - Done.\n",
      "Moviepy - Writing video /home/chenlequn/pan1/Dataset/Laser-Wire-DED-ThermalAudio-Dataset/segmented_videos/Exp_10_49.avi\n",
      "\n"
     ]
    },
    {
     "name": "stderr",
     "output_type": "stream",
     "text": [
      "                                                                                                                     \r"
     ]
    },
    {
     "name": "stdout",
     "output_type": "stream",
     "text": [
      "Moviepy - Done !\n",
      "Moviepy - video ready /home/chenlequn/pan1/Dataset/Laser-Wire-DED-ThermalAudio-Dataset/segmented_videos/Exp_10_49.avi\n",
      "MoviePy - Writing audio in /home/chenlequn/pan1/Dataset/Laser-Wire-DED-ThermalAudio-Dataset/segmented_audio/Exp_10_49.wav\n"
     ]
    },
    {
     "name": "stderr",
     "output_type": "stream",
     "text": [
      "                                                                                                                     \r"
     ]
    },
    {
     "name": "stdout",
     "output_type": "stream",
     "text": [
      "MoviePy - Done.\n",
      "Moviepy - Building video /home/chenlequn/pan1/Dataset/Laser-Wire-DED-ThermalAudio-Dataset/segmented_videos/Exp_10_50.avi.\n",
      "MoviePy - Writing audio in Exp_10_50TEMP_MPY_wvf_snd.mp3\n"
     ]
    },
    {
     "name": "stderr",
     "output_type": "stream",
     "text": [
      "                                                                                                                     \r"
     ]
    },
    {
     "name": "stdout",
     "output_type": "stream",
     "text": [
      "MoviePy - Done.\n",
      "Moviepy - Writing video /home/chenlequn/pan1/Dataset/Laser-Wire-DED-ThermalAudio-Dataset/segmented_videos/Exp_10_50.avi\n",
      "\n"
     ]
    },
    {
     "name": "stderr",
     "output_type": "stream",
     "text": [
      "                                                                                                                     \r"
     ]
    },
    {
     "name": "stdout",
     "output_type": "stream",
     "text": [
      "Moviepy - Done !\n",
      "Moviepy - video ready /home/chenlequn/pan1/Dataset/Laser-Wire-DED-ThermalAudio-Dataset/segmented_videos/Exp_10_50.avi\n",
      "MoviePy - Writing audio in /home/chenlequn/pan1/Dataset/Laser-Wire-DED-ThermalAudio-Dataset/segmented_audio/Exp_10_50.wav\n"
     ]
    },
    {
     "name": "stderr",
     "output_type": "stream",
     "text": [
      "                                                                                                                     "
     ]
    },
    {
     "name": "stdout",
     "output_type": "stream",
     "text": [
      "MoviePy - Done.\n"
     ]
    },
    {
     "name": "stderr",
     "output_type": "stream",
     "text": [
      "\r"
     ]
    },
    {
     "name": "stdout",
     "output_type": "stream",
     "text": [
      "Moviepy - Building video /home/chenlequn/pan1/Dataset/Laser-Wire-DED-ThermalAudio-Dataset/segmented_videos/Exp_10_51.avi.\n",
      "MoviePy - Writing audio in Exp_10_51TEMP_MPY_wvf_snd.mp3\n"
     ]
    },
    {
     "name": "stderr",
     "output_type": "stream",
     "text": [
      "                                                                                                                     \r"
     ]
    },
    {
     "name": "stdout",
     "output_type": "stream",
     "text": [
      "MoviePy - Done.\n",
      "Moviepy - Writing video /home/chenlequn/pan1/Dataset/Laser-Wire-DED-ThermalAudio-Dataset/segmented_videos/Exp_10_51.avi\n",
      "\n"
     ]
    },
    {
     "name": "stderr",
     "output_type": "stream",
     "text": [
      "                                                                                                                     \r"
     ]
    },
    {
     "name": "stdout",
     "output_type": "stream",
     "text": [
      "Moviepy - Done !\n",
      "Moviepy - video ready /home/chenlequn/pan1/Dataset/Laser-Wire-DED-ThermalAudio-Dataset/segmented_videos/Exp_10_51.avi\n",
      "MoviePy - Writing audio in /home/chenlequn/pan1/Dataset/Laser-Wire-DED-ThermalAudio-Dataset/segmented_audio/Exp_10_51.wav\n"
     ]
    },
    {
     "name": "stderr",
     "output_type": "stream",
     "text": [
      "                                                                                                                     \r"
     ]
    },
    {
     "name": "stdout",
     "output_type": "stream",
     "text": [
      "MoviePy - Done.\n",
      "Moviepy - Building video /home/chenlequn/pan1/Dataset/Laser-Wire-DED-ThermalAudio-Dataset/segmented_videos/Exp_10_52.avi.\n",
      "MoviePy - Writing audio in Exp_10_52TEMP_MPY_wvf_snd.mp3\n"
     ]
    },
    {
     "name": "stderr",
     "output_type": "stream",
     "text": [
      "                                                                                                                     \r"
     ]
    },
    {
     "name": "stdout",
     "output_type": "stream",
     "text": [
      "MoviePy - Done.\n",
      "Moviepy - Writing video /home/chenlequn/pan1/Dataset/Laser-Wire-DED-ThermalAudio-Dataset/segmented_videos/Exp_10_52.avi\n",
      "\n"
     ]
    },
    {
     "name": "stderr",
     "output_type": "stream",
     "text": [
      "                                                                                                                     \r"
     ]
    },
    {
     "name": "stdout",
     "output_type": "stream",
     "text": [
      "Moviepy - Done !\n",
      "Moviepy - video ready /home/chenlequn/pan1/Dataset/Laser-Wire-DED-ThermalAudio-Dataset/segmented_videos/Exp_10_52.avi\n",
      "MoviePy - Writing audio in /home/chenlequn/pan1/Dataset/Laser-Wire-DED-ThermalAudio-Dataset/segmented_audio/Exp_10_52.wav\n"
     ]
    },
    {
     "name": "stderr",
     "output_type": "stream",
     "text": [
      "                                                                                                                     "
     ]
    },
    {
     "name": "stdout",
     "output_type": "stream",
     "text": [
      "MoviePy - Done.\n"
     ]
    },
    {
     "name": "stderr",
     "output_type": "stream",
     "text": [
      "\r"
     ]
    },
    {
     "name": "stdout",
     "output_type": "stream",
     "text": [
      "Moviepy - Building video /home/chenlequn/pan1/Dataset/Laser-Wire-DED-ThermalAudio-Dataset/segmented_videos/Exp_10_53.avi.\n",
      "MoviePy - Writing audio in Exp_10_53TEMP_MPY_wvf_snd.mp3\n"
     ]
    },
    {
     "name": "stderr",
     "output_type": "stream",
     "text": [
      "                                                                                                                     \r"
     ]
    },
    {
     "name": "stdout",
     "output_type": "stream",
     "text": [
      "MoviePy - Done.\n",
      "Moviepy - Writing video /home/chenlequn/pan1/Dataset/Laser-Wire-DED-ThermalAudio-Dataset/segmented_videos/Exp_10_53.avi\n",
      "\n"
     ]
    },
    {
     "name": "stderr",
     "output_type": "stream",
     "text": [
      "                                                                                                                     \r"
     ]
    },
    {
     "name": "stdout",
     "output_type": "stream",
     "text": [
      "Moviepy - Done !\n",
      "Moviepy - video ready /home/chenlequn/pan1/Dataset/Laser-Wire-DED-ThermalAudio-Dataset/segmented_videos/Exp_10_53.avi\n",
      "MoviePy - Writing audio in /home/chenlequn/pan1/Dataset/Laser-Wire-DED-ThermalAudio-Dataset/segmented_audio/Exp_10_53.wav\n"
     ]
    },
    {
     "name": "stderr",
     "output_type": "stream",
     "text": [
      "                                                                                                                     "
     ]
    },
    {
     "name": "stdout",
     "output_type": "stream",
     "text": [
      "MoviePy - Done.\n"
     ]
    },
    {
     "name": "stderr",
     "output_type": "stream",
     "text": [
      "\r"
     ]
    },
    {
     "name": "stdout",
     "output_type": "stream",
     "text": [
      "Moviepy - Building video /home/chenlequn/pan1/Dataset/Laser-Wire-DED-ThermalAudio-Dataset/segmented_videos/Exp_10_54.avi.\n",
      "MoviePy - Writing audio in Exp_10_54TEMP_MPY_wvf_snd.mp3\n"
     ]
    },
    {
     "name": "stderr",
     "output_type": "stream",
     "text": [
      "                                                                                                                     \r"
     ]
    },
    {
     "name": "stdout",
     "output_type": "stream",
     "text": [
      "MoviePy - Done.\n",
      "Moviepy - Writing video /home/chenlequn/pan1/Dataset/Laser-Wire-DED-ThermalAudio-Dataset/segmented_videos/Exp_10_54.avi\n",
      "\n"
     ]
    },
    {
     "name": "stderr",
     "output_type": "stream",
     "text": [
      "                                                                                                                     "
     ]
    },
    {
     "name": "stdout",
     "output_type": "stream",
     "text": [
      "Moviepy - Done !\n",
      "Moviepy - video ready /home/chenlequn/pan1/Dataset/Laser-Wire-DED-ThermalAudio-Dataset/segmented_videos/Exp_10_54.avi\n",
      "MoviePy - Writing audio in /home/chenlequn/pan1/Dataset/Laser-Wire-DED-ThermalAudio-Dataset/segmented_audio/Exp_10_54.wav\n"
     ]
    },
    {
     "name": "stderr",
     "output_type": "stream",
     "text": [
      "                                                                                                                     \r"
     ]
    },
    {
     "name": "stdout",
     "output_type": "stream",
     "text": [
      "MoviePy - Done.\n",
      "Moviepy - Building video /home/chenlequn/pan1/Dataset/Laser-Wire-DED-ThermalAudio-Dataset/segmented_videos/Exp_10_55.avi.\n",
      "MoviePy - Writing audio in Exp_10_55TEMP_MPY_wvf_snd.mp3\n"
     ]
    },
    {
     "name": "stderr",
     "output_type": "stream",
     "text": [
      "                                                                                                                     \r"
     ]
    },
    {
     "name": "stdout",
     "output_type": "stream",
     "text": [
      "MoviePy - Done.\n",
      "Moviepy - Writing video /home/chenlequn/pan1/Dataset/Laser-Wire-DED-ThermalAudio-Dataset/segmented_videos/Exp_10_55.avi\n",
      "\n"
     ]
    },
    {
     "name": "stderr",
     "output_type": "stream",
     "text": [
      "                                                                                                                     \r"
     ]
    },
    {
     "name": "stdout",
     "output_type": "stream",
     "text": [
      "Moviepy - Done !\n",
      "Moviepy - video ready /home/chenlequn/pan1/Dataset/Laser-Wire-DED-ThermalAudio-Dataset/segmented_videos/Exp_10_55.avi\n",
      "MoviePy - Writing audio in /home/chenlequn/pan1/Dataset/Laser-Wire-DED-ThermalAudio-Dataset/segmented_audio/Exp_10_55.wav\n"
     ]
    },
    {
     "name": "stderr",
     "output_type": "stream",
     "text": [
      "                                                                                                                     \r"
     ]
    },
    {
     "name": "stdout",
     "output_type": "stream",
     "text": [
      "MoviePy - Done.\n",
      "Moviepy - Building video /home/chenlequn/pan1/Dataset/Laser-Wire-DED-ThermalAudio-Dataset/segmented_videos/Exp_10_56.avi.\n",
      "MoviePy - Writing audio in Exp_10_56TEMP_MPY_wvf_snd.mp3\n"
     ]
    },
    {
     "name": "stderr",
     "output_type": "stream",
     "text": [
      "                                                                                                                     \r"
     ]
    },
    {
     "name": "stdout",
     "output_type": "stream",
     "text": [
      "MoviePy - Done.\n",
      "Moviepy - Writing video /home/chenlequn/pan1/Dataset/Laser-Wire-DED-ThermalAudio-Dataset/segmented_videos/Exp_10_56.avi\n",
      "\n"
     ]
    },
    {
     "name": "stderr",
     "output_type": "stream",
     "text": [
      "                                                                                                                     "
     ]
    },
    {
     "name": "stdout",
     "output_type": "stream",
     "text": [
      "Moviepy - Done !\n",
      "Moviepy - video ready /home/chenlequn/pan1/Dataset/Laser-Wire-DED-ThermalAudio-Dataset/segmented_videos/Exp_10_56.avi\n",
      "MoviePy - Writing audio in /home/chenlequn/pan1/Dataset/Laser-Wire-DED-ThermalAudio-Dataset/segmented_audio/Exp_10_56.wav\n"
     ]
    },
    {
     "name": "stderr",
     "output_type": "stream",
     "text": [
      "                                                                                                                     \r"
     ]
    },
    {
     "name": "stdout",
     "output_type": "stream",
     "text": [
      "MoviePy - Done.\n",
      "Moviepy - Building video /home/chenlequn/pan1/Dataset/Laser-Wire-DED-ThermalAudio-Dataset/segmented_videos/Exp_10_57.avi.\n",
      "MoviePy - Writing audio in Exp_10_57TEMP_MPY_wvf_snd.mp3\n"
     ]
    },
    {
     "name": "stderr",
     "output_type": "stream",
     "text": [
      "                                                                                                                     \r"
     ]
    },
    {
     "name": "stdout",
     "output_type": "stream",
     "text": [
      "MoviePy - Done.\n",
      "Moviepy - Writing video /home/chenlequn/pan1/Dataset/Laser-Wire-DED-ThermalAudio-Dataset/segmented_videos/Exp_10_57.avi\n",
      "\n"
     ]
    },
    {
     "name": "stderr",
     "output_type": "stream",
     "text": [
      "                                                                                                                     \r"
     ]
    },
    {
     "name": "stdout",
     "output_type": "stream",
     "text": [
      "Moviepy - Done !\n",
      "Moviepy - video ready /home/chenlequn/pan1/Dataset/Laser-Wire-DED-ThermalAudio-Dataset/segmented_videos/Exp_10_57.avi\n",
      "MoviePy - Writing audio in /home/chenlequn/pan1/Dataset/Laser-Wire-DED-ThermalAudio-Dataset/segmented_audio/Exp_10_57.wav\n"
     ]
    },
    {
     "name": "stderr",
     "output_type": "stream",
     "text": [
      "                                                                                                                     "
     ]
    },
    {
     "name": "stdout",
     "output_type": "stream",
     "text": [
      "MoviePy - Done.\n"
     ]
    },
    {
     "name": "stderr",
     "output_type": "stream",
     "text": [
      "\r"
     ]
    },
    {
     "name": "stdout",
     "output_type": "stream",
     "text": [
      "Moviepy - Building video /home/chenlequn/pan1/Dataset/Laser-Wire-DED-ThermalAudio-Dataset/segmented_videos/Exp_10_58.avi.\n",
      "MoviePy - Writing audio in Exp_10_58TEMP_MPY_wvf_snd.mp3\n"
     ]
    },
    {
     "name": "stderr",
     "output_type": "stream",
     "text": [
      "                                                                                                                     \r"
     ]
    },
    {
     "name": "stdout",
     "output_type": "stream",
     "text": [
      "MoviePy - Done.\n",
      "Moviepy - Writing video /home/chenlequn/pan1/Dataset/Laser-Wire-DED-ThermalAudio-Dataset/segmented_videos/Exp_10_58.avi\n",
      "\n"
     ]
    },
    {
     "name": "stderr",
     "output_type": "stream",
     "text": [
      "                                                                                                                     \r"
     ]
    },
    {
     "name": "stdout",
     "output_type": "stream",
     "text": [
      "Moviepy - Done !\n",
      "Moviepy - video ready /home/chenlequn/pan1/Dataset/Laser-Wire-DED-ThermalAudio-Dataset/segmented_videos/Exp_10_58.avi\n",
      "MoviePy - Writing audio in /home/chenlequn/pan1/Dataset/Laser-Wire-DED-ThermalAudio-Dataset/segmented_audio/Exp_10_58.wav\n"
     ]
    },
    {
     "name": "stderr",
     "output_type": "stream",
     "text": [
      "                                                                                                                     \r"
     ]
    },
    {
     "name": "stdout",
     "output_type": "stream",
     "text": [
      "MoviePy - Done.\n",
      "Moviepy - Building video /home/chenlequn/pan1/Dataset/Laser-Wire-DED-ThermalAudio-Dataset/segmented_videos/Exp_10_59.avi.\n",
      "MoviePy - Writing audio in Exp_10_59TEMP_MPY_wvf_snd.mp3\n"
     ]
    },
    {
     "name": "stderr",
     "output_type": "stream",
     "text": [
      "                                                                                                                     \r"
     ]
    },
    {
     "name": "stdout",
     "output_type": "stream",
     "text": [
      "MoviePy - Done.\n",
      "Moviepy - Writing video /home/chenlequn/pan1/Dataset/Laser-Wire-DED-ThermalAudio-Dataset/segmented_videos/Exp_10_59.avi\n",
      "\n"
     ]
    },
    {
     "name": "stderr",
     "output_type": "stream",
     "text": [
      "                                                                                                                     "
     ]
    },
    {
     "name": "stdout",
     "output_type": "stream",
     "text": [
      "Moviepy - Done !\n",
      "Moviepy - video ready /home/chenlequn/pan1/Dataset/Laser-Wire-DED-ThermalAudio-Dataset/segmented_videos/Exp_10_59.avi\n",
      "MoviePy - Writing audio in /home/chenlequn/pan1/Dataset/Laser-Wire-DED-ThermalAudio-Dataset/segmented_audio/Exp_10_59.wav\n"
     ]
    },
    {
     "name": "stderr",
     "output_type": "stream",
     "text": [
      "                                                                                                                     \r"
     ]
    },
    {
     "name": "stdout",
     "output_type": "stream",
     "text": [
      "MoviePy - Done.\n",
      "Moviepy - Building video /home/chenlequn/pan1/Dataset/Laser-Wire-DED-ThermalAudio-Dataset/segmented_videos/Exp_10_60.avi.\n",
      "MoviePy - Writing audio in Exp_10_60TEMP_MPY_wvf_snd.mp3\n"
     ]
    },
    {
     "name": "stderr",
     "output_type": "stream",
     "text": [
      "                                                                                                                     \r"
     ]
    },
    {
     "name": "stdout",
     "output_type": "stream",
     "text": [
      "MoviePy - Done.\n",
      "Moviepy - Writing video /home/chenlequn/pan1/Dataset/Laser-Wire-DED-ThermalAudio-Dataset/segmented_videos/Exp_10_60.avi\n",
      "\n"
     ]
    },
    {
     "name": "stderr",
     "output_type": "stream",
     "text": [
      "                                                                                                                     "
     ]
    },
    {
     "name": "stdout",
     "output_type": "stream",
     "text": [
      "Moviepy - Done !\n",
      "Moviepy - video ready /home/chenlequn/pan1/Dataset/Laser-Wire-DED-ThermalAudio-Dataset/segmented_videos/Exp_10_60.avi\n",
      "MoviePy - Writing audio in /home/chenlequn/pan1/Dataset/Laser-Wire-DED-ThermalAudio-Dataset/segmented_audio/Exp_10_60.wav\n"
     ]
    },
    {
     "name": "stderr",
     "output_type": "stream",
     "text": [
      "                                                                                                                     \r"
     ]
    },
    {
     "name": "stdout",
     "output_type": "stream",
     "text": [
      "MoviePy - Done.\n",
      "Moviepy - Building video /home/chenlequn/pan1/Dataset/Laser-Wire-DED-ThermalAudio-Dataset/segmented_videos/Exp_10_61.avi.\n",
      "MoviePy - Writing audio in Exp_10_61TEMP_MPY_wvf_snd.mp3\n"
     ]
    },
    {
     "name": "stderr",
     "output_type": "stream",
     "text": [
      "                                                                                                                     \r"
     ]
    },
    {
     "name": "stdout",
     "output_type": "stream",
     "text": [
      "MoviePy - Done.\n",
      "Moviepy - Writing video /home/chenlequn/pan1/Dataset/Laser-Wire-DED-ThermalAudio-Dataset/segmented_videos/Exp_10_61.avi\n",
      "\n"
     ]
    },
    {
     "name": "stderr",
     "output_type": "stream",
     "text": [
      "                                                                                                                     "
     ]
    },
    {
     "name": "stdout",
     "output_type": "stream",
     "text": [
      "Moviepy - Done !\n",
      "Moviepy - video ready /home/chenlequn/pan1/Dataset/Laser-Wire-DED-ThermalAudio-Dataset/segmented_videos/Exp_10_61.avi\n",
      "MoviePy - Writing audio in /home/chenlequn/pan1/Dataset/Laser-Wire-DED-ThermalAudio-Dataset/segmented_audio/Exp_10_61.wav\n"
     ]
    },
    {
     "name": "stderr",
     "output_type": "stream",
     "text": [
      "                                                                                                                     \r"
     ]
    },
    {
     "name": "stdout",
     "output_type": "stream",
     "text": [
      "MoviePy - Done.\n",
      "Moviepy - Building video /home/chenlequn/pan1/Dataset/Laser-Wire-DED-ThermalAudio-Dataset/segmented_videos/Exp_10_62.avi.\n",
      "MoviePy - Writing audio in Exp_10_62TEMP_MPY_wvf_snd.mp3\n"
     ]
    },
    {
     "name": "stderr",
     "output_type": "stream",
     "text": [
      "                                                                                                                     \r"
     ]
    },
    {
     "name": "stdout",
     "output_type": "stream",
     "text": [
      "MoviePy - Done.\n",
      "Moviepy - Writing video /home/chenlequn/pan1/Dataset/Laser-Wire-DED-ThermalAudio-Dataset/segmented_videos/Exp_10_62.avi\n",
      "\n"
     ]
    },
    {
     "name": "stderr",
     "output_type": "stream",
     "text": [
      "                                                                                                                     \r"
     ]
    },
    {
     "name": "stdout",
     "output_type": "stream",
     "text": [
      "Moviepy - Done !\n",
      "Moviepy - video ready /home/chenlequn/pan1/Dataset/Laser-Wire-DED-ThermalAudio-Dataset/segmented_videos/Exp_10_62.avi\n",
      "MoviePy - Writing audio in /home/chenlequn/pan1/Dataset/Laser-Wire-DED-ThermalAudio-Dataset/segmented_audio/Exp_10_62.wav\n"
     ]
    },
    {
     "name": "stderr",
     "output_type": "stream",
     "text": [
      "                                                                                                                     "
     ]
    },
    {
     "name": "stdout",
     "output_type": "stream",
     "text": [
      "MoviePy - Done.\n"
     ]
    },
    {
     "name": "stderr",
     "output_type": "stream",
     "text": [
      "\r"
     ]
    },
    {
     "name": "stdout",
     "output_type": "stream",
     "text": [
      "Moviepy - Building video /home/chenlequn/pan1/Dataset/Laser-Wire-DED-ThermalAudio-Dataset/segmented_videos/Exp_10_63.avi.\n",
      "MoviePy - Writing audio in Exp_10_63TEMP_MPY_wvf_snd.mp3\n"
     ]
    },
    {
     "name": "stderr",
     "output_type": "stream",
     "text": [
      "                                                                                                                     \r"
     ]
    },
    {
     "name": "stdout",
     "output_type": "stream",
     "text": [
      "MoviePy - Done.\n",
      "Moviepy - Writing video /home/chenlequn/pan1/Dataset/Laser-Wire-DED-ThermalAudio-Dataset/segmented_videos/Exp_10_63.avi\n",
      "\n"
     ]
    },
    {
     "name": "stderr",
     "output_type": "stream",
     "text": [
      "                                                                                                                     \r"
     ]
    },
    {
     "name": "stdout",
     "output_type": "stream",
     "text": [
      "Moviepy - Done !\n",
      "Moviepy - video ready /home/chenlequn/pan1/Dataset/Laser-Wire-DED-ThermalAudio-Dataset/segmented_videos/Exp_10_63.avi\n",
      "MoviePy - Writing audio in /home/chenlequn/pan1/Dataset/Laser-Wire-DED-ThermalAudio-Dataset/segmented_audio/Exp_10_63.wav\n"
     ]
    },
    {
     "name": "stderr",
     "output_type": "stream",
     "text": [
      "                                                                                                                     "
     ]
    },
    {
     "name": "stdout",
     "output_type": "stream",
     "text": [
      "MoviePy - Done.\n"
     ]
    },
    {
     "name": "stderr",
     "output_type": "stream",
     "text": [
      "\r"
     ]
    },
    {
     "name": "stdout",
     "output_type": "stream",
     "text": [
      "Moviepy - Building video /home/chenlequn/pan1/Dataset/Laser-Wire-DED-ThermalAudio-Dataset/segmented_videos/Exp_10_64.avi.\n",
      "MoviePy - Writing audio in Exp_10_64TEMP_MPY_wvf_snd.mp3\n"
     ]
    },
    {
     "name": "stderr",
     "output_type": "stream",
     "text": [
      "                                                                                                                     \r"
     ]
    },
    {
     "name": "stdout",
     "output_type": "stream",
     "text": [
      "MoviePy - Done.\n",
      "Moviepy - Writing video /home/chenlequn/pan1/Dataset/Laser-Wire-DED-ThermalAudio-Dataset/segmented_videos/Exp_10_64.avi\n",
      "\n"
     ]
    },
    {
     "name": "stderr",
     "output_type": "stream",
     "text": [
      "                                                                                                                     \r"
     ]
    },
    {
     "name": "stdout",
     "output_type": "stream",
     "text": [
      "Moviepy - Done !\n",
      "Moviepy - video ready /home/chenlequn/pan1/Dataset/Laser-Wire-DED-ThermalAudio-Dataset/segmented_videos/Exp_10_64.avi\n",
      "MoviePy - Writing audio in /home/chenlequn/pan1/Dataset/Laser-Wire-DED-ThermalAudio-Dataset/segmented_audio/Exp_10_64.wav\n"
     ]
    },
    {
     "name": "stderr",
     "output_type": "stream",
     "text": [
      "                                                                                                                     "
     ]
    },
    {
     "name": "stdout",
     "output_type": "stream",
     "text": [
      "MoviePy - Done.\n"
     ]
    },
    {
     "name": "stderr",
     "output_type": "stream",
     "text": [
      "\r"
     ]
    },
    {
     "name": "stdout",
     "output_type": "stream",
     "text": [
      "Moviepy - Building video /home/chenlequn/pan1/Dataset/Laser-Wire-DED-ThermalAudio-Dataset/segmented_videos/Exp_10_65.avi.\n",
      "MoviePy - Writing audio in Exp_10_65TEMP_MPY_wvf_snd.mp3\n"
     ]
    },
    {
     "name": "stderr",
     "output_type": "stream",
     "text": [
      "                                                                                                                     \r"
     ]
    },
    {
     "name": "stdout",
     "output_type": "stream",
     "text": [
      "MoviePy - Done.\n",
      "Moviepy - Writing video /home/chenlequn/pan1/Dataset/Laser-Wire-DED-ThermalAudio-Dataset/segmented_videos/Exp_10_65.avi\n",
      "\n"
     ]
    },
    {
     "name": "stderr",
     "output_type": "stream",
     "text": [
      "                                                                                                                     \r"
     ]
    },
    {
     "name": "stdout",
     "output_type": "stream",
     "text": [
      "Moviepy - Done !\n",
      "Moviepy - video ready /home/chenlequn/pan1/Dataset/Laser-Wire-DED-ThermalAudio-Dataset/segmented_videos/Exp_10_65.avi\n",
      "MoviePy - Writing audio in /home/chenlequn/pan1/Dataset/Laser-Wire-DED-ThermalAudio-Dataset/segmented_audio/Exp_10_65.wav\n"
     ]
    },
    {
     "name": "stderr",
     "output_type": "stream",
     "text": [
      "                                                                                                                     "
     ]
    },
    {
     "name": "stdout",
     "output_type": "stream",
     "text": [
      "MoviePy - Done.\n"
     ]
    },
    {
     "name": "stderr",
     "output_type": "stream",
     "text": [
      "\r"
     ]
    },
    {
     "name": "stdout",
     "output_type": "stream",
     "text": [
      "Moviepy - Building video /home/chenlequn/pan1/Dataset/Laser-Wire-DED-ThermalAudio-Dataset/segmented_videos/Exp_April_16_1.avi.\n",
      "MoviePy - Writing audio in Exp_April_16_1TEMP_MPY_wvf_snd.mp3\n"
     ]
    },
    {
     "name": "stderr",
     "output_type": "stream",
     "text": [
      "                                                                                                                     \r"
     ]
    },
    {
     "name": "stdout",
     "output_type": "stream",
     "text": [
      "MoviePy - Done.\n",
      "Moviepy - Writing video /home/chenlequn/pan1/Dataset/Laser-Wire-DED-ThermalAudio-Dataset/segmented_videos/Exp_April_16_1.avi\n",
      "\n"
     ]
    },
    {
     "name": "stderr",
     "output_type": "stream",
     "text": [
      "                                                                                                                     \r"
     ]
    },
    {
     "name": "stdout",
     "output_type": "stream",
     "text": [
      "Moviepy - Done !\n",
      "Moviepy - video ready /home/chenlequn/pan1/Dataset/Laser-Wire-DED-ThermalAudio-Dataset/segmented_videos/Exp_April_16_1.avi\n",
      "MoviePy - Writing audio in /home/chenlequn/pan1/Dataset/Laser-Wire-DED-ThermalAudio-Dataset/segmented_audio/Exp_April_16_1.wav\n"
     ]
    },
    {
     "name": "stderr",
     "output_type": "stream",
     "text": [
      "                                                                                                                     \r"
     ]
    },
    {
     "name": "stdout",
     "output_type": "stream",
     "text": [
      "MoviePy - Done.\n",
      "Moviepy - Building video /home/chenlequn/pan1/Dataset/Laser-Wire-DED-ThermalAudio-Dataset/segmented_videos/Exp_April_16_3.avi.\n",
      "MoviePy - Writing audio in Exp_April_16_3TEMP_MPY_wvf_snd.mp3\n"
     ]
    },
    {
     "name": "stderr",
     "output_type": "stream",
     "text": [
      "                                                                                                                     \r"
     ]
    },
    {
     "name": "stdout",
     "output_type": "stream",
     "text": [
      "MoviePy - Done.\n",
      "Moviepy - Writing video /home/chenlequn/pan1/Dataset/Laser-Wire-DED-ThermalAudio-Dataset/segmented_videos/Exp_April_16_3.avi\n",
      "\n"
     ]
    },
    {
     "name": "stderr",
     "output_type": "stream",
     "text": [
      "                                                                                                                     \r"
     ]
    },
    {
     "name": "stdout",
     "output_type": "stream",
     "text": [
      "Moviepy - Done !\n",
      "Moviepy - video ready /home/chenlequn/pan1/Dataset/Laser-Wire-DED-ThermalAudio-Dataset/segmented_videos/Exp_April_16_3.avi\n",
      "MoviePy - Writing audio in /home/chenlequn/pan1/Dataset/Laser-Wire-DED-ThermalAudio-Dataset/segmented_audio/Exp_April_16_3.wav\n"
     ]
    },
    {
     "name": "stderr",
     "output_type": "stream",
     "text": [
      "                                                                                                                     \r"
     ]
    },
    {
     "name": "stdout",
     "output_type": "stream",
     "text": [
      "MoviePy - Done.\n",
      "Moviepy - Building video /home/chenlequn/pan1/Dataset/Laser-Wire-DED-ThermalAudio-Dataset/segmented_videos/Exp_April_16_5.avi.\n",
      "MoviePy - Writing audio in Exp_April_16_5TEMP_MPY_wvf_snd.mp3\n"
     ]
    },
    {
     "name": "stderr",
     "output_type": "stream",
     "text": [
      "                                                                                                                     \r"
     ]
    },
    {
     "name": "stdout",
     "output_type": "stream",
     "text": [
      "MoviePy - Done.\n",
      "Moviepy - Writing video /home/chenlequn/pan1/Dataset/Laser-Wire-DED-ThermalAudio-Dataset/segmented_videos/Exp_April_16_5.avi\n",
      "\n"
     ]
    },
    {
     "name": "stderr",
     "output_type": "stream",
     "text": [
      "                                                                                                                     \r"
     ]
    },
    {
     "name": "stdout",
     "output_type": "stream",
     "text": [
      "Moviepy - Done !\n",
      "Moviepy - video ready /home/chenlequn/pan1/Dataset/Laser-Wire-DED-ThermalAudio-Dataset/segmented_videos/Exp_April_16_5.avi\n",
      "MoviePy - Writing audio in /home/chenlequn/pan1/Dataset/Laser-Wire-DED-ThermalAudio-Dataset/segmented_audio/Exp_April_16_5.wav\n"
     ]
    },
    {
     "name": "stderr",
     "output_type": "stream",
     "text": [
      "                                                                                                                     \r"
     ]
    },
    {
     "name": "stdout",
     "output_type": "stream",
     "text": [
      "MoviePy - Done.\n",
      "Moviepy - Building video /home/chenlequn/pan1/Dataset/Laser-Wire-DED-ThermalAudio-Dataset/segmented_videos/Exp_April_16_7.avi.\n",
      "MoviePy - Writing audio in Exp_April_16_7TEMP_MPY_wvf_snd.mp3\n"
     ]
    },
    {
     "name": "stderr",
     "output_type": "stream",
     "text": [
      "                                                                                                                     \r"
     ]
    },
    {
     "name": "stdout",
     "output_type": "stream",
     "text": [
      "MoviePy - Done.\n",
      "Moviepy - Writing video /home/chenlequn/pan1/Dataset/Laser-Wire-DED-ThermalAudio-Dataset/segmented_videos/Exp_April_16_7.avi\n",
      "\n"
     ]
    },
    {
     "name": "stderr",
     "output_type": "stream",
     "text": [
      "                                                                                                                     \r"
     ]
    },
    {
     "name": "stdout",
     "output_type": "stream",
     "text": [
      "Moviepy - Done !\n",
      "Moviepy - video ready /home/chenlequn/pan1/Dataset/Laser-Wire-DED-ThermalAudio-Dataset/segmented_videos/Exp_April_16_7.avi\n",
      "MoviePy - Writing audio in /home/chenlequn/pan1/Dataset/Laser-Wire-DED-ThermalAudio-Dataset/segmented_audio/Exp_April_16_7.wav\n"
     ]
    },
    {
     "name": "stderr",
     "output_type": "stream",
     "text": [
      "                                                                                                                     \r"
     ]
    },
    {
     "name": "stdout",
     "output_type": "stream",
     "text": [
      "MoviePy - Done.\n",
      "Moviepy - Building video /home/chenlequn/pan1/Dataset/Laser-Wire-DED-ThermalAudio-Dataset/segmented_videos/Exp_April_16_8.avi.\n",
      "MoviePy - Writing audio in Exp_April_16_8TEMP_MPY_wvf_snd.mp3\n"
     ]
    },
    {
     "name": "stderr",
     "output_type": "stream",
     "text": [
      "                                                                                                                     \r"
     ]
    },
    {
     "name": "stdout",
     "output_type": "stream",
     "text": [
      "MoviePy - Done.\n",
      "Moviepy - Writing video /home/chenlequn/pan1/Dataset/Laser-Wire-DED-ThermalAudio-Dataset/segmented_videos/Exp_April_16_8.avi\n",
      "\n"
     ]
    },
    {
     "name": "stderr",
     "output_type": "stream",
     "text": [
      "                                                                                                                     \r"
     ]
    },
    {
     "name": "stdout",
     "output_type": "stream",
     "text": [
      "Moviepy - Done !\n",
      "Moviepy - video ready /home/chenlequn/pan1/Dataset/Laser-Wire-DED-ThermalAudio-Dataset/segmented_videos/Exp_April_16_8.avi\n",
      "MoviePy - Writing audio in /home/chenlequn/pan1/Dataset/Laser-Wire-DED-ThermalAudio-Dataset/segmented_audio/Exp_April_16_8.wav\n"
     ]
    },
    {
     "name": "stderr",
     "output_type": "stream",
     "text": [
      "                                                                                                                     \r"
     ]
    },
    {
     "name": "stdout",
     "output_type": "stream",
     "text": [
      "MoviePy - Done.\n",
      "Moviepy - Building video /home/chenlequn/pan1/Dataset/Laser-Wire-DED-ThermalAudio-Dataset/segmented_videos/Exp_April_16_10.avi.\n",
      "MoviePy - Writing audio in Exp_April_16_10TEMP_MPY_wvf_snd.mp3\n"
     ]
    },
    {
     "name": "stderr",
     "output_type": "stream",
     "text": [
      "                                                                                                                     "
     ]
    },
    {
     "name": "stdout",
     "output_type": "stream",
     "text": [
      "MoviePy - Done.\n",
      "Moviepy - Writing video /home/chenlequn/pan1/Dataset/Laser-Wire-DED-ThermalAudio-Dataset/segmented_videos/Exp_April_16_10.avi\n",
      "\n"
     ]
    },
    {
     "name": "stderr",
     "output_type": "stream",
     "text": [
      "                                                                                                                     \r"
     ]
    },
    {
     "name": "stdout",
     "output_type": "stream",
     "text": [
      "Moviepy - Done !\n",
      "Moviepy - video ready /home/chenlequn/pan1/Dataset/Laser-Wire-DED-ThermalAudio-Dataset/segmented_videos/Exp_April_16_10.avi\n",
      "MoviePy - Writing audio in /home/chenlequn/pan1/Dataset/Laser-Wire-DED-ThermalAudio-Dataset/segmented_audio/Exp_April_16_10.wav\n"
     ]
    },
    {
     "name": "stderr",
     "output_type": "stream",
     "text": [
      "                                                                                                                     \r"
     ]
    },
    {
     "name": "stdout",
     "output_type": "stream",
     "text": [
      "MoviePy - Done.\n",
      "Moviepy - Building video /home/chenlequn/pan1/Dataset/Laser-Wire-DED-ThermalAudio-Dataset/segmented_videos/Exp_April_16_12.avi.\n",
      "MoviePy - Writing audio in Exp_April_16_12TEMP_MPY_wvf_snd.mp3\n"
     ]
    },
    {
     "name": "stderr",
     "output_type": "stream",
     "text": [
      "                                                                                                                     \r"
     ]
    },
    {
     "name": "stdout",
     "output_type": "stream",
     "text": [
      "MoviePy - Done.\n",
      "Moviepy - Writing video /home/chenlequn/pan1/Dataset/Laser-Wire-DED-ThermalAudio-Dataset/segmented_videos/Exp_April_16_12.avi\n",
      "\n"
     ]
    },
    {
     "name": "stderr",
     "output_type": "stream",
     "text": [
      "                                                                                                                     \r"
     ]
    },
    {
     "name": "stdout",
     "output_type": "stream",
     "text": [
      "Moviepy - Done !\n",
      "Moviepy - video ready /home/chenlequn/pan1/Dataset/Laser-Wire-DED-ThermalAudio-Dataset/segmented_videos/Exp_April_16_12.avi\n",
      "MoviePy - Writing audio in /home/chenlequn/pan1/Dataset/Laser-Wire-DED-ThermalAudio-Dataset/segmented_audio/Exp_April_16_12.wav\n"
     ]
    },
    {
     "name": "stderr",
     "output_type": "stream",
     "text": [
      "                                                                                                                     \r"
     ]
    },
    {
     "name": "stdout",
     "output_type": "stream",
     "text": [
      "MoviePy - Done.\n",
      "Moviepy - Building video /home/chenlequn/pan1/Dataset/Laser-Wire-DED-ThermalAudio-Dataset/segmented_videos/Exp_April_16_14.avi.\n",
      "MoviePy - Writing audio in Exp_April_16_14TEMP_MPY_wvf_snd.mp3\n"
     ]
    },
    {
     "name": "stderr",
     "output_type": "stream",
     "text": [
      "                                                                                                                     \r"
     ]
    },
    {
     "name": "stdout",
     "output_type": "stream",
     "text": [
      "MoviePy - Done.\n",
      "Moviepy - Writing video /home/chenlequn/pan1/Dataset/Laser-Wire-DED-ThermalAudio-Dataset/segmented_videos/Exp_April_16_14.avi\n",
      "\n"
     ]
    },
    {
     "name": "stderr",
     "output_type": "stream",
     "text": [
      "                                                                                                                     \r"
     ]
    },
    {
     "name": "stdout",
     "output_type": "stream",
     "text": [
      "Moviepy - Done !\n",
      "Moviepy - video ready /home/chenlequn/pan1/Dataset/Laser-Wire-DED-ThermalAudio-Dataset/segmented_videos/Exp_April_16_14.avi\n",
      "MoviePy - Writing audio in /home/chenlequn/pan1/Dataset/Laser-Wire-DED-ThermalAudio-Dataset/segmented_audio/Exp_April_16_14.wav\n"
     ]
    },
    {
     "name": "stderr",
     "output_type": "stream",
     "text": [
      "                                                                                                                     \r"
     ]
    },
    {
     "name": "stdout",
     "output_type": "stream",
     "text": [
      "MoviePy - Done.\n",
      "Moviepy - Building video /home/chenlequn/pan1/Dataset/Laser-Wire-DED-ThermalAudio-Dataset/segmented_videos/Exp_April_16_16.avi.\n",
      "MoviePy - Writing audio in Exp_April_16_16TEMP_MPY_wvf_snd.mp3\n"
     ]
    },
    {
     "name": "stderr",
     "output_type": "stream",
     "text": [
      "                                                                                                                     "
     ]
    },
    {
     "name": "stdout",
     "output_type": "stream",
     "text": [
      "MoviePy - Done.\n",
      "Moviepy - Writing video /home/chenlequn/pan1/Dataset/Laser-Wire-DED-ThermalAudio-Dataset/segmented_videos/Exp_April_16_16.avi\n",
      "\n"
     ]
    },
    {
     "name": "stderr",
     "output_type": "stream",
     "text": [
      "                                                                                                                     \r"
     ]
    },
    {
     "name": "stdout",
     "output_type": "stream",
     "text": [
      "Moviepy - Done !\n",
      "Moviepy - video ready /home/chenlequn/pan1/Dataset/Laser-Wire-DED-ThermalAudio-Dataset/segmented_videos/Exp_April_16_16.avi\n",
      "MoviePy - Writing audio in /home/chenlequn/pan1/Dataset/Laser-Wire-DED-ThermalAudio-Dataset/segmented_audio/Exp_April_16_16.wav\n"
     ]
    },
    {
     "name": "stderr",
     "output_type": "stream",
     "text": [
      "                                                                                                                     \r"
     ]
    },
    {
     "name": "stdout",
     "output_type": "stream",
     "text": [
      "MoviePy - Done.\n",
      "Moviepy - Building video /home/chenlequn/pan1/Dataset/Laser-Wire-DED-ThermalAudio-Dataset/segmented_videos/Exp_April_16_18.avi.\n",
      "MoviePy - Writing audio in Exp_April_16_18TEMP_MPY_wvf_snd.mp3\n"
     ]
    },
    {
     "name": "stderr",
     "output_type": "stream",
     "text": [
      "                                                                                                                     \r"
     ]
    },
    {
     "name": "stdout",
     "output_type": "stream",
     "text": [
      "MoviePy - Done.\n",
      "Moviepy - Writing video /home/chenlequn/pan1/Dataset/Laser-Wire-DED-ThermalAudio-Dataset/segmented_videos/Exp_April_16_18.avi\n",
      "\n"
     ]
    },
    {
     "name": "stderr",
     "output_type": "stream",
     "text": [
      "                                                                                                                     \r"
     ]
    },
    {
     "name": "stdout",
     "output_type": "stream",
     "text": [
      "Moviepy - Done !\n",
      "Moviepy - video ready /home/chenlequn/pan1/Dataset/Laser-Wire-DED-ThermalAudio-Dataset/segmented_videos/Exp_April_16_18.avi\n",
      "MoviePy - Writing audio in /home/chenlequn/pan1/Dataset/Laser-Wire-DED-ThermalAudio-Dataset/segmented_audio/Exp_April_16_18.wav\n"
     ]
    },
    {
     "name": "stderr",
     "output_type": "stream",
     "text": [
      "                                                                                                                     \r"
     ]
    },
    {
     "name": "stdout",
     "output_type": "stream",
     "text": [
      "MoviePy - Done.\n",
      "Moviepy - Building video /home/chenlequn/pan1/Dataset/Laser-Wire-DED-ThermalAudio-Dataset/segmented_videos/Exp_April_16_20.avi.\n",
      "MoviePy - Writing audio in Exp_April_16_20TEMP_MPY_wvf_snd.mp3\n"
     ]
    },
    {
     "name": "stderr",
     "output_type": "stream",
     "text": [
      "                                                                                                                     \r"
     ]
    },
    {
     "name": "stdout",
     "output_type": "stream",
     "text": [
      "MoviePy - Done.\n",
      "Moviepy - Writing video /home/chenlequn/pan1/Dataset/Laser-Wire-DED-ThermalAudio-Dataset/segmented_videos/Exp_April_16_20.avi\n",
      "\n"
     ]
    },
    {
     "name": "stderr",
     "output_type": "stream",
     "text": [
      "                                                                                                                     \r"
     ]
    },
    {
     "name": "stdout",
     "output_type": "stream",
     "text": [
      "Moviepy - Done !\n",
      "Moviepy - video ready /home/chenlequn/pan1/Dataset/Laser-Wire-DED-ThermalAudio-Dataset/segmented_videos/Exp_April_16_20.avi\n",
      "MoviePy - Writing audio in /home/chenlequn/pan1/Dataset/Laser-Wire-DED-ThermalAudio-Dataset/segmented_audio/Exp_April_16_20.wav\n"
     ]
    },
    {
     "name": "stderr",
     "output_type": "stream",
     "text": [
      "                                                                                                                     \r"
     ]
    },
    {
     "name": "stdout",
     "output_type": "stream",
     "text": [
      "MoviePy - Done.\n",
      "Moviepy - Building video /home/chenlequn/pan1/Dataset/Laser-Wire-DED-ThermalAudio-Dataset/segmented_videos/Exp_April_16_22.avi.\n",
      "MoviePy - Writing audio in Exp_April_16_22TEMP_MPY_wvf_snd.mp3\n"
     ]
    },
    {
     "name": "stderr",
     "output_type": "stream",
     "text": [
      "                                                                                                                     "
     ]
    },
    {
     "name": "stdout",
     "output_type": "stream",
     "text": [
      "MoviePy - Done.\n",
      "Moviepy - Writing video /home/chenlequn/pan1/Dataset/Laser-Wire-DED-ThermalAudio-Dataset/segmented_videos/Exp_April_16_22.avi\n",
      "\n"
     ]
    },
    {
     "name": "stderr",
     "output_type": "stream",
     "text": [
      "                                                                                                                     \r"
     ]
    },
    {
     "name": "stdout",
     "output_type": "stream",
     "text": [
      "Moviepy - Done !\n",
      "Moviepy - video ready /home/chenlequn/pan1/Dataset/Laser-Wire-DED-ThermalAudio-Dataset/segmented_videos/Exp_April_16_22.avi\n",
      "MoviePy - Writing audio in /home/chenlequn/pan1/Dataset/Laser-Wire-DED-ThermalAudio-Dataset/segmented_audio/Exp_April_16_22.wav\n"
     ]
    },
    {
     "name": "stderr",
     "output_type": "stream",
     "text": [
      "                                                                                                                     \r"
     ]
    },
    {
     "name": "stdout",
     "output_type": "stream",
     "text": [
      "MoviePy - Done.\n",
      "Moviepy - Building video /home/chenlequn/pan1/Dataset/Laser-Wire-DED-ThermalAudio-Dataset/segmented_videos/Exp_April_16_24.avi.\n",
      "MoviePy - Writing audio in Exp_April_16_24TEMP_MPY_wvf_snd.mp3\n"
     ]
    },
    {
     "name": "stderr",
     "output_type": "stream",
     "text": [
      "                                                                                                                     \r"
     ]
    },
    {
     "name": "stdout",
     "output_type": "stream",
     "text": [
      "MoviePy - Done.\n",
      "Moviepy - Writing video /home/chenlequn/pan1/Dataset/Laser-Wire-DED-ThermalAudio-Dataset/segmented_videos/Exp_April_16_24.avi\n",
      "\n"
     ]
    },
    {
     "name": "stderr",
     "output_type": "stream",
     "text": [
      "                                                                                                                     \r"
     ]
    },
    {
     "name": "stdout",
     "output_type": "stream",
     "text": [
      "Moviepy - Done !\n",
      "Moviepy - video ready /home/chenlequn/pan1/Dataset/Laser-Wire-DED-ThermalAudio-Dataset/segmented_videos/Exp_April_16_24.avi\n",
      "MoviePy - Writing audio in /home/chenlequn/pan1/Dataset/Laser-Wire-DED-ThermalAudio-Dataset/segmented_audio/Exp_April_16_24.wav\n"
     ]
    },
    {
     "name": "stderr",
     "output_type": "stream",
     "text": [
      "                                                                                                                     \r"
     ]
    },
    {
     "name": "stdout",
     "output_type": "stream",
     "text": [
      "MoviePy - Done.\n",
      "Moviepy - Building video /home/chenlequn/pan1/Dataset/Laser-Wire-DED-ThermalAudio-Dataset/segmented_videos/Exp_April_16_26.avi.\n",
      "MoviePy - Writing audio in Exp_April_16_26TEMP_MPY_wvf_snd.mp3\n"
     ]
    },
    {
     "name": "stderr",
     "output_type": "stream",
     "text": [
      "                                                                                                                     \r"
     ]
    },
    {
     "name": "stdout",
     "output_type": "stream",
     "text": [
      "MoviePy - Done.\n",
      "Moviepy - Writing video /home/chenlequn/pan1/Dataset/Laser-Wire-DED-ThermalAudio-Dataset/segmented_videos/Exp_April_16_26.avi\n",
      "\n"
     ]
    },
    {
     "name": "stderr",
     "output_type": "stream",
     "text": [
      "                                                                                                                     \r"
     ]
    },
    {
     "name": "stdout",
     "output_type": "stream",
     "text": [
      "Moviepy - Done !\n",
      "Moviepy - video ready /home/chenlequn/pan1/Dataset/Laser-Wire-DED-ThermalAudio-Dataset/segmented_videos/Exp_April_16_26.avi\n",
      "MoviePy - Writing audio in /home/chenlequn/pan1/Dataset/Laser-Wire-DED-ThermalAudio-Dataset/segmented_audio/Exp_April_16_26.wav\n"
     ]
    },
    {
     "name": "stderr",
     "output_type": "stream",
     "text": [
      "                                                                                                                     \r"
     ]
    },
    {
     "name": "stdout",
     "output_type": "stream",
     "text": [
      "MoviePy - Done.\n",
      "Moviepy - Building video /home/chenlequn/pan1/Dataset/Laser-Wire-DED-ThermalAudio-Dataset/segmented_videos/Exp_April_16_28.avi.\n",
      "MoviePy - Writing audio in Exp_April_16_28TEMP_MPY_wvf_snd.mp3\n"
     ]
    },
    {
     "name": "stderr",
     "output_type": "stream",
     "text": [
      "                                                                                                                     \r"
     ]
    },
    {
     "name": "stdout",
     "output_type": "stream",
     "text": [
      "MoviePy - Done.\n",
      "Moviepy - Writing video /home/chenlequn/pan1/Dataset/Laser-Wire-DED-ThermalAudio-Dataset/segmented_videos/Exp_April_16_28.avi\n",
      "\n"
     ]
    },
    {
     "name": "stderr",
     "output_type": "stream",
     "text": [
      "                                                                                                                     \r"
     ]
    },
    {
     "name": "stdout",
     "output_type": "stream",
     "text": [
      "Moviepy - Done !\n",
      "Moviepy - video ready /home/chenlequn/pan1/Dataset/Laser-Wire-DED-ThermalAudio-Dataset/segmented_videos/Exp_April_16_28.avi\n",
      "MoviePy - Writing audio in /home/chenlequn/pan1/Dataset/Laser-Wire-DED-ThermalAudio-Dataset/segmented_audio/Exp_April_16_28.wav\n"
     ]
    },
    {
     "name": "stderr",
     "output_type": "stream",
     "text": [
      "                                                                                                                     \r"
     ]
    },
    {
     "name": "stdout",
     "output_type": "stream",
     "text": [
      "MoviePy - Done.\n",
      "Moviepy - Building video /home/chenlequn/pan1/Dataset/Laser-Wire-DED-ThermalAudio-Dataset/segmented_videos/Exp_April_16_30.avi.\n",
      "MoviePy - Writing audio in Exp_April_16_30TEMP_MPY_wvf_snd.mp3\n"
     ]
    },
    {
     "name": "stderr",
     "output_type": "stream",
     "text": [
      "                                                                                                                     \r"
     ]
    },
    {
     "name": "stdout",
     "output_type": "stream",
     "text": [
      "MoviePy - Done.\n",
      "Moviepy - Writing video /home/chenlequn/pan1/Dataset/Laser-Wire-DED-ThermalAudio-Dataset/segmented_videos/Exp_April_16_30.avi\n",
      "\n"
     ]
    },
    {
     "name": "stderr",
     "output_type": "stream",
     "text": [
      "                                                                                                                     \r"
     ]
    },
    {
     "name": "stdout",
     "output_type": "stream",
     "text": [
      "Moviepy - Done !\n",
      "Moviepy - video ready /home/chenlequn/pan1/Dataset/Laser-Wire-DED-ThermalAudio-Dataset/segmented_videos/Exp_April_16_30.avi\n",
      "MoviePy - Writing audio in /home/chenlequn/pan1/Dataset/Laser-Wire-DED-ThermalAudio-Dataset/segmented_audio/Exp_April_16_30.wav\n"
     ]
    },
    {
     "name": "stderr",
     "output_type": "stream",
     "text": [
      "                                                                                                                     \r"
     ]
    },
    {
     "name": "stdout",
     "output_type": "stream",
     "text": [
      "MoviePy - Done.\n",
      "Moviepy - Building video /home/chenlequn/pan1/Dataset/Laser-Wire-DED-ThermalAudio-Dataset/segmented_videos/Exp_April_16_32.avi.\n",
      "MoviePy - Writing audio in Exp_April_16_32TEMP_MPY_wvf_snd.mp3\n"
     ]
    },
    {
     "name": "stderr",
     "output_type": "stream",
     "text": [
      "                                                                                                                     \r"
     ]
    },
    {
     "name": "stdout",
     "output_type": "stream",
     "text": [
      "MoviePy - Done.\n",
      "Moviepy - Writing video /home/chenlequn/pan1/Dataset/Laser-Wire-DED-ThermalAudio-Dataset/segmented_videos/Exp_April_16_32.avi\n",
      "\n"
     ]
    },
    {
     "name": "stderr",
     "output_type": "stream",
     "text": [
      "                                                                                                                     \r"
     ]
    },
    {
     "name": "stdout",
     "output_type": "stream",
     "text": [
      "Moviepy - Done !\n",
      "Moviepy - video ready /home/chenlequn/pan1/Dataset/Laser-Wire-DED-ThermalAudio-Dataset/segmented_videos/Exp_April_16_32.avi\n",
      "MoviePy - Writing audio in /home/chenlequn/pan1/Dataset/Laser-Wire-DED-ThermalAudio-Dataset/segmented_audio/Exp_April_16_32.wav\n"
     ]
    },
    {
     "name": "stderr",
     "output_type": "stream",
     "text": [
      "                                                                                                                     \r"
     ]
    },
    {
     "name": "stdout",
     "output_type": "stream",
     "text": [
      "MoviePy - Done.\n",
      "Moviepy - Building video /home/chenlequn/pan1/Dataset/Laser-Wire-DED-ThermalAudio-Dataset/segmented_videos/Exp_April_16_34.avi.\n",
      "MoviePy - Writing audio in Exp_April_16_34TEMP_MPY_wvf_snd.mp3\n"
     ]
    },
    {
     "name": "stderr",
     "output_type": "stream",
     "text": [
      "                                                                                                                     "
     ]
    },
    {
     "name": "stdout",
     "output_type": "stream",
     "text": [
      "MoviePy - Done.\n",
      "Moviepy - Writing video /home/chenlequn/pan1/Dataset/Laser-Wire-DED-ThermalAudio-Dataset/segmented_videos/Exp_April_16_34.avi\n",
      "\n"
     ]
    },
    {
     "name": "stderr",
     "output_type": "stream",
     "text": [
      "                                                                                                                     \r"
     ]
    },
    {
     "name": "stdout",
     "output_type": "stream",
     "text": [
      "Moviepy - Done !\n",
      "Moviepy - video ready /home/chenlequn/pan1/Dataset/Laser-Wire-DED-ThermalAudio-Dataset/segmented_videos/Exp_April_16_34.avi\n",
      "MoviePy - Writing audio in /home/chenlequn/pan1/Dataset/Laser-Wire-DED-ThermalAudio-Dataset/segmented_audio/Exp_April_16_34.wav\n"
     ]
    },
    {
     "name": "stderr",
     "output_type": "stream",
     "text": [
      "                                                                                                                     \r"
     ]
    },
    {
     "name": "stdout",
     "output_type": "stream",
     "text": [
      "MoviePy - Done.\n",
      "Moviepy - Building video /home/chenlequn/pan1/Dataset/Laser-Wire-DED-ThermalAudio-Dataset/segmented_videos/Exp_April_16_36.avi.\n",
      "MoviePy - Writing audio in Exp_April_16_36TEMP_MPY_wvf_snd.mp3\n"
     ]
    },
    {
     "name": "stderr",
     "output_type": "stream",
     "text": [
      "                                                                                                                     \r"
     ]
    },
    {
     "name": "stdout",
     "output_type": "stream",
     "text": [
      "MoviePy - Done.\n",
      "Moviepy - Writing video /home/chenlequn/pan1/Dataset/Laser-Wire-DED-ThermalAudio-Dataset/segmented_videos/Exp_April_16_36.avi\n",
      "\n"
     ]
    },
    {
     "name": "stderr",
     "output_type": "stream",
     "text": [
      "                                                                                                                     \r"
     ]
    },
    {
     "name": "stdout",
     "output_type": "stream",
     "text": [
      "Moviepy - Done !\n",
      "Moviepy - video ready /home/chenlequn/pan1/Dataset/Laser-Wire-DED-ThermalAudio-Dataset/segmented_videos/Exp_April_16_36.avi\n",
      "MoviePy - Writing audio in /home/chenlequn/pan1/Dataset/Laser-Wire-DED-ThermalAudio-Dataset/segmented_audio/Exp_April_16_36.wav\n"
     ]
    },
    {
     "name": "stderr",
     "output_type": "stream",
     "text": [
      "                                                                                                                     \r"
     ]
    },
    {
     "name": "stdout",
     "output_type": "stream",
     "text": [
      "MoviePy - Done.\n",
      "Moviepy - Building video /home/chenlequn/pan1/Dataset/Laser-Wire-DED-ThermalAudio-Dataset/segmented_videos/Exp_April_16_38.avi.\n",
      "MoviePy - Writing audio in Exp_April_16_38TEMP_MPY_wvf_snd.mp3\n"
     ]
    },
    {
     "name": "stderr",
     "output_type": "stream",
     "text": [
      "                                                                                                                     \r"
     ]
    },
    {
     "name": "stdout",
     "output_type": "stream",
     "text": [
      "MoviePy - Done.\n",
      "Moviepy - Writing video /home/chenlequn/pan1/Dataset/Laser-Wire-DED-ThermalAudio-Dataset/segmented_videos/Exp_April_16_38.avi\n",
      "\n"
     ]
    },
    {
     "name": "stderr",
     "output_type": "stream",
     "text": [
      "                                                                                                                     \r"
     ]
    },
    {
     "name": "stdout",
     "output_type": "stream",
     "text": [
      "Moviepy - Done !\n",
      "Moviepy - video ready /home/chenlequn/pan1/Dataset/Laser-Wire-DED-ThermalAudio-Dataset/segmented_videos/Exp_April_16_38.avi\n",
      "MoviePy - Writing audio in /home/chenlequn/pan1/Dataset/Laser-Wire-DED-ThermalAudio-Dataset/segmented_audio/Exp_April_16_38.wav\n"
     ]
    },
    {
     "name": "stderr",
     "output_type": "stream",
     "text": [
      "                                                                                                                     \r"
     ]
    },
    {
     "name": "stdout",
     "output_type": "stream",
     "text": [
      "MoviePy - Done.\n",
      "Moviepy - Building video /home/chenlequn/pan1/Dataset/Laser-Wire-DED-ThermalAudio-Dataset/segmented_videos/Exp_April_16_40.avi.\n",
      "MoviePy - Writing audio in Exp_April_16_40TEMP_MPY_wvf_snd.mp3\n"
     ]
    },
    {
     "name": "stderr",
     "output_type": "stream",
     "text": [
      "                                                                                                                     \r"
     ]
    },
    {
     "name": "stdout",
     "output_type": "stream",
     "text": [
      "MoviePy - Done.\n",
      "Moviepy - Writing video /home/chenlequn/pan1/Dataset/Laser-Wire-DED-ThermalAudio-Dataset/segmented_videos/Exp_April_16_40.avi\n",
      "\n"
     ]
    },
    {
     "name": "stderr",
     "output_type": "stream",
     "text": [
      "                                                                                                                     \r"
     ]
    },
    {
     "name": "stdout",
     "output_type": "stream",
     "text": [
      "Moviepy - Done !\n",
      "Moviepy - video ready /home/chenlequn/pan1/Dataset/Laser-Wire-DED-ThermalAudio-Dataset/segmented_videos/Exp_April_16_40.avi\n",
      "MoviePy - Writing audio in /home/chenlequn/pan1/Dataset/Laser-Wire-DED-ThermalAudio-Dataset/segmented_audio/Exp_April_16_40.wav\n"
     ]
    },
    {
     "name": "stderr",
     "output_type": "stream",
     "text": [
      "                                                                                                                     \r"
     ]
    },
    {
     "name": "stdout",
     "output_type": "stream",
     "text": [
      "MoviePy - Done.\n",
      "Moviepy - Building video /home/chenlequn/pan1/Dataset/Laser-Wire-DED-ThermalAudio-Dataset/segmented_videos/Exp_April_16_42.avi.\n",
      "MoviePy - Writing audio in Exp_April_16_42TEMP_MPY_wvf_snd.mp3\n"
     ]
    },
    {
     "name": "stderr",
     "output_type": "stream",
     "text": [
      "                                                                                                                     \r"
     ]
    },
    {
     "name": "stdout",
     "output_type": "stream",
     "text": [
      "MoviePy - Done.\n",
      "Moviepy - Writing video /home/chenlequn/pan1/Dataset/Laser-Wire-DED-ThermalAudio-Dataset/segmented_videos/Exp_April_16_42.avi\n",
      "\n"
     ]
    },
    {
     "name": "stderr",
     "output_type": "stream",
     "text": [
      "                                                                                                                     \r"
     ]
    },
    {
     "name": "stdout",
     "output_type": "stream",
     "text": [
      "Moviepy - Done !\n",
      "Moviepy - video ready /home/chenlequn/pan1/Dataset/Laser-Wire-DED-ThermalAudio-Dataset/segmented_videos/Exp_April_16_42.avi\n",
      "MoviePy - Writing audio in /home/chenlequn/pan1/Dataset/Laser-Wire-DED-ThermalAudio-Dataset/segmented_audio/Exp_April_16_42.wav\n"
     ]
    },
    {
     "name": "stderr",
     "output_type": "stream",
     "text": [
      "                                                                                                                     \r"
     ]
    },
    {
     "name": "stdout",
     "output_type": "stream",
     "text": [
      "MoviePy - Done.\n",
      "Moviepy - Building video /home/chenlequn/pan1/Dataset/Laser-Wire-DED-ThermalAudio-Dataset/segmented_videos/Exp_April_16_44.avi.\n",
      "MoviePy - Writing audio in Exp_April_16_44TEMP_MPY_wvf_snd.mp3\n"
     ]
    },
    {
     "name": "stderr",
     "output_type": "stream",
     "text": [
      "                                                                                                                     "
     ]
    },
    {
     "name": "stdout",
     "output_type": "stream",
     "text": [
      "MoviePy - Done.\n",
      "Moviepy - Writing video /home/chenlequn/pan1/Dataset/Laser-Wire-DED-ThermalAudio-Dataset/segmented_videos/Exp_April_16_44.avi\n",
      "\n"
     ]
    },
    {
     "name": "stderr",
     "output_type": "stream",
     "text": [
      "                                                                                                                     \r"
     ]
    },
    {
     "name": "stdout",
     "output_type": "stream",
     "text": [
      "Moviepy - Done !\n",
      "Moviepy - video ready /home/chenlequn/pan1/Dataset/Laser-Wire-DED-ThermalAudio-Dataset/segmented_videos/Exp_April_16_44.avi\n",
      "MoviePy - Writing audio in /home/chenlequn/pan1/Dataset/Laser-Wire-DED-ThermalAudio-Dataset/segmented_audio/Exp_April_16_44.wav\n"
     ]
    },
    {
     "name": "stderr",
     "output_type": "stream",
     "text": [
      "                                                                                                                     \r"
     ]
    },
    {
     "name": "stdout",
     "output_type": "stream",
     "text": [
      "MoviePy - Done.\n",
      "Moviepy - Building video /home/chenlequn/pan1/Dataset/Laser-Wire-DED-ThermalAudio-Dataset/segmented_videos/Exp_April_16_46.avi.\n",
      "MoviePy - Writing audio in Exp_April_16_46TEMP_MPY_wvf_snd.mp3\n"
     ]
    },
    {
     "name": "stderr",
     "output_type": "stream",
     "text": [
      "                                                                                                                     \r"
     ]
    },
    {
     "name": "stdout",
     "output_type": "stream",
     "text": [
      "MoviePy - Done.\n",
      "Moviepy - Writing video /home/chenlequn/pan1/Dataset/Laser-Wire-DED-ThermalAudio-Dataset/segmented_videos/Exp_April_16_46.avi\n",
      "\n"
     ]
    },
    {
     "name": "stderr",
     "output_type": "stream",
     "text": [
      "                                                                                                                     \r"
     ]
    },
    {
     "name": "stdout",
     "output_type": "stream",
     "text": [
      "Moviepy - Done !\n",
      "Moviepy - video ready /home/chenlequn/pan1/Dataset/Laser-Wire-DED-ThermalAudio-Dataset/segmented_videos/Exp_April_16_46.avi\n",
      "MoviePy - Writing audio in /home/chenlequn/pan1/Dataset/Laser-Wire-DED-ThermalAudio-Dataset/segmented_audio/Exp_April_16_46.wav\n"
     ]
    },
    {
     "name": "stderr",
     "output_type": "stream",
     "text": [
      "                                                                                                                     \r"
     ]
    },
    {
     "name": "stdout",
     "output_type": "stream",
     "text": [
      "MoviePy - Done.\n",
      "Moviepy - Building video /home/chenlequn/pan1/Dataset/Laser-Wire-DED-ThermalAudio-Dataset/segmented_videos/Exp_April_16_48.avi.\n",
      "MoviePy - Writing audio in Exp_April_16_48TEMP_MPY_wvf_snd.mp3\n"
     ]
    },
    {
     "name": "stderr",
     "output_type": "stream",
     "text": [
      "                                                                                                                     \r"
     ]
    },
    {
     "name": "stdout",
     "output_type": "stream",
     "text": [
      "MoviePy - Done.\n",
      "Moviepy - Writing video /home/chenlequn/pan1/Dataset/Laser-Wire-DED-ThermalAudio-Dataset/segmented_videos/Exp_April_16_48.avi\n",
      "\n"
     ]
    },
    {
     "name": "stderr",
     "output_type": "stream",
     "text": [
      "                                                                                                                     \r"
     ]
    },
    {
     "name": "stdout",
     "output_type": "stream",
     "text": [
      "Moviepy - Done !\n",
      "Moviepy - video ready /home/chenlequn/pan1/Dataset/Laser-Wire-DED-ThermalAudio-Dataset/segmented_videos/Exp_April_16_48.avi\n",
      "MoviePy - Writing audio in /home/chenlequn/pan1/Dataset/Laser-Wire-DED-ThermalAudio-Dataset/segmented_audio/Exp_April_16_48.wav\n"
     ]
    },
    {
     "name": "stderr",
     "output_type": "stream",
     "text": [
      "                                                                                                                     \r"
     ]
    },
    {
     "name": "stdout",
     "output_type": "stream",
     "text": [
      "MoviePy - Done.\n",
      "Moviepy - Building video /home/chenlequn/pan1/Dataset/Laser-Wire-DED-ThermalAudio-Dataset/segmented_videos/Exp_April_16_49.avi.\n",
      "MoviePy - Writing audio in Exp_April_16_49TEMP_MPY_wvf_snd.mp3\n"
     ]
    },
    {
     "name": "stderr",
     "output_type": "stream",
     "text": [
      "                                                                                                                     \r"
     ]
    },
    {
     "name": "stdout",
     "output_type": "stream",
     "text": [
      "MoviePy - Done.\n",
      "Moviepy - Writing video /home/chenlequn/pan1/Dataset/Laser-Wire-DED-ThermalAudio-Dataset/segmented_videos/Exp_April_16_49.avi\n",
      "\n"
     ]
    },
    {
     "name": "stderr",
     "output_type": "stream",
     "text": [
      "                                                                                                                     \r"
     ]
    },
    {
     "name": "stdout",
     "output_type": "stream",
     "text": [
      "Moviepy - Done !\n",
      "Moviepy - video ready /home/chenlequn/pan1/Dataset/Laser-Wire-DED-ThermalAudio-Dataset/segmented_videos/Exp_April_16_49.avi\n",
      "MoviePy - Writing audio in /home/chenlequn/pan1/Dataset/Laser-Wire-DED-ThermalAudio-Dataset/segmented_audio/Exp_April_16_49.wav\n"
     ]
    },
    {
     "name": "stderr",
     "output_type": "stream",
     "text": [
      "                                                                                                                     \r"
     ]
    },
    {
     "name": "stdout",
     "output_type": "stream",
     "text": [
      "MoviePy - Done.\n",
      "Moviepy - Building video /home/chenlequn/pan1/Dataset/Laser-Wire-DED-ThermalAudio-Dataset/segmented_videos/Exp_April_16_51.avi.\n",
      "MoviePy - Writing audio in Exp_April_16_51TEMP_MPY_wvf_snd.mp3\n"
     ]
    },
    {
     "name": "stderr",
     "output_type": "stream",
     "text": [
      "                                                                                                                     \r"
     ]
    },
    {
     "name": "stdout",
     "output_type": "stream",
     "text": [
      "MoviePy - Done.\n",
      "Moviepy - Writing video /home/chenlequn/pan1/Dataset/Laser-Wire-DED-ThermalAudio-Dataset/segmented_videos/Exp_April_16_51.avi\n",
      "\n"
     ]
    },
    {
     "name": "stderr",
     "output_type": "stream",
     "text": [
      "                                                                                                                     \r"
     ]
    },
    {
     "name": "stdout",
     "output_type": "stream",
     "text": [
      "Moviepy - Done !\n",
      "Moviepy - video ready /home/chenlequn/pan1/Dataset/Laser-Wire-DED-ThermalAudio-Dataset/segmented_videos/Exp_April_16_51.avi\n",
      "MoviePy - Writing audio in /home/chenlequn/pan1/Dataset/Laser-Wire-DED-ThermalAudio-Dataset/segmented_audio/Exp_April_16_51.wav\n"
     ]
    },
    {
     "name": "stderr",
     "output_type": "stream",
     "text": [
      "                                                                                                                     \r"
     ]
    },
    {
     "name": "stdout",
     "output_type": "stream",
     "text": [
      "MoviePy - Done.\n",
      "Moviepy - Building video /home/chenlequn/pan1/Dataset/Laser-Wire-DED-ThermalAudio-Dataset/segmented_videos/Exp_April_16_53.avi.\n",
      "MoviePy - Writing audio in Exp_April_16_53TEMP_MPY_wvf_snd.mp3\n"
     ]
    },
    {
     "name": "stderr",
     "output_type": "stream",
     "text": [
      "                                                                                                                     \r"
     ]
    },
    {
     "name": "stdout",
     "output_type": "stream",
     "text": [
      "MoviePy - Done.\n",
      "Moviepy - Writing video /home/chenlequn/pan1/Dataset/Laser-Wire-DED-ThermalAudio-Dataset/segmented_videos/Exp_April_16_53.avi\n",
      "\n"
     ]
    },
    {
     "name": "stderr",
     "output_type": "stream",
     "text": [
      "                                                                                                                     \r"
     ]
    },
    {
     "name": "stdout",
     "output_type": "stream",
     "text": [
      "Moviepy - Done !\n",
      "Moviepy - video ready /home/chenlequn/pan1/Dataset/Laser-Wire-DED-ThermalAudio-Dataset/segmented_videos/Exp_April_16_53.avi\n",
      "MoviePy - Writing audio in /home/chenlequn/pan1/Dataset/Laser-Wire-DED-ThermalAudio-Dataset/segmented_audio/Exp_April_16_53.wav\n"
     ]
    },
    {
     "name": "stderr",
     "output_type": "stream",
     "text": [
      "                                                                                                                     \r"
     ]
    },
    {
     "name": "stdout",
     "output_type": "stream",
     "text": [
      "MoviePy - Done.\n",
      "Moviepy - Building video /home/chenlequn/pan1/Dataset/Laser-Wire-DED-ThermalAudio-Dataset/segmented_videos/Exp_April_16_54.avi.\n",
      "MoviePy - Writing audio in Exp_April_16_54TEMP_MPY_wvf_snd.mp3\n"
     ]
    },
    {
     "name": "stderr",
     "output_type": "stream",
     "text": [
      "                                                                                                                     \r"
     ]
    },
    {
     "name": "stdout",
     "output_type": "stream",
     "text": [
      "MoviePy - Done.\n",
      "Moviepy - Writing video /home/chenlequn/pan1/Dataset/Laser-Wire-DED-ThermalAudio-Dataset/segmented_videos/Exp_April_16_54.avi\n",
      "\n"
     ]
    },
    {
     "name": "stderr",
     "output_type": "stream",
     "text": [
      "                                                                                                                     \r"
     ]
    },
    {
     "name": "stdout",
     "output_type": "stream",
     "text": [
      "Moviepy - Done !\n",
      "Moviepy - video ready /home/chenlequn/pan1/Dataset/Laser-Wire-DED-ThermalAudio-Dataset/segmented_videos/Exp_April_16_54.avi\n",
      "MoviePy - Writing audio in /home/chenlequn/pan1/Dataset/Laser-Wire-DED-ThermalAudio-Dataset/segmented_audio/Exp_April_16_54.wav\n"
     ]
    },
    {
     "name": "stderr",
     "output_type": "stream",
     "text": [
      "                                                                                                                     \r"
     ]
    },
    {
     "name": "stdout",
     "output_type": "stream",
     "text": [
      "MoviePy - Done.\n",
      "Moviepy - Building video /home/chenlequn/pan1/Dataset/Laser-Wire-DED-ThermalAudio-Dataset/segmented_videos/Exp_April_16_56.avi.\n",
      "MoviePy - Writing audio in Exp_April_16_56TEMP_MPY_wvf_snd.mp3\n"
     ]
    },
    {
     "name": "stderr",
     "output_type": "stream",
     "text": [
      "                                                                                                                     \r"
     ]
    },
    {
     "name": "stdout",
     "output_type": "stream",
     "text": [
      "MoviePy - Done.\n",
      "Moviepy - Writing video /home/chenlequn/pan1/Dataset/Laser-Wire-DED-ThermalAudio-Dataset/segmented_videos/Exp_April_16_56.avi\n",
      "\n"
     ]
    },
    {
     "name": "stderr",
     "output_type": "stream",
     "text": [
      "                                                                                                                     \r"
     ]
    },
    {
     "name": "stdout",
     "output_type": "stream",
     "text": [
      "Moviepy - Done !\n",
      "Moviepy - video ready /home/chenlequn/pan1/Dataset/Laser-Wire-DED-ThermalAudio-Dataset/segmented_videos/Exp_April_16_56.avi\n",
      "MoviePy - Writing audio in /home/chenlequn/pan1/Dataset/Laser-Wire-DED-ThermalAudio-Dataset/segmented_audio/Exp_April_16_56.wav\n"
     ]
    },
    {
     "name": "stderr",
     "output_type": "stream",
     "text": [
      "                                                                                                                     \r"
     ]
    },
    {
     "name": "stdout",
     "output_type": "stream",
     "text": [
      "MoviePy - Done.\n",
      "Moviepy - Building video /home/chenlequn/pan1/Dataset/Laser-Wire-DED-ThermalAudio-Dataset/segmented_videos/Exp_April_16_58.avi.\n",
      "MoviePy - Writing audio in Exp_April_16_58TEMP_MPY_wvf_snd.mp3\n"
     ]
    },
    {
     "name": "stderr",
     "output_type": "stream",
     "text": [
      "                                                                                                                     \r"
     ]
    },
    {
     "name": "stdout",
     "output_type": "stream",
     "text": [
      "MoviePy - Done.\n",
      "Moviepy - Writing video /home/chenlequn/pan1/Dataset/Laser-Wire-DED-ThermalAudio-Dataset/segmented_videos/Exp_April_16_58.avi\n",
      "\n"
     ]
    },
    {
     "name": "stderr",
     "output_type": "stream",
     "text": [
      "                                                                                                                     \r"
     ]
    },
    {
     "name": "stdout",
     "output_type": "stream",
     "text": [
      "Moviepy - Done !\n",
      "Moviepy - video ready /home/chenlequn/pan1/Dataset/Laser-Wire-DED-ThermalAudio-Dataset/segmented_videos/Exp_April_16_58.avi\n",
      "MoviePy - Writing audio in /home/chenlequn/pan1/Dataset/Laser-Wire-DED-ThermalAudio-Dataset/segmented_audio/Exp_April_16_58.wav\n"
     ]
    },
    {
     "name": "stderr",
     "output_type": "stream",
     "text": [
      "                                                                                                                     \r"
     ]
    },
    {
     "name": "stdout",
     "output_type": "stream",
     "text": [
      "MoviePy - Done.\n",
      "Moviepy - Building video /home/chenlequn/pan1/Dataset/Laser-Wire-DED-ThermalAudio-Dataset/segmented_videos/Exp_April_16_60.avi.\n",
      "MoviePy - Writing audio in Exp_April_16_60TEMP_MPY_wvf_snd.mp3\n"
     ]
    },
    {
     "name": "stderr",
     "output_type": "stream",
     "text": [
      "                                                                                                                     \r"
     ]
    },
    {
     "name": "stdout",
     "output_type": "stream",
     "text": [
      "MoviePy - Done.\n",
      "Moviepy - Writing video /home/chenlequn/pan1/Dataset/Laser-Wire-DED-ThermalAudio-Dataset/segmented_videos/Exp_April_16_60.avi\n",
      "\n"
     ]
    },
    {
     "name": "stderr",
     "output_type": "stream",
     "text": [
      "                                                                                                                     \r"
     ]
    },
    {
     "name": "stdout",
     "output_type": "stream",
     "text": [
      "Moviepy - Done !\n",
      "Moviepy - video ready /home/chenlequn/pan1/Dataset/Laser-Wire-DED-ThermalAudio-Dataset/segmented_videos/Exp_April_16_60.avi\n",
      "MoviePy - Writing audio in /home/chenlequn/pan1/Dataset/Laser-Wire-DED-ThermalAudio-Dataset/segmented_audio/Exp_April_16_60.wav\n"
     ]
    },
    {
     "name": "stderr",
     "output_type": "stream",
     "text": [
      "                                                                                                                     \r"
     ]
    },
    {
     "name": "stdout",
     "output_type": "stream",
     "text": [
      "MoviePy - Done.\n",
      "Moviepy - Building video /home/chenlequn/pan1/Dataset/Laser-Wire-DED-ThermalAudio-Dataset/segmented_videos/Exp_April_16_62.avi.\n",
      "MoviePy - Writing audio in Exp_April_16_62TEMP_MPY_wvf_snd.mp3\n"
     ]
    },
    {
     "name": "stderr",
     "output_type": "stream",
     "text": [
      "                                                                                                                     \r"
     ]
    },
    {
     "name": "stdout",
     "output_type": "stream",
     "text": [
      "MoviePy - Done.\n",
      "Moviepy - Writing video /home/chenlequn/pan1/Dataset/Laser-Wire-DED-ThermalAudio-Dataset/segmented_videos/Exp_April_16_62.avi\n",
      "\n"
     ]
    },
    {
     "name": "stderr",
     "output_type": "stream",
     "text": [
      "                                                                                                                     \r"
     ]
    },
    {
     "name": "stdout",
     "output_type": "stream",
     "text": [
      "Moviepy - Done !\n",
      "Moviepy - video ready /home/chenlequn/pan1/Dataset/Laser-Wire-DED-ThermalAudio-Dataset/segmented_videos/Exp_April_16_62.avi\n",
      "MoviePy - Writing audio in /home/chenlequn/pan1/Dataset/Laser-Wire-DED-ThermalAudio-Dataset/segmented_audio/Exp_April_16_62.wav\n"
     ]
    },
    {
     "name": "stderr",
     "output_type": "stream",
     "text": [
      "                                                                                                                     \r"
     ]
    },
    {
     "name": "stdout",
     "output_type": "stream",
     "text": [
      "MoviePy - Done.\n",
      "Moviepy - Building video /home/chenlequn/pan1/Dataset/Laser-Wire-DED-ThermalAudio-Dataset/segmented_videos/Exp_April_16_63.avi.\n",
      "MoviePy - Writing audio in Exp_April_16_63TEMP_MPY_wvf_snd.mp3\n"
     ]
    },
    {
     "name": "stderr",
     "output_type": "stream",
     "text": [
      "                                                                                                                     \r"
     ]
    },
    {
     "name": "stdout",
     "output_type": "stream",
     "text": [
      "MoviePy - Done.\n",
      "Moviepy - Writing video /home/chenlequn/pan1/Dataset/Laser-Wire-DED-ThermalAudio-Dataset/segmented_videos/Exp_April_16_63.avi\n",
      "\n"
     ]
    },
    {
     "name": "stderr",
     "output_type": "stream",
     "text": [
      "                                                                                                                     "
     ]
    },
    {
     "name": "stdout",
     "output_type": "stream",
     "text": [
      "Moviepy - Done !\n",
      "Moviepy - video ready /home/chenlequn/pan1/Dataset/Laser-Wire-DED-ThermalAudio-Dataset/segmented_videos/Exp_April_16_63.avi\n",
      "MoviePy - Writing audio in /home/chenlequn/pan1/Dataset/Laser-Wire-DED-ThermalAudio-Dataset/segmented_audio/Exp_April_16_63.wav\n"
     ]
    },
    {
     "name": "stderr",
     "output_type": "stream",
     "text": [
      "                                                                                                                     \r"
     ]
    },
    {
     "name": "stdout",
     "output_type": "stream",
     "text": [
      "MoviePy - Done.\n",
      "Moviepy - Building video /home/chenlequn/pan1/Dataset/Laser-Wire-DED-ThermalAudio-Dataset/segmented_videos/Exp_April_16_65.avi.\n",
      "MoviePy - Writing audio in Exp_April_16_65TEMP_MPY_wvf_snd.mp3\n"
     ]
    },
    {
     "name": "stderr",
     "output_type": "stream",
     "text": [
      "                                                                                                                     \r"
     ]
    },
    {
     "name": "stdout",
     "output_type": "stream",
     "text": [
      "MoviePy - Done.\n",
      "Moviepy - Writing video /home/chenlequn/pan1/Dataset/Laser-Wire-DED-ThermalAudio-Dataset/segmented_videos/Exp_April_16_65.avi\n",
      "\n"
     ]
    },
    {
     "name": "stderr",
     "output_type": "stream",
     "text": [
      "                                                                                                                     \r"
     ]
    },
    {
     "name": "stdout",
     "output_type": "stream",
     "text": [
      "Moviepy - Done !\n",
      "Moviepy - video ready /home/chenlequn/pan1/Dataset/Laser-Wire-DED-ThermalAudio-Dataset/segmented_videos/Exp_April_16_65.avi\n",
      "MoviePy - Writing audio in /home/chenlequn/pan1/Dataset/Laser-Wire-DED-ThermalAudio-Dataset/segmented_audio/Exp_April_16_65.wav\n"
     ]
    },
    {
     "name": "stderr",
     "output_type": "stream",
     "text": [
      "                                                                                                                     \r"
     ]
    },
    {
     "name": "stdout",
     "output_type": "stream",
     "text": [
      "MoviePy - Done.\n",
      "Moviepy - Building video /home/chenlequn/pan1/Dataset/Laser-Wire-DED-ThermalAudio-Dataset/segmented_videos/Exp_April_16_67.avi.\n",
      "MoviePy - Writing audio in Exp_April_16_67TEMP_MPY_wvf_snd.mp3\n"
     ]
    },
    {
     "name": "stderr",
     "output_type": "stream",
     "text": [
      "                                                                                                                     \r"
     ]
    },
    {
     "name": "stdout",
     "output_type": "stream",
     "text": [
      "MoviePy - Done.\n",
      "Moviepy - Writing video /home/chenlequn/pan1/Dataset/Laser-Wire-DED-ThermalAudio-Dataset/segmented_videos/Exp_April_16_67.avi\n",
      "\n"
     ]
    },
    {
     "name": "stderr",
     "output_type": "stream",
     "text": [
      "                                                                                                                     \r"
     ]
    },
    {
     "name": "stdout",
     "output_type": "stream",
     "text": [
      "Moviepy - Done !\n",
      "Moviepy - video ready /home/chenlequn/pan1/Dataset/Laser-Wire-DED-ThermalAudio-Dataset/segmented_videos/Exp_April_16_67.avi\n",
      "MoviePy - Writing audio in /home/chenlequn/pan1/Dataset/Laser-Wire-DED-ThermalAudio-Dataset/segmented_audio/Exp_April_16_67.wav\n"
     ]
    },
    {
     "name": "stderr",
     "output_type": "stream",
     "text": [
      "                                                                                                                     \r"
     ]
    },
    {
     "name": "stdout",
     "output_type": "stream",
     "text": [
      "MoviePy - Done.\n",
      "Moviepy - Building video /home/chenlequn/pan1/Dataset/Laser-Wire-DED-ThermalAudio-Dataset/segmented_videos/Exp_April_16_68.avi.\n",
      "MoviePy - Writing audio in Exp_April_16_68TEMP_MPY_wvf_snd.mp3\n"
     ]
    },
    {
     "name": "stderr",
     "output_type": "stream",
     "text": [
      "                                                                                                                     \r"
     ]
    },
    {
     "name": "stdout",
     "output_type": "stream",
     "text": [
      "MoviePy - Done.\n",
      "Moviepy - Writing video /home/chenlequn/pan1/Dataset/Laser-Wire-DED-ThermalAudio-Dataset/segmented_videos/Exp_April_16_68.avi\n",
      "\n"
     ]
    },
    {
     "name": "stderr",
     "output_type": "stream",
     "text": [
      "                                                                                                                     \r"
     ]
    },
    {
     "name": "stdout",
     "output_type": "stream",
     "text": [
      "Moviepy - Done !\n",
      "Moviepy - video ready /home/chenlequn/pan1/Dataset/Laser-Wire-DED-ThermalAudio-Dataset/segmented_videos/Exp_April_16_68.avi\n",
      "MoviePy - Writing audio in /home/chenlequn/pan1/Dataset/Laser-Wire-DED-ThermalAudio-Dataset/segmented_audio/Exp_April_16_68.wav\n"
     ]
    },
    {
     "name": "stderr",
     "output_type": "stream",
     "text": [
      "                                                                                                                     \r"
     ]
    },
    {
     "name": "stdout",
     "output_type": "stream",
     "text": [
      "MoviePy - Done.\n",
      "Moviepy - Building video /home/chenlequn/pan1/Dataset/Laser-Wire-DED-ThermalAudio-Dataset/segmented_videos/Exp_April_16_70.avi.\n",
      "MoviePy - Writing audio in Exp_April_16_70TEMP_MPY_wvf_snd.mp3\n"
     ]
    },
    {
     "name": "stderr",
     "output_type": "stream",
     "text": [
      "                                                                                                                     \r"
     ]
    },
    {
     "name": "stdout",
     "output_type": "stream",
     "text": [
      "MoviePy - Done.\n",
      "Moviepy - Writing video /home/chenlequn/pan1/Dataset/Laser-Wire-DED-ThermalAudio-Dataset/segmented_videos/Exp_April_16_70.avi\n",
      "\n"
     ]
    },
    {
     "name": "stderr",
     "output_type": "stream",
     "text": [
      "                                                                                                                     \r"
     ]
    },
    {
     "name": "stdout",
     "output_type": "stream",
     "text": [
      "Moviepy - Done !\n",
      "Moviepy - video ready /home/chenlequn/pan1/Dataset/Laser-Wire-DED-ThermalAudio-Dataset/segmented_videos/Exp_April_16_70.avi\n",
      "MoviePy - Writing audio in /home/chenlequn/pan1/Dataset/Laser-Wire-DED-ThermalAudio-Dataset/segmented_audio/Exp_April_16_70.wav\n"
     ]
    },
    {
     "name": "stderr",
     "output_type": "stream",
     "text": [
      "                                                                                                                     \r"
     ]
    },
    {
     "name": "stdout",
     "output_type": "stream",
     "text": [
      "MoviePy - Done.\n",
      "Moviepy - Building video /home/chenlequn/pan1/Dataset/Laser-Wire-DED-ThermalAudio-Dataset/segmented_videos/Exp_April_16_72.avi.\n",
      "MoviePy - Writing audio in Exp_April_16_72TEMP_MPY_wvf_snd.mp3\n"
     ]
    },
    {
     "name": "stderr",
     "output_type": "stream",
     "text": [
      "                                                                                                                     \r"
     ]
    },
    {
     "name": "stdout",
     "output_type": "stream",
     "text": [
      "MoviePy - Done.\n",
      "Moviepy - Writing video /home/chenlequn/pan1/Dataset/Laser-Wire-DED-ThermalAudio-Dataset/segmented_videos/Exp_April_16_72.avi\n",
      "\n"
     ]
    },
    {
     "name": "stderr",
     "output_type": "stream",
     "text": [
      "                                                                                                                     \r"
     ]
    },
    {
     "name": "stdout",
     "output_type": "stream",
     "text": [
      "Moviepy - Done !\n",
      "Moviepy - video ready /home/chenlequn/pan1/Dataset/Laser-Wire-DED-ThermalAudio-Dataset/segmented_videos/Exp_April_16_72.avi\n",
      "MoviePy - Writing audio in /home/chenlequn/pan1/Dataset/Laser-Wire-DED-ThermalAudio-Dataset/segmented_audio/Exp_April_16_72.wav\n"
     ]
    },
    {
     "name": "stderr",
     "output_type": "stream",
     "text": [
      "                                                                                                                     \r"
     ]
    },
    {
     "name": "stdout",
     "output_type": "stream",
     "text": [
      "MoviePy - Done.\n",
      "Moviepy - Building video /home/chenlequn/pan1/Dataset/Laser-Wire-DED-ThermalAudio-Dataset/segmented_videos/Exp_April_16_73.avi.\n",
      "MoviePy - Writing audio in Exp_April_16_73TEMP_MPY_wvf_snd.mp3\n"
     ]
    },
    {
     "name": "stderr",
     "output_type": "stream",
     "text": [
      "                                                                                                                     \r"
     ]
    },
    {
     "name": "stdout",
     "output_type": "stream",
     "text": [
      "MoviePy - Done.\n",
      "Moviepy - Writing video /home/chenlequn/pan1/Dataset/Laser-Wire-DED-ThermalAudio-Dataset/segmented_videos/Exp_April_16_73.avi\n",
      "\n"
     ]
    },
    {
     "name": "stderr",
     "output_type": "stream",
     "text": [
      "                                                                                                                     \r"
     ]
    },
    {
     "name": "stdout",
     "output_type": "stream",
     "text": [
      "Moviepy - Done !\n",
      "Moviepy - video ready /home/chenlequn/pan1/Dataset/Laser-Wire-DED-ThermalAudio-Dataset/segmented_videos/Exp_April_16_73.avi\n",
      "MoviePy - Writing audio in /home/chenlequn/pan1/Dataset/Laser-Wire-DED-ThermalAudio-Dataset/segmented_audio/Exp_April_16_73.wav\n"
     ]
    },
    {
     "name": "stderr",
     "output_type": "stream",
     "text": [
      "                                                                                                                     \r"
     ]
    },
    {
     "name": "stdout",
     "output_type": "stream",
     "text": [
      "MoviePy - Done.\n",
      "Moviepy - Building video /home/chenlequn/pan1/Dataset/Laser-Wire-DED-ThermalAudio-Dataset/segmented_videos/Exp_April_16_74.avi.\n",
      "MoviePy - Writing audio in Exp_April_16_74TEMP_MPY_wvf_snd.mp3\n"
     ]
    },
    {
     "name": "stderr",
     "output_type": "stream",
     "text": [
      "                                                                                                                     \r"
     ]
    },
    {
     "name": "stdout",
     "output_type": "stream",
     "text": [
      "MoviePy - Done.\n",
      "Moviepy - Writing video /home/chenlequn/pan1/Dataset/Laser-Wire-DED-ThermalAudio-Dataset/segmented_videos/Exp_April_16_74.avi\n",
      "\n"
     ]
    },
    {
     "name": "stderr",
     "output_type": "stream",
     "text": [
      "                                                                                                                     \r"
     ]
    },
    {
     "name": "stdout",
     "output_type": "stream",
     "text": [
      "Moviepy - Done !\n",
      "Moviepy - video ready /home/chenlequn/pan1/Dataset/Laser-Wire-DED-ThermalAudio-Dataset/segmented_videos/Exp_April_16_74.avi\n",
      "MoviePy - Writing audio in /home/chenlequn/pan1/Dataset/Laser-Wire-DED-ThermalAudio-Dataset/segmented_audio/Exp_April_16_74.wav\n"
     ]
    },
    {
     "name": "stderr",
     "output_type": "stream",
     "text": [
      "                                                                                                                     \r"
     ]
    },
    {
     "name": "stdout",
     "output_type": "stream",
     "text": [
      "MoviePy - Done.\n",
      "Moviepy - Building video /home/chenlequn/pan1/Dataset/Laser-Wire-DED-ThermalAudio-Dataset/segmented_videos/Exp_April_16_76.avi.\n",
      "MoviePy - Writing audio in Exp_April_16_76TEMP_MPY_wvf_snd.mp3\n"
     ]
    },
    {
     "name": "stderr",
     "output_type": "stream",
     "text": [
      "                                                                                                                     \r"
     ]
    },
    {
     "name": "stdout",
     "output_type": "stream",
     "text": [
      "MoviePy - Done.\n",
      "Moviepy - Writing video /home/chenlequn/pan1/Dataset/Laser-Wire-DED-ThermalAudio-Dataset/segmented_videos/Exp_April_16_76.avi\n",
      "\n"
     ]
    },
    {
     "name": "stderr",
     "output_type": "stream",
     "text": [
      "                                                                                                                     \r"
     ]
    },
    {
     "name": "stdout",
     "output_type": "stream",
     "text": [
      "Moviepy - Done !\n",
      "Moviepy - video ready /home/chenlequn/pan1/Dataset/Laser-Wire-DED-ThermalAudio-Dataset/segmented_videos/Exp_April_16_76.avi\n",
      "MoviePy - Writing audio in /home/chenlequn/pan1/Dataset/Laser-Wire-DED-ThermalAudio-Dataset/segmented_audio/Exp_April_16_76.wav\n"
     ]
    },
    {
     "name": "stderr",
     "output_type": "stream",
     "text": [
      "                                                                                                                     "
     ]
    },
    {
     "name": "stdout",
     "output_type": "stream",
     "text": [
      "MoviePy - Done.\n"
     ]
    },
    {
     "name": "stderr",
     "output_type": "stream",
     "text": [
      "\r"
     ]
    },
    {
     "name": "stdout",
     "output_type": "stream",
     "text": [
      "Moviepy - Building video /home/chenlequn/pan1/Dataset/Laser-Wire-DED-ThermalAudio-Dataset/segmented_videos/Exp_April_16_77.avi.\n",
      "MoviePy - Writing audio in Exp_April_16_77TEMP_MPY_wvf_snd.mp3\n"
     ]
    },
    {
     "name": "stderr",
     "output_type": "stream",
     "text": [
      "                                                                                                                     \r"
     ]
    },
    {
     "name": "stdout",
     "output_type": "stream",
     "text": [
      "MoviePy - Done.\n",
      "Moviepy - Writing video /home/chenlequn/pan1/Dataset/Laser-Wire-DED-ThermalAudio-Dataset/segmented_videos/Exp_April_16_77.avi\n",
      "\n"
     ]
    },
    {
     "name": "stderr",
     "output_type": "stream",
     "text": [
      "                                                                                                                     \r"
     ]
    },
    {
     "name": "stdout",
     "output_type": "stream",
     "text": [
      "Moviepy - Done !\n",
      "Moviepy - video ready /home/chenlequn/pan1/Dataset/Laser-Wire-DED-ThermalAudio-Dataset/segmented_videos/Exp_April_16_77.avi\n",
      "MoviePy - Writing audio in /home/chenlequn/pan1/Dataset/Laser-Wire-DED-ThermalAudio-Dataset/segmented_audio/Exp_April_16_77.wav\n"
     ]
    },
    {
     "name": "stderr",
     "output_type": "stream",
     "text": [
      "                                                                                                                     \r"
     ]
    },
    {
     "name": "stdout",
     "output_type": "stream",
     "text": [
      "MoviePy - Done.\n",
      "Moviepy - Building video /home/chenlequn/pan1/Dataset/Laser-Wire-DED-ThermalAudio-Dataset/segmented_videos/Exp_April_16_79.avi.\n",
      "MoviePy - Writing audio in Exp_April_16_79TEMP_MPY_wvf_snd.mp3\n"
     ]
    },
    {
     "name": "stderr",
     "output_type": "stream",
     "text": [
      "                                                                                                                     \r"
     ]
    },
    {
     "name": "stdout",
     "output_type": "stream",
     "text": [
      "MoviePy - Done.\n",
      "Moviepy - Writing video /home/chenlequn/pan1/Dataset/Laser-Wire-DED-ThermalAudio-Dataset/segmented_videos/Exp_April_16_79.avi\n",
      "\n"
     ]
    },
    {
     "name": "stderr",
     "output_type": "stream",
     "text": [
      "                                                                                                                     \r"
     ]
    },
    {
     "name": "stdout",
     "output_type": "stream",
     "text": [
      "Moviepy - Done !\n",
      "Moviepy - video ready /home/chenlequn/pan1/Dataset/Laser-Wire-DED-ThermalAudio-Dataset/segmented_videos/Exp_April_16_79.avi\n",
      "MoviePy - Writing audio in /home/chenlequn/pan1/Dataset/Laser-Wire-DED-ThermalAudio-Dataset/segmented_audio/Exp_April_16_79.wav\n"
     ]
    },
    {
     "name": "stderr",
     "output_type": "stream",
     "text": [
      "                                                                                                                     \r"
     ]
    },
    {
     "name": "stdout",
     "output_type": "stream",
     "text": [
      "MoviePy - Done.\n",
      "Moviepy - Building video /home/chenlequn/pan1/Dataset/Laser-Wire-DED-ThermalAudio-Dataset/segmented_videos/Exp_April_16_80.avi.\n",
      "MoviePy - Writing audio in Exp_April_16_80TEMP_MPY_wvf_snd.mp3\n"
     ]
    },
    {
     "name": "stderr",
     "output_type": "stream",
     "text": [
      "                                                                                                                     \r"
     ]
    },
    {
     "name": "stdout",
     "output_type": "stream",
     "text": [
      "MoviePy - Done.\n",
      "Moviepy - Writing video /home/chenlequn/pan1/Dataset/Laser-Wire-DED-ThermalAudio-Dataset/segmented_videos/Exp_April_16_80.avi\n",
      "\n"
     ]
    },
    {
     "name": "stderr",
     "output_type": "stream",
     "text": [
      "                                                                                                                     \r"
     ]
    },
    {
     "name": "stdout",
     "output_type": "stream",
     "text": [
      "Moviepy - Done !\n",
      "Moviepy - video ready /home/chenlequn/pan1/Dataset/Laser-Wire-DED-ThermalAudio-Dataset/segmented_videos/Exp_April_16_80.avi\n",
      "MoviePy - Writing audio in /home/chenlequn/pan1/Dataset/Laser-Wire-DED-ThermalAudio-Dataset/segmented_audio/Exp_April_16_80.wav\n"
     ]
    },
    {
     "name": "stderr",
     "output_type": "stream",
     "text": [
      "                                                                                                                     \r"
     ]
    },
    {
     "name": "stdout",
     "output_type": "stream",
     "text": [
      "MoviePy - Done.\n",
      "Moviepy - Building video /home/chenlequn/pan1/Dataset/Laser-Wire-DED-ThermalAudio-Dataset/segmented_videos/Exp_April_16_82.avi.\n",
      "MoviePy - Writing audio in Exp_April_16_82TEMP_MPY_wvf_snd.mp3\n"
     ]
    },
    {
     "name": "stderr",
     "output_type": "stream",
     "text": [
      "                                                                                                                     \r"
     ]
    },
    {
     "name": "stdout",
     "output_type": "stream",
     "text": [
      "MoviePy - Done.\n",
      "Moviepy - Writing video /home/chenlequn/pan1/Dataset/Laser-Wire-DED-ThermalAudio-Dataset/segmented_videos/Exp_April_16_82.avi\n",
      "\n"
     ]
    },
    {
     "name": "stderr",
     "output_type": "stream",
     "text": [
      "                                                                                                                     \r"
     ]
    },
    {
     "name": "stdout",
     "output_type": "stream",
     "text": [
      "Moviepy - Done !\n",
      "Moviepy - video ready /home/chenlequn/pan1/Dataset/Laser-Wire-DED-ThermalAudio-Dataset/segmented_videos/Exp_April_16_82.avi\n",
      "MoviePy - Writing audio in /home/chenlequn/pan1/Dataset/Laser-Wire-DED-ThermalAudio-Dataset/segmented_audio/Exp_April_16_82.wav\n"
     ]
    },
    {
     "name": "stderr",
     "output_type": "stream",
     "text": [
      "                                                                                                                     "
     ]
    },
    {
     "name": "stdout",
     "output_type": "stream",
     "text": [
      "MoviePy - Done.\n"
     ]
    },
    {
     "name": "stderr",
     "output_type": "stream",
     "text": [
      "\r"
     ]
    },
    {
     "name": "stdout",
     "output_type": "stream",
     "text": [
      "Moviepy - Building video /home/chenlequn/pan1/Dataset/Laser-Wire-DED-ThermalAudio-Dataset/segmented_videos/Exp_April_16_83.avi.\n",
      "MoviePy - Writing audio in Exp_April_16_83TEMP_MPY_wvf_snd.mp3\n"
     ]
    },
    {
     "name": "stderr",
     "output_type": "stream",
     "text": [
      "                                                                                                                     \r"
     ]
    },
    {
     "name": "stdout",
     "output_type": "stream",
     "text": [
      "MoviePy - Done.\n",
      "Moviepy - Writing video /home/chenlequn/pan1/Dataset/Laser-Wire-DED-ThermalAudio-Dataset/segmented_videos/Exp_April_16_83.avi\n",
      "\n"
     ]
    },
    {
     "name": "stderr",
     "output_type": "stream",
     "text": [
      "                                                                                                                     \r"
     ]
    },
    {
     "name": "stdout",
     "output_type": "stream",
     "text": [
      "Moviepy - Done !\n",
      "Moviepy - video ready /home/chenlequn/pan1/Dataset/Laser-Wire-DED-ThermalAudio-Dataset/segmented_videos/Exp_April_16_83.avi\n",
      "MoviePy - Writing audio in /home/chenlequn/pan1/Dataset/Laser-Wire-DED-ThermalAudio-Dataset/segmented_audio/Exp_April_16_83.wav\n"
     ]
    },
    {
     "name": "stderr",
     "output_type": "stream",
     "text": [
      "                                                                                                                     \r"
     ]
    },
    {
     "name": "stdout",
     "output_type": "stream",
     "text": [
      "MoviePy - Done.\n",
      "Moviepy - Building video /home/chenlequn/pan1/Dataset/Laser-Wire-DED-ThermalAudio-Dataset/segmented_videos/Exp_April_16_86.avi.\n",
      "MoviePy - Writing audio in Exp_April_16_86TEMP_MPY_wvf_snd.mp3\n"
     ]
    },
    {
     "name": "stderr",
     "output_type": "stream",
     "text": [
      "                                                                                                                     \r"
     ]
    },
    {
     "name": "stdout",
     "output_type": "stream",
     "text": [
      "MoviePy - Done.\n",
      "Moviepy - Writing video /home/chenlequn/pan1/Dataset/Laser-Wire-DED-ThermalAudio-Dataset/segmented_videos/Exp_April_16_86.avi\n",
      "\n"
     ]
    },
    {
     "name": "stderr",
     "output_type": "stream",
     "text": [
      "                                                                                                                     \r"
     ]
    },
    {
     "name": "stdout",
     "output_type": "stream",
     "text": [
      "Moviepy - Done !\n",
      "Moviepy - video ready /home/chenlequn/pan1/Dataset/Laser-Wire-DED-ThermalAudio-Dataset/segmented_videos/Exp_April_16_86.avi\n",
      "MoviePy - Writing audio in /home/chenlequn/pan1/Dataset/Laser-Wire-DED-ThermalAudio-Dataset/segmented_audio/Exp_April_16_86.wav\n"
     ]
    },
    {
     "name": "stderr",
     "output_type": "stream",
     "text": [
      "                                                                                                                     \r"
     ]
    },
    {
     "name": "stdout",
     "output_type": "stream",
     "text": [
      "MoviePy - Done.\n",
      "Moviepy - Building video /home/chenlequn/pan1/Dataset/Laser-Wire-DED-ThermalAudio-Dataset/segmented_videos/Exp_April_16_87.avi.\n",
      "MoviePy - Writing audio in Exp_April_16_87TEMP_MPY_wvf_snd.mp3\n"
     ]
    },
    {
     "name": "stderr",
     "output_type": "stream",
     "text": [
      "                                                                                                                     \r"
     ]
    },
    {
     "name": "stdout",
     "output_type": "stream",
     "text": [
      "MoviePy - Done.\n",
      "Moviepy - Writing video /home/chenlequn/pan1/Dataset/Laser-Wire-DED-ThermalAudio-Dataset/segmented_videos/Exp_April_16_87.avi\n",
      "\n"
     ]
    },
    {
     "name": "stderr",
     "output_type": "stream",
     "text": [
      "                                                                                                                     \r"
     ]
    },
    {
     "name": "stdout",
     "output_type": "stream",
     "text": [
      "Moviepy - Done !\n",
      "Moviepy - video ready /home/chenlequn/pan1/Dataset/Laser-Wire-DED-ThermalAudio-Dataset/segmented_videos/Exp_April_16_87.avi\n",
      "MoviePy - Writing audio in /home/chenlequn/pan1/Dataset/Laser-Wire-DED-ThermalAudio-Dataset/segmented_audio/Exp_April_16_87.wav\n"
     ]
    },
    {
     "name": "stderr",
     "output_type": "stream",
     "text": [
      "                                                                                                                     \r"
     ]
    },
    {
     "name": "stdout",
     "output_type": "stream",
     "text": [
      "MoviePy - Done.\n",
      "Moviepy - Building video /home/chenlequn/pan1/Dataset/Laser-Wire-DED-ThermalAudio-Dataset/segmented_videos/Exp_April_16_89.avi.\n",
      "MoviePy - Writing audio in Exp_April_16_89TEMP_MPY_wvf_snd.mp3\n"
     ]
    },
    {
     "name": "stderr",
     "output_type": "stream",
     "text": [
      "                                                                                                                     \r"
     ]
    },
    {
     "name": "stdout",
     "output_type": "stream",
     "text": [
      "MoviePy - Done.\n",
      "Moviepy - Writing video /home/chenlequn/pan1/Dataset/Laser-Wire-DED-ThermalAudio-Dataset/segmented_videos/Exp_April_16_89.avi\n",
      "\n"
     ]
    },
    {
     "name": "stderr",
     "output_type": "stream",
     "text": [
      "                                                                                                                     \r"
     ]
    },
    {
     "name": "stdout",
     "output_type": "stream",
     "text": [
      "Moviepy - Done !\n",
      "Moviepy - video ready /home/chenlequn/pan1/Dataset/Laser-Wire-DED-ThermalAudio-Dataset/segmented_videos/Exp_April_16_89.avi\n",
      "MoviePy - Writing audio in /home/chenlequn/pan1/Dataset/Laser-Wire-DED-ThermalAudio-Dataset/segmented_audio/Exp_April_16_89.wav\n"
     ]
    },
    {
     "name": "stderr",
     "output_type": "stream",
     "text": [
      "                                                                                                                     \r"
     ]
    },
    {
     "name": "stdout",
     "output_type": "stream",
     "text": [
      "MoviePy - Done.\n",
      "Moviepy - Building video /home/chenlequn/pan1/Dataset/Laser-Wire-DED-ThermalAudio-Dataset/segmented_videos/Exp_April_16_90.avi.\n",
      "MoviePy - Writing audio in Exp_April_16_90TEMP_MPY_wvf_snd.mp3\n"
     ]
    },
    {
     "name": "stderr",
     "output_type": "stream",
     "text": [
      "                                                                                                                     \r"
     ]
    },
    {
     "name": "stdout",
     "output_type": "stream",
     "text": [
      "MoviePy - Done.\n",
      "Moviepy - Writing video /home/chenlequn/pan1/Dataset/Laser-Wire-DED-ThermalAudio-Dataset/segmented_videos/Exp_April_16_90.avi\n",
      "\n"
     ]
    },
    {
     "name": "stderr",
     "output_type": "stream",
     "text": [
      "                                                                                                                     \r"
     ]
    },
    {
     "name": "stdout",
     "output_type": "stream",
     "text": [
      "Moviepy - Done !\n",
      "Moviepy - video ready /home/chenlequn/pan1/Dataset/Laser-Wire-DED-ThermalAudio-Dataset/segmented_videos/Exp_April_16_90.avi\n",
      "MoviePy - Writing audio in /home/chenlequn/pan1/Dataset/Laser-Wire-DED-ThermalAudio-Dataset/segmented_audio/Exp_April_16_90.wav\n"
     ]
    },
    {
     "name": "stderr",
     "output_type": "stream",
     "text": [
      "                                                                                                                     \r"
     ]
    },
    {
     "name": "stdout",
     "output_type": "stream",
     "text": [
      "MoviePy - Done.\n",
      "Moviepy - Building video /home/chenlequn/pan1/Dataset/Laser-Wire-DED-ThermalAudio-Dataset/segmented_videos/Exp_April_13_1.avi.\n",
      "MoviePy - Writing audio in Exp_April_13_1TEMP_MPY_wvf_snd.mp3\n"
     ]
    },
    {
     "name": "stderr",
     "output_type": "stream",
     "text": [
      "                                                                                                                     \r"
     ]
    },
    {
     "name": "stdout",
     "output_type": "stream",
     "text": [
      "MoviePy - Done.\n",
      "Moviepy - Writing video /home/chenlequn/pan1/Dataset/Laser-Wire-DED-ThermalAudio-Dataset/segmented_videos/Exp_April_13_1.avi\n",
      "\n"
     ]
    },
    {
     "name": "stderr",
     "output_type": "stream",
     "text": [
      "                                                                                                                     \r"
     ]
    },
    {
     "name": "stdout",
     "output_type": "stream",
     "text": [
      "Moviepy - Done !\n",
      "Moviepy - video ready /home/chenlequn/pan1/Dataset/Laser-Wire-DED-ThermalAudio-Dataset/segmented_videos/Exp_April_13_1.avi\n",
      "MoviePy - Writing audio in /home/chenlequn/pan1/Dataset/Laser-Wire-DED-ThermalAudio-Dataset/segmented_audio/Exp_April_13_1.wav\n"
     ]
    },
    {
     "name": "stderr",
     "output_type": "stream",
     "text": [
      "                                                                                                                     \r"
     ]
    },
    {
     "name": "stdout",
     "output_type": "stream",
     "text": [
      "MoviePy - Done.\n",
      "Moviepy - Building video /home/chenlequn/pan1/Dataset/Laser-Wire-DED-ThermalAudio-Dataset/segmented_videos/Exp_April_13_2.avi.\n",
      "MoviePy - Writing audio in Exp_April_13_2TEMP_MPY_wvf_snd.mp3\n"
     ]
    },
    {
     "name": "stderr",
     "output_type": "stream",
     "text": [
      "                                                                                                                     "
     ]
    },
    {
     "name": "stdout",
     "output_type": "stream",
     "text": [
      "MoviePy - Done.\n",
      "Moviepy - Writing video /home/chenlequn/pan1/Dataset/Laser-Wire-DED-ThermalAudio-Dataset/segmented_videos/Exp_April_13_2.avi\n",
      "\n"
     ]
    },
    {
     "name": "stderr",
     "output_type": "stream",
     "text": [
      "                                                                                                                     \r"
     ]
    },
    {
     "name": "stdout",
     "output_type": "stream",
     "text": [
      "Moviepy - Done !\n",
      "Moviepy - video ready /home/chenlequn/pan1/Dataset/Laser-Wire-DED-ThermalAudio-Dataset/segmented_videos/Exp_April_13_2.avi\n",
      "MoviePy - Writing audio in /home/chenlequn/pan1/Dataset/Laser-Wire-DED-ThermalAudio-Dataset/segmented_audio/Exp_April_13_2.wav\n"
     ]
    },
    {
     "name": "stderr",
     "output_type": "stream",
     "text": [
      "                                                                                                                     \r"
     ]
    },
    {
     "name": "stdout",
     "output_type": "stream",
     "text": [
      "MoviePy - Done.\n",
      "Moviepy - Building video /home/chenlequn/pan1/Dataset/Laser-Wire-DED-ThermalAudio-Dataset/segmented_videos/Exp_April_13_3.avi.\n",
      "MoviePy - Writing audio in Exp_April_13_3TEMP_MPY_wvf_snd.mp3\n"
     ]
    },
    {
     "name": "stderr",
     "output_type": "stream",
     "text": [
      "                                                                                                                     \r"
     ]
    },
    {
     "name": "stdout",
     "output_type": "stream",
     "text": [
      "MoviePy - Done.\n",
      "Moviepy - Writing video /home/chenlequn/pan1/Dataset/Laser-Wire-DED-ThermalAudio-Dataset/segmented_videos/Exp_April_13_3.avi\n",
      "\n"
     ]
    },
    {
     "name": "stderr",
     "output_type": "stream",
     "text": [
      "                                                                                                                     \r"
     ]
    },
    {
     "name": "stdout",
     "output_type": "stream",
     "text": [
      "Moviepy - Done !\n",
      "Moviepy - video ready /home/chenlequn/pan1/Dataset/Laser-Wire-DED-ThermalAudio-Dataset/segmented_videos/Exp_April_13_3.avi\n",
      "MoviePy - Writing audio in /home/chenlequn/pan1/Dataset/Laser-Wire-DED-ThermalAudio-Dataset/segmented_audio/Exp_April_13_3.wav\n"
     ]
    },
    {
     "name": "stderr",
     "output_type": "stream",
     "text": [
      "                                                                                                                     \r"
     ]
    },
    {
     "name": "stdout",
     "output_type": "stream",
     "text": [
      "MoviePy - Done.\n",
      "Moviepy - Building video /home/chenlequn/pan1/Dataset/Laser-Wire-DED-ThermalAudio-Dataset/segmented_videos/Exp_April_13_4.avi.\n",
      "MoviePy - Writing audio in Exp_April_13_4TEMP_MPY_wvf_snd.mp3\n"
     ]
    },
    {
     "name": "stderr",
     "output_type": "stream",
     "text": [
      "                                                                                                                     \r"
     ]
    },
    {
     "name": "stdout",
     "output_type": "stream",
     "text": [
      "MoviePy - Done.\n",
      "Moviepy - Writing video /home/chenlequn/pan1/Dataset/Laser-Wire-DED-ThermalAudio-Dataset/segmented_videos/Exp_April_13_4.avi\n",
      "\n"
     ]
    },
    {
     "name": "stderr",
     "output_type": "stream",
     "text": [
      "                                                                                                                     \r"
     ]
    },
    {
     "name": "stdout",
     "output_type": "stream",
     "text": [
      "Moviepy - Done !\n",
      "Moviepy - video ready /home/chenlequn/pan1/Dataset/Laser-Wire-DED-ThermalAudio-Dataset/segmented_videos/Exp_April_13_4.avi\n",
      "MoviePy - Writing audio in /home/chenlequn/pan1/Dataset/Laser-Wire-DED-ThermalAudio-Dataset/segmented_audio/Exp_April_13_4.wav\n"
     ]
    },
    {
     "name": "stderr",
     "output_type": "stream",
     "text": [
      "                                                                                                                     "
     ]
    },
    {
     "name": "stdout",
     "output_type": "stream",
     "text": [
      "MoviePy - Done.\n"
     ]
    },
    {
     "name": "stderr",
     "output_type": "stream",
     "text": [
      "\r"
     ]
    },
    {
     "name": "stdout",
     "output_type": "stream",
     "text": [
      "Moviepy - Building video /home/chenlequn/pan1/Dataset/Laser-Wire-DED-ThermalAudio-Dataset/segmented_videos/Exp_April_13_5.avi.\n",
      "MoviePy - Writing audio in Exp_April_13_5TEMP_MPY_wvf_snd.mp3\n"
     ]
    },
    {
     "name": "stderr",
     "output_type": "stream",
     "text": [
      "                                                                                                                     \r"
     ]
    },
    {
     "name": "stdout",
     "output_type": "stream",
     "text": [
      "MoviePy - Done.\n",
      "Moviepy - Writing video /home/chenlequn/pan1/Dataset/Laser-Wire-DED-ThermalAudio-Dataset/segmented_videos/Exp_April_13_5.avi\n",
      "\n"
     ]
    },
    {
     "name": "stderr",
     "output_type": "stream",
     "text": [
      "                                                                                                                     \r"
     ]
    },
    {
     "name": "stdout",
     "output_type": "stream",
     "text": [
      "Moviepy - Done !\n",
      "Moviepy - video ready /home/chenlequn/pan1/Dataset/Laser-Wire-DED-ThermalAudio-Dataset/segmented_videos/Exp_April_13_5.avi\n",
      "MoviePy - Writing audio in /home/chenlequn/pan1/Dataset/Laser-Wire-DED-ThermalAudio-Dataset/segmented_audio/Exp_April_13_5.wav\n"
     ]
    },
    {
     "name": "stderr",
     "output_type": "stream",
     "text": [
      "                                                                                                                     "
     ]
    },
    {
     "name": "stdout",
     "output_type": "stream",
     "text": [
      "MoviePy - Done.\n"
     ]
    },
    {
     "name": "stderr",
     "output_type": "stream",
     "text": [
      "\r"
     ]
    },
    {
     "name": "stdout",
     "output_type": "stream",
     "text": [
      "Moviepy - Building video /home/chenlequn/pan1/Dataset/Laser-Wire-DED-ThermalAudio-Dataset/segmented_videos/Exp_April_14_1.avi.\n",
      "MoviePy - Writing audio in Exp_April_14_1TEMP_MPY_wvf_snd.mp3\n"
     ]
    },
    {
     "name": "stderr",
     "output_type": "stream",
     "text": [
      "                                                                                                                     \r"
     ]
    },
    {
     "name": "stdout",
     "output_type": "stream",
     "text": [
      "MoviePy - Done.\n",
      "Moviepy - Writing video /home/chenlequn/pan1/Dataset/Laser-Wire-DED-ThermalAudio-Dataset/segmented_videos/Exp_April_14_1.avi\n",
      "\n"
     ]
    },
    {
     "name": "stderr",
     "output_type": "stream",
     "text": [
      "                                                                                                                     \r"
     ]
    },
    {
     "name": "stdout",
     "output_type": "stream",
     "text": [
      "Moviepy - Done !\n",
      "Moviepy - video ready /home/chenlequn/pan1/Dataset/Laser-Wire-DED-ThermalAudio-Dataset/segmented_videos/Exp_April_14_1.avi\n",
      "MoviePy - Writing audio in /home/chenlequn/pan1/Dataset/Laser-Wire-DED-ThermalAudio-Dataset/segmented_audio/Exp_April_14_1.wav\n"
     ]
    },
    {
     "name": "stderr",
     "output_type": "stream",
     "text": [
      "                                                                                                                     \r"
     ]
    },
    {
     "name": "stdout",
     "output_type": "stream",
     "text": [
      "MoviePy - Done.\n",
      "Moviepy - Building video /home/chenlequn/pan1/Dataset/Laser-Wire-DED-ThermalAudio-Dataset/segmented_videos/Exp_April_14_3.avi.\n",
      "MoviePy - Writing audio in Exp_April_14_3TEMP_MPY_wvf_snd.mp3\n"
     ]
    },
    {
     "name": "stderr",
     "output_type": "stream",
     "text": [
      "                                                                                                                     \r"
     ]
    },
    {
     "name": "stdout",
     "output_type": "stream",
     "text": [
      "MoviePy - Done.\n",
      "Moviepy - Writing video /home/chenlequn/pan1/Dataset/Laser-Wire-DED-ThermalAudio-Dataset/segmented_videos/Exp_April_14_3.avi\n",
      "\n"
     ]
    },
    {
     "name": "stderr",
     "output_type": "stream",
     "text": [
      "                                                                                                                     \r"
     ]
    },
    {
     "name": "stdout",
     "output_type": "stream",
     "text": [
      "Moviepy - Done !\n",
      "Moviepy - video ready /home/chenlequn/pan1/Dataset/Laser-Wire-DED-ThermalAudio-Dataset/segmented_videos/Exp_April_14_3.avi\n",
      "MoviePy - Writing audio in /home/chenlequn/pan1/Dataset/Laser-Wire-DED-ThermalAudio-Dataset/segmented_audio/Exp_April_14_3.wav\n"
     ]
    },
    {
     "name": "stderr",
     "output_type": "stream",
     "text": [
      "                                                                                                                     \r"
     ]
    },
    {
     "name": "stdout",
     "output_type": "stream",
     "text": [
      "MoviePy - Done.\n",
      "Moviepy - Building video /home/chenlequn/pan1/Dataset/Laser-Wire-DED-ThermalAudio-Dataset/segmented_videos/Exp_April_14_4.avi.\n",
      "MoviePy - Writing audio in Exp_April_14_4TEMP_MPY_wvf_snd.mp3\n"
     ]
    },
    {
     "name": "stderr",
     "output_type": "stream",
     "text": [
      "                                                                                                                     \r"
     ]
    },
    {
     "name": "stdout",
     "output_type": "stream",
     "text": [
      "MoviePy - Done.\n",
      "Moviepy - Writing video /home/chenlequn/pan1/Dataset/Laser-Wire-DED-ThermalAudio-Dataset/segmented_videos/Exp_April_14_4.avi\n",
      "\n"
     ]
    },
    {
     "name": "stderr",
     "output_type": "stream",
     "text": [
      "                                                                                                                     \r"
     ]
    },
    {
     "name": "stdout",
     "output_type": "stream",
     "text": [
      "Moviepy - Done !\n",
      "Moviepy - video ready /home/chenlequn/pan1/Dataset/Laser-Wire-DED-ThermalAudio-Dataset/segmented_videos/Exp_April_14_4.avi\n",
      "MoviePy - Writing audio in /home/chenlequn/pan1/Dataset/Laser-Wire-DED-ThermalAudio-Dataset/segmented_audio/Exp_April_14_4.wav\n"
     ]
    },
    {
     "name": "stderr",
     "output_type": "stream",
     "text": [
      "                                                                                                                     \r"
     ]
    },
    {
     "name": "stdout",
     "output_type": "stream",
     "text": [
      "MoviePy - Done.\n",
      "Moviepy - Building video /home/chenlequn/pan1/Dataset/Laser-Wire-DED-ThermalAudio-Dataset/segmented_videos/Exp_April_14_6.avi.\n",
      "MoviePy - Writing audio in Exp_April_14_6TEMP_MPY_wvf_snd.mp3\n"
     ]
    },
    {
     "name": "stderr",
     "output_type": "stream",
     "text": [
      "                                                                                                                     \r"
     ]
    },
    {
     "name": "stdout",
     "output_type": "stream",
     "text": [
      "MoviePy - Done.\n",
      "Moviepy - Writing video /home/chenlequn/pan1/Dataset/Laser-Wire-DED-ThermalAudio-Dataset/segmented_videos/Exp_April_14_6.avi\n",
      "\n"
     ]
    },
    {
     "name": "stderr",
     "output_type": "stream",
     "text": [
      "                                                                                                                     \r"
     ]
    },
    {
     "name": "stdout",
     "output_type": "stream",
     "text": [
      "Moviepy - Done !\n",
      "Moviepy - video ready /home/chenlequn/pan1/Dataset/Laser-Wire-DED-ThermalAudio-Dataset/segmented_videos/Exp_April_14_6.avi\n",
      "MoviePy - Writing audio in /home/chenlequn/pan1/Dataset/Laser-Wire-DED-ThermalAudio-Dataset/segmented_audio/Exp_April_14_6.wav\n"
     ]
    },
    {
     "name": "stderr",
     "output_type": "stream",
     "text": [
      "                                                                                                                     \r"
     ]
    },
    {
     "name": "stdout",
     "output_type": "stream",
     "text": [
      "MoviePy - Done.\n",
      "Moviepy - Building video /home/chenlequn/pan1/Dataset/Laser-Wire-DED-ThermalAudio-Dataset/segmented_videos/Exp_April_14_8.avi.\n",
      "MoviePy - Writing audio in Exp_April_14_8TEMP_MPY_wvf_snd.mp3\n"
     ]
    },
    {
     "name": "stderr",
     "output_type": "stream",
     "text": [
      "                                                                                                                     \r"
     ]
    },
    {
     "name": "stdout",
     "output_type": "stream",
     "text": [
      "MoviePy - Done.\n",
      "Moviepy - Writing video /home/chenlequn/pan1/Dataset/Laser-Wire-DED-ThermalAudio-Dataset/segmented_videos/Exp_April_14_8.avi\n",
      "\n"
     ]
    },
    {
     "name": "stderr",
     "output_type": "stream",
     "text": [
      "                                                                                                                     \r"
     ]
    },
    {
     "name": "stdout",
     "output_type": "stream",
     "text": [
      "Moviepy - Done !\n",
      "Moviepy - video ready /home/chenlequn/pan1/Dataset/Laser-Wire-DED-ThermalAudio-Dataset/segmented_videos/Exp_April_14_8.avi\n",
      "MoviePy - Writing audio in /home/chenlequn/pan1/Dataset/Laser-Wire-DED-ThermalAudio-Dataset/segmented_audio/Exp_April_14_8.wav\n"
     ]
    },
    {
     "name": "stderr",
     "output_type": "stream",
     "text": [
      "                                                                                                                     \r"
     ]
    },
    {
     "name": "stdout",
     "output_type": "stream",
     "text": [
      "MoviePy - Done.\n",
      "Moviepy - Building video /home/chenlequn/pan1/Dataset/Laser-Wire-DED-ThermalAudio-Dataset/segmented_videos/Exp_April_14_10.avi.\n",
      "MoviePy - Writing audio in Exp_April_14_10TEMP_MPY_wvf_snd.mp3\n"
     ]
    },
    {
     "name": "stderr",
     "output_type": "stream",
     "text": [
      "                                                                                                                     \r"
     ]
    },
    {
     "name": "stdout",
     "output_type": "stream",
     "text": [
      "MoviePy - Done.\n",
      "Moviepy - Writing video /home/chenlequn/pan1/Dataset/Laser-Wire-DED-ThermalAudio-Dataset/segmented_videos/Exp_April_14_10.avi\n",
      "\n"
     ]
    },
    {
     "name": "stderr",
     "output_type": "stream",
     "text": [
      "                                                                                                                     \r"
     ]
    },
    {
     "name": "stdout",
     "output_type": "stream",
     "text": [
      "Moviepy - Done !\n",
      "Moviepy - video ready /home/chenlequn/pan1/Dataset/Laser-Wire-DED-ThermalAudio-Dataset/segmented_videos/Exp_April_14_10.avi\n",
      "MoviePy - Writing audio in /home/chenlequn/pan1/Dataset/Laser-Wire-DED-ThermalAudio-Dataset/segmented_audio/Exp_April_14_10.wav\n"
     ]
    },
    {
     "name": "stderr",
     "output_type": "stream",
     "text": [
      "                                                                                                                     \r"
     ]
    },
    {
     "name": "stdout",
     "output_type": "stream",
     "text": [
      "MoviePy - Done.\n",
      "Moviepy - Building video /home/chenlequn/pan1/Dataset/Laser-Wire-DED-ThermalAudio-Dataset/segmented_videos/Exp_April_14_13.avi.\n",
      "MoviePy - Writing audio in Exp_April_14_13TEMP_MPY_wvf_snd.mp3\n"
     ]
    },
    {
     "name": "stderr",
     "output_type": "stream",
     "text": [
      "                                                                                                                     \r"
     ]
    },
    {
     "name": "stdout",
     "output_type": "stream",
     "text": [
      "MoviePy - Done.\n",
      "Moviepy - Writing video /home/chenlequn/pan1/Dataset/Laser-Wire-DED-ThermalAudio-Dataset/segmented_videos/Exp_April_14_13.avi\n",
      "\n"
     ]
    },
    {
     "name": "stderr",
     "output_type": "stream",
     "text": [
      "                                                                                                                     \r"
     ]
    },
    {
     "name": "stdout",
     "output_type": "stream",
     "text": [
      "Moviepy - Done !\n",
      "Moviepy - video ready /home/chenlequn/pan1/Dataset/Laser-Wire-DED-ThermalAudio-Dataset/segmented_videos/Exp_April_14_13.avi\n",
      "MoviePy - Writing audio in /home/chenlequn/pan1/Dataset/Laser-Wire-DED-ThermalAudio-Dataset/segmented_audio/Exp_April_14_13.wav\n"
     ]
    },
    {
     "name": "stderr",
     "output_type": "stream",
     "text": [
      "                                                                                                                     \r"
     ]
    },
    {
     "name": "stdout",
     "output_type": "stream",
     "text": [
      "MoviePy - Done.\n",
      "Moviepy - Building video /home/chenlequn/pan1/Dataset/Laser-Wire-DED-ThermalAudio-Dataset/segmented_videos/Exp_April_14_15.avi.\n",
      "MoviePy - Writing audio in Exp_April_14_15TEMP_MPY_wvf_snd.mp3\n"
     ]
    },
    {
     "name": "stderr",
     "output_type": "stream",
     "text": [
      "                                                                                                                     \r"
     ]
    },
    {
     "name": "stdout",
     "output_type": "stream",
     "text": [
      "MoviePy - Done.\n",
      "Moviepy - Writing video /home/chenlequn/pan1/Dataset/Laser-Wire-DED-ThermalAudio-Dataset/segmented_videos/Exp_April_14_15.avi\n",
      "\n"
     ]
    },
    {
     "name": "stderr",
     "output_type": "stream",
     "text": [
      "                                                                                                                     \r"
     ]
    },
    {
     "name": "stdout",
     "output_type": "stream",
     "text": [
      "Moviepy - Done !\n",
      "Moviepy - video ready /home/chenlequn/pan1/Dataset/Laser-Wire-DED-ThermalAudio-Dataset/segmented_videos/Exp_April_14_15.avi\n",
      "MoviePy - Writing audio in /home/chenlequn/pan1/Dataset/Laser-Wire-DED-ThermalAudio-Dataset/segmented_audio/Exp_April_14_15.wav\n"
     ]
    },
    {
     "name": "stderr",
     "output_type": "stream",
     "text": [
      "                                                                                                                     \r"
     ]
    },
    {
     "name": "stdout",
     "output_type": "stream",
     "text": [
      "MoviePy - Done.\n",
      "Moviepy - Building video /home/chenlequn/pan1/Dataset/Laser-Wire-DED-ThermalAudio-Dataset/segmented_videos/Exp_April_14_16.avi.\n",
      "MoviePy - Writing audio in Exp_April_14_16TEMP_MPY_wvf_snd.mp3\n"
     ]
    },
    {
     "name": "stderr",
     "output_type": "stream",
     "text": [
      "                                                                                                                     \r"
     ]
    },
    {
     "name": "stdout",
     "output_type": "stream",
     "text": [
      "MoviePy - Done.\n",
      "Moviepy - Writing video /home/chenlequn/pan1/Dataset/Laser-Wire-DED-ThermalAudio-Dataset/segmented_videos/Exp_April_14_16.avi\n",
      "\n"
     ]
    },
    {
     "name": "stderr",
     "output_type": "stream",
     "text": [
      "                                                                                                                     \r"
     ]
    },
    {
     "name": "stdout",
     "output_type": "stream",
     "text": [
      "Moviepy - Done !\n",
      "Moviepy - video ready /home/chenlequn/pan1/Dataset/Laser-Wire-DED-ThermalAudio-Dataset/segmented_videos/Exp_April_14_16.avi\n",
      "MoviePy - Writing audio in /home/chenlequn/pan1/Dataset/Laser-Wire-DED-ThermalAudio-Dataset/segmented_audio/Exp_April_14_16.wav\n"
     ]
    },
    {
     "name": "stderr",
     "output_type": "stream",
     "text": [
      "                                                                                                                     \r"
     ]
    },
    {
     "name": "stdout",
     "output_type": "stream",
     "text": [
      "MoviePy - Done.\n",
      "Moviepy - Building video /home/chenlequn/pan1/Dataset/Laser-Wire-DED-ThermalAudio-Dataset/segmented_videos/Exp_April_14_18.avi.\n",
      "MoviePy - Writing audio in Exp_April_14_18TEMP_MPY_wvf_snd.mp3\n"
     ]
    },
    {
     "name": "stderr",
     "output_type": "stream",
     "text": [
      "                                                                                                                     \r"
     ]
    },
    {
     "name": "stdout",
     "output_type": "stream",
     "text": [
      "MoviePy - Done.\n",
      "Moviepy - Writing video /home/chenlequn/pan1/Dataset/Laser-Wire-DED-ThermalAudio-Dataset/segmented_videos/Exp_April_14_18.avi\n",
      "\n"
     ]
    },
    {
     "name": "stderr",
     "output_type": "stream",
     "text": [
      "                                                                                                                     \r"
     ]
    },
    {
     "name": "stdout",
     "output_type": "stream",
     "text": [
      "Moviepy - Done !\n",
      "Moviepy - video ready /home/chenlequn/pan1/Dataset/Laser-Wire-DED-ThermalAudio-Dataset/segmented_videos/Exp_April_14_18.avi\n",
      "MoviePy - Writing audio in /home/chenlequn/pan1/Dataset/Laser-Wire-DED-ThermalAudio-Dataset/segmented_audio/Exp_April_14_18.wav\n"
     ]
    },
    {
     "name": "stderr",
     "output_type": "stream",
     "text": [
      "                                                                                                                     \r"
     ]
    },
    {
     "name": "stdout",
     "output_type": "stream",
     "text": [
      "MoviePy - Done.\n",
      "Moviepy - Building video /home/chenlequn/pan1/Dataset/Laser-Wire-DED-ThermalAudio-Dataset/segmented_videos/Exp_April_14_19.avi.\n",
      "MoviePy - Writing audio in Exp_April_14_19TEMP_MPY_wvf_snd.mp3\n"
     ]
    },
    {
     "name": "stderr",
     "output_type": "stream",
     "text": [
      "                                                                                                                     \r"
     ]
    },
    {
     "name": "stdout",
     "output_type": "stream",
     "text": [
      "MoviePy - Done.\n",
      "Moviepy - Writing video /home/chenlequn/pan1/Dataset/Laser-Wire-DED-ThermalAudio-Dataset/segmented_videos/Exp_April_14_19.avi\n",
      "\n"
     ]
    },
    {
     "name": "stderr",
     "output_type": "stream",
     "text": [
      "                                                                                                                     \r"
     ]
    },
    {
     "name": "stdout",
     "output_type": "stream",
     "text": [
      "Moviepy - Done !\n",
      "Moviepy - video ready /home/chenlequn/pan1/Dataset/Laser-Wire-DED-ThermalAudio-Dataset/segmented_videos/Exp_April_14_19.avi\n",
      "MoviePy - Writing audio in /home/chenlequn/pan1/Dataset/Laser-Wire-DED-ThermalAudio-Dataset/segmented_audio/Exp_April_14_19.wav\n"
     ]
    },
    {
     "name": "stderr",
     "output_type": "stream",
     "text": [
      "                                                                                                                     \r"
     ]
    },
    {
     "name": "stdout",
     "output_type": "stream",
     "text": [
      "MoviePy - Done.\n",
      "Moviepy - Building video /home/chenlequn/pan1/Dataset/Laser-Wire-DED-ThermalAudio-Dataset/segmented_videos/Exp_April_14_21.avi.\n",
      "MoviePy - Writing audio in Exp_April_14_21TEMP_MPY_wvf_snd.mp3\n"
     ]
    },
    {
     "name": "stderr",
     "output_type": "stream",
     "text": [
      "                                                                                                                     \r"
     ]
    },
    {
     "name": "stdout",
     "output_type": "stream",
     "text": [
      "MoviePy - Done.\n",
      "Moviepy - Writing video /home/chenlequn/pan1/Dataset/Laser-Wire-DED-ThermalAudio-Dataset/segmented_videos/Exp_April_14_21.avi\n",
      "\n"
     ]
    },
    {
     "name": "stderr",
     "output_type": "stream",
     "text": [
      "                                                                                                                     \r"
     ]
    },
    {
     "name": "stdout",
     "output_type": "stream",
     "text": [
      "Moviepy - Done !\n",
      "Moviepy - video ready /home/chenlequn/pan1/Dataset/Laser-Wire-DED-ThermalAudio-Dataset/segmented_videos/Exp_April_14_21.avi\n",
      "MoviePy - Writing audio in /home/chenlequn/pan1/Dataset/Laser-Wire-DED-ThermalAudio-Dataset/segmented_audio/Exp_April_14_21.wav\n"
     ]
    },
    {
     "name": "stderr",
     "output_type": "stream",
     "text": [
      "                                                                                                                     "
     ]
    },
    {
     "name": "stdout",
     "output_type": "stream",
     "text": [
      "MoviePy - Done.\n"
     ]
    },
    {
     "name": "stderr",
     "output_type": "stream",
     "text": [
      "\r"
     ]
    },
    {
     "name": "stdout",
     "output_type": "stream",
     "text": [
      "Moviepy - Building video /home/chenlequn/pan1/Dataset/Laser-Wire-DED-ThermalAudio-Dataset/segmented_videos/Exp_April_14_22.avi.\n",
      "MoviePy - Writing audio in Exp_April_14_22TEMP_MPY_wvf_snd.mp3\n"
     ]
    },
    {
     "name": "stderr",
     "output_type": "stream",
     "text": [
      "                                                                                                                     \r"
     ]
    },
    {
     "name": "stdout",
     "output_type": "stream",
     "text": [
      "MoviePy - Done.\n",
      "Moviepy - Writing video /home/chenlequn/pan1/Dataset/Laser-Wire-DED-ThermalAudio-Dataset/segmented_videos/Exp_April_14_22.avi\n",
      "\n"
     ]
    },
    {
     "name": "stderr",
     "output_type": "stream",
     "text": [
      "                                                                                                                     \r"
     ]
    },
    {
     "name": "stdout",
     "output_type": "stream",
     "text": [
      "Moviepy - Done !\n",
      "Moviepy - video ready /home/chenlequn/pan1/Dataset/Laser-Wire-DED-ThermalAudio-Dataset/segmented_videos/Exp_April_14_22.avi\n",
      "MoviePy - Writing audio in /home/chenlequn/pan1/Dataset/Laser-Wire-DED-ThermalAudio-Dataset/segmented_audio/Exp_April_14_22.wav\n"
     ]
    },
    {
     "name": "stderr",
     "output_type": "stream",
     "text": [
      "                                                                                                                     \r"
     ]
    },
    {
     "name": "stdout",
     "output_type": "stream",
     "text": [
      "MoviePy - Done.\n",
      "Moviepy - Building video /home/chenlequn/pan1/Dataset/Laser-Wire-DED-ThermalAudio-Dataset/segmented_videos/Exp_April_14_24.avi.\n",
      "MoviePy - Writing audio in Exp_April_14_24TEMP_MPY_wvf_snd.mp3\n"
     ]
    },
    {
     "name": "stderr",
     "output_type": "stream",
     "text": [
      "                                                                                                                     \r"
     ]
    },
    {
     "name": "stdout",
     "output_type": "stream",
     "text": [
      "MoviePy - Done.\n",
      "Moviepy - Writing video /home/chenlequn/pan1/Dataset/Laser-Wire-DED-ThermalAudio-Dataset/segmented_videos/Exp_April_14_24.avi\n",
      "\n"
     ]
    },
    {
     "name": "stderr",
     "output_type": "stream",
     "text": [
      "                                                                                                                     \r"
     ]
    },
    {
     "name": "stdout",
     "output_type": "stream",
     "text": [
      "Moviepy - Done !\n",
      "Moviepy - video ready /home/chenlequn/pan1/Dataset/Laser-Wire-DED-ThermalAudio-Dataset/segmented_videos/Exp_April_14_24.avi\n",
      "MoviePy - Writing audio in /home/chenlequn/pan1/Dataset/Laser-Wire-DED-ThermalAudio-Dataset/segmented_audio/Exp_April_14_24.wav\n"
     ]
    },
    {
     "name": "stderr",
     "output_type": "stream",
     "text": [
      "                                                                                                                     \r"
     ]
    },
    {
     "name": "stdout",
     "output_type": "stream",
     "text": [
      "MoviePy - Done.\n",
      "Moviepy - Building video /home/chenlequn/pan1/Dataset/Laser-Wire-DED-ThermalAudio-Dataset/segmented_videos/Exp_April_14_26.avi.\n",
      "MoviePy - Writing audio in Exp_April_14_26TEMP_MPY_wvf_snd.mp3\n"
     ]
    },
    {
     "name": "stderr",
     "output_type": "stream",
     "text": [
      "                                                                                                                     \r"
     ]
    },
    {
     "name": "stdout",
     "output_type": "stream",
     "text": [
      "MoviePy - Done.\n",
      "Moviepy - Writing video /home/chenlequn/pan1/Dataset/Laser-Wire-DED-ThermalAudio-Dataset/segmented_videos/Exp_April_14_26.avi\n",
      "\n"
     ]
    },
    {
     "name": "stderr",
     "output_type": "stream",
     "text": [
      "                                                                                                                     \r"
     ]
    },
    {
     "name": "stdout",
     "output_type": "stream",
     "text": [
      "Moviepy - Done !\n",
      "Moviepy - video ready /home/chenlequn/pan1/Dataset/Laser-Wire-DED-ThermalAudio-Dataset/segmented_videos/Exp_April_14_26.avi\n",
      "MoviePy - Writing audio in /home/chenlequn/pan1/Dataset/Laser-Wire-DED-ThermalAudio-Dataset/segmented_audio/Exp_April_14_26.wav\n"
     ]
    },
    {
     "name": "stderr",
     "output_type": "stream",
     "text": [
      "                                                                                                                     \r"
     ]
    },
    {
     "name": "stdout",
     "output_type": "stream",
     "text": [
      "MoviePy - Done.\n",
      "Moviepy - Building video /home/chenlequn/pan1/Dataset/Laser-Wire-DED-ThermalAudio-Dataset/segmented_videos/Exp_April_14_27.avi.\n",
      "MoviePy - Writing audio in Exp_April_14_27TEMP_MPY_wvf_snd.mp3\n"
     ]
    },
    {
     "name": "stderr",
     "output_type": "stream",
     "text": [
      "                                                                                                                     \r"
     ]
    },
    {
     "name": "stdout",
     "output_type": "stream",
     "text": [
      "MoviePy - Done.\n",
      "Moviepy - Writing video /home/chenlequn/pan1/Dataset/Laser-Wire-DED-ThermalAudio-Dataset/segmented_videos/Exp_April_14_27.avi\n",
      "\n"
     ]
    },
    {
     "name": "stderr",
     "output_type": "stream",
     "text": [
      "                                                                                                                     "
     ]
    },
    {
     "name": "stdout",
     "output_type": "stream",
     "text": [
      "Moviepy - Done !\n",
      "Moviepy - video ready /home/chenlequn/pan1/Dataset/Laser-Wire-DED-ThermalAudio-Dataset/segmented_videos/Exp_April_14_27.avi\n",
      "MoviePy - Writing audio in /home/chenlequn/pan1/Dataset/Laser-Wire-DED-ThermalAudio-Dataset/segmented_audio/Exp_April_14_27.wav\n"
     ]
    },
    {
     "name": "stderr",
     "output_type": "stream",
     "text": [
      "                                                                                                                     \r"
     ]
    },
    {
     "name": "stdout",
     "output_type": "stream",
     "text": [
      "MoviePy - Done.\n",
      "Moviepy - Building video /home/chenlequn/pan1/Dataset/Laser-Wire-DED-ThermalAudio-Dataset/segmented_videos/Exp_April_14_29.avi.\n",
      "MoviePy - Writing audio in Exp_April_14_29TEMP_MPY_wvf_snd.mp3\n"
     ]
    },
    {
     "name": "stderr",
     "output_type": "stream",
     "text": [
      "                                                                                                                     \r"
     ]
    },
    {
     "name": "stdout",
     "output_type": "stream",
     "text": [
      "MoviePy - Done.\n",
      "Moviepy - Writing video /home/chenlequn/pan1/Dataset/Laser-Wire-DED-ThermalAudio-Dataset/segmented_videos/Exp_April_14_29.avi\n",
      "\n"
     ]
    },
    {
     "name": "stderr",
     "output_type": "stream",
     "text": [
      "                                                                                                                     \r"
     ]
    },
    {
     "name": "stdout",
     "output_type": "stream",
     "text": [
      "Moviepy - Done !\n",
      "Moviepy - video ready /home/chenlequn/pan1/Dataset/Laser-Wire-DED-ThermalAudio-Dataset/segmented_videos/Exp_April_14_29.avi\n",
      "MoviePy - Writing audio in /home/chenlequn/pan1/Dataset/Laser-Wire-DED-ThermalAudio-Dataset/segmented_audio/Exp_April_14_29.wav\n"
     ]
    },
    {
     "name": "stderr",
     "output_type": "stream",
     "text": [
      "                                                                                                                     \r"
     ]
    },
    {
     "name": "stdout",
     "output_type": "stream",
     "text": [
      "MoviePy - Done.\n",
      "Moviepy - Building video /home/chenlequn/pan1/Dataset/Laser-Wire-DED-ThermalAudio-Dataset/segmented_videos/Exp_22_1.avi.\n",
      "MoviePy - Writing audio in Exp_22_1TEMP_MPY_wvf_snd.mp3\n"
     ]
    },
    {
     "name": "stderr",
     "output_type": "stream",
     "text": [
      "                                                                                                                     \r"
     ]
    },
    {
     "name": "stdout",
     "output_type": "stream",
     "text": [
      "MoviePy - Done.\n",
      "Moviepy - Writing video /home/chenlequn/pan1/Dataset/Laser-Wire-DED-ThermalAudio-Dataset/segmented_videos/Exp_22_1.avi\n",
      "\n"
     ]
    },
    {
     "name": "stderr",
     "output_type": "stream",
     "text": [
      "                                                                                                                     \r"
     ]
    },
    {
     "name": "stdout",
     "output_type": "stream",
     "text": [
      "Moviepy - Done !\n",
      "Moviepy - video ready /home/chenlequn/pan1/Dataset/Laser-Wire-DED-ThermalAudio-Dataset/segmented_videos/Exp_22_1.avi\n",
      "MoviePy - Writing audio in /home/chenlequn/pan1/Dataset/Laser-Wire-DED-ThermalAudio-Dataset/segmented_audio/Exp_22_1.wav\n"
     ]
    },
    {
     "name": "stderr",
     "output_type": "stream",
     "text": [
      "                                                                                                                     \r"
     ]
    },
    {
     "name": "stdout",
     "output_type": "stream",
     "text": [
      "MoviePy - Done.\n",
      "Moviepy - Building video /home/chenlequn/pan1/Dataset/Laser-Wire-DED-ThermalAudio-Dataset/segmented_videos/Exp_22_2.avi.\n",
      "MoviePy - Writing audio in Exp_22_2TEMP_MPY_wvf_snd.mp3\n"
     ]
    },
    {
     "name": "stderr",
     "output_type": "stream",
     "text": [
      "                                                                                                                     \r"
     ]
    },
    {
     "name": "stdout",
     "output_type": "stream",
     "text": [
      "MoviePy - Done.\n",
      "Moviepy - Writing video /home/chenlequn/pan1/Dataset/Laser-Wire-DED-ThermalAudio-Dataset/segmented_videos/Exp_22_2.avi\n",
      "\n"
     ]
    },
    {
     "name": "stderr",
     "output_type": "stream",
     "text": [
      "                                                                                                                     \r"
     ]
    },
    {
     "name": "stdout",
     "output_type": "stream",
     "text": [
      "Moviepy - Done !\n",
      "Moviepy - video ready /home/chenlequn/pan1/Dataset/Laser-Wire-DED-ThermalAudio-Dataset/segmented_videos/Exp_22_2.avi\n",
      "MoviePy - Writing audio in /home/chenlequn/pan1/Dataset/Laser-Wire-DED-ThermalAudio-Dataset/segmented_audio/Exp_22_2.wav\n"
     ]
    },
    {
     "name": "stderr",
     "output_type": "stream",
     "text": [
      "                                                                                                                     "
     ]
    },
    {
     "name": "stdout",
     "output_type": "stream",
     "text": [
      "MoviePy - Done.\n"
     ]
    },
    {
     "name": "stderr",
     "output_type": "stream",
     "text": [
      "\r"
     ]
    },
    {
     "name": "stdout",
     "output_type": "stream",
     "text": [
      "Moviepy - Building video /home/chenlequn/pan1/Dataset/Laser-Wire-DED-ThermalAudio-Dataset/segmented_videos/Exp_22_3.avi.\n",
      "MoviePy - Writing audio in Exp_22_3TEMP_MPY_wvf_snd.mp3\n"
     ]
    },
    {
     "name": "stderr",
     "output_type": "stream",
     "text": [
      "                                                                                                                     \r"
     ]
    },
    {
     "name": "stdout",
     "output_type": "stream",
     "text": [
      "MoviePy - Done.\n",
      "Moviepy - Writing video /home/chenlequn/pan1/Dataset/Laser-Wire-DED-ThermalAudio-Dataset/segmented_videos/Exp_22_3.avi\n",
      "\n"
     ]
    },
    {
     "name": "stderr",
     "output_type": "stream",
     "text": [
      "                                                                                                                     \r"
     ]
    },
    {
     "name": "stdout",
     "output_type": "stream",
     "text": [
      "Moviepy - Done !\n",
      "Moviepy - video ready /home/chenlequn/pan1/Dataset/Laser-Wire-DED-ThermalAudio-Dataset/segmented_videos/Exp_22_3.avi\n",
      "MoviePy - Writing audio in /home/chenlequn/pan1/Dataset/Laser-Wire-DED-ThermalAudio-Dataset/segmented_audio/Exp_22_3.wav\n"
     ]
    },
    {
     "name": "stderr",
     "output_type": "stream",
     "text": [
      "                                                                                                                     "
     ]
    },
    {
     "name": "stdout",
     "output_type": "stream",
     "text": [
      "MoviePy - Done.\n"
     ]
    },
    {
     "name": "stderr",
     "output_type": "stream",
     "text": [
      "\r"
     ]
    },
    {
     "name": "stdout",
     "output_type": "stream",
     "text": [
      "Moviepy - Building video /home/chenlequn/pan1/Dataset/Laser-Wire-DED-ThermalAudio-Dataset/segmented_videos/Exp_22_4.avi.\n",
      "MoviePy - Writing audio in Exp_22_4TEMP_MPY_wvf_snd.mp3\n"
     ]
    },
    {
     "name": "stderr",
     "output_type": "stream",
     "text": [
      "                                                                                                                     \r"
     ]
    },
    {
     "name": "stdout",
     "output_type": "stream",
     "text": [
      "MoviePy - Done.\n",
      "Moviepy - Writing video /home/chenlequn/pan1/Dataset/Laser-Wire-DED-ThermalAudio-Dataset/segmented_videos/Exp_22_4.avi\n",
      "\n"
     ]
    },
    {
     "name": "stderr",
     "output_type": "stream",
     "text": [
      "                                                                                                                     \r"
     ]
    },
    {
     "name": "stdout",
     "output_type": "stream",
     "text": [
      "Moviepy - Done !\n",
      "Moviepy - video ready /home/chenlequn/pan1/Dataset/Laser-Wire-DED-ThermalAudio-Dataset/segmented_videos/Exp_22_4.avi\n",
      "MoviePy - Writing audio in /home/chenlequn/pan1/Dataset/Laser-Wire-DED-ThermalAudio-Dataset/segmented_audio/Exp_22_4.wav\n"
     ]
    },
    {
     "name": "stderr",
     "output_type": "stream",
     "text": [
      "                                                                                                                     \r"
     ]
    },
    {
     "name": "stdout",
     "output_type": "stream",
     "text": [
      "MoviePy - Done.\n",
      "Moviepy - Building video /home/chenlequn/pan1/Dataset/Laser-Wire-DED-ThermalAudio-Dataset/segmented_videos/Exp_22_5.avi.\n",
      "MoviePy - Writing audio in Exp_22_5TEMP_MPY_wvf_snd.mp3\n"
     ]
    },
    {
     "name": "stderr",
     "output_type": "stream",
     "text": [
      "                                                                                                                     \r"
     ]
    },
    {
     "name": "stdout",
     "output_type": "stream",
     "text": [
      "MoviePy - Done.\n",
      "Moviepy - Writing video /home/chenlequn/pan1/Dataset/Laser-Wire-DED-ThermalAudio-Dataset/segmented_videos/Exp_22_5.avi\n",
      "\n"
     ]
    },
    {
     "name": "stderr",
     "output_type": "stream",
     "text": [
      "                                                                                                                     "
     ]
    },
    {
     "name": "stdout",
     "output_type": "stream",
     "text": [
      "Moviepy - Done !\n",
      "Moviepy - video ready /home/chenlequn/pan1/Dataset/Laser-Wire-DED-ThermalAudio-Dataset/segmented_videos/Exp_22_5.avi\n",
      "MoviePy - Writing audio in /home/chenlequn/pan1/Dataset/Laser-Wire-DED-ThermalAudio-Dataset/segmented_audio/Exp_22_5.wav\n"
     ]
    },
    {
     "name": "stderr",
     "output_type": "stream",
     "text": [
      "                                                                                                                     \r"
     ]
    },
    {
     "name": "stdout",
     "output_type": "stream",
     "text": [
      "MoviePy - Done.\n"
     ]
    }
   ],
   "source": [
    "# Iterate over each row in the corrected annotations DataFrame\n",
    "for index, row in new_annotations_df_cleaned.iterrows():\n",
    "    # Construct the path to the original video using the base name extracted from the segment name\n",
    "    base_video_name_parts = row['segment_name'].split('_')[:-1]  # Removing the index part, e.g., \"1.avi\"\n",
    "    base_video_name = '_'.join(base_video_name_parts) + '.avi'  # Re-adding the '.avi' extension\n",
    "    \n",
    "    original_video_path = os.path.join(Video_path, base_video_name)\n",
    "    segment_path = os.path.join(segmented_video_folder, row['segment_name'])\n",
    "    segmented_audio_filename = os.path.join(segmented_audio_path, row['segment_name'].replace('.avi', '.wav'))\n",
    "    \n",
    "    clip = VideoFileClip(original_video_path)\n",
    "    segmented_clip = clip.subclip(row['start_time'], row['end_time'])\n",
    "    \n",
    "    segmented_clip.write_videofile(segment_path, codec='libx264')\n",
    "    segmented_clip.audio.write_audiofile(segmented_audio_filename)\n",
    "    \n",
    "    clip.close()\n",
    "    segmented_clip.close()"
   ]
  },
  {
   "cell_type": "markdown",
   "id": "9b645a48-9fd1-43b1-b93c-aae084926d4f",
   "metadata": {},
   "source": [
    "## Further Data Sample Segmentation - 100 ms Data Points\n",
    "\n",
    "`Audio Segmentation (100 ms chunks)`:\n",
    "\n",
    "- **Extract Audio Segments**: Segment the audio with a duration of 100 ms. If the last segment is shorter than 100 ms, apply **zero-padding** to make up the difference.\n",
    "- **Save Audio Segments**: Save each audio segment as a separate file, following the naming convention **\"audio_{fullname_of_segmented_video}_{index}.wav\"**.\n",
    "\n",
    "`Video Frame Extraction (10 Hz)`:\n",
    "- **Extract Frames at 10 Hz**: Extract frames from the video at a rate of 10 Hz.\n",
    "- **Save Extracted Frames**: Save each extracted frame according to the naming convention **\"thermal_image_{fullname_of_segmented_video}_{index}.jpg\"**."
   ]
  },
  {
   "cell_type": "code",
   "execution_count": 17,
   "id": "0a619867",
   "metadata": {},
   "outputs": [],
   "source": [
    "import time\n",
    "start = time.time()"
   ]
  },
  {
   "cell_type": "code",
   "execution_count": 18,
   "id": "87a507a3-5485-4fd2-9156-e82f5731e863",
   "metadata": {},
   "outputs": [],
   "source": [
    "from fractions import Fraction\n",
    "import librosa\n",
    "import numpy as np\n",
    "import soundfile as sf\n",
    "\n",
    "def pad_or_truncate_if_necessary(audio_segment, expected_length):\n",
    "    actual_length = len(audio_segment)\n",
    "    if actual_length > expected_length:\n",
    "        return audio_segment[:expected_length]\n",
    "    elif actual_length < expected_length:\n",
    "        padding = expected_length - actual_length\n",
    "        return np.pad(audio_segment, (0, padding), 'constant')\n",
    "    return audio_segment\n",
    "\n",
    "\n",
    "def extract_frames_and_audio(video_file, audio_file, frame_output_folder, audio_output_folder):\n",
    "    with VideoFileClip(video_file) as clip:\n",
    "        duration = clip.duration\n",
    "        base_name = os.path.basename(video_file).split('.')[0]\n",
    "        total_segments = int(duration * 10)  # 10 segments per second for 100 ms segments\n",
    "\n",
    "        # Load the audio file using librosa\n",
    "        y, sr = librosa.load(audio_file, sr=None)\n",
    "        \n",
    "        for i in range(total_segments):\n",
    "            time_point = i / 10  # time in seconds\n",
    "            \n",
    "            # Extract frame\n",
    "            frame = clip.get_frame(time_point)\n",
    "            output_filename = f\"{base_name}_{i+1}.jpg\"\n",
    "            output_path = os.path.join(frame_output_folder, output_filename)\n",
    "            image_bgr = cv2.cvtColor(np.array(frame), cv2.COLOR_RGB2BGR)\n",
    "            cv2.imwrite(output_path, image_bgr)\n",
    "            \n",
    "            # Calculate the audio segment\n",
    "            start_sample = int(time_point * sr)\n",
    "            end_sample = start_sample + int(0.1 * sr)\n",
    "            audio_segment = y[start_sample:end_sample]\n",
    "            processed_audio = pad_or_truncate_if_necessary(audio_segment, int(0.1 * sr))\n",
    "            audio_segment_filename = f\"{base_name}_{i+1}.wav\"\n",
    "            audio_segment_path = os.path.join(audio_output_folder, audio_segment_filename)\n",
    "            sf.write(audio_segment_path, processed_audio, sr)\n",
    "        return total_segments\n",
    "\n",
    "\n",
    "def extract_frames_and_audio_with_progress(video_files, audio_files, image_output_folder, audio_output_folder):\n",
    "    total_frame_number = 0\n",
    "    video_base_names = {os.path.splitext(v)[0]: v for v in video_files}\n",
    "    audio_base_names = {os.path.splitext(a)[0]: a for a in audio_files}\n",
    "\n",
    "    for video_base, video_file in tqdm(video_base_names.items(), desc=\"Processing media files\"):\n",
    "        audio_file = audio_base_names.get(video_base)\n",
    "        if audio_file:\n",
    "            video_path = os.path.join(segmented_video_folder, video_file)\n",
    "            audio_path = os.path.join(segmented_audio_path, audio_file)\n",
    "            frames = extract_frames_and_audio(video_path, audio_path, image_output_folder, audio_output_folder)\n",
    "            total_frame_number += frames\n",
    "        else:\n",
    "            print(f\"No matching audio file found for video {video_file}\")\n",
    "    return total_frame_number\n"
   ]
  },
  {
   "cell_type": "code",
   "execution_count": 19,
   "id": "2fd986e6-4e20-4924-a44e-6c10d932680f",
   "metadata": {
    "scrolled": true
   },
   "outputs": [
    {
     "data": {
      "application/json": {
       "ascii": false,
       "bar_format": null,
       "colour": null,
       "elapsed": 0.0024187564849853516,
       "initial": 0,
       "n": 0,
       "ncols": null,
       "nrows": 26,
       "postfix": null,
       "prefix": "Processing media files",
       "rate": null,
       "total": 254,
       "unit": "it",
       "unit_divisor": 1000,
       "unit_scale": false
      },
      "application/vnd.jupyter.widget-view+json": {
       "model_id": "c8d45289741d4237a1ef613e8b229441",
       "version_major": 2,
       "version_minor": 0
      },
      "text/plain": [
       "Processing media files:   0%|          | 0/254 [00:00<?, ?it/s]"
      ]
     },
     "metadata": {},
     "output_type": "display_data"
    },
    {
     "name": "stdout",
     "output_type": "stream",
     "text": [
      "4083\n"
     ]
    }
   ],
   "source": [
    "video_files = os.listdir(segmented_video_folder)\n",
    "audio_files = os.listdir(segmented_audio_path)\n",
    "total_frame_number = extract_frames_and_audio_with_progress(video_files, audio_files, final_image_dataset, final_audio_dataset)\n",
    "print (total_frame_number)"
   ]
  },
  {
   "cell_type": "code",
   "execution_count": 20,
   "id": "a76868de",
   "metadata": {},
   "outputs": [
    {
     "name": "stdout",
     "output_type": "stream",
     "text": [
      " Took a total of 1.24 minutes for the image audio extraction\n"
     ]
    }
   ],
   "source": [
    "end = time.time()\n",
    "dur = end- start\n",
    "print(f' Took a total of {round(dur/60,2)} minutes for the image audio extraction')"
   ]
  },
  {
   "cell_type": "markdown",
   "id": "9bd9455a-29c7-402d-8a46-604e45c70b22",
   "metadata": {},
   "source": [
    "### Conslolidated annotation dataframe"
   ]
  },
  {
   "cell_type": "code",
   "execution_count": 21,
   "id": "8454172b-f42b-4249-bae6-4ff221ba8197",
   "metadata": {},
   "outputs": [],
   "source": [
    "def get_labels_from_segment_name(segment_name, annotations_df):\n",
    "    # Adjust the extraction of base_segment_name to match the new file naming convention\n",
    "    # For a file format like \"Exp_10_1_4.jpg\", the parent file name is \"Exp_10_1.avi\"\n",
    "    base_segment_name = \"_\".join(segment_name.split('_')[:-1]) + \".avi\"\n",
    "    # Filter the annotations DataFrame for rows where 'segment_name' matches 'base_segment_name'\n",
    "    filtered_df = annotations_df[annotations_df['segment_name'].str.startswith(base_segment_name)]\n",
    "    \n",
    "    \n",
    "    # Assuming there might be more than one label column ('label_1', 'label_2', ...)\n",
    "    labels_row = filtered_df.iloc[0]\n",
    "    labels = [labels_row[f'label_{i}'] for i in range(1, len(labels_row)) if f'label_{i}' in labels_row and pd.notnull(labels_row[f'label_{i}'])]\n",
    "    return labels"
   ]
  },
  {
   "cell_type": "code",
   "execution_count": 22,
   "id": "cfd9c8b3-3293-4cd3-8d57-c75c3ddbc38e",
   "metadata": {},
   "outputs": [],
   "source": [
    "def extract_experiment_number(filename):\n",
    "    \"\"\"\n",
    "    Extracts the experiment number from the filename.\n",
    "    Handles numeric, month-based, and 'test' identifiers.\n",
    "    \"\"\"\n",
    "    # Splitting by \"_\" to work with individual components\n",
    "    parts = filename.split('_')\n",
    "    \n",
    "    # Initial assumption: experiment number is the part right after \"Exp\"\n",
    "    experiment_parts = [parts[1]]\n",
    "    \n",
    "    # Check for month-based identifiers or 'test' inclusion\n",
    "    for part in parts[2:]:\n",
    "        if part.isdigit() or part.lower() == \"test\":\n",
    "            experiment_parts.append(part)\n",
    "        else:\n",
    "            break  # Stop if we encounter a part that doesn't fit the criteria\n",
    "    \n",
    "    return \"_\".join(experiment_parts)\n",
    "\n",
    "def create_updated_annotations_df(image_dataset_folder, audio_dataset_folder, annotations_df):\n",
    "    rows = []\n",
    "    image_files = sorted(os.listdir(image_dataset_folder))\n",
    "    audio_files = sorted(os.listdir(audio_dataset_folder))\n",
    "    \n",
    "    # Create a mapping for audio files to ensure pairing by basename\n",
    "    audio_file_map = {os.path.splitext(name)[0]: name for name in audio_files}\n",
    "    \n",
    "    for img_file in tqdm(image_files, desc=\"Generating annotations\"):\n",
    "        base_name = os.path.splitext(img_file)[0]\n",
    "        audio_file = audio_file_map.get(base_name, \"\")\n",
    "        experiment_number = extract_experiment_number(img_file)\n",
    "        labels = get_labels_from_segment_name(img_file, annotations_df)\n",
    "        \n",
    "        row = {\n",
    "            'audio_name': audio_file,\n",
    "            'image_name': img_file,\n",
    "            'experiment_number': experiment_number,\n",
    "            **{f'label_{i+1}': label for i, label in enumerate(labels)}\n",
    "        }\n",
    "        rows.append(row)\n",
    "    \n",
    "    # Convert list of dicts into DataFrame and sort by experiment_number\n",
    "    df = pd.DataFrame(rows)\n",
    "    df['sort_key'] = df['experiment_number'].apply(lambda x: int(x) if x.isdigit() else x)\n",
    "    df = df.sort_values(by='sort_key').drop('sort_key', axis=1)\n",
    "    \n",
    "    return df"
   ]
  },
  {
   "cell_type": "code",
   "execution_count": 23,
   "id": "e9d67c82-2c39-425b-8d70-13ea097fc754",
   "metadata": {},
   "outputs": [
    {
     "name": "stdout",
     "output_type": "stream",
     "text": [
      "Exp_10_1_4.jpg: 10_1\n",
      "Exp_April_16_30_23.wav: April_16_30\n",
      "Exp_April_10_test_1_27.jpg: April_10_test_1\n"
     ]
    }
   ],
   "source": [
    "test_filenames = [\n",
    "    \"Exp_10_1_4.jpg\",\n",
    "    \"Exp_April_16_30_23.wav\",\n",
    "    \"Exp_April_10_test_1_27.jpg\"\n",
    "]\n",
    "\n",
    "for filename in test_filenames:\n",
    "    print(f\"{filename}: {extract_experiment_number(filename)}\")"
   ]
  },
  {
   "cell_type": "code",
   "execution_count": 24,
   "id": "8707df26-eab3-4eae-8495-0fbb8b296b6b",
   "metadata": {},
   "outputs": [
    {
     "data": {
      "application/json": {
       "ascii": false,
       "bar_format": null,
       "colour": null,
       "elapsed": 0.002807140350341797,
       "initial": 0,
       "n": 0,
       "ncols": null,
       "nrows": 26,
       "postfix": null,
       "prefix": "Generating annotations",
       "rate": null,
       "total": 4083,
       "unit": "it",
       "unit_divisor": 1000,
       "unit_scale": false
      },
      "application/vnd.jupyter.widget-view+json": {
       "model_id": "91c471182b8d4f0ebb99ee181c671abf",
       "version_major": 2,
       "version_minor": 0
      },
      "text/plain": [
       "Generating annotations:   0%|          | 0/4083 [00:00<?, ?it/s]"
      ]
     },
     "metadata": {},
     "output_type": "display_data"
    }
   ],
   "source": [
    "final_annotations_df = create_updated_annotations_df(final_image_dataset, final_audio_dataset, new_annotations_df_cleaned)"
   ]
  },
  {
   "cell_type": "code",
   "execution_count": 25,
   "id": "94bd30bc",
   "metadata": {},
   "outputs": [
    {
     "data": {
      "text/html": [
       "<div>\n",
       "<style scoped>\n",
       "    .dataframe tbody tr th:only-of-type {\n",
       "        vertical-align: middle;\n",
       "    }\n",
       "\n",
       "    .dataframe tbody tr th {\n",
       "        vertical-align: top;\n",
       "    }\n",
       "\n",
       "    .dataframe thead th {\n",
       "        text-align: right;\n",
       "    }\n",
       "</style>\n",
       "<table border=\"1\" class=\"dataframe\">\n",
       "  <thead>\n",
       "    <tr style=\"text-align: right;\">\n",
       "      <th></th>\n",
       "      <th>segment_name</th>\n",
       "      <th>start_time</th>\n",
       "      <th>end_time</th>\n",
       "      <th>duration</th>\n",
       "      <th>label_1</th>\n",
       "      <th>label_2</th>\n",
       "      <th>label_3</th>\n",
       "    </tr>\n",
       "  </thead>\n",
       "  <tbody>\n",
       "  </tbody>\n",
       "</table>\n",
       "</div>"
      ],
      "text/plain": [
       "Empty DataFrame\n",
       "Columns: [segment_name, start_time, end_time, duration, label_1, label_2, label_3]\n",
       "Index: []"
      ]
     },
     "execution_count": 25,
     "metadata": {},
     "output_type": "execute_result"
    }
   ],
   "source": [
    "new_annotations_df_cleaned[new_annotations_df_cleaned['segment_name']=='Exp_17_1.avi']"
   ]
  },
  {
   "cell_type": "code",
   "execution_count": 26,
   "id": "8f58eefa-76dd-4f33-8f70-f3d50613581a",
   "metadata": {},
   "outputs": [
    {
     "data": {
      "text/html": [
       "<div>\n",
       "<style scoped>\n",
       "    .dataframe tbody tr th:only-of-type {\n",
       "        vertical-align: middle;\n",
       "    }\n",
       "\n",
       "    .dataframe tbody tr th {\n",
       "        vertical-align: top;\n",
       "    }\n",
       "\n",
       "    .dataframe thead th {\n",
       "        text-align: right;\n",
       "    }\n",
       "</style>\n",
       "<table border=\"1\" class=\"dataframe\">\n",
       "  <thead>\n",
       "    <tr style=\"text-align: right;\">\n",
       "      <th></th>\n",
       "      <th>audio_name</th>\n",
       "      <th>image_name</th>\n",
       "      <th>experiment_number</th>\n",
       "      <th>label_1</th>\n",
       "      <th>label_2</th>\n",
       "      <th>label_3</th>\n",
       "    </tr>\n",
       "  </thead>\n",
       "  <tbody>\n",
       "    <tr>\n",
       "      <th>0</th>\n",
       "      <td>Exp_10_10_1.wav</td>\n",
       "      <td>Exp_10_10_1.jpg</td>\n",
       "      <td>10_10</td>\n",
       "      <td>LoF</td>\n",
       "      <td>NaN</td>\n",
       "      <td>NaN</td>\n",
       "    </tr>\n",
       "    <tr>\n",
       "      <th>13</th>\n",
       "      <td>Exp_10_10_9.wav</td>\n",
       "      <td>Exp_10_10_9.jpg</td>\n",
       "      <td>10_10</td>\n",
       "      <td>LoF</td>\n",
       "      <td>NaN</td>\n",
       "      <td>NaN</td>\n",
       "    </tr>\n",
       "    <tr>\n",
       "      <th>12</th>\n",
       "      <td>Exp_10_10_8.wav</td>\n",
       "      <td>Exp_10_10_8.jpg</td>\n",
       "      <td>10_10</td>\n",
       "      <td>LoF</td>\n",
       "      <td>NaN</td>\n",
       "      <td>NaN</td>\n",
       "    </tr>\n",
       "    <tr>\n",
       "      <th>11</th>\n",
       "      <td>Exp_10_10_7.wav</td>\n",
       "      <td>Exp_10_10_7.jpg</td>\n",
       "      <td>10_10</td>\n",
       "      <td>LoF</td>\n",
       "      <td>NaN</td>\n",
       "      <td>NaN</td>\n",
       "    </tr>\n",
       "    <tr>\n",
       "      <th>10</th>\n",
       "      <td>Exp_10_10_6.wav</td>\n",
       "      <td>Exp_10_10_6.jpg</td>\n",
       "      <td>10_10</td>\n",
       "      <td>LoF</td>\n",
       "      <td>NaN</td>\n",
       "      <td>NaN</td>\n",
       "    </tr>\n",
       "    <tr>\n",
       "      <th>...</th>\n",
       "      <td>...</td>\n",
       "      <td>...</td>\n",
       "      <td>...</td>\n",
       "      <td>...</td>\n",
       "      <td>...</td>\n",
       "      <td>...</td>\n",
       "    </tr>\n",
       "    <tr>\n",
       "      <th>4081</th>\n",
       "      <td>Exp_April_16_test_4_4.wav</td>\n",
       "      <td>Exp_April_16_test_4_4.jpg</td>\n",
       "      <td>April_16_test_4</td>\n",
       "      <td>Laser-off</td>\n",
       "      <td>Shielding Gas-off</td>\n",
       "      <td>NaN</td>\n",
       "    </tr>\n",
       "    <tr>\n",
       "      <th>4078</th>\n",
       "      <td>Exp_April_16_test_4_1.wav</td>\n",
       "      <td>Exp_April_16_test_4_1.jpg</td>\n",
       "      <td>April_16_test_4</td>\n",
       "      <td>Laser-off</td>\n",
       "      <td>Shielding Gas-off</td>\n",
       "      <td>NaN</td>\n",
       "    </tr>\n",
       "    <tr>\n",
       "      <th>4079</th>\n",
       "      <td>Exp_April_16_test_4_2.wav</td>\n",
       "      <td>Exp_April_16_test_4_2.jpg</td>\n",
       "      <td>April_16_test_4</td>\n",
       "      <td>Laser-off</td>\n",
       "      <td>Shielding Gas-off</td>\n",
       "      <td>NaN</td>\n",
       "    </tr>\n",
       "    <tr>\n",
       "      <th>4080</th>\n",
       "      <td>Exp_April_16_test_4_3.wav</td>\n",
       "      <td>Exp_April_16_test_4_3.jpg</td>\n",
       "      <td>April_16_test_4</td>\n",
       "      <td>Laser-off</td>\n",
       "      <td>Shielding Gas-off</td>\n",
       "      <td>NaN</td>\n",
       "    </tr>\n",
       "    <tr>\n",
       "      <th>4082</th>\n",
       "      <td>Exp_April_16_test_4_5.wav</td>\n",
       "      <td>Exp_April_16_test_4_5.jpg</td>\n",
       "      <td>April_16_test_4</td>\n",
       "      <td>Laser-off</td>\n",
       "      <td>Shielding Gas-off</td>\n",
       "      <td>NaN</td>\n",
       "    </tr>\n",
       "  </tbody>\n",
       "</table>\n",
       "<p>4083 rows × 6 columns</p>\n",
       "</div>"
      ],
      "text/plain": [
       "                     audio_name                 image_name experiment_number  \\\n",
       "0               Exp_10_10_1.wav            Exp_10_10_1.jpg             10_10   \n",
       "13              Exp_10_10_9.wav            Exp_10_10_9.jpg             10_10   \n",
       "12              Exp_10_10_8.wav            Exp_10_10_8.jpg             10_10   \n",
       "11              Exp_10_10_7.wav            Exp_10_10_7.jpg             10_10   \n",
       "10              Exp_10_10_6.wav            Exp_10_10_6.jpg             10_10   \n",
       "...                         ...                        ...               ...   \n",
       "4081  Exp_April_16_test_4_4.wav  Exp_April_16_test_4_4.jpg   April_16_test_4   \n",
       "4078  Exp_April_16_test_4_1.wav  Exp_April_16_test_4_1.jpg   April_16_test_4   \n",
       "4079  Exp_April_16_test_4_2.wav  Exp_April_16_test_4_2.jpg   April_16_test_4   \n",
       "4080  Exp_April_16_test_4_3.wav  Exp_April_16_test_4_3.jpg   April_16_test_4   \n",
       "4082  Exp_April_16_test_4_5.wav  Exp_April_16_test_4_5.jpg   April_16_test_4   \n",
       "\n",
       "        label_1            label_2 label_3  \n",
       "0           LoF                NaN     NaN  \n",
       "13          LoF                NaN     NaN  \n",
       "12          LoF                NaN     NaN  \n",
       "11          LoF                NaN     NaN  \n",
       "10          LoF                NaN     NaN  \n",
       "...         ...                ...     ...  \n",
       "4081  Laser-off  Shielding Gas-off     NaN  \n",
       "4078  Laser-off  Shielding Gas-off     NaN  \n",
       "4079  Laser-off  Shielding Gas-off     NaN  \n",
       "4080  Laser-off  Shielding Gas-off     NaN  \n",
       "4082  Laser-off  Shielding Gas-off     NaN  \n",
       "\n",
       "[4083 rows x 6 columns]"
      ]
     },
     "execution_count": 26,
     "metadata": {},
     "output_type": "execute_result"
    }
   ],
   "source": [
    "final_annotations_df"
   ]
  },
  {
   "cell_type": "code",
   "execution_count": 27,
   "id": "63aec102-d92a-4d35-88c8-f1735b7908b2",
   "metadata": {},
   "outputs": [
    {
     "name": "stdout",
     "output_type": "stream",
     "text": [
      "Saving figure dataset_distribution-final\n"
     ]
    },
    {
     "data": {
      "image/png": "[encoded data removed]",
      "text/plain": [
       "<Figure size 700x600 with 1 Axes>"
      ]
     },
     "metadata": {},
     "output_type": "display_data"
    }
   ],
   "source": [
    "plot_data_distribution(final_annotations_df, 'label_1', \n",
    "                       'Distribution of Dataset per category', 'dataset_distribution-final')"
   ]
  },
  {
   "cell_type": "code",
   "execution_count": 28,
   "id": "580caa4f-0f54-4be1-a94e-a42e1adbf703",
   "metadata": {},
   "outputs": [],
   "source": [
    "# Saving the DataFrame to a CSV file\n",
    "final_annotations_df.to_csv('dataset_annotations.csv', index=False)"
   ]
  }
 ],
 "metadata": {
  "kernelspec": {
   "display_name": "Python 3 (ipykernel)",
   "language": "python",
   "name": "python3"
  },
  "language_info": {
   "codemirror_mode": {
    "name": "ipython",
    "version": 3
   },
   "file_extension": ".py",
   "mimetype": "text/x-python",
   "name": "python",
   "nbconvert_exporter": "python",
   "pygments_lexer": "ipython3",
   "version": "3.9.19"
  }
 },
 "nbformat": 4,
 "nbformat_minor": 5
}
