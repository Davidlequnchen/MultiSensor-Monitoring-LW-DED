{
 "cells": [
  {
   "cell_type": "markdown",
   "id": "0e8a73e8-62c6-478a-a623-b3285c7bb46b",
   "metadata": {},
   "source": [
    "# MultiSensor Dataset Preparation \n",
    "- Experiment data: March 2024. Aluminum, Laser-Wire DED\n",
    "- Aurthor: Chen Lequn\n",
    "\n",
    "### Notebook 3a: Feature selection, ML modelling and ablation study (feature-based audio model)\n",
    "- Full Dataset: All features (from previous notebook 2b)\n",
    "- Ablated Dataset 1: Features after removing those with Pearson correlation > 0.97 (within audio modality).\n",
    "- Ablated Dataset 2: Features after removing those with Pearson correlation > 0.9 (within audio modality).\n",
    "- Ablated Dataset 3: Features from Ablated Dataset 1 with MI > 0.05.\n",
    "- Ablated Dataset 4: Features from Ablated Dataset 1 with MI > 0.1."
   ]
  },
  {
   "cell_type": "code",
   "execution_count": 1,
   "id": "60425ac2-09bd-4bd1-af37-463a33363e08",
   "metadata": {},
   "outputs": [
    {
     "name": "stderr",
     "output_type": "stream",
     "text": [
      "Intel(R) Extension for Scikit-learn* enabled (https://github.com/intel/scikit-learn-intelex)\n"
     ]
    }
   ],
   "source": [
    "from sklearnex import patch_sklearn, config_context\n",
    "import dpctl\n",
    "patch_sklearn()"
   ]
  },
  {
   "cell_type": "code",
   "execution_count": 2,
   "id": "1dd4d910-cf99-4091-9459-887c8119a16b",
   "metadata": {},
   "outputs": [],
   "source": [
    "# import wandb"
   ]
  },
  {
   "cell_type": "code",
   "execution_count": 3,
   "id": "4bf02ab4-a68c-4e2d-901f-ce0b33135ef4",
   "metadata": {},
   "outputs": [],
   "source": [
    "import os\n",
    "import glob\n",
    "import sys\n",
    "import math\n",
    "import numpy as np\n",
    "import pandas as pd\n",
    "from pandas import DataFrame\n",
    "import scipy as sp\n",
    "import itertools\n",
    "from collections import defaultdict\n",
    "from pprint import pprint\n",
    "import pickle\n",
    "from joblib import dump, load\n",
    "\n",
    "# Plotting\n",
    "import matplotlib as mpl\n",
    "import matplotlib.pyplot as plt\n",
    "from matplotlib.pyplot import gca\n",
    "from pylab import *\n",
    "import seaborn as sns\n",
    "mpl.rc('axes', labelsize=14)\n",
    "mpl.rc('xtick', labelsize=12)\n",
    "mpl.rc('ytick', labelsize=12)\n",
    "%matplotlib inline\n",
    "\n",
    "# Scikit-learn general\n",
    "from sklearn import preprocessing, metrics, svm, datasets, tree, neighbors\n",
    "from sklearn.metrics import accuracy_score, f1_score, roc_auc_score, precision_score, recall_score, confusion_matrix, roc_curve, auc, classification_report\n",
    "from sklearn.model_selection import train_test_split, RandomizedSearchCV, cross_validate, KFold, StratifiedKFold, GridSearchCV\n",
    "from sklearn.preprocessing import StandardScaler, LabelEncoder, OneHotEncoder, scale\n",
    "from sklearn.ensemble import HistGradientBoostingClassifier\n",
    "\n",
    "# Scikit-learn models\n",
    "from sklearn.neighbors import KNeighborsClassifier\n",
    "from sklearn.tree import DecisionTreeClassifier\n",
    "from sklearn.linear_model import LogisticRegression, Lasso, Ridge\n",
    "from sklearn.ensemble import RandomForestClassifier, AdaBoostClassifier, GradientBoostingClassifier, GradientBoostingRegressor\n",
    "from sklearn.neural_network import MLPClassifier, MLPRegressor\n",
    "from sklearn.gaussian_process import GaussianProcessClassifier\n",
    "from sklearn.gaussian_process.kernels import RBF\n",
    "from sklearn.naive_bayes import GaussianNB\n",
    "from sklearn.svm import SVC, SVR\n",
    "from sklearn.multiclass import OneVsRestClassifier\n",
    "\n",
    "# Imbalanced learn\n",
    "from imblearn.ensemble import BalancedRandomForestClassifier, RUSBoostClassifier\n",
    "\n",
    "# XGBoost and LightGBM\n",
    "import xgboost as xgb\n",
    "from xgboost import XGBClassifier\n",
    "import lightgbm as lgb\n",
    "from lightgbm import LGBMClassifier\n",
    "\n",
    "# Utilities\n",
    "from scipy.stats import uniform, randint\n",
    "from scipy.interpolate import griddata\n",
    "from sklearn.utils import shuffle, resample, class_weight\n",
    "from utils import *\n"
   ]
  },
  {
   "cell_type": "code",
   "execution_count": 4,
   "id": "f8888f60-bf0b-4a2a-8ee6-f32931a1938a",
   "metadata": {},
   "outputs": [],
   "source": [
    "PROJECT_ROOT_DIR = \"../\"\n",
    "IMAGE_PATH = os.path.join(PROJECT_ROOT_DIR, \"result_images\", 'defect classification', 'ML-baseline', 'ablation study')\n",
    "model_path = os.path.join(PROJECT_ROOT_DIR, \"trained_models\", 'defect classification', 'ML-baseline', 'ablation study')\n",
    "scaler_path = os.path.join(PROJECT_ROOT_DIR, \"saved_scalers\", 'defect classification',  'ML-baseline', 'ablation study')\n",
    "os.makedirs(IMAGE_PATH, exist_ok=True)\n",
    "os.makedirs(model_path, exist_ok=True)\n",
    "os.makedirs(scaler_path, exist_ok=True)\n",
    "\n",
    "\n",
    "# Change to desirable location of the raw dataset\n",
    "Multimodal_dataset_PATH = \"/home/chenlequn/pan1/Dataset/Laser-Wire-DED-ThermalAudio-Dataset\"\n",
    "Annotation_file_path = os.path.join(Multimodal_dataset_PATH, \"Annotation\")\n",
    "Dataset_path = os.path.join(Multimodal_dataset_PATH, 'Dataset')\n",
    "final_audio_dataset = os.path.join(Multimodal_dataset_PATH, 'Dataset', \"audio\")\n",
    "final_image_dataset = os.path.join(Multimodal_dataset_PATH, 'Dataset', \"thermal_images\")\n",
    "              \n",
    "\n",
    "## function for automatically save the diagram/graph into the folder \n",
    "def save_fig(fig_id, tight_layout=True, fig_extension=\"png\", resolution=300):\n",
    "    path = os.path.join(IMAGE_PATH, fig_id + \".\" + fig_extension)\n",
    "    print(\"Saving figure\", fig_id)\n",
    "    if tight_layout:\n",
    "        plt.tight_layout()\n",
    "    plt.savefig(path, format=fig_extension, dpi=resolution)\n",
    "\n",
    "import warnings\n",
    "warnings.filterwarnings(action=\"ignore\", message=\"^internal gelsd\")\n",
    "\n",
    "plt.rcParams[\"axes.edgecolor\"] = \"black\"\n",
    "plt.rcParams[\"axes.linewidth\"] = 2.50"
   ]
  },
  {
   "cell_type": "code",
   "execution_count": 5,
   "id": "78b4108b-6095-4336-9f14-56a4b96d50ea",
   "metadata": {
    "scrolled": true
   },
   "outputs": [],
   "source": [
    "# # Initialize wandb\n",
    "# wandb.init(project=\"LW-DED_audio-classification\")"
   ]
  },
  {
   "cell_type": "markdown",
   "id": "b3c1c916-c976-42f8-bab1-877575548b65",
   "metadata": {},
   "source": [
    "## Step 1: Dataset preparation"
   ]
  },
  {
   "cell_type": "code",
   "execution_count": 6,
   "id": "b965e8e5-f8ab-4bbf-b317-b76a218aa8a1",
   "metadata": {
    "scrolled": true
   },
   "outputs": [
    {
     "data": {
      "text/html": [
       "<div>\n",
       "<style scoped>\n",
       "    .dataframe tbody tr th:only-of-type {\n",
       "        vertical-align: middle;\n",
       "    }\n",
       "\n",
       "    .dataframe tbody tr th {\n",
       "        vertical-align: top;\n",
       "    }\n",
       "\n",
       "    .dataframe thead th {\n",
       "        text-align: right;\n",
       "    }\n",
       "</style>\n",
       "<table border=\"1\" class=\"dataframe\">\n",
       "  <thead>\n",
       "    <tr style=\"text-align: right;\">\n",
       "      <th></th>\n",
       "      <th>audio_name</th>\n",
       "      <th>image_name</th>\n",
       "      <th>experiment_number</th>\n",
       "      <th>label_1</th>\n",
       "      <th>label_2</th>\n",
       "      <th>label_3</th>\n",
       "      <th>rms_energy</th>\n",
       "      <th>amplitude_envelope_mean</th>\n",
       "      <th>amplitude_envelope_std</th>\n",
       "      <th>zero_crossing_rate</th>\n",
       "      <th>...</th>\n",
       "      <th>mfcc_8_mean</th>\n",
       "      <th>mfcc_8_std</th>\n",
       "      <th>mfcc_9_mean</th>\n",
       "      <th>mfcc_9_std</th>\n",
       "      <th>mfcc_10_mean</th>\n",
       "      <th>mfcc_10_std</th>\n",
       "      <th>mfcc_11_mean</th>\n",
       "      <th>mfcc_11_std</th>\n",
       "      <th>mfcc_12_mean</th>\n",
       "      <th>mfcc_12_std</th>\n",
       "    </tr>\n",
       "  </thead>\n",
       "  <tbody>\n",
       "    <tr>\n",
       "      <th>0</th>\n",
       "      <td>Exp_17_12_1.wav</td>\n",
       "      <td>Exp_17_12_1.jpg</td>\n",
       "      <td>17_12</td>\n",
       "      <td>Balling (LoF)</td>\n",
       "      <td>NaN</td>\n",
       "      <td>NaN</td>\n",
       "      <td>0.055400</td>\n",
       "      <td>0.063368</td>\n",
       "      <td>0.014181</td>\n",
       "      <td>0.021542</td>\n",
       "      <td>...</td>\n",
       "      <td>4.465534</td>\n",
       "      <td>5.621855</td>\n",
       "      <td>10.530560</td>\n",
       "      <td>7.604537</td>\n",
       "      <td>1.019614</td>\n",
       "      <td>5.977480</td>\n",
       "      <td>11.476974</td>\n",
       "      <td>6.662732</td>\n",
       "      <td>-8.070549</td>\n",
       "      <td>8.544114</td>\n",
       "    </tr>\n",
       "    <tr>\n",
       "      <th>1</th>\n",
       "      <td>Exp_17_12_2.wav</td>\n",
       "      <td>Exp_17_12_2.jpg</td>\n",
       "      <td>17_12</td>\n",
       "      <td>Balling (LoF)</td>\n",
       "      <td>NaN</td>\n",
       "      <td>NaN</td>\n",
       "      <td>0.037319</td>\n",
       "      <td>0.047844</td>\n",
       "      <td>0.013682</td>\n",
       "      <td>0.057370</td>\n",
       "      <td>...</td>\n",
       "      <td>3.375155</td>\n",
       "      <td>6.320611</td>\n",
       "      <td>5.001470</td>\n",
       "      <td>8.519529</td>\n",
       "      <td>-3.618283</td>\n",
       "      <td>10.137958</td>\n",
       "      <td>8.518948</td>\n",
       "      <td>8.286986</td>\n",
       "      <td>-12.481044</td>\n",
       "      <td>8.784910</td>\n",
       "    </tr>\n",
       "    <tr>\n",
       "      <th>2</th>\n",
       "      <td>Exp_17_12_3.wav</td>\n",
       "      <td>Exp_17_12_3.jpg</td>\n",
       "      <td>17_12</td>\n",
       "      <td>Balling (LoF)</td>\n",
       "      <td>NaN</td>\n",
       "      <td>NaN</td>\n",
       "      <td>0.028314</td>\n",
       "      <td>0.030773</td>\n",
       "      <td>0.013055</td>\n",
       "      <td>0.083900</td>\n",
       "      <td>...</td>\n",
       "      <td>0.212402</td>\n",
       "      <td>6.042810</td>\n",
       "      <td>3.667673</td>\n",
       "      <td>6.774061</td>\n",
       "      <td>-4.279868</td>\n",
       "      <td>5.320736</td>\n",
       "      <td>5.285318</td>\n",
       "      <td>6.426253</td>\n",
       "      <td>-13.551059</td>\n",
       "      <td>6.355420</td>\n",
       "    </tr>\n",
       "    <tr>\n",
       "      <th>3</th>\n",
       "      <td>Exp_17_12_4.wav</td>\n",
       "      <td>Exp_17_12_4.jpg</td>\n",
       "      <td>17_12</td>\n",
       "      <td>Balling (LoF)</td>\n",
       "      <td>NaN</td>\n",
       "      <td>NaN</td>\n",
       "      <td>0.025656</td>\n",
       "      <td>0.033076</td>\n",
       "      <td>0.009994</td>\n",
       "      <td>0.080726</td>\n",
       "      <td>...</td>\n",
       "      <td>-2.960245</td>\n",
       "      <td>10.497297</td>\n",
       "      <td>3.910449</td>\n",
       "      <td>7.278681</td>\n",
       "      <td>0.686291</td>\n",
       "      <td>9.202967</td>\n",
       "      <td>9.157614</td>\n",
       "      <td>7.613472</td>\n",
       "      <td>-13.765296</td>\n",
       "      <td>6.685709</td>\n",
       "    </tr>\n",
       "    <tr>\n",
       "      <th>4</th>\n",
       "      <td>Exp_17_13_6.wav</td>\n",
       "      <td>Exp_17_13_6.jpg</td>\n",
       "      <td>17_13</td>\n",
       "      <td>Balling (LoF)</td>\n",
       "      <td>NaN</td>\n",
       "      <td>NaN</td>\n",
       "      <td>0.019992</td>\n",
       "      <td>0.029970</td>\n",
       "      <td>0.007434</td>\n",
       "      <td>0.051927</td>\n",
       "      <td>...</td>\n",
       "      <td>-2.866064</td>\n",
       "      <td>6.072939</td>\n",
       "      <td>5.428969</td>\n",
       "      <td>10.252683</td>\n",
       "      <td>-3.750278</td>\n",
       "      <td>7.586510</td>\n",
       "      <td>3.211762</td>\n",
       "      <td>5.490491</td>\n",
       "      <td>-5.946276</td>\n",
       "      <td>7.376266</td>\n",
       "    </tr>\n",
       "    <tr>\n",
       "      <th>...</th>\n",
       "      <td>...</td>\n",
       "      <td>...</td>\n",
       "      <td>...</td>\n",
       "      <td>...</td>\n",
       "      <td>...</td>\n",
       "      <td>...</td>\n",
       "      <td>...</td>\n",
       "      <td>...</td>\n",
       "      <td>...</td>\n",
       "      <td>...</td>\n",
       "      <td>...</td>\n",
       "      <td>...</td>\n",
       "      <td>...</td>\n",
       "      <td>...</td>\n",
       "      <td>...</td>\n",
       "      <td>...</td>\n",
       "      <td>...</td>\n",
       "      <td>...</td>\n",
       "      <td>...</td>\n",
       "      <td>...</td>\n",
       "      <td>...</td>\n",
       "    </tr>\n",
       "    <tr>\n",
       "      <th>3503</th>\n",
       "      <td>Exp_April_16_test_4_4.wav</td>\n",
       "      <td>Exp_April_16_test_4_4.jpg</td>\n",
       "      <td>April_16_test_4</td>\n",
       "      <td>Laser-off</td>\n",
       "      <td>Shielding Gas-off</td>\n",
       "      <td>NaN</td>\n",
       "      <td>0.012902</td>\n",
       "      <td>0.015071</td>\n",
       "      <td>0.005879</td>\n",
       "      <td>0.099093</td>\n",
       "      <td>...</td>\n",
       "      <td>2.168951</td>\n",
       "      <td>6.490287</td>\n",
       "      <td>1.928032</td>\n",
       "      <td>8.401035</td>\n",
       "      <td>-1.724736</td>\n",
       "      <td>10.288368</td>\n",
       "      <td>-0.060851</td>\n",
       "      <td>8.381465</td>\n",
       "      <td>-12.953316</td>\n",
       "      <td>5.754806</td>\n",
       "    </tr>\n",
       "    <tr>\n",
       "      <th>3504</th>\n",
       "      <td>Exp_April_16_test_4_1.wav</td>\n",
       "      <td>Exp_April_16_test_4_1.jpg</td>\n",
       "      <td>April_16_test_4</td>\n",
       "      <td>Laser-off</td>\n",
       "      <td>Shielding Gas-off</td>\n",
       "      <td>NaN</td>\n",
       "      <td>0.013222</td>\n",
       "      <td>0.015257</td>\n",
       "      <td>0.005407</td>\n",
       "      <td>0.084127</td>\n",
       "      <td>...</td>\n",
       "      <td>0.476796</td>\n",
       "      <td>9.227147</td>\n",
       "      <td>0.945553</td>\n",
       "      <td>7.366714</td>\n",
       "      <td>-1.322515</td>\n",
       "      <td>7.652929</td>\n",
       "      <td>-0.733449</td>\n",
       "      <td>5.396196</td>\n",
       "      <td>-14.786466</td>\n",
       "      <td>7.339162</td>\n",
       "    </tr>\n",
       "    <tr>\n",
       "      <th>3505</th>\n",
       "      <td>Exp_April_16_test_4_2.wav</td>\n",
       "      <td>Exp_April_16_test_4_2.jpg</td>\n",
       "      <td>April_16_test_4</td>\n",
       "      <td>Laser-off</td>\n",
       "      <td>Shielding Gas-off</td>\n",
       "      <td>NaN</td>\n",
       "      <td>0.012246</td>\n",
       "      <td>0.014805</td>\n",
       "      <td>0.005100</td>\n",
       "      <td>0.093878</td>\n",
       "      <td>...</td>\n",
       "      <td>-0.026498</td>\n",
       "      <td>7.503857</td>\n",
       "      <td>2.117017</td>\n",
       "      <td>7.400688</td>\n",
       "      <td>-2.097013</td>\n",
       "      <td>8.523264</td>\n",
       "      <td>0.141502</td>\n",
       "      <td>6.387466</td>\n",
       "      <td>-10.734591</td>\n",
       "      <td>8.097878</td>\n",
       "    </tr>\n",
       "    <tr>\n",
       "      <th>3506</th>\n",
       "      <td>Exp_April_16_test_4_3.wav</td>\n",
       "      <td>Exp_April_16_test_4_3.jpg</td>\n",
       "      <td>April_16_test_4</td>\n",
       "      <td>Laser-off</td>\n",
       "      <td>Shielding Gas-off</td>\n",
       "      <td>NaN</td>\n",
       "      <td>0.013367</td>\n",
       "      <td>0.016546</td>\n",
       "      <td>0.005384</td>\n",
       "      <td>0.087302</td>\n",
       "      <td>...</td>\n",
       "      <td>1.089101</td>\n",
       "      <td>6.276635</td>\n",
       "      <td>0.685349</td>\n",
       "      <td>5.679959</td>\n",
       "      <td>-5.039695</td>\n",
       "      <td>5.392179</td>\n",
       "      <td>-2.741401</td>\n",
       "      <td>4.763264</td>\n",
       "      <td>-13.847133</td>\n",
       "      <td>7.911690</td>\n",
       "    </tr>\n",
       "    <tr>\n",
       "      <th>3507</th>\n",
       "      <td>Exp_April_16_test_4_5.wav</td>\n",
       "      <td>Exp_April_16_test_4_5.jpg</td>\n",
       "      <td>April_16_test_4</td>\n",
       "      <td>Laser-off</td>\n",
       "      <td>Shielding Gas-off</td>\n",
       "      <td>NaN</td>\n",
       "      <td>0.012981</td>\n",
       "      <td>0.015662</td>\n",
       "      <td>0.005640</td>\n",
       "      <td>0.076417</td>\n",
       "      <td>...</td>\n",
       "      <td>1.269098</td>\n",
       "      <td>6.512943</td>\n",
       "      <td>2.457465</td>\n",
       "      <td>8.290963</td>\n",
       "      <td>-2.943163</td>\n",
       "      <td>6.821808</td>\n",
       "      <td>-1.925373</td>\n",
       "      <td>5.722186</td>\n",
       "      <td>-13.050309</td>\n",
       "      <td>7.418693</td>\n",
       "    </tr>\n",
       "  </tbody>\n",
       "</table>\n",
       "<p>3508 rows × 89 columns</p>\n",
       "</div>"
      ],
      "text/plain": [
       "                     audio_name                 image_name experiment_number  \\\n",
       "0               Exp_17_12_1.wav            Exp_17_12_1.jpg             17_12   \n",
       "1               Exp_17_12_2.wav            Exp_17_12_2.jpg             17_12   \n",
       "2               Exp_17_12_3.wav            Exp_17_12_3.jpg             17_12   \n",
       "3               Exp_17_12_4.wav            Exp_17_12_4.jpg             17_12   \n",
       "4               Exp_17_13_6.wav            Exp_17_13_6.jpg             17_13   \n",
       "...                         ...                        ...               ...   \n",
       "3503  Exp_April_16_test_4_4.wav  Exp_April_16_test_4_4.jpg   April_16_test_4   \n",
       "3504  Exp_April_16_test_4_1.wav  Exp_April_16_test_4_1.jpg   April_16_test_4   \n",
       "3505  Exp_April_16_test_4_2.wav  Exp_April_16_test_4_2.jpg   April_16_test_4   \n",
       "3506  Exp_April_16_test_4_3.wav  Exp_April_16_test_4_3.jpg   April_16_test_4   \n",
       "3507  Exp_April_16_test_4_5.wav  Exp_April_16_test_4_5.jpg   April_16_test_4   \n",
       "\n",
       "            label_1            label_2 label_3  rms_energy  \\\n",
       "0     Balling (LoF)                NaN     NaN    0.055400   \n",
       "1     Balling (LoF)                NaN     NaN    0.037319   \n",
       "2     Balling (LoF)                NaN     NaN    0.028314   \n",
       "3     Balling (LoF)                NaN     NaN    0.025656   \n",
       "4     Balling (LoF)                NaN     NaN    0.019992   \n",
       "...             ...                ...     ...         ...   \n",
       "3503      Laser-off  Shielding Gas-off     NaN    0.012902   \n",
       "3504      Laser-off  Shielding Gas-off     NaN    0.013222   \n",
       "3505      Laser-off  Shielding Gas-off     NaN    0.012246   \n",
       "3506      Laser-off  Shielding Gas-off     NaN    0.013367   \n",
       "3507      Laser-off  Shielding Gas-off     NaN    0.012981   \n",
       "\n",
       "      amplitude_envelope_mean  amplitude_envelope_std  zero_crossing_rate  \\\n",
       "0                    0.063368                0.014181            0.021542   \n",
       "1                    0.047844                0.013682            0.057370   \n",
       "2                    0.030773                0.013055            0.083900   \n",
       "3                    0.033076                0.009994            0.080726   \n",
       "4                    0.029970                0.007434            0.051927   \n",
       "...                       ...                     ...                 ...   \n",
       "3503                 0.015071                0.005879            0.099093   \n",
       "3504                 0.015257                0.005407            0.084127   \n",
       "3505                 0.014805                0.005100            0.093878   \n",
       "3506                 0.016546                0.005384            0.087302   \n",
       "3507                 0.015662                0.005640            0.076417   \n",
       "\n",
       "      ...  mfcc_8_mean  mfcc_8_std  mfcc_9_mean  mfcc_9_std  mfcc_10_mean  \\\n",
       "0     ...     4.465534    5.621855    10.530560    7.604537      1.019614   \n",
       "1     ...     3.375155    6.320611     5.001470    8.519529     -3.618283   \n",
       "2     ...     0.212402    6.042810     3.667673    6.774061     -4.279868   \n",
       "3     ...    -2.960245   10.497297     3.910449    7.278681      0.686291   \n",
       "4     ...    -2.866064    6.072939     5.428969   10.252683     -3.750278   \n",
       "...   ...          ...         ...          ...         ...           ...   \n",
       "3503  ...     2.168951    6.490287     1.928032    8.401035     -1.724736   \n",
       "3504  ...     0.476796    9.227147     0.945553    7.366714     -1.322515   \n",
       "3505  ...    -0.026498    7.503857     2.117017    7.400688     -2.097013   \n",
       "3506  ...     1.089101    6.276635     0.685349    5.679959     -5.039695   \n",
       "3507  ...     1.269098    6.512943     2.457465    8.290963     -2.943163   \n",
       "\n",
       "      mfcc_10_std  mfcc_11_mean  mfcc_11_std  mfcc_12_mean  mfcc_12_std  \n",
       "0        5.977480     11.476974     6.662732     -8.070549     8.544114  \n",
       "1       10.137958      8.518948     8.286986    -12.481044     8.784910  \n",
       "2        5.320736      5.285318     6.426253    -13.551059     6.355420  \n",
       "3        9.202967      9.157614     7.613472    -13.765296     6.685709  \n",
       "4        7.586510      3.211762     5.490491     -5.946276     7.376266  \n",
       "...           ...           ...          ...           ...          ...  \n",
       "3503    10.288368     -0.060851     8.381465    -12.953316     5.754806  \n",
       "3504     7.652929     -0.733449     5.396196    -14.786466     7.339162  \n",
       "3505     8.523264      0.141502     6.387466    -10.734591     8.097878  \n",
       "3506     5.392179     -2.741401     4.763264    -13.847133     7.911690  \n",
       "3507     6.821808     -1.925373     5.722186    -13.050309     7.418693  \n",
       "\n",
       "[3508 rows x 89 columns]"
      ]
     },
     "execution_count": 6,
     "metadata": {},
     "output_type": "execute_result"
    }
   ],
   "source": [
    "# Read the data back from the HDF5 file into a new DataFrame\n",
    "df_audio_dataset = pd.read_hdf(os.path.join(Dataset_path, 'df_audio_dataset_with_annotations(raw_audio).h5'), key='df')\n",
    "\n",
    "df_audio_dataset"
   ]
  },
  {
   "cell_type": "code",
   "execution_count": 7,
   "id": "316cfce2-4741-4b5b-9c1d-b90ff5311519",
   "metadata": {},
   "outputs": [
    {
     "data": {
      "text/plain": [
       "(3508, 83)"
      ]
     },
     "execution_count": 7,
     "metadata": {},
     "output_type": "execute_result"
    }
   ],
   "source": [
    "# Extract labels\n",
    "y = df_audio_dataset['label_1'].to_list()\n",
    "y_array = np.array(y)\n",
    "le = LabelEncoder()\n",
    "le.fit(y)\n",
    "Y_encoded = le.transform(y)\n",
    "\n",
    "# Non-feature columns to be dropped\n",
    "non_feature_columns = ['audio_name', 'image_name', 'experiment_number',\n",
    "                       'label_1', 'label_2', 'label_3']\n",
    "\n",
    "# Extract features for the full dataset\n",
    "X_all = df_audio_dataset.drop(columns=non_feature_columns).to_numpy()\n",
    "\n",
    "X_all.shape"
   ]
  },
  {
   "cell_type": "code",
   "execution_count": 8,
   "id": "31e8626c-8f1a-4caa-9afc-703cc63c0cee",
   "metadata": {},
   "outputs": [
    {
     "name": "stdout",
     "output_type": "stream",
     "text": [
      "class weights: [ 1.33638095  1.30505952 20.88095238  0.85083677 14.31836735  0.38938839\n",
      "  0.61565462]\n",
      "class weights encoded: [ 1.33638095  1.30505952 20.88095238  0.85083677 14.31836735  0.38938839\n",
      "  0.61565462]\n",
      "class        : ['Balling (Conduction)', 'Balling (LoF)', 'Balling (Overheating)', 'Laser-off', 'LoF', 'Non-defective', 'Overheating']\n"
     ]
    }
   ],
   "source": [
    "class_weights = class_weight.compute_class_weight('balanced',\n",
    "                                                 classes = np.unique(y),\n",
    "                                                 y = y)\n",
    "\n",
    "class_weights_encoded = class_weight.compute_class_weight('balanced',\n",
    "                                                 classes = np.unique(Y_encoded),\n",
    "                                                 y = Y_encoded)\n",
    "\n",
    "\n",
    "class_names = (le.classes_).tolist()\n",
    "print(f\"class weights: {class_weights}\")\n",
    "print(f\"class weights encoded: {class_weights_encoded}\")\n",
    "print(f\"class        : {class_names}\")"
   ]
  },
  {
   "cell_type": "code",
   "execution_count": 9,
   "id": "fc1bbc50-dd46-4a41-91fb-33829159863f",
   "metadata": {},
   "outputs": [
    {
     "data": {
      "text/plain": [
       "((3508, 73), (3508, 58), (3508, 30), (3508, 20))"
      ]
     },
     "execution_count": 9,
     "metadata": {},
     "output_type": "execute_result"
    }
   ],
   "source": [
    "# Given features based on previous analysis results\n",
    "features_dropped_090 = ['spectral_centroid_mean', 'spectral_centroid_std',\n",
    "       'spectral_complexity_std', 'spectral_contrast_0_mean',\n",
    "       'spectral_contrast_0_std', 'spectral_contrast_1_mean',\n",
    "       'spectral_contrast_1_std', 'spectral_contrast_2_mean',\n",
    "       'spectral_contrast_2_std', 'spectral_contrast_3_mean',\n",
    "       'spectral_contrast_3_std', 'spectral_contrast_4_mean',\n",
    "       'spectral_contrast_4_std', 'spectral_contrast_5_mean',\n",
    "       'spectral_valley_0_std', 'spectral_valley_1_std',\n",
    "       'spectral_valley_2_mean', 'spectral_valley_2_std',\n",
    "       'spectral_valley_3_std', 'spectral_valley_4_std',\n",
    "       'spectral_valley_5_mean', 'spectral_energy_band_ratio_std',\n",
    "       'spectral_flatness_mean', 'spectral_flatness_std',\n",
    "       'spectral_rolloff_std', 'spectral_strong_peak_mean',\n",
    "       'spectral_strong_peak_std', 'spectral_variance_mean',\n",
    "       'spectral_variance_std', 'spectral_skewness_std',\n",
    "       'spectral_kurtosis_std', 'spectral_crest_factor_mean',\n",
    "       'spectral_crest_factor_std', 'mfcc_0_std', 'mfcc_1_mean', 'mfcc_1_std',\n",
    "       'mfcc_2_mean', 'mfcc_2_std', 'mfcc_3_mean', 'mfcc_3_std', 'mfcc_4_mean',\n",
    "       'mfcc_4_std', 'mfcc_5_mean', 'mfcc_5_std', 'mfcc_6_mean', 'mfcc_6_std',\n",
    "       'mfcc_7_mean', 'mfcc_7_std', 'mfcc_8_mean', 'mfcc_8_std', 'mfcc_9_mean',\n",
    "       'mfcc_9_std', 'mfcc_10_mean', 'mfcc_10_std', 'mfcc_11_mean',\n",
    "       'mfcc_11_std', 'mfcc_12_mean', 'mfcc_12_std']\n",
    "\n",
    "features_dropped_097 = ['amplitude_envelope_std', 'zero_crossing_rate',\n",
    "       'loudness_vickers', 'spectral_centroid_mean', 'spectral_centroid_std',\n",
    "       'spectral_complexity_mean', 'spectral_complexity_std',\n",
    "       'spectral_contrast_0_mean', 'spectral_contrast_0_std',\n",
    "       'spectral_contrast_1_mean', 'spectral_contrast_1_std',\n",
    "       'spectral_contrast_2_mean', 'spectral_contrast_2_std',\n",
    "       'spectral_contrast_3_mean', 'spectral_contrast_3_std',\n",
    "       'spectral_contrast_4_mean', 'spectral_contrast_4_std',\n",
    "       'spectral_contrast_5_mean', 'spectral_contrast_5_std',\n",
    "       'spectral_valley_0_mean', 'spectral_valley_0_std',\n",
    "       'spectral_valley_1_mean', 'spectral_valley_1_std',\n",
    "       'spectral_valley_2_mean', 'spectral_valley_2_std',\n",
    "       'spectral_valley_3_mean', 'spectral_valley_3_std',\n",
    "       'spectral_valley_4_mean', 'spectral_valley_4_std',\n",
    "       'spectral_valley_5_mean', 'spectral_valley_5_std',\n",
    "       'spectral_decrease_mean', 'spectral_energy_band_ratio_mean',\n",
    "       'spectral_energy_band_ratio_std', 'spectral_flatness_mean',\n",
    "       'spectral_flatness_std', 'spectral_flux_std', 'spectral_rolloff_mean',\n",
    "       'spectral_rolloff_std', 'spectral_strong_peak_mean',\n",
    "       'spectral_strong_peak_std', 'spectral_variance_mean',\n",
    "       'spectral_variance_std', 'spectral_skewness_std',\n",
    "       'spectral_kurtosis_std', 'spectral_crest_factor_mean',\n",
    "       'spectral_crest_factor_std', 'mfcc_0_mean', 'mfcc_0_std', 'mfcc_1_mean',\n",
    "       'mfcc_1_std', 'mfcc_2_mean', 'mfcc_2_std', 'mfcc_3_mean', 'mfcc_3_std',\n",
    "       'mfcc_4_mean', 'mfcc_4_std', 'mfcc_5_mean', 'mfcc_5_std', 'mfcc_6_mean',\n",
    "       'mfcc_6_std', 'mfcc_7_mean', 'mfcc_7_std', 'mfcc_8_mean', 'mfcc_8_std',\n",
    "       'mfcc_9_mean', 'mfcc_9_std', 'mfcc_10_mean', 'mfcc_10_std',\n",
    "       'mfcc_11_mean', 'mfcc_11_std', 'mfcc_12_mean', 'mfcc_12_std']\n",
    "\n",
    "\n",
    "features_dropped_090_mi_filtered_01 = ['spectral_centroid_mean', 'spectral_centroid_std',\n",
    "       'spectral_complexity_std', 'spectral_contrast_3_mean',\n",
    "       'spectral_contrast_5_mean', 'spectral_valley_2_mean',\n",
    "       'spectral_valley_5_mean', 'spectral_flatness_mean',\n",
    "       'spectral_flatness_std', 'spectral_variance_mean',\n",
    "       'spectral_skewness_std', 'spectral_crest_factor_mean',\n",
    "       'spectral_crest_factor_std', 'mfcc_1_mean', 'mfcc_2_mean',\n",
    "       'mfcc_3_mean', 'mfcc_5_mean', 'mfcc_7_mean', 'mfcc_9_mean',\n",
    "       'mfcc_11_mean']\n",
    "\n",
    "\n",
    "features_dropped_090_mi_filtered_005 = ['spectral_centroid_mean', 'spectral_centroid_std',\n",
    "       'spectral_complexity_std', 'spectral_contrast_3_mean',\n",
    "       'spectral_contrast_4_mean', 'spectral_contrast_5_mean',\n",
    "       'spectral_valley_2_mean', 'spectral_valley_5_mean',\n",
    "       'spectral_energy_band_ratio_std', 'spectral_flatness_mean',\n",
    "       'spectral_flatness_std', 'spectral_rolloff_std',\n",
    "       'spectral_strong_peak_std', 'spectral_variance_mean',\n",
    "       'spectral_skewness_std', 'spectral_kurtosis_std',\n",
    "       'spectral_crest_factor_mean', 'spectral_crest_factor_std',\n",
    "       'mfcc_1_mean', 'mfcc_2_mean', 'mfcc_3_mean', 'mfcc_5_mean',\n",
    "       'mfcc_6_mean', 'mfcc_7_mean', 'mfcc_7_std', 'mfcc_8_mean',\n",
    "       'mfcc_9_mean', 'mfcc_9_std', 'mfcc_11_mean', 'mfcc_12_mean']\n",
    "\n",
    "# Create ablated datasets\n",
    "X_dropped_097 = df_audio_dataset[features_dropped_097].to_numpy()\n",
    "X_dropped_090 = df_audio_dataset[features_dropped_090].to_numpy()\n",
    "X_dropped_090_mi_filtered_01 = df_audio_dataset[features_dropped_090_mi_filtered_01].to_numpy()\n",
    "X_dropped_090_mi_filtered_005 = df_audio_dataset[features_dropped_090_mi_filtered_005].to_numpy()\n",
    "\n",
    "\n",
    "# Get the shapes of these additional ablated datasets\n",
    "X_dropped_097.shape, X_dropped_090.shape, X_dropped_090_mi_filtered_005.shape, X_dropped_090_mi_filtered_01.shape,"
   ]
  },
  {
   "cell_type": "markdown",
   "id": "923395bd-b023-4dd8-90be-a1ec2acbe5d2",
   "metadata": {},
   "source": [
    "- ALL Dataset (X_all):  `83 features`\n",
    "- Ablated Dataset 1 (X_dropped_097):  `73 features`\n",
    "- Ablated Dataset 2 (X_dropped_090):  `58 features`\n",
    "- Ablated Dataset 3 (X_dropped_090_mi_filtered_005): `30 features`\n",
    "- Ablated Dataset 4 (X_dropped_090_mi_filtered_01):  `20 features`"
   ]
  },
  {
   "cell_type": "markdown",
   "id": "b5748274-236e-445c-b4ea-dea76b24401e",
   "metadata": {},
   "source": [
    "### Train val test split\n",
    "- Train 80%, Val 10%, Test 10%"
   ]
  },
  {
   "cell_type": "code",
   "execution_count": 10,
   "id": "bfc65b8f-a9ef-4518-944f-528fb2e1dfb6",
   "metadata": {},
   "outputs": [
    {
     "data": {
      "text/plain": [
       "(2806, 351, 351)"
      ]
     },
     "execution_count": 10,
     "metadata": {},
     "output_type": "execute_result"
    }
   ],
   "source": [
    "y_array = np.array(y)\n",
    "\n",
    "# First split: Separate out the training set (80% of original)\n",
    "train_indices, temp_indices = train_test_split(\n",
    "    np.arange(len(df_audio_dataset)), test_size=0.2, random_state=0, stratify=y_array)\n",
    "\n",
    "# Second split: Separate out the validation and test sets (each will be 10% of original)\n",
    "val_indices, test_indices = train_test_split(\n",
    "    temp_indices, test_size=0.5, random_state=0, stratify=y_array[temp_indices])\n",
    "\n",
    "# Check the shape of the indices for train, val, and test splits\n",
    "len(train_indices), len(val_indices), len(test_indices)"
   ]
  },
  {
   "cell_type": "code",
   "execution_count": 11,
   "id": "3041252d-5423-4655-a9a2-851a42ef176e",
   "metadata": {},
   "outputs": [
    {
     "name": "stdout",
     "output_type": "stream",
     "text": [
      "Stored 'train_indices' (ndarray)\n",
      "Stored 'val_indices' (ndarray)\n",
      "Stored 'test_indices' (ndarray)\n"
     ]
    }
   ],
   "source": [
    "%store train_indices\n",
    "%store val_indices\n",
    "%store test_indices"
   ]
  },
  {
   "cell_type": "markdown",
   "id": "58c2e72e-9547-44bd-a5bc-de4579c69657",
   "metadata": {},
   "source": [
    "## Step 2: Create a Pipeline and Iterate Over Datasets and Models"
   ]
  },
  {
   "cell_type": "code",
   "execution_count": 12,
   "id": "f404db24-33a7-45ba-a382-ffad15476bd4",
   "metadata": {},
   "outputs": [],
   "source": [
    "# Define hyperparameters for each model\n",
    "hyperparameters = {\n",
    "    'KNN': {'n_neighbors': 12, 'weights': 'distance'},\n",
    "    'DT': {'ccp_alpha': 3.89e-05, 'max_depth': 21, 'min_samples_leaf': 1, 'min_samples_split': 13},\n",
    "    'LR': {'C': 5.15, 'max_iter': 2528, 'penalty': 'l2', 'solver': 'lbfgs'},\n",
    "    'RF': {'bootstrap': False, 'max_depth': 64, 'max_features': 'sqrt', 'min_samples_leaf': 3, 'min_samples_split': 6, 'n_estimators': 307},\n",
    "    'BalancedRF': {'bootstrap': False, 'max_depth': 23, 'max_features': 'sqrt', 'min_samples_leaf': 8, 'min_samples_split': 17, 'n_estimators': 237},\n",
    "    'RUSBoost': {'learning_rate': 0.1, 'n_estimators': 150},\n",
    "    'Ada': {'algorithm': 'SAMME', 'learning_rate': 0.57, 'n_estimators': 307},\n",
    "    'GP': {'kernel': 1**2 * RBF(length_scale=1)},\n",
    "    'NN': {'activation': 'relu', 'alpha': 0.077, 'early_stopping': True, 'hidden_layer_sizes': (229, 255, 168), 'learning_rate': 'adaptive', 'max_iter': 11805, 'solver': 'adam', 'validation_fraction': 0.1},\n",
    "    'XGBoost': {'colsample_bytree': 0.62, 'gamma': 0.48, 'learning_rate': 0.35, 'max_depth': 44, 'min_child_weight': 8, 'n_estimators': 480, 'subsample': 0.59,  'gpu_id': 0},\n",
    "    'LightGBM': {'colsample_bytree': 0.80, 'learning_rate': 0.15, 'max_depth': 35, 'min_child_weight': 1, 'n_estimators': 276, 'num_leaves': 120, 'reg_alpha': 1.94, 'reg_lambda': 1.70, 'subsample': 0.86, 'verbose': -1},\n",
    "    'SVM': {'C': 524.86, 'degree': 9, 'gamma': 0.029, 'kernel': 'rbf', 'probability': True},\n",
    "    'GB': {'learning_rate': 0.23, 'max_depth': 49, 'min_samples_leaf': 10, 'min_samples_split': 17, 'n_estimators': 271, 'n_iter_no_change': 10, 'subsample': 0.73, 'tol': 0.0001},\n",
    "    'HistGB': {'learning_rate': 0.23, 'max_iter': 100, 'max_depth': 49, 'min_samples_leaf': 10, 'n_iter_no_change': 10, 'tol': 0.0001},\n",
    "}\n",
    "\n",
    "# List of datasets\n",
    "datasets = {\n",
    "    'All Features': X_all,\n",
    "    'Ablated 1': X_dropped_097,\n",
    "    'Ablated 2': X_dropped_090,\n",
    "    'Ablated 3': X_dropped_090_mi_filtered_005,\n",
    "    'Ablated 4': X_dropped_090_mi_filtered_01,\n",
    "}\n",
    "\n",
    "\n",
    "# List of models\n",
    "models = {\n",
    "    'KNN': KNeighborsClassifier,\n",
    "    'DT': DecisionTreeClassifier,\n",
    "    'LR': LogisticRegression,\n",
    "    'RF': RandomForestClassifier,\n",
    "    'BalancedRF': BalancedRandomForestClassifier,\n",
    "    'RUSBoost': RUSBoostClassifier,\n",
    "    'Ada': AdaBoostClassifier,\n",
    "    # 'GP': GaussianProcessClassifier,\n",
    "    'NN': MLPClassifier,\n",
    "    'XGBoost': XGBClassifier,\n",
    "    'LightGBM': LGBMClassifier,\n",
    "    'SVM': SVC,\n",
    "    # 'GB': GradientBoostingClassifier,\n",
    "    'HistGB': HistGradientBoostingClassifier\n",
    "}"
   ]
  },
  {
   "cell_type": "markdown",
   "id": "e03e9c58-2a68-429c-9f67-1ad896dbd890",
   "metadata": {},
   "source": [
    "## Step 3: Model Training"
   ]
  },
  {
   "cell_type": "code",
   "execution_count": 13,
   "id": "8b6a8783-3f67-4fb8-bcee-d467f559d282",
   "metadata": {
    "scrolled": true
   },
   "outputs": [
    {
     "name": "stdout",
     "output_type": "stream",
     "text": [
      "Processing dataset: All Features\n",
      "\tTraining model: KNN\n",
      "\t\tAccuracy: Mean = 0.8717907444668007, Std = 0.02556532616119492\n",
      "\t\tF1 Score: Mean = 0.8600444428301165, Std = 0.029995850740289213\n",
      "\t\tPrecision: Mean = 0.8647930508678394, Std = 0.03848246981483092\n",
      "\t\tRecall: Mean = 0.8717907444668007, Std = 0.02556532616119492\n",
      "\t\tROC-AUC: Mean = 0.9734763632695949, Std = 0.0\n",
      "\tTraining model: DT\n"
     ]
    },
    {
     "name": "stderr",
     "output_type": "stream",
     "text": [
      "/home/chenlequn/anaconda3/envs/working_primary/lib/python3.9/site-packages/sklearn/metrics/_classification.py:1469: UndefinedMetricWarning: Precision is ill-defined and being set to 0.0 in labels with no predicted samples. Use `zero_division` parameter to control this behavior.\n",
      "  _warn_prf(average, modifier, msg_start, len(result))\n",
      "/home/chenlequn/anaconda3/envs/working_primary/lib/python3.9/site-packages/sklearn/metrics/_classification.py:1469: UndefinedMetricWarning: Precision is ill-defined and being set to 0.0 in labels with no predicted samples. Use `zero_division` parameter to control this behavior.\n",
      "  _warn_prf(average, modifier, msg_start, len(result))\n",
      "/home/chenlequn/anaconda3/envs/working_primary/lib/python3.9/site-packages/sklearn/metrics/_classification.py:1469: UndefinedMetricWarning: Precision is ill-defined and being set to 0.0 in labels with no predicted samples. Use `zero_division` parameter to control this behavior.\n",
      "  _warn_prf(average, modifier, msg_start, len(result))\n",
      "/home/chenlequn/anaconda3/envs/working_primary/lib/python3.9/site-packages/sklearn/metrics/_classification.py:1469: UndefinedMetricWarning: Precision is ill-defined and being set to 0.0 in labels with no predicted samples. Use `zero_division` parameter to control this behavior.\n",
      "  _warn_prf(average, modifier, msg_start, len(result))\n",
      "/home/chenlequn/anaconda3/envs/working_primary/lib/python3.9/site-packages/sklearn/metrics/_classification.py:1469: UndefinedMetricWarning: Recall is ill-defined and being set to 0.0 in labels with no true samples. Use `zero_division` parameter to control this behavior.\n",
      "  _warn_prf(average, modifier, msg_start, len(result))\n",
      "/home/chenlequn/anaconda3/envs/working_primary/lib/python3.9/site-packages/sklearn/metrics/_classification.py:1469: UndefinedMetricWarning: Precision is ill-defined and being set to 0.0 in labels with no predicted samples. Use `zero_division` parameter to control this behavior.\n",
      "  _warn_prf(average, modifier, msg_start, len(result))\n",
      "/home/chenlequn/anaconda3/envs/working_primary/lib/python3.9/site-packages/sklearn/metrics/_classification.py:1469: UndefinedMetricWarning: Precision is ill-defined and being set to 0.0 in labels with no predicted samples. Use `zero_division` parameter to control this behavior.\n",
      "  _warn_prf(average, modifier, msg_start, len(result))\n",
      "/home/chenlequn/anaconda3/envs/working_primary/lib/python3.9/site-packages/sklearn/metrics/_classification.py:1469: UndefinedMetricWarning: Recall is ill-defined and being set to 0.0 in labels with no true samples. Use `zero_division` parameter to control this behavior.\n",
      "  _warn_prf(average, modifier, msg_start, len(result))\n",
      "/home/chenlequn/anaconda3/envs/working_primary/lib/python3.9/site-packages/sklearn/metrics/_classification.py:1469: UndefinedMetricWarning: Precision is ill-defined and being set to 0.0 in labels with no predicted samples. Use `zero_division` parameter to control this behavior.\n",
      "  _warn_prf(average, modifier, msg_start, len(result))\n"
     ]
    },
    {
     "name": "stdout",
     "output_type": "stream",
     "text": [
      "\t\tAccuracy: Mean = 0.854486921529175, Std = 0.06867146329250202\n",
      "\t\tF1 Score: Mean = 0.8575391735438929, Std = 0.06659267589143929\n",
      "\t\tPrecision: Mean = 0.8717431424094638, Std = 0.060595645051879476\n",
      "\t\tRecall: Mean = 0.854486921529175, Std = 0.06867146329250202\n",
      "\t\tROC-AUC: Mean = 0.9337537198124898, Std = 0.0\n",
      "\tTraining model: LR\n",
      "\t\tAccuracy: Mean = 0.8944064386317908, Std = 0.04588061672180982\n",
      "\t\tF1 Score: Mean = 0.8934929164638789, Std = 0.04215561497588021\n",
      "\t\tPrecision: Mean = 0.9027381787673538, Std = 0.03480442116150023\n",
      "\t\tRecall: Mean = 0.8944064386317908, Std = 0.04588061672180982\n",
      "\t\tROC-AUC: Mean = 0.992024723170306, Std = 0.0\n",
      "\tTraining model: RF\n"
     ]
    },
    {
     "name": "stderr",
     "output_type": "stream",
     "text": [
      "/home/chenlequn/anaconda3/envs/working_primary/lib/python3.9/site-packages/sklearn/metrics/_classification.py:1469: UndefinedMetricWarning: Precision is ill-defined and being set to 0.0 in labels with no predicted samples. Use `zero_division` parameter to control this behavior.\n",
      "  _warn_prf(average, modifier, msg_start, len(result))\n",
      "/home/chenlequn/anaconda3/envs/working_primary/lib/python3.9/site-packages/sklearn/metrics/_classification.py:1469: UndefinedMetricWarning: Precision is ill-defined and being set to 0.0 in labels with no predicted samples. Use `zero_division` parameter to control this behavior.\n",
      "  _warn_prf(average, modifier, msg_start, len(result))\n",
      "/home/chenlequn/anaconda3/envs/working_primary/lib/python3.9/site-packages/sklearn/metrics/_classification.py:1469: UndefinedMetricWarning: Precision is ill-defined and being set to 0.0 in labels with no predicted samples. Use `zero_division` parameter to control this behavior.\n",
      "  _warn_prf(average, modifier, msg_start, len(result))\n",
      "/home/chenlequn/anaconda3/envs/working_primary/lib/python3.9/site-packages/sklearn/metrics/_classification.py:1469: UndefinedMetricWarning: Precision is ill-defined and being set to 0.0 in labels with no predicted samples. Use `zero_division` parameter to control this behavior.\n",
      "  _warn_prf(average, modifier, msg_start, len(result))\n",
      "/home/chenlequn/anaconda3/envs/working_primary/lib/python3.9/site-packages/imblearn/ensemble/_forest.py:577: FutureWarning: The default of `sampling_strategy` will change from `'auto'` to `'all'` in version 0.13. This change will follow the implementation proposed in the original paper. Set to `'all'` to silence this warning and adopt the future behaviour.\n",
      "  warn(\n",
      "/home/chenlequn/anaconda3/envs/working_primary/lib/python3.9/site-packages/imblearn/ensemble/_forest.py:589: FutureWarning: The default of `replacement` will change from `False` to `True` in version 0.13. This change will follow the implementation proposed in the original paper. Set to `True` to silence this warning and adopt the future behaviour.\n",
      "  warn(\n"
     ]
    },
    {
     "name": "stdout",
     "output_type": "stream",
     "text": [
      "\t\tAccuracy: Mean = 0.8916297786720323, Std = 0.025209461011384836\n",
      "\t\tF1 Score: Mean = 0.8818012433661317, Std = 0.02529676544569119\n",
      "\t\tPrecision: Mean = 0.8827987974772672, Std = 0.02825681949373289\n",
      "\t\tRecall: Mean = 0.8916297786720323, Std = 0.025209461011384836\n",
      "\t\tROC-AUC: Mean = 0.9893988840930624, Std = 0.0\n",
      "\tTraining model: BalancedRF\n"
     ]
    },
    {
     "name": "stderr",
     "output_type": "stream",
     "text": [
      "/home/chenlequn/anaconda3/envs/working_primary/lib/python3.9/site-packages/sklearn/metrics/_classification.py:1469: UndefinedMetricWarning: Recall is ill-defined and being set to 0.0 in labels with no true samples. Use `zero_division` parameter to control this behavior.\n",
      "  _warn_prf(average, modifier, msg_start, len(result))\n",
      "/home/chenlequn/anaconda3/envs/working_primary/lib/python3.9/site-packages/sklearn/metrics/_classification.py:1469: UndefinedMetricWarning: Recall is ill-defined and being set to 0.0 in labels with no true samples. Use `zero_division` parameter to control this behavior.\n",
      "  _warn_prf(average, modifier, msg_start, len(result))\n",
      "/home/chenlequn/anaconda3/envs/working_primary/lib/python3.9/site-packages/sklearn/metrics/_classification.py:1469: UndefinedMetricWarning: Recall is ill-defined and being set to 0.0 in labels with no true samples. Use `zero_division` parameter to control this behavior.\n",
      "  _warn_prf(average, modifier, msg_start, len(result))\n",
      "/home/chenlequn/anaconda3/envs/working_primary/lib/python3.9/site-packages/sklearn/metrics/_classification.py:1469: UndefinedMetricWarning: Recall is ill-defined and being set to 0.0 in labels with no true samples. Use `zero_division` parameter to control this behavior.\n",
      "  _warn_prf(average, modifier, msg_start, len(result))\n"
     ]
    },
    {
     "name": "stdout",
     "output_type": "stream",
     "text": [
      "\t\tAccuracy: Mean = 0.811871227364185, Std = 0.01749739651773743\n",
      "\t\tF1 Score: Mean = 0.8311553761670638, Std = 0.012845953609645163\n",
      "\t\tPrecision: Mean = 0.8776352633571239, Std = 0.014671711903146482\n",
      "\t\tRecall: Mean = 0.811871227364185, Std = 0.01749739651773743\n",
      "\t\tROC-AUC: Mean = 0.964329126364589, Std = 0.0\n",
      "\tTraining model: RUSBoost\n"
     ]
    },
    {
     "name": "stderr",
     "output_type": "stream",
     "text": [
      "/home/chenlequn/anaconda3/envs/working_primary/lib/python3.9/site-packages/sklearn/metrics/_classification.py:1469: UndefinedMetricWarning: Recall is ill-defined and being set to 0.0 in labels with no true samples. Use `zero_division` parameter to control this behavior.\n",
      "  _warn_prf(average, modifier, msg_start, len(result))\n",
      "/home/chenlequn/anaconda3/envs/working_primary/lib/python3.9/site-packages/sklearn/metrics/_classification.py:1469: UndefinedMetricWarning: Recall is ill-defined and being set to 0.0 in labels with no true samples. Use `zero_division` parameter to control this behavior.\n",
      "  _warn_prf(average, modifier, msg_start, len(result))\n",
      "/home/chenlequn/anaconda3/envs/working_primary/lib/python3.9/site-packages/sklearn/metrics/_classification.py:1469: UndefinedMetricWarning: Recall is ill-defined and being set to 0.0 in labels with no true samples. Use `zero_division` parameter to control this behavior.\n",
      "  _warn_prf(average, modifier, msg_start, len(result))\n",
      "/home/chenlequn/anaconda3/envs/working_primary/lib/python3.9/site-packages/sklearn/metrics/_classification.py:1469: UndefinedMetricWarning: Recall is ill-defined and being set to 0.0 in labels with no true samples. Use `zero_division` parameter to control this behavior.\n",
      "  _warn_prf(average, modifier, msg_start, len(result))\n"
     ]
    },
    {
     "name": "stdout",
     "output_type": "stream",
     "text": [
      "\t\tAccuracy: Mean = 0.7804024144869215, Std = 0.05811213531196783\n",
      "\t\tF1 Score: Mean = 0.8045197576874843, Std = 0.05372922984105883\n",
      "\t\tPrecision: Mean = 0.8460156298260534, Std = 0.0447393471924738\n",
      "\t\tRecall: Mean = 0.7804024144869215, Std = 0.05811213531196783\n",
      "\t\tROC-AUC: Mean = 0.9413247644959181, Std = 0.0\n",
      "\tTraining model: Ada\n"
     ]
    },
    {
     "name": "stderr",
     "output_type": "stream",
     "text": [
      "/home/chenlequn/anaconda3/envs/working_primary/lib/python3.9/site-packages/sklearn/metrics/_classification.py:1469: UndefinedMetricWarning: Precision is ill-defined and being set to 0.0 in labels with no predicted samples. Use `zero_division` parameter to control this behavior.\n",
      "  _warn_prf(average, modifier, msg_start, len(result))\n",
      "/home/chenlequn/anaconda3/envs/working_primary/lib/python3.9/site-packages/sklearn/metrics/_classification.py:1469: UndefinedMetricWarning: Precision is ill-defined and being set to 0.0 in labels with no predicted samples. Use `zero_division` parameter to control this behavior.\n",
      "  _warn_prf(average, modifier, msg_start, len(result))\n",
      "/home/chenlequn/anaconda3/envs/working_primary/lib/python3.9/site-packages/sklearn/metrics/_classification.py:1469: UndefinedMetricWarning: Recall is ill-defined and being set to 0.0 in labels with no true samples. Use `zero_division` parameter to control this behavior.\n",
      "  _warn_prf(average, modifier, msg_start, len(result))\n",
      "/home/chenlequn/anaconda3/envs/working_primary/lib/python3.9/site-packages/sklearn/metrics/_classification.py:1469: UndefinedMetricWarning: Precision is ill-defined and being set to 0.0 in labels with no predicted samples. Use `zero_division` parameter to control this behavior.\n",
      "  _warn_prf(average, modifier, msg_start, len(result))\n",
      "/home/chenlequn/anaconda3/envs/working_primary/lib/python3.9/site-packages/sklearn/metrics/_classification.py:1469: UndefinedMetricWarning: Precision is ill-defined and being set to 0.0 in labels with no predicted samples. Use `zero_division` parameter to control this behavior.\n",
      "  _warn_prf(average, modifier, msg_start, len(result))\n"
     ]
    },
    {
     "name": "stdout",
     "output_type": "stream",
     "text": [
      "\t\tAccuracy: Mean = 0.831830985915493, Std = 0.017288561891315193\n",
      "\t\tF1 Score: Mean = 0.8300269734956013, Std = 0.015180483505986745\n",
      "\t\tPrecision: Mean = 0.8395243229458522, Std = 0.01690379703294171\n",
      "\t\tRecall: Mean = 0.831830985915493, Std = 0.017288561891315193\n",
      "\t\tROC-AUC: Mean = 0.961519715518584, Std = 0.0\n",
      "\tTraining model: NN\n"
     ]
    },
    {
     "name": "stderr",
     "output_type": "stream",
     "text": [
      "/home/chenlequn/anaconda3/envs/working_primary/lib/python3.9/site-packages/sklearn/metrics/_classification.py:1469: UndefinedMetricWarning: Precision is ill-defined and being set to 0.0 in labels with no predicted samples. Use `zero_division` parameter to control this behavior.\n",
      "  _warn_prf(average, modifier, msg_start, len(result))\n",
      "/home/chenlequn/anaconda3/envs/working_primary/lib/python3.9/site-packages/sklearn/metrics/_classification.py:1469: UndefinedMetricWarning: Precision is ill-defined and being set to 0.0 in labels with no predicted samples. Use `zero_division` parameter to control this behavior.\n",
      "  _warn_prf(average, modifier, msg_start, len(result))\n",
      "/home/chenlequn/anaconda3/envs/working_primary/lib/python3.9/site-packages/sklearn/metrics/_classification.py:1469: UndefinedMetricWarning: Precision is ill-defined and being set to 0.0 in labels with no predicted samples. Use `zero_division` parameter to control this behavior.\n",
      "  _warn_prf(average, modifier, msg_start, len(result))\n"
     ]
    },
    {
     "name": "stdout",
     "output_type": "stream",
     "text": [
      "\t\tAccuracy: Mean = 0.908692152917505, Std = 0.034693263612254624\n",
      "\t\tF1 Score: Mean = 0.9046140829382028, Std = 0.03554106569195125\n",
      "\t\tPrecision: Mean = 0.9089761630053381, Std = 0.03541861834990414\n",
      "\t\tRecall: Mean = 0.908692152917505, Std = 0.034693263612254624\n",
      "\t\tROC-AUC: Mean = 0.9906690651558175, Std = 0.0\n",
      "\tTraining model: XGBoost\n"
     ]
    },
    {
     "name": "stderr",
     "output_type": "stream",
     "text": [
      "/home/chenlequn/anaconda3/envs/working_primary/lib/python3.9/site-packages/sklearn/metrics/_classification.py:1469: UndefinedMetricWarning: Precision is ill-defined and being set to 0.0 in labels with no predicted samples. Use `zero_division` parameter to control this behavior.\n",
      "  _warn_prf(average, modifier, msg_start, len(result))\n",
      "/home/chenlequn/anaconda3/envs/working_primary/lib/python3.9/site-packages/sklearn/metrics/_classification.py:1469: UndefinedMetricWarning: Precision is ill-defined and being set to 0.0 in labels with no predicted samples. Use `zero_division` parameter to control this behavior.\n",
      "  _warn_prf(average, modifier, msg_start, len(result))\n",
      "/home/chenlequn/anaconda3/envs/working_primary/lib/python3.9/site-packages/sklearn/metrics/_classification.py:1469: UndefinedMetricWarning: Precision is ill-defined and being set to 0.0 in labels with no predicted samples. Use `zero_division` parameter to control this behavior.\n",
      "  _warn_prf(average, modifier, msg_start, len(result))\n",
      "/home/chenlequn/anaconda3/envs/working_primary/lib/python3.9/site-packages/sklearn/metrics/_classification.py:1469: UndefinedMetricWarning: Precision is ill-defined and being set to 0.0 in labels with no predicted samples. Use `zero_division` parameter to control this behavior.\n",
      "  _warn_prf(average, modifier, msg_start, len(result))\n"
     ]
    },
    {
     "name": "stdout",
     "output_type": "stream",
     "text": [
      "\t\tAccuracy: Mean = 0.9201207243460765, Std = 0.030918686376706108\n",
      "\t\tF1 Score: Mean = 0.9129401902747338, Std = 0.03457203909306208\n",
      "\t\tPrecision: Mean = 0.9128889406165814, Std = 0.03634234197558829\n",
      "\t\tRecall: Mean = 0.9201207243460765, Std = 0.030918686376706108\n",
      "\t\tROC-AUC: Mean = 0.9802542465227181, Std = 0.0\n",
      "\tTraining model: LightGBM\n"
     ]
    },
    {
     "name": "stderr",
     "output_type": "stream",
     "text": [
      "/home/chenlequn/anaconda3/envs/working_primary/lib/python3.9/site-packages/sklearn/metrics/_classification.py:1469: UndefinedMetricWarning: Precision is ill-defined and being set to 0.0 in labels with no predicted samples. Use `zero_division` parameter to control this behavior.\n",
      "  _warn_prf(average, modifier, msg_start, len(result))\n",
      "/home/chenlequn/anaconda3/envs/working_primary/lib/python3.9/site-packages/sklearn/metrics/_classification.py:1469: UndefinedMetricWarning: Precision is ill-defined and being set to 0.0 in labels with no predicted samples. Use `zero_division` parameter to control this behavior.\n",
      "  _warn_prf(average, modifier, msg_start, len(result))\n",
      "/home/chenlequn/anaconda3/envs/working_primary/lib/python3.9/site-packages/sklearn/metrics/_classification.py:1469: UndefinedMetricWarning: Precision is ill-defined and being set to 0.0 in labels with no predicted samples. Use `zero_division` parameter to control this behavior.\n",
      "  _warn_prf(average, modifier, msg_start, len(result))\n",
      "/home/chenlequn/anaconda3/envs/working_primary/lib/python3.9/site-packages/sklearn/metrics/_classification.py:1469: UndefinedMetricWarning: Precision is ill-defined and being set to 0.0 in labels with no predicted samples. Use `zero_division` parameter to control this behavior.\n",
      "  _warn_prf(average, modifier, msg_start, len(result))\n",
      "/home/chenlequn/anaconda3/envs/working_primary/lib/python3.9/site-packages/sklearn/metrics/_classification.py:1469: UndefinedMetricWarning: Precision is ill-defined and being set to 0.0 in labels with no predicted samples. Use `zero_division` parameter to control this behavior.\n",
      "  _warn_prf(average, modifier, msg_start, len(result))\n",
      "/home/chenlequn/anaconda3/envs/working_primary/lib/python3.9/site-packages/sklearn/metrics/_classification.py:1469: UndefinedMetricWarning: Precision is ill-defined and being set to 0.0 in labels with no predicted samples. Use `zero_division` parameter to control this behavior.\n",
      "  _warn_prf(average, modifier, msg_start, len(result))\n"
     ]
    },
    {
     "name": "stdout",
     "output_type": "stream",
     "text": [
      "\t\tAccuracy: Mean = 0.9202012072434608, Std = 0.023289197381063217\n",
      "\t\tF1 Score: Mean = 0.9144427944956792, Std = 0.024502228268769004\n",
      "\t\tPrecision: Mean = 0.921121358796498, Std = 0.02340497139112543\n",
      "\t\tRecall: Mean = 0.9202012072434608, Std = 0.023289197381063217\n",
      "\t\tROC-AUC: Mean = 0.9861008453336731, Std = 0.0\n",
      "\tTraining model: SVM\n",
      "\t\tAccuracy: Mean = 0.8859557344064386, Std = 0.018454291377663114\n",
      "\t\tF1 Score: Mean = 0.8753210857241364, Std = 0.02305396233898249\n",
      "\t\tPrecision: Mean = 0.8743478774439837, Std = 0.030422753631027984\n",
      "\t\tRecall: Mean = 0.8859557344064386, Std = 0.018454291377663114\n",
      "\t\tROC-AUC: Mean = 0.9610670786815851, Std = 0.0\n",
      "\tTraining model: HistGB\n"
     ]
    },
    {
     "name": "stderr",
     "output_type": "stream",
     "text": [
      "/home/chenlequn/anaconda3/envs/working_primary/lib/python3.9/site-packages/sklearn/metrics/_classification.py:1469: UndefinedMetricWarning: Precision is ill-defined and being set to 0.0 in labels with no predicted samples. Use `zero_division` parameter to control this behavior.\n",
      "  _warn_prf(average, modifier, msg_start, len(result))\n",
      "/home/chenlequn/anaconda3/envs/working_primary/lib/python3.9/site-packages/sklearn/metrics/_classification.py:1469: UndefinedMetricWarning: Precision is ill-defined and being set to 0.0 in labels with no predicted samples. Use `zero_division` parameter to control this behavior.\n",
      "  _warn_prf(average, modifier, msg_start, len(result))\n",
      "/home/chenlequn/anaconda3/envs/working_primary/lib/python3.9/site-packages/sklearn/metrics/_classification.py:1469: UndefinedMetricWarning: Precision is ill-defined and being set to 0.0 in labels with no predicted samples. Use `zero_division` parameter to control this behavior.\n",
      "  _warn_prf(average, modifier, msg_start, len(result))\n",
      "/home/chenlequn/anaconda3/envs/working_primary/lib/python3.9/site-packages/sklearn/metrics/_classification.py:1469: UndefinedMetricWarning: Precision is ill-defined and being set to 0.0 in labels with no predicted samples. Use `zero_division` parameter to control this behavior.\n",
      "  _warn_prf(average, modifier, msg_start, len(result))\n",
      "/home/chenlequn/anaconda3/envs/working_primary/lib/python3.9/site-packages/sklearn/metrics/_classification.py:1469: UndefinedMetricWarning: Precision is ill-defined and being set to 0.0 in labels with no predicted samples. Use `zero_division` parameter to control this behavior.\n",
      "  _warn_prf(average, modifier, msg_start, len(result))\n",
      "/home/chenlequn/anaconda3/envs/working_primary/lib/python3.9/site-packages/sklearn/metrics/_classification.py:1469: UndefinedMetricWarning: Precision is ill-defined and being set to 0.0 in labels with no predicted samples. Use `zero_division` parameter to control this behavior.\n",
      "  _warn_prf(average, modifier, msg_start, len(result))\n",
      "/home/chenlequn/anaconda3/envs/working_primary/lib/python3.9/site-packages/sklearn/metrics/_classification.py:1469: UndefinedMetricWarning: Precision is ill-defined and being set to 0.0 in labels with no predicted samples. Use `zero_division` parameter to control this behavior.\n",
      "  _warn_prf(average, modifier, msg_start, len(result))\n",
      "/home/chenlequn/anaconda3/envs/working_primary/lib/python3.9/site-packages/sklearn/metrics/_classification.py:1469: UndefinedMetricWarning: Precision is ill-defined and being set to 0.0 in labels with no predicted samples. Use `zero_division` parameter to control this behavior.\n",
      "  _warn_prf(average, modifier, msg_start, len(result))\n"
     ]
    },
    {
     "name": "stdout",
     "output_type": "stream",
     "text": [
      "\t\tAccuracy: Mean = 0.3274446680080483, Std = 0.049561653126780666\n",
      "\t\tF1 Score: Mean = 0.3721289751717528, Std = 0.04566579229868627\n",
      "\t\tPrecision: Mean = 0.5854819407946519, Std = 0.07637774926625954\n",
      "\t\tRecall: Mean = 0.3274446680080483, Std = 0.049561653126780666\n",
      "\t\tROC-AUC: Mean = 0.5584396291398575, Std = 0.0\n",
      "Processing dataset: Ablated 1\n",
      "\tTraining model: KNN\n",
      "\t\tAccuracy: Mean = 0.8689336016096579, Std = 0.019020460323723055\n",
      "\t\tF1 Score: Mean = 0.8531244352245715, Std = 0.025251018571925396\n",
      "\t\tPrecision: Mean = 0.8581748959430342, Std = 0.033430913657118616\n",
      "\t\tRecall: Mean = 0.8689336016096579, Std = 0.019020460323723055\n",
      "\t\tROC-AUC: Mean = 0.9737723938274415, Std = 0.0\n",
      "\tTraining model: DT\n",
      "\t\tAccuracy: Mean = 0.8574245472837022, Std = 0.0386503560353476\n",
      "\t\tF1 Score: Mean = 0.8585426864117756, Std = 0.03848618424884485\n",
      "\t\tPrecision: Mean = 0.8697980064477283, Std = 0.035430571411628295\n",
      "\t\tRecall: Mean = 0.8574245472837022, Std = 0.0386503560353476\n",
      "\t\tROC-AUC: Mean = 0.9377559397704366, Std = 0.0\n",
      "\tTraining model: LR\n"
     ]
    },
    {
     "name": "stderr",
     "output_type": "stream",
     "text": [
      "/home/chenlequn/anaconda3/envs/working_primary/lib/python3.9/site-packages/sklearn/metrics/_classification.py:1469: UndefinedMetricWarning: Precision is ill-defined and being set to 0.0 in labels with no predicted samples. Use `zero_division` parameter to control this behavior.\n",
      "  _warn_prf(average, modifier, msg_start, len(result))\n",
      "/home/chenlequn/anaconda3/envs/working_primary/lib/python3.9/site-packages/sklearn/metrics/_classification.py:1469: UndefinedMetricWarning: Recall is ill-defined and being set to 0.0 in labels with no true samples. Use `zero_division` parameter to control this behavior.\n",
      "  _warn_prf(average, modifier, msg_start, len(result))\n",
      "/home/chenlequn/anaconda3/envs/working_primary/lib/python3.9/site-packages/sklearn/metrics/_classification.py:1469: UndefinedMetricWarning: Precision is ill-defined and being set to 0.0 in labels with no predicted samples. Use `zero_division` parameter to control this behavior.\n",
      "  _warn_prf(average, modifier, msg_start, len(result))\n",
      "/home/chenlequn/anaconda3/envs/working_primary/lib/python3.9/site-packages/sklearn/metrics/_classification.py:1469: UndefinedMetricWarning: Precision is ill-defined and being set to 0.0 in labels with no predicted samples. Use `zero_division` parameter to control this behavior.\n",
      "  _warn_prf(average, modifier, msg_start, len(result))\n",
      "/home/chenlequn/anaconda3/envs/working_primary/lib/python3.9/site-packages/sklearn/metrics/_classification.py:1469: UndefinedMetricWarning: Recall is ill-defined and being set to 0.0 in labels with no true samples. Use `zero_division` parameter to control this behavior.\n",
      "  _warn_prf(average, modifier, msg_start, len(result))\n",
      "/home/chenlequn/anaconda3/envs/working_primary/lib/python3.9/site-packages/sklearn/metrics/_classification.py:1469: UndefinedMetricWarning: Precision is ill-defined and being set to 0.0 in labels with no predicted samples. Use `zero_division` parameter to control this behavior.\n",
      "  _warn_prf(average, modifier, msg_start, len(result))\n"
     ]
    },
    {
     "name": "stdout",
     "output_type": "stream",
     "text": [
      "\t\tAccuracy: Mean = 0.8886921529175051, Std = 0.052375045503211405\n",
      "\t\tF1 Score: Mean = 0.8876972963873222, Std = 0.048430475136420875\n",
      "\t\tPrecision: Mean = 0.8972182241188277, Std = 0.040669198242898545\n",
      "\t\tRecall: Mean = 0.8886921529175051, Std = 0.052375045503211405\n",
      "\t\tROC-AUC: Mean = 0.9916148144864741, Std = 0.0\n",
      "\tTraining model: RF\n"
     ]
    },
    {
     "name": "stderr",
     "output_type": "stream",
     "text": [
      "/home/chenlequn/anaconda3/envs/working_primary/lib/python3.9/site-packages/sklearn/metrics/_classification.py:1469: UndefinedMetricWarning: Precision is ill-defined and being set to 0.0 in labels with no predicted samples. Use `zero_division` parameter to control this behavior.\n",
      "  _warn_prf(average, modifier, msg_start, len(result))\n",
      "/home/chenlequn/anaconda3/envs/working_primary/lib/python3.9/site-packages/sklearn/metrics/_classification.py:1469: UndefinedMetricWarning: Precision is ill-defined and being set to 0.0 in labels with no predicted samples. Use `zero_division` parameter to control this behavior.\n",
      "  _warn_prf(average, modifier, msg_start, len(result))\n",
      "/home/chenlequn/anaconda3/envs/working_primary/lib/python3.9/site-packages/sklearn/metrics/_classification.py:1469: UndefinedMetricWarning: Precision is ill-defined and being set to 0.0 in labels with no predicted samples. Use `zero_division` parameter to control this behavior.\n",
      "  _warn_prf(average, modifier, msg_start, len(result))\n",
      "/home/chenlequn/anaconda3/envs/working_primary/lib/python3.9/site-packages/sklearn/metrics/_classification.py:1469: UndefinedMetricWarning: Precision is ill-defined and being set to 0.0 in labels with no predicted samples. Use `zero_division` parameter to control this behavior.\n",
      "  _warn_prf(average, modifier, msg_start, len(result))\n",
      "/home/chenlequn/anaconda3/envs/working_primary/lib/python3.9/site-packages/imblearn/ensemble/_forest.py:577: FutureWarning: The default of `sampling_strategy` will change from `'auto'` to `'all'` in version 0.13. This change will follow the implementation proposed in the original paper. Set to `'all'` to silence this warning and adopt the future behaviour.\n",
      "  warn(\n",
      "/home/chenlequn/anaconda3/envs/working_primary/lib/python3.9/site-packages/imblearn/ensemble/_forest.py:589: FutureWarning: The default of `replacement` will change from `False` to `True` in version 0.13. This change will follow the implementation proposed in the original paper. Set to `True` to silence this warning and adopt the future behaviour.\n",
      "  warn(\n"
     ]
    },
    {
     "name": "stdout",
     "output_type": "stream",
     "text": [
      "\t\tAccuracy: Mean = 0.8973038229376258, Std = 0.02796725677266918\n",
      "\t\tF1 Score: Mean = 0.8881192798443385, Std = 0.029412807064438214\n",
      "\t\tPrecision: Mean = 0.8882500868055574, Std = 0.030522833208901354\n",
      "\t\tRecall: Mean = 0.8973038229376258, Std = 0.02796725677266918\n",
      "\t\tROC-AUC: Mean = 0.9908662592368911, Std = 0.0\n",
      "\tTraining model: BalancedRF\n"
     ]
    },
    {
     "name": "stderr",
     "output_type": "stream",
     "text": [
      "/home/chenlequn/anaconda3/envs/working_primary/lib/python3.9/site-packages/sklearn/metrics/_classification.py:1469: UndefinedMetricWarning: Recall is ill-defined and being set to 0.0 in labels with no true samples. Use `zero_division` parameter to control this behavior.\n",
      "  _warn_prf(average, modifier, msg_start, len(result))\n",
      "/home/chenlequn/anaconda3/envs/working_primary/lib/python3.9/site-packages/sklearn/metrics/_classification.py:1469: UndefinedMetricWarning: Recall is ill-defined and being set to 0.0 in labels with no true samples. Use `zero_division` parameter to control this behavior.\n",
      "  _warn_prf(average, modifier, msg_start, len(result))\n",
      "/home/chenlequn/anaconda3/envs/working_primary/lib/python3.9/site-packages/sklearn/metrics/_classification.py:1469: UndefinedMetricWarning: Recall is ill-defined and being set to 0.0 in labels with no true samples. Use `zero_division` parameter to control this behavior.\n",
      "  _warn_prf(average, modifier, msg_start, len(result))\n",
      "/home/chenlequn/anaconda3/envs/working_primary/lib/python3.9/site-packages/sklearn/metrics/_classification.py:1469: UndefinedMetricWarning: Recall is ill-defined and being set to 0.0 in labels with no true samples. Use `zero_division` parameter to control this behavior.\n",
      "  _warn_prf(average, modifier, msg_start, len(result))\n"
     ]
    },
    {
     "name": "stdout",
     "output_type": "stream",
     "text": [
      "\t\tAccuracy: Mean = 0.811871227364185, Std = 0.02515331980363284\n",
      "\t\tF1 Score: Mean = 0.8316082575626901, Std = 0.021084336796879117\n",
      "\t\tPrecision: Mean = 0.8689702957646201, Std = 0.022357916985673652\n",
      "\t\tRecall: Mean = 0.811871227364185, Std = 0.02515331980363284\n",
      "\t\tROC-AUC: Mean = 0.9697410200806635, Std = 0.0\n",
      "\tTraining model: RUSBoost\n"
     ]
    },
    {
     "name": "stderr",
     "output_type": "stream",
     "text": [
      "/home/chenlequn/anaconda3/envs/working_primary/lib/python3.9/site-packages/sklearn/metrics/_classification.py:1469: UndefinedMetricWarning: Recall is ill-defined and being set to 0.0 in labels with no true samples. Use `zero_division` parameter to control this behavior.\n",
      "  _warn_prf(average, modifier, msg_start, len(result))\n",
      "/home/chenlequn/anaconda3/envs/working_primary/lib/python3.9/site-packages/sklearn/metrics/_classification.py:1469: UndefinedMetricWarning: Precision is ill-defined and being set to 0.0 in labels with no predicted samples. Use `zero_division` parameter to control this behavior.\n",
      "  _warn_prf(average, modifier, msg_start, len(result))\n",
      "/home/chenlequn/anaconda3/envs/working_primary/lib/python3.9/site-packages/sklearn/metrics/_classification.py:1469: UndefinedMetricWarning: Recall is ill-defined and being set to 0.0 in labels with no true samples. Use `zero_division` parameter to control this behavior.\n",
      "  _warn_prf(average, modifier, msg_start, len(result))\n",
      "/home/chenlequn/anaconda3/envs/working_primary/lib/python3.9/site-packages/sklearn/metrics/_classification.py:1469: UndefinedMetricWarning: Recall is ill-defined and being set to 0.0 in labels with no true samples. Use `zero_division` parameter to control this behavior.\n",
      "  _warn_prf(average, modifier, msg_start, len(result))\n",
      "/home/chenlequn/anaconda3/envs/working_primary/lib/python3.9/site-packages/sklearn/metrics/_classification.py:1469: UndefinedMetricWarning: Recall is ill-defined and being set to 0.0 in labels with no true samples. Use `zero_division` parameter to control this behavior.\n",
      "  _warn_prf(average, modifier, msg_start, len(result))\n"
     ]
    },
    {
     "name": "stdout",
     "output_type": "stream",
     "text": [
      "\t\tAccuracy: Mean = 0.7976257545271631, Std = 0.04118971269449099\n",
      "\t\tF1 Score: Mean = 0.8061542565386794, Std = 0.04580269096285656\n",
      "\t\tPrecision: Mean = 0.8332705081768156, Std = 0.0388015234335574\n",
      "\t\tRecall: Mean = 0.7976257545271631, Std = 0.04118971269449099\n",
      "\t\tROC-AUC: Mean = 0.9463721432561247, Std = 0.0\n",
      "\tTraining model: Ada\n"
     ]
    },
    {
     "name": "stderr",
     "output_type": "stream",
     "text": [
      "/home/chenlequn/anaconda3/envs/working_primary/lib/python3.9/site-packages/sklearn/metrics/_classification.py:1469: UndefinedMetricWarning: Precision is ill-defined and being set to 0.0 in labels with no predicted samples. Use `zero_division` parameter to control this behavior.\n",
      "  _warn_prf(average, modifier, msg_start, len(result))\n",
      "/home/chenlequn/anaconda3/envs/working_primary/lib/python3.9/site-packages/sklearn/metrics/_classification.py:1469: UndefinedMetricWarning: Precision is ill-defined and being set to 0.0 in labels with no predicted samples. Use `zero_division` parameter to control this behavior.\n",
      "  _warn_prf(average, modifier, msg_start, len(result))\n",
      "/home/chenlequn/anaconda3/envs/working_primary/lib/python3.9/site-packages/sklearn/metrics/_classification.py:1469: UndefinedMetricWarning: Recall is ill-defined and being set to 0.0 in labels with no true samples. Use `zero_division` parameter to control this behavior.\n",
      "  _warn_prf(average, modifier, msg_start, len(result))\n",
      "/home/chenlequn/anaconda3/envs/working_primary/lib/python3.9/site-packages/sklearn/metrics/_classification.py:1469: UndefinedMetricWarning: Precision is ill-defined and being set to 0.0 in labels with no predicted samples. Use `zero_division` parameter to control this behavior.\n",
      "  _warn_prf(average, modifier, msg_start, len(result))\n",
      "/home/chenlequn/anaconda3/envs/working_primary/lib/python3.9/site-packages/sklearn/metrics/_classification.py:1469: UndefinedMetricWarning: Precision is ill-defined and being set to 0.0 in labels with no predicted samples. Use `zero_division` parameter to control this behavior.\n",
      "  _warn_prf(average, modifier, msg_start, len(result))\n"
     ]
    },
    {
     "name": "stdout",
     "output_type": "stream",
     "text": [
      "\t\tAccuracy: Mean = 0.8432595573440643, Std = 0.020501428529554857\n",
      "\t\tF1 Score: Mean = 0.8392616607379443, Std = 0.02087106599642462\n",
      "\t\tPrecision: Mean = 0.8476940659488592, Std = 0.020214614531627532\n",
      "\t\tRecall: Mean = 0.8432595573440643, Std = 0.020501428529554857\n",
      "\t\tROC-AUC: Mean = 0.9595902528718899, Std = 0.0\n",
      "\tTraining model: NN\n"
     ]
    },
    {
     "name": "stderr",
     "output_type": "stream",
     "text": [
      "/home/chenlequn/anaconda3/envs/working_primary/lib/python3.9/site-packages/sklearn/metrics/_classification.py:1469: UndefinedMetricWarning: Precision is ill-defined and being set to 0.0 in labels with no predicted samples. Use `zero_division` parameter to control this behavior.\n",
      "  _warn_prf(average, modifier, msg_start, len(result))\n",
      "/home/chenlequn/anaconda3/envs/working_primary/lib/python3.9/site-packages/sklearn/metrics/_classification.py:1469: UndefinedMetricWarning: Precision is ill-defined and being set to 0.0 in labels with no predicted samples. Use `zero_division` parameter to control this behavior.\n",
      "  _warn_prf(average, modifier, msg_start, len(result))\n",
      "/home/chenlequn/anaconda3/envs/working_primary/lib/python3.9/site-packages/sklearn/metrics/_classification.py:1469: UndefinedMetricWarning: Precision is ill-defined and being set to 0.0 in labels with no predicted samples. Use `zero_division` parameter to control this behavior.\n",
      "  _warn_prf(average, modifier, msg_start, len(result))\n",
      "/home/chenlequn/anaconda3/envs/working_primary/lib/python3.9/site-packages/sklearn/metrics/_classification.py:1469: UndefinedMetricWarning: Precision is ill-defined and being set to 0.0 in labels with no predicted samples. Use `zero_division` parameter to control this behavior.\n",
      "  _warn_prf(average, modifier, msg_start, len(result))\n"
     ]
    },
    {
     "name": "stdout",
     "output_type": "stream",
     "text": [
      "\t\tAccuracy: Mean = 0.9001609657947686, Std = 0.04254196840084274\n",
      "\t\tF1 Score: Mean = 0.8969678748890342, Std = 0.04043799099129158\n",
      "\t\tPrecision: Mean = 0.9012094700935404, Std = 0.035039034854126114\n",
      "\t\tRecall: Mean = 0.9001609657947686, Std = 0.04254196840084274\n",
      "\t\tROC-AUC: Mean = 0.989109239926545, Std = 0.0\n",
      "\tTraining model: XGBoost\n"
     ]
    },
    {
     "name": "stderr",
     "output_type": "stream",
     "text": [
      "/home/chenlequn/anaconda3/envs/working_primary/lib/python3.9/site-packages/sklearn/metrics/_classification.py:1469: UndefinedMetricWarning: Precision is ill-defined and being set to 0.0 in labels with no predicted samples. Use `zero_division` parameter to control this behavior.\n",
      "  _warn_prf(average, modifier, msg_start, len(result))\n",
      "/home/chenlequn/anaconda3/envs/working_primary/lib/python3.9/site-packages/sklearn/metrics/_classification.py:1469: UndefinedMetricWarning: Precision is ill-defined and being set to 0.0 in labels with no predicted samples. Use `zero_division` parameter to control this behavior.\n",
      "  _warn_prf(average, modifier, msg_start, len(result))\n",
      "/home/chenlequn/anaconda3/envs/working_primary/lib/python3.9/site-packages/sklearn/metrics/_classification.py:1469: UndefinedMetricWarning: Precision is ill-defined and being set to 0.0 in labels with no predicted samples. Use `zero_division` parameter to control this behavior.\n",
      "  _warn_prf(average, modifier, msg_start, len(result))\n"
     ]
    },
    {
     "name": "stdout",
     "output_type": "stream",
     "text": [
      "\t\tAccuracy: Mean = 0.9202012072434608, Std = 0.01724786234495301\n",
      "\t\tF1 Score: Mean = 0.9159736564408609, Std = 0.01810785794993575\n",
      "\t\tPrecision: Mean = 0.920222193313419, Std = 0.021696903613829817\n",
      "\t\tRecall: Mean = 0.9202012072434608, Std = 0.01724786234495301\n",
      "\t\tROC-AUC: Mean = 0.9819137814107618, Std = 0.0\n",
      "\tTraining model: LightGBM\n"
     ]
    },
    {
     "name": "stderr",
     "output_type": "stream",
     "text": [
      "/home/chenlequn/anaconda3/envs/working_primary/lib/python3.9/site-packages/sklearn/metrics/_classification.py:1469: UndefinedMetricWarning: Precision is ill-defined and being set to 0.0 in labels with no predicted samples. Use `zero_division` parameter to control this behavior.\n",
      "  _warn_prf(average, modifier, msg_start, len(result))\n",
      "/home/chenlequn/anaconda3/envs/working_primary/lib/python3.9/site-packages/sklearn/metrics/_classification.py:1469: UndefinedMetricWarning: Precision is ill-defined and being set to 0.0 in labels with no predicted samples. Use `zero_division` parameter to control this behavior.\n",
      "  _warn_prf(average, modifier, msg_start, len(result))\n",
      "/home/chenlequn/anaconda3/envs/working_primary/lib/python3.9/site-packages/sklearn/metrics/_classification.py:1469: UndefinedMetricWarning: Precision is ill-defined and being set to 0.0 in labels with no predicted samples. Use `zero_division` parameter to control this behavior.\n",
      "  _warn_prf(average, modifier, msg_start, len(result))\n",
      "/home/chenlequn/anaconda3/envs/working_primary/lib/python3.9/site-packages/sklearn/metrics/_classification.py:1469: UndefinedMetricWarning: Precision is ill-defined and being set to 0.0 in labels with no predicted samples. Use `zero_division` parameter to control this behavior.\n",
      "  _warn_prf(average, modifier, msg_start, len(result))\n",
      "/home/chenlequn/anaconda3/envs/working_primary/lib/python3.9/site-packages/sklearn/metrics/_classification.py:1469: UndefinedMetricWarning: Precision is ill-defined and being set to 0.0 in labels with no predicted samples. Use `zero_division` parameter to control this behavior.\n",
      "  _warn_prf(average, modifier, msg_start, len(result))\n"
     ]
    },
    {
     "name": "stdout",
     "output_type": "stream",
     "text": [
      "\t\tAccuracy: Mean = 0.9258350100603622, Std = 0.027838707292439337\n",
      "\t\tF1 Score: Mean = 0.9210523811406877, Std = 0.029927658479449053\n",
      "\t\tPrecision: Mean = 0.9258129470612646, Std = 0.028080210982959937\n",
      "\t\tRecall: Mean = 0.9258350100603622, Std = 0.027838707292439337\n",
      "\t\tROC-AUC: Mean = 0.9853800742615328, Std = 0.0\n",
      "\tTraining model: SVM\n",
      "\t\tAccuracy: Mean = 0.8604024144869216, Std = 0.031789827559810434\n",
      "\t\tF1 Score: Mean = 0.8547538552187192, Std = 0.03364405216289174\n",
      "\t\tPrecision: Mean = 0.8595601194152142, Std = 0.030651803570929424\n",
      "\t\tRecall: Mean = 0.8604024144869216, Std = 0.031789827559810434\n",
      "\t\tROC-AUC: Mean = 0.962697510922301, Std = 0.0\n",
      "\tTraining model: HistGB\n"
     ]
    },
    {
     "name": "stderr",
     "output_type": "stream",
     "text": [
      "/home/chenlequn/anaconda3/envs/working_primary/lib/python3.9/site-packages/sklearn/metrics/_classification.py:1469: UndefinedMetricWarning: Precision is ill-defined and being set to 0.0 in labels with no predicted samples. Use `zero_division` parameter to control this behavior.\n",
      "  _warn_prf(average, modifier, msg_start, len(result))\n",
      "/home/chenlequn/anaconda3/envs/working_primary/lib/python3.9/site-packages/sklearn/metrics/_classification.py:1469: UndefinedMetricWarning: Precision is ill-defined and being set to 0.0 in labels with no predicted samples. Use `zero_division` parameter to control this behavior.\n",
      "  _warn_prf(average, modifier, msg_start, len(result))\n",
      "/home/chenlequn/anaconda3/envs/working_primary/lib/python3.9/site-packages/sklearn/metrics/_classification.py:1469: UndefinedMetricWarning: Precision is ill-defined and being set to 0.0 in labels with no predicted samples. Use `zero_division` parameter to control this behavior.\n",
      "  _warn_prf(average, modifier, msg_start, len(result))\n",
      "/home/chenlequn/anaconda3/envs/working_primary/lib/python3.9/site-packages/sklearn/metrics/_classification.py:1469: UndefinedMetricWarning: Recall is ill-defined and being set to 0.0 in labels with no true samples. Use `zero_division` parameter to control this behavior.\n",
      "  _warn_prf(average, modifier, msg_start, len(result))\n",
      "/home/chenlequn/anaconda3/envs/working_primary/lib/python3.9/site-packages/sklearn/metrics/_classification.py:1469: UndefinedMetricWarning: Precision is ill-defined and being set to 0.0 in labels with no predicted samples. Use `zero_division` parameter to control this behavior.\n",
      "  _warn_prf(average, modifier, msg_start, len(result))\n",
      "/home/chenlequn/anaconda3/envs/working_primary/lib/python3.9/site-packages/sklearn/metrics/_classification.py:1469: UndefinedMetricWarning: Precision is ill-defined and being set to 0.0 in labels with no predicted samples. Use `zero_division` parameter to control this behavior.\n",
      "  _warn_prf(average, modifier, msg_start, len(result))\n",
      "/home/chenlequn/anaconda3/envs/working_primary/lib/python3.9/site-packages/sklearn/metrics/_classification.py:1469: UndefinedMetricWarning: Precision is ill-defined and being set to 0.0 in labels with no predicted samples. Use `zero_division` parameter to control this behavior.\n",
      "  _warn_prf(average, modifier, msg_start, len(result))\n",
      "/home/chenlequn/anaconda3/envs/working_primary/lib/python3.9/site-packages/sklearn/metrics/_classification.py:1469: UndefinedMetricWarning: Precision is ill-defined and being set to 0.0 in labels with no predicted samples. Use `zero_division` parameter to control this behavior.\n",
      "  _warn_prf(average, modifier, msg_start, len(result))\n",
      "/home/chenlequn/anaconda3/envs/working_primary/lib/python3.9/site-packages/sklearn/metrics/_classification.py:1469: UndefinedMetricWarning: Precision is ill-defined and being set to 0.0 in labels with no predicted samples. Use `zero_division` parameter to control this behavior.\n",
      "  _warn_prf(average, modifier, msg_start, len(result))\n",
      "/home/chenlequn/anaconda3/envs/working_primary/lib/python3.9/site-packages/sklearn/metrics/_classification.py:1469: UndefinedMetricWarning: Precision is ill-defined and being set to 0.0 in labels with no predicted samples. Use `zero_division` parameter to control this behavior.\n",
      "  _warn_prf(average, modifier, msg_start, len(result))\n"
     ]
    },
    {
     "name": "stdout",
     "output_type": "stream",
     "text": [
      "\t\tAccuracy: Mean = 0.45613682092555335, Std = 0.06670947187713712\n",
      "\t\tF1 Score: Mean = 0.38680940205079545, Std = 0.07155078413441648\n",
      "\t\tPrecision: Mean = 0.3583055807974804, Std = 0.06665392707158166\n",
      "\t\tRecall: Mean = 0.45613682092555335, Std = 0.06670947187713712\n",
      "\t\tROC-AUC: Mean = 0.7048905907985552, Std = 0.0\n",
      "Processing dataset: Ablated 2\n",
      "\tTraining model: KNN\n",
      "\t\tAccuracy: Mean = 0.8575452716297786, Std = 0.020219075522467853\n",
      "\t\tF1 Score: Mean = 0.8399304069634607, Std = 0.026347779609980748\n",
      "\t\tPrecision: Mean = 0.8487153812343013, Std = 0.03795289888015738\n",
      "\t\tRecall: Mean = 0.8575452716297786, Std = 0.020219075522467853\n",
      "\t\tROC-AUC: Mean = 0.9696604370527867, Std = 0.0\n",
      "\tTraining model: DT\n",
      "\t\tAccuracy: Mean = 0.8259557344064387, Std = 0.04942675491133464\n",
      "\t\tF1 Score: Mean = 0.8236902358660437, Std = 0.04941174503976881\n",
      "\t\tPrecision: Mean = 0.8367336322731121, Std = 0.04439612043775065\n",
      "\t\tRecall: Mean = 0.8259557344064387, Std = 0.04942675491133464\n",
      "\t\tROC-AUC: Mean = 0.9017578688427372, Std = 0.0\n",
      "\tTraining model: LR\n"
     ]
    },
    {
     "name": "stderr",
     "output_type": "stream",
     "text": [
      "/home/chenlequn/anaconda3/envs/working_primary/lib/python3.9/site-packages/sklearn/metrics/_classification.py:1469: UndefinedMetricWarning: Precision is ill-defined and being set to 0.0 in labels with no predicted samples. Use `zero_division` parameter to control this behavior.\n",
      "  _warn_prf(average, modifier, msg_start, len(result))\n",
      "/home/chenlequn/anaconda3/envs/working_primary/lib/python3.9/site-packages/sklearn/metrics/_classification.py:1469: UndefinedMetricWarning: Recall is ill-defined and being set to 0.0 in labels with no true samples. Use `zero_division` parameter to control this behavior.\n",
      "  _warn_prf(average, modifier, msg_start, len(result))\n",
      "/home/chenlequn/anaconda3/envs/working_primary/lib/python3.9/site-packages/sklearn/metrics/_classification.py:1469: UndefinedMetricWarning: Precision is ill-defined and being set to 0.0 in labels with no predicted samples. Use `zero_division` parameter to control this behavior.\n",
      "  _warn_prf(average, modifier, msg_start, len(result))\n",
      "/home/chenlequn/anaconda3/envs/working_primary/lib/python3.9/site-packages/sklearn/metrics/_classification.py:1469: UndefinedMetricWarning: Precision is ill-defined and being set to 0.0 in labels with no predicted samples. Use `zero_division` parameter to control this behavior.\n",
      "  _warn_prf(average, modifier, msg_start, len(result))\n",
      "/home/chenlequn/anaconda3/envs/working_primary/lib/python3.9/site-packages/sklearn/metrics/_classification.py:1469: UndefinedMetricWarning: Precision is ill-defined and being set to 0.0 in labels with no predicted samples. Use `zero_division` parameter to control this behavior.\n",
      "  _warn_prf(average, modifier, msg_start, len(result))\n",
      "/home/chenlequn/anaconda3/envs/working_primary/lib/python3.9/site-packages/sklearn/metrics/_classification.py:1469: UndefinedMetricWarning: Precision is ill-defined and being set to 0.0 in labels with no predicted samples. Use `zero_division` parameter to control this behavior.\n",
      "  _warn_prf(average, modifier, msg_start, len(result))\n"
     ]
    },
    {
     "name": "stdout",
     "output_type": "stream",
     "text": [
      "\t\tAccuracy: Mean = 0.8801207243460765, Std = 0.05176783585618526\n",
      "\t\tF1 Score: Mean = 0.8781485309567796, Std = 0.04935854261168623\n",
      "\t\tPrecision: Mean = 0.8857520167811919, Std = 0.04017543068430163\n",
      "\t\tRecall: Mean = 0.8801207243460765, Std = 0.05176783585618526\n",
      "\t\tROC-AUC: Mean = 0.991427853849388, Std = 0.0\n",
      "\tTraining model: RF\n"
     ]
    },
    {
     "name": "stderr",
     "output_type": "stream",
     "text": [
      "/home/chenlequn/anaconda3/envs/working_primary/lib/python3.9/site-packages/sklearn/metrics/_classification.py:1469: UndefinedMetricWarning: Precision is ill-defined and being set to 0.0 in labels with no predicted samples. Use `zero_division` parameter to control this behavior.\n",
      "  _warn_prf(average, modifier, msg_start, len(result))\n",
      "/home/chenlequn/anaconda3/envs/working_primary/lib/python3.9/site-packages/sklearn/metrics/_classification.py:1469: UndefinedMetricWarning: Precision is ill-defined and being set to 0.0 in labels with no predicted samples. Use `zero_division` parameter to control this behavior.\n",
      "  _warn_prf(average, modifier, msg_start, len(result))\n",
      "/home/chenlequn/anaconda3/envs/working_primary/lib/python3.9/site-packages/sklearn/metrics/_classification.py:1469: UndefinedMetricWarning: Precision is ill-defined and being set to 0.0 in labels with no predicted samples. Use `zero_division` parameter to control this behavior.\n",
      "  _warn_prf(average, modifier, msg_start, len(result))\n",
      "/home/chenlequn/anaconda3/envs/working_primary/lib/python3.9/site-packages/sklearn/metrics/_classification.py:1469: UndefinedMetricWarning: Precision is ill-defined and being set to 0.0 in labels with no predicted samples. Use `zero_division` parameter to control this behavior.\n",
      "  _warn_prf(average, modifier, msg_start, len(result))\n",
      "/home/chenlequn/anaconda3/envs/working_primary/lib/python3.9/site-packages/imblearn/ensemble/_forest.py:577: FutureWarning: The default of `sampling_strategy` will change from `'auto'` to `'all'` in version 0.13. This change will follow the implementation proposed in the original paper. Set to `'all'` to silence this warning and adopt the future behaviour.\n",
      "  warn(\n",
      "/home/chenlequn/anaconda3/envs/working_primary/lib/python3.9/site-packages/imblearn/ensemble/_forest.py:589: FutureWarning: The default of `replacement` will change from `False` to `True` in version 0.13. This change will follow the implementation proposed in the original paper. Set to `True` to silence this warning and adopt the future behaviour.\n",
      "  warn(\n"
     ]
    },
    {
     "name": "stdout",
     "output_type": "stream",
     "text": [
      "\t\tAccuracy: Mean = 0.897344064386318, Std = 0.02129848765513649\n",
      "\t\tF1 Score: Mean = 0.888079544297858, Std = 0.022581265848956297\n",
      "\t\tPrecision: Mean = 0.8867904170814425, Std = 0.02318355319999258\n",
      "\t\tRecall: Mean = 0.897344064386318, Std = 0.02129848765513649\n",
      "\t\tROC-AUC: Mean = 0.9894111869399412, Std = 0.0\n",
      "\tTraining model: BalancedRF\n"
     ]
    },
    {
     "name": "stderr",
     "output_type": "stream",
     "text": [
      "/home/chenlequn/anaconda3/envs/working_primary/lib/python3.9/site-packages/sklearn/metrics/_classification.py:1469: UndefinedMetricWarning: Recall is ill-defined and being set to 0.0 in labels with no true samples. Use `zero_division` parameter to control this behavior.\n",
      "  _warn_prf(average, modifier, msg_start, len(result))\n",
      "/home/chenlequn/anaconda3/envs/working_primary/lib/python3.9/site-packages/sklearn/metrics/_classification.py:1469: UndefinedMetricWarning: Recall is ill-defined and being set to 0.0 in labels with no true samples. Use `zero_division` parameter to control this behavior.\n",
      "  _warn_prf(average, modifier, msg_start, len(result))\n",
      "/home/chenlequn/anaconda3/envs/working_primary/lib/python3.9/site-packages/sklearn/metrics/_classification.py:1469: UndefinedMetricWarning: Recall is ill-defined and being set to 0.0 in labels with no true samples. Use `zero_division` parameter to control this behavior.\n",
      "  _warn_prf(average, modifier, msg_start, len(result))\n",
      "/home/chenlequn/anaconda3/envs/working_primary/lib/python3.9/site-packages/sklearn/metrics/_classification.py:1469: UndefinedMetricWarning: Recall is ill-defined and being set to 0.0 in labels with no true samples. Use `zero_division` parameter to control this behavior.\n",
      "  _warn_prf(average, modifier, msg_start, len(result))\n"
     ]
    },
    {
     "name": "stdout",
     "output_type": "stream",
     "text": [
      "\t\tAccuracy: Mean = 0.8033802816901409, Std = 0.011284408282228642\n",
      "\t\tF1 Score: Mean = 0.8286308910539484, Std = 0.017712313642741614\n",
      "\t\tPrecision: Mean = 0.8849886541097085, Std = 0.01575948947809531\n",
      "\t\tRecall: Mean = 0.8033802816901409, Std = 0.011284408282228642\n",
      "\t\tROC-AUC: Mean = 0.9652959221247739, Std = 0.0\n",
      "\tTraining model: RUSBoost\n"
     ]
    },
    {
     "name": "stderr",
     "output_type": "stream",
     "text": [
      "/home/chenlequn/anaconda3/envs/working_primary/lib/python3.9/site-packages/sklearn/metrics/_classification.py:1469: UndefinedMetricWarning: Recall is ill-defined and being set to 0.0 in labels with no true samples. Use `zero_division` parameter to control this behavior.\n",
      "  _warn_prf(average, modifier, msg_start, len(result))\n",
      "/home/chenlequn/anaconda3/envs/working_primary/lib/python3.9/site-packages/sklearn/metrics/_classification.py:1469: UndefinedMetricWarning: Precision is ill-defined and being set to 0.0 in labels with no predicted samples. Use `zero_division` parameter to control this behavior.\n",
      "  _warn_prf(average, modifier, msg_start, len(result))\n",
      "/home/chenlequn/anaconda3/envs/working_primary/lib/python3.9/site-packages/sklearn/metrics/_classification.py:1469: UndefinedMetricWarning: Precision is ill-defined and being set to 0.0 in labels with no predicted samples. Use `zero_division` parameter to control this behavior.\n",
      "  _warn_prf(average, modifier, msg_start, len(result))\n",
      "/home/chenlequn/anaconda3/envs/working_primary/lib/python3.9/site-packages/sklearn/metrics/_classification.py:1469: UndefinedMetricWarning: Recall is ill-defined and being set to 0.0 in labels with no true samples. Use `zero_division` parameter to control this behavior.\n",
      "  _warn_prf(average, modifier, msg_start, len(result))\n",
      "/home/chenlequn/anaconda3/envs/working_primary/lib/python3.9/site-packages/sklearn/metrics/_classification.py:1469: UndefinedMetricWarning: Precision is ill-defined and being set to 0.0 in labels with no predicted samples. Use `zero_division` parameter to control this behavior.\n",
      "  _warn_prf(average, modifier, msg_start, len(result))\n"
     ]
    },
    {
     "name": "stdout",
     "output_type": "stream",
     "text": [
      "\t\tAccuracy: Mean = 0.7520724346076458, Std = 0.029878401710691102\n",
      "\t\tF1 Score: Mean = 0.7428470622907244, Std = 0.03531356463150519\n",
      "\t\tPrecision: Mean = 0.7548075471250255, Std = 0.03685363075091233\n",
      "\t\tRecall: Mean = 0.7520724346076458, Std = 0.029878401710691102\n",
      "\t\tROC-AUC: Mean = 0.9282567118651254, Std = 0.0\n",
      "\tTraining model: Ada\n"
     ]
    },
    {
     "name": "stderr",
     "output_type": "stream",
     "text": [
      "/home/chenlequn/anaconda3/envs/working_primary/lib/python3.9/site-packages/sklearn/metrics/_classification.py:1469: UndefinedMetricWarning: Precision is ill-defined and being set to 0.0 in labels with no predicted samples. Use `zero_division` parameter to control this behavior.\n",
      "  _warn_prf(average, modifier, msg_start, len(result))\n",
      "/home/chenlequn/anaconda3/envs/working_primary/lib/python3.9/site-packages/sklearn/metrics/_classification.py:1469: UndefinedMetricWarning: Precision is ill-defined and being set to 0.0 in labels with no predicted samples. Use `zero_division` parameter to control this behavior.\n",
      "  _warn_prf(average, modifier, msg_start, len(result))\n",
      "/home/chenlequn/anaconda3/envs/working_primary/lib/python3.9/site-packages/sklearn/metrics/_classification.py:1469: UndefinedMetricWarning: Precision is ill-defined and being set to 0.0 in labels with no predicted samples. Use `zero_division` parameter to control this behavior.\n",
      "  _warn_prf(average, modifier, msg_start, len(result))\n",
      "/home/chenlequn/anaconda3/envs/working_primary/lib/python3.9/site-packages/sklearn/metrics/_classification.py:1469: UndefinedMetricWarning: Precision is ill-defined and being set to 0.0 in labels with no predicted samples. Use `zero_division` parameter to control this behavior.\n",
      "  _warn_prf(average, modifier, msg_start, len(result))\n"
     ]
    },
    {
     "name": "stdout",
     "output_type": "stream",
     "text": [
      "\t\tAccuracy: Mean = 0.8290543259557344, Std = 0.009086551193731437\n",
      "\t\tF1 Score: Mean = 0.817315310736571, Std = 0.008810843921615312\n",
      "\t\tPrecision: Mean = 0.8250634653529791, Std = 0.010852206907615307\n",
      "\t\tRecall: Mean = 0.8290543259557344, Std = 0.009086551193731437\n",
      "\t\tROC-AUC: Mean = 0.9440448503873938, Std = 0.0\n",
      "\tTraining model: NN\n"
     ]
    },
    {
     "name": "stderr",
     "output_type": "stream",
     "text": [
      "/home/chenlequn/anaconda3/envs/working_primary/lib/python3.9/site-packages/sklearn/metrics/_classification.py:1469: UndefinedMetricWarning: Precision is ill-defined and being set to 0.0 in labels with no predicted samples. Use `zero_division` parameter to control this behavior.\n",
      "  _warn_prf(average, modifier, msg_start, len(result))\n",
      "/home/chenlequn/anaconda3/envs/working_primary/lib/python3.9/site-packages/sklearn/metrics/_classification.py:1469: UndefinedMetricWarning: Precision is ill-defined and being set to 0.0 in labels with no predicted samples. Use `zero_division` parameter to control this behavior.\n",
      "  _warn_prf(average, modifier, msg_start, len(result))\n",
      "/home/chenlequn/anaconda3/envs/working_primary/lib/python3.9/site-packages/sklearn/metrics/_classification.py:1469: UndefinedMetricWarning: Precision is ill-defined and being set to 0.0 in labels with no predicted samples. Use `zero_division` parameter to control this behavior.\n",
      "  _warn_prf(average, modifier, msg_start, len(result))\n"
     ]
    },
    {
     "name": "stdout",
     "output_type": "stream",
     "text": [
      "\t\tAccuracy: Mean = 0.9116297786720322, Std = 0.02472128848045459\n",
      "\t\tF1 Score: Mean = 0.9062728905375297, Std = 0.025971543003457102\n",
      "\t\tPrecision: Mean = 0.9119865084613575, Std = 0.02973181476836459\n",
      "\t\tRecall: Mean = 0.9116297786720322, Std = 0.02472128848045459\n",
      "\t\tROC-AUC: Mean = 0.9910121984067306, Std = 0.0\n",
      "\tTraining model: XGBoost\n"
     ]
    },
    {
     "name": "stderr",
     "output_type": "stream",
     "text": [
      "/home/chenlequn/anaconda3/envs/working_primary/lib/python3.9/site-packages/sklearn/metrics/_classification.py:1469: UndefinedMetricWarning: Precision is ill-defined and being set to 0.0 in labels with no predicted samples. Use `zero_division` parameter to control this behavior.\n",
      "  _warn_prf(average, modifier, msg_start, len(result))\n",
      "/home/chenlequn/anaconda3/envs/working_primary/lib/python3.9/site-packages/sklearn/metrics/_classification.py:1469: UndefinedMetricWarning: Precision is ill-defined and being set to 0.0 in labels with no predicted samples. Use `zero_division` parameter to control this behavior.\n",
      "  _warn_prf(average, modifier, msg_start, len(result))\n",
      "/home/chenlequn/anaconda3/envs/working_primary/lib/python3.9/site-packages/sklearn/metrics/_classification.py:1469: UndefinedMetricWarning: Precision is ill-defined and being set to 0.0 in labels with no predicted samples. Use `zero_division` parameter to control this behavior.\n",
      "  _warn_prf(average, modifier, msg_start, len(result))\n"
     ]
    },
    {
     "name": "stdout",
     "output_type": "stream",
     "text": [
      "\t\tAccuracy: Mean = 0.9145674044265594, Std = 0.01785496345132819\n",
      "\t\tF1 Score: Mean = 0.9094408927362426, Std = 0.01803912574309897\n",
      "\t\tPrecision: Mean = 0.9156214550774815, Std = 0.015627535148035877\n",
      "\t\tRecall: Mean = 0.9145674044265594, Std = 0.01785496345132819\n",
      "\t\tROC-AUC: Mean = 0.9887144972755897, Std = 0.0\n",
      "\tTraining model: LightGBM\n",
      "\t\tAccuracy: Mean = 0.9201609657947685, Std = 0.01735913670955526\n",
      "\t\tF1 Score: Mean = 0.9140056969745473, Std = 0.02018066297221052\n",
      "\t\tPrecision: Mean = 0.9162591585627411, Std = 0.025931273574341884\n",
      "\t\tRecall: Mean = 0.9201609657947685, Std = 0.01735913670955526\n",
      "\t\tROC-AUC: Mean = 0.9822552762680228, Std = 0.0\n",
      "\tTraining model: SVM\n"
     ]
    },
    {
     "name": "stderr",
     "output_type": "stream",
     "text": [
      "/home/chenlequn/anaconda3/envs/working_primary/lib/python3.9/site-packages/sklearn/metrics/_classification.py:1469: UndefinedMetricWarning: Precision is ill-defined and being set to 0.0 in labels with no predicted samples. Use `zero_division` parameter to control this behavior.\n",
      "  _warn_prf(average, modifier, msg_start, len(result))\n",
      "/home/chenlequn/anaconda3/envs/working_primary/lib/python3.9/site-packages/sklearn/metrics/_classification.py:1469: UndefinedMetricWarning: Precision is ill-defined and being set to 0.0 in labels with no predicted samples. Use `zero_division` parameter to control this behavior.\n",
      "  _warn_prf(average, modifier, msg_start, len(result))\n",
      "/home/chenlequn/anaconda3/envs/working_primary/lib/python3.9/site-packages/sklearn/metrics/_classification.py:1469: UndefinedMetricWarning: Precision is ill-defined and being set to 0.0 in labels with no predicted samples. Use `zero_division` parameter to control this behavior.\n",
      "  _warn_prf(average, modifier, msg_start, len(result))\n",
      "/home/chenlequn/anaconda3/envs/working_primary/lib/python3.9/site-packages/sklearn/metrics/_classification.py:1469: UndefinedMetricWarning: Precision is ill-defined and being set to 0.0 in labels with no predicted samples. Use `zero_division` parameter to control this behavior.\n",
      "  _warn_prf(average, modifier, msg_start, len(result))\n",
      "/home/chenlequn/anaconda3/envs/working_primary/lib/python3.9/site-packages/sklearn/metrics/_classification.py:1469: UndefinedMetricWarning: Precision is ill-defined and being set to 0.0 in labels with no predicted samples. Use `zero_division` parameter to control this behavior.\n",
      "  _warn_prf(average, modifier, msg_start, len(result))\n",
      "/home/chenlequn/anaconda3/envs/working_primary/lib/python3.9/site-packages/sklearn/metrics/_classification.py:1469: UndefinedMetricWarning: Precision is ill-defined and being set to 0.0 in labels with no predicted samples. Use `zero_division` parameter to control this behavior.\n",
      "  _warn_prf(average, modifier, msg_start, len(result))\n",
      "/home/chenlequn/anaconda3/envs/working_primary/lib/python3.9/site-packages/sklearn/metrics/_classification.py:1469: UndefinedMetricWarning: Precision is ill-defined and being set to 0.0 in labels with no predicted samples. Use `zero_division` parameter to control this behavior.\n",
      "  _warn_prf(average, modifier, msg_start, len(result))\n"
     ]
    },
    {
     "name": "stdout",
     "output_type": "stream",
     "text": [
      "\t\tAccuracy: Mean = 0.854728370221328, Std = 0.016377330294056313\n",
      "\t\tF1 Score: Mean = 0.8401809879897002, Std = 0.01685465100481188\n",
      "\t\tPrecision: Mean = 0.8475983743120427, Std = 0.025721683696034524\n",
      "\t\tRecall: Mean = 0.854728370221328, Std = 0.016377330294056313\n",
      "\t\tROC-AUC: Mean = 0.9660083517089386, Std = 0.0\n",
      "\tTraining model: HistGB\n"
     ]
    },
    {
     "name": "stderr",
     "output_type": "stream",
     "text": [
      "/home/chenlequn/anaconda3/envs/working_primary/lib/python3.9/site-packages/sklearn/metrics/_classification.py:1469: UndefinedMetricWarning: Precision is ill-defined and being set to 0.0 in labels with no predicted samples. Use `zero_division` parameter to control this behavior.\n",
      "  _warn_prf(average, modifier, msg_start, len(result))\n",
      "/home/chenlequn/anaconda3/envs/working_primary/lib/python3.9/site-packages/sklearn/metrics/_classification.py:1469: UndefinedMetricWarning: Recall is ill-defined and being set to 0.0 in labels with no true samples. Use `zero_division` parameter to control this behavior.\n",
      "  _warn_prf(average, modifier, msg_start, len(result))\n",
      "/home/chenlequn/anaconda3/envs/working_primary/lib/python3.9/site-packages/sklearn/metrics/_classification.py:1469: UndefinedMetricWarning: Precision is ill-defined and being set to 0.0 in labels with no predicted samples. Use `zero_division` parameter to control this behavior.\n",
      "  _warn_prf(average, modifier, msg_start, len(result))\n",
      "/home/chenlequn/anaconda3/envs/working_primary/lib/python3.9/site-packages/sklearn/metrics/_classification.py:1469: UndefinedMetricWarning: Recall is ill-defined and being set to 0.0 in labels with no true samples. Use `zero_division` parameter to control this behavior.\n",
      "  _warn_prf(average, modifier, msg_start, len(result))\n",
      "/home/chenlequn/anaconda3/envs/working_primary/lib/python3.9/site-packages/sklearn/metrics/_classification.py:1469: UndefinedMetricWarning: Precision is ill-defined and being set to 0.0 in labels with no predicted samples. Use `zero_division` parameter to control this behavior.\n",
      "  _warn_prf(average, modifier, msg_start, len(result))\n",
      "/home/chenlequn/anaconda3/envs/working_primary/lib/python3.9/site-packages/sklearn/metrics/_classification.py:1469: UndefinedMetricWarning: Recall is ill-defined and being set to 0.0 in labels with no true samples. Use `zero_division` parameter to control this behavior.\n",
      "  _warn_prf(average, modifier, msg_start, len(result))\n",
      "/home/chenlequn/anaconda3/envs/working_primary/lib/python3.9/site-packages/sklearn/metrics/_classification.py:1469: UndefinedMetricWarning: Precision is ill-defined and being set to 0.0 in labels with no predicted samples. Use `zero_division` parameter to control this behavior.\n",
      "  _warn_prf(average, modifier, msg_start, len(result))\n",
      "/home/chenlequn/anaconda3/envs/working_primary/lib/python3.9/site-packages/sklearn/metrics/_classification.py:1469: UndefinedMetricWarning: Recall is ill-defined and being set to 0.0 in labels with no true samples. Use `zero_division` parameter to control this behavior.\n",
      "  _warn_prf(average, modifier, msg_start, len(result))\n",
      "/home/chenlequn/anaconda3/envs/working_primary/lib/python3.9/site-packages/sklearn/metrics/_classification.py:1469: UndefinedMetricWarning: Precision is ill-defined and being set to 0.0 in labels with no predicted samples. Use `zero_division` parameter to control this behavior.\n",
      "  _warn_prf(average, modifier, msg_start, len(result))\n",
      "/home/chenlequn/anaconda3/envs/working_primary/lib/python3.9/site-packages/sklearn/metrics/_classification.py:1469: UndefinedMetricWarning: Precision is ill-defined and being set to 0.0 in labels with no predicted samples. Use `zero_division` parameter to control this behavior.\n",
      "  _warn_prf(average, modifier, msg_start, len(result))\n",
      "/home/chenlequn/anaconda3/envs/working_primary/lib/python3.9/site-packages/sklearn/metrics/_classification.py:1469: UndefinedMetricWarning: Precision is ill-defined and being set to 0.0 in labels with no predicted samples. Use `zero_division` parameter to control this behavior.\n",
      "  _warn_prf(average, modifier, msg_start, len(result))\n",
      "/home/chenlequn/anaconda3/envs/working_primary/lib/python3.9/site-packages/sklearn/metrics/_classification.py:1469: UndefinedMetricWarning: Precision is ill-defined and being set to 0.0 in labels with no predicted samples. Use `zero_division` parameter to control this behavior.\n",
      "  _warn_prf(average, modifier, msg_start, len(result))\n",
      "/home/chenlequn/anaconda3/envs/working_primary/lib/python3.9/site-packages/sklearn/metrics/_classification.py:1469: UndefinedMetricWarning: Precision is ill-defined and being set to 0.0 in labels with no predicted samples. Use `zero_division` parameter to control this behavior.\n",
      "  _warn_prf(average, modifier, msg_start, len(result))\n",
      "/home/chenlequn/anaconda3/envs/working_primary/lib/python3.9/site-packages/sklearn/metrics/_classification.py:1469: UndefinedMetricWarning: Recall is ill-defined and being set to 0.0 in labels with no true samples. Use `zero_division` parameter to control this behavior.\n",
      "  _warn_prf(average, modifier, msg_start, len(result))\n",
      "/home/chenlequn/anaconda3/envs/working_primary/lib/python3.9/site-packages/sklearn/metrics/_classification.py:1469: UndefinedMetricWarning: Precision is ill-defined and being set to 0.0 in labels with no predicted samples. Use `zero_division` parameter to control this behavior.\n",
      "  _warn_prf(average, modifier, msg_start, len(result))\n",
      "/home/chenlequn/anaconda3/envs/working_primary/lib/python3.9/site-packages/sklearn/metrics/_classification.py:1469: UndefinedMetricWarning: Recall is ill-defined and being set to 0.0 in labels with no true samples. Use `zero_division` parameter to control this behavior.\n",
      "  _warn_prf(average, modifier, msg_start, len(result))\n",
      "/home/chenlequn/anaconda3/envs/working_primary/lib/python3.9/site-packages/sklearn/metrics/_classification.py:1469: UndefinedMetricWarning: Precision is ill-defined and being set to 0.0 in labels with no predicted samples. Use `zero_division` parameter to control this behavior.\n",
      "  _warn_prf(average, modifier, msg_start, len(result))\n",
      "/home/chenlequn/anaconda3/envs/working_primary/lib/python3.9/site-packages/sklearn/metrics/_classification.py:1469: UndefinedMetricWarning: Precision is ill-defined and being set to 0.0 in labels with no predicted samples. Use `zero_division` parameter to control this behavior.\n",
      "  _warn_prf(average, modifier, msg_start, len(result))\n",
      "/home/chenlequn/anaconda3/envs/working_primary/lib/python3.9/site-packages/sklearn/metrics/_classification.py:1469: UndefinedMetricWarning: Precision is ill-defined and being set to 0.0 in labels with no predicted samples. Use `zero_division` parameter to control this behavior.\n",
      "  _warn_prf(average, modifier, msg_start, len(result))\n",
      "/home/chenlequn/anaconda3/envs/working_primary/lib/python3.9/site-packages/sklearn/metrics/_classification.py:1469: UndefinedMetricWarning: Precision is ill-defined and being set to 0.0 in labels with no predicted samples. Use `zero_division` parameter to control this behavior.\n",
      "  _warn_prf(average, modifier, msg_start, len(result))\n",
      "/home/chenlequn/anaconda3/envs/working_primary/lib/python3.9/site-packages/sklearn/metrics/_classification.py:1469: UndefinedMetricWarning: Recall is ill-defined and being set to 0.0 in labels with no true samples. Use `zero_division` parameter to control this behavior.\n",
      "  _warn_prf(average, modifier, msg_start, len(result))\n",
      "/home/chenlequn/anaconda3/envs/working_primary/lib/python3.9/site-packages/sklearn/metrics/_classification.py:1469: UndefinedMetricWarning: Precision is ill-defined and being set to 0.0 in labels with no predicted samples. Use `zero_division` parameter to control this behavior.\n",
      "  _warn_prf(average, modifier, msg_start, len(result))\n"
     ]
    },
    {
     "name": "stdout",
     "output_type": "stream",
     "text": [
      "\t\tAccuracy: Mean = 0.35030181086519113, Std = 0.0426866750786589\n",
      "\t\tF1 Score: Mean = 0.3326177137810268, Std = 0.04824232838060129\n",
      "\t\tPrecision: Mean = 0.3919797063021161, Std = 0.10512498968988901\n",
      "\t\tRecall: Mean = 0.35030181086519113, Std = 0.0426866750786589\n",
      "\t\tROC-AUC: Mean = 0.582821173070499, Std = 0.0\n",
      "Processing dataset: Ablated 3\n",
      "\tTraining model: KNN\n",
      "\t\tAccuracy: Mean = 0.8888531187122737, Std = 0.01686140710441168\n",
      "\t\tF1 Score: Mean = 0.8799485152624518, Std = 0.021750416779769254\n",
      "\t\tPrecision: Mean = 0.8833509665298462, Std = 0.031271805866137016\n",
      "\t\tRecall: Mean = 0.8888531187122737, Std = 0.01686140710441168\n",
      "\t\tROC-AUC: Mean = 0.9670110798733544, Std = 0.0\n",
      "\tTraining model: DT\n",
      "\t\tAccuracy: Mean = 0.8117907444668008, Std = 0.03249969753374928\n",
      "\t\tF1 Score: Mean = 0.8117263645917742, Std = 0.03516231425207733\n",
      "\t\tPrecision: Mean = 0.8228099642628278, Std = 0.03513938619852858\n",
      "\t\tRecall: Mean = 0.8117907444668008, Std = 0.03249969753374928\n",
      "\t\tROC-AUC: Mean = 0.8917607334079175, Std = 0.0\n",
      "\tTraining model: LR\n",
      "\t\tAccuracy: Mean = 0.8715492957746479, Std = 0.065311958008003\n",
      "\t\tF1 Score: Mean = 0.8682402919836264, Std = 0.06552628684777588\n",
      "\t\tPrecision: Mean = 0.8788277185360027, Std = 0.054451846040984804\n",
      "\t\tRecall: Mean = 0.8715492957746479, Std = 0.065311958008003\n",
      "\t\tROC-AUC: Mean = 0.9894140360418865, Std = 0.0\n",
      "\tTraining model: RF\n"
     ]
    },
    {
     "name": "stderr",
     "output_type": "stream",
     "text": [
      "/home/chenlequn/anaconda3/envs/working_primary/lib/python3.9/site-packages/sklearn/metrics/_classification.py:1469: UndefinedMetricWarning: Precision is ill-defined and being set to 0.0 in labels with no predicted samples. Use `zero_division` parameter to control this behavior.\n",
      "  _warn_prf(average, modifier, msg_start, len(result))\n",
      "/home/chenlequn/anaconda3/envs/working_primary/lib/python3.9/site-packages/sklearn/metrics/_classification.py:1469: UndefinedMetricWarning: Precision is ill-defined and being set to 0.0 in labels with no predicted samples. Use `zero_division` parameter to control this behavior.\n",
      "  _warn_prf(average, modifier, msg_start, len(result))\n",
      "/home/chenlequn/anaconda3/envs/working_primary/lib/python3.9/site-packages/sklearn/metrics/_classification.py:1469: UndefinedMetricWarning: Precision is ill-defined and being set to 0.0 in labels with no predicted samples. Use `zero_division` parameter to control this behavior.\n",
      "  _warn_prf(average, modifier, msg_start, len(result))\n",
      "/home/chenlequn/anaconda3/envs/working_primary/lib/python3.9/site-packages/sklearn/metrics/_classification.py:1469: UndefinedMetricWarning: Precision is ill-defined and being set to 0.0 in labels with no predicted samples. Use `zero_division` parameter to control this behavior.\n",
      "  _warn_prf(average, modifier, msg_start, len(result))\n",
      "/home/chenlequn/anaconda3/envs/working_primary/lib/python3.9/site-packages/imblearn/ensemble/_forest.py:577: FutureWarning: The default of `sampling_strategy` will change from `'auto'` to `'all'` in version 0.13. This change will follow the implementation proposed in the original paper. Set to `'all'` to silence this warning and adopt the future behaviour.\n",
      "  warn(\n",
      "/home/chenlequn/anaconda3/envs/working_primary/lib/python3.9/site-packages/imblearn/ensemble/_forest.py:589: FutureWarning: The default of `replacement` will change from `False` to `True` in version 0.13. This change will follow the implementation proposed in the original paper. Set to `True` to silence this warning and adopt the future behaviour.\n",
      "  warn(\n"
     ]
    },
    {
     "name": "stdout",
     "output_type": "stream",
     "text": [
      "\t\tAccuracy: Mean = 0.880281690140845, Std = 0.030960035182244307\n",
      "\t\tF1 Score: Mean = 0.8731217519064207, Std = 0.031028810327614825\n",
      "\t\tPrecision: Mean = 0.8764915792825356, Std = 0.031389766013341966\n",
      "\t\tRecall: Mean = 0.880281690140845, Std = 0.030960035182244307\n",
      "\t\tROC-AUC: Mean = 0.9895779781297822, Std = 0.0\n",
      "\tTraining model: BalancedRF\n"
     ]
    },
    {
     "name": "stderr",
     "output_type": "stream",
     "text": [
      "/home/chenlequn/anaconda3/envs/working_primary/lib/python3.9/site-packages/sklearn/metrics/_classification.py:1469: UndefinedMetricWarning: Recall is ill-defined and being set to 0.0 in labels with no true samples. Use `zero_division` parameter to control this behavior.\n",
      "  _warn_prf(average, modifier, msg_start, len(result))\n",
      "/home/chenlequn/anaconda3/envs/working_primary/lib/python3.9/site-packages/sklearn/metrics/_classification.py:1469: UndefinedMetricWarning: Recall is ill-defined and being set to 0.0 in labels with no true samples. Use `zero_division` parameter to control this behavior.\n",
      "  _warn_prf(average, modifier, msg_start, len(result))\n",
      "/home/chenlequn/anaconda3/envs/working_primary/lib/python3.9/site-packages/sklearn/metrics/_classification.py:1469: UndefinedMetricWarning: Recall is ill-defined and being set to 0.0 in labels with no true samples. Use `zero_division` parameter to control this behavior.\n",
      "  _warn_prf(average, modifier, msg_start, len(result))\n",
      "/home/chenlequn/anaconda3/envs/working_primary/lib/python3.9/site-packages/sklearn/metrics/_classification.py:1469: UndefinedMetricWarning: Recall is ill-defined and being set to 0.0 in labels with no true samples. Use `zero_division` parameter to control this behavior.\n",
      "  _warn_prf(average, modifier, msg_start, len(result))\n"
     ]
    },
    {
     "name": "stdout",
     "output_type": "stream",
     "text": [
      "\t\tAccuracy: Mean = 0.7636217303822936, Std = 0.022106221469782146\n",
      "\t\tF1 Score: Mean = 0.8002826756968512, Std = 0.007117610710924051\n",
      "\t\tPrecision: Mean = 0.864907644698601, Std = 0.017582615164418322\n",
      "\t\tRecall: Mean = 0.7636217303822936, Std = 0.022106221469782146\n",
      "\t\tROC-AUC: Mean = 0.9671270790244793, Std = 0.0\n",
      "\tTraining model: RUSBoost\n"
     ]
    },
    {
     "name": "stderr",
     "output_type": "stream",
     "text": [
      "/home/chenlequn/anaconda3/envs/working_primary/lib/python3.9/site-packages/sklearn/metrics/_classification.py:1469: UndefinedMetricWarning: Recall is ill-defined and being set to 0.0 in labels with no true samples. Use `zero_division` parameter to control this behavior.\n",
      "  _warn_prf(average, modifier, msg_start, len(result))\n",
      "/home/chenlequn/anaconda3/envs/working_primary/lib/python3.9/site-packages/sklearn/metrics/_classification.py:1469: UndefinedMetricWarning: Recall is ill-defined and being set to 0.0 in labels with no true samples. Use `zero_division` parameter to control this behavior.\n",
      "  _warn_prf(average, modifier, msg_start, len(result))\n",
      "/home/chenlequn/anaconda3/envs/working_primary/lib/python3.9/site-packages/sklearn/metrics/_classification.py:1469: UndefinedMetricWarning: Precision is ill-defined and being set to 0.0 in labels with no predicted samples. Use `zero_division` parameter to control this behavior.\n",
      "  _warn_prf(average, modifier, msg_start, len(result))\n",
      "/home/chenlequn/anaconda3/envs/working_primary/lib/python3.9/site-packages/sklearn/metrics/_classification.py:1469: UndefinedMetricWarning: Recall is ill-defined and being set to 0.0 in labels with no true samples. Use `zero_division` parameter to control this behavior.\n",
      "  _warn_prf(average, modifier, msg_start, len(result))\n",
      "/home/chenlequn/anaconda3/envs/working_primary/lib/python3.9/site-packages/sklearn/metrics/_classification.py:1469: UndefinedMetricWarning: Precision is ill-defined and being set to 0.0 in labels with no predicted samples. Use `zero_division` parameter to control this behavior.\n",
      "  _warn_prf(average, modifier, msg_start, len(result))\n",
      "/home/chenlequn/anaconda3/envs/working_primary/lib/python3.9/site-packages/sklearn/metrics/_classification.py:1469: UndefinedMetricWarning: Recall is ill-defined and being set to 0.0 in labels with no true samples. Use `zero_division` parameter to control this behavior.\n",
      "  _warn_prf(average, modifier, msg_start, len(result))\n",
      "/home/chenlequn/anaconda3/envs/working_primary/lib/python3.9/site-packages/sklearn/metrics/_classification.py:1469: UndefinedMetricWarning: Precision is ill-defined and being set to 0.0 in labels with no predicted samples. Use `zero_division` parameter to control this behavior.\n",
      "  _warn_prf(average, modifier, msg_start, len(result))\n"
     ]
    },
    {
     "name": "stdout",
     "output_type": "stream",
     "text": [
      "\t\tAccuracy: Mean = 0.7377867203219315, Std = 0.03277774070521907\n",
      "\t\tF1 Score: Mean = 0.7498317921365548, Std = 0.035415719969978436\n",
      "\t\tPrecision: Mean = 0.7947573556743578, Std = 0.03676322303899015\n",
      "\t\tRecall: Mean = 0.7377867203219315, Std = 0.03277774070521907\n",
      "\t\tROC-AUC: Mean = 0.939940794682919, Std = 0.0\n",
      "\tTraining model: Ada\n"
     ]
    },
    {
     "name": "stderr",
     "output_type": "stream",
     "text": [
      "/home/chenlequn/anaconda3/envs/working_primary/lib/python3.9/site-packages/sklearn/metrics/_classification.py:1469: UndefinedMetricWarning: Recall is ill-defined and being set to 0.0 in labels with no true samples. Use `zero_division` parameter to control this behavior.\n",
      "  _warn_prf(average, modifier, msg_start, len(result))\n",
      "/home/chenlequn/anaconda3/envs/working_primary/lib/python3.9/site-packages/sklearn/metrics/_classification.py:1469: UndefinedMetricWarning: Precision is ill-defined and being set to 0.0 in labels with no predicted samples. Use `zero_division` parameter to control this behavior.\n",
      "  _warn_prf(average, modifier, msg_start, len(result))\n",
      "/home/chenlequn/anaconda3/envs/working_primary/lib/python3.9/site-packages/sklearn/metrics/_classification.py:1469: UndefinedMetricWarning: Precision is ill-defined and being set to 0.0 in labels with no predicted samples. Use `zero_division` parameter to control this behavior.\n",
      "  _warn_prf(average, modifier, msg_start, len(result))\n",
      "/home/chenlequn/anaconda3/envs/working_primary/lib/python3.9/site-packages/sklearn/metrics/_classification.py:1469: UndefinedMetricWarning: Recall is ill-defined and being set to 0.0 in labels with no true samples. Use `zero_division` parameter to control this behavior.\n",
      "  _warn_prf(average, modifier, msg_start, len(result))\n",
      "/home/chenlequn/anaconda3/envs/working_primary/lib/python3.9/site-packages/sklearn/metrics/_classification.py:1469: UndefinedMetricWarning: Precision is ill-defined and being set to 0.0 in labels with no predicted samples. Use `zero_division` parameter to control this behavior.\n",
      "  _warn_prf(average, modifier, msg_start, len(result))\n"
     ]
    },
    {
     "name": "stdout",
     "output_type": "stream",
     "text": [
      "\t\tAccuracy: Mean = 0.8347283702213281, Std = 0.011789164918473162\n",
      "\t\tF1 Score: Mean = 0.8286237273659248, Std = 0.012762718297833068\n",
      "\t\tPrecision: Mean = 0.8333794495649374, Std = 0.018371675240873495\n",
      "\t\tRecall: Mean = 0.8347283702213281, Std = 0.011789164918473162\n",
      "\t\tROC-AUC: Mean = 0.9403043479212664, Std = 0.0\n",
      "\tTraining model: NN\n"
     ]
    },
    {
     "name": "stderr",
     "output_type": "stream",
     "text": [
      "/home/chenlequn/anaconda3/envs/working_primary/lib/python3.9/site-packages/sklearn/metrics/_classification.py:1469: UndefinedMetricWarning: Precision is ill-defined and being set to 0.0 in labels with no predicted samples. Use `zero_division` parameter to control this behavior.\n",
      "  _warn_prf(average, modifier, msg_start, len(result))\n",
      "/home/chenlequn/anaconda3/envs/working_primary/lib/python3.9/site-packages/sklearn/metrics/_classification.py:1469: UndefinedMetricWarning: Precision is ill-defined and being set to 0.0 in labels with no predicted samples. Use `zero_division` parameter to control this behavior.\n",
      "  _warn_prf(average, modifier, msg_start, len(result))\n",
      "/home/chenlequn/anaconda3/envs/working_primary/lib/python3.9/site-packages/sklearn/metrics/_classification.py:1469: UndefinedMetricWarning: Precision is ill-defined and being set to 0.0 in labels with no predicted samples. Use `zero_division` parameter to control this behavior.\n",
      "  _warn_prf(average, modifier, msg_start, len(result))\n"
     ]
    },
    {
     "name": "stdout",
     "output_type": "stream",
     "text": [
      "\t\tAccuracy: Mean = 0.8859959758551309, Std = 0.022319534167351593\n",
      "\t\tF1 Score: Mean = 0.8826541215758562, Std = 0.022991062581782063\n",
      "\t\tPrecision: Mean = 0.8880297385377869, Std = 0.024074404833334003\n",
      "\t\tRecall: Mean = 0.8859959758551309, Std = 0.022319534167351593\n",
      "\t\tROC-AUC: Mean = 0.9909143929173977, Std = 0.0\n",
      "\tTraining model: XGBoost\n"
     ]
    },
    {
     "name": "stderr",
     "output_type": "stream",
     "text": [
      "/home/chenlequn/anaconda3/envs/working_primary/lib/python3.9/site-packages/sklearn/metrics/_classification.py:1469: UndefinedMetricWarning: Precision is ill-defined and being set to 0.0 in labels with no predicted samples. Use `zero_division` parameter to control this behavior.\n",
      "  _warn_prf(average, modifier, msg_start, len(result))\n",
      "/home/chenlequn/anaconda3/envs/working_primary/lib/python3.9/site-packages/sklearn/metrics/_classification.py:1469: UndefinedMetricWarning: Precision is ill-defined and being set to 0.0 in labels with no predicted samples. Use `zero_division` parameter to control this behavior.\n",
      "  _warn_prf(average, modifier, msg_start, len(result))\n",
      "/home/chenlequn/anaconda3/envs/working_primary/lib/python3.9/site-packages/sklearn/metrics/_classification.py:1469: UndefinedMetricWarning: Precision is ill-defined and being set to 0.0 in labels with no predicted samples. Use `zero_division` parameter to control this behavior.\n",
      "  _warn_prf(average, modifier, msg_start, len(result))\n"
     ]
    },
    {
     "name": "stdout",
     "output_type": "stream",
     "text": [
      "\t\tAccuracy: Mean = 0.8975855130784709, Std = 0.028314370585461927\n",
      "\t\tF1 Score: Mean = 0.8907400323112936, Std = 0.030662947466419718\n",
      "\t\tPrecision: Mean = 0.8945021958135936, Std = 0.02634699691470962\n",
      "\t\tRecall: Mean = 0.8975855130784709, Std = 0.028314370585461927\n",
      "\t\tROC-AUC: Mean = 0.9830494503546766, Std = 0.0\n",
      "\tTraining model: LightGBM\n"
     ]
    },
    {
     "name": "stderr",
     "output_type": "stream",
     "text": [
      "/home/chenlequn/anaconda3/envs/working_primary/lib/python3.9/site-packages/sklearn/metrics/_classification.py:1469: UndefinedMetricWarning: Precision is ill-defined and being set to 0.0 in labels with no predicted samples. Use `zero_division` parameter to control this behavior.\n",
      "  _warn_prf(average, modifier, msg_start, len(result))\n",
      "/home/chenlequn/anaconda3/envs/working_primary/lib/python3.9/site-packages/sklearn/metrics/_classification.py:1469: UndefinedMetricWarning: Precision is ill-defined and being set to 0.0 in labels with no predicted samples. Use `zero_division` parameter to control this behavior.\n",
      "  _warn_prf(average, modifier, msg_start, len(result))\n",
      "/home/chenlequn/anaconda3/envs/working_primary/lib/python3.9/site-packages/sklearn/metrics/_classification.py:1469: UndefinedMetricWarning: Precision is ill-defined and being set to 0.0 in labels with no predicted samples. Use `zero_division` parameter to control this behavior.\n",
      "  _warn_prf(average, modifier, msg_start, len(result))\n",
      "/home/chenlequn/anaconda3/envs/working_primary/lib/python3.9/site-packages/sklearn/metrics/_classification.py:1469: UndefinedMetricWarning: Precision is ill-defined and being set to 0.0 in labels with no predicted samples. Use `zero_division` parameter to control this behavior.\n",
      "  _warn_prf(average, modifier, msg_start, len(result))\n",
      "/home/chenlequn/anaconda3/envs/working_primary/lib/python3.9/site-packages/sklearn/metrics/_classification.py:1469: UndefinedMetricWarning: Precision is ill-defined and being set to 0.0 in labels with no predicted samples. Use `zero_division` parameter to control this behavior.\n",
      "  _warn_prf(average, modifier, msg_start, len(result))\n",
      "/home/chenlequn/anaconda3/envs/working_primary/lib/python3.9/site-packages/sklearn/metrics/_classification.py:1469: UndefinedMetricWarning: Precision is ill-defined and being set to 0.0 in labels with no predicted samples. Use `zero_division` parameter to control this behavior.\n",
      "  _warn_prf(average, modifier, msg_start, len(result))\n",
      "/home/chenlequn/anaconda3/envs/working_primary/lib/python3.9/site-packages/sklearn/metrics/_classification.py:1469: UndefinedMetricWarning: Precision is ill-defined and being set to 0.0 in labels with no predicted samples. Use `zero_division` parameter to control this behavior.\n",
      "  _warn_prf(average, modifier, msg_start, len(result))\n"
     ]
    },
    {
     "name": "stdout",
     "output_type": "stream",
     "text": [
      "\t\tAccuracy: Mean = 0.9031388329979879, Std = 0.01891801820655374\n",
      "\t\tF1 Score: Mean = 0.8968150875192091, Std = 0.01976131677758454\n",
      "\t\tPrecision: Mean = 0.9010457711764028, Std = 0.022725815780768682\n",
      "\t\tRecall: Mean = 0.9031388329979879, Std = 0.01891801820655374\n",
      "\t\tROC-AUC: Mean = 0.9817246717947933, Std = 0.0\n",
      "\tTraining model: SVM\n",
      "\t\tAccuracy: Mean = 0.8574245472837022, Std = 0.02602928141626051\n",
      "\t\tF1 Score: Mean = 0.8493916376994044, Std = 0.028932436094544437\n",
      "\t\tPrecision: Mean = 0.857807713413347, Std = 0.027938675552761895\n",
      "\t\tRecall: Mean = 0.8574245472837022, Std = 0.02602928141626051\n",
      "\t\tROC-AUC: Mean = 0.9339361534976096, Std = 0.0\n",
      "\tTraining model: HistGB\n"
     ]
    },
    {
     "name": "stderr",
     "output_type": "stream",
     "text": [
      "/home/chenlequn/anaconda3/envs/working_primary/lib/python3.9/site-packages/sklearn/metrics/_classification.py:1469: UndefinedMetricWarning: Precision is ill-defined and being set to 0.0 in labels with no predicted samples. Use `zero_division` parameter to control this behavior.\n",
      "  _warn_prf(average, modifier, msg_start, len(result))\n",
      "/home/chenlequn/anaconda3/envs/working_primary/lib/python3.9/site-packages/sklearn/metrics/_classification.py:1469: UndefinedMetricWarning: Recall is ill-defined and being set to 0.0 in labels with no true samples. Use `zero_division` parameter to control this behavior.\n",
      "  _warn_prf(average, modifier, msg_start, len(result))\n",
      "/home/chenlequn/anaconda3/envs/working_primary/lib/python3.9/site-packages/sklearn/metrics/_classification.py:1469: UndefinedMetricWarning: Precision is ill-defined and being set to 0.0 in labels with no predicted samples. Use `zero_division` parameter to control this behavior.\n",
      "  _warn_prf(average, modifier, msg_start, len(result))\n",
      "/home/chenlequn/anaconda3/envs/working_primary/lib/python3.9/site-packages/sklearn/metrics/_classification.py:1469: UndefinedMetricWarning: Recall is ill-defined and being set to 0.0 in labels with no true samples. Use `zero_division` parameter to control this behavior.\n",
      "  _warn_prf(average, modifier, msg_start, len(result))\n",
      "/home/chenlequn/anaconda3/envs/working_primary/lib/python3.9/site-packages/sklearn/metrics/_classification.py:1469: UndefinedMetricWarning: Precision is ill-defined and being set to 0.0 in labels with no predicted samples. Use `zero_division` parameter to control this behavior.\n",
      "  _warn_prf(average, modifier, msg_start, len(result))\n",
      "/home/chenlequn/anaconda3/envs/working_primary/lib/python3.9/site-packages/sklearn/metrics/_classification.py:1469: UndefinedMetricWarning: Recall is ill-defined and being set to 0.0 in labels with no true samples. Use `zero_division` parameter to control this behavior.\n",
      "  _warn_prf(average, modifier, msg_start, len(result))\n",
      "/home/chenlequn/anaconda3/envs/working_primary/lib/python3.9/site-packages/sklearn/metrics/_classification.py:1469: UndefinedMetricWarning: Precision is ill-defined and being set to 0.0 in labels with no predicted samples. Use `zero_division` parameter to control this behavior.\n",
      "  _warn_prf(average, modifier, msg_start, len(result))\n",
      "/home/chenlequn/anaconda3/envs/working_primary/lib/python3.9/site-packages/sklearn/metrics/_classification.py:1469: UndefinedMetricWarning: Precision is ill-defined and being set to 0.0 in labels with no predicted samples. Use `zero_division` parameter to control this behavior.\n",
      "  _warn_prf(average, modifier, msg_start, len(result))\n",
      "/home/chenlequn/anaconda3/envs/working_primary/lib/python3.9/site-packages/sklearn/metrics/_classification.py:1469: UndefinedMetricWarning: Precision is ill-defined and being set to 0.0 in labels with no predicted samples. Use `zero_division` parameter to control this behavior.\n",
      "  _warn_prf(average, modifier, msg_start, len(result))\n",
      "/home/chenlequn/anaconda3/envs/working_primary/lib/python3.9/site-packages/sklearn/metrics/_classification.py:1469: UndefinedMetricWarning: Precision is ill-defined and being set to 0.0 in labels with no predicted samples. Use `zero_division` parameter to control this behavior.\n",
      "  _warn_prf(average, modifier, msg_start, len(result))\n",
      "/home/chenlequn/anaconda3/envs/working_primary/lib/python3.9/site-packages/sklearn/metrics/_classification.py:1469: UndefinedMetricWarning: Precision is ill-defined and being set to 0.0 in labels with no predicted samples. Use `zero_division` parameter to control this behavior.\n",
      "  _warn_prf(average, modifier, msg_start, len(result))\n",
      "/home/chenlequn/anaconda3/envs/working_primary/lib/python3.9/site-packages/sklearn/metrics/_classification.py:1469: UndefinedMetricWarning: Precision is ill-defined and being set to 0.0 in labels with no predicted samples. Use `zero_division` parameter to control this behavior.\n",
      "  _warn_prf(average, modifier, msg_start, len(result))\n",
      "/home/chenlequn/anaconda3/envs/working_primary/lib/python3.9/site-packages/sklearn/metrics/_classification.py:1469: UndefinedMetricWarning: Recall is ill-defined and being set to 0.0 in labels with no true samples. Use `zero_division` parameter to control this behavior.\n",
      "  _warn_prf(average, modifier, msg_start, len(result))\n",
      "/home/chenlequn/anaconda3/envs/working_primary/lib/python3.9/site-packages/sklearn/metrics/_classification.py:1469: UndefinedMetricWarning: Precision is ill-defined and being set to 0.0 in labels with no predicted samples. Use `zero_division` parameter to control this behavior.\n",
      "  _warn_prf(average, modifier, msg_start, len(result))\n",
      "/home/chenlequn/anaconda3/envs/working_primary/lib/python3.9/site-packages/sklearn/metrics/_classification.py:1469: UndefinedMetricWarning: Precision is ill-defined and being set to 0.0 in labels with no predicted samples. Use `zero_division` parameter to control this behavior.\n",
      "  _warn_prf(average, modifier, msg_start, len(result))\n",
      "/home/chenlequn/anaconda3/envs/working_primary/lib/python3.9/site-packages/sklearn/metrics/_classification.py:1469: UndefinedMetricWarning: Precision is ill-defined and being set to 0.0 in labels with no predicted samples. Use `zero_division` parameter to control this behavior.\n",
      "  _warn_prf(average, modifier, msg_start, len(result))\n",
      "/home/chenlequn/anaconda3/envs/working_primary/lib/python3.9/site-packages/sklearn/metrics/_classification.py:1469: UndefinedMetricWarning: Precision is ill-defined and being set to 0.0 in labels with no predicted samples. Use `zero_division` parameter to control this behavior.\n",
      "  _warn_prf(average, modifier, msg_start, len(result))\n",
      "/home/chenlequn/anaconda3/envs/working_primary/lib/python3.9/site-packages/sklearn/metrics/_classification.py:1469: UndefinedMetricWarning: Recall is ill-defined and being set to 0.0 in labels with no true samples. Use `zero_division` parameter to control this behavior.\n",
      "  _warn_prf(average, modifier, msg_start, len(result))\n",
      "/home/chenlequn/anaconda3/envs/working_primary/lib/python3.9/site-packages/sklearn/metrics/_classification.py:1469: UndefinedMetricWarning: Precision is ill-defined and being set to 0.0 in labels with no predicted samples. Use `zero_division` parameter to control this behavior.\n",
      "  _warn_prf(average, modifier, msg_start, len(result))\n",
      "/home/chenlequn/anaconda3/envs/working_primary/lib/python3.9/site-packages/sklearn/metrics/_classification.py:1469: UndefinedMetricWarning: Precision is ill-defined and being set to 0.0 in labels with no predicted samples. Use `zero_division` parameter to control this behavior.\n",
      "  _warn_prf(average, modifier, msg_start, len(result))\n",
      "/home/chenlequn/anaconda3/envs/working_primary/lib/python3.9/site-packages/sklearn/metrics/_classification.py:1469: UndefinedMetricWarning: Precision is ill-defined and being set to 0.0 in labels with no predicted samples. Use `zero_division` parameter to control this behavior.\n",
      "  _warn_prf(average, modifier, msg_start, len(result))\n"
     ]
    },
    {
     "name": "stdout",
     "output_type": "stream",
     "text": [
      "\t\tAccuracy: Mean = 0.5472837022132797, Std = 0.0708927104060395\n",
      "\t\tF1 Score: Mean = 0.5284054575764552, Std = 0.07277577522466053\n",
      "\t\tPrecision: Mean = 0.5688326183582457, Std = 0.06733920160758071\n",
      "\t\tRecall: Mean = 0.5472837022132797, Std = 0.0708927104060395\n",
      "\t\tROC-AUC: Mean = 0.7187175558833301, Std = 0.0\n",
      "Processing dataset: Ablated 4\n",
      "\tTraining model: KNN\n",
      "\t\tAccuracy: Mean = 0.90317907444668, Std = 0.013612320619273083\n",
      "\t\tF1 Score: Mean = 0.8932667508258222, Std = 0.01841337605466188\n",
      "\t\tPrecision: Mean = 0.8944549539438876, Std = 0.02377881370034436\n",
      "\t\tRecall: Mean = 0.90317907444668, Std = 0.013612320619273083\n",
      "\t\tROC-AUC: Mean = 0.9711092931892334, Std = 0.0\n",
      "\tTraining model: DT\n",
      "\t\tAccuracy: Mean = 0.8060764587525151, Std = 0.03745966635034591\n",
      "\t\tF1 Score: Mean = 0.808068486736518, Std = 0.030203988342622733\n",
      "\t\tPrecision: Mean = 0.8292078315541633, Std = 0.022137936619100473\n",
      "\t\tRecall: Mean = 0.8060764587525151, Std = 0.03745966635034591\n",
      "\t\tROC-AUC: Mean = 0.9218051008330597, Std = 0.0\n",
      "\tTraining model: LR\n",
      "\t\tAccuracy: Mean = 0.8773038229376258, Std = 0.053345561580341545\n",
      "\t\tF1 Score: Mean = 0.872886428814693, Std = 0.052965921392104584\n",
      "\t\tPrecision: Mean = 0.8784743489881176, Std = 0.049777941774926324\n",
      "\t\tRecall: Mean = 0.8773038229376258, Std = 0.053345561580341545\n",
      "\t\tROC-AUC: Mean = 0.981958689183892, Std = 0.0\n",
      "\tTraining model: RF\n"
     ]
    },
    {
     "name": "stderr",
     "output_type": "stream",
     "text": [
      "/home/chenlequn/anaconda3/envs/working_primary/lib/python3.9/site-packages/sklearn/metrics/_classification.py:1469: UndefinedMetricWarning: Precision is ill-defined and being set to 0.0 in labels with no predicted samples. Use `zero_division` parameter to control this behavior.\n",
      "  _warn_prf(average, modifier, msg_start, len(result))\n",
      "/home/chenlequn/anaconda3/envs/working_primary/lib/python3.9/site-packages/sklearn/metrics/_classification.py:1469: UndefinedMetricWarning: Precision is ill-defined and being set to 0.0 in labels with no predicted samples. Use `zero_division` parameter to control this behavior.\n",
      "  _warn_prf(average, modifier, msg_start, len(result))\n",
      "/home/chenlequn/anaconda3/envs/working_primary/lib/python3.9/site-packages/sklearn/metrics/_classification.py:1469: UndefinedMetricWarning: Precision is ill-defined and being set to 0.0 in labels with no predicted samples. Use `zero_division` parameter to control this behavior.\n",
      "  _warn_prf(average, modifier, msg_start, len(result))\n",
      "/home/chenlequn/anaconda3/envs/working_primary/lib/python3.9/site-packages/sklearn/metrics/_classification.py:1469: UndefinedMetricWarning: Precision is ill-defined and being set to 0.0 in labels with no predicted samples. Use `zero_division` parameter to control this behavior.\n",
      "  _warn_prf(average, modifier, msg_start, len(result))\n",
      "/home/chenlequn/anaconda3/envs/working_primary/lib/python3.9/site-packages/imblearn/ensemble/_forest.py:577: FutureWarning: The default of `sampling_strategy` will change from `'auto'` to `'all'` in version 0.13. This change will follow the implementation proposed in the original paper. Set to `'all'` to silence this warning and adopt the future behaviour.\n",
      "  warn(\n",
      "/home/chenlequn/anaconda3/envs/working_primary/lib/python3.9/site-packages/imblearn/ensemble/_forest.py:589: FutureWarning: The default of `replacement` will change from `False` to `True` in version 0.13. This change will follow the implementation proposed in the original paper. Set to `True` to silence this warning and adopt the future behaviour.\n",
      "  warn(\n"
     ]
    },
    {
     "name": "stdout",
     "output_type": "stream",
     "text": [
      "\t\tAccuracy: Mean = 0.8717102615694164, Std = 0.031559559780728115\n",
      "\t\tF1 Score: Mean = 0.8626591876661008, Std = 0.03327106835058639\n",
      "\t\tPrecision: Mean = 0.8618621873280204, Std = 0.03591821785662606\n",
      "\t\tRecall: Mean = 0.8717102615694164, Std = 0.031559559780728115\n",
      "\t\tROC-AUC: Mean = 0.9894495039734306, Std = 0.0\n",
      "\tTraining model: BalancedRF\n"
     ]
    },
    {
     "name": "stderr",
     "output_type": "stream",
     "text": [
      "/home/chenlequn/anaconda3/envs/working_primary/lib/python3.9/site-packages/sklearn/metrics/_classification.py:1469: UndefinedMetricWarning: Recall is ill-defined and being set to 0.0 in labels with no true samples. Use `zero_division` parameter to control this behavior.\n",
      "  _warn_prf(average, modifier, msg_start, len(result))\n",
      "/home/chenlequn/anaconda3/envs/working_primary/lib/python3.9/site-packages/sklearn/metrics/_classification.py:1469: UndefinedMetricWarning: Recall is ill-defined and being set to 0.0 in labels with no true samples. Use `zero_division` parameter to control this behavior.\n",
      "  _warn_prf(average, modifier, msg_start, len(result))\n",
      "/home/chenlequn/anaconda3/envs/working_primary/lib/python3.9/site-packages/sklearn/metrics/_classification.py:1469: UndefinedMetricWarning: Recall is ill-defined and being set to 0.0 in labels with no true samples. Use `zero_division` parameter to control this behavior.\n",
      "  _warn_prf(average, modifier, msg_start, len(result))\n",
      "/home/chenlequn/anaconda3/envs/working_primary/lib/python3.9/site-packages/sklearn/metrics/_classification.py:1469: UndefinedMetricWarning: Recall is ill-defined and being set to 0.0 in labels with no true samples. Use `zero_division` parameter to control this behavior.\n",
      "  _warn_prf(average, modifier, msg_start, len(result))\n"
     ]
    },
    {
     "name": "stdout",
     "output_type": "stream",
     "text": [
      "\t\tAccuracy: Mean = 0.7805633802816901, Std = 0.01782364585754563\n",
      "\t\tF1 Score: Mean = 0.8134030349279755, Std = 0.02125949149584933\n",
      "\t\tPrecision: Mean = 0.8644894460131469, Std = 0.02579206635246861\n",
      "\t\tRecall: Mean = 0.7805633802816901, Std = 0.01782364585754563\n",
      "\t\tROC-AUC: Mean = 0.9605461098279132, Std = 0.0\n",
      "\tTraining model: RUSBoost\n"
     ]
    },
    {
     "name": "stderr",
     "output_type": "stream",
     "text": [
      "/home/chenlequn/anaconda3/envs/working_primary/lib/python3.9/site-packages/sklearn/metrics/_classification.py:1469: UndefinedMetricWarning: Recall is ill-defined and being set to 0.0 in labels with no true samples. Use `zero_division` parameter to control this behavior.\n",
      "  _warn_prf(average, modifier, msg_start, len(result))\n",
      "/home/chenlequn/anaconda3/envs/working_primary/lib/python3.9/site-packages/sklearn/metrics/_classification.py:1469: UndefinedMetricWarning: Recall is ill-defined and being set to 0.0 in labels with no true samples. Use `zero_division` parameter to control this behavior.\n",
      "  _warn_prf(average, modifier, msg_start, len(result))\n",
      "/home/chenlequn/anaconda3/envs/working_primary/lib/python3.9/site-packages/sklearn/metrics/_classification.py:1469: UndefinedMetricWarning: Recall is ill-defined and being set to 0.0 in labels with no true samples. Use `zero_division` parameter to control this behavior.\n",
      "  _warn_prf(average, modifier, msg_start, len(result))\n"
     ]
    },
    {
     "name": "stdout",
     "output_type": "stream",
     "text": [
      "\t\tAccuracy: Mean = 0.8090543259557343, Std = 0.019893688923599443\n",
      "\t\tF1 Score: Mean = 0.8116775247618906, Std = 0.029062737223890047\n",
      "\t\tPrecision: Mean = 0.8289912373362689, Std = 0.03580323513418286\n",
      "\t\tRecall: Mean = 0.8090543259557343, Std = 0.019893688923599443\n",
      "\t\tROC-AUC: Mean = 0.9459327708691992, Std = 0.0\n",
      "\tTraining model: Ada\n"
     ]
    },
    {
     "name": "stderr",
     "output_type": "stream",
     "text": [
      "/home/chenlequn/anaconda3/envs/working_primary/lib/python3.9/site-packages/sklearn/metrics/_classification.py:1469: UndefinedMetricWarning: Precision is ill-defined and being set to 0.0 in labels with no predicted samples. Use `zero_division` parameter to control this behavior.\n",
      "  _warn_prf(average, modifier, msg_start, len(result))\n",
      "/home/chenlequn/anaconda3/envs/working_primary/lib/python3.9/site-packages/sklearn/metrics/_classification.py:1469: UndefinedMetricWarning: Recall is ill-defined and being set to 0.0 in labels with no true samples. Use `zero_division` parameter to control this behavior.\n",
      "  _warn_prf(average, modifier, msg_start, len(result))\n",
      "/home/chenlequn/anaconda3/envs/working_primary/lib/python3.9/site-packages/sklearn/metrics/_classification.py:1469: UndefinedMetricWarning: Precision is ill-defined and being set to 0.0 in labels with no predicted samples. Use `zero_division` parameter to control this behavior.\n",
      "  _warn_prf(average, modifier, msg_start, len(result))\n",
      "/home/chenlequn/anaconda3/envs/working_primary/lib/python3.9/site-packages/sklearn/metrics/_classification.py:1469: UndefinedMetricWarning: Precision is ill-defined and being set to 0.0 in labels with no predicted samples. Use `zero_division` parameter to control this behavior.\n",
      "  _warn_prf(average, modifier, msg_start, len(result))\n",
      "/home/chenlequn/anaconda3/envs/working_primary/lib/python3.9/site-packages/sklearn/metrics/_classification.py:1469: UndefinedMetricWarning: Recall is ill-defined and being set to 0.0 in labels with no true samples. Use `zero_division` parameter to control this behavior.\n",
      "  _warn_prf(average, modifier, msg_start, len(result))\n",
      "/home/chenlequn/anaconda3/envs/working_primary/lib/python3.9/site-packages/sklearn/metrics/_classification.py:1469: UndefinedMetricWarning: Precision is ill-defined and being set to 0.0 in labels with no predicted samples. Use `zero_division` parameter to control this behavior.\n",
      "  _warn_prf(average, modifier, msg_start, len(result))\n"
     ]
    },
    {
     "name": "stdout",
     "output_type": "stream",
     "text": [
      "\t\tAccuracy: Mean = 0.8205231388329979, Std = 0.021266377796353587\n",
      "\t\tF1 Score: Mean = 0.8161800885895343, Std = 0.019329285009712243\n",
      "\t\tPrecision: Mean = 0.826588387886426, Std = 0.017222408131826576\n",
      "\t\tRecall: Mean = 0.8205231388329979, Std = 0.021266377796353587\n",
      "\t\tROC-AUC: Mean = 0.9431288770612578, Std = 0.0\n",
      "\tTraining model: NN\n"
     ]
    },
    {
     "name": "stderr",
     "output_type": "stream",
     "text": [
      "/home/chenlequn/anaconda3/envs/working_primary/lib/python3.9/site-packages/sklearn/metrics/_classification.py:1469: UndefinedMetricWarning: Precision is ill-defined and being set to 0.0 in labels with no predicted samples. Use `zero_division` parameter to control this behavior.\n",
      "  _warn_prf(average, modifier, msg_start, len(result))\n",
      "/home/chenlequn/anaconda3/envs/working_primary/lib/python3.9/site-packages/sklearn/metrics/_classification.py:1469: UndefinedMetricWarning: Precision is ill-defined and being set to 0.0 in labels with no predicted samples. Use `zero_division` parameter to control this behavior.\n",
      "  _warn_prf(average, modifier, msg_start, len(result))\n",
      "/home/chenlequn/anaconda3/envs/working_primary/lib/python3.9/site-packages/sklearn/metrics/_classification.py:1469: UndefinedMetricWarning: Precision is ill-defined and being set to 0.0 in labels with no predicted samples. Use `zero_division` parameter to control this behavior.\n",
      "  _warn_prf(average, modifier, msg_start, len(result))\n"
     ]
    },
    {
     "name": "stdout",
     "output_type": "stream",
     "text": [
      "\t\tAccuracy: Mean = 0.9087726358148893, Std = 0.01958878330165881\n",
      "\t\tF1 Score: Mean = 0.905159904274595, Std = 0.02102014480085168\n",
      "\t\tPrecision: Mean = 0.9089690022894835, Std = 0.0244471913745143\n",
      "\t\tRecall: Mean = 0.9087726358148893, Std = 0.01958878330165881\n",
      "\t\tROC-AUC: Mean = 0.9874235843936999, Std = 0.0\n",
      "\tTraining model: XGBoost\n"
     ]
    },
    {
     "name": "stderr",
     "output_type": "stream",
     "text": [
      "/home/chenlequn/anaconda3/envs/working_primary/lib/python3.9/site-packages/sklearn/metrics/_classification.py:1469: UndefinedMetricWarning: Precision is ill-defined and being set to 0.0 in labels with no predicted samples. Use `zero_division` parameter to control this behavior.\n",
      "  _warn_prf(average, modifier, msg_start, len(result))\n",
      "/home/chenlequn/anaconda3/envs/working_primary/lib/python3.9/site-packages/sklearn/metrics/_classification.py:1469: UndefinedMetricWarning: Precision is ill-defined and being set to 0.0 in labels with no predicted samples. Use `zero_division` parameter to control this behavior.\n",
      "  _warn_prf(average, modifier, msg_start, len(result))\n",
      "/home/chenlequn/anaconda3/envs/working_primary/lib/python3.9/site-packages/sklearn/metrics/_classification.py:1469: UndefinedMetricWarning: Precision is ill-defined and being set to 0.0 in labels with no predicted samples. Use `zero_division` parameter to control this behavior.\n",
      "  _warn_prf(average, modifier, msg_start, len(result))\n"
     ]
    },
    {
     "name": "stdout",
     "output_type": "stream",
     "text": [
      "\t\tAccuracy: Mean = 0.8773843058350101, Std = 0.028316829763083546\n",
      "\t\tF1 Score: Mean = 0.8734404309755304, Std = 0.028403448425615766\n",
      "\t\tPrecision: Mean = 0.8774272448167928, Std = 0.027129280635606025\n",
      "\t\tRecall: Mean = 0.8773843058350101, Std = 0.028316829763083546\n",
      "\t\tROC-AUC: Mean = 0.9780064904444024, Std = 0.0\n",
      "\tTraining model: LightGBM\n"
     ]
    },
    {
     "name": "stderr",
     "output_type": "stream",
     "text": [
      "/home/chenlequn/anaconda3/envs/working_primary/lib/python3.9/site-packages/sklearn/metrics/_classification.py:1469: UndefinedMetricWarning: Precision is ill-defined and being set to 0.0 in labels with no predicted samples. Use `zero_division` parameter to control this behavior.\n",
      "  _warn_prf(average, modifier, msg_start, len(result))\n",
      "/home/chenlequn/anaconda3/envs/working_primary/lib/python3.9/site-packages/sklearn/metrics/_classification.py:1469: UndefinedMetricWarning: Precision is ill-defined and being set to 0.0 in labels with no predicted samples. Use `zero_division` parameter to control this behavior.\n",
      "  _warn_prf(average, modifier, msg_start, len(result))\n",
      "/home/chenlequn/anaconda3/envs/working_primary/lib/python3.9/site-packages/sklearn/metrics/_classification.py:1469: UndefinedMetricWarning: Precision is ill-defined and being set to 0.0 in labels with no predicted samples. Use `zero_division` parameter to control this behavior.\n",
      "  _warn_prf(average, modifier, msg_start, len(result))\n",
      "/home/chenlequn/anaconda3/envs/working_primary/lib/python3.9/site-packages/sklearn/metrics/_classification.py:1469: UndefinedMetricWarning: Precision is ill-defined and being set to 0.0 in labels with no predicted samples. Use `zero_division` parameter to control this behavior.\n",
      "  _warn_prf(average, modifier, msg_start, len(result))\n",
      "/home/chenlequn/anaconda3/envs/working_primary/lib/python3.9/site-packages/sklearn/metrics/_classification.py:1469: UndefinedMetricWarning: Precision is ill-defined and being set to 0.0 in labels with no predicted samples. Use `zero_division` parameter to control this behavior.\n",
      "  _warn_prf(average, modifier, msg_start, len(result))\n",
      "/home/chenlequn/anaconda3/envs/working_primary/lib/python3.9/site-packages/sklearn/metrics/_classification.py:1469: UndefinedMetricWarning: Precision is ill-defined and being set to 0.0 in labels with no predicted samples. Use `zero_division` parameter to control this behavior.\n",
      "  _warn_prf(average, modifier, msg_start, len(result))\n",
      "/home/chenlequn/anaconda3/envs/working_primary/lib/python3.9/site-packages/sklearn/metrics/_classification.py:1469: UndefinedMetricWarning: Precision is ill-defined and being set to 0.0 in labels with no predicted samples. Use `zero_division` parameter to control this behavior.\n",
      "  _warn_prf(average, modifier, msg_start, len(result))\n",
      "/home/chenlequn/anaconda3/envs/working_primary/lib/python3.9/site-packages/sklearn/metrics/_classification.py:1469: UndefinedMetricWarning: Precision is ill-defined and being set to 0.0 in labels with no predicted samples. Use `zero_division` parameter to control this behavior.\n",
      "  _warn_prf(average, modifier, msg_start, len(result))\n"
     ]
    },
    {
     "name": "stdout",
     "output_type": "stream",
     "text": [
      "\t\tAccuracy: Mean = 0.8888531187122737, Std = 0.011001897264483806\n",
      "\t\tF1 Score: Mean = 0.8823274883990369, Std = 0.014112291696074331\n",
      "\t\tPrecision: Mean = 0.8855723984303738, Std = 0.017083205194309736\n",
      "\t\tRecall: Mean = 0.8888531187122737, Std = 0.011001897264483806\n",
      "\t\tROC-AUC: Mean = 0.9801732289203808, Std = 0.0\n",
      "\tTraining model: SVM\n",
      "\t\tAccuracy: Mean = 0.8774245472837021, Std = 0.0234940454397996\n",
      "\t\tF1 Score: Mean = 0.872220492363787, Std = 0.02310199319363695\n",
      "\t\tPrecision: Mean = 0.8813185520532555, Std = 0.026443816009062975\n",
      "\t\tRecall: Mean = 0.8774245472837021, Std = 0.0234940454397996\n",
      "\t\tROC-AUC: Mean = 0.8932938534622404, Std = 0.08422242228903826\n",
      "\tTraining model: HistGB\n",
      "\t\tAccuracy: Mean = 0.675251509054326, Std = 0.06063613216247096\n",
      "\t\tF1 Score: Mean = 0.6774890751512785, Std = 0.05115511780962599\n",
      "\t\tPrecision: Mean = 0.7123888363190968, Std = 0.0573468180571867\n",
      "\t\tRecall: Mean = 0.675251509054326, Std = 0.06063613216247096\n",
      "\t\tROC-AUC: Mean = 0.7448388682474055, Std = 0.0\n"
     ]
    },
    {
     "name": "stderr",
     "output_type": "stream",
     "text": [
      "/home/chenlequn/anaconda3/envs/working_primary/lib/python3.9/site-packages/sklearn/metrics/_classification.py:1469: UndefinedMetricWarning: Recall is ill-defined and being set to 0.0 in labels with no true samples. Use `zero_division` parameter to control this behavior.\n",
      "  _warn_prf(average, modifier, msg_start, len(result))\n",
      "/home/chenlequn/anaconda3/envs/working_primary/lib/python3.9/site-packages/sklearn/metrics/_classification.py:1469: UndefinedMetricWarning: Recall is ill-defined and being set to 0.0 in labels with no true samples. Use `zero_division` parameter to control this behavior.\n",
      "  _warn_prf(average, modifier, msg_start, len(result))\n",
      "/home/chenlequn/anaconda3/envs/working_primary/lib/python3.9/site-packages/sklearn/metrics/_classification.py:1469: UndefinedMetricWarning: Recall is ill-defined and being set to 0.0 in labels with no true samples. Use `zero_division` parameter to control this behavior.\n",
      "  _warn_prf(average, modifier, msg_start, len(result))\n",
      "/home/chenlequn/anaconda3/envs/working_primary/lib/python3.9/site-packages/sklearn/metrics/_classification.py:1469: UndefinedMetricWarning: Precision is ill-defined and being set to 0.0 in labels with no predicted samples. Use `zero_division` parameter to control this behavior.\n",
      "  _warn_prf(average, modifier, msg_start, len(result))\n",
      "/home/chenlequn/anaconda3/envs/working_primary/lib/python3.9/site-packages/sklearn/metrics/_classification.py:1469: UndefinedMetricWarning: Precision is ill-defined and being set to 0.0 in labels with no predicted samples. Use `zero_division` parameter to control this behavior.\n",
      "  _warn_prf(average, modifier, msg_start, len(result))\n"
     ]
    }
   ],
   "source": [
    "# Initialize KFold with the number of splits you desire\n",
    "kf = KFold(n_splits=5)\n",
    "# Create a dictionary to store final results\n",
    "final_results = defaultdict(list)\n",
    "# Create a dictionary to store temporary cross-validation results for each dataset and model\n",
    "cv_results = defaultdict(lambda: defaultdict(list))\n",
    "\n",
    "\n",
    "# Iterate over datasets and models\n",
    "for dataset_name, X in datasets.items():\n",
    "    print(f\"Processing dataset: {dataset_name}\")\n",
    "    # Split data\n",
    "    X_train = X[train_indices]\n",
    "    X_val = X[val_indices]\n",
    "    X_test = X[test_indices]\n",
    "  \n",
    "    y_train = Y_encoded[train_indices]\n",
    "    y_val = Y_encoded[val_indices]\n",
    "    y_test = Y_encoded[test_indices]\n",
    "\n",
    "    # Scaling\n",
    "    scaler = StandardScaler()\n",
    "    X_train = scaler.fit_transform(X_train)\n",
    "    X_val = scaler.transform(X_val)\n",
    "    X_test = scaler.transform(X_test)\n",
    "    \n",
    "    with open(os.path.join(scaler_path, f'StandardScaler_{dataset_name}.pkl'), 'wb') as file:\n",
    "        pickle.dump(scaler, file)\n",
    "\n",
    "    for model_name, Model in models.items():\n",
    "        print(f\"\\tTraining model: {model_name}\")\n",
    "        # with wandb.init(project=\"LW-DED_audio-classification\", name=f\"{model_name}_{dataset_name}\", reinit=True) as run:\n",
    "            # Log model and hyperparameters\n",
    "            # wandb.config.update({\"Model\": model_name, \"Hyperparameters\": hyperparameters[model_name]})\n",
    "    \n",
    "        # Initialize model with the best hyperparameters\n",
    "        model = Model(**hyperparameters[model_name])\n",
    "\n",
    "        # If the model is SVM, use only 20% of the training data\n",
    "        if model_name == 'SVM':\n",
    "            sample_indices = np.random.choice(len(X_train), int(0.2 * len(X_train)), replace=False)\n",
    "            X_train_sampled = X_train[sample_indices]\n",
    "            y_train_sampled = y_train[sample_indices]\n",
    "            model.fit(X_train_sampled, y_train_sampled)\n",
    "        else:\n",
    "            # Train the model\n",
    "            model.fit(X_train, y_train)\n",
    "\n",
    "        # Save the model\n",
    "        dump(model, os.path.join(model_path, f'{model_name}_{dataset_name}.joblib'))\n",
    "\n",
    "\n",
    "        #####------   cross-validation on the validation dataset--------------\n",
    "        fold_metrics = defaultdict(list)\n",
    "\n",
    "        for train_idx, test_idx in kf.split(X_val):\n",
    "            X_test_train, X_test_val = X_val[train_idx], X_val[test_idx]\n",
    "            y_test_train, y_test_val = y_val[train_idx], y_val[test_idx]\n",
    "            \n",
    "            # Make predictions\n",
    "            y_test_pred = model.predict(X_test_val)\n",
    "            \n",
    "            # Evaluate the model\n",
    "            acc = accuracy_score(y_test_val, y_test_pred)\n",
    "            f1 = f1_score(y_test_val, y_test_pred, average='weighted')\n",
    "            precision = precision_score(y_test_val, y_test_pred, average='weighted')\n",
    "            recall = recall_score(y_test_val, y_test_pred, average='weighted')\n",
    "            \n",
    "            # Optional: ROC-AUC can only be calculated for binary classification or multilabel indicator format\n",
    "            try:\n",
    "                roc_auc = roc_auc_score(y_test_val, model.predict_proba(X_test_val), multi_class='ovr', average='weighted')\n",
    "                \n",
    "            except:\n",
    "                roc_auc = 'N/A'\n",
    "            \n",
    "            # Store the metrics for this fold\n",
    "            fold_metrics['Accuracy'].append(acc)\n",
    "            fold_metrics['F1 Score'].append(f1)\n",
    "            fold_metrics['Precision'].append(precision)\n",
    "            fold_metrics['Recall'].append(recall)\n",
    "            fold_metrics['ROC-AUC'].append(roc_auc if roc_auc != 'N/A' else np.nan)\n",
    "        \n",
    "        # Calculate mean and std for each metric and print them\n",
    "        for metric, values in fold_metrics.items():\n",
    "            mean_val = np.nanmean(values)  # Handle 'N/A' values\n",
    "            std_val = np.nanstd(values)    # Handle 'N/A' values\n",
    "            \n",
    "            print(f\"\\t\\t{metric}: Mean = {mean_val}, Std = {std_val}\")\n",
    "            # Log the mean and std values to wandb\n",
    "            # wandb.log({f\"{metric}_mean\": mean_val, f\"{metric}_std\": std_val})\n",
    "            \n",
    "            cv_results[dataset_name][f\"{model_name}_{metric}_mean\"] = mean_val\n",
    "            cv_results[dataset_name][f\"{model_name}_{metric}_std\"] = std_val\n",
    "             \n",
    "            #####------   cross-validation on the validation dataset--------------\n",
    "            \n",
    "# Convert the temporary results to final format\n",
    "for dataset_name, metrics in cv_results.items():\n",
    "    final_results['Dataset'].append(dataset_name)\n",
    "    for metric_name, value in metrics.items():\n",
    "        final_results[metric_name].append(value)\n",
    "\n",
    "# Convert results to a DataFrame for easier viewing\n",
    "final_results_df = pd.DataFrame(final_results)"
   ]
  },
  {
   "cell_type": "code",
   "execution_count": 14,
   "id": "d28920fb-c81d-4da5-ad69-47e1cc0e0cde",
   "metadata": {
    "scrolled": true
   },
   "outputs": [
    {
     "name": "stdout",
     "output_type": "stream",
     "text": [
      "Stored 'datasets' (dict)\n",
      "Stored 'le' (LabelEncoder)\n",
      "Stored 'Y_encoded' (ndarray)\n"
     ]
    }
   ],
   "source": [
    "%store datasets\n",
    "%store le\n",
    "%store Y_encoded"
   ]
  }
 ],
 "metadata": {
  "kernelspec": {
   "display_name": "Python 3 (ipykernel)",
   "language": "python",
   "name": "python3"
  },
  "language_info": {
   "codemirror_mode": {
    "name": "ipython",
    "version": 3
   },
   "file_extension": ".py",
   "mimetype": "text/x-python",
   "name": "python",
   "nbconvert_exporter": "python",
   "pygments_lexer": "ipython3",
   "version": "3.9.19"
  }
 },
 "nbformat": 4,
 "nbformat_minor": 5
}
