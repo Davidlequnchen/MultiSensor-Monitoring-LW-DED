{
 "cells": [
  {
   "cell_type": "markdown",
   "id": "4603377d-50dd-4993-8e80-5c954a37054b",
   "metadata": {
    "tags": []
   },
   "source": [
    "# MultiSensor Fusion for LW-DED\n",
    "- Experiment data: March 2024. Aluminum, Laser-Wire DED\n",
    "- Aurthor: Chen Lequn\n",
    "\n",
    "### Notebook 4: MFCCNet\n",
    "- The model consists of **3 x \"convolutional + pooling layer\"**, then a fully connected layer. \n",
    "- The input is the 20 mfccs. Each convolutional layer have different number of convolutional filters. \n",
    "- Max pooling is used and **dropout** of 20% on the 2nd and 3rd convolutional layer is applied to reduce over-fitting.\n",
    "- Then, **flatten** the layer before passing it to fully connected dense layer.\n",
    "- It has **1 dense layer** with 128 neurons and 50% dropout is applied as well for better generalisation and reduce overfit on the training data.\n",
    "- The final **output layer have 5 neurons**, which is the **5 categories** that would like the model to classify the audio. \n",
    "- The activiation for all the layers is 'relu' and 'softmax' at the final layer. **Softmax** makes the output sum up to 1 so the output can be interpreted as probabilities. \n",
    "The model will then make its prediction based on which option has the highest probability.\n",
    "\n",
    "Reference:\n",
    "[1] Lequn Chen et al. \n",
    "In-Situ Crack and Keyhole Pore Detection in Laser Directed Energy Deposition Through Acoustic Signal and Deep Learning. \n",
    "Available at SSRN: https://ssrn.com/abstract=4308023 or http://dx.doi.org/10.2139/ssrn.4308023 \n"
   ]
  },
  {
   "cell_type": "code",
   "execution_count": 1,
   "id": "dfa9424f-148c-4dc8-a449-478f25f3a804",
   "metadata": {},
   "outputs": [],
   "source": [
    "import sys\n",
    "import torch\n",
    "import torch.nn as nn\n",
    "import torch.optim as optim\n",
    "import torch.nn.functional as F\n",
    "import torch.backends.cudnn as cudnn\n",
    "import torch.multiprocessing as mp\n",
    "\n",
    "import torchvision\n",
    "import torchaudio\n",
    "import torch.nn as nn\n",
    "import torchvision.transforms as transforms\n",
    "from torch.utils.data import Dataset, DataLoader, random_split, SubsetRandomSampler, WeightedRandomSampler\n",
    "\n",
    "# audio signal augmentation packages\n",
    "import audiomentations\n",
    "import torch_audiomentations\n",
    "from audiomentations import Compose, AddGaussianNoise\n",
    "from audiomentations import Normalize\n",
    "# from audiomentations import BandPassFilter, Gain, HighPassFilter\n",
    "\n",
    "from torch_audiomentations import PolarityInversion\n",
    "\n",
    "import os\n",
    "import argparse\n",
    "from torch.utils.data import Subset\n",
    "import pandas as pd\n",
    "import numpy as np\n",
    "\n",
    "# Scikit learn\n",
    "#from sklearn.model_selection import train_test_split\n",
    "from sklearn.metrics import classification_report, accuracy_score, confusion_matrix\n",
    "from sklearn.preprocessing import LabelEncoder\n",
    "from sklearn.utils import shuffle, resample, class_weight\n",
    "from sklearn.model_selection import GridSearchCV, RandomizedSearchCV\n",
    "from sklearn.model_selection import StratifiedKFold, KFold\n",
    "from sklearn.metrics import roc_curve, auc\n",
    "from sklearn.model_selection import train_test_split, StratifiedShuffleSplit\n",
    "from sklearn.preprocessing import label_binarize\n",
    "\n",
    "from audio_models import * \n",
    "\n",
    "## plot\n",
    "import matplotlib.pyplot as plt\n",
    "import seaborn as sns\n",
    "import matplotlib as mpl\n",
    "from matplotlib.pyplot import gca\n",
    "mpl.rc('axes', labelsize=14)\n",
    "mpl.rc('xtick', labelsize=12)\n",
    "mpl.rc('ytick', labelsize=12)\n",
    "# plt.rcParams[\"font.family\"] = \"serif\"\n",
    "# plt.rcParams[\"font.serif\"] = \"Times New Roman\"\n",
    "%matplotlib inline\n",
    "import seaborn as sns\n",
    "from itertools import cycle\n",
    "import itertools\n",
    "\n",
    "from tqdm.notebook import tqdm"
   ]
  },
  {
   "cell_type": "code",
   "execution_count": 2,
   "id": "2b24580c-ff2d-465a-b8ae-f75a95075ba1",
   "metadata": {},
   "outputs": [
    {
     "name": "stderr",
     "output_type": "stream",
     "text": [
      "/bin/sh: 1: sox: not found\n",
      "SoX could not be found!\n",
      "\n",
      "    If you do not have SoX, proceed here:\n",
      "     - - - http://sox.sourceforge.net/ - - -\n",
      "\n",
      "    If you do (or think that you should) have SoX, double-check your\n",
      "    path variables.\n",
      "    \n"
     ]
    }
   ],
   "source": [
    "sys.path.insert(0, './utils')\n",
    "\n",
    "from utils_functions import *\n",
    "from LWDED_audiodataset import LDEDAudioDataset\n",
    "from train_utils import train_single_epoch, test_single_epoch, training_loop, plot_data_distribution"
   ]
  },
  {
   "cell_type": "code",
   "execution_count": 3,
   "id": "0a41b9b6-8b49-4aa1-bd64-739996a21eca",
   "metadata": {},
   "outputs": [],
   "source": [
    "PROJECT_ROOT_DIR = \"../\"\n",
    "IMAGE_PATH = os.path.join(PROJECT_ROOT_DIR, \"result_images\", 'defect classification', 'MFCCNet')\n",
    "model_path = os.path.join(PROJECT_ROOT_DIR, \"trained_models\", 'defect classification', 'MFCCNet')\n",
    "scaler_path = os.path.join(PROJECT_ROOT_DIR, \"saved_scalers\", 'defect classification',  'MFCCNet')\n",
    "os.makedirs(IMAGE_PATH, exist_ok=True)\n",
    "os.makedirs(model_path, exist_ok=True)\n",
    "os.makedirs(scaler_path, exist_ok=True)\n",
    "\n",
    "# Change to desirable location of the raw dataset\n",
    "Multimodal_dataset_PATH = \"/home/chenlequn/pan1/Dataset/Laser-Wire-DED-ThermalAudio-Dataset\"\n",
    "Annotation_file_path = os.path.join(Multimodal_dataset_PATH, \"Annotation\")\n",
    "Dataset_path = os.path.join(Multimodal_dataset_PATH, 'Dataset')\n",
    "final_audio_dataset = os.path.join(Multimodal_dataset_PATH, 'Dataset', \"audio\")\n",
    "final_image_dataset = os.path.join(Multimodal_dataset_PATH, 'Dataset', \"thermal_images\")\n",
    "              \n",
    "## function for automatically save the diagram/graph into the folder \n",
    "def save_fig(fig_id, tight_layout=True, fig_extension=\"png\", resolution=300):\n",
    "    path = os.path.join(IMAGE_PATH, fig_id + \".\" + fig_extension)\n",
    "    print(\"Saving figure\", fig_id)\n",
    "    if tight_layout:\n",
    "        plt.tight_layout()\n",
    "    plt.savefig(path, format=fig_extension, dpi=resolution)\n",
    "\n",
    "# Ignore useless warnings (see SciPy issue #5998)\n",
    "import warnings\n",
    "warnings.filterwarnings(action=\"ignore\", message=\"^internal gelsd\")\n",
    "\n",
    "plt.rcParams[\"axes.edgecolor\"] = \"black\"\n",
    "plt.rcParams[\"axes.linewidth\"] = 2.50\n",
    "\n",
    "np.random.seed(0)"
   ]
  },
  {
   "cell_type": "code",
   "execution_count": 4,
   "id": "3d072795-293c-4c22-aa88-c4ee8b371090",
   "metadata": {},
   "outputs": [],
   "source": [
    "classes = ('Balling', 'Non-defective', 'Laser-off')\n",
    "\n",
    "SAMPLE_RATE = 44100\n",
    "LEARNING_RATE = 0.00001\n",
    "BATCH_SIZE = 32\n",
    "EPOCHS = 20"
   ]
  },
  {
   "cell_type": "markdown",
   "id": "bdb40432-dab8-410b-9b6f-29db62f6d36f",
   "metadata": {},
   "source": [
    "### Use GPU if possible"
   ]
  },
  {
   "cell_type": "code",
   "execution_count": 5,
   "id": "5bc4cba0-eca1-4d20-96c9-8d2ffae56e26",
   "metadata": {},
   "outputs": [
    {
     "name": "stdout",
     "output_type": "stream",
     "text": [
      "Using cuda\n"
     ]
    }
   ],
   "source": [
    "device = 'cuda' if torch.cuda.is_available() else 'cpu'\n",
    "print(f\"Using {device}\")\n",
    "mp.set_start_method(method='forkserver', force=True)"
   ]
  },
  {
   "cell_type": "code",
   "execution_count": 6,
   "id": "9836f0c8-db6a-4b79-8a5e-494bb32fe0b8",
   "metadata": {},
   "outputs": [
    {
     "data": {
      "text/plain": [
       "<torch._C.Generator at 0x7f4ff6ac85b0>"
      ]
     },
     "execution_count": 6,
     "metadata": {},
     "output_type": "execute_result"
    }
   ],
   "source": [
    "torch.manual_seed(0)"
   ]
  },
  {
   "cell_type": "markdown",
   "id": "d7411379-7ecf-4afd-9a99-31a7e2cbd7ae",
   "metadata": {},
   "source": [
    "### Annotation file\n",
    "\n",
    "- Vision acoustic spatio-temporal registration has been done in our previous work. \n",
    "- Each frame (timestamp) corresponds to a robot TCP position.\n",
    "- The duration for each frame is 0.01 seconds (sampling freqeuncy 10 Hz.)"
   ]
  },
  {
   "cell_type": "code",
   "execution_count": 7,
   "id": "6802a997-ca33-436e-8925-d039eada53e3",
   "metadata": {
    "scrolled": true,
    "tags": []
   },
   "outputs": [
    {
     "data": {
      "text/html": [
       "<div>\n",
       "<style scoped>\n",
       "    .dataframe tbody tr th:only-of-type {\n",
       "        vertical-align: middle;\n",
       "    }\n",
       "\n",
       "    .dataframe tbody tr th {\n",
       "        vertical-align: top;\n",
       "    }\n",
       "\n",
       "    .dataframe thead th {\n",
       "        text-align: right;\n",
       "    }\n",
       "</style>\n",
       "<table border=\"1\" class=\"dataframe\">\n",
       "  <thead>\n",
       "    <tr style=\"text-align: right;\">\n",
       "      <th></th>\n",
       "      <th>audio_name</th>\n",
       "      <th>image_name</th>\n",
       "      <th>experiment_number</th>\n",
       "      <th>label_1</th>\n",
       "      <th>label_2</th>\n",
       "      <th>label_3</th>\n",
       "      <th>rms_energy</th>\n",
       "      <th>amplitude_envelope_mean</th>\n",
       "      <th>amplitude_envelope_std</th>\n",
       "      <th>zero_crossing_rate</th>\n",
       "      <th>...</th>\n",
       "      <th>mfcc_8_mean</th>\n",
       "      <th>mfcc_8_std</th>\n",
       "      <th>mfcc_9_mean</th>\n",
       "      <th>mfcc_9_std</th>\n",
       "      <th>mfcc_10_mean</th>\n",
       "      <th>mfcc_10_std</th>\n",
       "      <th>mfcc_11_mean</th>\n",
       "      <th>mfcc_11_std</th>\n",
       "      <th>mfcc_12_mean</th>\n",
       "      <th>mfcc_12_std</th>\n",
       "    </tr>\n",
       "  </thead>\n",
       "  <tbody>\n",
       "    <tr>\n",
       "      <th>0</th>\n",
       "      <td>Exp_17_1_10.wav</td>\n",
       "      <td>Exp_17_1_10.jpg</td>\n",
       "      <td>17_1</td>\n",
       "      <td>Non-defective</td>\n",
       "      <td>NaN</td>\n",
       "      <td>NaN</td>\n",
       "      <td>0.031746</td>\n",
       "      <td>0.038982</td>\n",
       "      <td>0.014304</td>\n",
       "      <td>0.064399</td>\n",
       "      <td>...</td>\n",
       "      <td>-1.955670</td>\n",
       "      <td>7.565694</td>\n",
       "      <td>6.784209</td>\n",
       "      <td>13.263989</td>\n",
       "      <td>-4.241771</td>\n",
       "      <td>7.623967</td>\n",
       "      <td>10.760045</td>\n",
       "      <td>6.365362</td>\n",
       "      <td>-4.255302</td>\n",
       "      <td>6.843529</td>\n",
       "    </tr>\n",
       "    <tr>\n",
       "      <th>1</th>\n",
       "      <td>Exp_17_1_9.wav</td>\n",
       "      <td>Exp_17_1_9.jpg</td>\n",
       "      <td>17_1</td>\n",
       "      <td>Non-defective</td>\n",
       "      <td>NaN</td>\n",
       "      <td>NaN</td>\n",
       "      <td>0.042696</td>\n",
       "      <td>0.046830</td>\n",
       "      <td>0.018378</td>\n",
       "      <td>0.048526</td>\n",
       "      <td>...</td>\n",
       "      <td>2.400870</td>\n",
       "      <td>8.425775</td>\n",
       "      <td>10.965203</td>\n",
       "      <td>9.471119</td>\n",
       "      <td>-3.135444</td>\n",
       "      <td>8.011312</td>\n",
       "      <td>13.603483</td>\n",
       "      <td>6.959040</td>\n",
       "      <td>-5.711248</td>\n",
       "      <td>7.241501</td>\n",
       "    </tr>\n",
       "    <tr>\n",
       "      <th>2</th>\n",
       "      <td>Exp_17_1_8.wav</td>\n",
       "      <td>Exp_17_1_8.jpg</td>\n",
       "      <td>17_1</td>\n",
       "      <td>Non-defective</td>\n",
       "      <td>NaN</td>\n",
       "      <td>NaN</td>\n",
       "      <td>0.035057</td>\n",
       "      <td>0.042734</td>\n",
       "      <td>0.011573</td>\n",
       "      <td>0.075737</td>\n",
       "      <td>...</td>\n",
       "      <td>1.150261</td>\n",
       "      <td>9.403788</td>\n",
       "      <td>14.162999</td>\n",
       "      <td>9.516252</td>\n",
       "      <td>-8.762444</td>\n",
       "      <td>7.957384</td>\n",
       "      <td>12.542859</td>\n",
       "      <td>4.588312</td>\n",
       "      <td>-11.905286</td>\n",
       "      <td>5.806112</td>\n",
       "    </tr>\n",
       "    <tr>\n",
       "      <th>3</th>\n",
       "      <td>Exp_17_1_7.wav</td>\n",
       "      <td>Exp_17_1_7.jpg</td>\n",
       "      <td>17_1</td>\n",
       "      <td>Non-defective</td>\n",
       "      <td>NaN</td>\n",
       "      <td>NaN</td>\n",
       "      <td>0.030621</td>\n",
       "      <td>0.034609</td>\n",
       "      <td>0.014976</td>\n",
       "      <td>0.087528</td>\n",
       "      <td>...</td>\n",
       "      <td>-1.952435</td>\n",
       "      <td>7.164872</td>\n",
       "      <td>11.940722</td>\n",
       "      <td>13.199364</td>\n",
       "      <td>-8.201095</td>\n",
       "      <td>7.420465</td>\n",
       "      <td>10.894137</td>\n",
       "      <td>8.839649</td>\n",
       "      <td>-8.552934</td>\n",
       "      <td>7.470698</td>\n",
       "    </tr>\n",
       "    <tr>\n",
       "      <th>4</th>\n",
       "      <td>Exp_17_1_6.wav</td>\n",
       "      <td>Exp_17_1_6.jpg</td>\n",
       "      <td>17_1</td>\n",
       "      <td>Non-defective</td>\n",
       "      <td>NaN</td>\n",
       "      <td>NaN</td>\n",
       "      <td>0.029938</td>\n",
       "      <td>0.039680</td>\n",
       "      <td>0.008860</td>\n",
       "      <td>0.091837</td>\n",
       "      <td>...</td>\n",
       "      <td>-2.629555</td>\n",
       "      <td>10.869521</td>\n",
       "      <td>10.822444</td>\n",
       "      <td>7.406270</td>\n",
       "      <td>-7.824436</td>\n",
       "      <td>7.594238</td>\n",
       "      <td>11.877039</td>\n",
       "      <td>7.440609</td>\n",
       "      <td>-7.672489</td>\n",
       "      <td>7.914073</td>\n",
       "    </tr>\n",
       "    <tr>\n",
       "      <th>...</th>\n",
       "      <td>...</td>\n",
       "      <td>...</td>\n",
       "      <td>...</td>\n",
       "      <td>...</td>\n",
       "      <td>...</td>\n",
       "      <td>...</td>\n",
       "      <td>...</td>\n",
       "      <td>...</td>\n",
       "      <td>...</td>\n",
       "      <td>...</td>\n",
       "      <td>...</td>\n",
       "      <td>...</td>\n",
       "      <td>...</td>\n",
       "      <td>...</td>\n",
       "      <td>...</td>\n",
       "      <td>...</td>\n",
       "      <td>...</td>\n",
       "      <td>...</td>\n",
       "      <td>...</td>\n",
       "      <td>...</td>\n",
       "      <td>...</td>\n",
       "    </tr>\n",
       "    <tr>\n",
       "      <th>6812</th>\n",
       "      <td>Exp_April_16_test_4_4.wav</td>\n",
       "      <td>Exp_April_16_test_4_4.jpg</td>\n",
       "      <td>April_16_test_4</td>\n",
       "      <td>Laser-off</td>\n",
       "      <td>Shielding Gas-off</td>\n",
       "      <td>NaN</td>\n",
       "      <td>0.012902</td>\n",
       "      <td>0.015071</td>\n",
       "      <td>0.005879</td>\n",
       "      <td>0.099093</td>\n",
       "      <td>...</td>\n",
       "      <td>2.168951</td>\n",
       "      <td>6.490287</td>\n",
       "      <td>1.928032</td>\n",
       "      <td>8.401035</td>\n",
       "      <td>-1.724736</td>\n",
       "      <td>10.288368</td>\n",
       "      <td>-0.060851</td>\n",
       "      <td>8.381465</td>\n",
       "      <td>-12.953316</td>\n",
       "      <td>5.754806</td>\n",
       "    </tr>\n",
       "    <tr>\n",
       "      <th>6813</th>\n",
       "      <td>Exp_April_16_test_4_1.wav</td>\n",
       "      <td>Exp_April_16_test_4_1.jpg</td>\n",
       "      <td>April_16_test_4</td>\n",
       "      <td>Laser-off</td>\n",
       "      <td>Shielding Gas-off</td>\n",
       "      <td>NaN</td>\n",
       "      <td>0.013222</td>\n",
       "      <td>0.015257</td>\n",
       "      <td>0.005407</td>\n",
       "      <td>0.084127</td>\n",
       "      <td>...</td>\n",
       "      <td>0.476796</td>\n",
       "      <td>9.227147</td>\n",
       "      <td>0.945553</td>\n",
       "      <td>7.366714</td>\n",
       "      <td>-1.322515</td>\n",
       "      <td>7.652929</td>\n",
       "      <td>-0.733449</td>\n",
       "      <td>5.396196</td>\n",
       "      <td>-14.786466</td>\n",
       "      <td>7.339162</td>\n",
       "    </tr>\n",
       "    <tr>\n",
       "      <th>6814</th>\n",
       "      <td>Exp_April_16_test_4_2.wav</td>\n",
       "      <td>Exp_April_16_test_4_2.jpg</td>\n",
       "      <td>April_16_test_4</td>\n",
       "      <td>Laser-off</td>\n",
       "      <td>Shielding Gas-off</td>\n",
       "      <td>NaN</td>\n",
       "      <td>0.012246</td>\n",
       "      <td>0.014805</td>\n",
       "      <td>0.005100</td>\n",
       "      <td>0.093878</td>\n",
       "      <td>...</td>\n",
       "      <td>-0.026498</td>\n",
       "      <td>7.503857</td>\n",
       "      <td>2.117017</td>\n",
       "      <td>7.400688</td>\n",
       "      <td>-2.097013</td>\n",
       "      <td>8.523264</td>\n",
       "      <td>0.141502</td>\n",
       "      <td>6.387466</td>\n",
       "      <td>-10.734591</td>\n",
       "      <td>8.097878</td>\n",
       "    </tr>\n",
       "    <tr>\n",
       "      <th>6815</th>\n",
       "      <td>Exp_April_16_test_4_3.wav</td>\n",
       "      <td>Exp_April_16_test_4_3.jpg</td>\n",
       "      <td>April_16_test_4</td>\n",
       "      <td>Laser-off</td>\n",
       "      <td>Shielding Gas-off</td>\n",
       "      <td>NaN</td>\n",
       "      <td>0.013367</td>\n",
       "      <td>0.016546</td>\n",
       "      <td>0.005384</td>\n",
       "      <td>0.087302</td>\n",
       "      <td>...</td>\n",
       "      <td>1.089101</td>\n",
       "      <td>6.276635</td>\n",
       "      <td>0.685349</td>\n",
       "      <td>5.679959</td>\n",
       "      <td>-5.039695</td>\n",
       "      <td>5.392179</td>\n",
       "      <td>-2.741401</td>\n",
       "      <td>4.763264</td>\n",
       "      <td>-13.847133</td>\n",
       "      <td>7.911690</td>\n",
       "    </tr>\n",
       "    <tr>\n",
       "      <th>6816</th>\n",
       "      <td>Exp_April_16_test_4_5.wav</td>\n",
       "      <td>Exp_April_16_test_4_5.jpg</td>\n",
       "      <td>April_16_test_4</td>\n",
       "      <td>Laser-off</td>\n",
       "      <td>Shielding Gas-off</td>\n",
       "      <td>NaN</td>\n",
       "      <td>0.012981</td>\n",
       "      <td>0.015662</td>\n",
       "      <td>0.005640</td>\n",
       "      <td>0.076417</td>\n",
       "      <td>...</td>\n",
       "      <td>1.269098</td>\n",
       "      <td>6.512943</td>\n",
       "      <td>2.457465</td>\n",
       "      <td>8.290963</td>\n",
       "      <td>-2.943163</td>\n",
       "      <td>6.821808</td>\n",
       "      <td>-1.925373</td>\n",
       "      <td>5.722186</td>\n",
       "      <td>-13.050309</td>\n",
       "      <td>7.418693</td>\n",
       "    </tr>\n",
       "  </tbody>\n",
       "</table>\n",
       "<p>6817 rows × 89 columns</p>\n",
       "</div>"
      ],
      "text/plain": [
       "                     audio_name                 image_name experiment_number  \\\n",
       "0               Exp_17_1_10.wav            Exp_17_1_10.jpg              17_1   \n",
       "1                Exp_17_1_9.wav             Exp_17_1_9.jpg              17_1   \n",
       "2                Exp_17_1_8.wav             Exp_17_1_8.jpg              17_1   \n",
       "3                Exp_17_1_7.wav             Exp_17_1_7.jpg              17_1   \n",
       "4                Exp_17_1_6.wav             Exp_17_1_6.jpg              17_1   \n",
       "...                         ...                        ...               ...   \n",
       "6812  Exp_April_16_test_4_4.wav  Exp_April_16_test_4_4.jpg   April_16_test_4   \n",
       "6813  Exp_April_16_test_4_1.wav  Exp_April_16_test_4_1.jpg   April_16_test_4   \n",
       "6814  Exp_April_16_test_4_2.wav  Exp_April_16_test_4_2.jpg   April_16_test_4   \n",
       "6815  Exp_April_16_test_4_3.wav  Exp_April_16_test_4_3.jpg   April_16_test_4   \n",
       "6816  Exp_April_16_test_4_5.wav  Exp_April_16_test_4_5.jpg   April_16_test_4   \n",
       "\n",
       "            label_1            label_2 label_3  rms_energy  \\\n",
       "0     Non-defective                NaN     NaN    0.031746   \n",
       "1     Non-defective                NaN     NaN    0.042696   \n",
       "2     Non-defective                NaN     NaN    0.035057   \n",
       "3     Non-defective                NaN     NaN    0.030621   \n",
       "4     Non-defective                NaN     NaN    0.029938   \n",
       "...             ...                ...     ...         ...   \n",
       "6812      Laser-off  Shielding Gas-off     NaN    0.012902   \n",
       "6813      Laser-off  Shielding Gas-off     NaN    0.013222   \n",
       "6814      Laser-off  Shielding Gas-off     NaN    0.012246   \n",
       "6815      Laser-off  Shielding Gas-off     NaN    0.013367   \n",
       "6816      Laser-off  Shielding Gas-off     NaN    0.012981   \n",
       "\n",
       "      amplitude_envelope_mean  amplitude_envelope_std  zero_crossing_rate  \\\n",
       "0                    0.038982                0.014304            0.064399   \n",
       "1                    0.046830                0.018378            0.048526   \n",
       "2                    0.042734                0.011573            0.075737   \n",
       "3                    0.034609                0.014976            0.087528   \n",
       "4                    0.039680                0.008860            0.091837   \n",
       "...                       ...                     ...                 ...   \n",
       "6812                 0.015071                0.005879            0.099093   \n",
       "6813                 0.015257                0.005407            0.084127   \n",
       "6814                 0.014805                0.005100            0.093878   \n",
       "6815                 0.016546                0.005384            0.087302   \n",
       "6816                 0.015662                0.005640            0.076417   \n",
       "\n",
       "      ...  mfcc_8_mean  mfcc_8_std  mfcc_9_mean  mfcc_9_std  mfcc_10_mean  \\\n",
       "0     ...    -1.955670    7.565694     6.784209   13.263989     -4.241771   \n",
       "1     ...     2.400870    8.425775    10.965203    9.471119     -3.135444   \n",
       "2     ...     1.150261    9.403788    14.162999    9.516252     -8.762444   \n",
       "3     ...    -1.952435    7.164872    11.940722   13.199364     -8.201095   \n",
       "4     ...    -2.629555   10.869521    10.822444    7.406270     -7.824436   \n",
       "...   ...          ...         ...          ...         ...           ...   \n",
       "6812  ...     2.168951    6.490287     1.928032    8.401035     -1.724736   \n",
       "6813  ...     0.476796    9.227147     0.945553    7.366714     -1.322515   \n",
       "6814  ...    -0.026498    7.503857     2.117017    7.400688     -2.097013   \n",
       "6815  ...     1.089101    6.276635     0.685349    5.679959     -5.039695   \n",
       "6816  ...     1.269098    6.512943     2.457465    8.290963     -2.943163   \n",
       "\n",
       "      mfcc_10_std  mfcc_11_mean  mfcc_11_std  mfcc_12_mean  mfcc_12_std  \n",
       "0        7.623967     10.760045     6.365362     -4.255302     6.843529  \n",
       "1        8.011312     13.603483     6.959040     -5.711248     7.241501  \n",
       "2        7.957384     12.542859     4.588312    -11.905286     5.806112  \n",
       "3        7.420465     10.894137     8.839649     -8.552934     7.470698  \n",
       "4        7.594238     11.877039     7.440609     -7.672489     7.914073  \n",
       "...           ...           ...          ...           ...          ...  \n",
       "6812    10.288368     -0.060851     8.381465    -12.953316     5.754806  \n",
       "6813     7.652929     -0.733449     5.396196    -14.786466     7.339162  \n",
       "6814     8.523264      0.141502     6.387466    -10.734591     8.097878  \n",
       "6815     5.392179     -2.741401     4.763264    -13.847133     7.911690  \n",
       "6816     6.821808     -1.925373     5.722186    -13.050309     7.418693  \n",
       "\n",
       "[6817 rows x 89 columns]"
      ]
     },
     "execution_count": 7,
     "metadata": {},
     "output_type": "execute_result"
    }
   ],
   "source": [
    "# Read the data back from the HDF5 file into a new DataFrame\n",
    "# Read the data back from the HDF5 file into a new DataFrame\n",
    "df_audio_dataset = pd.read_hdf(os.path.join(Dataset_path, 'df_audio_dataset_with_annotations(raw_audio).h5'), key='df')\n",
    "\n",
    "df_audio_dataset = df_audio_dataset.dropna(subset=['label_1'])\n",
    "\n",
    "df_audio_dataset"
   ]
  },
  {
   "cell_type": "code",
   "execution_count": 8,
   "id": "ba5ac429-ca97-4830-a990-fc8f7afa423c",
   "metadata": {},
   "outputs": [
    {
     "name": "stdout",
     "output_type": "stream",
     "text": [
      "[ 759 3787 2271]\n"
     ]
    }
   ],
   "source": [
    "# Get the labels and count the number of samples for each class\n",
    "labels = df_audio_dataset['label_1'].values\n",
    "label_counts = np.unique(labels, return_counts=True)[1]\n",
    "print (label_counts)"
   ]
  },
  {
   "cell_type": "markdown",
   "id": "3500075d-c4af-4c24-b010-551313b1580e",
   "metadata": {},
   "source": [
    "### Basline accuracy\n",
    "The baseline accuracy in this multi-class classificiation problem is **55%**, which is the accuracy of trivially predicting the most-frequent class (classify to the largest class– in other words)."
   ]
  },
  {
   "cell_type": "code",
   "execution_count": 9,
   "id": "ea8f62e0-21ae-42b5-a624-fd905f72e594",
   "metadata": {},
   "outputs": [
    {
     "data": {
      "text/plain": [
       "label_1\n",
       "Balling          11.1\n",
       "Laser-off        55.6\n",
       "Non-defective    33.3\n",
       "Name: label_1, dtype: float64"
      ]
     },
     "execution_count": 9,
     "metadata": {},
     "output_type": "execute_result"
    }
   ],
   "source": [
    "### Get the percentage distribution of each category\n",
    "round(df_audio_dataset.groupby('label_1')[\"label_1\"].count()/df_audio_dataset.shape[0]*100, 1)"
   ]
  },
  {
   "cell_type": "code",
   "execution_count": 10,
   "id": "69a24564-6dff-4804-832a-58ada8e8531f",
   "metadata": {
    "tags": []
   },
   "outputs": [
    {
     "name": "stdout",
     "output_type": "stream",
     "text": [
      "Saving figure dataset_distribution.png\n"
     ]
    },
    {
     "data": {
      "image/png": "[encoded data removed]",
      "text/plain": [
       "<Figure size 700x600 with 1 Axes>"
      ]
     },
     "metadata": {},
     "output_type": "display_data"
    }
   ],
   "source": [
    "filename = 'dataset_distribution'\n",
    "plot_data_distribution(df_audio_dataset, 'label_1', \n",
    "                       'Distribution of Dataset per category', filename)\n",
    "save_fig(f\"{filename}.png\")"
   ]
  },
  {
   "cell_type": "markdown",
   "id": "d47a91d6-289e-409e-992d-8c17d325f053",
   "metadata": {},
   "source": [
    "## Preparing Dataset and DataLoader"
   ]
  },
  {
   "cell_type": "markdown",
   "id": "cdd1ade2-b123-4824-8e67-a170739b6503",
   "metadata": {},
   "source": [
    "#### Data Augmentation methods"
   ]
  },
  {
   "cell_type": "code",
   "execution_count": 11,
   "id": "f9999bb8-8133-4d6d-91a4-43ea8b0d29a0",
   "metadata": {},
   "outputs": [],
   "source": [
    "#------ transformation------\n",
    "# instantiating our dataset object and create data loader\n",
    "mel_spectrogram = torchaudio.transforms.MelSpectrogram(\n",
    "    sample_rate=SAMPLE_RATE,\n",
    "    n_fft=512,\n",
    "    hop_length=256,\n",
    "    n_mels=32\n",
    ")\n",
    "\n",
    "# MFCCs = torchaudio.transforms.MFCC(sample_rate=SAMPLE_RATE,n_mfcc=20)\n",
    "\n",
    "\n",
    "\n",
    "# augmentation = Compose(\n",
    "#     [\n",
    "#        AddGaussianNoise(min_amplitude=0.001, max_amplitude=0.002, p=0.5),\n",
    "#        # HighPassFilter(min_cutoff_freq=1000, max_cutoff_freq=21000, p=0.5),\n",
    "#        BandPassFilter(min_center_freq=1000, max_center_freq=21000, p=0.5),\n",
    "#        # Gain(min_gain_in_db = -2, max_gain_in_db = 2, p=0.5),\n",
    "#        Normalize(p=0.5)\n",
    "#     ]\n",
    "# )\n",
    "\n",
    "\n",
    "# # Initialize augmentation callable\n",
    "# apply_augmentation = Compose(\n",
    "#     transforms=[\n",
    "#         # Gain(\n",
    "#         #     min_gain_in_db=-15.0,\n",
    "#         #     max_gain_in_db=5.0,\n",
    "#         #     p=0.5,\n",
    "#         # ),\n",
    "#         PolarityInversion(p=0.5)\n",
    "#     ]\n",
    "# )\n",
    "\n",
    "# train_transform = transforms.Compose([\n",
    "#     augmentation,\n",
    "#     apply_augmentation,\n",
    "#     # torchaudio.transforms.TimeMasking(time_mask_param=20, p=0.5),  # apply time masking with probability of 0.5\n",
    "#     # torchaudio.transforms.FrequencyMasking(freq_mask_param=20),  # apply time masking with probability of 0.5\n",
    "#     torchaudio.transforms.MelSpectrogram(sample_rate=SAMPLE_RATE, n_fft=512, hop_length=256, n_mels=32),  # compute Mel-frequency cepstral coefficients (MFCCs)\n",
    "# ])\n"
   ]
  },
  {
   "cell_type": "code",
   "execution_count": 12,
   "id": "025900b9-a6c3-43b5-86a4-73bbc8c959d1",
   "metadata": {},
   "outputs": [
    {
     "name": "stdout",
     "output_type": "stream",
     "text": [
      "length of the total dataset:6817\n"
     ]
    }
   ],
   "source": [
    "#------ data loader------\n",
    "# create the dataset for all samples\n",
    "audiodataset = LDEDAudioDataset(df_audio_dataset,\n",
    "                                final_audio_dataset,\n",
    "                                mel_spectrogram,\n",
    "                                SAMPLE_RATE,\n",
    "                                device)\n",
    "\n",
    "print (\"length of the total dataset:\" + str(len(audiodataset)))"
   ]
  },
  {
   "cell_type": "markdown",
   "id": "5db0fb70-fbf1-46e3-9ea9-513b9f50a4d8",
   "metadata": {
    "tags": []
   },
   "source": [
    "## Train Val Test dataset "
   ]
  },
  {
   "cell_type": "code",
   "execution_count": 13,
   "id": "40ccf5aa-f5f4-4a54-812a-22e8e3117d4a",
   "metadata": {},
   "outputs": [],
   "source": [
    "%store -r train_indices\n",
    "%store -r val_indices\n",
    "%store -r test_indices"
   ]
  },
  {
   "cell_type": "code",
   "execution_count": 14,
   "id": "e116200b-a799-46d7-829c-63f7b357dbdd",
   "metadata": {},
   "outputs": [],
   "source": [
    "# Create train, val, and test datasets for deep learning models\n",
    "train_annotations = df_audio_dataset.iloc[train_indices, :]\n",
    "val_annotations = df_audio_dataset.iloc[val_indices, :]\n",
    "test_annotations = df_audio_dataset.iloc[test_indices, :]\n",
    "\n",
    "train_dataset = LDEDAudioDataset(train_annotations, final_audio_dataset, mel_spectrogram, SAMPLE_RATE, device=device)\n",
    "val_dataset = LDEDAudioDataset(val_annotations, final_audio_dataset, mel_spectrogram, SAMPLE_RATE, device=device)\n",
    "test_dataset = LDEDAudioDataset(test_annotations, final_audio_dataset, mel_spectrogram, SAMPLE_RATE, device=device)"
   ]
  },
  {
   "cell_type": "markdown",
   "id": "0f8db309-f1a4-4194-9583-0eab9c2289d2",
   "metadata": {},
   "source": [
    "### Create DataLoader using the dataset"
   ]
  },
  {
   "cell_type": "code",
   "execution_count": 15,
   "id": "356ab5bf-d7bc-46d1-a8b6-ce5a9399b768",
   "metadata": {},
   "outputs": [
    {
     "name": "stdout",
     "output_type": "stream",
     "text": [
      "length of the train dataset:5453\n",
      "length of the val dataset:682\n",
      "length of the test dataset:682\n"
     ]
    }
   ],
   "source": [
    "# # Create train and val dataloaders\n",
    "train_dataloader = DataLoader(train_dataset, batch_size=BATCH_SIZE, shuffle=True, num_workers=4)\n",
    "val_dataloader = DataLoader(val_dataset, batch_size=BATCH_SIZE, shuffle=False, num_workers=4)\n",
    "test_dataloader = DataLoader(test_dataset, batch_size=BATCH_SIZE, shuffle=False, num_workers=4)\n",
    "\n",
    "print(\"length of the train dataset:\" +  str(len(train_dataloader.dataset)))\n",
    "print(\"length of the val dataset:\" +  str(len(val_dataloader.dataset)))\n",
    "print(\"length of the test dataset:\" +  str(len(test_dataloader.dataset)))"
   ]
  },
  {
   "cell_type": "markdown",
   "id": "bd5037d7-19e6-46db-af6d-42edb4779852",
   "metadata": {
    "jp-MarkdownHeadingCollapsed": true,
    "tags": []
   },
   "source": [
    "### Hyperparameter tuning"
   ]
  },
  {
   "cell_type": "code",
   "execution_count": 16,
   "id": "3de84960-de6c-49aa-9e85-0c27f849d935",
   "metadata": {
    "scrolled": true
   },
   "outputs": [
    {
     "name": "stdout",
     "output_type": "stream",
     "text": [
      "                                                                                                    \n",
      "Epoch: 0\n",
      "  0%|                                                        | 0/10 [00:00<?, ?trial/s, best loss=?]"
     ]
    },
    {
     "data": {
      "application/json": {
       "ascii": true,
       "bar_format": null,
       "colour": null,
       "elapsed": 0.0021495819091796875,
       "initial": 0,
       "n": 0,
       "ncols": null,
       "nrows": null,
       "postfix": null,
       "prefix": "Epoch 0",
       "rate": null,
       "total": 18,
       "unit": "it",
       "unit_divisor": 1000,
       "unit_scale": false
      },
      "application/vnd.jupyter.widget-view+json": {
       "model_id": "c64ef117b0c44b05bf847d82c01a70d3",
       "version_major": 2,
       "version_minor": 0
      },
      "text/plain": [
       "Epoch 0:   0%|          | 0/18 [00:00<?, ?it/s]"
      ]
     },
     "metadata": {},
     "output_type": "display_data"
    },
    {
     "data": {
      "application/json": {
       "ascii": true,
       "bar_format": null,
       "colour": null,
       "elapsed": 0.0015645027160644531,
       "initial": 0,
       "n": 0,
       "ncols": null,
       "nrows": null,
       "postfix": null,
       "prefix": "Epoch 0",
       "rate": null,
       "total": 2,
       "unit": "it",
       "unit_divisor": 1000,
       "unit_scale": false
      },
      "application/vnd.jupyter.widget-view+json": {
       "model_id": "cacbe247e9ed4a29931cd5396c3a7b8a",
       "version_major": 2,
       "version_minor": 0
      },
      "text/plain": [
       "Epoch 0:   0%|          | 0/2 [00:00<?, ?it/s]"
      ]
     },
     "metadata": {},
     "output_type": "display_data"
    },
    {
     "name": "stdout",
     "output_type": "stream",
     "text": [
      "17:13:07 --- Epoch: 0\tTrain loss: 1.0672\tValid loss: 0.0284\tTrain accuracy: 48.90\tValid accuracy: 42.65\n",
      "                                                                                                    \n",
      "Epoch: 1\n",
      "  0%|                                                        | 0/10 [00:06<?, ?trial/s, best loss=?]"
     ]
    },
    {
     "data": {
      "application/json": {
       "ascii": true,
       "bar_format": null,
       "colour": null,
       "elapsed": 0.0014111995697021484,
       "initial": 0,
       "n": 0,
       "ncols": null,
       "nrows": null,
       "postfix": null,
       "prefix": "Epoch 1",
       "rate": null,
       "total": 18,
       "unit": "it",
       "unit_divisor": 1000,
       "unit_scale": false
      },
      "application/vnd.jupyter.widget-view+json": {
       "model_id": "b41d54a7951045ddae83f6bbc3a7a216",
       "version_major": 2,
       "version_minor": 0
      },
      "text/plain": [
       "Epoch 1:   0%|          | 0/18 [00:00<?, ?it/s]"
      ]
     },
     "metadata": {},
     "output_type": "display_data"
    },
    {
     "data": {
      "application/json": {
       "ascii": true,
       "bar_format": null,
       "colour": null,
       "elapsed": 0.001538991928100586,
       "initial": 0,
       "n": 0,
       "ncols": null,
       "nrows": null,
       "postfix": null,
       "prefix": "Epoch 1",
       "rate": null,
       "total": 2,
       "unit": "it",
       "unit_divisor": 1000,
       "unit_scale": false
      },
      "application/vnd.jupyter.widget-view+json": {
       "model_id": "281fb1a2eabc4ebe9c302fae607dc869",
       "version_major": 2,
       "version_minor": 0
      },
      "text/plain": [
       "Epoch 1:   0%|          | 0/2 [00:00<?, ?it/s]"
      ]
     },
     "metadata": {},
     "output_type": "display_data"
    },
    {
     "name": "stdout",
     "output_type": "stream",
     "text": [
      "17:13:13 --- Epoch: 1\tTrain loss: 0.9869\tValid loss: 0.0278\tTrain accuracy: 49.17\tValid accuracy: 72.06\n",
      "                                                                                                    \n",
      "Epoch: 2\n",
      "  0%|                                                        | 0/10 [00:13<?, ?trial/s, best loss=?]"
     ]
    },
    {
     "data": {
      "application/json": {
       "ascii": true,
       "bar_format": null,
       "colour": null,
       "elapsed": 0.0013821125030517578,
       "initial": 0,
       "n": 0,
       "ncols": null,
       "nrows": null,
       "postfix": null,
       "prefix": "Epoch 2",
       "rate": null,
       "total": 18,
       "unit": "it",
       "unit_divisor": 1000,
       "unit_scale": false
      },
      "application/vnd.jupyter.widget-view+json": {
       "model_id": "84e504da0f384be2928ef467e601c851",
       "version_major": 2,
       "version_minor": 0
      },
      "text/plain": [
       "Epoch 2:   0%|          | 0/18 [00:00<?, ?it/s]"
      ]
     },
     "metadata": {},
     "output_type": "display_data"
    },
    {
     "data": {
      "application/json": {
       "ascii": true,
       "bar_format": null,
       "colour": null,
       "elapsed": 0.001482248306274414,
       "initial": 0,
       "n": 0,
       "ncols": null,
       "nrows": null,
       "postfix": null,
       "prefix": "Epoch 2",
       "rate": null,
       "total": 2,
       "unit": "it",
       "unit_divisor": 1000,
       "unit_scale": false
      },
      "application/vnd.jupyter.widget-view+json": {
       "model_id": "6a8f0bfc1e2149e2b584a7825fbbd33e",
       "version_major": 2,
       "version_minor": 0
      },
      "text/plain": [
       "Epoch 2:   0%|          | 0/2 [00:00<?, ?it/s]"
      ]
     },
     "metadata": {},
     "output_type": "display_data"
    },
    {
     "name": "stdout",
     "output_type": "stream",
     "text": [
      "17:13:20 --- Epoch: 2\tTrain loss: 0.8724\tValid loss: 0.0215\tTrain accuracy: 79.91\tValid accuracy: 88.24\n",
      "                                                                                                    \n",
      "Epoch: 3\n",
      "  0%|                                                        | 0/10 [00:20<?, ?trial/s, best loss=?]"
     ]
    },
    {
     "data": {
      "application/json": {
       "ascii": true,
       "bar_format": null,
       "colour": null,
       "elapsed": 0.0014202594757080078,
       "initial": 0,
       "n": 0,
       "ncols": null,
       "nrows": null,
       "postfix": null,
       "prefix": "Epoch 3",
       "rate": null,
       "total": 18,
       "unit": "it",
       "unit_divisor": 1000,
       "unit_scale": false
      },
      "application/vnd.jupyter.widget-view+json": {
       "model_id": "e812943256f743bcb486f00f188753b9",
       "version_major": 2,
       "version_minor": 0
      },
      "text/plain": [
       "Epoch 3:   0%|          | 0/18 [00:00<?, ?it/s]"
      ]
     },
     "metadata": {},
     "output_type": "display_data"
    },
    {
     "data": {
      "application/json": {
       "ascii": true,
       "bar_format": null,
       "colour": null,
       "elapsed": 0.0014367103576660156,
       "initial": 0,
       "n": 0,
       "ncols": null,
       "nrows": null,
       "postfix": null,
       "prefix": "Epoch 3",
       "rate": null,
       "total": 2,
       "unit": "it",
       "unit_divisor": 1000,
       "unit_scale": false
      },
      "application/vnd.jupyter.widget-view+json": {
       "model_id": "be14b5ed5afc4596a20db1e53e91ab07",
       "version_major": 2,
       "version_minor": 0
      },
      "text/plain": [
       "Epoch 3:   0%|          | 0/2 [00:00<?, ?it/s]"
      ]
     },
     "metadata": {},
     "output_type": "display_data"
    },
    {
     "name": "stdout",
     "output_type": "stream",
     "text": [
      "  0%|                                                        | 0/10 [00:24<?, ?trial/s, best loss=?]\n"
     ]
    },
    {
     "name": "stderr",
     "output_type": "stream",
     "text": [
      "Traceback (most recent call last):\n",
      "  File \"/home/chenlequn/anaconda3/envs/torch/lib/python3.9/multiprocessing/forkserver.py\", line 274, in main\n",
      "    code = _serve_one(child_r, fds,\n",
      "  File \"/home/chenlequn/anaconda3/envs/torch/lib/python3.9/multiprocessing/forkserver.py\", line 313, in _serve_one\n",
      "    code = spawn._main(child_r, parent_sentinel)\n",
      "  File \"/home/chenlequn/anaconda3/envs/torch/lib/python3.9/multiprocessing/spawn.py\", line 126, in _main\n",
      "    self = reduction.pickle.load(from_parent)\n",
      "  File \"/home/chenlequn/anaconda3/envs/torch/lib/python3.9/site-packages/torch/__init__.py\", line 218, in <module>\n",
      "    from torch._C import *  # noqa: F403\n",
      "RuntimeError: KeyboardInterrupt: <EMPTY MESSAGE>\n",
      "\n",
      "KeyboardInterrupt\n",
      "\n"
     ]
    }
   ],
   "source": [
    "# Importing required libraries\n",
    "from hyperopt import fmin, tpe, hp, STATUS_OK, Trials\n",
    "from datetime import datetime\n",
    "import torch\n",
    "import torch.nn as nn\n",
    "import torch.optim as optim\n",
    "from torch.utils.data import DataLoader\n",
    "\n",
    "\n",
    "#Objective function\n",
    "def objective(params):\n",
    "    # Initialize your model\n",
    "    net = MFCCCNN(dropout_rate=params['dropout_rate'])\n",
    "    net = net.to(device)\n",
    "    \n",
    "    # Loss and optimizer\n",
    "    loss_fn = nn.CrossEntropyLoss()\n",
    "    if params['optimizer'] == 'adam':\n",
    "        optimizer = optim.Adam(net.parameters(), lr=params['learning_rate'], weight_decay=params['regularization'])\n",
    "    else:\n",
    "        optimizer = optim.SGD(net.parameters(), lr=params['learning_rate'], momentum=params['momentum'], weight_decay=params['regularization'])\n",
    "    scheduler = optim.lr_scheduler.StepLR(optimizer, step_size=7, gamma=0.1)\n",
    "\n",
    "    # Create DataLoaders\n",
    "    BATCH_SIZE = int(params['batch_size'])\n",
    "    \n",
    "     # Use a subset of the dataset for hyperparameter tuning\n",
    "    n_train = int(len(train_dataset) * 0.2)  # 20% of the training set\n",
    "    n_val = int(len(val_dataset) * 0.1)  # 10% of the validation set\n",
    "    \n",
    "    subset_train_dataset = torch.utils.data.Subset(train_dataset, np.random.choice(len(train_dataset), n_train, replace=False))\n",
    "    subset_val_dataset = torch.utils.data.Subset(val_dataset, np.random.choice(len(val_dataset), n_val, replace=False))\n",
    "    \n",
    "    train_dataloader = DataLoader(subset_train_dataset, batch_size=int(params['batch_size']), shuffle=True, num_workers=4)\n",
    "    val_dataloader = DataLoader(subset_val_dataset, batch_size=int(params['batch_size']), shuffle=False, num_workers=4)\n",
    "    \n",
    "    # Training loop\n",
    "    _, _, (train_losses, valid_losses, train_accuracy, valid_accuracy) = training_loop(\n",
    "        model=net, \n",
    "        loss_fn=loss_fn, \n",
    "        optimizer=optimizer, \n",
    "        train_loader=train_dataloader, \n",
    "        valid_loader=val_dataloader, \n",
    "        epochs=5,  # adjust this\n",
    "        scheduler=scheduler,\n",
    "        device=device, \n",
    "        print_every=1,\n",
    "        mode=\"single_model\"\n",
    "    )\n",
    "    \n",
    "    min_valid_loss = min(valid_losses)\n",
    "    max_valid_accuracy = max(valid_accuracy)\n",
    "    \n",
    "    return {'loss': min_valid_loss, 'status': STATUS_OK, 'best_accuracy': max_valid_accuracy}\n",
    "\n",
    "\n",
    "# Define hyperparameter space\n",
    "space = {\n",
    "    'batch_size': hp.choice('batch_size', [32, 64, 128]),\n",
    "    'optimizer': hp.choice('optimizer', ['adam', 'sgd']),\n",
    "    'dropout_rate': hp.uniform('dropout_rate', 0, 0.5),\n",
    "    'learning_rate': hp.loguniform('learning_rate', -7, -2),\n",
    "    'momentum': hp.uniform('momentum', 0.7, 0.99),\n",
    "    'regularization': hp.choice('regularization', [1e-3, 1e-4, 1e-5])\n",
    "}\n",
    "\n",
    "# Run optimization\n",
    "trials = Trials()\n",
    "best = fmin(fn=objective, space=space, algo=tpe.suggest, max_evals=10, trials=trials)"
   ]
  },
  {
   "cell_type": "code",
   "execution_count": null,
   "id": "d68abbb5-cb86-4d54-83a3-24300d6a61a5",
   "metadata": {},
   "outputs": [],
   "source": [
    "# Print actual values of best hyperparameters\n",
    "best_batch_size = [32, 64, 128][best['batch_size']]\n",
    "best_optimizer = ['adam', 'sgd'][best['optimizer']]\n",
    "best_regularization = [1e-3, 1e-4, 1e-5][best['regularization']]\n",
    "best_dropout_rate = best['dropout_rate']\n",
    "best_learning_rate = best['learning_rate']\n",
    "best_momentum = best['momentum']\n",
    "\n",
    "print(f\"Best hyperparameters found: Batch Size: {best_batch_size}, Optimizer: {best_optimizer}, Regularization: {best_regularization}\")\n",
    "\n",
    "print (f\"Dropout rate: {best['dropout_rate']}, Learning rate: {best_learning_rate}, Momentumn: {best_momentum}\")"
   ]
  },
  {
   "cell_type": "code",
   "execution_count": null,
   "id": "9d38602f-5918-48f5-860c-10176cd6bf6d",
   "metadata": {},
   "outputs": [],
   "source": [
    "# # Print Best Performance\n",
    "# best_trial = trials.best_trial\n",
    "# best_accuracy = best_trial['result']['best_accuracy']\n",
    "# print(f\"Best validation accuracy during hyperparameter tuning: {best_accuracy}\")"
   ]
  },
  {
   "cell_type": "raw",
   "id": "e20d90a6-84db-45fb-9b2a-f78769e2703e",
   "metadata": {},
   "source": [
    "Best hyperparameters found: Batch Size: 128, Optimizer: sgd, Regularization: 1e-05\n",
    "Dropout rate: 0.2518946782702864, Learning rate: 0.04275183165118986, Momentumn: 0.7662453875665081"
   ]
  },
  {
   "cell_type": "markdown",
   "id": "5913b721-5e90-47f2-9de9-6c085006982b",
   "metadata": {},
   "source": [
    "## Training the model"
   ]
  },
  {
   "cell_type": "code",
   "execution_count": 17,
   "id": "1689725d-94f4-4cbb-bfe9-f42c1c49c89e",
   "metadata": {},
   "outputs": [],
   "source": [
    "resume = False\n",
    "start_epoch = 0\n",
    "best_acc = 0\n",
    "LEARNING_RATE = 0.04275183165118986\n",
    "Dropout_rate = 0.2518946782702864\n",
    "Momentumn= 0.7662453875665081\n",
    "Regularization =  1e-05\n",
    "BATCH_SIZE = 128\n",
    "EPOCHS = 20"
   ]
  },
  {
   "cell_type": "code",
   "execution_count": 19,
   "id": "478dceec-22ae-4066-82d7-c4b51ddba2e3",
   "metadata": {
    "scrolled": true,
    "tags": []
   },
   "outputs": [
    {
     "name": "stdout",
     "output_type": "stream",
     "text": [
      "==> Building model..\n",
      "--- Using CUDA ---\n",
      "\n",
      "Epoch: 0\n"
     ]
    },
    {
     "data": {
      "application/json": {
       "ascii": false,
       "bar_format": null,
       "colour": null,
       "elapsed": 0.002378702163696289,
       "initial": 0,
       "n": 0,
       "ncols": null,
       "nrows": 31,
       "postfix": null,
       "prefix": "Epoch 0",
       "rate": null,
       "total": 171,
       "unit": "it",
       "unit_divisor": 1000,
       "unit_scale": false
      },
      "application/vnd.jupyter.widget-view+json": {
       "model_id": "ecc588d0885844a09942fa2bc1169c5a",
       "version_major": 2,
       "version_minor": 0
      },
      "text/plain": [
       "Epoch 0:   0%|          | 0/171 [00:00<?, ?it/s]"
      ]
     },
     "metadata": {},
     "output_type": "display_data"
    },
    {
     "data": {
      "application/json": {
       "ascii": false,
       "bar_format": null,
       "colour": null,
       "elapsed": 0.0014247894287109375,
       "initial": 0,
       "n": 0,
       "ncols": null,
       "nrows": 31,
       "postfix": null,
       "prefix": "Epoch 0",
       "rate": null,
       "total": 22,
       "unit": "it",
       "unit_divisor": 1000,
       "unit_scale": false
      },
      "application/vnd.jupyter.widget-view+json": {
       "model_id": "072746cd0ffe4df594b8fca8cdd714a1",
       "version_major": 2,
       "version_minor": 0
      },
      "text/plain": [
       "Epoch 0:   0%|          | 0/22 [00:00<?, ?it/s]"
      ]
     },
     "metadata": {},
     "output_type": "display_data"
    },
    {
     "name": "stdout",
     "output_type": "stream",
     "text": [
      "17:14:32 --- Epoch: 0\tTrain loss: 0.7643\tValid loss: 0.0229\tTrain accuracy: 78.27\tValid accuracy: 84.31\n",
      "\n",
      "Epoch: 1\n"
     ]
    },
    {
     "data": {
      "application/json": {
       "ascii": false,
       "bar_format": null,
       "colour": null,
       "elapsed": 0.0014846324920654297,
       "initial": 0,
       "n": 0,
       "ncols": null,
       "nrows": 31,
       "postfix": null,
       "prefix": "Epoch 1",
       "rate": null,
       "total": 171,
       "unit": "it",
       "unit_divisor": 1000,
       "unit_scale": false
      },
      "application/vnd.jupyter.widget-view+json": {
       "model_id": "0796f53e34bc4b5fb3bfa8d0177a0685",
       "version_major": 2,
       "version_minor": 0
      },
      "text/plain": [
       "Epoch 1:   0%|          | 0/171 [00:00<?, ?it/s]"
      ]
     },
     "metadata": {},
     "output_type": "display_data"
    },
    {
     "data": {
      "application/json": {
       "ascii": false,
       "bar_format": null,
       "colour": null,
       "elapsed": 0.0013768672943115234,
       "initial": 0,
       "n": 0,
       "ncols": null,
       "nrows": 31,
       "postfix": null,
       "prefix": "Epoch 1",
       "rate": null,
       "total": 22,
       "unit": "it",
       "unit_divisor": 1000,
       "unit_scale": false
      },
      "application/vnd.jupyter.widget-view+json": {
       "model_id": "06f3c1b020b74cd28725c60cc81e2bab",
       "version_major": 2,
       "version_minor": 0
      },
      "text/plain": [
       "Epoch 1:   0%|          | 0/22 [00:00<?, ?it/s]"
      ]
     },
     "metadata": {},
     "output_type": "display_data"
    },
    {
     "name": "stdout",
     "output_type": "stream",
     "text": [
      "17:14:40 --- Epoch: 1\tTrain loss: 0.7193\tValid loss: 0.0227\tTrain accuracy: 83.04\tValid accuracy: 85.04\n",
      "\n",
      "Epoch: 2\n"
     ]
    },
    {
     "data": {
      "application/json": {
       "ascii": false,
       "bar_format": null,
       "colour": null,
       "elapsed": 0.001556396484375,
       "initial": 0,
       "n": 0,
       "ncols": null,
       "nrows": 31,
       "postfix": null,
       "prefix": "Epoch 2",
       "rate": null,
       "total": 171,
       "unit": "it",
       "unit_divisor": 1000,
       "unit_scale": false
      },
      "application/vnd.jupyter.widget-view+json": {
       "model_id": "0889c9a66f334c08bd6e14ed26e2ba7b",
       "version_major": 2,
       "version_minor": 0
      },
      "text/plain": [
       "Epoch 2:   0%|          | 0/171 [00:00<?, ?it/s]"
      ]
     },
     "metadata": {},
     "output_type": "display_data"
    },
    {
     "data": {
      "application/json": {
       "ascii": false,
       "bar_format": null,
       "colour": null,
       "elapsed": 0.0013484954833984375,
       "initial": 0,
       "n": 0,
       "ncols": null,
       "nrows": 31,
       "postfix": null,
       "prefix": "Epoch 2",
       "rate": null,
       "total": 22,
       "unit": "it",
       "unit_divisor": 1000,
       "unit_scale": false
      },
      "application/vnd.jupyter.widget-view+json": {
       "model_id": "ae6dc0ea0d8e4f2d8623dce045599d6c",
       "version_major": 2,
       "version_minor": 0
      },
      "text/plain": [
       "Epoch 2:   0%|          | 0/22 [00:00<?, ?it/s]"
      ]
     },
     "metadata": {},
     "output_type": "display_data"
    },
    {
     "name": "stdout",
     "output_type": "stream",
     "text": [
      "17:14:48 --- Epoch: 2\tTrain loss: 0.7143\tValid loss: 0.0231\tTrain accuracy: 83.59\tValid accuracy: 83.43\n",
      "\n",
      "Epoch: 3\n"
     ]
    },
    {
     "data": {
      "application/json": {
       "ascii": false,
       "bar_format": null,
       "colour": null,
       "elapsed": 0.0014576911926269531,
       "initial": 0,
       "n": 0,
       "ncols": null,
       "nrows": 31,
       "postfix": null,
       "prefix": "Epoch 3",
       "rate": null,
       "total": 171,
       "unit": "it",
       "unit_divisor": 1000,
       "unit_scale": false
      },
      "application/vnd.jupyter.widget-view+json": {
       "model_id": "09823123766647388cb46500c169dbc9",
       "version_major": 2,
       "version_minor": 0
      },
      "text/plain": [
       "Epoch 3:   0%|          | 0/171 [00:00<?, ?it/s]"
      ]
     },
     "metadata": {},
     "output_type": "display_data"
    },
    {
     "data": {
      "application/json": {
       "ascii": false,
       "bar_format": null,
       "colour": null,
       "elapsed": 0.0013594627380371094,
       "initial": 0,
       "n": 0,
       "ncols": null,
       "nrows": 31,
       "postfix": null,
       "prefix": "Epoch 3",
       "rate": null,
       "total": 22,
       "unit": "it",
       "unit_divisor": 1000,
       "unit_scale": false
      },
      "application/vnd.jupyter.widget-view+json": {
       "model_id": "ec5f1069ab344e0489d31fef1ce65698",
       "version_major": 2,
       "version_minor": 0
      },
      "text/plain": [
       "Epoch 3:   0%|          | 0/22 [00:00<?, ?it/s]"
      ]
     },
     "metadata": {},
     "output_type": "display_data"
    },
    {
     "name": "stdout",
     "output_type": "stream",
     "text": [
      "17:14:55 --- Epoch: 3\tTrain loss: 0.7230\tValid loss: 0.0227\tTrain accuracy: 82.76\tValid accuracy: 84.75\n",
      "\n",
      "Epoch: 4\n"
     ]
    },
    {
     "data": {
      "application/json": {
       "ascii": false,
       "bar_format": null,
       "colour": null,
       "elapsed": 0.0015637874603271484,
       "initial": 0,
       "n": 0,
       "ncols": null,
       "nrows": 31,
       "postfix": null,
       "prefix": "Epoch 4",
       "rate": null,
       "total": 171,
       "unit": "it",
       "unit_divisor": 1000,
       "unit_scale": false
      },
      "application/vnd.jupyter.widget-view+json": {
       "model_id": "5cfb7e4a7475488a830798aa8079d236",
       "version_major": 2,
       "version_minor": 0
      },
      "text/plain": [
       "Epoch 4:   0%|          | 0/171 [00:00<?, ?it/s]"
      ]
     },
     "metadata": {},
     "output_type": "display_data"
    },
    {
     "data": {
      "application/json": {
       "ascii": false,
       "bar_format": null,
       "colour": null,
       "elapsed": 0.0013670921325683594,
       "initial": 0,
       "n": 0,
       "ncols": null,
       "nrows": 31,
       "postfix": null,
       "prefix": "Epoch 4",
       "rate": null,
       "total": 22,
       "unit": "it",
       "unit_divisor": 1000,
       "unit_scale": false
      },
      "application/vnd.jupyter.widget-view+json": {
       "model_id": "cae3d5f62d5c41be972cd5a0b150c84e",
       "version_major": 2,
       "version_minor": 0
      },
      "text/plain": [
       "Epoch 4:   0%|          | 0/22 [00:00<?, ?it/s]"
      ]
     },
     "metadata": {},
     "output_type": "display_data"
    },
    {
     "name": "stdout",
     "output_type": "stream",
     "text": [
      "17:15:03 --- Epoch: 4\tTrain loss: 0.7160\tValid loss: 0.0223\tTrain accuracy: 83.46\tValid accuracy: 85.92\n",
      "\n",
      "Epoch: 5\n"
     ]
    },
    {
     "data": {
      "application/json": {
       "ascii": false,
       "bar_format": null,
       "colour": null,
       "elapsed": 0.0015056133270263672,
       "initial": 0,
       "n": 0,
       "ncols": null,
       "nrows": 31,
       "postfix": null,
       "prefix": "Epoch 5",
       "rate": null,
       "total": 171,
       "unit": "it",
       "unit_divisor": 1000,
       "unit_scale": false
      },
      "application/vnd.jupyter.widget-view+json": {
       "model_id": "5607ccce2d7b425e9f6163bc6219be1f",
       "version_major": 2,
       "version_minor": 0
      },
      "text/plain": [
       "Epoch 5:   0%|          | 0/171 [00:00<?, ?it/s]"
      ]
     },
     "metadata": {},
     "output_type": "display_data"
    },
    {
     "data": {
      "application/json": {
       "ascii": false,
       "bar_format": null,
       "colour": null,
       "elapsed": 0.001470804214477539,
       "initial": 0,
       "n": 0,
       "ncols": null,
       "nrows": 31,
       "postfix": null,
       "prefix": "Epoch 5",
       "rate": null,
       "total": 22,
       "unit": "it",
       "unit_divisor": 1000,
       "unit_scale": false
      },
      "application/vnd.jupyter.widget-view+json": {
       "model_id": "3756c0ac71c34fcdaa1cb0394868462f",
       "version_major": 2,
       "version_minor": 0
      },
      "text/plain": [
       "Epoch 5:   0%|          | 0/22 [00:00<?, ?it/s]"
      ]
     },
     "metadata": {},
     "output_type": "display_data"
    },
    {
     "name": "stdout",
     "output_type": "stream",
     "text": [
      "17:15:11 --- Epoch: 5\tTrain loss: 0.7062\tValid loss: 0.0224\tTrain accuracy: 84.39\tValid accuracy: 85.78\n",
      "\n",
      "Epoch: 6\n"
     ]
    },
    {
     "data": {
      "application/json": {
       "ascii": false,
       "bar_format": null,
       "colour": null,
       "elapsed": 0.0013973712921142578,
       "initial": 0,
       "n": 0,
       "ncols": null,
       "nrows": 31,
       "postfix": null,
       "prefix": "Epoch 6",
       "rate": null,
       "total": 171,
       "unit": "it",
       "unit_divisor": 1000,
       "unit_scale": false
      },
      "application/vnd.jupyter.widget-view+json": {
       "model_id": "1a815cd2db754f9c9d1b05d997268e6d",
       "version_major": 2,
       "version_minor": 0
      },
      "text/plain": [
       "Epoch 6:   0%|          | 0/171 [00:00<?, ?it/s]"
      ]
     },
     "metadata": {},
     "output_type": "display_data"
    },
    {
     "data": {
      "application/json": {
       "ascii": false,
       "bar_format": null,
       "colour": null,
       "elapsed": 0.0013742446899414062,
       "initial": 0,
       "n": 0,
       "ncols": null,
       "nrows": 31,
       "postfix": null,
       "prefix": "Epoch 6",
       "rate": null,
       "total": 22,
       "unit": "it",
       "unit_divisor": 1000,
       "unit_scale": false
      },
      "application/vnd.jupyter.widget-view+json": {
       "model_id": "2c1f31a70f0f4dc5bbbbdc1fbc5217bc",
       "version_major": 2,
       "version_minor": 0
      },
      "text/plain": [
       "Epoch 6:   0%|          | 0/22 [00:00<?, ?it/s]"
      ]
     },
     "metadata": {},
     "output_type": "display_data"
    },
    {
     "name": "stdout",
     "output_type": "stream",
     "text": [
      "17:15:19 --- Epoch: 6\tTrain loss: 0.7008\tValid loss: 0.0221\tTrain accuracy: 85.00\tValid accuracy: 86.66\n",
      "\n",
      "Epoch: 7\n"
     ]
    },
    {
     "data": {
      "application/json": {
       "ascii": false,
       "bar_format": null,
       "colour": null,
       "elapsed": 0.001524209976196289,
       "initial": 0,
       "n": 0,
       "ncols": null,
       "nrows": 31,
       "postfix": null,
       "prefix": "Epoch 7",
       "rate": null,
       "total": 171,
       "unit": "it",
       "unit_divisor": 1000,
       "unit_scale": false
      },
      "application/vnd.jupyter.widget-view+json": {
       "model_id": "95ca7e2569c9495299cfa7083c0cd79f",
       "version_major": 2,
       "version_minor": 0
      },
      "text/plain": [
       "Epoch 7:   0%|          | 0/171 [00:00<?, ?it/s]"
      ]
     },
     "metadata": {},
     "output_type": "display_data"
    },
    {
     "data": {
      "application/json": {
       "ascii": false,
       "bar_format": null,
       "colour": null,
       "elapsed": 0.0013799667358398438,
       "initial": 0,
       "n": 0,
       "ncols": null,
       "nrows": 31,
       "postfix": null,
       "prefix": "Epoch 7",
       "rate": null,
       "total": 22,
       "unit": "it",
       "unit_divisor": 1000,
       "unit_scale": false
      },
      "application/vnd.jupyter.widget-view+json": {
       "model_id": "47379f2126f24890b3efaea73c923f28",
       "version_major": 2,
       "version_minor": 0
      },
      "text/plain": [
       "Epoch 7:   0%|          | 0/22 [00:00<?, ?it/s]"
      ]
     },
     "metadata": {},
     "output_type": "display_data"
    },
    {
     "name": "stdout",
     "output_type": "stream",
     "text": [
      "17:15:27 --- Epoch: 7\tTrain loss: 0.6981\tValid loss: 0.0223\tTrain accuracy: 85.27\tValid accuracy: 86.22\n",
      "\n",
      "Epoch: 8\n"
     ]
    },
    {
     "data": {
      "application/json": {
       "ascii": false,
       "bar_format": null,
       "colour": null,
       "elapsed": 0.001493215560913086,
       "initial": 0,
       "n": 0,
       "ncols": null,
       "nrows": 31,
       "postfix": null,
       "prefix": "Epoch 8",
       "rate": null,
       "total": 171,
       "unit": "it",
       "unit_divisor": 1000,
       "unit_scale": false
      },
      "application/vnd.jupyter.widget-view+json": {
       "model_id": "157fab4ca12f43179b5b82110b5bf674",
       "version_major": 2,
       "version_minor": 0
      },
      "text/plain": [
       "Epoch 8:   0%|          | 0/171 [00:00<?, ?it/s]"
      ]
     },
     "metadata": {},
     "output_type": "display_data"
    },
    {
     "data": {
      "application/json": {
       "ascii": false,
       "bar_format": null,
       "colour": null,
       "elapsed": 0.0014727115631103516,
       "initial": 0,
       "n": 0,
       "ncols": null,
       "nrows": 31,
       "postfix": null,
       "prefix": "Epoch 8",
       "rate": null,
       "total": 22,
       "unit": "it",
       "unit_divisor": 1000,
       "unit_scale": false
      },
      "application/vnd.jupyter.widget-view+json": {
       "model_id": "c044ec727f024880bd6a3b1367d9b542",
       "version_major": 2,
       "version_minor": 0
      },
      "text/plain": [
       "Epoch 8:   0%|          | 0/22 [00:00<?, ?it/s]"
      ]
     },
     "metadata": {},
     "output_type": "display_data"
    },
    {
     "name": "stdout",
     "output_type": "stream",
     "text": [
      "17:15:34 --- Epoch: 8\tTrain loss: 0.6967\tValid loss: 0.0222\tTrain accuracy: 85.38\tValid accuracy: 86.66\n",
      "\n",
      "Epoch: 9\n"
     ]
    },
    {
     "data": {
      "application/json": {
       "ascii": false,
       "bar_format": null,
       "colour": null,
       "elapsed": 0.0014586448669433594,
       "initial": 0,
       "n": 0,
       "ncols": null,
       "nrows": 31,
       "postfix": null,
       "prefix": "Epoch 9",
       "rate": null,
       "total": 171,
       "unit": "it",
       "unit_divisor": 1000,
       "unit_scale": false
      },
      "application/vnd.jupyter.widget-view+json": {
       "model_id": "f7337ccce8a7422fb240f61da8a74b17",
       "version_major": 2,
       "version_minor": 0
      },
      "text/plain": [
       "Epoch 9:   0%|          | 0/171 [00:00<?, ?it/s]"
      ]
     },
     "metadata": {},
     "output_type": "display_data"
    },
    {
     "data": {
      "application/json": {
       "ascii": false,
       "bar_format": null,
       "colour": null,
       "elapsed": 0.0013880729675292969,
       "initial": 0,
       "n": 0,
       "ncols": null,
       "nrows": 31,
       "postfix": null,
       "prefix": "Epoch 9",
       "rate": null,
       "total": 22,
       "unit": "it",
       "unit_divisor": 1000,
       "unit_scale": false
      },
      "application/vnd.jupyter.widget-view+json": {
       "model_id": "2fcf87ce24c147bf8e4d92e592f97f22",
       "version_major": 2,
       "version_minor": 0
      },
      "text/plain": [
       "Epoch 9:   0%|          | 0/22 [00:00<?, ?it/s]"
      ]
     },
     "metadata": {},
     "output_type": "display_data"
    },
    {
     "name": "stdout",
     "output_type": "stream",
     "text": [
      "17:15:42 --- Epoch: 9\tTrain loss: 0.6968\tValid loss: 0.0223\tTrain accuracy: 85.44\tValid accuracy: 85.92\n",
      "\n",
      "Epoch: 10\n"
     ]
    },
    {
     "data": {
      "application/json": {
       "ascii": false,
       "bar_format": null,
       "colour": null,
       "elapsed": 0.0014121532440185547,
       "initial": 0,
       "n": 0,
       "ncols": null,
       "nrows": 31,
       "postfix": null,
       "prefix": "Epoch 10",
       "rate": null,
       "total": 171,
       "unit": "it",
       "unit_divisor": 1000,
       "unit_scale": false
      },
      "application/vnd.jupyter.widget-view+json": {
       "model_id": "feadc337f00541e69ecb1455c895fe71",
       "version_major": 2,
       "version_minor": 0
      },
      "text/plain": [
       "Epoch 10:   0%|          | 0/171 [00:00<?, ?it/s]"
      ]
     },
     "metadata": {},
     "output_type": "display_data"
    },
    {
     "data": {
      "application/json": {
       "ascii": false,
       "bar_format": null,
       "colour": null,
       "elapsed": 0.0013477802276611328,
       "initial": 0,
       "n": 0,
       "ncols": null,
       "nrows": 31,
       "postfix": null,
       "prefix": "Epoch 10",
       "rate": null,
       "total": 22,
       "unit": "it",
       "unit_divisor": 1000,
       "unit_scale": false
      },
      "application/vnd.jupyter.widget-view+json": {
       "model_id": "1f7bb511e44245c3b2817f6183da1615",
       "version_major": 2,
       "version_minor": 0
      },
      "text/plain": [
       "Epoch 10:   0%|          | 0/22 [00:00<?, ?it/s]"
      ]
     },
     "metadata": {},
     "output_type": "display_data"
    },
    {
     "name": "stdout",
     "output_type": "stream",
     "text": [
      "17:15:50 --- Epoch: 10\tTrain loss: 0.6958\tValid loss: 0.0223\tTrain accuracy: 85.40\tValid accuracy: 85.92\n",
      "\n",
      "Epoch: 11\n"
     ]
    },
    {
     "data": {
      "application/json": {
       "ascii": false,
       "bar_format": null,
       "colour": null,
       "elapsed": 0.0015721321105957031,
       "initial": 0,
       "n": 0,
       "ncols": null,
       "nrows": 31,
       "postfix": null,
       "prefix": "Epoch 11",
       "rate": null,
       "total": 171,
       "unit": "it",
       "unit_divisor": 1000,
       "unit_scale": false
      },
      "application/vnd.jupyter.widget-view+json": {
       "model_id": "912b07d6cad4410b9c6019a98dfa712e",
       "version_major": 2,
       "version_minor": 0
      },
      "text/plain": [
       "Epoch 11:   0%|          | 0/171 [00:00<?, ?it/s]"
      ]
     },
     "metadata": {},
     "output_type": "display_data"
    },
    {
     "data": {
      "application/json": {
       "ascii": false,
       "bar_format": null,
       "colour": null,
       "elapsed": 0.0013687610626220703,
       "initial": 0,
       "n": 0,
       "ncols": null,
       "nrows": 31,
       "postfix": null,
       "prefix": "Epoch 11",
       "rate": null,
       "total": 22,
       "unit": "it",
       "unit_divisor": 1000,
       "unit_scale": false
      },
      "application/vnd.jupyter.widget-view+json": {
       "model_id": "445d1e2f97cc468ab4b2c05c7bda34d3",
       "version_major": 2,
       "version_minor": 0
      },
      "text/plain": [
       "Epoch 11:   0%|          | 0/22 [00:00<?, ?it/s]"
      ]
     },
     "metadata": {},
     "output_type": "display_data"
    },
    {
     "name": "stdout",
     "output_type": "stream",
     "text": [
      "17:15:58 --- Epoch: 11\tTrain loss: 0.6960\tValid loss: 0.0222\tTrain accuracy: 85.46\tValid accuracy: 86.36\n",
      "\n",
      "Epoch: 12\n"
     ]
    },
    {
     "data": {
      "application/json": {
       "ascii": false,
       "bar_format": null,
       "colour": null,
       "elapsed": 0.0014519691467285156,
       "initial": 0,
       "n": 0,
       "ncols": null,
       "nrows": 31,
       "postfix": null,
       "prefix": "Epoch 12",
       "rate": null,
       "total": 171,
       "unit": "it",
       "unit_divisor": 1000,
       "unit_scale": false
      },
      "application/vnd.jupyter.widget-view+json": {
       "model_id": "3a057a22e4a844f0b23f81684c425edd",
       "version_major": 2,
       "version_minor": 0
      },
      "text/plain": [
       "Epoch 12:   0%|          | 0/171 [00:00<?, ?it/s]"
      ]
     },
     "metadata": {},
     "output_type": "display_data"
    },
    {
     "data": {
      "application/json": {
       "ascii": false,
       "bar_format": null,
       "colour": null,
       "elapsed": 0.0014123916625976562,
       "initial": 0,
       "n": 0,
       "ncols": null,
       "nrows": 31,
       "postfix": null,
       "prefix": "Epoch 12",
       "rate": null,
       "total": 22,
       "unit": "it",
       "unit_divisor": 1000,
       "unit_scale": false
      },
      "application/vnd.jupyter.widget-view+json": {
       "model_id": "aefb4858dba543c6ba6d6ac6b10ee512",
       "version_major": 2,
       "version_minor": 0
      },
      "text/plain": [
       "Epoch 12:   0%|          | 0/22 [00:00<?, ?it/s]"
      ]
     },
     "metadata": {},
     "output_type": "display_data"
    },
    {
     "name": "stdout",
     "output_type": "stream",
     "text": [
      "17:16:06 --- Epoch: 12\tTrain loss: 0.6962\tValid loss: 0.0222\tTrain accuracy: 85.48\tValid accuracy: 86.36\n",
      "\n",
      "Epoch: 13\n"
     ]
    },
    {
     "data": {
      "application/json": {
       "ascii": false,
       "bar_format": null,
       "colour": null,
       "elapsed": 0.0015671253204345703,
       "initial": 0,
       "n": 0,
       "ncols": null,
       "nrows": 31,
       "postfix": null,
       "prefix": "Epoch 13",
       "rate": null,
       "total": 171,
       "unit": "it",
       "unit_divisor": 1000,
       "unit_scale": false
      },
      "application/vnd.jupyter.widget-view+json": {
       "model_id": "0b6a1c7f076449609289cbe669d93409",
       "version_major": 2,
       "version_minor": 0
      },
      "text/plain": [
       "Epoch 13:   0%|          | 0/171 [00:00<?, ?it/s]"
      ]
     },
     "metadata": {},
     "output_type": "display_data"
    },
    {
     "data": {
      "application/json": {
       "ascii": false,
       "bar_format": null,
       "colour": null,
       "elapsed": 0.0014564990997314453,
       "initial": 0,
       "n": 0,
       "ncols": null,
       "nrows": 31,
       "postfix": null,
       "prefix": "Epoch 13",
       "rate": null,
       "total": 22,
       "unit": "it",
       "unit_divisor": 1000,
       "unit_scale": false
      },
      "application/vnd.jupyter.widget-view+json": {
       "model_id": "5bc8ab1a67c54fb7ad21b14bf8024d99",
       "version_major": 2,
       "version_minor": 0
      },
      "text/plain": [
       "Epoch 13:   0%|          | 0/22 [00:00<?, ?it/s]"
      ]
     },
     "metadata": {},
     "output_type": "display_data"
    },
    {
     "name": "stdout",
     "output_type": "stream",
     "text": [
      "17:16:14 --- Epoch: 13\tTrain loss: 0.6957\tValid loss: 0.0223\tTrain accuracy: 85.57\tValid accuracy: 86.07\n",
      "\n",
      "Epoch: 14\n"
     ]
    },
    {
     "data": {
      "application/json": {
       "ascii": false,
       "bar_format": null,
       "colour": null,
       "elapsed": 0.0015048980712890625,
       "initial": 0,
       "n": 0,
       "ncols": null,
       "nrows": 31,
       "postfix": null,
       "prefix": "Epoch 14",
       "rate": null,
       "total": 171,
       "unit": "it",
       "unit_divisor": 1000,
       "unit_scale": false
      },
      "application/vnd.jupyter.widget-view+json": {
       "model_id": "e8d0d18ff1f0436e90d8fa091b837cda",
       "version_major": 2,
       "version_minor": 0
      },
      "text/plain": [
       "Epoch 14:   0%|          | 0/171 [00:00<?, ?it/s]"
      ]
     },
     "metadata": {},
     "output_type": "display_data"
    },
    {
     "data": {
      "application/json": {
       "ascii": false,
       "bar_format": null,
       "colour": null,
       "elapsed": 0.0013890266418457031,
       "initial": 0,
       "n": 0,
       "ncols": null,
       "nrows": 31,
       "postfix": null,
       "prefix": "Epoch 14",
       "rate": null,
       "total": 22,
       "unit": "it",
       "unit_divisor": 1000,
       "unit_scale": false
      },
      "application/vnd.jupyter.widget-view+json": {
       "model_id": "fef3d9d9de084f37bd5badf134535eb4",
       "version_major": 2,
       "version_minor": 0
      },
      "text/plain": [
       "Epoch 14:   0%|          | 0/22 [00:00<?, ?it/s]"
      ]
     },
     "metadata": {},
     "output_type": "display_data"
    },
    {
     "name": "stdout",
     "output_type": "stream",
     "text": [
      "17:16:22 --- Epoch: 14\tTrain loss: 0.6958\tValid loss: 0.0223\tTrain accuracy: 85.51\tValid accuracy: 86.07\n",
      "\n",
      "Epoch: 15\n"
     ]
    },
    {
     "data": {
      "application/json": {
       "ascii": false,
       "bar_format": null,
       "colour": null,
       "elapsed": 0.0014338493347167969,
       "initial": 0,
       "n": 0,
       "ncols": null,
       "nrows": 31,
       "postfix": null,
       "prefix": "Epoch 15",
       "rate": null,
       "total": 171,
       "unit": "it",
       "unit_divisor": 1000,
       "unit_scale": false
      },
      "application/vnd.jupyter.widget-view+json": {
       "model_id": "23860396e9e8467687d7d1f27124e9dd",
       "version_major": 2,
       "version_minor": 0
      },
      "text/plain": [
       "Epoch 15:   0%|          | 0/171 [00:00<?, ?it/s]"
      ]
     },
     "metadata": {},
     "output_type": "display_data"
    },
    {
     "data": {
      "application/json": {
       "ascii": false,
       "bar_format": null,
       "colour": null,
       "elapsed": 0.0014107227325439453,
       "initial": 0,
       "n": 0,
       "ncols": null,
       "nrows": 31,
       "postfix": null,
       "prefix": "Epoch 15",
       "rate": null,
       "total": 22,
       "unit": "it",
       "unit_divisor": 1000,
       "unit_scale": false
      },
      "application/vnd.jupyter.widget-view+json": {
       "model_id": "76b02365f3bf4493a339690b5bf30000",
       "version_major": 2,
       "version_minor": 0
      },
      "text/plain": [
       "Epoch 15:   0%|          | 0/22 [00:00<?, ?it/s]"
      ]
     },
     "metadata": {},
     "output_type": "display_data"
    },
    {
     "name": "stdout",
     "output_type": "stream",
     "text": [
      "17:16:29 --- Epoch: 15\tTrain loss: 0.6950\tValid loss: 0.0223\tTrain accuracy: 85.55\tValid accuracy: 86.07\n",
      "\n",
      "Epoch: 16\n"
     ]
    },
    {
     "data": {
      "application/json": {
       "ascii": false,
       "bar_format": null,
       "colour": null,
       "elapsed": 0.0014729499816894531,
       "initial": 0,
       "n": 0,
       "ncols": null,
       "nrows": 31,
       "postfix": null,
       "prefix": "Epoch 16",
       "rate": null,
       "total": 171,
       "unit": "it",
       "unit_divisor": 1000,
       "unit_scale": false
      },
      "application/vnd.jupyter.widget-view+json": {
       "model_id": "11fea99a1e44408599aac2d468d57daf",
       "version_major": 2,
       "version_minor": 0
      },
      "text/plain": [
       "Epoch 16:   0%|          | 0/171 [00:00<?, ?it/s]"
      ]
     },
     "metadata": {},
     "output_type": "display_data"
    },
    {
     "data": {
      "application/json": {
       "ascii": false,
       "bar_format": null,
       "colour": null,
       "elapsed": 0.001430511474609375,
       "initial": 0,
       "n": 0,
       "ncols": null,
       "nrows": 31,
       "postfix": null,
       "prefix": "Epoch 16",
       "rate": null,
       "total": 22,
       "unit": "it",
       "unit_divisor": 1000,
       "unit_scale": false
      },
      "application/vnd.jupyter.widget-view+json": {
       "model_id": "28d3adde7fe843e8a0b2f670f5bf0641",
       "version_major": 2,
       "version_minor": 0
      },
      "text/plain": [
       "Epoch 16:   0%|          | 0/22 [00:00<?, ?it/s]"
      ]
     },
     "metadata": {},
     "output_type": "display_data"
    },
    {
     "name": "stdout",
     "output_type": "stream",
     "text": [
      "17:16:37 --- Epoch: 16\tTrain loss: 0.6947\tValid loss: 0.0223\tTrain accuracy: 85.59\tValid accuracy: 86.07\n",
      "\n",
      "Epoch: 17\n"
     ]
    },
    {
     "data": {
      "application/json": {
       "ascii": false,
       "bar_format": null,
       "colour": null,
       "elapsed": 0.0014319419860839844,
       "initial": 0,
       "n": 0,
       "ncols": null,
       "nrows": 31,
       "postfix": null,
       "prefix": "Epoch 17",
       "rate": null,
       "total": 171,
       "unit": "it",
       "unit_divisor": 1000,
       "unit_scale": false
      },
      "application/vnd.jupyter.widget-view+json": {
       "model_id": "e9dce939ad904f9d97b5ad58542c98a6",
       "version_major": 2,
       "version_minor": 0
      },
      "text/plain": [
       "Epoch 17:   0%|          | 0/171 [00:00<?, ?it/s]"
      ]
     },
     "metadata": {},
     "output_type": "display_data"
    },
    {
     "data": {
      "application/json": {
       "ascii": false,
       "bar_format": null,
       "colour": null,
       "elapsed": 0.0013723373413085938,
       "initial": 0,
       "n": 0,
       "ncols": null,
       "nrows": 31,
       "postfix": null,
       "prefix": "Epoch 17",
       "rate": null,
       "total": 22,
       "unit": "it",
       "unit_divisor": 1000,
       "unit_scale": false
      },
      "application/vnd.jupyter.widget-view+json": {
       "model_id": "f37a677ce6b646de94fd4770a1c2cee8",
       "version_major": 2,
       "version_minor": 0
      },
      "text/plain": [
       "Epoch 17:   0%|          | 0/22 [00:00<?, ?it/s]"
      ]
     },
     "metadata": {},
     "output_type": "display_data"
    },
    {
     "name": "stdout",
     "output_type": "stream",
     "text": [
      "17:16:45 --- Epoch: 17\tTrain loss: 0.6941\tValid loss: 0.0223\tTrain accuracy: 85.68\tValid accuracy: 86.07\n",
      "\n",
      "Epoch: 18\n"
     ]
    },
    {
     "data": {
      "application/json": {
       "ascii": false,
       "bar_format": null,
       "colour": null,
       "elapsed": 0.0014810562133789062,
       "initial": 0,
       "n": 0,
       "ncols": null,
       "nrows": 31,
       "postfix": null,
       "prefix": "Epoch 18",
       "rate": null,
       "total": 171,
       "unit": "it",
       "unit_divisor": 1000,
       "unit_scale": false
      },
      "application/vnd.jupyter.widget-view+json": {
       "model_id": "7d246b8fc4934ed5b7e7cf694669e637",
       "version_major": 2,
       "version_minor": 0
      },
      "text/plain": [
       "Epoch 18:   0%|          | 0/171 [00:00<?, ?it/s]"
      ]
     },
     "metadata": {},
     "output_type": "display_data"
    },
    {
     "data": {
      "application/json": {
       "ascii": false,
       "bar_format": null,
       "colour": null,
       "elapsed": 0.0013461112976074219,
       "initial": 0,
       "n": 0,
       "ncols": null,
       "nrows": 31,
       "postfix": null,
       "prefix": "Epoch 18",
       "rate": null,
       "total": 22,
       "unit": "it",
       "unit_divisor": 1000,
       "unit_scale": false
      },
      "application/vnd.jupyter.widget-view+json": {
       "model_id": "52c354f4ebf240dd8f45baa0f13c297a",
       "version_major": 2,
       "version_minor": 0
      },
      "text/plain": [
       "Epoch 18:   0%|          | 0/22 [00:00<?, ?it/s]"
      ]
     },
     "metadata": {},
     "output_type": "display_data"
    },
    {
     "name": "stdout",
     "output_type": "stream",
     "text": [
      "17:16:53 --- Epoch: 18\tTrain loss: 0.6948\tValid loss: 0.0223\tTrain accuracy: 85.60\tValid accuracy: 86.07\n",
      "\n",
      "Epoch: 19\n"
     ]
    },
    {
     "data": {
      "application/json": {
       "ascii": false,
       "bar_format": null,
       "colour": null,
       "elapsed": 0.0014641284942626953,
       "initial": 0,
       "n": 0,
       "ncols": null,
       "nrows": 31,
       "postfix": null,
       "prefix": "Epoch 19",
       "rate": null,
       "total": 171,
       "unit": "it",
       "unit_divisor": 1000,
       "unit_scale": false
      },
      "application/vnd.jupyter.widget-view+json": {
       "model_id": "9293b5b78e7449c3a4395f0e132a3a3e",
       "version_major": 2,
       "version_minor": 0
      },
      "text/plain": [
       "Epoch 19:   0%|          | 0/171 [00:00<?, ?it/s]"
      ]
     },
     "metadata": {},
     "output_type": "display_data"
    },
    {
     "data": {
      "application/json": {
       "ascii": false,
       "bar_format": null,
       "colour": null,
       "elapsed": 0.0013468265533447266,
       "initial": 0,
       "n": 0,
       "ncols": null,
       "nrows": 31,
       "postfix": null,
       "prefix": "Epoch 19",
       "rate": null,
       "total": 22,
       "unit": "it",
       "unit_divisor": 1000,
       "unit_scale": false
      },
      "application/vnd.jupyter.widget-view+json": {
       "model_id": "95f53c0e3d1b4bcc8e75a577f659e649",
       "version_major": 2,
       "version_minor": 0
      },
      "text/plain": [
       "Epoch 19:   0%|          | 0/22 [00:00<?, ?it/s]"
      ]
     },
     "metadata": {},
     "output_type": "display_data"
    },
    {
     "name": "stdout",
     "output_type": "stream",
     "text": [
      "17:17:01 --- Epoch: 19\tTrain loss: 0.6939\tValid loss: 0.0223\tTrain accuracy: 85.73\tValid accuracy: 86.07\n"
     ]
    }
   ],
   "source": [
    "# -----Model---------------\n",
    "print('==> Building model..')\n",
    "\n",
    "net = MFCCCNN(dropout_rate=Dropout_rate) \n",
    "\n",
    "net = net.to(device)\n",
    "if device == 'cuda':\n",
    "    net = torch.nn.DataParallel(net)\n",
    "    cudnn.benchmark = True\n",
    "    print (\"--- Using CUDA ---\")\n",
    "\n",
    "if resume:\n",
    "    # Load checkpoint.\n",
    "    print('==> Resuming from checkpoint..')\n",
    "    assert os.path.isdir('checkpoint'), 'Error: no checkpoint directory found!'\n",
    "    checkpoint = torch.load('./checkpoint/ckpt.pth')\n",
    "    net.load_state_dict(checkpoint['net'])\n",
    "    best_acc = checkpoint['acc']\n",
    "    start_epoch = checkpoint['epoch']\n",
    "\n",
    "loss_fn = nn.CrossEntropyLoss()\n",
    "\n",
    "# Note: weight_decay in pytorch is L2 regularization\n",
    "# optimizer = optim.Adam(net.parameters(), lr=LEARNING_RATE, weight_decay=5e-4)\n",
    "# scheduler = torch.optim.lr_scheduler.CosineAnnealingLR(optimizer, T_max=200)\n",
    "optimizer = optim.SGD(net.parameters(), lr=0.04275183165118986, momentum=Momentumn, weight_decay=Regularization)\n",
    "scheduler = optim.lr_scheduler.StepLR(optimizer, step_size=7, gamma=0.1)\n",
    "\n",
    "model, optimizer, (train_losses, valid_losses, train_accuracy, valid_accuracy) = training_loop(net, loss_fn, optimizer, train_dataloader, val_dataloader, EPOCHS, scheduler, device)"
   ]
  },
  {
   "cell_type": "code",
   "execution_count": 20,
   "id": "97901149-558c-4241-b6d3-9f8389f3ec1f",
   "metadata": {
    "scrolled": true,
    "tags": []
   },
   "outputs": [
    {
     "data": {
      "text/plain": [
       "[84.3108504398827,\n",
       " 85.04398826979472,\n",
       " 83.43108504398828,\n",
       " 84.75073313782991,\n",
       " 85.92375366568915,\n",
       " 85.77712609970675,\n",
       " 86.65689149560117,\n",
       " 86.21700879765396,\n",
       " 86.65689149560117,\n",
       " 85.92375366568915,\n",
       " 85.92375366568915,\n",
       " 86.36363636363636,\n",
       " 86.36363636363636,\n",
       " 86.07038123167156,\n",
       " 86.07038123167156,\n",
       " 86.07038123167156,\n",
       " 86.07038123167156,\n",
       " 86.07038123167156,\n",
       " 86.07038123167156,\n",
       " 86.07038123167156]"
      ]
     },
     "execution_count": 20,
     "metadata": {},
     "output_type": "execute_result"
    }
   ],
   "source": [
    "valid_accuracy"
   ]
  },
  {
   "cell_type": "code",
   "execution_count": 23,
   "id": "ab7210cd-ecf4-4c73-8bd0-24c22829334c",
   "metadata": {
    "scrolled": true
   },
   "outputs": [
    {
     "data": {
      "image/png": "[encoded data removed]",
      "text/plain": [
       "<Figure size 700x800 with 2 Axes>"
      ]
     },
     "metadata": {},
     "output_type": "display_data"
    }
   ],
   "source": [
    "loss_acc_plot(train_losses, valid_losses, train_accuracy, valid_accuracy, 20, \"Initial Training\",\n",
    "              interval=50, yloss_limit1=0, yloss_limit2=0.1, yacc_limit1=40, yacc_limit2=100)\n",
    "\n",
    "# save_fig (\"train_lost_curve_audio\")"
   ]
  },
  {
   "cell_type": "code",
   "execution_count": 22,
   "id": "433ed0ce-439c-479d-9945-5f77bfb629d6",
   "metadata": {},
   "outputs": [
    {
     "ename": "NameError",
     "evalue": "name 'torch' is not defined",
     "output_type": "error",
     "traceback": [
      "\u001b[0;31m---------------------------------------------------------------------------\u001b[0m",
      "\u001b[0;31mNameError\u001b[0m                                 Traceback (most recent call last)",
      "Cell \u001b[0;32mIn[22], line 1\u001b[0m\n\u001b[0;32m----> 1\u001b[0m \u001b[43mget_accuracy\u001b[49m\u001b[43m(\u001b[49m\u001b[43mmodel\u001b[49m\u001b[43m,\u001b[49m\u001b[43m \u001b[49m\u001b[43mtest_dataloader\u001b[49m\u001b[43m,\u001b[49m\u001b[43m \u001b[49m\u001b[43mdevice\u001b[49m\u001b[43m)\u001b[49m\n",
      "File \u001b[0;32m~/GitHub/MultiSensor-Monitoring-LW-DED/Code/./utils/utils_functions.py:164\u001b[0m, in \u001b[0;36mget_accuracy\u001b[0;34m(model, data_loader, device, mode)\u001b[0m\n\u001b[1;32m    162\u001b[0m correct_pred \u001b[38;5;241m=\u001b[39m \u001b[38;5;241m0\u001b[39m \n\u001b[1;32m    163\u001b[0m total \u001b[38;5;241m=\u001b[39m \u001b[38;5;241m0\u001b[39m\n\u001b[0;32m--> 164\u001b[0m \u001b[38;5;28;01mwith\u001b[39;00m \u001b[43mtorch\u001b[49m\u001b[38;5;241m.\u001b[39mno_grad():\n\u001b[1;32m    165\u001b[0m     model\u001b[38;5;241m.\u001b[39meval()\n\u001b[1;32m    166\u001b[0m     \u001b[38;5;28;01mfor\u001b[39;00m inputs, targets \u001b[38;5;129;01min\u001b[39;00m data_loader:\n",
      "\u001b[0;31mNameError\u001b[0m: name 'torch' is not defined"
     ]
    }
   ],
   "source": [
    "get_accuracy(model, test_dataloader, device)"
   ]
  },
  {
   "cell_type": "code",
   "execution_count": 24,
   "id": "fa55aa1c-93a7-4696-bc9e-c5f76627dfa3",
   "metadata": {
    "tags": []
   },
   "outputs": [
    {
     "ename": "NameError",
     "evalue": "name 'model_evaluation' is not defined",
     "output_type": "error",
     "traceback": [
      "\u001b[0;31m---------------------------------------------------------------------------\u001b[0m",
      "\u001b[0;31mNameError\u001b[0m                                 Traceback (most recent call last)",
      "Cell \u001b[0;32mIn[24], line 1\u001b[0m\n\u001b[0;32m----> 1\u001b[0m test_accuracy_mean, test_accuracy_std, auc_mean, auc_std \u001b[38;5;241m=\u001b[39m \u001b[43mmodel_evaluation\u001b[49m(model, val_dataloader, classes, device, classifier_name \u001b[38;5;241m=\u001b[39m \u001b[38;5;124m\"\u001b[39m\u001b[38;5;124mMFCC-CNN\u001b[39m\u001b[38;5;124m\"\u001b[39m, \n\u001b[1;32m      2\u001b[0m                                                                             signal_type \u001b[38;5;241m=\u001b[39m \u001b[38;5;124m\"\u001b[39m\u001b[38;5;124mraw\u001b[39m\u001b[38;5;124m\"\u001b[39m, seed\u001b[38;5;241m=\u001b[39m\u001b[38;5;241m0\u001b[39m)\n\u001b[1;32m      4\u001b[0m save_fig (\u001b[38;5;124m\"\u001b[39m\u001b[38;5;124mROC_curve (acoustic-based)-raw\u001b[39m\u001b[38;5;124m\"\u001b[39m)\n",
      "\u001b[0;31mNameError\u001b[0m: name 'model_evaluation' is not defined"
     ]
    }
   ],
   "source": [
    "test_accuracy_mean, test_accuracy_std, auc_mean, auc_std = model_evaluation(model, val_dataloader, classes, device, classifier_name = \"MFCC-CNN\", \n",
    "                                                                            signal_type = \"raw\", seed=0)\n",
    "\n",
    "save_fig (\"ROC_curve (acoustic-based)-raw\")"
   ]
  },
  {
   "cell_type": "code",
   "execution_count": 25,
   "id": "d4e6a1ce-69a6-4303-b691-8708bed57ea4",
   "metadata": {},
   "outputs": [
    {
     "ename": "NameError",
     "evalue": "name 'torch' is not defined",
     "output_type": "error",
     "traceback": [
      "\u001b[0;31m---------------------------------------------------------------------------\u001b[0m",
      "\u001b[0;31mNameError\u001b[0m                                 Traceback (most recent call last)",
      "Cell \u001b[0;32mIn[25], line 1\u001b[0m\n\u001b[0;32m----> 1\u001b[0m yt, yp \u001b[38;5;241m=\u001b[39m \u001b[43mclass_report\u001b[49m\u001b[43m(\u001b[49m\u001b[43mmodel\u001b[49m\u001b[43m,\u001b[49m\u001b[43m \u001b[49m\u001b[43mval_dataloader\u001b[49m\u001b[43m,\u001b[49m\u001b[43m \u001b[49m\u001b[43mdevice\u001b[49m\u001b[43m,\u001b[49m\u001b[43m \u001b[49m\u001b[43mclasses\u001b[49m\u001b[43m)\u001b[49m\n",
      "File \u001b[0;32m~/GitHub/MultiSensor-Monitoring-LW-DED/Code/./utils/utils_functions.py:186\u001b[0m, in \u001b[0;36mclass_report\u001b[0;34m(model, testdataloader, device, classes, mode)\u001b[0m\n\u001b[1;32m    182\u001b[0m \u001b[38;5;250m\u001b[39m\u001b[38;5;124;03m'''\u001b[39;00m\n\u001b[1;32m    183\u001b[0m \u001b[38;5;124;03mFunction for computing the accuracy of the predictions over the entire data_loader\u001b[39;00m\n\u001b[1;32m    184\u001b[0m \u001b[38;5;124;03m'''\u001b[39;00m\n\u001b[1;32m    185\u001b[0m correct_pred \u001b[38;5;241m=\u001b[39m \u001b[38;5;241m0\u001b[39m \n\u001b[0;32m--> 186\u001b[0m total \u001b[38;5;241m=\u001b[39m \u001b[38;5;241m0\u001b[39m\n\u001b[1;32m    187\u001b[0m \u001b[38;5;28;01mwith\u001b[39;00m torch\u001b[38;5;241m.\u001b[39mno_grad():\n\u001b[1;32m    188\u001b[0m     model\u001b[38;5;241m.\u001b[39meval()\n",
      "\u001b[0;31mNameError\u001b[0m: name 'torch' is not defined"
     ]
    }
   ],
   "source": [
    "yt, yp = class_report(model, val_dataloader, device, classes)"
   ]
  },
  {
   "cell_type": "code",
   "execution_count": null,
   "id": "14e8a280-0af0-4caf-90bc-959d2860b83c",
   "metadata": {
    "scrolled": true,
    "tags": []
   },
   "outputs": [],
   "source": [
    "conf_matrix(yt, yp, classes)\n",
    "save_fig(\"confusion_matrix(audio_based)-raw\")"
   ]
  },
  {
   "cell_type": "markdown",
   "id": "8819d61f-1df3-4f40-b2e0-9b9ad7d33009",
   "metadata": {},
   "source": [
    "### Save the trained model into the folder"
   ]
  },
  {
   "cell_type": "code",
   "execution_count": null,
   "id": "2cf0e4a7-2a11-4688-82b0-c7e9c2d5d3da",
   "metadata": {},
   "outputs": [],
   "source": [
    "# Save the model's state_dict\n",
    "torch.save(model.state_dict(), os.path.join(model_path, 'trained_audio_MFCC-CNN(raw).pth'))"
   ]
  },
  {
   "cell_type": "markdown",
   "id": "393f0c2a-2bf8-4fd4-9cd8-39b6e9c74d8f",
   "metadata": {},
   "source": [
    "# Load the trained model to test"
   ]
  },
  {
   "cell_type": "code",
   "execution_count": null,
   "id": "45adfe14-c7dc-4730-acb6-1e0d535e3291",
   "metadata": {
    "scrolled": true,
    "tags": []
   },
   "outputs": [],
   "source": [
    "# Initialize your model\n",
    "model = nn.DataParallel(MFCCCNN())\n",
    "device = torch.device(\"cuda\" if torch.cuda.is_available() else \"cpu\")\n",
    "model.to(device)\n",
    "\n",
    "# Load the state dictionary\n",
    "model.load_state_dict(torch.load(os.path.join(model_path, 'trained_audio_MFCC-CNN(raw).pth')))\n",
    "\n",
    "\n",
    "model.eval()  # Set the model to evaluation mode"
   ]
  },
  {
   "cell_type": "markdown",
   "id": "52c00985-73e7-42f7-beb2-8971cffdba10",
   "metadata": {},
   "source": [
    "### Random testing"
   ]
  },
  {
   "cell_type": "code",
   "execution_count": null,
   "id": "8f7e595a-2c15-460b-91c3-4cc92e19e9b0",
   "metadata": {},
   "outputs": [],
   "source": [
    "import PIL.Image\n",
    "\n",
    "# Load and preprocess the image\n",
    "sample_number = 24\n",
    "index = 16127\n",
    "img_path = os.path.join(Dataset_path, f\"{sample_number}/images/sample_{sample_number}_{index}.jpg\")\n",
    "audio_path = os.path.join(Dataset_path, f\"{sample_number}/raw_audio/sample_{sample_number}_{index}.wav\")\n",
    "input_image = PIL.Image.open(img_path).convert('L')  \n",
    "# apply transform\n",
    "waveform, sample_rate = torchaudio.load(audio_path)\n",
    "waveform = waveform.to(device)\n",
    "input_tensor = mel_spectrogram(waveform)\n",
    "input_batch = input_tensor.unsqueeze(0)  # Create a mini-batch as expected by the model\n",
    "\n",
    "# Move the input to the GPU if available\n",
    "input_batch = input_batch.to(device)\n",
    "\n",
    "# Make the prediction\n",
    "with torch.no_grad():\n",
    "    output = model(input_batch)\n",
    "\n",
    "# The output has unnormalized scores. To get the label, use argmax to get the index of the maximum score\n",
    "_, predicted_label_index = torch.max(output, 1)\n",
    "\n",
    "\n",
    "print(f\"Predicted label index: {predicted_label_index.item()}\")\n",
    "\n",
    "\n",
    "# (1) Map the predicted index to the actual class name\n",
    "index_to_class = {\n",
    "    0: 'Defect-free',\n",
    "    1: 'Keyhole pores',\n",
    "    2: 'Laser defocus',\n",
    "    3: 'Laser-off'\n",
    "}\n",
    "\n",
    "\n",
    "predicted_class_name = index_to_class[predicted_label_index.item()]\n",
    "print(f\"Predicted class name: {predicted_class_name}\")\n",
    "\n",
    "# (2) Display the image and print the ground truth label\n",
    "try:\n",
    "    ground_truth_label = df_multimodal.loc[\n",
    "        (df_multimodal['Sample number'] == sample_number) & \n",
    "        (df_multimodal['image_file_name'] == f\"sample_{sample_number}_{index}.jpg\"), \n",
    "        'class_name_v3'\n",
    "    ].iloc[0]\n",
    "except IndexError:\n",
    "    ground_truth_label = \"NaN\"\n",
    "\n",
    "\n",
    "# Display the image\n",
    "plt.figure(figsize=(10, 4))\n",
    "plt.subplot(1, 2, 1)\n",
    "plt.imshow(input_image, cmap='gray')\n",
    "plt.title(f\"Ground Truth: {ground_truth_label}, Prediction: {predicted_class_name}\", pad=15)\n",
    "plt.axis('off')\n",
    "\n",
    "# Load and plot the audio signal\n",
    "waveform, sample_rate = torchaudio.load(audio_path)\n",
    "plt.subplot(1, 2, 2)\n",
    "plt.plot(waveform.t().numpy())\n",
    "plt.title('Audio Signal', pad=15)\n",
    "plt.xlabel('Sample', labelpad=10)\n",
    "plt.ylabel('Amplitude', labelpad=10)\n",
    "plt.ylim([-0.1, 0.1])\n",
    "plt.tick_params(axis='both', which='major', labelsize=10)\n",
    "\n",
    "plt.tight_layout()\n",
    "plt.show()"
   ]
  }
 ],
 "metadata": {
  "kernelspec": {
   "display_name": "Python 3 (ipykernel)",
   "language": "python",
   "name": "python3"
  },
  "language_info": {
   "codemirror_mode": {
    "name": "ipython",
    "version": 3
   },
   "file_extension": ".py",
   "mimetype": "text/x-python",
   "name": "python",
   "nbconvert_exporter": "python",
   "pygments_lexer": "ipython3",
   "version": "3.9.19"
  }
 },
 "nbformat": 4,
 "nbformat_minor": 5
}
