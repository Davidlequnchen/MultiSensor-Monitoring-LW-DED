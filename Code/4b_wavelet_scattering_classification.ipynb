{
 "cells": [
  {
   "cell_type": "markdown",
   "metadata": {
    "id": "8_TiDWkVLHc7"
   },
   "source": [
    "# Classification using Hybrid Scattering Networks\n",
    "\n",
    "\n",
    "### Notebook 6a: Wavelet Scattering Transform\n",
    "\n",
    "\n"
   ]
  },
  {
   "cell_type": "markdown",
   "metadata": {},
   "source": [
    "### Install dependencies"
   ]
  },
  {
   "cell_type": "code",
   "execution_count": 1,
   "metadata": {
    "id": "dLJNz_EAM5dz"
   },
   "outputs": [],
   "source": [
    "# # @title Install dependencies\n",
    "\n",
    "# # @markdown install kymatio and ismir23-kymatio-tools from source\n",
    "# !pip install git+https://github.com/kymatio/kymatio.git # install kymatio v0.4-dev from source\n",
    "# !pip install git+https://github.com/cyrusvahidi/ismir23-kymatio-tools.git # install helper library for this tutorial\n",
    "# !pip install lightning # install pytorch lightning\n",
    "# !pip install ipywidgets"
   ]
  },
  {
   "cell_type": "markdown",
   "metadata": {},
   "source": [
    "## Import Dependencies"
   ]
  },
  {
   "cell_type": "code",
   "execution_count": 25,
   "metadata": {
    "id": "1V3LjgwY97BS"
   },
   "outputs": [],
   "source": [
    "# @title Import Dependencies\n",
    "\n",
    "import os\n",
    "import torch\n",
    "from pathlib import Path\n",
    "import pandas as pd\n",
    "from tqdm.notebook import tqdm\n",
    "\n",
    "import numpy as np\n",
    "\n",
    "import lightning as pl\n",
    "from lightning import LightningModule\n",
    "\n",
    "from s1dt.data import FeatureExtractorSOL\n",
    "from s1dt.plot import (\n",
    "    plot_scalogram,\n",
    "    extract_s2_scalogram,\n",
    "    create_s2_gif,\n",
    "    extract_jtfst_scalogram,\n",
    "    create_jtfst_gif\n",
    ")\n",
    "from torch.utils.data import DataLoader\n",
    "\n",
    "from torch.utils.data import Dataset\n",
    "import numpy as np\n",
    "\n",
    "from IPython.display import Audio, display\n",
    "## plot\n",
    "import matplotlib.pyplot as plt\n",
    "import seaborn as sns\n",
    "import matplotlib as mpl\n",
    "from matplotlib.pyplot import gca\n",
    "import librosa\n",
    "from kymatio.torch import Scattering1D\n",
    "from ipywidgets import HTML\n",
    "from IPython.display import Image\n",
    "import sys\n",
    "\n",
    "mpl.rc('axes', labelsize=14)\n",
    "mpl.rc('xtick', labelsize=12)\n",
    "mpl.rc('ytick', labelsize=12)"
   ]
  },
  {
   "cell_type": "code",
   "execution_count": 3,
   "metadata": {},
   "outputs": [
    {
     "name": "stderr",
     "output_type": "stream",
     "text": [
      "SoX could not be found!\n",
      "\n",
      "    If you do not have SoX, proceed here:\n",
      "     - - - http://sox.sourceforge.net/ - - -\n",
      "\n",
      "    If you do (or think that you should) have SoX, double-check your\n",
      "    path variables.\n",
      "    \n",
      "/bin/sh: 1: sox: not found\n"
     ]
    }
   ],
   "source": [
    "sys.path.insert(0, './utils')\n",
    "\n",
    "from utils_functions import *\n",
    "from LWDED_audiodataset import LDEDAudioDataset\n",
    "from train_utils import train_single_epoch, test_single_epoch, training_loop, plot_data_distribution"
   ]
  },
  {
   "cell_type": "code",
   "execution_count": 4,
   "metadata": {
    "id": "e36EyJu3qWRQ"
   },
   "outputs": [
    {
     "name": "stdout",
     "output_type": "stream",
     "text": [
      "GPU 0: NVIDIA GeForce RTX 3090 (UUID: GPU-8878a889-5eb0-35b1-bad5-81cbfbf49357)\n",
      "\n",
      "Using device: GPU\n"
     ]
    }
   ],
   "source": [
    "#@title Check GPU Status\n",
    "import subprocess\n",
    "\n",
    "USE_GPU = True #@param {type:\"boolean\"}\n",
    "\n",
    "def to_device(tensor: torch.tensor):\n",
    "    \"\"\" Move a torch tensor to the current device\n",
    "    \"\"\"\n",
    "    return tensor.cuda() if USE_GPU else tensor.cpu()\n",
    "\n",
    "#!nvidia-smi\n",
    "nvidiasmi_output = subprocess.run(['nvidia-smi', '-L'], stdout=subprocess.PIPE).stdout.decode('utf-8')\n",
    "print(nvidiasmi_output)\n",
    "print(f\"Using device: {'GPU' if USE_GPU else 'CPU'}\")"
   ]
  },
  {
   "cell_type": "markdown",
   "metadata": {
    "id": "JO9y_2wOXBeE"
   },
   "source": [
    "### Prepare Dataset"
   ]
  },
  {
   "cell_type": "code",
   "execution_count": 5,
   "metadata": {
    "id": "QfBbuXjavqci",
    "scrolled": true
   },
   "outputs": [],
   "source": [
    "PROJECT_ROOT_DIR = \"../\"\n",
    "IMAGE_PATH = os.path.join(PROJECT_ROOT_DIR, \"result_images\", 'defect classification', '6a_hybrid_wavelet_scattering')\n",
    "model_path = os.path.join(PROJECT_ROOT_DIR, \"trained_models\", 'defect classification', '6a_hybrid_wavelet_scattering')\n",
    "scaler_path = os.path.join(PROJECT_ROOT_DIR, \"saved_scalers\", 'defect classification',  '6a_hybrid_wavelet_scattering')\n",
    "os.makedirs(IMAGE_PATH, exist_ok=True)\n",
    "os.makedirs(model_path, exist_ok=True)\n",
    "os.makedirs(scaler_path, exist_ok=True)\n",
    "\n",
    "# Change to desirable location of the raw dataset\n",
    "Multimodal_dataset_PATH = \"/home/chenlequn/pan1/Dataset/Laser-Wire-DED-ThermalAudio-Dataset\"\n",
    "Annotation_file_path = os.path.join(Multimodal_dataset_PATH, \"Annotation\")\n",
    "Dataset_path = os.path.join(Multimodal_dataset_PATH, 'Dataset')\n",
    "final_audio_directory = os.path.join(Multimodal_dataset_PATH, 'Dataset', \"audio\")\n",
    "final_image_directory  = os.path.join(Multimodal_dataset_PATH, 'Dataset', \"thermal_images\")\n",
    "              \n",
    "## function for automatically save the diagram/graph into the folder \n",
    "def save_fig(fig_id, tight_layout=True, fig_extension=\"png\", resolution=300):\n",
    "    path = os.path.join(IMAGE_PATH, fig_id + \".\" + fig_extension)\n",
    "    print(\"Saving figure\", fig_id)\n",
    "    if tight_layout:\n",
    "        plt.tight_layout()\n",
    "    plt.savefig(path, format=fig_extension, dpi=resolution)\n",
    "\n",
    "# Ignore useless warnings (see SciPy issue #5998)\n",
    "import warnings\n",
    "warnings.filterwarnings(action=\"ignore\", message=\"^internal gelsd\")\n",
    "\n",
    "plt.rcParams[\"axes.edgecolor\"] = \"black\"\n",
    "plt.rcParams[\"axes.linewidth\"] = 2.50\n",
    "\n",
    "np.random.seed(0)"
   ]
  },
  {
   "cell_type": "code",
   "execution_count": 6,
   "metadata": {},
   "outputs": [],
   "source": [
    "classes = ('Balling', 'Non-defective', 'Laser-off')\n",
    "\n",
    "SAMPLE_RATE = 44100\n",
    "LEARNING_RATE = 0.00001\n",
    "BATCH_SIZE = 32\n",
    "EPOCHS = 20"
   ]
  },
  {
   "cell_type": "markdown",
   "metadata": {},
   "source": [
    "### Annotation file\n",
    "\n",
    "- Vision acoustic spatio-temporal registration has been done in our previous work. \n",
    "- The duration for each frame is 0.1 seconds (100 ms)"
   ]
  },
  {
   "cell_type": "code",
   "execution_count": 7,
   "metadata": {
    "scrolled": true,
    "tags": []
   },
   "outputs": [
    {
     "data": {
      "text/html": [
       "<div>\n",
       "<style scoped>\n",
       "    .dataframe tbody tr th:only-of-type {\n",
       "        vertical-align: middle;\n",
       "    }\n",
       "\n",
       "    .dataframe tbody tr th {\n",
       "        vertical-align: top;\n",
       "    }\n",
       "\n",
       "    .dataframe thead th {\n",
       "        text-align: right;\n",
       "    }\n",
       "</style>\n",
       "<table border=\"1\" class=\"dataframe\">\n",
       "  <thead>\n",
       "    <tr style=\"text-align: right;\">\n",
       "      <th></th>\n",
       "      <th>audio_name</th>\n",
       "      <th>image_name</th>\n",
       "      <th>experiment_number</th>\n",
       "      <th>label_1</th>\n",
       "      <th>label_2</th>\n",
       "      <th>label_3</th>\n",
       "      <th>rms_energy</th>\n",
       "      <th>amplitude_envelope_mean</th>\n",
       "      <th>amplitude_envelope_std</th>\n",
       "      <th>zero_crossing_rate</th>\n",
       "      <th>...</th>\n",
       "      <th>mfcc_8_mean</th>\n",
       "      <th>mfcc_8_std</th>\n",
       "      <th>mfcc_9_mean</th>\n",
       "      <th>mfcc_9_std</th>\n",
       "      <th>mfcc_10_mean</th>\n",
       "      <th>mfcc_10_std</th>\n",
       "      <th>mfcc_11_mean</th>\n",
       "      <th>mfcc_11_std</th>\n",
       "      <th>mfcc_12_mean</th>\n",
       "      <th>mfcc_12_std</th>\n",
       "    </tr>\n",
       "  </thead>\n",
       "  <tbody>\n",
       "    <tr>\n",
       "      <th>0</th>\n",
       "      <td>Exp_17_1_10.wav</td>\n",
       "      <td>Exp_17_1_10.jpg</td>\n",
       "      <td>17_1</td>\n",
       "      <td>Non-defective</td>\n",
       "      <td>NaN</td>\n",
       "      <td>NaN</td>\n",
       "      <td>0.031746</td>\n",
       "      <td>0.038982</td>\n",
       "      <td>0.014304</td>\n",
       "      <td>0.064399</td>\n",
       "      <td>...</td>\n",
       "      <td>-1.955670</td>\n",
       "      <td>7.565694</td>\n",
       "      <td>6.784209</td>\n",
       "      <td>13.263989</td>\n",
       "      <td>-4.241771</td>\n",
       "      <td>7.623967</td>\n",
       "      <td>10.760045</td>\n",
       "      <td>6.365362</td>\n",
       "      <td>-4.255302</td>\n",
       "      <td>6.843529</td>\n",
       "    </tr>\n",
       "    <tr>\n",
       "      <th>1</th>\n",
       "      <td>Exp_17_1_9.wav</td>\n",
       "      <td>Exp_17_1_9.jpg</td>\n",
       "      <td>17_1</td>\n",
       "      <td>Non-defective</td>\n",
       "      <td>NaN</td>\n",
       "      <td>NaN</td>\n",
       "      <td>0.042696</td>\n",
       "      <td>0.046830</td>\n",
       "      <td>0.018378</td>\n",
       "      <td>0.048526</td>\n",
       "      <td>...</td>\n",
       "      <td>2.400870</td>\n",
       "      <td>8.425775</td>\n",
       "      <td>10.965203</td>\n",
       "      <td>9.471119</td>\n",
       "      <td>-3.135444</td>\n",
       "      <td>8.011312</td>\n",
       "      <td>13.603483</td>\n",
       "      <td>6.959040</td>\n",
       "      <td>-5.711248</td>\n",
       "      <td>7.241501</td>\n",
       "    </tr>\n",
       "    <tr>\n",
       "      <th>2</th>\n",
       "      <td>Exp_17_1_8.wav</td>\n",
       "      <td>Exp_17_1_8.jpg</td>\n",
       "      <td>17_1</td>\n",
       "      <td>Non-defective</td>\n",
       "      <td>NaN</td>\n",
       "      <td>NaN</td>\n",
       "      <td>0.035057</td>\n",
       "      <td>0.042734</td>\n",
       "      <td>0.011573</td>\n",
       "      <td>0.075737</td>\n",
       "      <td>...</td>\n",
       "      <td>1.150261</td>\n",
       "      <td>9.403788</td>\n",
       "      <td>14.162999</td>\n",
       "      <td>9.516252</td>\n",
       "      <td>-8.762444</td>\n",
       "      <td>7.957384</td>\n",
       "      <td>12.542859</td>\n",
       "      <td>4.588312</td>\n",
       "      <td>-11.905286</td>\n",
       "      <td>5.806112</td>\n",
       "    </tr>\n",
       "    <tr>\n",
       "      <th>3</th>\n",
       "      <td>Exp_17_1_7.wav</td>\n",
       "      <td>Exp_17_1_7.jpg</td>\n",
       "      <td>17_1</td>\n",
       "      <td>Non-defective</td>\n",
       "      <td>NaN</td>\n",
       "      <td>NaN</td>\n",
       "      <td>0.030621</td>\n",
       "      <td>0.034609</td>\n",
       "      <td>0.014976</td>\n",
       "      <td>0.087528</td>\n",
       "      <td>...</td>\n",
       "      <td>-1.952435</td>\n",
       "      <td>7.164872</td>\n",
       "      <td>11.940722</td>\n",
       "      <td>13.199364</td>\n",
       "      <td>-8.201095</td>\n",
       "      <td>7.420465</td>\n",
       "      <td>10.894137</td>\n",
       "      <td>8.839649</td>\n",
       "      <td>-8.552934</td>\n",
       "      <td>7.470698</td>\n",
       "    </tr>\n",
       "    <tr>\n",
       "      <th>4</th>\n",
       "      <td>Exp_17_1_6.wav</td>\n",
       "      <td>Exp_17_1_6.jpg</td>\n",
       "      <td>17_1</td>\n",
       "      <td>Non-defective</td>\n",
       "      <td>NaN</td>\n",
       "      <td>NaN</td>\n",
       "      <td>0.029938</td>\n",
       "      <td>0.039680</td>\n",
       "      <td>0.008860</td>\n",
       "      <td>0.091837</td>\n",
       "      <td>...</td>\n",
       "      <td>-2.629555</td>\n",
       "      <td>10.869521</td>\n",
       "      <td>10.822444</td>\n",
       "      <td>7.406270</td>\n",
       "      <td>-7.824436</td>\n",
       "      <td>7.594238</td>\n",
       "      <td>11.877039</td>\n",
       "      <td>7.440609</td>\n",
       "      <td>-7.672489</td>\n",
       "      <td>7.914073</td>\n",
       "    </tr>\n",
       "    <tr>\n",
       "      <th>...</th>\n",
       "      <td>...</td>\n",
       "      <td>...</td>\n",
       "      <td>...</td>\n",
       "      <td>...</td>\n",
       "      <td>...</td>\n",
       "      <td>...</td>\n",
       "      <td>...</td>\n",
       "      <td>...</td>\n",
       "      <td>...</td>\n",
       "      <td>...</td>\n",
       "      <td>...</td>\n",
       "      <td>...</td>\n",
       "      <td>...</td>\n",
       "      <td>...</td>\n",
       "      <td>...</td>\n",
       "      <td>...</td>\n",
       "      <td>...</td>\n",
       "      <td>...</td>\n",
       "      <td>...</td>\n",
       "      <td>...</td>\n",
       "      <td>...</td>\n",
       "    </tr>\n",
       "    <tr>\n",
       "      <th>6812</th>\n",
       "      <td>Exp_April_16_test_4_4.wav</td>\n",
       "      <td>Exp_April_16_test_4_4.jpg</td>\n",
       "      <td>April_16_test_4</td>\n",
       "      <td>Laser-off</td>\n",
       "      <td>Shielding Gas-off</td>\n",
       "      <td>NaN</td>\n",
       "      <td>0.012902</td>\n",
       "      <td>0.015071</td>\n",
       "      <td>0.005879</td>\n",
       "      <td>0.099093</td>\n",
       "      <td>...</td>\n",
       "      <td>2.168951</td>\n",
       "      <td>6.490287</td>\n",
       "      <td>1.928032</td>\n",
       "      <td>8.401035</td>\n",
       "      <td>-1.724736</td>\n",
       "      <td>10.288368</td>\n",
       "      <td>-0.060851</td>\n",
       "      <td>8.381465</td>\n",
       "      <td>-12.953316</td>\n",
       "      <td>5.754806</td>\n",
       "    </tr>\n",
       "    <tr>\n",
       "      <th>6813</th>\n",
       "      <td>Exp_April_16_test_4_1.wav</td>\n",
       "      <td>Exp_April_16_test_4_1.jpg</td>\n",
       "      <td>April_16_test_4</td>\n",
       "      <td>Laser-off</td>\n",
       "      <td>Shielding Gas-off</td>\n",
       "      <td>NaN</td>\n",
       "      <td>0.013222</td>\n",
       "      <td>0.015257</td>\n",
       "      <td>0.005407</td>\n",
       "      <td>0.084127</td>\n",
       "      <td>...</td>\n",
       "      <td>0.476796</td>\n",
       "      <td>9.227147</td>\n",
       "      <td>0.945553</td>\n",
       "      <td>7.366714</td>\n",
       "      <td>-1.322515</td>\n",
       "      <td>7.652929</td>\n",
       "      <td>-0.733449</td>\n",
       "      <td>5.396196</td>\n",
       "      <td>-14.786466</td>\n",
       "      <td>7.339162</td>\n",
       "    </tr>\n",
       "    <tr>\n",
       "      <th>6814</th>\n",
       "      <td>Exp_April_16_test_4_2.wav</td>\n",
       "      <td>Exp_April_16_test_4_2.jpg</td>\n",
       "      <td>April_16_test_4</td>\n",
       "      <td>Laser-off</td>\n",
       "      <td>Shielding Gas-off</td>\n",
       "      <td>NaN</td>\n",
       "      <td>0.012246</td>\n",
       "      <td>0.014805</td>\n",
       "      <td>0.005100</td>\n",
       "      <td>0.093878</td>\n",
       "      <td>...</td>\n",
       "      <td>-0.026498</td>\n",
       "      <td>7.503857</td>\n",
       "      <td>2.117017</td>\n",
       "      <td>7.400688</td>\n",
       "      <td>-2.097013</td>\n",
       "      <td>8.523264</td>\n",
       "      <td>0.141502</td>\n",
       "      <td>6.387466</td>\n",
       "      <td>-10.734591</td>\n",
       "      <td>8.097878</td>\n",
       "    </tr>\n",
       "    <tr>\n",
       "      <th>6815</th>\n",
       "      <td>Exp_April_16_test_4_3.wav</td>\n",
       "      <td>Exp_April_16_test_4_3.jpg</td>\n",
       "      <td>April_16_test_4</td>\n",
       "      <td>Laser-off</td>\n",
       "      <td>Shielding Gas-off</td>\n",
       "      <td>NaN</td>\n",
       "      <td>0.013367</td>\n",
       "      <td>0.016546</td>\n",
       "      <td>0.005384</td>\n",
       "      <td>0.087302</td>\n",
       "      <td>...</td>\n",
       "      <td>1.089101</td>\n",
       "      <td>6.276635</td>\n",
       "      <td>0.685349</td>\n",
       "      <td>5.679959</td>\n",
       "      <td>-5.039695</td>\n",
       "      <td>5.392179</td>\n",
       "      <td>-2.741401</td>\n",
       "      <td>4.763264</td>\n",
       "      <td>-13.847133</td>\n",
       "      <td>7.911690</td>\n",
       "    </tr>\n",
       "    <tr>\n",
       "      <th>6816</th>\n",
       "      <td>Exp_April_16_test_4_5.wav</td>\n",
       "      <td>Exp_April_16_test_4_5.jpg</td>\n",
       "      <td>April_16_test_4</td>\n",
       "      <td>Laser-off</td>\n",
       "      <td>Shielding Gas-off</td>\n",
       "      <td>NaN</td>\n",
       "      <td>0.012981</td>\n",
       "      <td>0.015662</td>\n",
       "      <td>0.005640</td>\n",
       "      <td>0.076417</td>\n",
       "      <td>...</td>\n",
       "      <td>1.269098</td>\n",
       "      <td>6.512943</td>\n",
       "      <td>2.457465</td>\n",
       "      <td>8.290963</td>\n",
       "      <td>-2.943163</td>\n",
       "      <td>6.821808</td>\n",
       "      <td>-1.925373</td>\n",
       "      <td>5.722186</td>\n",
       "      <td>-13.050309</td>\n",
       "      <td>7.418693</td>\n",
       "    </tr>\n",
       "  </tbody>\n",
       "</table>\n",
       "<p>6817 rows × 89 columns</p>\n",
       "</div>"
      ],
      "text/plain": [
       "                     audio_name                 image_name experiment_number  \\\n",
       "0               Exp_17_1_10.wav            Exp_17_1_10.jpg              17_1   \n",
       "1                Exp_17_1_9.wav             Exp_17_1_9.jpg              17_1   \n",
       "2                Exp_17_1_8.wav             Exp_17_1_8.jpg              17_1   \n",
       "3                Exp_17_1_7.wav             Exp_17_1_7.jpg              17_1   \n",
       "4                Exp_17_1_6.wav             Exp_17_1_6.jpg              17_1   \n",
       "...                         ...                        ...               ...   \n",
       "6812  Exp_April_16_test_4_4.wav  Exp_April_16_test_4_4.jpg   April_16_test_4   \n",
       "6813  Exp_April_16_test_4_1.wav  Exp_April_16_test_4_1.jpg   April_16_test_4   \n",
       "6814  Exp_April_16_test_4_2.wav  Exp_April_16_test_4_2.jpg   April_16_test_4   \n",
       "6815  Exp_April_16_test_4_3.wav  Exp_April_16_test_4_3.jpg   April_16_test_4   \n",
       "6816  Exp_April_16_test_4_5.wav  Exp_April_16_test_4_5.jpg   April_16_test_4   \n",
       "\n",
       "            label_1            label_2 label_3  rms_energy  \\\n",
       "0     Non-defective                NaN     NaN    0.031746   \n",
       "1     Non-defective                NaN     NaN    0.042696   \n",
       "2     Non-defective                NaN     NaN    0.035057   \n",
       "3     Non-defective                NaN     NaN    0.030621   \n",
       "4     Non-defective                NaN     NaN    0.029938   \n",
       "...             ...                ...     ...         ...   \n",
       "6812      Laser-off  Shielding Gas-off     NaN    0.012902   \n",
       "6813      Laser-off  Shielding Gas-off     NaN    0.013222   \n",
       "6814      Laser-off  Shielding Gas-off     NaN    0.012246   \n",
       "6815      Laser-off  Shielding Gas-off     NaN    0.013367   \n",
       "6816      Laser-off  Shielding Gas-off     NaN    0.012981   \n",
       "\n",
       "      amplitude_envelope_mean  amplitude_envelope_std  zero_crossing_rate  \\\n",
       "0                    0.038982                0.014304            0.064399   \n",
       "1                    0.046830                0.018378            0.048526   \n",
       "2                    0.042734                0.011573            0.075737   \n",
       "3                    0.034609                0.014976            0.087528   \n",
       "4                    0.039680                0.008860            0.091837   \n",
       "...                       ...                     ...                 ...   \n",
       "6812                 0.015071                0.005879            0.099093   \n",
       "6813                 0.015257                0.005407            0.084127   \n",
       "6814                 0.014805                0.005100            0.093878   \n",
       "6815                 0.016546                0.005384            0.087302   \n",
       "6816                 0.015662                0.005640            0.076417   \n",
       "\n",
       "      ...  mfcc_8_mean  mfcc_8_std  mfcc_9_mean  mfcc_9_std  mfcc_10_mean  \\\n",
       "0     ...    -1.955670    7.565694     6.784209   13.263989     -4.241771   \n",
       "1     ...     2.400870    8.425775    10.965203    9.471119     -3.135444   \n",
       "2     ...     1.150261    9.403788    14.162999    9.516252     -8.762444   \n",
       "3     ...    -1.952435    7.164872    11.940722   13.199364     -8.201095   \n",
       "4     ...    -2.629555   10.869521    10.822444    7.406270     -7.824436   \n",
       "...   ...          ...         ...          ...         ...           ...   \n",
       "6812  ...     2.168951    6.490287     1.928032    8.401035     -1.724736   \n",
       "6813  ...     0.476796    9.227147     0.945553    7.366714     -1.322515   \n",
       "6814  ...    -0.026498    7.503857     2.117017    7.400688     -2.097013   \n",
       "6815  ...     1.089101    6.276635     0.685349    5.679959     -5.039695   \n",
       "6816  ...     1.269098    6.512943     2.457465    8.290963     -2.943163   \n",
       "\n",
       "      mfcc_10_std  mfcc_11_mean  mfcc_11_std  mfcc_12_mean  mfcc_12_std  \n",
       "0        7.623967     10.760045     6.365362     -4.255302     6.843529  \n",
       "1        8.011312     13.603483     6.959040     -5.711248     7.241501  \n",
       "2        7.957384     12.542859     4.588312    -11.905286     5.806112  \n",
       "3        7.420465     10.894137     8.839649     -8.552934     7.470698  \n",
       "4        7.594238     11.877039     7.440609     -7.672489     7.914073  \n",
       "...           ...           ...          ...           ...          ...  \n",
       "6812    10.288368     -0.060851     8.381465    -12.953316     5.754806  \n",
       "6813     7.652929     -0.733449     5.396196    -14.786466     7.339162  \n",
       "6814     8.523264      0.141502     6.387466    -10.734591     8.097878  \n",
       "6815     5.392179     -2.741401     4.763264    -13.847133     7.911690  \n",
       "6816     6.821808     -1.925373     5.722186    -13.050309     7.418693  \n",
       "\n",
       "[6817 rows x 89 columns]"
      ]
     },
     "execution_count": 7,
     "metadata": {},
     "output_type": "execute_result"
    }
   ],
   "source": [
    "# Read the data back from the HDF5 file into a new DataFrame\n",
    "# Read the data back from the HDF5 file into a new DataFrame\n",
    "df_audio_dataset = pd.read_hdf(os.path.join(Dataset_path, 'df_audio_dataset_with_annotations(raw_audio).h5'), key='df')\n",
    "\n",
    "df_audio_dataset = df_audio_dataset.dropna(subset=['label_1'])\n",
    "\n",
    "df_audio_dataset"
   ]
  },
  {
   "cell_type": "code",
   "execution_count": 82,
   "metadata": {},
   "outputs": [
    {
     "name": "stdout",
     "output_type": "stream",
     "text": [
      "[ 759 3787 2271]\n"
     ]
    }
   ],
   "source": [
    "# Get the labels and count the number of samples for each class\n",
    "# labels = df_audio_dataset['label_1'].values\n",
    "labels = df_audio_dataset.sort_values(by='label_1')['label_1'].tolist()\n",
    "label_counts = np.unique(labels, return_counts=True)[1]\n",
    "unique_labels = df_audio_dataset.groupby(['label_1']).size()\n",
    "print (label_counts)"
   ]
  },
  {
   "cell_type": "code",
   "execution_count": 83,
   "metadata": {},
   "outputs": [
    {
     "data": {
      "text/plain": [
       "label_1\n",
       "Balling           759\n",
       "Laser-off        3787\n",
       "Non-defective    2271\n",
       "dtype: int64"
      ]
     },
     "execution_count": 83,
     "metadata": {},
     "output_type": "execute_result"
    }
   ],
   "source": [
    "unique_labels"
   ]
  },
  {
   "cell_type": "markdown",
   "metadata": {},
   "source": [
    "#### Basline accuracy\n",
    "The baseline accuracy in this multi-class classificiation problem is **55%**, which is the accuracy of trivially predicting the most-frequent class (classify to the largest class– in other words)."
   ]
  },
  {
   "cell_type": "code",
   "execution_count": 10,
   "metadata": {},
   "outputs": [
    {
     "data": {
      "text/plain": [
       "label_1\n",
       "Balling          11.1\n",
       "Laser-off        55.6\n",
       "Non-defective    33.3\n",
       "Name: label_1, dtype: float64"
      ]
     },
     "execution_count": 10,
     "metadata": {},
     "output_type": "execute_result"
    }
   ],
   "source": [
    "### Get the percentage distribution of each category\n",
    "round(df_audio_dataset.groupby('label_1')[\"label_1\"].count()/df_audio_dataset.shape[0]*100, 1)"
   ]
  },
  {
   "cell_type": "code",
   "execution_count": 11,
   "metadata": {
    "scrolled": true,
    "tags": []
   },
   "outputs": [
    {
     "name": "stdout",
     "output_type": "stream",
     "text": [
      "Saving figure dataset_distribution.png\n"
     ]
    },
    {
     "data": {
      "image/png": "[encoded data removed]",
      "text/plain": [
       "<Figure size 700x600 with 1 Axes>"
      ]
     },
     "metadata": {},
     "output_type": "display_data"
    }
   ],
   "source": [
    "filename = 'dataset_distribution'\n",
    "plot_data_distribution(df_audio_dataset, 'label_1', \n",
    "                       'Distribution of Dataset per category', filename)\n",
    "save_fig(f\"{filename}.png\")"
   ]
  },
  {
   "cell_type": "markdown",
   "metadata": {},
   "source": [
    "## Plotting $U_1$ (scalogram) and $S_1$ (scattering)"
   ]
  },
  {
   "cell_type": "code",
   "execution_count": 12,
   "metadata": {
    "id": "RHQ1I6kP14no"
   },
   "outputs": [],
   "source": [
    "def plot_u1_s1(x, sr, u1, s1, scat1d_u1, scat1d, title=\"\"):\n",
    "    # Plot U1\n",
    "    filter_freqs = [filter_[\"xi\"] * sr for filter_ in scat1d_u1.psi1_f]\n",
    "    u1 = scat1d_u1(x)\n",
    "    u1 = u1[1:len(filter_freqs) + 1, :]\n",
    "    #   print(f\"U1 shape: {u1.shape}\")\n",
    "    plot_scalogram(torch.log1p(u1), sr=sr, y_coords=filter_freqs, title=f\"U1 of {title}\")\n",
    "\n",
    "    # Plot S1\n",
    "    filter_freqs = [filter_[\"xi\"] * sr for filter_ in scat1d.psi1_f]\n",
    "    s1 = scat1d(x)\n",
    "    s1_max = s1.max()\n",
    "    s1 = s1[:len(filter_freqs), :]\n",
    "    #   print(f\"S1 shape: {s1.shape}\")\n",
    "    plot_scalogram(torch.log1p(s1), sr=sr, y_coords=filter_freqs, hop_len=2**J, title=f\"S1 of {title}\")\n",
    "\n",
    "    \n",
    "def plot_s2(s2, sr, scat1d_o2, title, save_dir=\"img\"):\n",
    "    os.makedirs(save_dir, exist_ok=True)\n",
    "    create_s2_gif(s2,\n",
    "                  sr,\n",
    "                  scat1d_o2.psi1_f,\n",
    "                  scat1d_o2.psi2_f,\n",
    "                  save_dir=save_dir,\n",
    "                  save_name=title,\n",
    "                  title_prefix=title,\n",
    "                  use_vmax=True,\n",
    "                  discard_empty=True,\n",
    "                  fps=10,\n",
    "                  hop_len=scat1d_o2.T)\n",
    "    img = display_gif(f\"{save_dir}/{title}.gif\")\n",
    "    return img\n",
    "\n",
    "\n",
    "def display_gif(fpath):\n",
    "    Image(url='...')  # external\n",
    "    return Image(open(fpath, 'rb').read())  # local"
   ]
  },
  {
   "cell_type": "markdown",
   "metadata": {},
   "source": [
    "## Listen to and visualize each type of sound\n",
    "\n",
    "### Adjusting Scattering Parameters\n",
    "To adjust the scattering parameters appropriately that fit the dataset:\n",
    "\n",
    "1. Determine the appropriate $N$: \n",
    "\n",
    "First, calculate the number of samples in your audio files based on their duration and sample rate. In our case, audi signals are sampled at 44.1 kHz, the number of samples for 100 ms would be:\n",
    "$ 𝑁 = 0.1 × 44100 = 4410 $  \n",
    " \n",
    "\n",
    "2. Adjust $J$ and $T$: \n",
    "\n",
    "- Given the new value of $N$, you'll want to reduce $J$ so that the maximum scale of the transform does not exceed the length of your signal. \n",
    "- A rule of thumb is to ensure that **$2^J$ is much less than N**\n",
    "\n",
    "- Set T: This parameter should also be set to a value that makes sense given the new N. Often, \n",
    "$T = 2^J$\n",
    "  is a practical starting point."
   ]
  },
  {
   "cell_type": "code",
   "execution_count": 13,
   "metadata": {},
   "outputs": [],
   "source": [
    "# Constants\n",
    "sr = 44100  # Sample rate\n",
    "duration = 0.1  # Duration in seconds: Length of the signal to process\n",
    "N = int(sr * duration) # Number of samples: int(sr * duration), 2*12\n",
    "J = int(np.log2(N)) - 5  # Adjust J based on N, J is  Scale of scattering\n",
    "Q = (8, 1)  # Adjust quality factor if necessary"
   ]
  },
  {
   "cell_type": "code",
   "execution_count": 14,
   "metadata": {},
   "outputs": [
    {
     "data": {
      "text/plain": [
       "4096"
      ]
     },
     "execution_count": 14,
     "metadata": {},
     "output_type": "execute_result"
    }
   ],
   "source": [
    "2**12"
   ]
  },
  {
   "cell_type": "code",
   "execution_count": 15,
   "metadata": {},
   "outputs": [
    {
     "data": {
      "text/plain": [
       "7"
      ]
     },
     "execution_count": 15,
     "metadata": {},
     "output_type": "execute_result"
    }
   ],
   "source": [
    "J"
   ]
  },
  {
   "cell_type": "code",
   "execution_count": 78,
   "metadata": {},
   "outputs": [
    {
     "name": "stdout",
     "output_type": "stream",
     "text": [
      "Balling\n",
      "Laser-off\n",
      "Non-defective\n"
     ]
    }
   ],
   "source": [
    "for label in np.unique(labels):\n",
    "    print(label)\n",
    "    sample = df_audio_dataset[df_audio_dataset['label_1'] == label].sample(n=1)\n",
    "    sample"
   ]
  },
  {
   "cell_type": "code",
   "execution_count": 92,
   "metadata": {},
   "outputs": [
    {
     "data": {
      "text/html": [
       "<div>\n",
       "<style scoped>\n",
       "    .dataframe tbody tr th:only-of-type {\n",
       "        vertical-align: middle;\n",
       "    }\n",
       "\n",
       "    .dataframe tbody tr th {\n",
       "        vertical-align: top;\n",
       "    }\n",
       "\n",
       "    .dataframe thead th {\n",
       "        text-align: right;\n",
       "    }\n",
       "</style>\n",
       "<table border=\"1\" class=\"dataframe\">\n",
       "  <thead>\n",
       "    <tr style=\"text-align: right;\">\n",
       "      <th></th>\n",
       "      <th>audio_name</th>\n",
       "      <th>image_name</th>\n",
       "      <th>experiment_number</th>\n",
       "      <th>label_1</th>\n",
       "      <th>label_2</th>\n",
       "      <th>label_3</th>\n",
       "      <th>rms_energy</th>\n",
       "      <th>amplitude_envelope_mean</th>\n",
       "      <th>amplitude_envelope_std</th>\n",
       "      <th>zero_crossing_rate</th>\n",
       "      <th>...</th>\n",
       "      <th>mfcc_8_mean</th>\n",
       "      <th>mfcc_8_std</th>\n",
       "      <th>mfcc_9_mean</th>\n",
       "      <th>mfcc_9_std</th>\n",
       "      <th>mfcc_10_mean</th>\n",
       "      <th>mfcc_10_std</th>\n",
       "      <th>mfcc_11_mean</th>\n",
       "      <th>mfcc_11_std</th>\n",
       "      <th>mfcc_12_mean</th>\n",
       "      <th>mfcc_12_std</th>\n",
       "    </tr>\n",
       "  </thead>\n",
       "  <tbody>\n",
       "    <tr>\n",
       "      <th>0</th>\n",
       "      <td>Exp_17_1_10.wav</td>\n",
       "      <td>Exp_17_1_10.jpg</td>\n",
       "      <td>17_1</td>\n",
       "      <td>Non-defective</td>\n",
       "      <td>NaN</td>\n",
       "      <td>NaN</td>\n",
       "      <td>0.031746</td>\n",
       "      <td>0.038982</td>\n",
       "      <td>0.014304</td>\n",
       "      <td>0.064399</td>\n",
       "      <td>...</td>\n",
       "      <td>-1.955670</td>\n",
       "      <td>7.565694</td>\n",
       "      <td>6.784209</td>\n",
       "      <td>13.263989</td>\n",
       "      <td>-4.241771</td>\n",
       "      <td>7.623967</td>\n",
       "      <td>10.760045</td>\n",
       "      <td>6.365362</td>\n",
       "      <td>-4.255302</td>\n",
       "      <td>6.843529</td>\n",
       "    </tr>\n",
       "    <tr>\n",
       "      <th>1</th>\n",
       "      <td>Exp_17_1_9.wav</td>\n",
       "      <td>Exp_17_1_9.jpg</td>\n",
       "      <td>17_1</td>\n",
       "      <td>Non-defective</td>\n",
       "      <td>NaN</td>\n",
       "      <td>NaN</td>\n",
       "      <td>0.042696</td>\n",
       "      <td>0.046830</td>\n",
       "      <td>0.018378</td>\n",
       "      <td>0.048526</td>\n",
       "      <td>...</td>\n",
       "      <td>2.400870</td>\n",
       "      <td>8.425775</td>\n",
       "      <td>10.965203</td>\n",
       "      <td>9.471119</td>\n",
       "      <td>-3.135444</td>\n",
       "      <td>8.011312</td>\n",
       "      <td>13.603483</td>\n",
       "      <td>6.959040</td>\n",
       "      <td>-5.711248</td>\n",
       "      <td>7.241501</td>\n",
       "    </tr>\n",
       "    <tr>\n",
       "      <th>2</th>\n",
       "      <td>Exp_17_1_8.wav</td>\n",
       "      <td>Exp_17_1_8.jpg</td>\n",
       "      <td>17_1</td>\n",
       "      <td>Non-defective</td>\n",
       "      <td>NaN</td>\n",
       "      <td>NaN</td>\n",
       "      <td>0.035057</td>\n",
       "      <td>0.042734</td>\n",
       "      <td>0.011573</td>\n",
       "      <td>0.075737</td>\n",
       "      <td>...</td>\n",
       "      <td>1.150261</td>\n",
       "      <td>9.403788</td>\n",
       "      <td>14.162999</td>\n",
       "      <td>9.516252</td>\n",
       "      <td>-8.762444</td>\n",
       "      <td>7.957384</td>\n",
       "      <td>12.542859</td>\n",
       "      <td>4.588312</td>\n",
       "      <td>-11.905286</td>\n",
       "      <td>5.806112</td>\n",
       "    </tr>\n",
       "    <tr>\n",
       "      <th>3</th>\n",
       "      <td>Exp_17_1_7.wav</td>\n",
       "      <td>Exp_17_1_7.jpg</td>\n",
       "      <td>17_1</td>\n",
       "      <td>Non-defective</td>\n",
       "      <td>NaN</td>\n",
       "      <td>NaN</td>\n",
       "      <td>0.030621</td>\n",
       "      <td>0.034609</td>\n",
       "      <td>0.014976</td>\n",
       "      <td>0.087528</td>\n",
       "      <td>...</td>\n",
       "      <td>-1.952435</td>\n",
       "      <td>7.164872</td>\n",
       "      <td>11.940722</td>\n",
       "      <td>13.199364</td>\n",
       "      <td>-8.201095</td>\n",
       "      <td>7.420465</td>\n",
       "      <td>10.894137</td>\n",
       "      <td>8.839649</td>\n",
       "      <td>-8.552934</td>\n",
       "      <td>7.470698</td>\n",
       "    </tr>\n",
       "    <tr>\n",
       "      <th>4</th>\n",
       "      <td>Exp_17_1_6.wav</td>\n",
       "      <td>Exp_17_1_6.jpg</td>\n",
       "      <td>17_1</td>\n",
       "      <td>Non-defective</td>\n",
       "      <td>NaN</td>\n",
       "      <td>NaN</td>\n",
       "      <td>0.029938</td>\n",
       "      <td>0.039680</td>\n",
       "      <td>0.008860</td>\n",
       "      <td>0.091837</td>\n",
       "      <td>...</td>\n",
       "      <td>-2.629555</td>\n",
       "      <td>10.869521</td>\n",
       "      <td>10.822444</td>\n",
       "      <td>7.406270</td>\n",
       "      <td>-7.824436</td>\n",
       "      <td>7.594238</td>\n",
       "      <td>11.877039</td>\n",
       "      <td>7.440609</td>\n",
       "      <td>-7.672489</td>\n",
       "      <td>7.914073</td>\n",
       "    </tr>\n",
       "    <tr>\n",
       "      <th>...</th>\n",
       "      <td>...</td>\n",
       "      <td>...</td>\n",
       "      <td>...</td>\n",
       "      <td>...</td>\n",
       "      <td>...</td>\n",
       "      <td>...</td>\n",
       "      <td>...</td>\n",
       "      <td>...</td>\n",
       "      <td>...</td>\n",
       "      <td>...</td>\n",
       "      <td>...</td>\n",
       "      <td>...</td>\n",
       "      <td>...</td>\n",
       "      <td>...</td>\n",
       "      <td>...</td>\n",
       "      <td>...</td>\n",
       "      <td>...</td>\n",
       "      <td>...</td>\n",
       "      <td>...</td>\n",
       "      <td>...</td>\n",
       "      <td>...</td>\n",
       "    </tr>\n",
       "    <tr>\n",
       "      <th>6812</th>\n",
       "      <td>Exp_April_16_test_4_4.wav</td>\n",
       "      <td>Exp_April_16_test_4_4.jpg</td>\n",
       "      <td>April_16_test_4</td>\n",
       "      <td>Laser-off</td>\n",
       "      <td>Shielding Gas-off</td>\n",
       "      <td>NaN</td>\n",
       "      <td>0.012902</td>\n",
       "      <td>0.015071</td>\n",
       "      <td>0.005879</td>\n",
       "      <td>0.099093</td>\n",
       "      <td>...</td>\n",
       "      <td>2.168951</td>\n",
       "      <td>6.490287</td>\n",
       "      <td>1.928032</td>\n",
       "      <td>8.401035</td>\n",
       "      <td>-1.724736</td>\n",
       "      <td>10.288368</td>\n",
       "      <td>-0.060851</td>\n",
       "      <td>8.381465</td>\n",
       "      <td>-12.953316</td>\n",
       "      <td>5.754806</td>\n",
       "    </tr>\n",
       "    <tr>\n",
       "      <th>6813</th>\n",
       "      <td>Exp_April_16_test_4_1.wav</td>\n",
       "      <td>Exp_April_16_test_4_1.jpg</td>\n",
       "      <td>April_16_test_4</td>\n",
       "      <td>Laser-off</td>\n",
       "      <td>Shielding Gas-off</td>\n",
       "      <td>NaN</td>\n",
       "      <td>0.013222</td>\n",
       "      <td>0.015257</td>\n",
       "      <td>0.005407</td>\n",
       "      <td>0.084127</td>\n",
       "      <td>...</td>\n",
       "      <td>0.476796</td>\n",
       "      <td>9.227147</td>\n",
       "      <td>0.945553</td>\n",
       "      <td>7.366714</td>\n",
       "      <td>-1.322515</td>\n",
       "      <td>7.652929</td>\n",
       "      <td>-0.733449</td>\n",
       "      <td>5.396196</td>\n",
       "      <td>-14.786466</td>\n",
       "      <td>7.339162</td>\n",
       "    </tr>\n",
       "    <tr>\n",
       "      <th>6814</th>\n",
       "      <td>Exp_April_16_test_4_2.wav</td>\n",
       "      <td>Exp_April_16_test_4_2.jpg</td>\n",
       "      <td>April_16_test_4</td>\n",
       "      <td>Laser-off</td>\n",
       "      <td>Shielding Gas-off</td>\n",
       "      <td>NaN</td>\n",
       "      <td>0.012246</td>\n",
       "      <td>0.014805</td>\n",
       "      <td>0.005100</td>\n",
       "      <td>0.093878</td>\n",
       "      <td>...</td>\n",
       "      <td>-0.026498</td>\n",
       "      <td>7.503857</td>\n",
       "      <td>2.117017</td>\n",
       "      <td>7.400688</td>\n",
       "      <td>-2.097013</td>\n",
       "      <td>8.523264</td>\n",
       "      <td>0.141502</td>\n",
       "      <td>6.387466</td>\n",
       "      <td>-10.734591</td>\n",
       "      <td>8.097878</td>\n",
       "    </tr>\n",
       "    <tr>\n",
       "      <th>6815</th>\n",
       "      <td>Exp_April_16_test_4_3.wav</td>\n",
       "      <td>Exp_April_16_test_4_3.jpg</td>\n",
       "      <td>April_16_test_4</td>\n",
       "      <td>Laser-off</td>\n",
       "      <td>Shielding Gas-off</td>\n",
       "      <td>NaN</td>\n",
       "      <td>0.013367</td>\n",
       "      <td>0.016546</td>\n",
       "      <td>0.005384</td>\n",
       "      <td>0.087302</td>\n",
       "      <td>...</td>\n",
       "      <td>1.089101</td>\n",
       "      <td>6.276635</td>\n",
       "      <td>0.685349</td>\n",
       "      <td>5.679959</td>\n",
       "      <td>-5.039695</td>\n",
       "      <td>5.392179</td>\n",
       "      <td>-2.741401</td>\n",
       "      <td>4.763264</td>\n",
       "      <td>-13.847133</td>\n",
       "      <td>7.911690</td>\n",
       "    </tr>\n",
       "    <tr>\n",
       "      <th>6816</th>\n",
       "      <td>Exp_April_16_test_4_5.wav</td>\n",
       "      <td>Exp_April_16_test_4_5.jpg</td>\n",
       "      <td>April_16_test_4</td>\n",
       "      <td>Laser-off</td>\n",
       "      <td>Shielding Gas-off</td>\n",
       "      <td>NaN</td>\n",
       "      <td>0.012981</td>\n",
       "      <td>0.015662</td>\n",
       "      <td>0.005640</td>\n",
       "      <td>0.076417</td>\n",
       "      <td>...</td>\n",
       "      <td>1.269098</td>\n",
       "      <td>6.512943</td>\n",
       "      <td>2.457465</td>\n",
       "      <td>8.290963</td>\n",
       "      <td>-2.943163</td>\n",
       "      <td>6.821808</td>\n",
       "      <td>-1.925373</td>\n",
       "      <td>5.722186</td>\n",
       "      <td>-13.050309</td>\n",
       "      <td>7.418693</td>\n",
       "    </tr>\n",
       "  </tbody>\n",
       "</table>\n",
       "<p>6817 rows × 89 columns</p>\n",
       "</div>"
      ],
      "text/plain": [
       "                     audio_name                 image_name experiment_number  \\\n",
       "0               Exp_17_1_10.wav            Exp_17_1_10.jpg              17_1   \n",
       "1                Exp_17_1_9.wav             Exp_17_1_9.jpg              17_1   \n",
       "2                Exp_17_1_8.wav             Exp_17_1_8.jpg              17_1   \n",
       "3                Exp_17_1_7.wav             Exp_17_1_7.jpg              17_1   \n",
       "4                Exp_17_1_6.wav             Exp_17_1_6.jpg              17_1   \n",
       "...                         ...                        ...               ...   \n",
       "6812  Exp_April_16_test_4_4.wav  Exp_April_16_test_4_4.jpg   April_16_test_4   \n",
       "6813  Exp_April_16_test_4_1.wav  Exp_April_16_test_4_1.jpg   April_16_test_4   \n",
       "6814  Exp_April_16_test_4_2.wav  Exp_April_16_test_4_2.jpg   April_16_test_4   \n",
       "6815  Exp_April_16_test_4_3.wav  Exp_April_16_test_4_3.jpg   April_16_test_4   \n",
       "6816  Exp_April_16_test_4_5.wav  Exp_April_16_test_4_5.jpg   April_16_test_4   \n",
       "\n",
       "            label_1            label_2 label_3  rms_energy  \\\n",
       "0     Non-defective                NaN     NaN    0.031746   \n",
       "1     Non-defective                NaN     NaN    0.042696   \n",
       "2     Non-defective                NaN     NaN    0.035057   \n",
       "3     Non-defective                NaN     NaN    0.030621   \n",
       "4     Non-defective                NaN     NaN    0.029938   \n",
       "...             ...                ...     ...         ...   \n",
       "6812      Laser-off  Shielding Gas-off     NaN    0.012902   \n",
       "6813      Laser-off  Shielding Gas-off     NaN    0.013222   \n",
       "6814      Laser-off  Shielding Gas-off     NaN    0.012246   \n",
       "6815      Laser-off  Shielding Gas-off     NaN    0.013367   \n",
       "6816      Laser-off  Shielding Gas-off     NaN    0.012981   \n",
       "\n",
       "      amplitude_envelope_mean  amplitude_envelope_std  zero_crossing_rate  \\\n",
       "0                    0.038982                0.014304            0.064399   \n",
       "1                    0.046830                0.018378            0.048526   \n",
       "2                    0.042734                0.011573            0.075737   \n",
       "3                    0.034609                0.014976            0.087528   \n",
       "4                    0.039680                0.008860            0.091837   \n",
       "...                       ...                     ...                 ...   \n",
       "6812                 0.015071                0.005879            0.099093   \n",
       "6813                 0.015257                0.005407            0.084127   \n",
       "6814                 0.014805                0.005100            0.093878   \n",
       "6815                 0.016546                0.005384            0.087302   \n",
       "6816                 0.015662                0.005640            0.076417   \n",
       "\n",
       "      ...  mfcc_8_mean  mfcc_8_std  mfcc_9_mean  mfcc_9_std  mfcc_10_mean  \\\n",
       "0     ...    -1.955670    7.565694     6.784209   13.263989     -4.241771   \n",
       "1     ...     2.400870    8.425775    10.965203    9.471119     -3.135444   \n",
       "2     ...     1.150261    9.403788    14.162999    9.516252     -8.762444   \n",
       "3     ...    -1.952435    7.164872    11.940722   13.199364     -8.201095   \n",
       "4     ...    -2.629555   10.869521    10.822444    7.406270     -7.824436   \n",
       "...   ...          ...         ...          ...         ...           ...   \n",
       "6812  ...     2.168951    6.490287     1.928032    8.401035     -1.724736   \n",
       "6813  ...     0.476796    9.227147     0.945553    7.366714     -1.322515   \n",
       "6814  ...    -0.026498    7.503857     2.117017    7.400688     -2.097013   \n",
       "6815  ...     1.089101    6.276635     0.685349    5.679959     -5.039695   \n",
       "6816  ...     1.269098    6.512943     2.457465    8.290963     -2.943163   \n",
       "\n",
       "      mfcc_10_std  mfcc_11_mean  mfcc_11_std  mfcc_12_mean  mfcc_12_std  \n",
       "0        7.623967     10.760045     6.365362     -4.255302     6.843529  \n",
       "1        8.011312     13.603483     6.959040     -5.711248     7.241501  \n",
       "2        7.957384     12.542859     4.588312    -11.905286     5.806112  \n",
       "3        7.420465     10.894137     8.839649     -8.552934     7.470698  \n",
       "4        7.594238     11.877039     7.440609     -7.672489     7.914073  \n",
       "...           ...           ...          ...           ...          ...  \n",
       "6812    10.288368     -0.060851     8.381465    -12.953316     5.754806  \n",
       "6813     7.652929     -0.733449     5.396196    -14.786466     7.339162  \n",
       "6814     8.523264      0.141502     6.387466    -10.734591     8.097878  \n",
       "6815     5.392179     -2.741401     4.763264    -13.847133     7.911690  \n",
       "6816     6.821808     -1.925373     5.722186    -13.050309     7.418693  \n",
       "\n",
       "[6817 rows x 89 columns]"
      ]
     },
     "execution_count": 92,
     "metadata": {},
     "output_type": "execute_result"
    }
   ],
   "source": [
    "df_audio_dataset"
   ]
  },
  {
   "cell_type": "code",
   "execution_count": 94,
   "metadata": {
    "id": "PCoxa9g0_kCX",
    "scrolled": true,
    "tags": []
   },
   "outputs": [
    {
     "name": "stdout",
     "output_type": "stream",
     "text": [
      "          audio_name       image_name experiment_number  label_1 label_2  \\\n",
      "406  Exp_18_22_4.wav  Exp_18_22_4.jpg             18_22  Balling     NaN   \n",
      "\n",
      "    label_3  rms_energy  amplitude_envelope_mean  amplitude_envelope_std  \\\n",
      "406     NaN    0.041861                 0.050814                0.016467   \n",
      "\n",
      "     zero_crossing_rate  ...  mfcc_8_mean  mfcc_8_std  mfcc_9_mean  \\\n",
      "406            0.065079  ...     0.913647     7.24476     13.85955   \n",
      "\n",
      "     mfcc_9_std  mfcc_10_mean  mfcc_10_std  mfcc_11_mean  mfcc_11_std  \\\n",
      "406    9.787443     -3.666738     8.467115     11.709171     7.942098   \n",
      "\n",
      "     mfcc_12_mean  mfcc_12_std  \n",
      "406     -9.453233     5.778482  \n",
      "\n",
      "[1 rows x 89 columns]\n",
      "Exp_17_1_10.wav - Balling\n"
     ]
    },
    {
     "ename": "IndexError",
     "evalue": ".iloc requires numeric indexers, got [['Exp_18_12_11.wav' 'Exp_18_12_11.jpg' '18_12' 'Balling' nan nan\n  0.03821561112999916 0.04052891582250595 0.018493834882974625\n  0.07913832366466522 0.0 -100.0 -36.457908630371094 4300.972367136102\n  2083.4080506822806 1.5789473684210527 0.9902572485382515\n  -0.7853506803512573 0.09384274482727051 -0.8556365966796875\n  0.0740678608417511 -0.8462499380111694 0.06892475485801697\n  -0.8537376523017883 0.05571836978197098 -0.849855899810791\n  0.05472595617175102 -0.5760283470153809 0.1918330043554306\n  -12.72110652923584 19.331899642944336 -13.516021728515625\n  19.060522079467773 -14.184210777282715 18.8310489654541\n  -14.438702583312988 18.741647720336914 -13.967190742492676\n  18.903987884521484 -19.236766815185547 17.169231414794922\n  -0.0038880234902822657 0.0020444130241437718 0.0054393489600012175\n  0.006547505652624892 0.835184981948451 0.2940050028424367\n  0.23357083668050013 0.26487181132897347 0.058299270801638305\n  0.0382742790135379 1749.8560855263158 2875.3741357188264\n  0.007578790776039425 0.02052830846448202 0.03800707996675843\n  0.014415251826836591 0.7339881156620226 0.38155558817014873\n  -0.7112250767256084 0.9372413050477693 33.57924461364746\n  21.17103613951154 -792.4060668945312 162.55780029296875\n  112.64186096191406 39.47767639160156 4.480086326599121\n  11.734535217285156 67.31114959716797 26.160823822021484\n  -34.03339385986328 16.28697967529297 46.993412017822266\n  19.633169174194336 -4.454376220703125 8.183877944946289\n  19.748987197875977 14.675405502319336 -7.8681640625 9.17694091796875\n  14.758776664733887 10.385659217834473 -6.706489562988281\n  8.247471809387207 8.032800674438477 6.061731338500977\n  -10.18123722076416 7.034620761871338]]",
     "output_type": "error",
     "traceback": [
      "\u001b[0;31m---------------------------------------------------------------------------\u001b[0m",
      "\u001b[0;31mIndexError\u001b[0m                                Traceback (most recent call last)",
      "Cell \u001b[0;32mIn[94], line 12\u001b[0m\n\u001b[1;32m     10\u001b[0m title \u001b[38;5;241m=\u001b[39m \u001b[38;5;124mf\u001b[39m\u001b[38;5;124m\"\u001b[39m\u001b[38;5;132;01m{\u001b[39;00mdf_audio_dataset[\u001b[38;5;124m'\u001b[39m\u001b[38;5;124maudio_name\u001b[39m\u001b[38;5;124m'\u001b[39m]\u001b[38;5;241m.\u001b[39mvalues[\u001b[38;5;241m0\u001b[39m]\u001b[38;5;132;01m}\u001b[39;00m\u001b[38;5;124m - \u001b[39m\u001b[38;5;132;01m{\u001b[39;00mlabel\u001b[38;5;132;01m}\u001b[39;00m\u001b[38;5;124m\"\u001b[39m\n\u001b[1;32m     11\u001b[0m \u001b[38;5;28mprint\u001b[39m(title)\n\u001b[0;32m---> 12\u001b[0m filepath \u001b[38;5;241m=\u001b[39m os\u001b[38;5;241m.\u001b[39mpath\u001b[38;5;241m.\u001b[39mjoin(final_audio_directory, \u001b[43mdf_audio_dataset\u001b[49m\u001b[38;5;241;43m.\u001b[39;49m\u001b[43miloc\u001b[49m\u001b[43m[\u001b[49m\u001b[43msample\u001b[49m\u001b[43m,\u001b[49m\u001b[43m \u001b[49m\u001b[38;5;241;43m0\u001b[39;49m\u001b[43m]\u001b[49m)\n\u001b[1;32m     14\u001b[0m \u001b[38;5;66;03m# Load audio file and process\u001b[39;00m\n\u001b[1;32m     15\u001b[0m x, sr \u001b[38;5;241m=\u001b[39m librosa\u001b[38;5;241m.\u001b[39mload(filepath, sr\u001b[38;5;241m=\u001b[39m\u001b[38;5;28;01mNone\u001b[39;00m)\n",
      "File \u001b[0;32m~/anaconda3/envs/torch/lib/python3.9/site-packages/pandas/core/indexing.py:925\u001b[0m, in \u001b[0;36m_LocationIndexer.__getitem__\u001b[0;34m(self, key)\u001b[0m\n\u001b[1;32m    923\u001b[0m         \u001b[38;5;28;01mwith\u001b[39;00m suppress(\u001b[38;5;167;01mKeyError\u001b[39;00m, \u001b[38;5;167;01mIndexError\u001b[39;00m):\n\u001b[1;32m    924\u001b[0m             \u001b[38;5;28;01mreturn\u001b[39;00m \u001b[38;5;28mself\u001b[39m\u001b[38;5;241m.\u001b[39mobj\u001b[38;5;241m.\u001b[39m_get_value(\u001b[38;5;241m*\u001b[39mkey, takeable\u001b[38;5;241m=\u001b[39m\u001b[38;5;28mself\u001b[39m\u001b[38;5;241m.\u001b[39m_takeable)\n\u001b[0;32m--> 925\u001b[0m     \u001b[38;5;28;01mreturn\u001b[39;00m \u001b[38;5;28;43mself\u001b[39;49m\u001b[38;5;241;43m.\u001b[39;49m\u001b[43m_getitem_tuple\u001b[49m\u001b[43m(\u001b[49m\u001b[43mkey\u001b[49m\u001b[43m)\u001b[49m\n\u001b[1;32m    926\u001b[0m \u001b[38;5;28;01melse\u001b[39;00m:\n\u001b[1;32m    927\u001b[0m     \u001b[38;5;66;03m# we by definition only have the 0th axis\u001b[39;00m\n\u001b[1;32m    928\u001b[0m     axis \u001b[38;5;241m=\u001b[39m \u001b[38;5;28mself\u001b[39m\u001b[38;5;241m.\u001b[39maxis \u001b[38;5;129;01mor\u001b[39;00m \u001b[38;5;241m0\u001b[39m\n",
      "File \u001b[0;32m~/anaconda3/envs/torch/lib/python3.9/site-packages/pandas/core/indexing.py:1506\u001b[0m, in \u001b[0;36m_iLocIndexer._getitem_tuple\u001b[0;34m(self, tup)\u001b[0m\n\u001b[1;32m   1504\u001b[0m \u001b[38;5;28;01mdef\u001b[39;00m \u001b[38;5;21m_getitem_tuple\u001b[39m(\u001b[38;5;28mself\u001b[39m, tup: \u001b[38;5;28mtuple\u001b[39m):\n\u001b[0;32m-> 1506\u001b[0m     \u001b[38;5;28;43mself\u001b[39;49m\u001b[38;5;241;43m.\u001b[39;49m\u001b[43m_has_valid_tuple\u001b[49m\u001b[43m(\u001b[49m\u001b[43mtup\u001b[49m\u001b[43m)\u001b[49m\n\u001b[1;32m   1507\u001b[0m     \u001b[38;5;28;01mwith\u001b[39;00m suppress(IndexingError):\n\u001b[1;32m   1508\u001b[0m         \u001b[38;5;28;01mreturn\u001b[39;00m \u001b[38;5;28mself\u001b[39m\u001b[38;5;241m.\u001b[39m_getitem_lowerdim(tup)\n",
      "File \u001b[0;32m~/anaconda3/envs/torch/lib/python3.9/site-packages/pandas/core/indexing.py:754\u001b[0m, in \u001b[0;36m_LocationIndexer._has_valid_tuple\u001b[0;34m(self, key)\u001b[0m\n\u001b[1;32m    752\u001b[0m \u001b[38;5;28;01mfor\u001b[39;00m i, k \u001b[38;5;129;01min\u001b[39;00m \u001b[38;5;28menumerate\u001b[39m(key):\n\u001b[1;32m    753\u001b[0m     \u001b[38;5;28;01mtry\u001b[39;00m:\n\u001b[0;32m--> 754\u001b[0m         \u001b[38;5;28;43mself\u001b[39;49m\u001b[38;5;241;43m.\u001b[39;49m\u001b[43m_validate_key\u001b[49m\u001b[43m(\u001b[49m\u001b[43mk\u001b[49m\u001b[43m,\u001b[49m\u001b[43m \u001b[49m\u001b[43mi\u001b[49m\u001b[43m)\u001b[49m\n\u001b[1;32m    755\u001b[0m     \u001b[38;5;28;01mexcept\u001b[39;00m \u001b[38;5;167;01mValueError\u001b[39;00m \u001b[38;5;28;01mas\u001b[39;00m err:\n\u001b[1;32m    756\u001b[0m         \u001b[38;5;28;01mraise\u001b[39;00m \u001b[38;5;167;01mValueError\u001b[39;00m(\n\u001b[1;32m    757\u001b[0m             \u001b[38;5;124m\"\u001b[39m\u001b[38;5;124mLocation based indexing can only have \u001b[39m\u001b[38;5;124m\"\u001b[39m\n\u001b[1;32m    758\u001b[0m             \u001b[38;5;124mf\u001b[39m\u001b[38;5;124m\"\u001b[39m\u001b[38;5;124m[\u001b[39m\u001b[38;5;132;01m{\u001b[39;00m\u001b[38;5;28mself\u001b[39m\u001b[38;5;241m.\u001b[39m_valid_types\u001b[38;5;132;01m}\u001b[39;00m\u001b[38;5;124m] types\u001b[39m\u001b[38;5;124m\"\u001b[39m\n\u001b[1;32m    759\u001b[0m         ) \u001b[38;5;28;01mfrom\u001b[39;00m \u001b[38;5;21;01merr\u001b[39;00m\n",
      "File \u001b[0;32m~/anaconda3/envs/torch/lib/python3.9/site-packages/pandas/core/indexing.py:1420\u001b[0m, in \u001b[0;36m_iLocIndexer._validate_key\u001b[0;34m(self, key, axis)\u001b[0m\n\u001b[1;32m   1418\u001b[0m \u001b[38;5;66;03m# check that the key has a numeric dtype\u001b[39;00m\n\u001b[1;32m   1419\u001b[0m \u001b[38;5;28;01mif\u001b[39;00m \u001b[38;5;129;01mnot\u001b[39;00m is_numeric_dtype(arr\u001b[38;5;241m.\u001b[39mdtype):\n\u001b[0;32m-> 1420\u001b[0m     \u001b[38;5;28;01mraise\u001b[39;00m \u001b[38;5;167;01mIndexError\u001b[39;00m(\u001b[38;5;124mf\u001b[39m\u001b[38;5;124m\"\u001b[39m\u001b[38;5;124m.iloc requires numeric indexers, got \u001b[39m\u001b[38;5;132;01m{\u001b[39;00marr\u001b[38;5;132;01m}\u001b[39;00m\u001b[38;5;124m\"\u001b[39m)\n\u001b[1;32m   1422\u001b[0m \u001b[38;5;66;03m# check that the key does not exceed the maximum size of the index\u001b[39;00m\n\u001b[1;32m   1423\u001b[0m \u001b[38;5;28;01mif\u001b[39;00m \u001b[38;5;28mlen\u001b[39m(arr) \u001b[38;5;129;01mand\u001b[39;00m (arr\u001b[38;5;241m.\u001b[39mmax() \u001b[38;5;241m>\u001b[39m\u001b[38;5;241m=\u001b[39m len_axis \u001b[38;5;129;01mor\u001b[39;00m arr\u001b[38;5;241m.\u001b[39mmin() \u001b[38;5;241m<\u001b[39m \u001b[38;5;241m-\u001b[39mlen_axis):\n",
      "\u001b[0;31mIndexError\u001b[0m: .iloc requires numeric indexers, got [['Exp_18_12_11.wav' 'Exp_18_12_11.jpg' '18_12' 'Balling' nan nan\n  0.03821561112999916 0.04052891582250595 0.018493834882974625\n  0.07913832366466522 0.0 -100.0 -36.457908630371094 4300.972367136102\n  2083.4080506822806 1.5789473684210527 0.9902572485382515\n  -0.7853506803512573 0.09384274482727051 -0.8556365966796875\n  0.0740678608417511 -0.8462499380111694 0.06892475485801697\n  -0.8537376523017883 0.05571836978197098 -0.849855899810791\n  0.05472595617175102 -0.5760283470153809 0.1918330043554306\n  -12.72110652923584 19.331899642944336 -13.516021728515625\n  19.060522079467773 -14.184210777282715 18.8310489654541\n  -14.438702583312988 18.741647720336914 -13.967190742492676\n  18.903987884521484 -19.236766815185547 17.169231414794922\n  -0.0038880234902822657 0.0020444130241437718 0.0054393489600012175\n  0.006547505652624892 0.835184981948451 0.2940050028424367\n  0.23357083668050013 0.26487181132897347 0.058299270801638305\n  0.0382742790135379 1749.8560855263158 2875.3741357188264\n  0.007578790776039425 0.02052830846448202 0.03800707996675843\n  0.014415251826836591 0.7339881156620226 0.38155558817014873\n  -0.7112250767256084 0.9372413050477693 33.57924461364746\n  21.17103613951154 -792.4060668945312 162.55780029296875\n  112.64186096191406 39.47767639160156 4.480086326599121\n  11.734535217285156 67.31114959716797 26.160823822021484\n  -34.03339385986328 16.28697967529297 46.993412017822266\n  19.633169174194336 -4.454376220703125 8.183877944946289\n  19.748987197875977 14.675405502319336 -7.8681640625 9.17694091796875\n  14.758776664733887 10.385659217834473 -6.706489562988281\n  8.247471809387207 8.032800674438477 6.061731338500977\n  -10.18123722076416 7.034620761871338]]"
     ]
    }
   ],
   "source": [
    "# Initialize scattering transforms\n",
    "scat1d_u1 = Scattering1D(shape=(N,), J=J, Q=Q, T=1) # U1\n",
    "scat1d = Scattering1D(shape=(N, ), J=J, Q=Q, T=2**J) # S1\n",
    "scat1d_o2 = Scattering1D(shape=(N,), J=10, Q=Q, T=2**10, out_type=\"dict\")\n",
    "\n",
    "# Process and visualize samples from each label\n",
    "for label in np.unique(labels):\n",
    "    sample_index = df_audio_dataset[df_audio_dataset['label_1'] == label].sample(n=1)\n",
    "    print (sample_index)\n",
    "    title = f\"{df_audio_dataset['audio_name'].values[0]} - {label}\"\n",
    "    print(title)\n",
    "    filepath = os.path.join(final_audio_directory, df_audio_dataset.iloc[sample, 0])\n",
    "    \n",
    "    # Load audio file and process\n",
    "    x, sr = librosa.load(filepath, sr=None)\n",
    "    x = torch.tensor(x[..., :N], dtype=torch.float32)\n",
    "    \n",
    "    print(\"computing U1\")\n",
    "    u1 = scat1d_u1(x)\n",
    "    print(\"computing S1\")\n",
    "    s1 = scat1d(x)\n",
    "    \n",
    "    # Visualization function needs to be defined or adjusted if not provided\n",
    "    print(\"plotting U1, S1\")\n",
    "    plot_u1_s1(x, sr, u1, s1, scat1d_u1, scat1d, title=title)\n",
    "    plt.show()\n",
    "\n",
    "    print(\"computing S2\")\n",
    "    s2 = scat1d_o2(x)\n",
    "    print(\"plotting S2\")\n",
    "    plot_s2(s2, sr, scat1d_o2, title=title)\n",
    "\n",
    "    print()"
   ]
  },
  {
   "cell_type": "code",
   "execution_count": 17,
   "metadata": {
    "id": "l2soRaqAqLRg",
    "scrolled": true,
    "tags": []
   },
   "outputs": [
    {
     "name": "stdout",
     "output_type": "stream",
     "text": [
      "Help on function plot_scalogram in module s1dt.plot:\n",
      "\n",
      "plot_scalogram(scalogram: torch.Tensor, sr: float, y_coords: List[float], title: str = 'scalogram', hop_len: int = 1, cmap: str = 'magma', vmax: Optional[float] = None, save_path: Optional[str] = None, x_label: str = 'Time (seconds)', y_label: str = 'Frequency (Hz)') -> None\n",
      "    Plots a scalogram of the provided data.\n",
      "    \n",
      "    The scalogram is a visual representation of the wavelet transform of a signal over time.\n",
      "    This function uses matplotlib and librosa to create the plot.\n",
      "    \n",
      "    Parameters:\n",
      "        scalogram (T): The scalogram data to be plotted.\n",
      "        sr (float): The sample rate of the audio signal.\n",
      "        y_coords (List[float]): The y-coordinates for the scalogram plot.\n",
      "        title (str, optional): The title of the plot. Defaults to \"scalogram\".\n",
      "        hop_len (int, optional): The hop length for the time axis (or T). Defaults to 1.\n",
      "        cmap (str, optional): The colormap to use for the plot. Defaults to \"magma\".\n",
      "        vmax (Optional[float], optional): The maximum value for the colorbar. If None, the colorbar scales with the data. Defaults to None.\n",
      "        save_path (Optional[str], optional): The path to save the plot. If None, the plot is not saved. Defaults to None.\n",
      "        x_label (str, optional): The label for the x-axis. Defaults to \"Time (seconds)\".\n",
      "        y_label (str, optional): The label for the y-axis. Defaults to \"Frequency (Hz)\".\n",
      "\n"
     ]
    }
   ],
   "source": [
    "help(plot_scalogram)"
   ]
  },
  {
   "cell_type": "code",
   "execution_count": 18,
   "metadata": {
    "id": "I0QGM1tfsMvf",
    "scrolled": true,
    "tags": []
   },
   "outputs": [
    {
     "name": "stdout",
     "output_type": "stream",
     "text": [
      "Help on function extract_s2_scalogram in module s1dt.plot:\n",
      "\n",
      "extract_s2_scalogram(s_scat_1d: Dict[Tuple[int, int], torch.Tensor], sr: float, psi1_f_idx: int, psi2_f: List[Dict[str, Any]], pad: bool = True, is_jtfst: bool = False) -> (<class 'torch.Tensor'>, typing.List[float])\n",
      "    Extracts a second-order scalogram from a dictionary of scattering coefficients.\n",
      "    \n",
      "    This function iterates over the dictionary `s_all` and collects the scattering coefficients corresponding to the provided `s1_idx`.\n",
      "    If a coefficient is not found and `pad` is True, a tensor of zeros is added instead.\n",
      "    The collected coefficients are then stacked into a tensor to form the scalogram.\n",
      "    \n",
      "    Parameters:\n",
      "        s_scat_1d (Dict[Tuple[int, int], torch.Tensor]): A dictionary where the keys are tuples of indices and the values are scattering coefficients.\n",
      "        sr: Sampling rate.\n",
      "        psi1_f_idx (int): The index of the first-order scattering coefficient to extract.\n",
      "        psi2_f (List[Dict[str, Any]]): The list of second-order filters.\n",
      "        pad (bool, optional): Whether to add a tensor of zeros when a coefficient is not found. Defaults to True.\n",
      "        is_jtfst (bool, optional): Whether the scattering coefficients are from a JTFST. Defaults to False.\n",
      "    \n",
      "    Returns:\n",
      "        scalogram (torch.Tensor): The extracted second-order scalogram.\n",
      "        filter_freqs (List[float]): The frequencies of the second-order filters.\n",
      "\n"
     ]
    }
   ],
   "source": [
    "help(extract_s2_scalogram)"
   ]
  },
  {
   "cell_type": "markdown",
   "metadata": {},
   "source": [
    "## Extracting the features\n",
    "\n",
    "- We pre-extract the features offline: \n",
    "    - **CQT** with `nnAudio` and \n",
    "    - **time scatttering** / **JTFS** with `kymatio`.\n",
    "- A numpy array per audio example will be saved into a feature folder.\n",
    "- The resulting CQT has `XX` frequency bins and `XX` temporal frames. There's no lowpass filter applied across the CQT's temporal dimension.\n",
    "- Time scattering and JTFS give us `X` temporal frames since our hop size is `2**J` `(2**7 / 2**12)`. \n",
    "- Time-shift invariance is a useful property, particularly for periodic modulations.\n",
    "    - The larger we set `T` (default `2**J`), the more we impose invariance to time-shifts in both spectral shape and spectrotemporal modulations.\n",
    "    \n",
    "- Likewise, we can impose frequency transposition invariance with JTFS, by setting `F`, where transposition invariance is achieved over `Q / F` octaves.\n",
    "- Periodic modulations are invariant to frequency transpositions. In accordance with common fate principles of auditory grouping, the harmonics produced by an instrument will follow congruent spectrotemporal modulation envelopes.\n",
    "\n",
    "- We construct the `Scattering1D` filterbanks with a maximum scale of `J=12` (`# octaves`).\n",
    "- We use 12 and 2 filters per octave in the first and second-order filterbanks respectively.\n",
    "- we average over a temporal support of `2**J`.\n",
    "- We construct the `TimeFrequencyScattering` temporal filterbanks with a maximum scale of `J=12` (`# octaves`).\n",
    "- We use 12 and 2 filters per octave in the first and second-order temporal filterbanks respectively.\n",
    "- We average over a temporal support of `2**J` and frequential support of `Q / F = 1` octave..\n",
    "- The frequential filterbank has its own set of parameters.\n",
    "- We use `J_fr=3` octaves, with `Q_fr = 2` filters per octave.\n",
    "\n",
    "[Here is the feature extraction code.](https://github.com/cyrusvahidi/ismir23-kymatio-tools/blob/main/s1dt/data.py)"
   ]
  },
  {
   "cell_type": "markdown",
   "metadata": {},
   "source": [
    "### Definitions and Parameter Explanations\n",
    "#### 1. Scattering1D (scat1d):\n",
    "Scattering1D uses wavelet transforms to create a robust representation of audio that captures both the amplitude and frequency modulations within a sound signal. It's especially useful for classification tasks because it provides `time-shift invariance` and some degree of `deformation stability`.\n",
    "Parameters:\n",
    "- **shape**: The length of the input signal. (e.g., 4410 samples)\n",
    "- **Q**: Quality factor, determining the number of wavelets per octave. (consider reducing it if AM audio has less frequency variation than music.)\n",
    "- **J**: The maximum scale of scattering, related to the number of octaves.\n",
    "- **global_avg**: Whether to apply global averaging, affecting time-shift invariance.\n",
    "        \n",
    "#### 2. Joint Time-Frequency Scattering (JTFS):\n",
    "JTFS extends Scattering1D by also considering the `modulation` across both time and frequency dimensions, enhancing its ability to capture the structure of audio signals.\n",
    "Parameters:\n",
    "- **J_fr**: Number of octaves for the frequency scattering.\n",
    "- **Q_fr**: Quality factor for the frequency axis, i.e., filters per octave.\n",
    "- **F**: The factor to impose frequency transposition invariance.\n",
    "- **T**: Temporal support, influencing time-shift invariance. based on sound’s temporal dynamics\n",
    "\n",
    "#### 2. Constant-Q Transform (CQT):\n",
    "CQT provides a time-frequency representation where the frequency bins are geometrically spaced and have a constant Q-factor (quality factor). This is different from the traditional Fourier transform which has linearly spaced bins. CQT is particularly useful for music and complex sound analysis because it mimics human auditory perception.\n",
    "Parameters:\n",
    "- **n_bins**: Total number of bins across all octaves.\n",
    "- **bins_per_octave**: Bins per octave. More bins per octave provide finer resolution\n",
    "- **hop_length**: The number of samples between successive frames."
   ]
  },
  {
   "cell_type": "code",
   "execution_count": 19,
   "metadata": {
    "id": "pVuC3suKsVoZ"
   },
   "outputs": [],
   "source": [
    "# Parameters used for feature extraction\n",
    "features = {\n",
    "    \"scat1d\": {\n",
    "        \"shape\": (4410, ),\n",
    "        \"Q\": (8, 2),\n",
    "        \"J\": 8,\n",
    "        \"global_avg\": False\n",
    "    },\n",
    "    \"jtfs\": {\n",
    "        \"shape\": (4410, ),\n",
    "        \"Q\": (8, 2),\n",
    "        \"J\": 8,\n",
    "        \"J_fr\": 3,\n",
    "        \"Q_fr\": 2,\n",
    "        \"F\": 12,\n",
    "        \"T\": 2**7,\n",
    "        \"global_avg\": False\n",
    "    },\n",
    "    \"cqt\": {\n",
    "        \"n_bins\": 12,\n",
    "        \"bins_per_octave\": 4,\n",
    "        \"hop_length\": 256,\n",
    "        \"global_avg\": False\n",
    "    },\n",
    "    \"mfcc\": {\n",
    "        \"n_mfcc\": 40,\n",
    "        \"log_mels\": True\n",
    "    },\n",
    "   \n",
    "}"
   ]
  },
  {
   "cell_type": "code",
   "execution_count": 20,
   "metadata": {},
   "outputs": [],
   "source": [
    "def extract_features(features, sol_dir=\"/home/chenlequn/pan1/Dataset/Laser-Wire-DED-ThermalAudio-Dataset/Dataset/audio\", batch_size=16, device=\"cuda\"):\n",
    "    \"\"\"\n",
    "    Extracts features from audio files located in the specified directory.\n",
    "\n",
    "    This function uses two types of feature extraction methods: scat1d and jtfs. \n",
    "    The extracted features are then saved for further use.\n",
    "\n",
    "    Parameters:\n",
    "    sol_dir (str): The directory where the audio files are located. \n",
    "                   Default is \"/import/c4dm-datasets/SOL_0.9_HQ-PMT/\".\n",
    "    batch_size (int): The number of audio files to be processed at a time. Default is 16.\n",
    "    device (str): The device to use for computations. Default is \"cuda\" for GPU usage.\n",
    "    \"\"\"\n",
    "    \n",
    "    for feature_id, feature_kwargs in features.items():\n",
    "        extractor = FeatureExtractorSOL(sol_dir, device=device, batch_size=batch_size, feature_id=feature_id, in_shape=4410, **feature_kwargs)\n",
    "        extractor.extract()\n",
    "        extractor.save_features()\n",
    "        extractor.save_stats()"
   ]
  },
  {
   "cell_type": "code",
   "execution_count": 21,
   "metadata": {
    "tags": []
   },
   "outputs": [
    {
     "name": "stdout",
     "output_type": "stream",
     "text": [
      "Loading audio ...\n"
     ]
    },
    {
     "name": "stderr",
     "output_type": "stream",
     "text": [
      "100%|████████████████████████████████████| 7686/7686 [00:00<00:00, 40169.59it/s]\n"
     ]
    },
    {
     "name": "stdout",
     "output_type": "stream",
     "text": [
      "Extracting features ...\n"
     ]
    },
    {
     "name": "stderr",
     "output_type": "stream",
     "text": [
      "100%|█████████████████████████████████████████| 481/481 [00:18<00:00, 26.09it/s]\n",
      "100%|██████████████████████████████████| 7686/7686 [00:00<00:00, 1008522.46it/s]\n"
     ]
    },
    {
     "name": "stdout",
     "output_type": "stream",
     "text": [
      "Loading audio ...\n"
     ]
    },
    {
     "name": "stderr",
     "output_type": "stream",
     "text": [
      "100%|████████████████████████████████████| 7686/7686 [00:00<00:00, 41342.48it/s]\n"
     ]
    },
    {
     "name": "stdout",
     "output_type": "stream",
     "text": [
      "Extracting features ...\n"
     ]
    },
    {
     "name": "stderr",
     "output_type": "stream",
     "text": [
      "100%|█████████████████████████████████████████| 481/481 [00:54<00:00,  8.88it/s]\n",
      "100%|██████████████████████████████████| 7686/7686 [00:00<00:00, 1072293.13it/s]\n"
     ]
    },
    {
     "name": "stdout",
     "output_type": "stream",
     "text": [
      "CQT kernels created, time used = 0.0028 seconds\n",
      "Loading audio ...\n"
     ]
    },
    {
     "name": "stderr",
     "output_type": "stream",
     "text": [
      "100%|████████████████████████████████████| 7686/7686 [00:00<00:00, 41592.49it/s]\n"
     ]
    },
    {
     "name": "stdout",
     "output_type": "stream",
     "text": [
      "Extracting features ...\n"
     ]
    },
    {
     "name": "stderr",
     "output_type": "stream",
     "text": [
      "100%|███████████████████████████████████████| 481/481 [00:00<00:00, 1500.72it/s]\n",
      "100%|██████████████████████████████████| 7686/7686 [00:00<00:00, 1042776.02it/s]\n",
      "/home/chenlequn/anaconda3/envs/torch/lib/python3.9/site-packages/torchaudio/functional/functional.py:571: UserWarning: At least one mel filterbank has all zero values. The value for `n_mels` (128) may be set too high. Or, the value for `n_freqs` (201) may be set too low.\n",
      "  warnings.warn(\n"
     ]
    },
    {
     "name": "stdout",
     "output_type": "stream",
     "text": [
      "Loading audio ...\n"
     ]
    },
    {
     "name": "stderr",
     "output_type": "stream",
     "text": [
      "100%|████████████████████████████████████| 7686/7686 [00:00<00:00, 42511.13it/s]\n"
     ]
    },
    {
     "name": "stdout",
     "output_type": "stream",
     "text": [
      "Extracting features ...\n"
     ]
    },
    {
     "name": "stderr",
     "output_type": "stream",
     "text": [
      "100%|██████████████████████████████████| 7686/7686 [00:00<00:00, 1021367.44it/s]\n"
     ]
    }
   ],
   "source": [
    "extract_features(features, sol_dir = final_audio_directory, batch_size=16) "
   ]
  },
  {
   "cell_type": "markdown",
   "metadata": {},
   "source": [
    "## Define the dataset\n",
    "- load precomputed features extracted with the specified transformation"
   ]
  },
  {
   "cell_type": "code",
   "execution_count": 29,
   "metadata": {
    "id": "mqpWTVkMAQii"
   },
   "outputs": [],
   "source": [
    "class SOLPMT(Dataset):\n",
    "    def __init__(self, annotation_df, audio_directory, feature=\"jtfs\"):\n",
    "        self.annotations = annotation_df\n",
    "        self.audio_directory = audio_directory\n",
    "        self.feature = feature\n",
    "        self.class_to_idx = {\n",
    "            'Balling': 0,\n",
    "            'Non-defective': 1,\n",
    "            'Laser-off': 2,\n",
    "        }\n",
    "\n",
    "    def __getitem__(self, index):\n",
    "        # Get the .wav file name from the first column, and replace it from .wave format to the numpy format\n",
    "        x = np.load(os.path.join(self.audio_directory, self.feature, self.annotations.iloc[index, 0].replace(\".wav\", \".npy\"))) \n",
    "        y = self._get_sample_label(index)\n",
    "        return x, y\n",
    "    \n",
    "    \n",
    "    def _get_sample_label(self, index):\n",
    "        class_name = self.annotations.iloc[index, 3]  # Get the class label from the fourth column\n",
    "        return self.class_to_idx[class_name]\n",
    "\n",
    "    def __len__(self):\n",
    "        return len(self.annotations)"
   ]
  },
  {
   "cell_type": "markdown",
   "metadata": {},
   "source": [
    "## Setup the dataloaders\n",
    "\n",
    "We use the existing training, validation, test data split from the provided metadata CSV"
   ]
  },
  {
   "cell_type": "code",
   "execution_count": 26,
   "metadata": {},
   "outputs": [],
   "source": [
    "%store -r train_indices\n",
    "%store -r val_indices\n",
    "%store -r test_indices"
   ]
  },
  {
   "cell_type": "code",
   "execution_count": 30,
   "metadata": {},
   "outputs": [],
   "source": [
    "# Create train, val, and test datasets for deep learning models\n",
    "train_annotations_df = df_audio_dataset.iloc[train_indices, :]\n",
    "val_annotations_df = df_audio_dataset.iloc[val_indices, :]\n",
    "test_annotations_df = df_audio_dataset.iloc[test_indices, :]"
   ]
  },
  {
   "cell_type": "code",
   "execution_count": 43,
   "metadata": {
    "id": "oFc9CVXc_ogA"
   },
   "outputs": [],
   "source": [
    "class SOLPMTDataModule(pl.LightningDataModule):\n",
    "    def __init__(self, \n",
    "                 train_annotations_df,\n",
    "                 val_annotations_df,\n",
    "                 test_annotations_df,\n",
    "                 audio_directory,\n",
    "                 batch_size: float = 1, \n",
    "                 num_workers: float = 4,\n",
    "                 feature: str = \"jtfs\"):\n",
    "        super().__init__()\n",
    "        \n",
    "        self.train_annotations_df = train_annotations_df\n",
    "        self.val_annotations_df = val_annotations_df\n",
    "        self.test_annotations_df = test_annotations_df\n",
    "        self.audio_directory = audio_directory\n",
    "        self.batch_size = batch_size\n",
    "        self.num_workers = num_workers\n",
    "        self.feature = feature\n",
    "        \n",
    "        \n",
    "    def setup(self, stage=None):\n",
    "        self.train_ds = SOLPMT(self.train_annotations_df, self.audio_directory, feature=self.feature)\n",
    "        self.test_ds = SOLPMT(self.test_annotations_df, self.audio_directory, feature=self.feature)\n",
    "        self.val_ds = SOLPMT(self.val_annotations_df, self.audio_directory, feature=self.feature)\n",
    "\n",
    "    def train_dataloader(self):\n",
    "        return DataLoader(\n",
    "            self.train_ds,\n",
    "            batch_size=self.batch_size,\n",
    "            num_workers=self.num_workers,\n",
    "            shuffle=True,\n",
    "        )\n",
    "\n",
    "    def test_dataloader(self):\n",
    "        return DataLoader(\n",
    "            self.test_ds,\n",
    "            batch_size=self.batch_size,\n",
    "            num_workers=self.num_workers,\n",
    "            shuffle=False,\n",
    "        )\n",
    "\n",
    "    def val_dataloader(self):\n",
    "        return DataLoader(\n",
    "            self.val_ds,\n",
    "            batch_size=self.batch_size,\n",
    "            num_workers=self.num_workers,\n",
    "            shuffle=False,\n",
    "        )\n"
   ]
  },
  {
   "cell_type": "markdown",
   "metadata": {},
   "source": [
    "### Inspecting the precomputed features\n",
    "- The scattering features per sample are organised by `(path, time)`.\n",
    "- First and second order scattering coefficients computed and concatenated to form a sequence across time."
   ]
  },
  {
   "cell_type": "code",
   "execution_count": 44,
   "metadata": {
    "id": "XTlBYNuDAPmA"
   },
   "outputs": [
    {
     "name": "stdout",
     "output_type": "stream",
     "text": [
      "(972, 35)\n"
     ]
    }
   ],
   "source": [
    "datamodule = SOLPMTDataModule(train_annotations_df, val_annotations_df, test_annotations_df, final_audio_directory, batch_size=32, feature=\"jtfs\")\n",
    "datamodule.setup()\n",
    "feature_shape = datamodule.train_ds[1][0].shape\n",
    "print(feature_shape)\n",
    "in_channels = feature_shape[0]"
   ]
  },
  {
   "cell_type": "markdown",
   "metadata": {},
   "source": [
    "## Training pipeline\n",
    "- We optimize a 1D convnet for multiclass classification across 5 classes: balling, laser-off, non-defective\n",
    "- Use the cross-entropy loss over 5 classes, and report multiclass classification accuracy.\n",
    "- pick the best model state for testing according to the best monitored validation accuracy.\n",
    "- We use the Adam optimizer with a learning rate of `1e-3`."
   ]
  },
  {
   "cell_type": "code",
   "execution_count": 52,
   "metadata": {},
   "outputs": [],
   "source": [
    "# df_audio_dataset.sort_values(by='label_1')[\"label_1\"].tolist()"
   ]
  },
  {
   "cell_type": "code",
   "execution_count": 53,
   "metadata": {
    "id": "IGUs9YWKLUCm"
   },
   "outputs": [],
   "source": [
    "from typing import Any, Dict, Tuple\n",
    "\n",
    "import torch, numpy as np\n",
    "from lightning import LightningModule\n",
    "\n",
    "from torchmetrics import MaxMetric, MeanMetric, ClasswiseWrapper\n",
    "from torchmetrics.classification.accuracy import Accuracy\n",
    "\n",
    "\n",
    "class LitModule(LightningModule):\n",
    "    def __init__(self,\n",
    "                 net: torch.nn.Module,\n",
    "                 lr: float = 1e-3,\n",
    "                 compile: bool = False,\n",
    "                 num_classes=3,\n",
    "                 labels = df_audio_dataset.sort_values(by='label_1')[\"label_1\"].tolist() \n",
    "                )-> None:\n",
    "        super().__init__()\n",
    "\n",
    "        # this line allows to access init params with 'self.hparams' attribute\n",
    "        # also ensures init params will be stored in ckpt\n",
    "        self.save_hyperparameters(logger=False)\n",
    "\n",
    "        self.net = net\n",
    "        self.lr = lr\n",
    "\n",
    "        # loss function\n",
    "        self.criterion = torch.nn.CrossEntropyLoss()\n",
    "\n",
    "        # metric objects for calculating and averaging accuracy across batches\n",
    "        self.train_acc = Accuracy(task=\"multiclass\", num_classes=num_classes)\n",
    "        self.val_acc = Accuracy(task=\"multiclass\", num_classes=num_classes)\n",
    "        self.test_acc = Accuracy(task=\"multiclass\", num_classes=num_classes)\n",
    "\n",
    "        # for averaging loss across batches\n",
    "        self.train_loss = MeanMetric()\n",
    "        self.val_loss = MeanMetric()\n",
    "        self.test_loss = MeanMetric()\n",
    "\n",
    "        self.classwise_acc = ClasswiseWrapper(Accuracy(task=\"multiclass\", num_classes=num_classes), labels=labels)\n",
    "\n",
    "        # for tracking best so far validation accuracy\n",
    "        self.val_acc_best = MaxMetric()\n",
    "\n",
    "    def forward(self, x: torch.Tensor) -> torch.Tensor:\n",
    "        \"\"\"Perform a forward pass through the model `self.net`.\n",
    "\n",
    "        :param x: A tensor of (batch, path, time).\n",
    "        :return: A tensor of logits.\n",
    "        \"\"\"\n",
    "        return self.net(x)\n",
    "\n",
    "    def on_train_start(self) -> None:\n",
    "        \"\"\"Lightning hook that is called when training begins.\"\"\"\n",
    "        # by default lightning executes validation step sanity checks before training starts,\n",
    "        # so it's worth to make sure validation metrics don't store results from these checks\n",
    "        self.val_loss.reset()\n",
    "        self.val_acc.reset()\n",
    "        self.val_acc_best.reset()\n",
    "\n",
    "    def model_step(\n",
    "        self, batch: Tuple[torch.Tensor, torch.Tensor]) -> Tuple[torch.Tensor, torch.Tensor, torch.Tensor]:\n",
    "        \"\"\"Perform a single model step on a batch of data.\n",
    "\n",
    "        :param batch: A batch of data (a tuple) containing the input tensor of images and target labels.\n",
    "\n",
    "        :return: A tuple containing (in order):\n",
    "            - A tensor of losses.\n",
    "            - A tensor of predictions.\n",
    "            - A tensor of target labels.\n",
    "        \"\"\"\n",
    "        x, y = batch\n",
    "        logits = self.forward(x)\n",
    "        loss = self.criterion(logits, y)\n",
    "        preds = torch.argmax(logits, dim=1)\n",
    "        return loss, preds, y\n",
    "\n",
    "    def training_step(\n",
    "        self, batch: Tuple[torch.Tensor, torch.Tensor], batch_idx: int) -> torch.Tensor:\n",
    "        \"\"\"Perform a single training step on a batch of data from the training set.\n",
    "\n",
    "        :param batch: A batch of data (a tuple) containing the input tensor of images and target\n",
    "            labels.\n",
    "        :param batch_idx: The index of the current batch.\n",
    "        :return: A tensor of losses between model predictions and targets.\n",
    "        \"\"\"\n",
    "        loss, preds, targets = self.model_step(batch)\n",
    "\n",
    "        # update and log metrics\n",
    "        self.train_loss(loss)\n",
    "        self.train_acc(preds, targets)\n",
    "        self.log(\n",
    "            \"train/loss\", self.train_loss, on_step=False, on_epoch=True, prog_bar=True\n",
    "        )\n",
    "        self.log(\n",
    "            \"train/acc\", self.train_acc, on_step=False, on_epoch=True, prog_bar=True\n",
    "        )\n",
    "        # return loss or backpropagation will fail\n",
    "        return loss\n",
    "\n",
    "    def on_train_epoch_end(self) -> None:\n",
    "        \"Lightning hook that is called when a training epoch ends.\"\n",
    "        pass\n",
    "\n",
    "    def validation_step(\n",
    "        self, batch: Tuple[torch.Tensor, torch.Tensor], batch_idx: int) -> None:\n",
    "        \"\"\"Perform a single validation step on a batch of data from the validation set.\n",
    "\n",
    "        :param batch: A batch of data (a tuple) containing the input tensor of images and target\n",
    "            labels.\n",
    "        :param batch_idx: The index of the current batch.\n",
    "        \"\"\"\n",
    "        loss, preds, targets = self.model_step(batch)\n",
    "\n",
    "        # update and log metrics\n",
    "        self.val_loss(loss)\n",
    "        self.val_acc(preds, targets)\n",
    "        self.log(\"val/loss\", self.val_loss, on_step=True, on_epoch=True, prog_bar=True)\n",
    "        self.log(\"val/acc\", self.val_acc, on_step=True, on_epoch=True, prog_bar=True)\n",
    "\n",
    "    def on_validation_epoch_end(self) -> None:\n",
    "        \"Lightning hook that is called when a validation epoch ends.\"\n",
    "        acc = self.val_acc.compute()  # get current val acc\n",
    "        self.val_acc_best(acc)  # update best so far val acc\n",
    "        # log `val_acc_best` as a value through `.compute()` method, instead of as a metric object\n",
    "        # otherwise metric would be reset by lightning after each epoch\n",
    "        self.log(\n",
    "            \"val/acc_best\", self.val_acc_best.compute(), sync_dist=True, prog_bar=True\n",
    "        )\n",
    "\n",
    "    def test_step(\n",
    "        self, batch: Tuple[torch.Tensor, torch.Tensor], batch_idx: int) -> None:\n",
    "        \"\"\"Perform a single test step on a batch of data from the test set.\n",
    "\n",
    "        :param batch: A batch of data (a tuple) containing the input tensor of images and target\n",
    "            labels.\n",
    "        :param batch_idx: The index of the current batch.\n",
    "        \"\"\"\n",
    "        loss, preds, targets = self.model_step(batch)\n",
    "\n",
    "        # update and log metrics\n",
    "        self.test_loss(loss)\n",
    "        self.test_acc(preds, targets)\n",
    "        self.log(\n",
    "            \"test/loss\", self.test_loss, on_step=False, on_epoch=True, prog_bar=True\n",
    "        )\n",
    "        self.log(\"test/acc\", self.test_acc, on_step=False, on_epoch=True, prog_bar=True)\n",
    "\n",
    "    def on_test_epoch_end(self) -> None:\n",
    "        \"\"\"Lightning hook that is called when a test epoch ends.\"\"\"\n",
    "        pass\n",
    "\n",
    "    def setup(self, stage: str) -> None:\n",
    "        \"\"\"Lightning hook that is called at the beginning of fit (train + validate), validate,\n",
    "        test, or predict.\n",
    "\n",
    "        This is a good hook when you need to build models dynamically or adjust something about\n",
    "        them. This hook is called on every process when using DDP.\n",
    "\n",
    "        :param stage: Either `\"fit\"`, `\"validate\"`, `\"test\"`, or `\"predict\"`.\n",
    "        \"\"\"\n",
    "        if self.hparams.compile and stage == \"fit\":\n",
    "            self.net = torch.compile(self.net)\n",
    "\n",
    "    def configure_optimizers(self) -> Dict[str, Any]:\n",
    "        \"\"\"Choose what optimizers and learning-rate schedulers to use in your optimization.\n",
    "        Normally you'd need one. But in the case of GANs or similar you might have multiple.\n",
    "\n",
    "        Examples:\n",
    "            https://lightning.ai/docs/pytorch/latest/common/lightning_module.html#configure-optimizers\n",
    "\n",
    "        :return: A dict containing the configured optimizers and learning-rate schedulers to be used for training.\n",
    "        \"\"\"\n",
    "        optimizer = optimizer = torch.optim.Adam(params=self.trainer.model.parameters(), lr=self.lr)\n",
    "        scheduler = torch.optim.lr_scheduler.ReduceLROnPlateau(optimizer=optimizer, mode=\"min\", factor=0.5, patience=10)\n",
    "        return {\n",
    "            \"optimizer\": optimizer,\n",
    "            \"lr_scheduler\": {\n",
    "                \"scheduler\": scheduler,\n",
    "                \"monitor\": \"val/loss\",\n",
    "                \"interval\": \"epoch\",\n",
    "                \"frequency\": 1,\n",
    "            },\n",
    "        }"
   ]
  },
  {
   "cell_type": "markdown",
   "metadata": {},
   "source": [
    "### Defining the 1D convnet\n",
    "\n",
    "- We implement a simple 1D convnet.\n",
    "- the scattering paths (first and second-order) are concatenated\n",
    "- For each path (channel), we do convolution over time, and sum each filter's activations across the incoming paths.\n",
    "- At the end of the convolutional feature extractor, we use a global average pooling layer, prior to a simple classification head with two linear layers separated by a ReLU nonlinearity."
   ]
  },
  {
   "cell_type": "code",
   "execution_count": 54,
   "metadata": {
    "id": "3oaxGjNnNEIl"
   },
   "outputs": [],
   "source": [
    "import math\n",
    "import torch.nn as nn\n",
    "\n",
    "\n",
    "class SimpleConvNet1d(nn.Module):\n",
    "    def __init__(self, in_channels, num_classes=3, dense_dim=64, dropout_rate=0.5):\n",
    "        super().__init__()\n",
    "\n",
    "        # c_ref = in_channels\n",
    "        # scale_factor = (1024 // in_channels)\n",
    "        # ckw = dict(stride=1, bias=False, padding='same')\n",
    "        # C0 = (c_ref//2) * scale_factor\n",
    "        # C1 = c_ref * scale_factor\n",
    "        # C2 = 2*c_ref*scale_factor\n",
    "\n",
    "        # dense_dim = (dense_dim) // math.ceil(1024 / in_channels)\n",
    "\n",
    "        c_ref = in_channels // 4\n",
    "        ckw = dict(stride=1, bias=False, padding='same')\n",
    "        C0, C1, C2 = c_ref//2, c_ref, 2*c_ref\n",
    "\n",
    "        self.conv_features = nn.Sequential(\n",
    "            nn.Conv1d(in_channels=in_channels, out_channels=C0, kernel_size=7, **ckw),\n",
    "            nn.BatchNorm1d(C0),\n",
    "            nn.ReLU(),\n",
    "            nn.AvgPool1d(kernel_size=2),\n",
    "            nn.Conv1d(in_channels=C0, out_channels=C1, kernel_size=5, **ckw),\n",
    "            nn.BatchNorm1d(C1),\n",
    "            nn.ReLU(),\n",
    "            nn.AvgPool1d(kernel_size=2),\n",
    "            nn.Conv1d(in_channels=C1, out_channels=C2, kernel_size=3, **ckw),\n",
    "            nn.BatchNorm1d(C2),\n",
    "            nn.ReLU(),\n",
    "            nn.AdaptiveAvgPool1d(output_size=1)\n",
    "        )\n",
    "\n",
    "        self.classifier = nn.Sequential(\n",
    "            nn.Dropout(dropout_rate),\n",
    "            nn.Linear(in_features=C2, out_features=dense_dim),\n",
    "            nn.ReLU(),\n",
    "            nn.Linear(in_features=dense_dim, out_features=num_classes)\n",
    "        )\n",
    "\n",
    "    def forward(self, x):\n",
    "        z = self.conv_features(x).squeeze(dim=-1)\n",
    "        logits = self.classifier(z)\n",
    "        return logits"
   ]
  },
  {
   "cell_type": "code",
   "execution_count": 60,
   "metadata": {
    "id": "CkVPOhik8sdj"
   },
   "outputs": [
    {
     "name": "stdout",
     "output_type": "stream",
     "text": [
      "Input feature shape: (972, 35)\n"
     ]
    }
   ],
   "source": [
    "#@title Choose an acoustic representation input\n",
    "feature = \"jtfs\" # @param [\"jtfs\", \"scat1d\", \"cqt\", \"mfcc\"]\n",
    "\n",
    "datamodule = SOLPMTDataModule(train_annotations_df, val_annotations_df, test_annotations_df, final_audio_directory, batch_size=32, feature=feature)\n",
    "datamodule.setup()\n",
    "feature_shape = datamodule.train_ds[1][0].shape\n",
    "print(f\"Input feature shape: {feature_shape}\")\n",
    "in_channels = feature_shape[0]"
   ]
  },
  {
   "cell_type": "markdown",
   "metadata": {},
   "source": [
    "## Training and evaluation\n",
    "\n",
    "- We optimize for 5 epochs with a batch size of 32.\n",
    "- the first epoch could be slow due to loading data \n",
    "- Interestingly, this is sufficient to achieve high classification accuracy on the test set for both `Scattering1D` and `TimeFrequencyScattering` input features\n",
    "- Importantly, `time-frequency scattering` is capable of capturing cross-frequency channel dependencies, while second-order time scattering analyses each frequency path independently.\n",
    "- Because of this, time scattering is limited in its ability to analyse amplitude modulations in signals with nonstationary frequency.\n",
    "\n",
    "- the number of input channels for the CQT is 100x. However, the literature also suggests that scattering features are superior than simply short-time spectral features for timbre and playing technique classification.\n",
    "We tested a CQT model with the same order of parameters as the scattering models. It made no difference to the test accuracy.\n"
   ]
  },
  {
   "cell_type": "code",
   "execution_count": 65,
   "metadata": {
    "colab": {
     "background_save": true
    },
    "id": "jUcCnUF6NPUm",
    "scrolled": true,
    "tags": []
   },
   "outputs": [
    {
     "name": "stderr",
     "output_type": "stream",
     "text": [
      "GPU available: True (cuda), used: True\n",
      "TPU available: False, using: 0 TPU cores\n",
      "IPU available: False, using: 0 IPUs\n",
      "HPU available: False, using: 0 HPUs\n",
      "LOCAL_RANK: 0 - CUDA_VISIBLE_DEVICES: [0]\n",
      "\n",
      "  | Name          | Type               | Params\n",
      "-----------------------------------------------------\n",
      "0 | net           | SimpleConvNet1d    | 1.4 M \n",
      "1 | criterion     | CrossEntropyLoss   | 0     \n",
      "2 | train_acc     | MulticlassAccuracy | 0     \n",
      "3 | val_acc       | MulticlassAccuracy | 0     \n",
      "4 | test_acc      | MulticlassAccuracy | 0     \n",
      "5 | train_loss    | MeanMetric         | 0     \n",
      "6 | val_loss      | MeanMetric         | 0     \n",
      "7 | test_loss     | MeanMetric         | 0     \n",
      "8 | classwise_acc | ClasswiseWrapper   | 0     \n",
      "9 | val_acc_best  | MaxMetric          | 0     \n",
      "-----------------------------------------------------\n",
      "1.4 M     Trainable params\n",
      "0         Non-trainable params\n",
      "1.4 M     Total params\n",
      "5.431     Total estimated model params size (MB)\n"
     ]
    },
    {
     "data": {
      "application/json": {
       "ascii": false,
       "bar_format": "{l_bar}{bar}| {n_fmt}/{total_fmt} [{elapsed}<{remaining}, {rate_noinv_fmt}{postfix}]",
       "colour": null,
       "elapsed": 0.0016450881958007812,
       "initial": 0,
       "n": 0,
       "ncols": 80,
       "nrows": 24,
       "postfix": null,
       "prefix": "Sanity Checking",
       "rate": null,
       "total": null,
       "unit": "it",
       "unit_divisor": 1000,
       "unit_scale": false
      },
      "application/vnd.jupyter.widget-view+json": {
       "model_id": "6f1a15dc68574eaab6cb322aa56d64f7",
       "version_major": 2,
       "version_minor": 0
      },
      "text/plain": [
       "Sanity Checking: |                                        | 0/? [00:00<?, ?it/s]"
      ]
     },
     "metadata": {},
     "output_type": "display_data"
    },
    {
     "data": {
      "application/json": {
       "ascii": false,
       "bar_format": "{l_bar}{bar}| {n_fmt}/{total_fmt} [{elapsed}<{remaining}, {rate_noinv_fmt}{postfix}]",
       "colour": null,
       "elapsed": 0.002900838851928711,
       "initial": 0,
       "n": 0,
       "ncols": 80,
       "nrows": 24,
       "postfix": null,
       "prefix": "Training",
       "rate": null,
       "total": null,
       "unit": "it",
       "unit_divisor": 1000,
       "unit_scale": false
      },
      "application/vnd.jupyter.widget-view+json": {
       "model_id": "96e13efa7ab34f118ea9209c7fc67718",
       "version_major": 2,
       "version_minor": 0
      },
      "text/plain": [
       "Training: |                                               | 0/? [00:00<?, ?it/s]"
      ]
     },
     "metadata": {},
     "output_type": "display_data"
    },
    {
     "data": {
      "application/json": {
       "ascii": false,
       "bar_format": "{l_bar}{bar}| {n_fmt}/{total_fmt} [{elapsed}<{remaining}, {rate_noinv_fmt}{postfix}]",
       "colour": null,
       "elapsed": 0.002560853958129883,
       "initial": 0,
       "n": 0,
       "ncols": 80,
       "nrows": 24,
       "postfix": null,
       "prefix": "Validation",
       "rate": null,
       "total": null,
       "unit": "it",
       "unit_divisor": 1000,
       "unit_scale": false
      },
      "application/vnd.jupyter.widget-view+json": {
       "model_id": "aa681d5a2b7b48febc5c178be23586bb",
       "version_major": 2,
       "version_minor": 0
      },
      "text/plain": [
       "Validation: |                                             | 0/? [00:00<?, ?it/s]"
      ]
     },
     "metadata": {},
     "output_type": "display_data"
    },
    {
     "data": {
      "application/json": {
       "ascii": false,
       "bar_format": "{l_bar}{bar}| {n_fmt}/{total_fmt} [{elapsed}<{remaining}, {rate_noinv_fmt}{postfix}]",
       "colour": null,
       "elapsed": 0.004059791564941406,
       "initial": 0,
       "n": 0,
       "ncols": 80,
       "nrows": 24,
       "postfix": null,
       "prefix": "Validation",
       "rate": null,
       "total": null,
       "unit": "it",
       "unit_divisor": 1000,
       "unit_scale": false
      },
      "application/vnd.jupyter.widget-view+json": {
       "model_id": "8991048455ee4124976044ddb8d3a4d8",
       "version_major": 2,
       "version_minor": 0
      },
      "text/plain": [
       "Validation: |                                             | 0/? [00:00<?, ?it/s]"
      ]
     },
     "metadata": {},
     "output_type": "display_data"
    },
    {
     "data": {
      "application/json": {
       "ascii": false,
       "bar_format": "{l_bar}{bar}| {n_fmt}/{total_fmt} [{elapsed}<{remaining}, {rate_noinv_fmt}{postfix}]",
       "colour": null,
       "elapsed": 0.003168821334838867,
       "initial": 0,
       "n": 0,
       "ncols": 80,
       "nrows": 24,
       "postfix": null,
       "prefix": "Validation",
       "rate": null,
       "total": null,
       "unit": "it",
       "unit_divisor": 1000,
       "unit_scale": false
      },
      "application/vnd.jupyter.widget-view+json": {
       "model_id": "384ae03e5d9647c5b17d8519b272d664",
       "version_major": 2,
       "version_minor": 0
      },
      "text/plain": [
       "Validation: |                                             | 0/? [00:00<?, ?it/s]"
      ]
     },
     "metadata": {},
     "output_type": "display_data"
    },
    {
     "data": {
      "application/json": {
       "ascii": false,
       "bar_format": "{l_bar}{bar}| {n_fmt}/{total_fmt} [{elapsed}<{remaining}, {rate_noinv_fmt}{postfix}]",
       "colour": null,
       "elapsed": 0.0024950504302978516,
       "initial": 0,
       "n": 0,
       "ncols": 80,
       "nrows": 24,
       "postfix": null,
       "prefix": "Validation",
       "rate": null,
       "total": null,
       "unit": "it",
       "unit_divisor": 1000,
       "unit_scale": false
      },
      "application/vnd.jupyter.widget-view+json": {
       "model_id": "e07d56fdba2e4695bbdb6825e7502307",
       "version_major": 2,
       "version_minor": 0
      },
      "text/plain": [
       "Validation: |                                             | 0/? [00:00<?, ?it/s]"
      ]
     },
     "metadata": {},
     "output_type": "display_data"
    },
    {
     "data": {
      "application/json": {
       "ascii": false,
       "bar_format": "{l_bar}{bar}| {n_fmt}/{total_fmt} [{elapsed}<{remaining}, {rate_noinv_fmt}{postfix}]",
       "colour": null,
       "elapsed": 0.0024652481079101562,
       "initial": 0,
       "n": 0,
       "ncols": 80,
       "nrows": 24,
       "postfix": null,
       "prefix": "Validation",
       "rate": null,
       "total": null,
       "unit": "it",
       "unit_divisor": 1000,
       "unit_scale": false
      },
      "application/vnd.jupyter.widget-view+json": {
       "model_id": "47333ff17b2745689dd49b91e2e7bbb1",
       "version_major": 2,
       "version_minor": 0
      },
      "text/plain": [
       "Validation: |                                             | 0/? [00:00<?, ?it/s]"
      ]
     },
     "metadata": {},
     "output_type": "display_data"
    },
    {
     "data": {
      "application/json": {
       "ascii": false,
       "bar_format": "{l_bar}{bar}| {n_fmt}/{total_fmt} [{elapsed}<{remaining}, {rate_noinv_fmt}{postfix}]",
       "colour": null,
       "elapsed": 0.0028367042541503906,
       "initial": 0,
       "n": 0,
       "ncols": 80,
       "nrows": 24,
       "postfix": null,
       "prefix": "Validation",
       "rate": null,
       "total": null,
       "unit": "it",
       "unit_divisor": 1000,
       "unit_scale": false
      },
      "application/vnd.jupyter.widget-view+json": {
       "model_id": "1b6166a20b78454fbb5c5823b2c127c2",
       "version_major": 2,
       "version_minor": 0
      },
      "text/plain": [
       "Validation: |                                             | 0/? [00:00<?, ?it/s]"
      ]
     },
     "metadata": {},
     "output_type": "display_data"
    },
    {
     "data": {
      "application/json": {
       "ascii": false,
       "bar_format": "{l_bar}{bar}| {n_fmt}/{total_fmt} [{elapsed}<{remaining}, {rate_noinv_fmt}{postfix}]",
       "colour": null,
       "elapsed": 0.002488374710083008,
       "initial": 0,
       "n": 0,
       "ncols": 80,
       "nrows": 24,
       "postfix": null,
       "prefix": "Validation",
       "rate": null,
       "total": null,
       "unit": "it",
       "unit_divisor": 1000,
       "unit_scale": false
      },
      "application/vnd.jupyter.widget-view+json": {
       "model_id": "2edf885f08a4416db277ab4b64345ef3",
       "version_major": 2,
       "version_minor": 0
      },
      "text/plain": [
       "Validation: |                                             | 0/? [00:00<?, ?it/s]"
      ]
     },
     "metadata": {},
     "output_type": "display_data"
    },
    {
     "data": {
      "application/json": {
       "ascii": false,
       "bar_format": "{l_bar}{bar}| {n_fmt}/{total_fmt} [{elapsed}<{remaining}, {rate_noinv_fmt}{postfix}]",
       "colour": null,
       "elapsed": 0.002502918243408203,
       "initial": 0,
       "n": 0,
       "ncols": 80,
       "nrows": 24,
       "postfix": null,
       "prefix": "Validation",
       "rate": null,
       "total": null,
       "unit": "it",
       "unit_divisor": 1000,
       "unit_scale": false
      },
      "application/vnd.jupyter.widget-view+json": {
       "model_id": "1262f7a17fed4b16a2ac28e6e9c18c3b",
       "version_major": 2,
       "version_minor": 0
      },
      "text/plain": [
       "Validation: |                                             | 0/? [00:00<?, ?it/s]"
      ]
     },
     "metadata": {},
     "output_type": "display_data"
    },
    {
     "data": {
      "application/json": {
       "ascii": false,
       "bar_format": "{l_bar}{bar}| {n_fmt}/{total_fmt} [{elapsed}<{remaining}, {rate_noinv_fmt}{postfix}]",
       "colour": null,
       "elapsed": 0.0028946399688720703,
       "initial": 0,
       "n": 0,
       "ncols": 80,
       "nrows": 24,
       "postfix": null,
       "prefix": "Validation",
       "rate": null,
       "total": null,
       "unit": "it",
       "unit_divisor": 1000,
       "unit_scale": false
      },
      "application/vnd.jupyter.widget-view+json": {
       "model_id": "2b4d9c707e664c8d91d631b247e46c2c",
       "version_major": 2,
       "version_minor": 0
      },
      "text/plain": [
       "Validation: |                                             | 0/? [00:00<?, ?it/s]"
      ]
     },
     "metadata": {},
     "output_type": "display_data"
    },
    {
     "data": {
      "application/json": {
       "ascii": false,
       "bar_format": "{l_bar}{bar}| {n_fmt}/{total_fmt} [{elapsed}<{remaining}, {rate_noinv_fmt}{postfix}]",
       "colour": null,
       "elapsed": 0.002629995346069336,
       "initial": 0,
       "n": 0,
       "ncols": 80,
       "nrows": 24,
       "postfix": null,
       "prefix": "Validation",
       "rate": null,
       "total": null,
       "unit": "it",
       "unit_divisor": 1000,
       "unit_scale": false
      },
      "application/vnd.jupyter.widget-view+json": {
       "model_id": "56e91673022e4dba962162bba3f14b99",
       "version_major": 2,
       "version_minor": 0
      },
      "text/plain": [
       "Validation: |                                             | 0/? [00:00<?, ?it/s]"
      ]
     },
     "metadata": {},
     "output_type": "display_data"
    },
    {
     "name": "stderr",
     "output_type": "stream",
     "text": [
      "`Trainer.fit` stopped: `max_epochs=10` reached.\n",
      "LOCAL_RANK: 0 - CUDA_VISIBLE_DEVICES: [0]\n"
     ]
    },
    {
     "data": {
      "application/json": {
       "ascii": false,
       "bar_format": "{l_bar}{bar}| {n_fmt}/{total_fmt} [{elapsed}<{remaining}, {rate_noinv_fmt}{postfix}]",
       "colour": null,
       "elapsed": 0.004110097885131836,
       "initial": 0,
       "n": 0,
       "ncols": 80,
       "nrows": 24,
       "postfix": null,
       "prefix": "Testing",
       "rate": null,
       "total": null,
       "unit": "it",
       "unit_divisor": 1000,
       "unit_scale": false
      },
      "application/vnd.jupyter.widget-view+json": {
       "model_id": "a2ebd31b9ff9409eab374a2b4483db33",
       "version_major": 2,
       "version_minor": 0
      },
      "text/plain": [
       "Testing: |                                                | 0/? [00:00<?, ?it/s]"
      ]
     },
     "metadata": {},
     "output_type": "display_data"
    },
    {
     "data": {
      "text/html": [
       "<pre style=\"white-space:pre;overflow-x:auto;line-height:normal;font-family:Menlo,'DejaVu Sans Mono',consolas,'Courier New',monospace\">┏━━━━━━━━━━━━━━━━━━━━━━━━━━━┳━━━━━━━━━━━━━━━━━━━━━━━━━━━┓\n",
       "┃<span style=\"font-weight: bold\">        Test metric        </span>┃<span style=\"font-weight: bold\">       DataLoader 0        </span>┃\n",
       "┡━━━━━━━━━━━━━━━━━━━━━━━━━━━╇━━━━━━━━━━━━━━━━━━━━━━━━━━━┩\n",
       "│<span style=\"color: #008080; text-decoration-color: #008080\">         test/acc          </span>│<span style=\"color: #800080; text-decoration-color: #800080\">    0.9032257795333862     </span>│\n",
       "│<span style=\"color: #008080; text-decoration-color: #008080\">         test/loss         </span>│<span style=\"color: #800080; text-decoration-color: #800080\">     0.280549556016922     </span>│\n",
       "└───────────────────────────┴───────────────────────────┘\n",
       "</pre>\n"
      ],
      "text/plain": [
       "┏━━━━━━━━━━━━━━━━━━━━━━━━━━━┳━━━━━━━━━━━━━━━━━━━━━━━━━━━┓\n",
       "┃\u001b[1m \u001b[0m\u001b[1m       Test metric       \u001b[0m\u001b[1m \u001b[0m┃\u001b[1m \u001b[0m\u001b[1m      DataLoader 0       \u001b[0m\u001b[1m \u001b[0m┃\n",
       "┡━━━━━━━━━━━━━━━━━━━━━━━━━━━╇━━━━━━━━━━━━━━━━━━━━━━━━━━━┩\n",
       "│\u001b[36m \u001b[0m\u001b[36m        test/acc         \u001b[0m\u001b[36m \u001b[0m│\u001b[35m \u001b[0m\u001b[35m   0.9032257795333862    \u001b[0m\u001b[35m \u001b[0m│\n",
       "│\u001b[36m \u001b[0m\u001b[36m        test/loss        \u001b[0m\u001b[36m \u001b[0m│\u001b[35m \u001b[0m\u001b[35m    0.280549556016922    \u001b[0m\u001b[35m \u001b[0m│\n",
       "└───────────────────────────┴───────────────────────────┘\n"
      ]
     },
     "metadata": {},
     "output_type": "display_data"
    }
   ],
   "source": [
    "from lightning import Trainer\n",
    "\n",
    "net = SimpleConvNet1d(in_channels)\n",
    "model = LitModule(net=net)\n",
    "\n",
    "trainer = Trainer(accelerator=\"gpu\" if torch.cuda.is_available() else \"cpu\", min_epochs=0, max_epochs=10)\n",
    "\n",
    "trainer.fit(model=model, datamodule=datamodule)\n",
    "train_metrics = trainer.callback_metrics\n",
    "trainer.test(model=model, datamodule=datamodule)\n",
    "test_metrics = trainer.callback_metrics\n",
    "\n",
    "metric_dict = {**train_metrics, **test_metrics}"
   ]
  },
  {
   "cell_type": "code",
   "execution_count": 66,
   "metadata": {
    "id": "seSHADnqgxjm"
   },
   "outputs": [],
   "source": [
    "# @title Inspecting success/failure cases\n",
    "model.eval()\n",
    "\n",
    "test_ds = datamodule.test_ds\n",
    "\n",
    "incorrect = []\n",
    "y_true, y_pred = [], []\n",
    "for i, (x, y) in enumerate(test_ds):\n",
    "    logits = model(torch.tensor(x[None, ...])) # get logits for test example\n",
    "    preds = torch.argmax(logits, dim=1) # get predicted label\n",
    "    if preds != y:\n",
    "        # save the metadata if the prediction is incorrect\n",
    "        incorrect.append(dict(test_ds.annotations.iloc[i]))\n",
    "    y_true.append(int(y))\n",
    "    y_pred.append(int(preds))"
   ]
  },
  {
   "cell_type": "code",
   "execution_count": 80,
   "metadata": {},
   "outputs": [],
   "source": [
    "# labels"
   ]
  },
  {
   "cell_type": "code",
   "execution_count": 85,
   "metadata": {
    "id": "x11aFwaaKoLT",
    "scrolled": true,
    "tags": []
   },
   "outputs": [
    {
     "ename": "ValueError",
     "evalue": "The number of FixedLocator locations (3), usually from a call to set_ticks, does not match the number of ticklabels (6817).",
     "output_type": "error",
     "traceback": [
      "\u001b[0;31m---------------------------------------------------------------------------\u001b[0m",
      "\u001b[0;31mValueError\u001b[0m                                Traceback (most recent call last)",
      "Cell \u001b[0;32mIn[85], line 9\u001b[0m\n\u001b[1;32m      5\u001b[0m np\u001b[38;5;241m.\u001b[39msave(\u001b[38;5;124mf\u001b[39m\u001b[38;5;124m\"\u001b[39m\u001b[38;5;124mconfusion_\u001b[39m\u001b[38;5;132;01m{\u001b[39;00mfeature\u001b[38;5;132;01m}\u001b[39;00m\u001b[38;5;124m\"\u001b[39m, cm)\n\u001b[1;32m      7\u001b[0m disp \u001b[38;5;241m=\u001b[39m ConfusionMatrixDisplay(confusion_matrix\u001b[38;5;241m=\u001b[39mcm,\n\u001b[1;32m      8\u001b[0m                               display_labels\u001b[38;5;241m=\u001b[39mlabels)\n\u001b[0;32m----> 9\u001b[0m \u001b[43mdisp\u001b[49m\u001b[38;5;241;43m.\u001b[39;49m\u001b[43mplot\u001b[49m\u001b[43m(\u001b[49m\u001b[43m)\u001b[49m\n\u001b[1;32m     10\u001b[0m plt\u001b[38;5;241m.\u001b[39mxticks(rotation\u001b[38;5;241m=\u001b[39m\u001b[38;5;241m45\u001b[39m)\n",
      "File \u001b[0;32m~/anaconda3/envs/torch/lib/python3.9/site-packages/sklearn/metrics/_plot/confusion_matrix.py:181\u001b[0m, in \u001b[0;36mConfusionMatrixDisplay.plot\u001b[0;34m(self, include_values, cmap, xticks_rotation, values_format, ax, colorbar, im_kw, text_kw)\u001b[0m\n\u001b[1;32m    179\u001b[0m \u001b[38;5;28;01mif\u001b[39;00m colorbar:\n\u001b[1;32m    180\u001b[0m     fig\u001b[38;5;241m.\u001b[39mcolorbar(\u001b[38;5;28mself\u001b[39m\u001b[38;5;241m.\u001b[39mim_, ax\u001b[38;5;241m=\u001b[39max)\n\u001b[0;32m--> 181\u001b[0m \u001b[43max\u001b[49m\u001b[38;5;241;43m.\u001b[39;49m\u001b[43mset\u001b[49m\u001b[43m(\u001b[49m\n\u001b[1;32m    182\u001b[0m \u001b[43m    \u001b[49m\u001b[43mxticks\u001b[49m\u001b[38;5;241;43m=\u001b[39;49m\u001b[43mnp\u001b[49m\u001b[38;5;241;43m.\u001b[39;49m\u001b[43marange\u001b[49m\u001b[43m(\u001b[49m\u001b[43mn_classes\u001b[49m\u001b[43m)\u001b[49m\u001b[43m,\u001b[49m\n\u001b[1;32m    183\u001b[0m \u001b[43m    \u001b[49m\u001b[43myticks\u001b[49m\u001b[38;5;241;43m=\u001b[39;49m\u001b[43mnp\u001b[49m\u001b[38;5;241;43m.\u001b[39;49m\u001b[43marange\u001b[49m\u001b[43m(\u001b[49m\u001b[43mn_classes\u001b[49m\u001b[43m)\u001b[49m\u001b[43m,\u001b[49m\n\u001b[1;32m    184\u001b[0m \u001b[43m    \u001b[49m\u001b[43mxticklabels\u001b[49m\u001b[38;5;241;43m=\u001b[39;49m\u001b[43mdisplay_labels\u001b[49m\u001b[43m,\u001b[49m\n\u001b[1;32m    185\u001b[0m \u001b[43m    \u001b[49m\u001b[43myticklabels\u001b[49m\u001b[38;5;241;43m=\u001b[39;49m\u001b[43mdisplay_labels\u001b[49m\u001b[43m,\u001b[49m\n\u001b[1;32m    186\u001b[0m \u001b[43m    \u001b[49m\u001b[43mylabel\u001b[49m\u001b[38;5;241;43m=\u001b[39;49m\u001b[38;5;124;43m\"\u001b[39;49m\u001b[38;5;124;43mTrue label\u001b[39;49m\u001b[38;5;124;43m\"\u001b[39;49m\u001b[43m,\u001b[49m\n\u001b[1;32m    187\u001b[0m \u001b[43m    \u001b[49m\u001b[43mxlabel\u001b[49m\u001b[38;5;241;43m=\u001b[39;49m\u001b[38;5;124;43m\"\u001b[39;49m\u001b[38;5;124;43mPredicted label\u001b[39;49m\u001b[38;5;124;43m\"\u001b[39;49m\u001b[43m,\u001b[49m\n\u001b[1;32m    188\u001b[0m \u001b[43m\u001b[49m\u001b[43m)\u001b[49m\n\u001b[1;32m    190\u001b[0m ax\u001b[38;5;241m.\u001b[39mset_ylim((n_classes \u001b[38;5;241m-\u001b[39m \u001b[38;5;241m0.5\u001b[39m, \u001b[38;5;241m-\u001b[39m\u001b[38;5;241m0.5\u001b[39m))\n\u001b[1;32m    191\u001b[0m plt\u001b[38;5;241m.\u001b[39msetp(ax\u001b[38;5;241m.\u001b[39mget_xticklabels(), rotation\u001b[38;5;241m=\u001b[39mxticks_rotation)\n",
      "File \u001b[0;32m~/anaconda3/envs/torch/lib/python3.9/site-packages/matplotlib/artist.py:1179\u001b[0m, in \u001b[0;36mArtist.set\u001b[0;34m(self, **kwargs)\u001b[0m\n\u001b[1;32m   1177\u001b[0m \u001b[38;5;28;01mif\u001b[39;00m move_color_to_start:\n\u001b[1;32m   1178\u001b[0m     kwargs \u001b[38;5;241m=\u001b[39m {\u001b[38;5;124m\"\u001b[39m\u001b[38;5;124mcolor\u001b[39m\u001b[38;5;124m\"\u001b[39m: kwargs\u001b[38;5;241m.\u001b[39mpop(\u001b[38;5;124m\"\u001b[39m\u001b[38;5;124mcolor\u001b[39m\u001b[38;5;124m\"\u001b[39m), \u001b[38;5;241m*\u001b[39m\u001b[38;5;241m*\u001b[39mkwargs}\n\u001b[0;32m-> 1179\u001b[0m \u001b[38;5;28;01mreturn\u001b[39;00m \u001b[38;5;28;43mself\u001b[39;49m\u001b[38;5;241;43m.\u001b[39;49m\u001b[43mupdate\u001b[49m\u001b[43m(\u001b[49m\u001b[43mkwargs\u001b[49m\u001b[43m)\u001b[49m\n",
      "File \u001b[0;32m~/anaconda3/envs/torch/lib/python3.9/site-packages/matplotlib/artist.py:1064\u001b[0m, in \u001b[0;36mArtist.update\u001b[0;34m(self, props)\u001b[0m\n\u001b[1;32m   1061\u001b[0m             \u001b[38;5;28;01mif\u001b[39;00m \u001b[38;5;129;01mnot\u001b[39;00m \u001b[38;5;28mcallable\u001b[39m(func):\n\u001b[1;32m   1062\u001b[0m                 \u001b[38;5;28;01mraise\u001b[39;00m \u001b[38;5;167;01mAttributeError\u001b[39;00m(\u001b[38;5;124mf\u001b[39m\u001b[38;5;124m\"\u001b[39m\u001b[38;5;132;01m{\u001b[39;00m\u001b[38;5;28mtype\u001b[39m(\u001b[38;5;28mself\u001b[39m)\u001b[38;5;241m.\u001b[39m\u001b[38;5;18m__name__\u001b[39m\u001b[38;5;132;01m!r}\u001b[39;00m\u001b[38;5;124m object \u001b[39m\u001b[38;5;124m\"\u001b[39m\n\u001b[1;32m   1063\u001b[0m                                      \u001b[38;5;124mf\u001b[39m\u001b[38;5;124m\"\u001b[39m\u001b[38;5;124mhas no property \u001b[39m\u001b[38;5;132;01m{\u001b[39;00mk\u001b[38;5;132;01m!r}\u001b[39;00m\u001b[38;5;124m\"\u001b[39m)\n\u001b[0;32m-> 1064\u001b[0m             ret\u001b[38;5;241m.\u001b[39mappend(\u001b[43mfunc\u001b[49m\u001b[43m(\u001b[49m\u001b[43mv\u001b[49m\u001b[43m)\u001b[49m)\n\u001b[1;32m   1065\u001b[0m \u001b[38;5;28;01mif\u001b[39;00m ret:\n\u001b[1;32m   1066\u001b[0m     \u001b[38;5;28mself\u001b[39m\u001b[38;5;241m.\u001b[39mpchanged()\n",
      "File \u001b[0;32m~/anaconda3/envs/torch/lib/python3.9/site-packages/matplotlib/axes/_base.py:73\u001b[0m, in \u001b[0;36m_axis_method_wrapper.__set_name__.<locals>.wrapper\u001b[0;34m(self, *args, **kwargs)\u001b[0m\n\u001b[1;32m     72\u001b[0m \u001b[38;5;28;01mdef\u001b[39;00m \u001b[38;5;21mwrapper\u001b[39m(\u001b[38;5;28mself\u001b[39m, \u001b[38;5;241m*\u001b[39margs, \u001b[38;5;241m*\u001b[39m\u001b[38;5;241m*\u001b[39mkwargs):\n\u001b[0;32m---> 73\u001b[0m     \u001b[38;5;28;01mreturn\u001b[39;00m \u001b[43mget_method\u001b[49m\u001b[43m(\u001b[49m\u001b[38;5;28;43mself\u001b[39;49m\u001b[43m)\u001b[49m\u001b[43m(\u001b[49m\u001b[38;5;241;43m*\u001b[39;49m\u001b[43margs\u001b[49m\u001b[43m,\u001b[49m\u001b[43m \u001b[49m\u001b[38;5;241;43m*\u001b[39;49m\u001b[38;5;241;43m*\u001b[39;49m\u001b[43mkwargs\u001b[49m\u001b[43m)\u001b[49m\n",
      "File \u001b[0;32m~/anaconda3/envs/torch/lib/python3.9/site-packages/matplotlib/_api/deprecation.py:471\u001b[0m, in \u001b[0;36mmake_keyword_only.<locals>.wrapper\u001b[0;34m(*args, **kwargs)\u001b[0m\n\u001b[1;32m    465\u001b[0m \u001b[38;5;28;01mif\u001b[39;00m \u001b[38;5;28mlen\u001b[39m(args) \u001b[38;5;241m>\u001b[39m idx:\n\u001b[1;32m    466\u001b[0m     warn_deprecated(\n\u001b[1;32m    467\u001b[0m         since, message\u001b[38;5;241m=\u001b[39m\u001b[38;5;124m\"\u001b[39m\u001b[38;5;124mPassing the \u001b[39m\u001b[38;5;132;01m%(name)s\u001b[39;00m\u001b[38;5;124m \u001b[39m\u001b[38;5;132;01m%(obj_type)s\u001b[39;00m\u001b[38;5;124m \u001b[39m\u001b[38;5;124m\"\u001b[39m\n\u001b[1;32m    468\u001b[0m         \u001b[38;5;124m\"\u001b[39m\u001b[38;5;124mpositionally is deprecated since Matplotlib \u001b[39m\u001b[38;5;132;01m%(since)s\u001b[39;00m\u001b[38;5;124m; the \u001b[39m\u001b[38;5;124m\"\u001b[39m\n\u001b[1;32m    469\u001b[0m         \u001b[38;5;124m\"\u001b[39m\u001b[38;5;124mparameter will become keyword-only \u001b[39m\u001b[38;5;132;01m%(removal)s\u001b[39;00m\u001b[38;5;124m.\u001b[39m\u001b[38;5;124m\"\u001b[39m,\n\u001b[1;32m    470\u001b[0m         name\u001b[38;5;241m=\u001b[39mname, obj_type\u001b[38;5;241m=\u001b[39m\u001b[38;5;124mf\u001b[39m\u001b[38;5;124m\"\u001b[39m\u001b[38;5;124mparameter of \u001b[39m\u001b[38;5;132;01m{\u001b[39;00mfunc\u001b[38;5;241m.\u001b[39m\u001b[38;5;18m__name__\u001b[39m\u001b[38;5;132;01m}\u001b[39;00m\u001b[38;5;124m()\u001b[39m\u001b[38;5;124m\"\u001b[39m)\n\u001b[0;32m--> 471\u001b[0m \u001b[38;5;28;01mreturn\u001b[39;00m \u001b[43mfunc\u001b[49m\u001b[43m(\u001b[49m\u001b[38;5;241;43m*\u001b[39;49m\u001b[43margs\u001b[49m\u001b[43m,\u001b[49m\u001b[43m \u001b[49m\u001b[38;5;241;43m*\u001b[39;49m\u001b[38;5;241;43m*\u001b[39;49m\u001b[43mkwargs\u001b[49m\u001b[43m)\u001b[49m\n",
      "File \u001b[0;32m~/anaconda3/envs/torch/lib/python3.9/site-packages/matplotlib/axis.py:1795\u001b[0m, in \u001b[0;36mAxis._set_ticklabels\u001b[0;34m(self, labels, fontdict, minor, **kwargs)\u001b[0m\n\u001b[1;32m   1793\u001b[0m \u001b[38;5;28;01mif\u001b[39;00m fontdict \u001b[38;5;129;01mis\u001b[39;00m \u001b[38;5;129;01mnot\u001b[39;00m \u001b[38;5;28;01mNone\u001b[39;00m:\n\u001b[1;32m   1794\u001b[0m     kwargs\u001b[38;5;241m.\u001b[39mupdate(fontdict)\n\u001b[0;32m-> 1795\u001b[0m \u001b[38;5;28;01mreturn\u001b[39;00m \u001b[38;5;28;43mself\u001b[39;49m\u001b[38;5;241;43m.\u001b[39;49m\u001b[43mset_ticklabels\u001b[49m\u001b[43m(\u001b[49m\u001b[43mlabels\u001b[49m\u001b[43m,\u001b[49m\u001b[43m \u001b[49m\u001b[43mminor\u001b[49m\u001b[38;5;241;43m=\u001b[39;49m\u001b[43mminor\u001b[49m\u001b[43m,\u001b[49m\u001b[43m \u001b[49m\u001b[38;5;241;43m*\u001b[39;49m\u001b[38;5;241;43m*\u001b[39;49m\u001b[43mkwargs\u001b[49m\u001b[43m)\u001b[49m\n",
      "File \u001b[0;32m~/anaconda3/envs/torch/lib/python3.9/site-packages/matplotlib/axis.py:1716\u001b[0m, in \u001b[0;36mAxis.set_ticklabels\u001b[0;34m(self, ticklabels, minor, **kwargs)\u001b[0m\n\u001b[1;32m   1712\u001b[0m \u001b[38;5;28;01mif\u001b[39;00m \u001b[38;5;28misinstance\u001b[39m(locator, mticker\u001b[38;5;241m.\u001b[39mFixedLocator):\n\u001b[1;32m   1713\u001b[0m     \u001b[38;5;66;03m# Passing [] as a list of ticklabels is often used as a way to\u001b[39;00m\n\u001b[1;32m   1714\u001b[0m     \u001b[38;5;66;03m# remove all tick labels, so only error for > 0 ticklabels\u001b[39;00m\n\u001b[1;32m   1715\u001b[0m     \u001b[38;5;28;01mif\u001b[39;00m \u001b[38;5;28mlen\u001b[39m(locator\u001b[38;5;241m.\u001b[39mlocs) \u001b[38;5;241m!=\u001b[39m \u001b[38;5;28mlen\u001b[39m(ticklabels) \u001b[38;5;129;01mand\u001b[39;00m \u001b[38;5;28mlen\u001b[39m(ticklabels) \u001b[38;5;241m!=\u001b[39m \u001b[38;5;241m0\u001b[39m:\n\u001b[0;32m-> 1716\u001b[0m         \u001b[38;5;28;01mraise\u001b[39;00m \u001b[38;5;167;01mValueError\u001b[39;00m(\n\u001b[1;32m   1717\u001b[0m             \u001b[38;5;124m\"\u001b[39m\u001b[38;5;124mThe number of FixedLocator locations\u001b[39m\u001b[38;5;124m\"\u001b[39m\n\u001b[1;32m   1718\u001b[0m             \u001b[38;5;124mf\u001b[39m\u001b[38;5;124m\"\u001b[39m\u001b[38;5;124m (\u001b[39m\u001b[38;5;132;01m{\u001b[39;00m\u001b[38;5;28mlen\u001b[39m(locator\u001b[38;5;241m.\u001b[39mlocs)\u001b[38;5;132;01m}\u001b[39;00m\u001b[38;5;124m), usually from a call to\u001b[39m\u001b[38;5;124m\"\u001b[39m\n\u001b[1;32m   1719\u001b[0m             \u001b[38;5;124m\"\u001b[39m\u001b[38;5;124m set_ticks, does not match\u001b[39m\u001b[38;5;124m\"\u001b[39m\n\u001b[1;32m   1720\u001b[0m             \u001b[38;5;124mf\u001b[39m\u001b[38;5;124m\"\u001b[39m\u001b[38;5;124m the number of ticklabels (\u001b[39m\u001b[38;5;132;01m{\u001b[39;00m\u001b[38;5;28mlen\u001b[39m(ticklabels)\u001b[38;5;132;01m}\u001b[39;00m\u001b[38;5;124m).\u001b[39m\u001b[38;5;124m\"\u001b[39m)\n\u001b[1;32m   1721\u001b[0m     tickd \u001b[38;5;241m=\u001b[39m {loc: lab \u001b[38;5;28;01mfor\u001b[39;00m loc, lab \u001b[38;5;129;01min\u001b[39;00m \u001b[38;5;28mzip\u001b[39m(locator\u001b[38;5;241m.\u001b[39mlocs, ticklabels)}\n\u001b[1;32m   1722\u001b[0m     func \u001b[38;5;241m=\u001b[39m functools\u001b[38;5;241m.\u001b[39mpartial(\u001b[38;5;28mself\u001b[39m\u001b[38;5;241m.\u001b[39m_format_with_dict, tickd)\n",
      "\u001b[0;31mValueError\u001b[0m: The number of FixedLocator locations (3), usually from a call to set_ticks, does not match the number of ticklabels (6817)."
     ]
    },
    {
     "data": {
      "image/png": "[encoded data removed]",
      "text/plain": [
       "<Figure size 640x480 with 2 Axes>"
      ]
     },
     "metadata": {},
     "output_type": "display_data"
    }
   ],
   "source": [
    "import matplotlib.pyplot as plt\n",
    "from sklearn.metrics import confusion_matrix, ConfusionMatrixDisplay\n",
    "\n",
    "cm = confusion_matrix(y_true, y_pred)\n",
    "np.save(f\"confusion_{feature}\", cm)\n",
    "\n",
    "disp = ConfusionMatrixDisplay(confusion_matrix=cm,\n",
    "                              display_labels=labels)\n",
    "disp.plot()\n",
    "plt.xticks(rotation=45)"
   ]
  },
  {
   "cell_type": "code",
   "execution_count": 109,
   "metadata": {
    "id": "l9h7UOK-C-xt",
    "scrolled": true,
    "tags": []
   },
   "outputs": [
    {
     "name": "stdout",
     "output_type": "stream",
     "text": [
      "computing U1\n",
      "computing S1\n"
     ]
    },
    {
     "data": {
      "text/html": [
       "\n",
       "                <audio  controls=\"controls\" >\n",
       "                    <source src=\"data:audio/x-wav;base64,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\" type=\"audio/x-wav\" />\n",
       "                    Your browser does not support the audio element.\n",
       "                </audio>\n",
       "              "
      ],
      "text/plain": [
       "<IPython.lib.display.Audio object>"
      ]
     },
     "metadata": {},
     "output_type": "display_data"
    },
    {
     "data": {
      "image/png": "[encoded data removed]",
      "text/plain": [
       "<Figure size 1000x500 with 1 Axes>"
      ]
     },
     "metadata": {},
     "output_type": "display_data"
    },
    {
     "data": {
      "image/png": "[encoded data removed]",
      "text/plain": [
       "<Figure size 1000x500 with 1 Axes>"
      ]
     },
     "metadata": {},
     "output_type": "display_data"
    }
   ],
   "source": [
    "# @title Visualize a failed prediction\n",
    "sample_idx = 1 #@param {type:\"slider\", min:0, max:1000, step:1.0}\n",
    "\n",
    "sample = incorrect[sample_idx]\n",
    "filepath = os.path.join(final_audio_directory, sample['audio_name'])\n",
    "\n",
    "# Load audio file and process\n",
    "x, sr = librosa.load(filepath, sr=None)\n",
    "x = torch.tensor(x[..., :N], dtype=torch.float32)\n",
    "\n",
    "print(\"computing U1\")\n",
    "u1 = scat1d_u1(x)\n",
    "print(\"computing S1\")\n",
    "s1 = scat1d(x)\n",
    "\n",
    "display(Audio(filepath))\n",
    "plot_u1_s1(x, sr, u1, s1, scat1d_u1, scat1d, title=f\"{sample['label_1']}\")"
   ]
  }
 ],
 "metadata": {
  "accelerator": "GPU",
  "colab": {
   "provenance": []
  },
  "kernelspec": {
   "display_name": "Python 3 (ipykernel)",
   "language": "python",
   "name": "python3"
  },
  "language_info": {
   "codemirror_mode": {
    "name": "ipython",
    "version": 3
   },
   "file_extension": ".py",
   "mimetype": "text/x-python",
   "name": "python",
   "nbconvert_exporter": "python",
   "pygments_lexer": "ipython3",
   "version": "3.8.12"
  }
 },
 "nbformat": 4,
 "nbformat_minor": 4
}
