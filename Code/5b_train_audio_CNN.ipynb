{
 "cells": [
  {
   "cell_type": "markdown",
   "id": "4603377d-50dd-4993-8e80-5c954a37054b",
   "metadata": {
    "tags": []
   },
   "source": [
    "# MultiSensor Dataset Preparation \n",
    "- Experiment data: March 2024. Aluminum, Laser-Wire DED\n",
    "- Aurthor: Chen Lequn\n",
    "\n",
    "### Notebook 5b: Training Audio CNN for classification\n",
    "- Performances for various deep learning models (VGG, GoogleNet, ResNet, LeNet, etc.) are evaluated and benchmarked on audio dataset.\n",
    "- Best performance will guide subsequent multimodal fusion network development."
   ]
  },
  {
   "cell_type": "code",
   "execution_count": 1,
   "id": "dfa9424f-148c-4dc8-a449-478f25f3a804",
   "metadata": {},
   "outputs": [],
   "source": [
    "import torch\n",
    "import torch.nn as nn\n",
    "import torch.optim as optim\n",
    "import torch.nn.functional as F\n",
    "import torch.backends.cudnn as cudnn\n",
    "import torch.multiprocessing as mp\n",
    "\n",
    "import torchvision\n",
    "import torchaudio\n",
    "import torch.nn as nn\n",
    "import torchvision.transforms as transforms\n",
    "from torch.utils.data import Dataset, DataLoader, random_split, SubsetRandomSampler, WeightedRandomSampler\n",
    "\n",
    "# audio signal augmentation packages\n",
    "import audiomentations\n",
    "import torch_audiomentations\n",
    "from audiomentations import Compose, AddGaussianNoise\n",
    "from audiomentations import Normalize\n",
    "# from audiomentations import BandPassFilter, Gain, HighPassFilter\n",
    "\n",
    "from torch_audiomentations import PolarityInversion\n",
    "\n",
    "import os\n",
    "import argparse\n",
    "from torch.utils.data import Subset\n",
    "import pandas as pd\n",
    "import numpy as np\n",
    "\n",
    "# Scikit learn\n",
    "#from sklearn.model_selection import train_test_split\n",
    "from sklearn.metrics import classification_report, accuracy_score, confusion_matrix\n",
    "from sklearn.preprocessing import LabelEncoder\n",
    "from sklearn.utils import shuffle, resample, class_weight\n",
    "from sklearn.model_selection import GridSearchCV, RandomizedSearchCV\n",
    "from sklearn.model_selection import StratifiedKFold, KFold\n",
    "from sklearn.metrics import roc_curve, auc\n",
    "from sklearn.model_selection import train_test_split, StratifiedShuffleSplit\n",
    "from sklearn.preprocessing import label_binarize\n",
    "\n",
    "from audio_models import * \n",
    "from multimodaldataset import MultimodalDataset, LDEDAudioDataset, LDEDVisionDataset\n",
    "from utils import *\n",
    "from train_utils import train_single_epoch, test_single_epoch, training_loop\n",
    "\n",
    "## plot\n",
    "import matplotlib.pyplot as plt\n",
    "import seaborn as sns\n",
    "import matplotlib as mpl\n",
    "from matplotlib.pyplot import gca\n",
    "mpl.rc('axes', labelsize=14)\n",
    "mpl.rc('xtick', labelsize=12)\n",
    "mpl.rc('ytick', labelsize=12)\n",
    "# plt.rcParams[\"font.family\"] = \"serif\"\n",
    "# plt.rcParams[\"font.serif\"] = \"Times New Roman\"\n",
    "%matplotlib inline\n",
    "import seaborn as sns\n",
    "from itertools import cycle\n",
    "import itertools"
   ]
  },
  {
   "cell_type": "code",
   "execution_count": 2,
   "id": "0a41b9b6-8b49-4aa1-bd64-739996a21eca",
   "metadata": {},
   "outputs": [],
   "source": [
    "PROJECT_ROOT_DIR = \"../\"\n",
    "IMAGE_PATH = os.path.join(PROJECT_ROOT_DIR, \"result_images\", 'defect classification', 'class_name_v3','train_audio')\n",
    "os.makedirs(IMAGE_PATH, exist_ok=True)\n",
    "\n",
    "model_path = os.path.join(PROJECT_ROOT_DIR, \"trained_models\", 'defect classification', 'class_name_v3', 'audio_model')\n",
    "os.makedirs(model_path, exist_ok=True)\n",
    "\n",
    "Multimodal_dataset_PATH = \"/home/chenlequn/pan1/Dataset/LDED_acoustic_visual_monitoring_dataset\"\n",
    "Dataset_path = os.path.join(Multimodal_dataset_PATH, f'25Hz')\n",
    "\n",
    "## function for automatically save the diagram/graph into the folder \n",
    "def save_fig(fig_id, tight_layout=True, fig_extension=\"png\", resolution=300):\n",
    "    path = os.path.join(IMAGE_PATH, fig_id + \".\" + fig_extension)\n",
    "    print(\"Saving figure\", fig_id)\n",
    "    if tight_layout:\n",
    "        plt.tight_layout()\n",
    "    plt.savefig(path, format=fig_extension, dpi=resolution)\n",
    "\n",
    "# Ignore useless warnings (see SciPy issue #5998)\n",
    "import warnings\n",
    "warnings.filterwarnings(action=\"ignore\", message=\"^internal gelsd\")\n",
    "\n",
    "plt.rcParams[\"axes.edgecolor\"] = \"black\"\n",
    "plt.rcParams[\"axes.linewidth\"] = 2.50\n",
    "\n",
    "np.random.seed(0)\n",
    "# torch.manual_seed(0)"
   ]
  },
  {
   "cell_type": "code",
   "execution_count": 3,
   "id": "3d072795-293c-4c22-aa88-c4ee8b371090",
   "metadata": {},
   "outputs": [],
   "source": [
    "# classes = ('Defect-free', 'Defective', 'Laser-off')\n",
    "classes = ('Defect-free', 'Keyhole pores', 'Laser defocus', 'Laser-off')\n",
    "# classes = ('Laser-off', 'Defect-free', 'Cracks', \"Keyhole pores\")\n",
    "SAMPLE_RATE = 44100\n",
    "LEARNING_RATE = 0.00001\n",
    "BATCH_SIZE = 32\n",
    "EPOCHS = 20"
   ]
  },
  {
   "cell_type": "markdown",
   "id": "bdb40432-dab8-410b-9b6f-29db62f6d36f",
   "metadata": {},
   "source": [
    "### Use GPU if possible"
   ]
  },
  {
   "cell_type": "code",
   "execution_count": 4,
   "id": "5bc4cba0-eca1-4d20-96c9-8d2ffae56e26",
   "metadata": {},
   "outputs": [
    {
     "name": "stdout",
     "output_type": "stream",
     "text": [
      "Using cuda\n"
     ]
    }
   ],
   "source": [
    "device = 'cuda' if torch.cuda.is_available() else 'cpu'\n",
    "print(f\"Using {device}\")\n",
    "mp.set_start_method(method='forkserver', force=True)"
   ]
  },
  {
   "cell_type": "code",
   "execution_count": 5,
   "id": "9836f0c8-db6a-4b79-8a5e-494bb32fe0b8",
   "metadata": {},
   "outputs": [
    {
     "data": {
      "text/plain": [
       "<torch._C.Generator at 0x7f9d7c0f43f0>"
      ]
     },
     "execution_count": 5,
     "metadata": {},
     "output_type": "execute_result"
    }
   ],
   "source": [
    "torch.manual_seed(0)"
   ]
  },
  {
   "cell_type": "markdown",
   "id": "d7411379-7ecf-4afd-9a99-31a7e2cbd7ae",
   "metadata": {},
   "source": [
    "### Annotation file\n",
    "\n",
    "- Vision acoustic spatio-temporal registration has been done in our previous work. \n",
    "- Each frame (timestamp) corresponds to a robot TCP position.\n",
    "- The duration for each frame is 0.01 seconds (sampling freqeuncy 10 Hz.)"
   ]
  },
  {
   "cell_type": "code",
   "execution_count": 6,
   "id": "6802a997-ca33-436e-8925-d039eada53e3",
   "metadata": {
    "scrolled": true,
    "tags": []
   },
   "outputs": [
    {
     "data": {
      "text/html": [
       "<div>\n",
       "<style scoped>\n",
       "    .dataframe tbody tr th:only-of-type {\n",
       "        vertical-align: middle;\n",
       "    }\n",
       "\n",
       "    .dataframe tbody tr th {\n",
       "        vertical-align: top;\n",
       "    }\n",
       "\n",
       "    .dataframe thead th {\n",
       "        text-align: right;\n",
       "    }\n",
       "</style>\n",
       "<table border=\"1\" class=\"dataframe\">\n",
       "  <thead>\n",
       "    <tr style=\"text-align: right;\">\n",
       "      <th></th>\n",
       "      <th>sample index</th>\n",
       "      <th>Time_Stamps</th>\n",
       "      <th>audio_file_name</th>\n",
       "      <th>image_file_name</th>\n",
       "      <th>class_name</th>\n",
       "      <th>class_name_v2</th>\n",
       "      <th>Layer number</th>\n",
       "      <th>Sample number</th>\n",
       "      <th>class_name_v3</th>\n",
       "      <th>rms_energy</th>\n",
       "      <th>...</th>\n",
       "      <th>center_y</th>\n",
       "      <th>contour_area</th>\n",
       "      <th>contour_length</th>\n",
       "      <th>X</th>\n",
       "      <th>Y</th>\n",
       "      <th>Z</th>\n",
       "      <th>Vx</th>\n",
       "      <th>Vy</th>\n",
       "      <th>Vz</th>\n",
       "      <th>Speed</th>\n",
       "    </tr>\n",
       "  </thead>\n",
       "  <tbody>\n",
       "    <tr>\n",
       "      <th>0</th>\n",
       "      <td>1</td>\n",
       "      <td>0.00</td>\n",
       "      <td>sample_21_1.wav</td>\n",
       "      <td>sample_21_1.jpg</td>\n",
       "      <td>Laser-off</td>\n",
       "      <td>Laser-off</td>\n",
       "      <td>1.0</td>\n",
       "      <td>21</td>\n",
       "      <td>Laser-off</td>\n",
       "      <td>0.009018</td>\n",
       "      <td>...</td>\n",
       "      <td>0.000000</td>\n",
       "      <td>0.0</td>\n",
       "      <td>0.000000</td>\n",
       "      <td>0.000</td>\n",
       "      <td>0.000</td>\n",
       "      <td>0.000</td>\n",
       "      <td>0.000</td>\n",
       "      <td>-0.000</td>\n",
       "      <td>0.000</td>\n",
       "      <td>0.000</td>\n",
       "    </tr>\n",
       "    <tr>\n",
       "      <th>1</th>\n",
       "      <td>2</td>\n",
       "      <td>0.04</td>\n",
       "      <td>sample_21_2.wav</td>\n",
       "      <td>sample_21_2.jpg</td>\n",
       "      <td>Defect-free</td>\n",
       "      <td>Defect-free</td>\n",
       "      <td>1.0</td>\n",
       "      <td>21</td>\n",
       "      <td>Defect-free</td>\n",
       "      <td>0.019286</td>\n",
       "      <td>...</td>\n",
       "      <td>239.000000</td>\n",
       "      <td>305442.0</td>\n",
       "      <td>2234.000000</td>\n",
       "      <td>0.000</td>\n",
       "      <td>-0.000</td>\n",
       "      <td>0.001</td>\n",
       "      <td>-0.074</td>\n",
       "      <td>-0.074</td>\n",
       "      <td>0.000</td>\n",
       "      <td>0.105</td>\n",
       "    </tr>\n",
       "    <tr>\n",
       "      <th>2</th>\n",
       "      <td>3</td>\n",
       "      <td>0.08</td>\n",
       "      <td>sample_21_3.wav</td>\n",
       "      <td>sample_21_3.jpg</td>\n",
       "      <td>Defect-free</td>\n",
       "      <td>Defect-free</td>\n",
       "      <td>1.0</td>\n",
       "      <td>21</td>\n",
       "      <td>Defect-free</td>\n",
       "      <td>0.019593</td>\n",
       "      <td>...</td>\n",
       "      <td>239.000000</td>\n",
       "      <td>305442.0</td>\n",
       "      <td>2234.000000</td>\n",
       "      <td>-0.010</td>\n",
       "      <td>0.015</td>\n",
       "      <td>-0.007</td>\n",
       "      <td>-0.051</td>\n",
       "      <td>0.026</td>\n",
       "      <td>-0.051</td>\n",
       "      <td>0.077</td>\n",
       "    </tr>\n",
       "    <tr>\n",
       "      <th>3</th>\n",
       "      <td>4</td>\n",
       "      <td>0.12</td>\n",
       "      <td>sample_21_4.wav</td>\n",
       "      <td>sample_21_4.jpg</td>\n",
       "      <td>Defect-free</td>\n",
       "      <td>Defect-free</td>\n",
       "      <td>1.0</td>\n",
       "      <td>21</td>\n",
       "      <td>Defect-free</td>\n",
       "      <td>0.030937</td>\n",
       "      <td>...</td>\n",
       "      <td>230.264496</td>\n",
       "      <td>291865.5</td>\n",
       "      <td>2279.781744</td>\n",
       "      <td>-0.007</td>\n",
       "      <td>0.016</td>\n",
       "      <td>0.010</td>\n",
       "      <td>0.173</td>\n",
       "      <td>-0.222</td>\n",
       "      <td>2.520</td>\n",
       "      <td>2.536</td>\n",
       "    </tr>\n",
       "    <tr>\n",
       "      <th>4</th>\n",
       "      <td>5</td>\n",
       "      <td>0.16</td>\n",
       "      <td>sample_21_5.wav</td>\n",
       "      <td>sample_21_5.jpg</td>\n",
       "      <td>Defect-free</td>\n",
       "      <td>Defect-free</td>\n",
       "      <td>1.0</td>\n",
       "      <td>21</td>\n",
       "      <td>Defect-free</td>\n",
       "      <td>0.038329</td>\n",
       "      <td>...</td>\n",
       "      <td>229.109962</td>\n",
       "      <td>281970.0</td>\n",
       "      <td>2407.847760</td>\n",
       "      <td>-0.111</td>\n",
       "      <td>0.123</td>\n",
       "      <td>-0.057</td>\n",
       "      <td>-1.864</td>\n",
       "      <td>1.662</td>\n",
       "      <td>-2.468</td>\n",
       "      <td>3.511</td>\n",
       "    </tr>\n",
       "    <tr>\n",
       "      <th>...</th>\n",
       "      <td>...</td>\n",
       "      <td>...</td>\n",
       "      <td>...</td>\n",
       "      <td>...</td>\n",
       "      <td>...</td>\n",
       "      <td>...</td>\n",
       "      <td>...</td>\n",
       "      <td>...</td>\n",
       "      <td>...</td>\n",
       "      <td>...</td>\n",
       "      <td>...</td>\n",
       "      <td>...</td>\n",
       "      <td>...</td>\n",
       "      <td>...</td>\n",
       "      <td>...</td>\n",
       "      <td>...</td>\n",
       "      <td>...</td>\n",
       "      <td>...</td>\n",
       "      <td>...</td>\n",
       "      <td>...</td>\n",
       "      <td>...</td>\n",
       "    </tr>\n",
       "    <tr>\n",
       "      <th>48461</th>\n",
       "      <td>10982</td>\n",
       "      <td>439.24</td>\n",
       "      <td>sample_26_10982.wav</td>\n",
       "      <td>sample_26_10982.jpg</td>\n",
       "      <td>Laser-off</td>\n",
       "      <td>Laser-off</td>\n",
       "      <td>NaN</td>\n",
       "      <td>26</td>\n",
       "      <td>Laser-off</td>\n",
       "      <td>0.011000</td>\n",
       "      <td>...</td>\n",
       "      <td>0.000000</td>\n",
       "      <td>0.0</td>\n",
       "      <td>0.000000</td>\n",
       "      <td>0.000</td>\n",
       "      <td>0.000</td>\n",
       "      <td>0.000</td>\n",
       "      <td>-0.076</td>\n",
       "      <td>0.025</td>\n",
       "      <td>0.000</td>\n",
       "      <td>0.080</td>\n",
       "    </tr>\n",
       "    <tr>\n",
       "      <th>48462</th>\n",
       "      <td>10983</td>\n",
       "      <td>439.28</td>\n",
       "      <td>sample_26_10983.wav</td>\n",
       "      <td>sample_26_10983.jpg</td>\n",
       "      <td>Laser-off</td>\n",
       "      <td>Laser-off</td>\n",
       "      <td>NaN</td>\n",
       "      <td>26</td>\n",
       "      <td>Laser-off</td>\n",
       "      <td>0.008347</td>\n",
       "      <td>...</td>\n",
       "      <td>0.000000</td>\n",
       "      <td>0.0</td>\n",
       "      <td>0.000000</td>\n",
       "      <td>0.000</td>\n",
       "      <td>0.000</td>\n",
       "      <td>0.000</td>\n",
       "      <td>-0.076</td>\n",
       "      <td>0.025</td>\n",
       "      <td>0.000</td>\n",
       "      <td>0.080</td>\n",
       "    </tr>\n",
       "    <tr>\n",
       "      <th>48463</th>\n",
       "      <td>10984</td>\n",
       "      <td>439.32</td>\n",
       "      <td>sample_26_10984.wav</td>\n",
       "      <td>sample_26_10984.jpg</td>\n",
       "      <td>Laser-off</td>\n",
       "      <td>Laser-off</td>\n",
       "      <td>NaN</td>\n",
       "      <td>26</td>\n",
       "      <td>Laser-off</td>\n",
       "      <td>0.011081</td>\n",
       "      <td>...</td>\n",
       "      <td>0.000000</td>\n",
       "      <td>0.0</td>\n",
       "      <td>0.000000</td>\n",
       "      <td>0.000</td>\n",
       "      <td>0.000</td>\n",
       "      <td>0.000</td>\n",
       "      <td>-0.076</td>\n",
       "      <td>0.025</td>\n",
       "      <td>0.000</td>\n",
       "      <td>0.080</td>\n",
       "    </tr>\n",
       "    <tr>\n",
       "      <th>48464</th>\n",
       "      <td>10985</td>\n",
       "      <td>439.36</td>\n",
       "      <td>sample_26_10985.wav</td>\n",
       "      <td>sample_26_10985.jpg</td>\n",
       "      <td>Laser-off</td>\n",
       "      <td>Laser-off</td>\n",
       "      <td>NaN</td>\n",
       "      <td>26</td>\n",
       "      <td>Laser-off</td>\n",
       "      <td>0.011044</td>\n",
       "      <td>...</td>\n",
       "      <td>0.000000</td>\n",
       "      <td>0.0</td>\n",
       "      <td>0.000000</td>\n",
       "      <td>0.000</td>\n",
       "      <td>0.000</td>\n",
       "      <td>0.000</td>\n",
       "      <td>-0.076</td>\n",
       "      <td>0.025</td>\n",
       "      <td>0.000</td>\n",
       "      <td>0.080</td>\n",
       "    </tr>\n",
       "    <tr>\n",
       "      <th>48465</th>\n",
       "      <td>10986</td>\n",
       "      <td>439.40</td>\n",
       "      <td>sample_26_10986.wav</td>\n",
       "      <td>sample_26_10986.jpg</td>\n",
       "      <td>Laser-off</td>\n",
       "      <td>Laser-off</td>\n",
       "      <td>NaN</td>\n",
       "      <td>26</td>\n",
       "      <td>Laser-off</td>\n",
       "      <td>0.013110</td>\n",
       "      <td>...</td>\n",
       "      <td>0.000000</td>\n",
       "      <td>0.0</td>\n",
       "      <td>0.000000</td>\n",
       "      <td>0.000</td>\n",
       "      <td>0.000</td>\n",
       "      <td>0.000</td>\n",
       "      <td>-0.076</td>\n",
       "      <td>0.025</td>\n",
       "      <td>0.000</td>\n",
       "      <td>0.080</td>\n",
       "    </tr>\n",
       "  </tbody>\n",
       "</table>\n",
       "<p>36557 rows × 135 columns</p>\n",
       "</div>"
      ],
      "text/plain": [
       "       sample index  Time_Stamps      audio_file_name      image_file_name  \\\n",
       "0                 1         0.00      sample_21_1.wav      sample_21_1.jpg   \n",
       "1                 2         0.04      sample_21_2.wav      sample_21_2.jpg   \n",
       "2                 3         0.08      sample_21_3.wav      sample_21_3.jpg   \n",
       "3                 4         0.12      sample_21_4.wav      sample_21_4.jpg   \n",
       "4                 5         0.16      sample_21_5.wav      sample_21_5.jpg   \n",
       "...             ...          ...                  ...                  ...   \n",
       "48461         10982       439.24  sample_26_10982.wav  sample_26_10982.jpg   \n",
       "48462         10983       439.28  sample_26_10983.wav  sample_26_10983.jpg   \n",
       "48463         10984       439.32  sample_26_10984.wav  sample_26_10984.jpg   \n",
       "48464         10985       439.36  sample_26_10985.wav  sample_26_10985.jpg   \n",
       "48465         10986       439.40  sample_26_10986.wav  sample_26_10986.jpg   \n",
       "\n",
       "        class_name class_name_v2  Layer number  Sample number class_name_v3  \\\n",
       "0        Laser-off     Laser-off           1.0             21     Laser-off   \n",
       "1      Defect-free   Defect-free           1.0             21   Defect-free   \n",
       "2      Defect-free   Defect-free           1.0             21   Defect-free   \n",
       "3      Defect-free   Defect-free           1.0             21   Defect-free   \n",
       "4      Defect-free   Defect-free           1.0             21   Defect-free   \n",
       "...            ...           ...           ...            ...           ...   \n",
       "48461    Laser-off     Laser-off           NaN             26     Laser-off   \n",
       "48462    Laser-off     Laser-off           NaN             26     Laser-off   \n",
       "48463    Laser-off     Laser-off           NaN             26     Laser-off   \n",
       "48464    Laser-off     Laser-off           NaN             26     Laser-off   \n",
       "48465    Laser-off     Laser-off           NaN             26     Laser-off   \n",
       "\n",
       "       rms_energy  ...    center_y  contour_area  contour_length      X  \\\n",
       "0        0.009018  ...    0.000000           0.0        0.000000  0.000   \n",
       "1        0.019286  ...  239.000000      305442.0     2234.000000  0.000   \n",
       "2        0.019593  ...  239.000000      305442.0     2234.000000 -0.010   \n",
       "3        0.030937  ...  230.264496      291865.5     2279.781744 -0.007   \n",
       "4        0.038329  ...  229.109962      281970.0     2407.847760 -0.111   \n",
       "...           ...  ...         ...           ...             ...    ...   \n",
       "48461    0.011000  ...    0.000000           0.0        0.000000  0.000   \n",
       "48462    0.008347  ...    0.000000           0.0        0.000000  0.000   \n",
       "48463    0.011081  ...    0.000000           0.0        0.000000  0.000   \n",
       "48464    0.011044  ...    0.000000           0.0        0.000000  0.000   \n",
       "48465    0.013110  ...    0.000000           0.0        0.000000  0.000   \n",
       "\n",
       "           Y      Z     Vx     Vy     Vz  Speed  \n",
       "0      0.000  0.000  0.000 -0.000  0.000  0.000  \n",
       "1     -0.000  0.001 -0.074 -0.074  0.000  0.105  \n",
       "2      0.015 -0.007 -0.051  0.026 -0.051  0.077  \n",
       "3      0.016  0.010  0.173 -0.222  2.520  2.536  \n",
       "4      0.123 -0.057 -1.864  1.662 -2.468  3.511  \n",
       "...      ...    ...    ...    ...    ...    ...  \n",
       "48461  0.000  0.000 -0.076  0.025  0.000  0.080  \n",
       "48462  0.000  0.000 -0.076  0.025  0.000  0.080  \n",
       "48463  0.000  0.000 -0.076  0.025  0.000  0.080  \n",
       "48464  0.000  0.000 -0.076  0.025  0.000  0.080  \n",
       "48465  0.000  0.000 -0.076  0.025  0.000  0.080  \n",
       "\n",
       "[36557 rows x 135 columns]"
      ]
     },
     "execution_count": 6,
     "metadata": {},
     "output_type": "execute_result"
    }
   ],
   "source": [
    "# Read the data back from the HDF5 file into a new DataFrame\n",
    "df_multimodal = pd.read_hdf(os.path.join(Dataset_path, 'spatiotemporal_fused_multimodal.h5'), key='df')\n",
    "df_multimodal = df_multimodal.dropna(subset=['class_name_v3'])\n",
    "\n",
    "df_multimodal"
   ]
  },
  {
   "cell_type": "code",
   "execution_count": 7,
   "id": "ba5ac429-ca97-4830-a990-fc8f7afa423c",
   "metadata": {},
   "outputs": [
    {
     "name": "stdout",
     "output_type": "stream",
     "text": [
      "[ 7601  4991  6208 17757]\n"
     ]
    }
   ],
   "source": [
    "# Get the labels and count the number of samples for each class\n",
    "labels = df_multimodal['class_name_v3'].values\n",
    "label_counts = np.unique(labels, return_counts=True)[1]\n",
    "print (label_counts)"
   ]
  },
  {
   "cell_type": "code",
   "execution_count": 8,
   "id": "16be37ec-cc60-4d2a-a6e3-3c0a4f1d463d",
   "metadata": {},
   "outputs": [],
   "source": [
    "def get_sample_directories_from_df(df, Dataset_path):\n",
    "    # Extract unique sample numbers from the DataFrame\n",
    "    unique_sample_numbers = df['Sample number'].unique()\n",
    "    \n",
    "    # Generate the full paths for image and audio directories\n",
    "    image_directories = [os.path.join(Dataset_path, str(sample_number), 'images') for sample_number in unique_sample_numbers]\n",
    "    audio_directories = [os.path.join(Dataset_path, str(sample_number), 'raw_audio') for sample_number in unique_sample_numbers]\n",
    "    \n",
    "    return image_directories, audio_directories\n",
    "\n",
    "samples = [21, 22, 23, 26]\n",
    "image_directories, audio_directories = get_sample_directories_from_df(df_multimodal, Dataset_path)"
   ]
  },
  {
   "cell_type": "markdown",
   "id": "3500075d-c4af-4c24-b010-551313b1580e",
   "metadata": {},
   "source": [
    "### Basline accuracy\n",
    "The baseline accuracy in this multi-class classificiation problem is **55%**, which is the accuracy of trivially predicting the most-frequent class (classify to the largest class– in other words)."
   ]
  },
  {
   "cell_type": "code",
   "execution_count": 9,
   "id": "ea8f62e0-21ae-42b5-a624-fd905f72e594",
   "metadata": {},
   "outputs": [
    {
     "data": {
      "text/plain": [
       "class_name_v3\n",
       "Defect-free      20.8\n",
       "Keyhole pores    13.7\n",
       "Laser defocus    17.0\n",
       "Laser-off        48.6\n",
       "Name: class_name_v3, dtype: float64"
      ]
     },
     "execution_count": 9,
     "metadata": {},
     "output_type": "execute_result"
    }
   ],
   "source": [
    "### Get the percentage distribution of each category\n",
    "round(df_multimodal.groupby('class_name_v3')[\"class_name_v3\"].count()/df_multimodal.shape[0]*100, 1)"
   ]
  },
  {
   "cell_type": "code",
   "execution_count": 10,
   "id": "69a24564-6dff-4804-832a-58ada8e8531f",
   "metadata": {
    "tags": []
   },
   "outputs": [
    {
     "name": "stdout",
     "output_type": "stream",
     "text": [
      "Saving figure dataset_distribution.png\n"
     ]
    },
    {
     "data": {
      "image/png": "[encoded data removed]",
      "text/plain": [
       "<Figure size 700x600 with 1 Axes>"
      ]
     },
     "metadata": {},
     "output_type": "display_data"
    }
   ],
   "source": [
    "filename = 'dataset_distribution'\n",
    "plot_data_distribution(df_multimodal, 'class_name_v3', \n",
    "                       'Distribution of Dataset per category', filename)\n",
    "save_fig(f\"{filename}.png\")"
   ]
  },
  {
   "cell_type": "markdown",
   "id": "d47a91d6-289e-409e-992d-8c17d325f053",
   "metadata": {},
   "source": [
    "## Preparing Dataset and DataLoader"
   ]
  },
  {
   "cell_type": "markdown",
   "id": "cdd1ade2-b123-4824-8e67-a170739b6503",
   "metadata": {},
   "source": [
    "#### Data Augmentation methods"
   ]
  },
  {
   "cell_type": "code",
   "execution_count": 11,
   "id": "f9999bb8-8133-4d6d-91a4-43ea8b0d29a0",
   "metadata": {},
   "outputs": [],
   "source": [
    "#------ transformation------\n",
    "# instantiating our dataset object and create data loader\n",
    "mel_spectrogram = torchaudio.transforms.MelSpectrogram(\n",
    "    sample_rate=SAMPLE_RATE,\n",
    "    n_fft=512,\n",
    "    hop_length=256,\n",
    "    n_mels=32\n",
    ")\n",
    "\n",
    "# MFCCs = torchaudio.transforms.MFCC(sample_rate=SAMPLE_RATE,n_mfcc=20)\n",
    "\n",
    "\n",
    "\n",
    "# augmentation = Compose(\n",
    "#     [\n",
    "#        AddGaussianNoise(min_amplitude=0.001, max_amplitude=0.002, p=0.5),\n",
    "#        # HighPassFilter(min_cutoff_freq=1000, max_cutoff_freq=21000, p=0.5),\n",
    "#        BandPassFilter(min_center_freq=1000, max_center_freq=21000, p=0.5),\n",
    "#        # Gain(min_gain_in_db = -2, max_gain_in_db = 2, p=0.5),\n",
    "#        Normalize(p=0.5)\n",
    "#     ]\n",
    "# )\n",
    "\n",
    "\n",
    "# # Initialize augmentation callable\n",
    "# apply_augmentation = Compose(\n",
    "#     transforms=[\n",
    "#         # Gain(\n",
    "#         #     min_gain_in_db=-15.0,\n",
    "#         #     max_gain_in_db=5.0,\n",
    "#         #     p=0.5,\n",
    "#         # ),\n",
    "#         PolarityInversion(p=0.5)\n",
    "#     ]\n",
    "# )\n",
    "\n",
    "# train_transform = transforms.Compose([\n",
    "#     augmentation,\n",
    "#     apply_augmentation,\n",
    "#     # torchaudio.transforms.TimeMasking(time_mask_param=20, p=0.5),  # apply time masking with probability of 0.5\n",
    "#     # torchaudio.transforms.FrequencyMasking(freq_mask_param=20),  # apply time masking with probability of 0.5\n",
    "#     torchaudio.transforms.MelSpectrogram(sample_rate=SAMPLE_RATE, n_fft=512, hop_length=256, n_mels=32),  # compute Mel-frequency cepstral coefficients (MFCCs)\n",
    "# ])\n"
   ]
  },
  {
   "cell_type": "code",
   "execution_count": 12,
   "id": "025900b9-a6c3-43b5-86a4-73bbc8c959d1",
   "metadata": {},
   "outputs": [
    {
     "name": "stdout",
     "output_type": "stream",
     "text": [
      "length of the total dataset:36557\n"
     ]
    }
   ],
   "source": [
    "#------ data loader------\n",
    "# create the dataset for all samples\n",
    "audiodataset = LDEDAudioDataset(df_multimodal,\n",
    "                                audio_directories,\n",
    "                                samples,\n",
    "                                mel_spectrogram,\n",
    "                                # MFCCs,\n",
    "                                # spectral_centroid,\n",
    "                                SAMPLE_RATE,\n",
    "                                device)\n",
    "print (\"length of the total dataset:\" + str(len(audiodataset)))"
   ]
  },
  {
   "cell_type": "markdown",
   "id": "5db0fb70-fbf1-46e3-9ea9-513b9f50a4d8",
   "metadata": {
    "tags": []
   },
   "source": [
    "## Train Val Test dataset "
   ]
  },
  {
   "cell_type": "code",
   "execution_count": 13,
   "id": "40ccf5aa-f5f4-4a54-812a-22e8e3117d4a",
   "metadata": {},
   "outputs": [],
   "source": [
    "%store -r train_indices\n",
    "%store -r val_indices\n",
    "%store -r test_indices"
   ]
  },
  {
   "cell_type": "code",
   "execution_count": 14,
   "id": "e116200b-a799-46d7-829c-63f7b357dbdd",
   "metadata": {},
   "outputs": [],
   "source": [
    "# Create train, val, and test datasets for deep learning models\n",
    "train_annotations = df_multimodal.iloc[train_indices, :]\n",
    "val_annotations = df_multimodal.iloc[val_indices, :]\n",
    "test_annotations = df_multimodal.iloc[test_indices, :]\n",
    "\n",
    "train_dataset = LDEDAudioDataset(train_annotations, audio_directories, samples, mel_spectrogram, SAMPLE_RATE, device=device)\n",
    "val_dataset = LDEDAudioDataset(val_annotations, audio_directories, samples, mel_spectrogram, SAMPLE_RATE, device=device)\n",
    "test_dataset = LDEDAudioDataset(test_annotations, audio_directories, samples, mel_spectrogram, SAMPLE_RATE, device=device)"
   ]
  },
  {
   "cell_type": "markdown",
   "id": "0f8db309-f1a4-4194-9583-0eab9c2289d2",
   "metadata": {},
   "source": [
    "### Create DataLoader using the dataset"
   ]
  },
  {
   "cell_type": "code",
   "execution_count": 15,
   "id": "356ab5bf-d7bc-46d1-a8b6-ce5a9399b768",
   "metadata": {},
   "outputs": [
    {
     "name": "stdout",
     "output_type": "stream",
     "text": [
      "length of the train dataset:3476\n",
      "length of the val dataset:434\n",
      "length of the test dataset:435\n"
     ]
    }
   ],
   "source": [
    "# # Create train and val dataloaders\n",
    "train_dataloader = DataLoader(train_dataset, batch_size=BATCH_SIZE, shuffle=True, num_workers=4)\n",
    "val_dataloader = DataLoader(val_dataset, batch_size=BATCH_SIZE, shuffle=False, num_workers=4)\n",
    "test_dataloader = DataLoader(test_dataset, batch_size=BATCH_SIZE, shuffle=False, num_workers=4)\n",
    "\n",
    "print(\"length of the train dataset:\" +  str(len(train_dataloader.dataset)))\n",
    "print(\"length of the val dataset:\" +  str(len(val_dataloader.dataset)))\n",
    "print(\"length of the test dataset:\" +  str(len(test_dataloader.dataset)))"
   ]
  },
  {
   "cell_type": "markdown",
   "id": "bd5037d7-19e6-46db-af6d-42edb4779852",
   "metadata": {
    "jp-MarkdownHeadingCollapsed": true
   },
   "source": [
    "### Hyperparameter tuning"
   ]
  },
  {
   "cell_type": "code",
   "execution_count": 16,
   "id": "3de84960-de6c-49aa-9e85-0c27f849d935",
   "metadata": {
    "scrolled": true
   },
   "outputs": [
    {
     "name": "stdout",
     "output_type": "stream",
     "text": [
      "                                                                                                                       \n",
      "Epoch: 0\n",
      "  0%|                                                                           | 0/10 [00:00<?, ?trial/s, best loss=?]"
     ]
    },
    {
     "name": "stderr",
     "output_type": "stream",
     "text": [
      "Epoch 0:   0%|          | 0/11 [00:00<?, ?it/s]\n",
      "\u001b[A\n",
      "Epoch 0:   0%|          | 0/11 [00:04<?, ?it/s, loss=1.4, accuracy=23.4]\n",
      "\u001b[A\n",
      "Epoch 0:   9%|9         | 1/11 [00:04<00:49,  4.97s/it, loss=1.4, accuracy=23.4]\n",
      "\u001b[A\n",
      "Epoch 0:   9%|9         | 1/11 [00:04<00:49,  4.97s/it, loss=1.03e+4, accuracy=35.2]\n",
      "\u001b[A\n",
      "Epoch 0:   9%|9         | 1/11 [00:04<00:49,  4.97s/it, loss=7.07e+3, accuracy=32.8]\n",
      "\u001b[A\n",
      "Epoch 0:   9%|9         | 1/11 [00:04<00:49,  4.97s/it, loss=5.32e+3, accuracy=32.8]\n",
      "\u001b[A\n",
      "Epoch 0:   9%|9         | 1/11 [00:04<00:49,  4.97s/it, loss=4.29e+3, accuracy=31.9]\n",
      "\u001b[A\n",
      "Epoch 0:   9%|9         | 1/11 [00:04<00:49,  4.97s/it, loss=3.58e+3, accuracy=30.7]\n",
      "\u001b[A\n",
      "Epoch 0:   9%|9         | 1/11 [00:04<00:49,  4.97s/it, loss=3.07e+3, accuracy=31.7]\n",
      "\u001b[A\n",
      "Epoch 0:   9%|9         | 1/11 [00:04<00:49,  4.97s/it, loss=2.69e+3, accuracy=32]  \n",
      "\u001b[A\n",
      "Epoch 0:   9%|9         | 1/11 [00:04<00:49,  4.97s/it, loss=2.39e+3, accuracy=31.4]\n",
      "\u001b[A\n",
      "Epoch 0:   9%|9         | 1/11 [00:04<00:49,  4.97s/it, loss=2.15e+3, accuracy=31.7]\n",
      "\u001b[A\n",
      "Epoch 0:   9%|9         | 1/11 [00:05<00:49,  4.97s/it, loss=1.95e+3, accuracy=31.5]\n",
      "\u001b[A\n",
      "Epoch 0: 100%|##########| 11/11 [00:05<00:00,  2.14it/s, loss=1.95e+3, accuracy=31.5]\n",
      "Epoch 0:   0%|          | 0/1 [00:00<?, ?it/s]\n",
      "\u001b[A\n",
      "Epoch 0:   0%|          | 0/1 [00:02<?, ?it/s, loss=7.39, accuracy=41.9]\n",
      "\u001b[A\n",
      "Epoch 0:   0%|          | 0/1 [00:03<?, ?it/s, loss=7.39, accuracy=41.9]\n"
     ]
    },
    {
     "name": "stdout",
     "output_type": "stream",
     "text": [
      "15:11:04 --- Epoch: 0\tTrain loss: 1979.5125\tValid loss: 0.1718\tTrain accuracy: 31.51\tValid accuracy: 41.86             \n",
      "                                                                                                                       \n",
      "Epoch: 1\n",
      "  0%|                                                                           | 0/10 [00:08<?, ?trial/s, best loss=?]"
     ]
    },
    {
     "name": "stderr",
     "output_type": "stream",
     "text": [
      "Epoch 1:   0%|          | 0/11 [00:00<?, ?it/s]\n",
      "\u001b[A\n",
      "Epoch 1:   0%|          | 0/11 [00:03<?, ?it/s, loss=2.21, accuracy=54.7]\n",
      "\u001b[A\n",
      "Epoch 1:   9%|9         | 1/11 [00:03<00:30,  3.01s/it, loss=2.21, accuracy=54.7]\n",
      "\u001b[A\n",
      "Epoch 1:   9%|9         | 1/11 [00:03<00:30,  3.01s/it, loss=1.82, accuracy=44.5]\n",
      "\u001b[A\n",
      "Epoch 1:   9%|9         | 1/11 [00:03<00:30,  3.01s/it, loss=1.71, accuracy=44.3]\n",
      "\u001b[A\n",
      "Epoch 1:  27%|##7       | 3/11 [00:03<00:06,  1.22it/s, loss=1.71, accuracy=44.3]\n",
      "\u001b[A\n",
      "Epoch 1:  27%|##7       | 3/11 [00:03<00:06,  1.22it/s, loss=1.61, accuracy=43.8]\n",
      "\u001b[A\n",
      "Epoch 1:  27%|##7       | 3/11 [00:03<00:06,  1.22it/s, loss=1.49, accuracy=45.9]\n",
      "\u001b[A\n",
      "Epoch 1:  45%|####5     | 5/11 [00:03<00:03,  1.89it/s, loss=1.49, accuracy=45.9]\n",
      "\u001b[A\n",
      "Epoch 1:  45%|####5     | 5/11 [00:03<00:03,  1.89it/s, loss=1.43, accuracy=47.9]\n",
      "\u001b[A\n",
      "Epoch 1:  45%|####5     | 5/11 [00:03<00:03,  1.89it/s, loss=1.42, accuracy=46.7]\n",
      "\u001b[A\n",
      "Epoch 1:  45%|####5     | 5/11 [00:03<00:03,  1.89it/s, loss=1.37, accuracy=49]  \n",
      "\u001b[A\n",
      "Epoch 1:  45%|####5     | 5/11 [00:03<00:03,  1.89it/s, loss=1.34, accuracy=48.8]\n",
      "\u001b[A\n",
      "Epoch 1:  45%|####5     | 5/11 [00:03<00:03,  1.89it/s, loss=1.33, accuracy=49.1]\n",
      "\u001b[A\n",
      "Epoch 1:  45%|####5     | 5/11 [00:03<00:03,  1.89it/s, loss=1.31, accuracy=49.4]\n",
      "\u001b[A\n",
      "Epoch 1: 100%|##########| 11/11 [00:03<00:00,  2.93it/s, loss=1.31, accuracy=49.4]\n",
      "Epoch 1:   0%|          | 0/1 [00:00<?, ?it/s]\n",
      "\u001b[A\n",
      "Epoch 1:   0%|          | 0/1 [00:02<?, ?it/s, loss=1.32, accuracy=39.5]\n",
      "\u001b[A\n",
      "Epoch 1:   0%|          | 0/1 [00:03<?, ?it/s, loss=1.32, accuracy=39.5]\n"
     ]
    },
    {
     "name": "stdout",
     "output_type": "stream",
     "text": [
      "15:11:10 --- Epoch: 1\tTrain loss: 1.3148\tValid loss: 0.0307\tTrain accuracy: 49.35\tValid accuracy: 39.53                \n",
      "                                                                                                                       \n",
      "Epoch: 2\n",
      "  0%|                                                                           | 0/10 [00:15<?, ?trial/s, best loss=?]"
     ]
    },
    {
     "name": "stderr",
     "output_type": "stream",
     "text": [
      "Epoch 2:   0%|          | 0/11 [00:00<?, ?it/s]\n",
      "\u001b[A\n",
      "Epoch 2:   0%|          | 0/11 [00:02<?, ?it/s, loss=1.2, accuracy=46.9]\n",
      "\u001b[A\n",
      "Epoch 2:   9%|9         | 1/11 [00:02<00:29,  2.97s/it, loss=1.2, accuracy=46.9]\n",
      "\u001b[A\n",
      "Epoch 2:   9%|9         | 1/11 [00:02<00:29,  2.97s/it, loss=1.18, accuracy=49.2]\n",
      "\u001b[A\n",
      "Epoch 2:   9%|9         | 1/11 [00:03<00:29,  2.97s/it, loss=1.19, accuracy=49]  \n",
      "\u001b[A\n",
      "Epoch 2:  27%|##7       | 3/11 [00:03<00:06,  1.23it/s, loss=1.19, accuracy=49]\n",
      "\u001b[A\n",
      "Epoch 2:  27%|##7       | 3/11 [00:03<00:06,  1.23it/s, loss=1.18, accuracy=49.2]\n",
      "\u001b[A\n",
      "Epoch 2:  27%|##7       | 3/11 [00:03<00:06,  1.23it/s, loss=1.13, accuracy=52.8]\n",
      "\u001b[A\n",
      "Epoch 2:  45%|####5     | 5/11 [00:03<00:03,  1.93it/s, loss=1.13, accuracy=52.8]\n",
      "\u001b[A\n",
      "Epoch 2:  45%|####5     | 5/11 [00:03<00:03,  1.93it/s, loss=1.12, accuracy=53.9]\n",
      "\u001b[A\n",
      "Epoch 2:  45%|####5     | 5/11 [00:03<00:03,  1.93it/s, loss=1.1, accuracy=55.6] \n",
      "\u001b[A\n",
      "Epoch 2:  45%|####5     | 5/11 [00:03<00:03,  1.93it/s, loss=1.07, accuracy=56.4]\n",
      "\u001b[A\n",
      "Epoch 2:  45%|####5     | 5/11 [00:03<00:03,  1.93it/s, loss=1.09, accuracy=55.7]\n",
      "\u001b[A\n",
      "Epoch 2:  45%|####5     | 5/11 [00:03<00:03,  1.93it/s, loss=1.08, accuracy=56.6]\n",
      "\u001b[A\n",
      "Epoch 2:  45%|####5     | 5/11 [00:03<00:03,  1.93it/s, loss=1.06, accuracy=58]  \n",
      "\u001b[A\n",
      "Epoch 2: 100%|##########| 11/11 [00:03<00:00,  2.97it/s, loss=1.06, accuracy=58]\n",
      "Epoch 2:   0%|          | 0/1 [00:00<?, ?it/s]\n",
      "\u001b[A\n",
      "Epoch 2:   0%|          | 0/1 [00:02<?, ?it/s, loss=1.15, accuracy=55.8]\n",
      "\u001b[A\n",
      "Epoch 2:   0%|          | 0/1 [00:03<?, ?it/s, loss=1.15, accuracy=55.8]\n"
     ]
    },
    {
     "name": "stdout",
     "output_type": "stream",
     "text": [
      "15:11:17 --- Epoch: 2\tTrain loss: 1.0635\tValid loss: 0.0266\tTrain accuracy: 57.99\tValid accuracy: 55.81                \n",
      "                                                                                                                       \n",
      "Epoch: 3\n",
      "  0%|                                                                           | 0/10 [00:21<?, ?trial/s, best loss=?]"
     ]
    },
    {
     "name": "stderr",
     "output_type": "stream",
     "text": [
      "Epoch 3:   0%|          | 0/11 [00:00<?, ?it/s]\n",
      "\u001b[A\n",
      "Epoch 3:   0%|          | 0/11 [00:02<?, ?it/s, loss=1.3, accuracy=45.3]\n",
      "\u001b[A\n",
      "Epoch 3:   9%|9         | 1/11 [00:02<00:29,  2.97s/it, loss=1.3, accuracy=45.3]\n",
      "\u001b[A\n",
      "Epoch 3:   9%|9         | 1/11 [00:02<00:29,  2.97s/it, loss=1.17, accuracy=53.1]\n",
      "\u001b[A\n",
      "Epoch 3:   9%|9         | 1/11 [00:02<00:29,  2.97s/it, loss=1.13, accuracy=54.2]\n",
      "\u001b[A\n",
      "Epoch 3:   9%|9         | 1/11 [00:03<00:29,  2.97s/it, loss=1.1, accuracy=54.7] \n",
      "\u001b[A\n",
      "Epoch 3:  36%|###6      | 4/11 [00:03<00:04,  1.41it/s, loss=1.1, accuracy=54.7]\n",
      "\u001b[A\n",
      "Epoch 3:  36%|###6      | 4/11 [00:03<00:04,  1.41it/s, loss=1.05, accuracy=58.1]\n",
      "\u001b[A\n",
      "Epoch 3:  36%|###6      | 4/11 [00:03<00:04,  1.41it/s, loss=1.03, accuracy=60.2]\n",
      "\u001b[A\n",
      "Epoch 3:  36%|###6      | 4/11 [00:03<00:04,  1.41it/s, loss=1.06, accuracy=58.9]\n",
      "\u001b[A\n",
      "Epoch 3:  36%|###6      | 4/11 [00:03<00:04,  1.41it/s, loss=1.05, accuracy=60.5]\n",
      "\u001b[A\n",
      "Epoch 3:  36%|###6      | 4/11 [00:03<00:04,  1.41it/s, loss=1.06, accuracy=60.2]\n",
      "\u001b[A\n",
      "Epoch 3:  36%|###6      | 4/11 [00:03<00:04,  1.41it/s, loss=1.06, accuracy=60.5]\n",
      "\u001b[A\n",
      "Epoch 3:  36%|###6      | 4/11 [00:03<00:04,  1.41it/s, loss=1.05, accuracy=60.9]\n",
      "\u001b[A\n",
      "Epoch 3: 100%|##########| 11/11 [00:03<00:00,  3.02it/s, loss=1.05, accuracy=60.9]\n",
      "Epoch 3:   0%|          | 0/1 [00:00<?, ?it/s]\n",
      "\u001b[A\n",
      "Epoch 3:   0%|          | 0/1 [00:02<?, ?it/s, loss=1.35, accuracy=51.2]\n",
      "\u001b[A\n",
      "Epoch 3:   0%|          | 0/1 [00:03<?, ?it/s, loss=1.35, accuracy=51.2]\n"
     ]
    },
    {
     "name": "stdout",
     "output_type": "stream",
     "text": [
      "15:11:24 --- Epoch: 3\tTrain loss: 1.0537\tValid loss: 0.0313\tTrain accuracy: 60.86\tValid accuracy: 51.16                \n",
      "                                                                                                                       \n",
      "Epoch: 4\n",
      "  0%|                                                                           | 0/10 [00:28<?, ?trial/s, best loss=?]"
     ]
    },
    {
     "name": "stderr",
     "output_type": "stream",
     "text": [
      "Epoch 4:   0%|          | 0/11 [00:00<?, ?it/s]\n",
      "\u001b[A\n",
      "Epoch 4:   0%|          | 0/11 [00:02<?, ?it/s, loss=0.931, accuracy=64.1]\n",
      "\u001b[A\n",
      "Epoch 4:   9%|9         | 1/11 [00:02<00:28,  2.89s/it, loss=0.931, accuracy=64.1]\n",
      "\u001b[A\n",
      "Epoch 4:   9%|9         | 1/11 [00:02<00:28,  2.89s/it, loss=0.916, accuracy=64.8]\n",
      "\u001b[A\n",
      "Epoch 4:   9%|9         | 1/11 [00:02<00:28,  2.89s/it, loss=0.916, accuracy=65.1]\n",
      "\u001b[A\n",
      "Epoch 4:   9%|9         | 1/11 [00:03<00:28,  2.89s/it, loss=0.931, accuracy=64.8]\n",
      "\u001b[A\n",
      "Epoch 4:  36%|###6      | 4/11 [00:03<00:04,  1.41it/s, loss=0.931, accuracy=64.8]\n",
      "\u001b[A\n",
      "Epoch 4:  36%|###6      | 4/11 [00:03<00:04,  1.41it/s, loss=0.917, accuracy=65.6]\n",
      "\u001b[A\n",
      "Epoch 4:  36%|###6      | 4/11 [00:03<00:04,  1.41it/s, loss=0.895, accuracy=67.2]\n",
      "\u001b[A\n",
      "Epoch 4:  36%|###6      | 4/11 [00:03<00:04,  1.41it/s, loss=0.919, accuracy=66.1]\n",
      "\u001b[A\n",
      "Epoch 4:  36%|###6      | 4/11 [00:03<00:04,  1.41it/s, loss=0.908, accuracy=66.4]\n",
      "\u001b[A\n",
      "Epoch 4:  36%|###6      | 4/11 [00:03<00:04,  1.41it/s, loss=0.906, accuracy=66.8]\n",
      "\u001b[A\n",
      "Epoch 4:  36%|###6      | 4/11 [00:03<00:04,  1.41it/s, loss=0.917, accuracy=66.6]\n",
      "\u001b[A\n",
      "Epoch 4:  36%|###6      | 4/11 [00:03<00:04,  1.41it/s, loss=0.92, accuracy=66.3] \n",
      "\u001b[A\n",
      "Epoch 4: 100%|##########| 11/11 [00:03<00:00,  3.05it/s, loss=0.92, accuracy=66.3]\n",
      "Epoch 4:   0%|          | 0/1 [00:00<?, ?it/s]\n",
      "\u001b[A\n",
      "Epoch 4:   0%|          | 0/1 [00:02<?, ?it/s, loss=1.07, accuracy=51.2]\n",
      "\u001b[A\n",
      "Epoch 4:   0%|          | 0/1 [00:03<?, ?it/s, loss=1.07, accuracy=51.2]\n"
     ]
    },
    {
     "name": "stdout",
     "output_type": "stream",
     "text": [
      "15:11:31 --- Epoch: 4\tTrain loss: 0.9195\tValid loss: 0.0249\tTrain accuracy: 66.33\tValid accuracy: 51.16                \n",
      "                                                                                                                       \n",
      "Epoch: 0\n",
      " 10%|████▋                                          | 1/10 [00:35<05:17, 35.29s/trial, best loss: 0.024926601454269056]"
     ]
    },
    {
     "name": "stderr",
     "output_type": "stream",
     "text": [
      "Epoch 0:   0%|          | 0/11 [00:00<?, ?it/s]\n",
      "\u001b[A\n",
      "Epoch 0:   0%|          | 0/11 [00:02<?, ?it/s, loss=1.37, accuracy=37.5]\n",
      "\u001b[A\n",
      "Epoch 0:   9%|9         | 1/11 [00:02<00:29,  2.97s/it, loss=1.37, accuracy=37.5]\n",
      "\u001b[A\n",
      "Epoch 0:   9%|9         | 1/11 [00:02<00:29,  2.97s/it, loss=1.26, accuracy=40.6]\n",
      "\u001b[A\n",
      "Epoch 0:   9%|9         | 1/11 [00:02<00:29,  2.97s/it, loss=1.26, accuracy=39.6]\n",
      "\u001b[A\n",
      "Epoch 0:   9%|9         | 1/11 [00:03<00:29,  2.97s/it, loss=1.36, accuracy=40.2]\n",
      "\u001b[A\n",
      "Epoch 0:  36%|###6      | 4/11 [00:03<00:04,  1.41it/s, loss=1.36, accuracy=40.2]\n",
      "\u001b[A\n",
      "Epoch 0:  36%|###6      | 4/11 [00:03<00:04,  1.41it/s, loss=1.28, accuracy=47.5]\n",
      "\u001b[A\n",
      "Epoch 0:  36%|###6      | 4/11 [00:03<00:04,  1.41it/s, loss=1.33, accuracy=46.6]\n",
      "\u001b[A\n",
      "Epoch 0:  36%|###6      | 4/11 [00:03<00:04,  1.41it/s, loss=1.33, accuracy=46]  \n",
      "\u001b[A\n",
      "Epoch 0:  36%|###6      | 4/11 [00:03<00:04,  1.41it/s, loss=1.31, accuracy=45.7]\n",
      "\u001b[A\n",
      "Epoch 0:  36%|###6      | 4/11 [00:03<00:04,  1.41it/s, loss=1.31, accuracy=45.5]\n",
      "\u001b[A\n",
      "Epoch 0:  36%|###6      | 4/11 [00:03<00:04,  1.41it/s, loss=1.29, accuracy=46.2]\n",
      "\u001b[A\n",
      "Epoch 0:  36%|###6      | 4/11 [00:03<00:04,  1.41it/s, loss=1.33, accuracy=44.6]\n",
      "\u001b[A\n",
      "Epoch 0: 100%|##########| 11/11 [00:03<00:00,  3.02it/s, loss=1.33, accuracy=44.6]\n",
      "Epoch 0:   0%|          | 0/1 [00:00<?, ?it/s]\n",
      "\u001b[A\n",
      "Epoch 0:   0%|          | 0/1 [00:02<?, ?it/s, loss=1.3, accuracy=44.2]\n",
      "\u001b[A\n",
      "Epoch 0:   0%|          | 0/1 [00:03<?, ?it/s, loss=1.3, accuracy=44.2]\n"
     ]
    },
    {
     "name": "stdout",
     "output_type": "stream",
     "text": [
      "15:11:37 --- Epoch: 0\tTrain loss: 1.3275\tValid loss: 0.0302\tTrain accuracy: 44.60\tValid accuracy: 44.19                \n",
      "                                                                                                                       \n",
      "Epoch: 1\n",
      " 10%|████▋                                          | 1/10 [00:42<05:17, 35.29s/trial, best loss: 0.024926601454269056]"
     ]
    },
    {
     "name": "stderr",
     "output_type": "stream",
     "text": [
      "Epoch 1:   0%|          | 0/11 [00:00<?, ?it/s]\n",
      "\u001b[A\n",
      "Epoch 1:   0%|          | 0/11 [00:02<?, ?it/s, loss=1.26, accuracy=48.4]\n",
      "\u001b[A\n",
      "Epoch 1:   9%|9         | 1/11 [00:02<00:29,  2.95s/it, loss=1.26, accuracy=48.4]\n",
      "\u001b[A\n",
      "Epoch 1:   9%|9         | 1/11 [00:02<00:29,  2.95s/it, loss=1.25, accuracy=46.9]\n",
      "\u001b[A\n",
      "Epoch 1:   9%|9         | 1/11 [00:03<00:29,  2.95s/it, loss=1.26, accuracy=47.9]\n",
      "\u001b[A\n",
      "Epoch 1:   9%|9         | 1/11 [00:03<00:29,  2.95s/it, loss=1.22, accuracy=50.4]\n",
      "\u001b[A\n",
      "Epoch 1:  36%|###6      | 4/11 [00:03<00:04,  1.40it/s, loss=1.22, accuracy=50.4]\n",
      "\u001b[A\n",
      "Epoch 1:  36%|###6      | 4/11 [00:03<00:04,  1.40it/s, loss=1.2, accuracy=51.6] \n",
      "\u001b[A\n",
      "Epoch 1:  36%|###6      | 4/11 [00:03<00:04,  1.40it/s, loss=1.17, accuracy=53.4]\n",
      "\u001b[A\n",
      "Epoch 1:  36%|###6      | 4/11 [00:03<00:04,  1.40it/s, loss=1.19, accuracy=52.5]\n",
      "\u001b[A\n",
      "Epoch 1:  36%|###6      | 4/11 [00:03<00:04,  1.40it/s, loss=1.19, accuracy=51.2]\n",
      "\u001b[A\n",
      "Epoch 1:  36%|###6      | 4/11 [00:03<00:04,  1.40it/s, loss=1.16, accuracy=53.3]\n",
      "\u001b[A\n",
      "Epoch 1:  36%|###6      | 4/11 [00:03<00:04,  1.40it/s, loss=1.16, accuracy=53.1]\n",
      "\u001b[A\n",
      "Epoch 1:  36%|###6      | 4/11 [00:03<00:04,  1.40it/s, loss=1.14, accuracy=53.7]\n",
      "\u001b[A\n",
      "Epoch 1: 100%|##########| 11/11 [00:03<00:00,  3.01it/s, loss=1.14, accuracy=53.7]\n",
      "Epoch 1:   0%|          | 0/1 [00:00<?, ?it/s]\n",
      "\u001b[A\n",
      "Epoch 1:   0%|          | 0/1 [00:02<?, ?it/s, loss=1.34, accuracy=46.5]\n",
      "\u001b[A\n",
      "Epoch 1:   0%|          | 0/1 [00:03<?, ?it/s, loss=1.34, accuracy=46.5]\n"
     ]
    },
    {
     "name": "stdout",
     "output_type": "stream",
     "text": [
      "15:11:44 --- Epoch: 1\tTrain loss: 1.1464\tValid loss: 0.0313\tTrain accuracy: 53.67\tValid accuracy: 46.51                \n",
      "                                                                                                                       \n",
      "Epoch: 2\n",
      " 10%|████▋                                          | 1/10 [00:48<05:17, 35.29s/trial, best loss: 0.024926601454269056]"
     ]
    },
    {
     "name": "stderr",
     "output_type": "stream",
     "text": [
      "Epoch 2:   0%|          | 0/11 [00:00<?, ?it/s]\n",
      "\u001b[A\n",
      "Epoch 2:   0%|          | 0/11 [00:03<?, ?it/s, loss=0.976, accuracy=59.4]\n",
      "\u001b[A\n",
      "Epoch 2:   9%|9         | 1/11 [00:03<00:30,  3.02s/it, loss=0.976, accuracy=59.4]\n",
      "\u001b[A\n",
      "Epoch 2:   9%|9         | 1/11 [00:03<00:30,  3.02s/it, loss=1.17, accuracy=58.6] \n",
      "\u001b[A\n",
      "Epoch 2:   9%|9         | 1/11 [00:03<00:30,  3.02s/it, loss=1.12, accuracy=59.9]\n",
      "\u001b[A\n",
      "Epoch 2:   9%|9         | 1/11 [00:03<00:30,  3.02s/it, loss=1.15, accuracy=59]  \n",
      "\u001b[A\n",
      "Epoch 2:  36%|###6      | 4/11 [00:03<00:04,  1.40it/s, loss=1.15, accuracy=59]\n",
      "\u001b[A\n",
      "Epoch 2:  36%|###6      | 4/11 [00:03<00:04,  1.40it/s, loss=1.15, accuracy=57.5]\n",
      "\u001b[A\n",
      "Epoch 2:  36%|###6      | 4/11 [00:03<00:04,  1.40it/s, loss=1.13, accuracy=59.4]\n",
      "\u001b[A\n",
      "Epoch 2:  36%|###6      | 4/11 [00:03<00:04,  1.40it/s, loss=1.11, accuracy=60.5]\n",
      "\u001b[A\n",
      "Epoch 2:  36%|###6      | 4/11 [00:03<00:04,  1.40it/s, loss=1.09, accuracy=61.7]\n",
      "\u001b[A\n",
      "Epoch 2:  36%|###6      | 4/11 [00:03<00:04,  1.40it/s, loss=1.08, accuracy=62.5]\n",
      "\u001b[A\n",
      "Epoch 2:  36%|###6      | 4/11 [00:03<00:04,  1.40it/s, loss=1.09, accuracy=61.9]\n",
      "\u001b[A\n",
      "Epoch 2:  36%|###6      | 4/11 [00:03<00:04,  1.40it/s, loss=1.09, accuracy=62.2]\n",
      "\u001b[A\n",
      "Epoch 2: 100%|##########| 11/11 [00:03<00:00,  2.99it/s, loss=1.09, accuracy=62.2]\n",
      "Epoch 2:   0%|          | 0/1 [00:00<?, ?it/s]\n",
      "\u001b[A\n",
      "Epoch 2:   0%|          | 0/1 [00:02<?, ?it/s, loss=1.34, accuracy=44.2]\n",
      "\u001b[A\n",
      "Epoch 2:   0%|          | 0/1 [00:03<?, ?it/s, loss=1.34, accuracy=44.2]\n"
     ]
    },
    {
     "name": "stdout",
     "output_type": "stream",
     "text": [
      "15:11:51 --- Epoch: 2\tTrain loss: 1.0861\tValid loss: 0.0311\tTrain accuracy: 62.16\tValid accuracy: 44.19                \n",
      "                                                                                                                       \n",
      "Epoch: 3\n",
      " 10%|████▋                                          | 1/10 [00:55<05:17, 35.29s/trial, best loss: 0.024926601454269056]"
     ]
    },
    {
     "name": "stderr",
     "output_type": "stream",
     "text": [
      "Epoch 3:   0%|          | 0/11 [00:00<?, ?it/s]\n",
      "\u001b[A\n",
      "Epoch 3:   0%|          | 0/11 [00:02<?, ?it/s, loss=0.948, accuracy=67.2]\n",
      "\u001b[A\n",
      "Epoch 3:   9%|9         | 1/11 [00:02<00:28,  2.88s/it, loss=0.948, accuracy=67.2]\n",
      "\u001b[A\n",
      "Epoch 3:   9%|9         | 1/11 [00:02<00:28,  2.88s/it, loss=0.97, accuracy=66.4] \n",
      "\u001b[A\n",
      "Epoch 3:   9%|9         | 1/11 [00:02<00:28,  2.88s/it, loss=1, accuracy=62.5]   \n",
      "\u001b[A\n",
      "Epoch 3:  27%|##7       | 3/11 [00:02<00:06,  1.27it/s, loss=1, accuracy=62.5]\n",
      "\u001b[A\n",
      "Epoch 3:  27%|##7       | 3/11 [00:03<00:06,  1.27it/s, loss=0.981, accuracy=64.8]\n",
      "\u001b[A\n",
      "Epoch 3:  27%|##7       | 3/11 [00:03<00:06,  1.27it/s, loss=0.981, accuracy=64.4]\n",
      "\u001b[A\n",
      "Epoch 3:  45%|####5     | 5/11 [00:03<00:03,  1.96it/s, loss=0.981, accuracy=64.4]\n",
      "\u001b[A\n",
      "Epoch 3:  45%|####5     | 5/11 [00:03<00:03,  1.96it/s, loss=1.01, accuracy=63]   \n",
      "\u001b[A\n",
      "Epoch 3:  45%|####5     | 5/11 [00:03<00:03,  1.96it/s, loss=1.02, accuracy=62.5]\n",
      "\u001b[A\n",
      "Epoch 3:  45%|####5     | 5/11 [00:03<00:03,  1.96it/s, loss=1.01, accuracy=63.5]\n",
      "\u001b[A\n",
      "Epoch 3:  45%|####5     | 5/11 [00:03<00:03,  1.96it/s, loss=1.01, accuracy=63.5]\n",
      "\u001b[A\n",
      "Epoch 3:  45%|####5     | 5/11 [00:03<00:03,  1.96it/s, loss=1, accuracy=63.9]   \n",
      "\u001b[A\n",
      "Epoch 3:  45%|####5     | 5/11 [00:03<00:03,  1.96it/s, loss=1, accuracy=63.9]\n",
      "\u001b[A\n",
      "Epoch 3: 100%|##########| 11/11 [00:03<00:00,  3.04it/s, loss=1, accuracy=63.9]\n",
      "Epoch 3:   0%|          | 0/1 [00:00<?, ?it/s]\n",
      "\u001b[A\n",
      "Epoch 3:   0%|          | 0/1 [00:02<?, ?it/s, loss=1.26, accuracy=58.1]\n",
      "\u001b[A\n",
      "Epoch 3:   0%|          | 0/1 [00:03<?, ?it/s, loss=1.26, accuracy=58.1]\n"
     ]
    },
    {
     "name": "stdout",
     "output_type": "stream",
     "text": [
      "15:11:57 --- Epoch: 3\tTrain loss: 1.0026\tValid loss: 0.0293\tTrain accuracy: 63.88\tValid accuracy: 58.14                \n",
      "                                                                                                                       \n",
      "Epoch: 4\n",
      " 10%|████▋                                          | 1/10 [01:02<05:17, 35.29s/trial, best loss: 0.024926601454269056]"
     ]
    },
    {
     "name": "stderr",
     "output_type": "stream",
     "text": [
      "Epoch 4:   0%|          | 0/11 [00:00<?, ?it/s]\n",
      "\u001b[A\n",
      "Epoch 4:   0%|          | 0/11 [00:02<?, ?it/s, loss=0.965, accuracy=67.2]\n",
      "\u001b[A\n",
      "Epoch 4:   9%|9         | 1/11 [00:02<00:29,  2.90s/it, loss=0.965, accuracy=67.2]\n",
      "\u001b[A\n",
      "Epoch 4:   9%|9         | 1/11 [00:02<00:29,  2.90s/it, loss=0.952, accuracy=66.4]\n",
      "\u001b[A\n",
      "Epoch 4:   9%|9         | 1/11 [00:03<00:29,  2.90s/it, loss=1.01, accuracy=65.1] \n",
      "\u001b[A\n",
      "Epoch 4:  27%|##7       | 3/11 [00:03<00:06,  1.26it/s, loss=1.01, accuracy=65.1]\n",
      "\u001b[A\n",
      "Epoch 4:  27%|##7       | 3/11 [00:03<00:06,  1.26it/s, loss=0.932, accuracy=68.8]\n",
      "\u001b[A\n",
      "Epoch 4:  27%|##7       | 3/11 [00:03<00:06,  1.26it/s, loss=0.902, accuracy=70]  \n",
      "\u001b[A\n",
      "Epoch 4:  45%|####5     | 5/11 [00:03<00:03,  1.96it/s, loss=0.902, accuracy=70]\n",
      "\u001b[A\n",
      "Epoch 4:  45%|####5     | 5/11 [00:03<00:03,  1.96it/s, loss=0.872, accuracy=71.4]\n",
      "\u001b[A\n",
      "Epoch 4:  45%|####5     | 5/11 [00:03<00:03,  1.96it/s, loss=0.896, accuracy=71]  \n",
      "\u001b[A\n",
      "Epoch 4:  45%|####5     | 5/11 [00:03<00:03,  1.96it/s, loss=0.922, accuracy=69.3]\n",
      "\u001b[A\n",
      "Epoch 4:  45%|####5     | 5/11 [00:03<00:03,  1.96it/s, loss=0.941, accuracy=67.2]\n",
      "\u001b[A\n",
      "Epoch 4:  45%|####5     | 5/11 [00:03<00:03,  1.96it/s, loss=0.939, accuracy=66.9]\n",
      "\u001b[A\n",
      "Epoch 4:  45%|####5     | 5/11 [00:03<00:03,  1.96it/s, loss=0.929, accuracy=67.5]\n",
      "\u001b[A\n",
      "Epoch 4: 100%|##########| 11/11 [00:03<00:00,  2.99it/s, loss=0.929, accuracy=67.5]\n",
      "Epoch 4:   0%|          | 0/1 [00:00<?, ?it/s]\n",
      "\u001b[A\n",
      "Epoch 4:   0%|          | 0/1 [00:02<?, ?it/s, loss=1.32, accuracy=65.1]\n",
      "\u001b[A\n",
      "Epoch 4:   0%|          | 0/1 [00:03<?, ?it/s, loss=1.32, accuracy=65.1]\n"
     ]
    },
    {
     "name": "stdout",
     "output_type": "stream",
     "text": [
      "15:12:04 --- Epoch: 4\tTrain loss: 0.9305\tValid loss: 0.0307\tTrain accuracy: 67.48\tValid accuracy: 65.12                \n",
      "                                                                                                                       \n",
      "Epoch: 0\n",
      " 20%|█████████▍                                     | 2/10 [01:08<04:34, 34.31s/trial, best loss: 0.024926601454269056]"
     ]
    },
    {
     "name": "stderr",
     "output_type": "stream",
     "text": [
      "Epoch 0:   0%|          | 0/11 [00:00<?, ?it/s]\n",
      "\u001b[A\n",
      "Epoch 0:   0%|          | 0/11 [00:02<?, ?it/s, loss=1.44, accuracy=7.81]\n",
      "\u001b[A\n",
      "Epoch 0:   9%|9         | 1/11 [00:02<00:29,  2.94s/it, loss=1.44, accuracy=7.81]\n",
      "\u001b[A\n",
      "Epoch 0:   9%|9         | 1/11 [00:02<00:29,  2.94s/it, loss=1.39, accuracy=21.1]\n",
      "\u001b[A\n",
      "Epoch 0:   9%|9         | 1/11 [00:03<00:29,  2.94s/it, loss=1.34, accuracy=30.7]\n",
      "\u001b[A\n",
      "Epoch 0:   9%|9         | 1/11 [00:03<00:29,  2.94s/it, loss=1.31, accuracy=35.5]\n",
      "\u001b[A\n",
      "Epoch 0:  36%|###6      | 4/11 [00:03<00:04,  1.42it/s, loss=1.31, accuracy=35.5]\n",
      "\u001b[A\n",
      "Epoch 0:  36%|###6      | 4/11 [00:03<00:04,  1.42it/s, loss=1.31, accuracy=35]  \n",
      "\u001b[A\n",
      "Epoch 0:  36%|###6      | 4/11 [00:03<00:04,  1.42it/s, loss=1.28, accuracy=36.7]\n",
      "\u001b[A\n",
      "Epoch 0:  36%|###6      | 4/11 [00:03<00:04,  1.42it/s, loss=1.24, accuracy=39.5]\n",
      "\u001b[A\n",
      "Epoch 0:  36%|###6      | 4/11 [00:03<00:04,  1.42it/s, loss=1.21, accuracy=42.2]\n",
      "\u001b[A\n",
      "Epoch 0:  36%|###6      | 4/11 [00:03<00:04,  1.42it/s, loss=1.2, accuracy=43.9] \n",
      "\u001b[A\n",
      "Epoch 0:  36%|###6      | 4/11 [00:03<00:04,  1.42it/s, loss=1.2, accuracy=44.7]\n",
      "\u001b[A\n",
      "Epoch 0:  36%|###6      | 4/11 [00:03<00:04,  1.42it/s, loss=1.19, accuracy=46.3]\n",
      "\u001b[A\n",
      "Epoch 0: 100%|##########| 11/11 [00:03<00:00,  3.03it/s, loss=1.19, accuracy=46.3]\n",
      "Epoch 0:   0%|          | 0/1 [00:00<?, ?it/s]\n",
      "\u001b[A\n",
      "Epoch 0:   0%|          | 0/1 [00:02<?, ?it/s, loss=1.32, accuracy=58.1]\n",
      "\u001b[A\n",
      "Epoch 0:   0%|          | 0/1 [00:03<?, ?it/s, loss=1.32, accuracy=58.1]\n"
     ]
    },
    {
     "name": "stdout",
     "output_type": "stream",
     "text": [
      "15:12:11 --- Epoch: 0\tTrain loss: 1.1930\tValid loss: 0.0308\tTrain accuracy: 46.33\tValid accuracy: 58.14                \n",
      "                                                                                                                       \n",
      "Epoch: 1\n",
      " 20%|█████████▍                                     | 2/10 [01:15<04:34, 34.31s/trial, best loss: 0.024926601454269056]"
     ]
    },
    {
     "name": "stderr",
     "output_type": "stream",
     "text": [
      "Epoch 1:   0%|          | 0/11 [00:00<?, ?it/s]\n",
      "\u001b[A\n",
      "Epoch 1:   0%|          | 0/11 [00:02<?, ?it/s, loss=0.854, accuracy=76.6]\n",
      "\u001b[A\n",
      "Epoch 1:   9%|9         | 1/11 [00:02<00:29,  2.96s/it, loss=0.854, accuracy=76.6]\n",
      "\u001b[A\n",
      "Epoch 1:   9%|9         | 1/11 [00:02<00:29,  2.96s/it, loss=0.927, accuracy=74.2]\n",
      "\u001b[A\n",
      "Epoch 1:   9%|9         | 1/11 [00:03<00:29,  2.96s/it, loss=0.922, accuracy=74.5]\n",
      "\u001b[A\n",
      "Epoch 1:   9%|9         | 1/11 [00:03<00:29,  2.96s/it, loss=0.939, accuracy=73.4]\n",
      "\u001b[A\n",
      "Epoch 1:  36%|###6      | 4/11 [00:03<00:05,  1.40it/s, loss=0.939, accuracy=73.4]\n",
      "\u001b[A\n",
      "Epoch 1:  36%|###6      | 4/11 [00:03<00:05,  1.40it/s, loss=0.932, accuracy=73.1]\n",
      "\u001b[A\n",
      "Epoch 1:  36%|###6      | 4/11 [00:03<00:05,  1.40it/s, loss=0.981, accuracy=70.8]\n",
      "\u001b[A\n",
      "Epoch 1:  36%|###6      | 4/11 [00:03<00:05,  1.40it/s, loss=0.988, accuracy=70.3]\n",
      "\u001b[A\n",
      "Epoch 1:  36%|###6      | 4/11 [00:03<00:05,  1.40it/s, loss=0.987, accuracy=70.7]\n",
      "\u001b[A\n",
      "Epoch 1:  36%|###6      | 4/11 [00:03<00:05,  1.40it/s, loss=0.989, accuracy=69.4]\n",
      "\u001b[A\n",
      "Epoch 1:  36%|###6      | 4/11 [00:03<00:05,  1.40it/s, loss=1, accuracy=68.3]    \n",
      "\u001b[A\n",
      "Epoch 1:  36%|###6      | 4/11 [00:03<00:05,  1.40it/s, loss=1.01, accuracy=67.5]\n",
      "\u001b[A\n",
      "Epoch 1: 100%|##########| 11/11 [00:03<00:00,  3.00it/s, loss=1.01, accuracy=67.5]\n",
      "Epoch 1:   0%|          | 0/1 [00:00<?, ?it/s]\n",
      "\u001b[A\n",
      "Epoch 1:   0%|          | 0/1 [00:02<?, ?it/s, loss=1.14, accuracy=51.2]\n",
      "\u001b[A\n",
      "Epoch 1:   0%|          | 0/1 [00:03<?, ?it/s, loss=1.14, accuracy=51.2]\n"
     ]
    },
    {
     "name": "stdout",
     "output_type": "stream",
     "text": [
      "15:12:18 --- Epoch: 1\tTrain loss: 1.0060\tValid loss: 0.0266\tTrain accuracy: 67.48\tValid accuracy: 51.16                \n",
      "                                                                                                                       \n",
      "Epoch: 2\n",
      " 20%|█████████▍                                     | 2/10 [01:22<04:34, 34.31s/trial, best loss: 0.024926601454269056]"
     ]
    },
    {
     "name": "stderr",
     "output_type": "stream",
     "text": [
      "Epoch 2:   0%|          | 0/11 [00:00<?, ?it/s]\n",
      "\u001b[A\n",
      "Epoch 2:   0%|          | 0/11 [00:02<?, ?it/s, loss=0.925, accuracy=64.1]\n",
      "\u001b[A\n",
      "Epoch 2:   9%|9         | 1/11 [00:02<00:29,  2.96s/it, loss=0.925, accuracy=64.1]\n",
      "\u001b[A\n",
      "Epoch 2:   9%|9         | 1/11 [00:02<00:29,  2.96s/it, loss=0.89, accuracy=68.8] \n",
      "\u001b[A\n",
      "Epoch 2:   9%|9         | 1/11 [00:02<00:29,  2.96s/it, loss=0.91, accuracy=69.3]\n",
      "\u001b[A\n",
      "Epoch 2:   9%|9         | 1/11 [00:03<00:29,  2.96s/it, loss=0.883, accuracy=69.9]\n",
      "\u001b[A\n",
      "Epoch 2:  36%|###6      | 4/11 [00:03<00:05,  1.38it/s, loss=0.883, accuracy=69.9]\n",
      "\u001b[A\n",
      "Epoch 2:  36%|###6      | 4/11 [00:03<00:05,  1.38it/s, loss=0.88, accuracy=69.7] \n",
      "\u001b[A\n",
      "Epoch 2:  36%|###6      | 4/11 [00:03<00:05,  1.38it/s, loss=0.901, accuracy=69] \n",
      "\u001b[A\n",
      "Epoch 2:  36%|###6      | 4/11 [00:03<00:05,  1.38it/s, loss=0.899, accuracy=68.8]\n",
      "\u001b[A\n",
      "Epoch 2:  36%|###6      | 4/11 [00:03<00:05,  1.38it/s, loss=0.877, accuracy=69.7]\n",
      "\u001b[A\n",
      "Epoch 2:  36%|###6      | 4/11 [00:03<00:05,  1.38it/s, loss=0.868, accuracy=70]  \n",
      "\u001b[A\n",
      "Epoch 2:  36%|###6      | 4/11 [00:03<00:05,  1.38it/s, loss=0.903, accuracy=69.1]\n",
      "\u001b[A\n",
      "Epoch 2:  36%|###6      | 4/11 [00:03<00:05,  1.38it/s, loss=0.914, accuracy=68.8]\n",
      "\u001b[A\n",
      "Epoch 2: 100%|##########| 11/11 [00:03<00:00,  2.95it/s, loss=0.914, accuracy=68.8]\n",
      "Epoch 2:   0%|          | 0/1 [00:00<?, ?it/s]\n",
      "\u001b[A\n",
      "Epoch 2:   0%|          | 0/1 [00:02<?, ?it/s, loss=1.13, accuracy=62.8]\n",
      "\u001b[A\n",
      "Epoch 2:   0%|          | 0/1 [00:03<?, ?it/s, loss=1.13, accuracy=62.8]\n"
     ]
    },
    {
     "name": "stdout",
     "output_type": "stream",
     "text": [
      "15:12:24 --- Epoch: 2\tTrain loss: 0.9129\tValid loss: 0.0264\tTrain accuracy: 68.78\tValid accuracy: 62.79                \n",
      "                                                                                                                       \n",
      "Epoch: 3\n",
      " 20%|█████████▍                                     | 2/10 [01:29<04:34, 34.31s/trial, best loss: 0.024926601454269056]"
     ]
    },
    {
     "name": "stderr",
     "output_type": "stream",
     "text": [
      "Epoch 3:   0%|          | 0/11 [00:00<?, ?it/s]\n",
      "\u001b[A\n",
      "Epoch 3:   0%|          | 0/11 [00:02<?, ?it/s, loss=0.744, accuracy=73.4]\n",
      "\u001b[A\n",
      "Epoch 3:   9%|9         | 1/11 [00:02<00:29,  2.98s/it, loss=0.744, accuracy=73.4]\n",
      "\u001b[A\n",
      "Epoch 3:   9%|9         | 1/11 [00:02<00:29,  2.98s/it, loss=0.75, accuracy=74.2] \n",
      "\u001b[A\n",
      "Epoch 3:   9%|9         | 1/11 [00:02<00:29,  2.98s/it, loss=0.708, accuracy=75.5]\n",
      "\u001b[A\n",
      "Epoch 3:   9%|9         | 1/11 [00:03<00:29,  2.98s/it, loss=0.78, accuracy=72.7] \n",
      "\u001b[A\n",
      "Epoch 3:  36%|###6      | 4/11 [00:03<00:05,  1.38it/s, loss=0.78, accuracy=72.7]\n",
      "\u001b[A\n",
      "Epoch 3:  36%|###6      | 4/11 [00:03<00:05,  1.38it/s, loss=0.822, accuracy=71.2]\n",
      "\u001b[A\n",
      "Epoch 3:  36%|###6      | 4/11 [00:03<00:05,  1.38it/s, loss=0.807, accuracy=72.9]\n",
      "\u001b[A\n",
      "Epoch 3:  36%|###6      | 4/11 [00:03<00:05,  1.38it/s, loss=0.818, accuracy=72.8]\n",
      "\u001b[A\n",
      "Epoch 3:  36%|###6      | 4/11 [00:03<00:05,  1.38it/s, loss=0.822, accuracy=72.7]\n",
      "\u001b[A\n",
      "Epoch 3:  36%|###6      | 4/11 [00:03<00:05,  1.38it/s, loss=0.822, accuracy=72.4]\n",
      "\u001b[A\n",
      "Epoch 3:  36%|###6      | 4/11 [00:03<00:05,  1.38it/s, loss=0.828, accuracy=71.7]\n",
      "\u001b[A\n",
      "Epoch 3:  36%|###6      | 4/11 [00:03<00:05,  1.38it/s, loss=0.809, accuracy=72.5]\n",
      "\u001b[A\n",
      "Epoch 3: 100%|##########| 11/11 [00:03<00:00,  2.97it/s, loss=0.809, accuracy=72.5]\n",
      "Epoch 3:   0%|          | 0/1 [00:00<?, ?it/s]\n",
      "\u001b[A\n",
      "Epoch 3:   0%|          | 0/1 [00:02<?, ?it/s, loss=1.13, accuracy=65.1]\n",
      "\u001b[A\n",
      "Epoch 3:   0%|          | 0/1 [00:03<?, ?it/s, loss=1.13, accuracy=65.1]\n"
     ]
    },
    {
     "name": "stdout",
     "output_type": "stream",
     "text": [
      "15:12:31 --- Epoch: 3\tTrain loss: 0.8112\tValid loss: 0.0262\tTrain accuracy: 72.52\tValid accuracy: 65.12                \n",
      "                                                                                                                       \n",
      "Epoch: 4\n",
      " 20%|█████████▍                                     | 2/10 [01:35<04:34, 34.31s/trial, best loss: 0.024926601454269056]"
     ]
    },
    {
     "name": "stderr",
     "output_type": "stream",
     "text": [
      "Epoch 4:   0%|          | 0/11 [00:00<?, ?it/s]\n",
      "\u001b[A\n",
      "Epoch 4:   0%|          | 0/11 [00:02<?, ?it/s, loss=0.675, accuracy=76.6]\n",
      "\u001b[A\n",
      "Epoch 4:   9%|9         | 1/11 [00:02<00:29,  2.94s/it, loss=0.675, accuracy=76.6]\n",
      "\u001b[A\n",
      "Epoch 4:   9%|9         | 1/11 [00:02<00:29,  2.94s/it, loss=0.66, accuracy=77.3] \n",
      "\u001b[A\n",
      "Epoch 4:   9%|9         | 1/11 [00:03<00:29,  2.94s/it, loss=0.674, accuracy=78.1]\n",
      "\u001b[A\n",
      "Epoch 4:   9%|9         | 1/11 [00:03<00:29,  2.94s/it, loss=0.695, accuracy=77.7]\n",
      "\u001b[A\n",
      "Epoch 4:  36%|###6      | 4/11 [00:03<00:05,  1.38it/s, loss=0.695, accuracy=77.7]\n",
      "\u001b[A\n",
      "Epoch 4:  36%|###6      | 4/11 [00:03<00:05,  1.38it/s, loss=0.69, accuracy=78.1] \n",
      "\u001b[A\n",
      "Epoch 4:  36%|###6      | 4/11 [00:03<00:05,  1.38it/s, loss=0.707, accuracy=76] \n",
      "\u001b[A\n",
      "Epoch 4:  36%|###6      | 4/11 [00:03<00:05,  1.38it/s, loss=0.726, accuracy=75.2]\n",
      "\u001b[A\n",
      "Epoch 4:  36%|###6      | 4/11 [00:03<00:05,  1.38it/s, loss=0.711, accuracy=75.8]\n",
      "\u001b[A\n",
      "Epoch 4:  36%|###6      | 4/11 [00:03<00:05,  1.38it/s, loss=0.708, accuracy=76.4]\n",
      "\u001b[A\n",
      "Epoch 4:  36%|###6      | 4/11 [00:03<00:05,  1.38it/s, loss=0.725, accuracy=76.2]\n",
      "\u001b[A\n",
      "Epoch 4:  36%|###6      | 4/11 [00:03<00:05,  1.38it/s, loss=0.733, accuracy=76]  \n",
      "\u001b[A\n",
      "Epoch 4: 100%|##########| 11/11 [00:03<00:00,  2.98it/s, loss=0.733, accuracy=76]\n",
      "Epoch 4:   0%|          | 0/1 [00:00<?, ?it/s]\n",
      "\u001b[A\n",
      "Epoch 4:   0%|          | 0/1 [00:02<?, ?it/s, loss=0.953, accuracy=58.1]\n",
      "\u001b[A\n",
      "Epoch 4:   0%|          | 0/1 [00:03<?, ?it/s, loss=0.953, accuracy=58.1]\n"
     ]
    },
    {
     "name": "stdout",
     "output_type": "stream",
     "text": [
      "15:12:38 --- Epoch: 4\tTrain loss: 0.7323\tValid loss: 0.0222\tTrain accuracy: 75.97\tValid accuracy: 58.14                \n",
      "                                                                                                                       \n",
      "Epoch: 0\n",
      " 30%|██████████████                                 | 3/10 [01:42<03:58, 34.02s/trial, best loss: 0.022169650987137194]"
     ]
    },
    {
     "name": "stderr",
     "output_type": "stream",
     "text": [
      "Epoch 0:   0%|          | 0/11 [00:00<?, ?it/s]\n",
      "\u001b[A\n",
      "Epoch 0:   0%|          | 0/11 [00:02<?, ?it/s, loss=1.43, accuracy=20.3]\n",
      "\u001b[A\n",
      "Epoch 0:   9%|9         | 1/11 [00:02<00:29,  2.93s/it, loss=1.43, accuracy=20.3]\n",
      "\u001b[A\n",
      "Epoch 0:   9%|9         | 1/11 [00:02<00:29,  2.93s/it, loss=1.42, accuracy=20.3]\n",
      "\u001b[A\n",
      "Epoch 0:   9%|9         | 1/11 [00:03<00:29,  2.93s/it, loss=1.42, accuracy=20.8]\n",
      "\u001b[A\n",
      "Epoch 0:   9%|9         | 1/11 [00:03<00:29,  2.93s/it, loss=1.42, accuracy=21.1]\n",
      "\u001b[A\n",
      "Epoch 0:  36%|###6      | 4/11 [00:03<00:05,  1.39it/s, loss=1.42, accuracy=21.1]\n",
      "\u001b[A\n",
      "Epoch 0:  36%|###6      | 4/11 [00:03<00:05,  1.39it/s, loss=1.42, accuracy=20.9]\n",
      "\u001b[A\n",
      "Epoch 0:  36%|###6      | 4/11 [00:03<00:05,  1.39it/s, loss=1.42, accuracy=22.9]\n",
      "\u001b[A\n",
      "Epoch 0:  36%|###6      | 4/11 [00:03<00:05,  1.39it/s, loss=1.41, accuracy=23.7]\n",
      "\u001b[A\n",
      "Epoch 0:  36%|###6      | 4/11 [00:03<00:05,  1.39it/s, loss=1.4, accuracy=24.6] \n",
      "\u001b[A\n",
      "Epoch 0:  36%|###6      | 4/11 [00:03<00:05,  1.39it/s, loss=1.39, accuracy=25.7]\n",
      "\u001b[A\n",
      "Epoch 0:  36%|###6      | 4/11 [00:03<00:05,  1.39it/s, loss=1.38, accuracy=25.9]\n",
      "\u001b[A\n",
      "Epoch 0:  36%|###6      | 4/11 [00:03<00:05,  1.39it/s, loss=1.37, accuracy=27.5]\n",
      "\u001b[A\n",
      "Epoch 0: 100%|##########| 11/11 [00:03<00:00,  2.99it/s, loss=1.37, accuracy=27.5]\n",
      "Epoch 0:   0%|          | 0/1 [00:00<?, ?it/s]\n",
      "\u001b[A\n",
      "Epoch 0:   0%|          | 0/1 [00:02<?, ?it/s, loss=1.22, accuracy=39.5]\n",
      "\u001b[A\n",
      "Epoch 0:   0%|          | 0/1 [00:03<?, ?it/s, loss=1.22, accuracy=39.5]\n"
     ]
    },
    {
     "name": "stdout",
     "output_type": "stream",
     "text": [
      "15:12:45 --- Epoch: 0\tTrain loss: 1.3713\tValid loss: 0.0284\tTrain accuracy: 27.48\tValid accuracy: 39.53                \n",
      "                                                                                                                       \n",
      "Epoch: 1\n",
      " 30%|██████████████                                 | 3/10 [01:49<03:58, 34.02s/trial, best loss: 0.022169650987137194]"
     ]
    },
    {
     "name": "stderr",
     "output_type": "stream",
     "text": [
      "Epoch 1:   0%|          | 0/11 [00:00<?, ?it/s]\n",
      "\u001b[A\n",
      "Epoch 1:   0%|          | 0/11 [00:02<?, ?it/s, loss=1.41, accuracy=26.6]\n",
      "\u001b[A\n",
      "Epoch 1:   9%|9         | 1/11 [00:02<00:29,  2.98s/it, loss=1.41, accuracy=26.6]\n",
      "\u001b[A\n",
      "Epoch 1:   9%|9         | 1/11 [00:02<00:29,  2.98s/it, loss=1.33, accuracy=32.8]\n",
      "\u001b[A\n",
      "Epoch 1:   9%|9         | 1/11 [00:03<00:29,  2.98s/it, loss=1.29, accuracy=39.1]\n",
      "\u001b[A\n",
      "Epoch 1:   9%|9         | 1/11 [00:03<00:29,  2.98s/it, loss=1.32, accuracy=38.7]\n",
      "\u001b[A\n",
      "Epoch 1:  36%|###6      | 4/11 [00:03<00:05,  1.39it/s, loss=1.32, accuracy=38.7]\n",
      "\u001b[A\n",
      "Epoch 1:  36%|###6      | 4/11 [00:03<00:05,  1.39it/s, loss=1.3, accuracy=39.4] \n",
      "\u001b[A\n",
      "Epoch 1:  36%|###6      | 4/11 [00:03<00:05,  1.39it/s, loss=1.29, accuracy=40.1]\n",
      "\u001b[A\n",
      "Epoch 1:  36%|###6      | 4/11 [00:03<00:05,  1.39it/s, loss=1.26, accuracy=41.1]\n",
      "\u001b[A\n",
      "Epoch 1:  36%|###6      | 4/11 [00:03<00:05,  1.39it/s, loss=1.28, accuracy=42.8]\n",
      "\u001b[A\n",
      "Epoch 1:  36%|###6      | 4/11 [00:03<00:05,  1.39it/s, loss=1.26, accuracy=43.9]\n",
      "\u001b[A\n",
      "Epoch 1:  36%|###6      | 4/11 [00:03<00:05,  1.39it/s, loss=1.27, accuracy=43.1]\n",
      "\u001b[A\n",
      "Epoch 1:  36%|###6      | 4/11 [00:03<00:05,  1.39it/s, loss=1.27, accuracy=44.6]\n",
      "\u001b[A\n",
      "Epoch 1: 100%|##########| 11/11 [00:03<00:00,  2.99it/s, loss=1.27, accuracy=44.6]\n",
      "Epoch 1:   0%|          | 0/1 [00:00<?, ?it/s]\n",
      "\u001b[A\n",
      "Epoch 1:   0%|          | 0/1 [00:02<?, ?it/s, loss=1.14, accuracy=69.8]\n",
      "\u001b[A\n",
      "Epoch 1:   0%|          | 0/1 [00:03<?, ?it/s, loss=1.14, accuracy=69.8]\n"
     ]
    },
    {
     "name": "stdout",
     "output_type": "stream",
     "text": [
      "15:12:51 --- Epoch: 1\tTrain loss: 1.2662\tValid loss: 0.0266\tTrain accuracy: 44.60\tValid accuracy: 69.77                \n",
      "                                                                                                                       \n",
      "Epoch: 2\n",
      " 30%|██████████████                                 | 3/10 [01:55<03:58, 34.02s/trial, best loss: 0.022169650987137194]"
     ]
    },
    {
     "name": "stderr",
     "output_type": "stream",
     "text": [
      "Epoch 2:   0%|          | 0/11 [00:00<?, ?it/s]\n",
      "\u001b[A\n",
      "Epoch 2:   0%|          | 0/11 [00:02<?, ?it/s, loss=1.27, accuracy=51.6]\n",
      "\u001b[A\n",
      "Epoch 2:   9%|9         | 1/11 [00:02<00:29,  2.96s/it, loss=1.27, accuracy=51.6]\n",
      "\u001b[A\n",
      "Epoch 2:   9%|9         | 1/11 [00:02<00:29,  2.96s/it, loss=1.22, accuracy=47.7]\n",
      "\u001b[A\n",
      "Epoch 2:   9%|9         | 1/11 [00:02<00:29,  2.96s/it, loss=1.24, accuracy=47.9]\n",
      "\u001b[A\n",
      "Epoch 2:   9%|9         | 1/11 [00:03<00:29,  2.96s/it, loss=1.2, accuracy=50.8] \n",
      "\u001b[A\n",
      "Epoch 2:  36%|###6      | 4/11 [00:03<00:05,  1.39it/s, loss=1.2, accuracy=50.8]\n",
      "\u001b[A\n",
      "Epoch 2:  36%|###6      | 4/11 [00:03<00:05,  1.39it/s, loss=1.21, accuracy=50.3]\n",
      "\u001b[A\n",
      "Epoch 2:  36%|###6      | 4/11 [00:03<00:05,  1.39it/s, loss=1.23, accuracy=48.2]\n",
      "\u001b[A\n",
      "Epoch 2:  36%|###6      | 4/11 [00:03<00:05,  1.39it/s, loss=1.22, accuracy=48.4]\n",
      "\u001b[A\n",
      "Epoch 2:  36%|###6      | 4/11 [00:03<00:05,  1.39it/s, loss=1.22, accuracy=49]  \n",
      "\u001b[A\n",
      "Epoch 2:  36%|###6      | 4/11 [00:03<00:05,  1.39it/s, loss=1.22, accuracy=49.1]\n",
      "\u001b[A\n",
      "Epoch 2:  36%|###6      | 4/11 [00:03<00:05,  1.39it/s, loss=1.21, accuracy=50.6]\n",
      "\u001b[A\n",
      "Epoch 2:  36%|###6      | 4/11 [00:03<00:05,  1.39it/s, loss=1.21, accuracy=49.9]\n",
      "\u001b[A\n",
      "Epoch 2: 100%|##########| 11/11 [00:03<00:00,  2.99it/s, loss=1.21, accuracy=49.9]\n",
      "Epoch 2:   0%|          | 0/1 [00:00<?, ?it/s]\n",
      "\u001b[A\n",
      "Epoch 2:   0%|          | 0/1 [00:02<?, ?it/s, loss=1.06, accuracy=65.1]\n",
      "\u001b[A\n",
      "Epoch 2:   0%|          | 0/1 [00:03<?, ?it/s, loss=1.06, accuracy=65.1]\n"
     ]
    },
    {
     "name": "stdout",
     "output_type": "stream",
     "text": [
      "15:12:58 --- Epoch: 2\tTrain loss: 1.2075\tValid loss: 0.0247\tTrain accuracy: 49.93\tValid accuracy: 65.12                \n",
      "                                                                                                                       \n",
      "Epoch: 3\n",
      " 30%|██████████████                                 | 3/10 [02:02<03:58, 34.02s/trial, best loss: 0.022169650987137194]"
     ]
    },
    {
     "name": "stderr",
     "output_type": "stream",
     "text": [
      "Epoch 3:   0%|          | 0/11 [00:00<?, ?it/s]\n",
      "\u001b[A\n",
      "Epoch 3:   0%|          | 0/11 [00:02<?, ?it/s, loss=1.13, accuracy=46.9]\n",
      "\u001b[A\n",
      "Epoch 3:   9%|9         | 1/11 [00:02<00:28,  2.89s/it, loss=1.13, accuracy=46.9]\n",
      "\u001b[A\n",
      "Epoch 3:   9%|9         | 1/11 [00:02<00:28,  2.89s/it, loss=1.25, accuracy=46.9]\n",
      "\u001b[A\n",
      "Epoch 3:   9%|9         | 1/11 [00:02<00:28,  2.89s/it, loss=1.16, accuracy=53.1]\n",
      "\u001b[A\n",
      "Epoch 3:   9%|9         | 1/11 [00:03<00:28,  2.89s/it, loss=1.13, accuracy=54.7]\n",
      "\u001b[A\n",
      "Epoch 3:  36%|###6      | 4/11 [00:03<00:04,  1.41it/s, loss=1.13, accuracy=54.7]\n",
      "\u001b[A\n",
      "Epoch 3:  36%|###6      | 4/11 [00:03<00:04,  1.41it/s, loss=1.14, accuracy=53.1]\n",
      "\u001b[A\n",
      "Epoch 3:  36%|###6      | 4/11 [00:03<00:04,  1.41it/s, loss=1.14, accuracy=53.4]\n",
      "\u001b[A\n",
      "Epoch 3:  36%|###6      | 4/11 [00:03<00:04,  1.41it/s, loss=1.15, accuracy=51.3]\n",
      "\u001b[A\n",
      "Epoch 3:  36%|###6      | 4/11 [00:03<00:04,  1.41it/s, loss=1.16, accuracy=51]  \n",
      "\u001b[A\n",
      "Epoch 3:  36%|###6      | 4/11 [00:03<00:04,  1.41it/s, loss=1.15, accuracy=51.9]\n",
      "\u001b[A\n",
      "Epoch 3:  36%|###6      | 4/11 [00:03<00:04,  1.41it/s, loss=1.15, accuracy=51.1]\n",
      "\u001b[A\n",
      "Epoch 3:  36%|###6      | 4/11 [00:03<00:04,  1.41it/s, loss=1.15, accuracy=51.1]\n",
      "\u001b[A\n",
      "Epoch 3: 100%|##########| 11/11 [00:03<00:00,  3.04it/s, loss=1.15, accuracy=51.1]\n",
      "Epoch 3:   0%|          | 0/1 [00:00<?, ?it/s]\n",
      "\u001b[A\n",
      "Epoch 3:   0%|          | 0/1 [00:02<?, ?it/s, loss=0.923, accuracy=67.4]\n",
      "\u001b[A\n",
      "Epoch 3:   0%|          | 0/1 [00:03<?, ?it/s, loss=0.923, accuracy=67.4]\n"
     ]
    },
    {
     "name": "stdout",
     "output_type": "stream",
     "text": [
      "15:13:05 --- Epoch: 3\tTrain loss: 1.1522\tValid loss: 0.0215\tTrain accuracy: 51.08\tValid accuracy: 67.44                \n",
      "                                                                                                                       \n",
      "Epoch: 4\n",
      " 30%|██████████████                                 | 3/10 [02:09<03:58, 34.02s/trial, best loss: 0.022169650987137194]"
     ]
    },
    {
     "name": "stderr",
     "output_type": "stream",
     "text": [
      "Epoch 4:   0%|          | 0/11 [00:00<?, ?it/s]\n",
      "\u001b[A\n",
      "Epoch 4:   0%|          | 0/11 [00:00<?, ?it/s]\n"
     ]
    },
    {
     "name": "stdout",
     "output_type": "stream",
     "text": [
      " 30%|██████████████                                 | 3/10 [02:09<05:02, 43.25s/trial, best loss: 0.022169650987137194]\n"
     ]
    },
    {
     "ename": "KeyboardInterrupt",
     "evalue": "",
     "output_type": "error",
     "traceback": [
      "\u001b[0;31m---------------------------------------------------------------------------\u001b[0m",
      "\u001b[0;31mKeyboardInterrupt\u001b[0m                         Traceback (most recent call last)",
      "Cell \u001b[0;32mIn[16], line 70\u001b[0m\n\u001b[1;32m     68\u001b[0m \u001b[38;5;66;03m# Run optimization\u001b[39;00m\n\u001b[1;32m     69\u001b[0m trials \u001b[38;5;241m=\u001b[39m Trials()\n\u001b[0;32m---> 70\u001b[0m best \u001b[38;5;241m=\u001b[39m \u001b[43mfmin\u001b[49m\u001b[43m(\u001b[49m\u001b[43mfn\u001b[49m\u001b[38;5;241;43m=\u001b[39;49m\u001b[43mobjective\u001b[49m\u001b[43m,\u001b[49m\u001b[43m \u001b[49m\u001b[43mspace\u001b[49m\u001b[38;5;241;43m=\u001b[39;49m\u001b[43mspace\u001b[49m\u001b[43m,\u001b[49m\u001b[43m \u001b[49m\u001b[43malgo\u001b[49m\u001b[38;5;241;43m=\u001b[39;49m\u001b[43mtpe\u001b[49m\u001b[38;5;241;43m.\u001b[39;49m\u001b[43msuggest\u001b[49m\u001b[43m,\u001b[49m\u001b[43m \u001b[49m\u001b[43mmax_evals\u001b[49m\u001b[38;5;241;43m=\u001b[39;49m\u001b[38;5;241;43m10\u001b[39;49m\u001b[43m,\u001b[49m\u001b[43m \u001b[49m\u001b[43mtrials\u001b[49m\u001b[38;5;241;43m=\u001b[39;49m\u001b[43mtrials\u001b[49m\u001b[43m)\u001b[49m\n",
      "File \u001b[0;32m~/anaconda3/envs/torch/lib/python3.9/site-packages/hyperopt/fmin.py:540\u001b[0m, in \u001b[0;36mfmin\u001b[0;34m(fn, space, algo, max_evals, timeout, loss_threshold, trials, rstate, allow_trials_fmin, pass_expr_memo_ctrl, catch_eval_exceptions, verbose, return_argmin, points_to_evaluate, max_queue_len, show_progressbar, early_stop_fn, trials_save_file)\u001b[0m\n\u001b[1;32m    537\u001b[0m     fn \u001b[38;5;241m=\u001b[39m __objective_fmin_wrapper(fn)\n\u001b[1;32m    539\u001b[0m \u001b[38;5;28;01mif\u001b[39;00m allow_trials_fmin \u001b[38;5;129;01mand\u001b[39;00m \u001b[38;5;28mhasattr\u001b[39m(trials, \u001b[38;5;124m\"\u001b[39m\u001b[38;5;124mfmin\u001b[39m\u001b[38;5;124m\"\u001b[39m):\n\u001b[0;32m--> 540\u001b[0m     \u001b[38;5;28;01mreturn\u001b[39;00m \u001b[43mtrials\u001b[49m\u001b[38;5;241;43m.\u001b[39;49m\u001b[43mfmin\u001b[49m\u001b[43m(\u001b[49m\n\u001b[1;32m    541\u001b[0m \u001b[43m        \u001b[49m\u001b[43mfn\u001b[49m\u001b[43m,\u001b[49m\n\u001b[1;32m    542\u001b[0m \u001b[43m        \u001b[49m\u001b[43mspace\u001b[49m\u001b[43m,\u001b[49m\n\u001b[1;32m    543\u001b[0m \u001b[43m        \u001b[49m\u001b[43malgo\u001b[49m\u001b[38;5;241;43m=\u001b[39;49m\u001b[43malgo\u001b[49m\u001b[43m,\u001b[49m\n\u001b[1;32m    544\u001b[0m \u001b[43m        \u001b[49m\u001b[43mmax_evals\u001b[49m\u001b[38;5;241;43m=\u001b[39;49m\u001b[43mmax_evals\u001b[49m\u001b[43m,\u001b[49m\n\u001b[1;32m    545\u001b[0m \u001b[43m        \u001b[49m\u001b[43mtimeout\u001b[49m\u001b[38;5;241;43m=\u001b[39;49m\u001b[43mtimeout\u001b[49m\u001b[43m,\u001b[49m\n\u001b[1;32m    546\u001b[0m \u001b[43m        \u001b[49m\u001b[43mloss_threshold\u001b[49m\u001b[38;5;241;43m=\u001b[39;49m\u001b[43mloss_threshold\u001b[49m\u001b[43m,\u001b[49m\n\u001b[1;32m    547\u001b[0m \u001b[43m        \u001b[49m\u001b[43mmax_queue_len\u001b[49m\u001b[38;5;241;43m=\u001b[39;49m\u001b[43mmax_queue_len\u001b[49m\u001b[43m,\u001b[49m\n\u001b[1;32m    548\u001b[0m \u001b[43m        \u001b[49m\u001b[43mrstate\u001b[49m\u001b[38;5;241;43m=\u001b[39;49m\u001b[43mrstate\u001b[49m\u001b[43m,\u001b[49m\n\u001b[1;32m    549\u001b[0m \u001b[43m        \u001b[49m\u001b[43mpass_expr_memo_ctrl\u001b[49m\u001b[38;5;241;43m=\u001b[39;49m\u001b[43mpass_expr_memo_ctrl\u001b[49m\u001b[43m,\u001b[49m\n\u001b[1;32m    550\u001b[0m \u001b[43m        \u001b[49m\u001b[43mverbose\u001b[49m\u001b[38;5;241;43m=\u001b[39;49m\u001b[43mverbose\u001b[49m\u001b[43m,\u001b[49m\n\u001b[1;32m    551\u001b[0m \u001b[43m        \u001b[49m\u001b[43mcatch_eval_exceptions\u001b[49m\u001b[38;5;241;43m=\u001b[39;49m\u001b[43mcatch_eval_exceptions\u001b[49m\u001b[43m,\u001b[49m\n\u001b[1;32m    552\u001b[0m \u001b[43m        \u001b[49m\u001b[43mreturn_argmin\u001b[49m\u001b[38;5;241;43m=\u001b[39;49m\u001b[43mreturn_argmin\u001b[49m\u001b[43m,\u001b[49m\n\u001b[1;32m    553\u001b[0m \u001b[43m        \u001b[49m\u001b[43mshow_progressbar\u001b[49m\u001b[38;5;241;43m=\u001b[39;49m\u001b[43mshow_progressbar\u001b[49m\u001b[43m,\u001b[49m\n\u001b[1;32m    554\u001b[0m \u001b[43m        \u001b[49m\u001b[43mearly_stop_fn\u001b[49m\u001b[38;5;241;43m=\u001b[39;49m\u001b[43mearly_stop_fn\u001b[49m\u001b[43m,\u001b[49m\n\u001b[1;32m    555\u001b[0m \u001b[43m        \u001b[49m\u001b[43mtrials_save_file\u001b[49m\u001b[38;5;241;43m=\u001b[39;49m\u001b[43mtrials_save_file\u001b[49m\u001b[43m,\u001b[49m\n\u001b[1;32m    556\u001b[0m \u001b[43m    \u001b[49m\u001b[43m)\u001b[49m\n\u001b[1;32m    558\u001b[0m \u001b[38;5;28;01mif\u001b[39;00m trials \u001b[38;5;129;01mis\u001b[39;00m \u001b[38;5;28;01mNone\u001b[39;00m:\n\u001b[1;32m    559\u001b[0m     \u001b[38;5;28;01mif\u001b[39;00m os\u001b[38;5;241m.\u001b[39mpath\u001b[38;5;241m.\u001b[39mexists(trials_save_file):\n",
      "File \u001b[0;32m~/anaconda3/envs/torch/lib/python3.9/site-packages/hyperopt/base.py:671\u001b[0m, in \u001b[0;36mTrials.fmin\u001b[0;34m(self, fn, space, algo, max_evals, timeout, loss_threshold, max_queue_len, rstate, verbose, pass_expr_memo_ctrl, catch_eval_exceptions, return_argmin, show_progressbar, early_stop_fn, trials_save_file)\u001b[0m\n\u001b[1;32m    666\u001b[0m \u001b[38;5;66;03m# -- Stop-gap implementation!\u001b[39;00m\n\u001b[1;32m    667\u001b[0m \u001b[38;5;66;03m#    fmin should have been a Trials method in the first place\u001b[39;00m\n\u001b[1;32m    668\u001b[0m \u001b[38;5;66;03m#    but for now it's still sitting in another file.\u001b[39;00m\n\u001b[1;32m    669\u001b[0m \u001b[38;5;28;01mfrom\u001b[39;00m \u001b[38;5;21;01m.\u001b[39;00m\u001b[38;5;21;01mfmin\u001b[39;00m \u001b[38;5;28;01mimport\u001b[39;00m fmin\n\u001b[0;32m--> 671\u001b[0m \u001b[38;5;28;01mreturn\u001b[39;00m \u001b[43mfmin\u001b[49m\u001b[43m(\u001b[49m\n\u001b[1;32m    672\u001b[0m \u001b[43m    \u001b[49m\u001b[43mfn\u001b[49m\u001b[43m,\u001b[49m\n\u001b[1;32m    673\u001b[0m \u001b[43m    \u001b[49m\u001b[43mspace\u001b[49m\u001b[43m,\u001b[49m\n\u001b[1;32m    674\u001b[0m \u001b[43m    \u001b[49m\u001b[43malgo\u001b[49m\u001b[38;5;241;43m=\u001b[39;49m\u001b[43malgo\u001b[49m\u001b[43m,\u001b[49m\n\u001b[1;32m    675\u001b[0m \u001b[43m    \u001b[49m\u001b[43mmax_evals\u001b[49m\u001b[38;5;241;43m=\u001b[39;49m\u001b[43mmax_evals\u001b[49m\u001b[43m,\u001b[49m\n\u001b[1;32m    676\u001b[0m \u001b[43m    \u001b[49m\u001b[43mtimeout\u001b[49m\u001b[38;5;241;43m=\u001b[39;49m\u001b[43mtimeout\u001b[49m\u001b[43m,\u001b[49m\n\u001b[1;32m    677\u001b[0m \u001b[43m    \u001b[49m\u001b[43mloss_threshold\u001b[49m\u001b[38;5;241;43m=\u001b[39;49m\u001b[43mloss_threshold\u001b[49m\u001b[43m,\u001b[49m\n\u001b[1;32m    678\u001b[0m \u001b[43m    \u001b[49m\u001b[43mtrials\u001b[49m\u001b[38;5;241;43m=\u001b[39;49m\u001b[38;5;28;43mself\u001b[39;49m\u001b[43m,\u001b[49m\n\u001b[1;32m    679\u001b[0m \u001b[43m    \u001b[49m\u001b[43mrstate\u001b[49m\u001b[38;5;241;43m=\u001b[39;49m\u001b[43mrstate\u001b[49m\u001b[43m,\u001b[49m\n\u001b[1;32m    680\u001b[0m \u001b[43m    \u001b[49m\u001b[43mverbose\u001b[49m\u001b[38;5;241;43m=\u001b[39;49m\u001b[43mverbose\u001b[49m\u001b[43m,\u001b[49m\n\u001b[1;32m    681\u001b[0m \u001b[43m    \u001b[49m\u001b[43mmax_queue_len\u001b[49m\u001b[38;5;241;43m=\u001b[39;49m\u001b[43mmax_queue_len\u001b[49m\u001b[43m,\u001b[49m\n\u001b[1;32m    682\u001b[0m \u001b[43m    \u001b[49m\u001b[43mallow_trials_fmin\u001b[49m\u001b[38;5;241;43m=\u001b[39;49m\u001b[38;5;28;43;01mFalse\u001b[39;49;00m\u001b[43m,\u001b[49m\u001b[43m  \u001b[49m\u001b[38;5;66;43;03m# -- prevent recursion\u001b[39;49;00m\n\u001b[1;32m    683\u001b[0m \u001b[43m    \u001b[49m\u001b[43mpass_expr_memo_ctrl\u001b[49m\u001b[38;5;241;43m=\u001b[39;49m\u001b[43mpass_expr_memo_ctrl\u001b[49m\u001b[43m,\u001b[49m\n\u001b[1;32m    684\u001b[0m \u001b[43m    \u001b[49m\u001b[43mcatch_eval_exceptions\u001b[49m\u001b[38;5;241;43m=\u001b[39;49m\u001b[43mcatch_eval_exceptions\u001b[49m\u001b[43m,\u001b[49m\n\u001b[1;32m    685\u001b[0m \u001b[43m    \u001b[49m\u001b[43mreturn_argmin\u001b[49m\u001b[38;5;241;43m=\u001b[39;49m\u001b[43mreturn_argmin\u001b[49m\u001b[43m,\u001b[49m\n\u001b[1;32m    686\u001b[0m \u001b[43m    \u001b[49m\u001b[43mshow_progressbar\u001b[49m\u001b[38;5;241;43m=\u001b[39;49m\u001b[43mshow_progressbar\u001b[49m\u001b[43m,\u001b[49m\n\u001b[1;32m    687\u001b[0m \u001b[43m    \u001b[49m\u001b[43mearly_stop_fn\u001b[49m\u001b[38;5;241;43m=\u001b[39;49m\u001b[43mearly_stop_fn\u001b[49m\u001b[43m,\u001b[49m\n\u001b[1;32m    688\u001b[0m \u001b[43m    \u001b[49m\u001b[43mtrials_save_file\u001b[49m\u001b[38;5;241;43m=\u001b[39;49m\u001b[43mtrials_save_file\u001b[49m\u001b[43m,\u001b[49m\n\u001b[1;32m    689\u001b[0m \u001b[43m\u001b[49m\u001b[43m)\u001b[49m\n",
      "File \u001b[0;32m~/anaconda3/envs/torch/lib/python3.9/site-packages/hyperopt/fmin.py:586\u001b[0m, in \u001b[0;36mfmin\u001b[0;34m(fn, space, algo, max_evals, timeout, loss_threshold, trials, rstate, allow_trials_fmin, pass_expr_memo_ctrl, catch_eval_exceptions, verbose, return_argmin, points_to_evaluate, max_queue_len, show_progressbar, early_stop_fn, trials_save_file)\u001b[0m\n\u001b[1;32m    583\u001b[0m rval\u001b[38;5;241m.\u001b[39mcatch_eval_exceptions \u001b[38;5;241m=\u001b[39m catch_eval_exceptions\n\u001b[1;32m    585\u001b[0m \u001b[38;5;66;03m# next line is where the fmin is actually executed\u001b[39;00m\n\u001b[0;32m--> 586\u001b[0m \u001b[43mrval\u001b[49m\u001b[38;5;241;43m.\u001b[39;49m\u001b[43mexhaust\u001b[49m\u001b[43m(\u001b[49m\u001b[43m)\u001b[49m\n\u001b[1;32m    588\u001b[0m \u001b[38;5;28;01mif\u001b[39;00m return_argmin:\n\u001b[1;32m    589\u001b[0m     \u001b[38;5;28;01mif\u001b[39;00m \u001b[38;5;28mlen\u001b[39m(trials\u001b[38;5;241m.\u001b[39mtrials) \u001b[38;5;241m==\u001b[39m \u001b[38;5;241m0\u001b[39m:\n",
      "File \u001b[0;32m~/anaconda3/envs/torch/lib/python3.9/site-packages/hyperopt/fmin.py:364\u001b[0m, in \u001b[0;36mFMinIter.exhaust\u001b[0;34m(self)\u001b[0m\n\u001b[1;32m    362\u001b[0m \u001b[38;5;28;01mdef\u001b[39;00m \u001b[38;5;21mexhaust\u001b[39m(\u001b[38;5;28mself\u001b[39m):\n\u001b[1;32m    363\u001b[0m     n_done \u001b[38;5;241m=\u001b[39m \u001b[38;5;28mlen\u001b[39m(\u001b[38;5;28mself\u001b[39m\u001b[38;5;241m.\u001b[39mtrials)\n\u001b[0;32m--> 364\u001b[0m     \u001b[38;5;28;43mself\u001b[39;49m\u001b[38;5;241;43m.\u001b[39;49m\u001b[43mrun\u001b[49m\u001b[43m(\u001b[49m\u001b[38;5;28;43mself\u001b[39;49m\u001b[38;5;241;43m.\u001b[39;49m\u001b[43mmax_evals\u001b[49m\u001b[43m \u001b[49m\u001b[38;5;241;43m-\u001b[39;49m\u001b[43m \u001b[49m\u001b[43mn_done\u001b[49m\u001b[43m,\u001b[49m\u001b[43m \u001b[49m\u001b[43mblock_until_done\u001b[49m\u001b[38;5;241;43m=\u001b[39;49m\u001b[38;5;28;43mself\u001b[39;49m\u001b[38;5;241;43m.\u001b[39;49m\u001b[43masynchronous\u001b[49m\u001b[43m)\u001b[49m\n\u001b[1;32m    365\u001b[0m     \u001b[38;5;28mself\u001b[39m\u001b[38;5;241m.\u001b[39mtrials\u001b[38;5;241m.\u001b[39mrefresh()\n\u001b[1;32m    366\u001b[0m     \u001b[38;5;28;01mreturn\u001b[39;00m \u001b[38;5;28mself\u001b[39m\n",
      "File \u001b[0;32m~/anaconda3/envs/torch/lib/python3.9/site-packages/hyperopt/fmin.py:300\u001b[0m, in \u001b[0;36mFMinIter.run\u001b[0;34m(self, N, block_until_done)\u001b[0m\n\u001b[1;32m    297\u001b[0m     time\u001b[38;5;241m.\u001b[39msleep(\u001b[38;5;28mself\u001b[39m\u001b[38;5;241m.\u001b[39mpoll_interval_secs)\n\u001b[1;32m    298\u001b[0m \u001b[38;5;28;01melse\u001b[39;00m:\n\u001b[1;32m    299\u001b[0m     \u001b[38;5;66;03m# -- loop over trials and do the jobs directly\u001b[39;00m\n\u001b[0;32m--> 300\u001b[0m     \u001b[38;5;28;43mself\u001b[39;49m\u001b[38;5;241;43m.\u001b[39;49m\u001b[43mserial_evaluate\u001b[49m\u001b[43m(\u001b[49m\u001b[43m)\u001b[49m\n\u001b[1;32m    302\u001b[0m \u001b[38;5;28mself\u001b[39m\u001b[38;5;241m.\u001b[39mtrials\u001b[38;5;241m.\u001b[39mrefresh()\n\u001b[1;32m    303\u001b[0m \u001b[38;5;28;01mif\u001b[39;00m \u001b[38;5;28mself\u001b[39m\u001b[38;5;241m.\u001b[39mtrials_save_file \u001b[38;5;241m!=\u001b[39m \u001b[38;5;124m\"\u001b[39m\u001b[38;5;124m\"\u001b[39m:\n",
      "File \u001b[0;32m~/anaconda3/envs/torch/lib/python3.9/site-packages/hyperopt/fmin.py:178\u001b[0m, in \u001b[0;36mFMinIter.serial_evaluate\u001b[0;34m(self, N)\u001b[0m\n\u001b[1;32m    176\u001b[0m ctrl \u001b[38;5;241m=\u001b[39m base\u001b[38;5;241m.\u001b[39mCtrl(\u001b[38;5;28mself\u001b[39m\u001b[38;5;241m.\u001b[39mtrials, current_trial\u001b[38;5;241m=\u001b[39mtrial)\n\u001b[1;32m    177\u001b[0m \u001b[38;5;28;01mtry\u001b[39;00m:\n\u001b[0;32m--> 178\u001b[0m     result \u001b[38;5;241m=\u001b[39m \u001b[38;5;28;43mself\u001b[39;49m\u001b[38;5;241;43m.\u001b[39;49m\u001b[43mdomain\u001b[49m\u001b[38;5;241;43m.\u001b[39;49m\u001b[43mevaluate\u001b[49m\u001b[43m(\u001b[49m\u001b[43mspec\u001b[49m\u001b[43m,\u001b[49m\u001b[43m \u001b[49m\u001b[43mctrl\u001b[49m\u001b[43m)\u001b[49m\n\u001b[1;32m    179\u001b[0m \u001b[38;5;28;01mexcept\u001b[39;00m \u001b[38;5;167;01mException\u001b[39;00m \u001b[38;5;28;01mas\u001b[39;00m e:\n\u001b[1;32m    180\u001b[0m     logger\u001b[38;5;241m.\u001b[39merror(\u001b[38;5;124m\"\u001b[39m\u001b[38;5;124mjob exception: \u001b[39m\u001b[38;5;132;01m%s\u001b[39;00m\u001b[38;5;124m\"\u001b[39m \u001b[38;5;241m%\u001b[39m \u001b[38;5;28mstr\u001b[39m(e))\n",
      "File \u001b[0;32m~/anaconda3/envs/torch/lib/python3.9/site-packages/hyperopt/base.py:892\u001b[0m, in \u001b[0;36mDomain.evaluate\u001b[0;34m(self, config, ctrl, attach_attachments)\u001b[0m\n\u001b[1;32m    883\u001b[0m \u001b[38;5;28;01melse\u001b[39;00m:\n\u001b[1;32m    884\u001b[0m     \u001b[38;5;66;03m# -- the \"work\" of evaluating `config` can be written\u001b[39;00m\n\u001b[1;32m    885\u001b[0m     \u001b[38;5;66;03m#    either into the pyll part (self.expr)\u001b[39;00m\n\u001b[1;32m    886\u001b[0m     \u001b[38;5;66;03m#    or the normal Python part (self.fn)\u001b[39;00m\n\u001b[1;32m    887\u001b[0m     pyll_rval \u001b[38;5;241m=\u001b[39m pyll\u001b[38;5;241m.\u001b[39mrec_eval(\n\u001b[1;32m    888\u001b[0m         \u001b[38;5;28mself\u001b[39m\u001b[38;5;241m.\u001b[39mexpr,\n\u001b[1;32m    889\u001b[0m         memo\u001b[38;5;241m=\u001b[39mmemo,\n\u001b[1;32m    890\u001b[0m         print_node_on_error\u001b[38;5;241m=\u001b[39m\u001b[38;5;28mself\u001b[39m\u001b[38;5;241m.\u001b[39mrec_eval_print_node_on_error,\n\u001b[1;32m    891\u001b[0m     )\n\u001b[0;32m--> 892\u001b[0m     rval \u001b[38;5;241m=\u001b[39m \u001b[38;5;28;43mself\u001b[39;49m\u001b[38;5;241;43m.\u001b[39;49m\u001b[43mfn\u001b[49m\u001b[43m(\u001b[49m\u001b[43mpyll_rval\u001b[49m\u001b[43m)\u001b[49m\n\u001b[1;32m    894\u001b[0m \u001b[38;5;28;01mif\u001b[39;00m \u001b[38;5;28misinstance\u001b[39m(rval, (\u001b[38;5;28mfloat\u001b[39m, \u001b[38;5;28mint\u001b[39m, np\u001b[38;5;241m.\u001b[39mnumber)):\n\u001b[1;32m    895\u001b[0m     dict_rval \u001b[38;5;241m=\u001b[39m {\u001b[38;5;124m\"\u001b[39m\u001b[38;5;124mloss\u001b[39m\u001b[38;5;124m\"\u001b[39m: \u001b[38;5;28mfloat\u001b[39m(rval), \u001b[38;5;124m\"\u001b[39m\u001b[38;5;124mstatus\u001b[39m\u001b[38;5;124m\"\u001b[39m: STATUS_OK}\n",
      "Cell \u001b[0;32mIn[16], line 39\u001b[0m, in \u001b[0;36mobjective\u001b[0;34m(params)\u001b[0m\n\u001b[1;32m     36\u001b[0m val_dataloader \u001b[38;5;241m=\u001b[39m DataLoader(subset_val_dataset, batch_size\u001b[38;5;241m=\u001b[39m\u001b[38;5;28mint\u001b[39m(params[\u001b[38;5;124m'\u001b[39m\u001b[38;5;124mbatch_size\u001b[39m\u001b[38;5;124m'\u001b[39m]), shuffle\u001b[38;5;241m=\u001b[39m\u001b[38;5;28;01mFalse\u001b[39;00m, num_workers\u001b[38;5;241m=\u001b[39m\u001b[38;5;241m4\u001b[39m)\n\u001b[1;32m     38\u001b[0m \u001b[38;5;66;03m# Training loop\u001b[39;00m\n\u001b[0;32m---> 39\u001b[0m _, _, (train_losses, valid_losses, train_accuracy, valid_accuracy) \u001b[38;5;241m=\u001b[39m \u001b[43mtraining_loop\u001b[49m\u001b[43m(\u001b[49m\n\u001b[1;32m     40\u001b[0m \u001b[43m    \u001b[49m\u001b[43mmodel\u001b[49m\u001b[38;5;241;43m=\u001b[39;49m\u001b[43mnet\u001b[49m\u001b[43m,\u001b[49m\u001b[43m \u001b[49m\n\u001b[1;32m     41\u001b[0m \u001b[43m    \u001b[49m\u001b[43mloss_fn\u001b[49m\u001b[38;5;241;43m=\u001b[39;49m\u001b[43mloss_fn\u001b[49m\u001b[43m,\u001b[49m\u001b[43m \u001b[49m\n\u001b[1;32m     42\u001b[0m \u001b[43m    \u001b[49m\u001b[43moptimizer\u001b[49m\u001b[38;5;241;43m=\u001b[39;49m\u001b[43moptimizer\u001b[49m\u001b[43m,\u001b[49m\u001b[43m \u001b[49m\n\u001b[1;32m     43\u001b[0m \u001b[43m    \u001b[49m\u001b[43mtrain_loader\u001b[49m\u001b[38;5;241;43m=\u001b[39;49m\u001b[43mtrain_dataloader\u001b[49m\u001b[43m,\u001b[49m\u001b[43m \u001b[49m\n\u001b[1;32m     44\u001b[0m \u001b[43m    \u001b[49m\u001b[43mvalid_loader\u001b[49m\u001b[38;5;241;43m=\u001b[39;49m\u001b[43mval_dataloader\u001b[49m\u001b[43m,\u001b[49m\u001b[43m \u001b[49m\n\u001b[1;32m     45\u001b[0m \u001b[43m    \u001b[49m\u001b[43mepochs\u001b[49m\u001b[38;5;241;43m=\u001b[39;49m\u001b[38;5;241;43m5\u001b[39;49m\u001b[43m,\u001b[49m\u001b[43m  \u001b[49m\u001b[38;5;66;43;03m# adjust this\u001b[39;49;00m\n\u001b[1;32m     46\u001b[0m \u001b[43m    \u001b[49m\u001b[43mscheduler\u001b[49m\u001b[38;5;241;43m=\u001b[39;49m\u001b[43mscheduler\u001b[49m\u001b[43m,\u001b[49m\n\u001b[1;32m     47\u001b[0m \u001b[43m    \u001b[49m\u001b[43mdevice\u001b[49m\u001b[38;5;241;43m=\u001b[39;49m\u001b[43mdevice\u001b[49m\u001b[43m,\u001b[49m\u001b[43m \u001b[49m\n\u001b[1;32m     48\u001b[0m \u001b[43m    \u001b[49m\u001b[43mprint_every\u001b[49m\u001b[38;5;241;43m=\u001b[39;49m\u001b[38;5;241;43m1\u001b[39;49m\u001b[43m,\u001b[49m\n\u001b[1;32m     49\u001b[0m \u001b[43m    \u001b[49m\u001b[43mmode\u001b[49m\u001b[38;5;241;43m=\u001b[39;49m\u001b[38;5;124;43m\"\u001b[39;49m\u001b[38;5;124;43msingle_model\u001b[39;49m\u001b[38;5;124;43m\"\u001b[39;49m\n\u001b[1;32m     50\u001b[0m \u001b[43m\u001b[49m\u001b[43m)\u001b[49m\n\u001b[1;32m     52\u001b[0m min_valid_loss \u001b[38;5;241m=\u001b[39m \u001b[38;5;28mmin\u001b[39m(valid_losses)\n\u001b[1;32m     53\u001b[0m max_valid_accuracy \u001b[38;5;241m=\u001b[39m \u001b[38;5;28mmax\u001b[39m(valid_accuracy)\n",
      "File \u001b[0;32m~/GitHub/LDED-FusionNet/code/train_utils.py:150\u001b[0m, in \u001b[0;36mtraining_loop\u001b[0;34m(model, loss_fn, optimizer, train_loader, valid_loader, epochs, scheduler, device, print_every, mode)\u001b[0m\n\u001b[1;32m    147\u001b[0m \u001b[38;5;66;03m# Train model\u001b[39;00m\n\u001b[1;32m    148\u001b[0m \u001b[38;5;28;01mfor\u001b[39;00m epoch \u001b[38;5;129;01min\u001b[39;00m \u001b[38;5;28mrange\u001b[39m(\u001b[38;5;241m0\u001b[39m, epochs):\n\u001b[1;32m    149\u001b[0m     \u001b[38;5;66;03m# training\u001b[39;00m\n\u001b[0;32m--> 150\u001b[0m     model, optimizer, train_loss, train_acc \u001b[38;5;241m=\u001b[39m \u001b[43mtrain_single_epoch\u001b[49m\u001b[43m(\u001b[49m\u001b[43mmodel\u001b[49m\u001b[43m,\u001b[49m\u001b[43m \u001b[49m\u001b[43mepoch\u001b[49m\u001b[43m,\u001b[49m\u001b[43m \u001b[49m\u001b[43mtrain_loader\u001b[49m\u001b[43m,\u001b[49m\u001b[43m \u001b[49m\u001b[43mloss_fn\u001b[49m\u001b[43m,\u001b[49m\u001b[43m \u001b[49m\u001b[43moptimizer\u001b[49m\u001b[43m,\u001b[49m\u001b[43m \u001b[49m\u001b[43mdevice\u001b[49m\u001b[43m,\u001b[49m\u001b[43m \u001b[49m\u001b[43mmode\u001b[49m\u001b[43m \u001b[49m\u001b[38;5;241;43m=\u001b[39;49m\u001b[43m \u001b[49m\u001b[43mmode\u001b[49m\u001b[43m)\u001b[49m\n\u001b[1;32m    151\u001b[0m     train_losses\u001b[38;5;241m.\u001b[39mappend(train_loss)\n\u001b[1;32m    152\u001b[0m     \u001b[38;5;66;03m# validation\u001b[39;00m\n",
      "File \u001b[0;32m~/GitHub/LDED-FusionNet/code/train_utils.py:47\u001b[0m, in \u001b[0;36mtrain_single_epoch\u001b[0;34m(model, epoch, trainloader, loss_fn, optimizer, device, mode)\u001b[0m\n\u001b[1;32m     44\u001b[0m \u001b[38;5;66;03m#  create a progress bar for the training data loader\u001b[39;00m\n\u001b[1;32m     45\u001b[0m pbar \u001b[38;5;241m=\u001b[39m tqdm(trainloader, desc\u001b[38;5;241m=\u001b[39m\u001b[38;5;124mf\u001b[39m\u001b[38;5;124m\"\u001b[39m\u001b[38;5;124mEpoch \u001b[39m\u001b[38;5;132;01m{\u001b[39;00mepoch\u001b[38;5;132;01m}\u001b[39;00m\u001b[38;5;124m\"\u001b[39m)\n\u001b[0;32m---> 47\u001b[0m \u001b[38;5;28;01mfor\u001b[39;00m batch_idx, (inputs, targets) \u001b[38;5;129;01min\u001b[39;00m \u001b[38;5;28menumerate\u001b[39m(pbar):\n\u001b[1;32m     48\u001b[0m     \u001b[38;5;28;01mif\u001b[39;00m mode \u001b[38;5;241m==\u001b[39m \u001b[38;5;124m\"\u001b[39m\u001b[38;5;124msingle_model\u001b[39m\u001b[38;5;124m\"\u001b[39m:\n\u001b[1;32m     49\u001b[0m         inputs, targets \u001b[38;5;241m=\u001b[39m inputs\u001b[38;5;241m.\u001b[39mto(device), targets\u001b[38;5;241m.\u001b[39mto(device)\n",
      "File \u001b[0;32m~/anaconda3/envs/torch/lib/python3.9/site-packages/tqdm/std.py:1180\u001b[0m, in \u001b[0;36mtqdm.__iter__\u001b[0;34m(self)\u001b[0m\n\u001b[1;32m   1177\u001b[0m time \u001b[38;5;241m=\u001b[39m \u001b[38;5;28mself\u001b[39m\u001b[38;5;241m.\u001b[39m_time\n\u001b[1;32m   1179\u001b[0m \u001b[38;5;28;01mtry\u001b[39;00m:\n\u001b[0;32m-> 1180\u001b[0m     \u001b[38;5;28;01mfor\u001b[39;00m obj \u001b[38;5;129;01min\u001b[39;00m iterable:\n\u001b[1;32m   1181\u001b[0m         \u001b[38;5;28;01myield\u001b[39;00m obj\n\u001b[1;32m   1182\u001b[0m         \u001b[38;5;66;03m# Update and possibly print the progressbar.\u001b[39;00m\n\u001b[1;32m   1183\u001b[0m         \u001b[38;5;66;03m# Note: does not call self.update(1) for speed optimisation.\u001b[39;00m\n",
      "File \u001b[0;32m~/anaconda3/envs/torch/lib/python3.9/site-packages/torch/utils/data/dataloader.py:435\u001b[0m, in \u001b[0;36mDataLoader.__iter__\u001b[0;34m(self)\u001b[0m\n\u001b[1;32m    433\u001b[0m     \u001b[38;5;28;01mreturn\u001b[39;00m \u001b[38;5;28mself\u001b[39m\u001b[38;5;241m.\u001b[39m_iterator\n\u001b[1;32m    434\u001b[0m \u001b[38;5;28;01melse\u001b[39;00m:\n\u001b[0;32m--> 435\u001b[0m     \u001b[38;5;28;01mreturn\u001b[39;00m \u001b[38;5;28;43mself\u001b[39;49m\u001b[38;5;241;43m.\u001b[39;49m\u001b[43m_get_iterator\u001b[49m\u001b[43m(\u001b[49m\u001b[43m)\u001b[49m\n",
      "File \u001b[0;32m~/anaconda3/envs/torch/lib/python3.9/site-packages/torch/utils/data/dataloader.py:381\u001b[0m, in \u001b[0;36mDataLoader._get_iterator\u001b[0;34m(self)\u001b[0m\n\u001b[1;32m    379\u001b[0m \u001b[38;5;28;01melse\u001b[39;00m:\n\u001b[1;32m    380\u001b[0m     \u001b[38;5;28mself\u001b[39m\u001b[38;5;241m.\u001b[39mcheck_worker_number_rationality()\n\u001b[0;32m--> 381\u001b[0m     \u001b[38;5;28;01mreturn\u001b[39;00m \u001b[43m_MultiProcessingDataLoaderIter\u001b[49m\u001b[43m(\u001b[49m\u001b[38;5;28;43mself\u001b[39;49m\u001b[43m)\u001b[49m\n",
      "File \u001b[0;32m~/anaconda3/envs/torch/lib/python3.9/site-packages/torch/utils/data/dataloader.py:1034\u001b[0m, in \u001b[0;36m_MultiProcessingDataLoaderIter.__init__\u001b[0;34m(self, loader)\u001b[0m\n\u001b[1;32m   1027\u001b[0m w\u001b[38;5;241m.\u001b[39mdaemon \u001b[38;5;241m=\u001b[39m \u001b[38;5;28;01mTrue\u001b[39;00m\n\u001b[1;32m   1028\u001b[0m \u001b[38;5;66;03m# NB: Process.start() actually take some time as it needs to\u001b[39;00m\n\u001b[1;32m   1029\u001b[0m \u001b[38;5;66;03m#     start a process and pass the arguments over via a pipe.\u001b[39;00m\n\u001b[1;32m   1030\u001b[0m \u001b[38;5;66;03m#     Therefore, we only add a worker to self._workers list after\u001b[39;00m\n\u001b[1;32m   1031\u001b[0m \u001b[38;5;66;03m#     it started, so that we do not call .join() if program dies\u001b[39;00m\n\u001b[1;32m   1032\u001b[0m \u001b[38;5;66;03m#     before it starts, and __del__ tries to join but will get:\u001b[39;00m\n\u001b[1;32m   1033\u001b[0m \u001b[38;5;66;03m#     AssertionError: can only join a started process.\u001b[39;00m\n\u001b[0;32m-> 1034\u001b[0m \u001b[43mw\u001b[49m\u001b[38;5;241;43m.\u001b[39;49m\u001b[43mstart\u001b[49m\u001b[43m(\u001b[49m\u001b[43m)\u001b[49m\n\u001b[1;32m   1035\u001b[0m \u001b[38;5;28mself\u001b[39m\u001b[38;5;241m.\u001b[39m_index_queues\u001b[38;5;241m.\u001b[39mappend(index_queue)\n\u001b[1;32m   1036\u001b[0m \u001b[38;5;28mself\u001b[39m\u001b[38;5;241m.\u001b[39m_workers\u001b[38;5;241m.\u001b[39mappend(w)\n",
      "File \u001b[0;32m~/anaconda3/envs/torch/lib/python3.9/multiprocessing/process.py:121\u001b[0m, in \u001b[0;36mBaseProcess.start\u001b[0;34m(self)\u001b[0m\n\u001b[1;32m    118\u001b[0m \u001b[38;5;28;01massert\u001b[39;00m \u001b[38;5;129;01mnot\u001b[39;00m _current_process\u001b[38;5;241m.\u001b[39m_config\u001b[38;5;241m.\u001b[39mget(\u001b[38;5;124m'\u001b[39m\u001b[38;5;124mdaemon\u001b[39m\u001b[38;5;124m'\u001b[39m), \\\n\u001b[1;32m    119\u001b[0m        \u001b[38;5;124m'\u001b[39m\u001b[38;5;124mdaemonic processes are not allowed to have children\u001b[39m\u001b[38;5;124m'\u001b[39m\n\u001b[1;32m    120\u001b[0m _cleanup()\n\u001b[0;32m--> 121\u001b[0m \u001b[38;5;28mself\u001b[39m\u001b[38;5;241m.\u001b[39m_popen \u001b[38;5;241m=\u001b[39m \u001b[38;5;28;43mself\u001b[39;49m\u001b[38;5;241;43m.\u001b[39;49m\u001b[43m_Popen\u001b[49m\u001b[43m(\u001b[49m\u001b[38;5;28;43mself\u001b[39;49m\u001b[43m)\u001b[49m\n\u001b[1;32m    122\u001b[0m \u001b[38;5;28mself\u001b[39m\u001b[38;5;241m.\u001b[39m_sentinel \u001b[38;5;241m=\u001b[39m \u001b[38;5;28mself\u001b[39m\u001b[38;5;241m.\u001b[39m_popen\u001b[38;5;241m.\u001b[39msentinel\n\u001b[1;32m    123\u001b[0m \u001b[38;5;66;03m# Avoid a refcycle if the target function holds an indirect\u001b[39;00m\n\u001b[1;32m    124\u001b[0m \u001b[38;5;66;03m# reference to the process object (see bpo-30775)\u001b[39;00m\n",
      "File \u001b[0;32m~/anaconda3/envs/torch/lib/python3.9/multiprocessing/context.py:224\u001b[0m, in \u001b[0;36mProcess._Popen\u001b[0;34m(process_obj)\u001b[0m\n\u001b[1;32m    222\u001b[0m \u001b[38;5;129m@staticmethod\u001b[39m\n\u001b[1;32m    223\u001b[0m \u001b[38;5;28;01mdef\u001b[39;00m \u001b[38;5;21m_Popen\u001b[39m(process_obj):\n\u001b[0;32m--> 224\u001b[0m     \u001b[38;5;28;01mreturn\u001b[39;00m \u001b[43m_default_context\u001b[49m\u001b[38;5;241;43m.\u001b[39;49m\u001b[43mget_context\u001b[49m\u001b[43m(\u001b[49m\u001b[43m)\u001b[49m\u001b[38;5;241;43m.\u001b[39;49m\u001b[43mProcess\u001b[49m\u001b[38;5;241;43m.\u001b[39;49m\u001b[43m_Popen\u001b[49m\u001b[43m(\u001b[49m\u001b[43mprocess_obj\u001b[49m\u001b[43m)\u001b[49m\n",
      "File \u001b[0;32m~/anaconda3/envs/torch/lib/python3.9/multiprocessing/context.py:291\u001b[0m, in \u001b[0;36mForkServerProcess._Popen\u001b[0;34m(process_obj)\u001b[0m\n\u001b[1;32m    288\u001b[0m \u001b[38;5;129m@staticmethod\u001b[39m\n\u001b[1;32m    289\u001b[0m \u001b[38;5;28;01mdef\u001b[39;00m \u001b[38;5;21m_Popen\u001b[39m(process_obj):\n\u001b[1;32m    290\u001b[0m     \u001b[38;5;28;01mfrom\u001b[39;00m \u001b[38;5;21;01m.\u001b[39;00m\u001b[38;5;21;01mpopen_forkserver\u001b[39;00m \u001b[38;5;28;01mimport\u001b[39;00m Popen\n\u001b[0;32m--> 291\u001b[0m     \u001b[38;5;28;01mreturn\u001b[39;00m \u001b[43mPopen\u001b[49m\u001b[43m(\u001b[49m\u001b[43mprocess_obj\u001b[49m\u001b[43m)\u001b[49m\n",
      "File \u001b[0;32m~/anaconda3/envs/torch/lib/python3.9/multiprocessing/popen_forkserver.py:35\u001b[0m, in \u001b[0;36mPopen.__init__\u001b[0;34m(self, process_obj)\u001b[0m\n\u001b[1;32m     33\u001b[0m \u001b[38;5;28;01mdef\u001b[39;00m \u001b[38;5;21m__init__\u001b[39m(\u001b[38;5;28mself\u001b[39m, process_obj):\n\u001b[1;32m     34\u001b[0m     \u001b[38;5;28mself\u001b[39m\u001b[38;5;241m.\u001b[39m_fds \u001b[38;5;241m=\u001b[39m []\n\u001b[0;32m---> 35\u001b[0m     \u001b[38;5;28;43msuper\u001b[39;49m\u001b[43m(\u001b[49m\u001b[43m)\u001b[49m\u001b[38;5;241;43m.\u001b[39;49m\u001b[38;5;21;43m__init__\u001b[39;49m\u001b[43m(\u001b[49m\u001b[43mprocess_obj\u001b[49m\u001b[43m)\u001b[49m\n",
      "File \u001b[0;32m~/anaconda3/envs/torch/lib/python3.9/multiprocessing/popen_fork.py:19\u001b[0m, in \u001b[0;36mPopen.__init__\u001b[0;34m(self, process_obj)\u001b[0m\n\u001b[1;32m     17\u001b[0m \u001b[38;5;28mself\u001b[39m\u001b[38;5;241m.\u001b[39mreturncode \u001b[38;5;241m=\u001b[39m \u001b[38;5;28;01mNone\u001b[39;00m\n\u001b[1;32m     18\u001b[0m \u001b[38;5;28mself\u001b[39m\u001b[38;5;241m.\u001b[39mfinalizer \u001b[38;5;241m=\u001b[39m \u001b[38;5;28;01mNone\u001b[39;00m\n\u001b[0;32m---> 19\u001b[0m \u001b[38;5;28;43mself\u001b[39;49m\u001b[38;5;241;43m.\u001b[39;49m\u001b[43m_launch\u001b[49m\u001b[43m(\u001b[49m\u001b[43mprocess_obj\u001b[49m\u001b[43m)\u001b[49m\n",
      "File \u001b[0;32m~/anaconda3/envs/torch/lib/python3.9/multiprocessing/popen_forkserver.py:58\u001b[0m, in \u001b[0;36mPopen._launch\u001b[0;34m(self, process_obj)\u001b[0m\n\u001b[1;32m     55\u001b[0m \u001b[38;5;28mself\u001b[39m\u001b[38;5;241m.\u001b[39mfinalizer \u001b[38;5;241m=\u001b[39m util\u001b[38;5;241m.\u001b[39mFinalize(\u001b[38;5;28mself\u001b[39m, util\u001b[38;5;241m.\u001b[39mclose_fds,\n\u001b[1;32m     56\u001b[0m                                (_parent_w, \u001b[38;5;28mself\u001b[39m\u001b[38;5;241m.\u001b[39msentinel))\n\u001b[1;32m     57\u001b[0m \u001b[38;5;28;01mwith\u001b[39;00m \u001b[38;5;28mopen\u001b[39m(w, \u001b[38;5;124m'\u001b[39m\u001b[38;5;124mwb\u001b[39m\u001b[38;5;124m'\u001b[39m, closefd\u001b[38;5;241m=\u001b[39m\u001b[38;5;28;01mTrue\u001b[39;00m) \u001b[38;5;28;01mas\u001b[39;00m f:\n\u001b[0;32m---> 58\u001b[0m     \u001b[43mf\u001b[49m\u001b[38;5;241;43m.\u001b[39;49m\u001b[43mwrite\u001b[49m\u001b[43m(\u001b[49m\u001b[43mbuf\u001b[49m\u001b[38;5;241;43m.\u001b[39;49m\u001b[43mgetbuffer\u001b[49m\u001b[43m(\u001b[49m\u001b[43m)\u001b[49m\u001b[43m)\u001b[49m\n\u001b[1;32m     59\u001b[0m \u001b[38;5;28mself\u001b[39m\u001b[38;5;241m.\u001b[39mpid \u001b[38;5;241m=\u001b[39m forkserver\u001b[38;5;241m.\u001b[39mread_signed(\u001b[38;5;28mself\u001b[39m\u001b[38;5;241m.\u001b[39msentinel)\n",
      "\u001b[0;31mKeyboardInterrupt\u001b[0m: "
     ]
    }
   ],
   "source": [
    "# Importing required libraries\n",
    "from hyperopt import fmin, tpe, hp, STATUS_OK, Trials\n",
    "from tqdm import tqdm\n",
    "from datetime import datetime\n",
    "import torch\n",
    "import torch.nn as nn\n",
    "import torch.optim as optim\n",
    "from torch.utils.data import DataLoader\n",
    "\n",
    "\n",
    "#Objective function\n",
    "def objective(params):\n",
    "    # Initialize your model\n",
    "    net = MFCCCNN(dropout_rate=params['dropout_rate'])\n",
    "    net = net.to(device)\n",
    "    \n",
    "    # Loss and optimizer\n",
    "    loss_fn = nn.CrossEntropyLoss()\n",
    "    if params['optimizer'] == 'adam':\n",
    "        optimizer = optim.Adam(net.parameters(), lr=params['learning_rate'], weight_decay=params['regularization'])\n",
    "    else:\n",
    "        optimizer = optim.SGD(net.parameters(), lr=params['learning_rate'], momentum=params['momentum'], weight_decay=params['regularization'])\n",
    "    scheduler = optim.lr_scheduler.StepLR(optimizer, step_size=7, gamma=0.1)\n",
    "\n",
    "    # Create DataLoaders\n",
    "    BATCH_SIZE = int(params['batch_size'])\n",
    "    \n",
    "     # Use a subset of the dataset for hyperparameter tuning\n",
    "    n_train = int(len(train_dataset) * 0.2)  # 20% of the training set\n",
    "    n_val = int(len(val_dataset) * 0.1)  # 10% of the validation set\n",
    "    \n",
    "    subset_train_dataset = torch.utils.data.Subset(train_dataset, np.random.choice(len(train_dataset), n_train, replace=False))\n",
    "    subset_val_dataset = torch.utils.data.Subset(val_dataset, np.random.choice(len(val_dataset), n_val, replace=False))\n",
    "    \n",
    "    train_dataloader = DataLoader(subset_train_dataset, batch_size=int(params['batch_size']), shuffle=True, num_workers=4)\n",
    "    val_dataloader = DataLoader(subset_val_dataset, batch_size=int(params['batch_size']), shuffle=False, num_workers=4)\n",
    "    \n",
    "    # Training loop\n",
    "    _, _, (train_losses, valid_losses, train_accuracy, valid_accuracy) = training_loop(\n",
    "        model=net, \n",
    "        loss_fn=loss_fn, \n",
    "        optimizer=optimizer, \n",
    "        train_loader=train_dataloader, \n",
    "        valid_loader=val_dataloader, \n",
    "        epochs=5,  # adjust this\n",
    "        scheduler=scheduler,\n",
    "        device=device, \n",
    "        print_every=1,\n",
    "        mode=\"single_model\"\n",
    "    )\n",
    "    \n",
    "    min_valid_loss = min(valid_losses)\n",
    "    max_valid_accuracy = max(valid_accuracy)\n",
    "    \n",
    "    return {'loss': min_valid_loss, 'status': STATUS_OK, 'best_accuracy': max_valid_accuracy}\n",
    "\n",
    "\n",
    "# Define hyperparameter space\n",
    "space = {\n",
    "    'batch_size': hp.choice('batch_size', [32, 64, 128]),\n",
    "    'optimizer': hp.choice('optimizer', ['adam', 'sgd']),\n",
    "    'dropout_rate': hp.uniform('dropout_rate', 0, 0.5),\n",
    "    'learning_rate': hp.loguniform('learning_rate', -7, -2),\n",
    "    'momentum': hp.uniform('momentum', 0.7, 0.99),\n",
    "    'regularization': hp.choice('regularization', [1e-3, 1e-4, 1e-5])\n",
    "}\n",
    "\n",
    "# Run optimization\n",
    "trials = Trials()\n",
    "best = fmin(fn=objective, space=space, algo=tpe.suggest, max_evals=10, trials=trials)"
   ]
  },
  {
   "cell_type": "code",
   "execution_count": null,
   "id": "d68abbb5-cb86-4d54-83a3-24300d6a61a5",
   "metadata": {},
   "outputs": [],
   "source": [
    "# Print actual values of best hyperparameters\n",
    "best_batch_size = [32, 64, 128][best['batch_size']]\n",
    "best_optimizer = ['adam', 'sgd'][best['optimizer']]\n",
    "best_regularization = [1e-3, 1e-4, 1e-5][best['regularization']]\n",
    "best_dropout_rate = best['dropout_rate']\n",
    "best_learning_rate = best['learning_rate']\n",
    "best_momentum = best['momentum']\n",
    "\n",
    "print(f\"Best hyperparameters found: Batch Size: {best_batch_size}, Optimizer: {best_optimizer}, Regularization: {best_regularization}\")\n",
    "\n",
    "print (f\"Dropout rate: {best['dropout_rate']}, Learning rate: {best_learning_rate}, Momentumn: {best_momentum}\")"
   ]
  },
  {
   "cell_type": "code",
   "execution_count": null,
   "id": "9d38602f-5918-48f5-860c-10176cd6bf6d",
   "metadata": {},
   "outputs": [],
   "source": [
    "# # Print Best Performance\n",
    "# best_trial = trials.best_trial\n",
    "# best_accuracy = best_trial['result']['best_accuracy']\n",
    "# print(f\"Best validation accuracy during hyperparameter tuning: {best_accuracy}\")"
   ]
  },
  {
   "cell_type": "raw",
   "id": "e20d90a6-84db-45fb-9b2a-f78769e2703e",
   "metadata": {},
   "source": [
    "Best hyperparameters found: Batch Size: 128, Optimizer: sgd, Regularization: 1e-05\n",
    "Dropout rate: 0.2518946782702864, Learning rate: 0.04275183165118986, Momentumn: 0.7662453875665081"
   ]
  },
  {
   "cell_type": "markdown",
   "id": "5913b721-5e90-47f2-9de9-6c085006982b",
   "metadata": {},
   "source": [
    "## Training the model"
   ]
  },
  {
   "cell_type": "code",
   "execution_count": 17,
   "id": "1689725d-94f4-4cbb-bfe9-f42c1c49c89e",
   "metadata": {},
   "outputs": [],
   "source": [
    "resume = False\n",
    "start_epoch = 0\n",
    "best_acc = 0\n",
    "LEARNING_RATE = 0.04275183165118986\n",
    "Dropout_rate = 0.2518946782702864\n",
    "Momentumn= 0.7662453875665081\n",
    "Regularization =  1e-05\n",
    "BATCH_SIZE = 128\n",
    "EPOCHS = 20"
   ]
  },
  {
   "cell_type": "code",
   "execution_count": 18,
   "id": "478dceec-22ae-4066-82d7-c4b51ddba2e3",
   "metadata": {
    "scrolled": true,
    "tags": []
   },
   "outputs": [
    {
     "name": "stdout",
     "output_type": "stream",
     "text": [
      "==> Building model..\n",
      "--- Using CUDA ---\n",
      "\n",
      "Epoch: 0\n"
     ]
    },
    {
     "name": "stderr",
     "output_type": "stream",
     "text": [
      "Epoch 0: 100%|█████████████████████████████████████████████| 109/109 [00:04<00:00, 26.77it/s, loss=1.13, accuracy=55.7]\n",
      "Epoch 0:   0%|                                                        | 0/14 [00:03<?, ?it/s, loss=1.03, accuracy=63.1]\n"
     ]
    },
    {
     "name": "stdout",
     "output_type": "stream",
     "text": [
      "15:13:18 --- Epoch: 0\tTrain loss: 1.1348\tValid loss: 0.0334\tTrain accuracy: 55.72\tValid accuracy: 63.13\n",
      "\n",
      "Epoch: 1\n"
     ]
    },
    {
     "name": "stderr",
     "output_type": "stream",
     "text": [
      "Epoch 1: 100%|████████████████████████████████████████████| 109/109 [00:03<00:00, 27.27it/s, loss=0.944, accuracy=66.3]\n",
      "Epoch 1:   0%|                                                       | 0/14 [00:03<?, ?it/s, loss=0.793, accuracy=72.4]\n"
     ]
    },
    {
     "name": "stdout",
     "output_type": "stream",
     "text": [
      "15:13:26 --- Epoch: 1\tTrain loss: 0.9448\tValid loss: 0.0256\tTrain accuracy: 66.28\tValid accuracy: 72.35\n",
      "\n",
      "Epoch: 2\n"
     ]
    },
    {
     "name": "stderr",
     "output_type": "stream",
     "text": [
      "Epoch 2: 100%|████████████████████████████████████████████| 109/109 [00:04<00:00, 26.92it/s, loss=0.768, accuracy=71.9]\n",
      "Epoch 2:   0%|                                                        | 0/14 [00:03<?, ?it/s, loss=0.69, accuracy=71.9]\n"
     ]
    },
    {
     "name": "stdout",
     "output_type": "stream",
     "text": [
      "15:13:34 --- Epoch: 2\tTrain loss: 0.7690\tValid loss: 0.0223\tTrain accuracy: 71.86\tValid accuracy: 71.89\n",
      "\n",
      "Epoch: 3\n"
     ]
    },
    {
     "name": "stderr",
     "output_type": "stream",
     "text": [
      "Epoch 3: 100%|█████████████████████████████████████████████| 109/109 [00:04<00:00, 26.17it/s, loss=0.64, accuracy=76.3]\n",
      "Epoch 3:   0%|                                                       | 0/14 [00:03<?, ?it/s, loss=0.645, accuracy=76.5]\n"
     ]
    },
    {
     "name": "stdout",
     "output_type": "stream",
     "text": [
      "15:13:41 --- Epoch: 3\tTrain loss: 0.6399\tValid loss: 0.0208\tTrain accuracy: 76.29\tValid accuracy: 76.50\n",
      "\n",
      "Epoch: 4\n"
     ]
    },
    {
     "name": "stderr",
     "output_type": "stream",
     "text": [
      "Epoch 4: 100%|████████████████████████████████████████████| 109/109 [00:04<00:00, 26.76it/s, loss=0.593, accuracy=78.3]\n",
      "Epoch 4:   0%|                                                       | 0/14 [00:03<?, ?it/s, loss=0.566, accuracy=78.3]\n"
     ]
    },
    {
     "name": "stdout",
     "output_type": "stream",
     "text": [
      "15:13:49 --- Epoch: 4\tTrain loss: 0.5928\tValid loss: 0.0183\tTrain accuracy: 78.31\tValid accuracy: 78.34\n",
      "\n",
      "Epoch: 5\n"
     ]
    },
    {
     "name": "stderr",
     "output_type": "stream",
     "text": [
      "Epoch 5: 100%|████████████████████████████████████████████| 109/109 [00:04<00:00, 26.74it/s, loss=0.563, accuracy=79.3]\n",
      "Epoch 5:   0%|                                                         | 0/14 [00:03<?, ?it/s, loss=0.549, accuracy=77]\n"
     ]
    },
    {
     "name": "stdout",
     "output_type": "stream",
     "text": [
      "15:13:57 --- Epoch: 5\tTrain loss: 0.5639\tValid loss: 0.0177\tTrain accuracy: 79.26\tValid accuracy: 76.96\n",
      "\n",
      "Epoch: 6\n"
     ]
    },
    {
     "name": "stderr",
     "output_type": "stream",
     "text": [
      "Epoch 6: 100%|████████████████████████████████████████████| 109/109 [00:04<00:00, 26.85it/s, loss=0.472, accuracy=82.6]\n",
      "Epoch 6:   0%|                                                       | 0/14 [00:03<?, ?it/s, loss=0.494, accuracy=81.8]\n"
     ]
    },
    {
     "name": "stdout",
     "output_type": "stream",
     "text": [
      "15:14:05 --- Epoch: 6\tTrain loss: 0.4723\tValid loss: 0.0159\tTrain accuracy: 82.62\tValid accuracy: 81.80\n",
      "\n",
      "Epoch: 7\n"
     ]
    },
    {
     "name": "stderr",
     "output_type": "stream",
     "text": [
      "Epoch 7: 100%|████████████████████████████████████████████| 109/109 [00:04<00:00, 26.98it/s, loss=0.375, accuracy=86.2]\n",
      "Epoch 7:   0%|                                                       | 0/14 [00:03<?, ?it/s, loss=0.433, accuracy=81.3]\n"
     ]
    },
    {
     "name": "stdout",
     "output_type": "stream",
     "text": [
      "15:14:12 --- Epoch: 7\tTrain loss: 0.3746\tValid loss: 0.0140\tTrain accuracy: 86.22\tValid accuracy: 81.34\n",
      "\n",
      "Epoch: 8\n"
     ]
    },
    {
     "name": "stderr",
     "output_type": "stream",
     "text": [
      "Epoch 8: 100%|████████████████████████████████████████████| 109/109 [00:04<00:00, 27.14it/s, loss=0.358, accuracy=86.7]\n",
      "Epoch 8:   0%|                                                       | 0/14 [00:03<?, ?it/s, loss=0.429, accuracy=80.9]\n"
     ]
    },
    {
     "name": "stdout",
     "output_type": "stream",
     "text": [
      "15:14:20 --- Epoch: 8\tTrain loss: 0.3578\tValid loss: 0.0138\tTrain accuracy: 86.68\tValid accuracy: 80.88\n",
      "\n",
      "Epoch: 9\n"
     ]
    },
    {
     "name": "stderr",
     "output_type": "stream",
     "text": [
      "Epoch 9: 100%|████████████████████████████████████████████| 109/109 [00:04<00:00, 26.92it/s, loss=0.344, accuracy=87.6]\n",
      "Epoch 9:   0%|                                                       | 0/14 [00:03<?, ?it/s, loss=0.415, accuracy=82.3]\n"
     ]
    },
    {
     "name": "stdout",
     "output_type": "stream",
     "text": [
      "15:14:28 --- Epoch: 9\tTrain loss: 0.3438\tValid loss: 0.0134\tTrain accuracy: 87.57\tValid accuracy: 82.26\n",
      "\n",
      "Epoch: 10\n"
     ]
    },
    {
     "name": "stderr",
     "output_type": "stream",
     "text": [
      "Epoch 10: 100%|███████████████████████████████████████████| 109/109 [00:04<00:00, 26.85it/s, loss=0.338, accuracy=87.7]\n",
      "Epoch 10:   0%|                                                      | 0/14 [00:03<?, ?it/s, loss=0.409, accuracy=82.7]\n"
     ]
    },
    {
     "name": "stdout",
     "output_type": "stream",
     "text": [
      "15:14:35 --- Epoch: 10\tTrain loss: 0.3390\tValid loss: 0.0132\tTrain accuracy: 87.66\tValid accuracy: 82.72\n",
      "\n",
      "Epoch: 11\n"
     ]
    },
    {
     "name": "stderr",
     "output_type": "stream",
     "text": [
      "Epoch 11: 100%|███████████████████████████████████████████| 109/109 [00:04<00:00, 26.89it/s, loss=0.333, accuracy=88.3]\n",
      "Epoch 11:   0%|                                                      | 0/14 [00:03<?, ?it/s, loss=0.415, accuracy=82.5]\n"
     ]
    },
    {
     "name": "stdout",
     "output_type": "stream",
     "text": [
      "15:14:43 --- Epoch: 11\tTrain loss: 0.3327\tValid loss: 0.0134\tTrain accuracy: 88.26\tValid accuracy: 82.49\n",
      "\n",
      "Epoch: 12\n"
     ]
    },
    {
     "name": "stderr",
     "output_type": "stream",
     "text": [
      "Epoch 12: 100%|████████████████████████████████████████████| 109/109 [00:04<00:00, 27.01it/s, loss=0.33, accuracy=87.6]\n",
      "Epoch 12:   0%|                                                         | 0/14 [00:03<?, ?it/s, loss=0.43, accuracy=82]\n"
     ]
    },
    {
     "name": "stdout",
     "output_type": "stream",
     "text": [
      "15:14:51 --- Epoch: 12\tTrain loss: 0.3294\tValid loss: 0.0139\tTrain accuracy: 87.57\tValid accuracy: 82.03\n",
      "\n",
      "Epoch: 13\n"
     ]
    },
    {
     "name": "stderr",
     "output_type": "stream",
     "text": [
      "Epoch 13: 100%|███████████████████████████████████████████| 109/109 [00:04<00:00, 26.75it/s, loss=0.334, accuracy=87.9]\n",
      "Epoch 13:   0%|                                                      | 0/14 [00:03<?, ?it/s, loss=0.409, accuracy=82.3]\n"
     ]
    },
    {
     "name": "stdout",
     "output_type": "stream",
     "text": [
      "15:14:58 --- Epoch: 13\tTrain loss: 0.3348\tValid loss: 0.0132\tTrain accuracy: 87.89\tValid accuracy: 82.26\n",
      "\n",
      "Epoch: 14\n"
     ]
    },
    {
     "name": "stderr",
     "output_type": "stream",
     "text": [
      "Epoch 14: 100%|███████████████████████████████████████████| 109/109 [00:04<00:00, 27.21it/s, loss=0.314, accuracy=88.4]\n",
      "Epoch 14:   0%|                                                      | 0/14 [00:03<?, ?it/s, loss=0.407, accuracy=82.5]\n"
     ]
    },
    {
     "name": "stdout",
     "output_type": "stream",
     "text": [
      "15:15:06 --- Epoch: 14\tTrain loss: 0.3149\tValid loss: 0.0131\tTrain accuracy: 88.38\tValid accuracy: 82.49\n",
      "\n",
      "Epoch: 15\n"
     ]
    },
    {
     "name": "stderr",
     "output_type": "stream",
     "text": [
      "Epoch 15: 100%|███████████████████████████████████████████| 109/109 [00:04<00:00, 27.10it/s, loss=0.311, accuracy=88.6]\n",
      "Epoch 15:   0%|                                                      | 0/14 [00:03<?, ?it/s, loss=0.407, accuracy=82.5]\n"
     ]
    },
    {
     "name": "stdout",
     "output_type": "stream",
     "text": [
      "15:15:14 --- Epoch: 15\tTrain loss: 0.3118\tValid loss: 0.0131\tTrain accuracy: 88.61\tValid accuracy: 82.49\n",
      "\n",
      "Epoch: 16\n"
     ]
    },
    {
     "name": "stderr",
     "output_type": "stream",
     "text": [
      "Epoch 16: 100%|███████████████████████████████████████████| 109/109 [00:04<00:00, 26.60it/s, loss=0.303, accuracy=88.8]\n",
      "Epoch 16:   0%|                                                      | 0/14 [00:03<?, ?it/s, loss=0.407, accuracy=82.5]\n"
     ]
    },
    {
     "name": "stdout",
     "output_type": "stream",
     "text": [
      "15:15:21 --- Epoch: 16\tTrain loss: 0.3024\tValid loss: 0.0131\tTrain accuracy: 88.81\tValid accuracy: 82.49\n",
      "\n",
      "Epoch: 17\n"
     ]
    },
    {
     "name": "stderr",
     "output_type": "stream",
     "text": [
      "Epoch 17: 100%|███████████████████████████████████████████| 109/109 [00:04<00:00, 26.87it/s, loss=0.314, accuracy=88.5]\n",
      "Epoch 17:   0%|                                                      | 0/14 [00:03<?, ?it/s, loss=0.406, accuracy=82.7]\n"
     ]
    },
    {
     "name": "stdout",
     "output_type": "stream",
     "text": [
      "15:15:29 --- Epoch: 17\tTrain loss: 0.3137\tValid loss: 0.0131\tTrain accuracy: 88.49\tValid accuracy: 82.72\n",
      "\n",
      "Epoch: 18\n"
     ]
    },
    {
     "name": "stderr",
     "output_type": "stream",
     "text": [
      "Epoch 18: 100%|███████████████████████████████████████████| 109/109 [00:03<00:00, 27.36it/s, loss=0.311, accuracy=88.8]\n",
      "Epoch 18:   0%|                                                      | 0/14 [00:03<?, ?it/s, loss=0.404, accuracy=82.9]\n"
     ]
    },
    {
     "name": "stdout",
     "output_type": "stream",
     "text": [
      "15:15:37 --- Epoch: 18\tTrain loss: 0.3108\tValid loss: 0.0130\tTrain accuracy: 88.75\tValid accuracy: 82.95\n",
      "\n",
      "Epoch: 19\n"
     ]
    },
    {
     "name": "stderr",
     "output_type": "stream",
     "text": [
      "Epoch 19: 100%|████████████████████████████████████████████| 109/109 [00:04<00:00, 27.18it/s, loss=0.31, accuracy=88.7]\n",
      "Epoch 19:   0%|                                                      | 0/14 [00:03<?, ?it/s, loss=0.405, accuracy=82.9]\n"
     ]
    },
    {
     "name": "stdout",
     "output_type": "stream",
     "text": [
      "15:15:44 --- Epoch: 19\tTrain loss: 0.3099\tValid loss: 0.0131\tTrain accuracy: 88.69\tValid accuracy: 82.95\n",
      "\n",
      "Epoch: 20\n"
     ]
    },
    {
     "name": "stderr",
     "output_type": "stream",
     "text": [
      "Epoch 20: 100%|███████████████████████████████████████████| 109/109 [00:04<00:00, 26.68it/s, loss=0.311, accuracy=88.5]\n",
      "Epoch 20:   0%|                                                      | 0/14 [00:03<?, ?it/s, loss=0.404, accuracy=82.9]\n"
     ]
    },
    {
     "name": "stdout",
     "output_type": "stream",
     "text": [
      "15:15:52 --- Epoch: 20\tTrain loss: 0.3112\tValid loss: 0.0130\tTrain accuracy: 88.52\tValid accuracy: 82.95\n",
      "\n",
      "Epoch: 21\n"
     ]
    },
    {
     "name": "stderr",
     "output_type": "stream",
     "text": [
      "Epoch 21: 100%|███████████████████████████████████████████| 109/109 [00:04<00:00, 26.87it/s, loss=0.309, accuracy=88.7]\n",
      "Epoch 21:   0%|                                                        | 0/14 [00:02<?, ?it/s, loss=0.495, accuracy=76]"
     ]
    },
    {
     "ename": "KeyboardInterrupt",
     "evalue": "",
     "output_type": "error",
     "traceback": [
      "\u001b[0;31m---------------------------------------------------------------------------\u001b[0m",
      "\u001b[0;31mKeyboardInterrupt\u001b[0m                         Traceback (most recent call last)",
      "Cell \u001b[0;32mIn[18], line 29\u001b[0m\n\u001b[1;32m     26\u001b[0m optimizer \u001b[38;5;241m=\u001b[39m optim\u001b[38;5;241m.\u001b[39mSGD(net\u001b[38;5;241m.\u001b[39mparameters(), lr\u001b[38;5;241m=\u001b[39m\u001b[38;5;241m0.04275183165118986\u001b[39m, momentum\u001b[38;5;241m=\u001b[39mMomentumn, weight_decay\u001b[38;5;241m=\u001b[39mRegularization)\n\u001b[1;32m     27\u001b[0m scheduler \u001b[38;5;241m=\u001b[39m optim\u001b[38;5;241m.\u001b[39mlr_scheduler\u001b[38;5;241m.\u001b[39mStepLR(optimizer, step_size\u001b[38;5;241m=\u001b[39m\u001b[38;5;241m7\u001b[39m, gamma\u001b[38;5;241m=\u001b[39m\u001b[38;5;241m0.1\u001b[39m)\n\u001b[0;32m---> 29\u001b[0m model, optimizer, (train_losses, valid_losses, train_accuracy, valid_accuracy) \u001b[38;5;241m=\u001b[39m \u001b[43mtraining_loop\u001b[49m\u001b[43m(\u001b[49m\u001b[43mnet\u001b[49m\u001b[43m,\u001b[49m\u001b[43m \u001b[49m\u001b[43mloss_fn\u001b[49m\u001b[43m,\u001b[49m\u001b[43m \u001b[49m\u001b[43moptimizer\u001b[49m\u001b[43m,\u001b[49m\u001b[43m \u001b[49m\u001b[43mtrain_dataloader\u001b[49m\u001b[43m,\u001b[49m\u001b[43m \u001b[49m\u001b[43mval_dataloader\u001b[49m\u001b[43m,\u001b[49m\u001b[43m \u001b[49m\u001b[43mEPOCHS\u001b[49m\u001b[43m,\u001b[49m\u001b[43m \u001b[49m\u001b[43mscheduler\u001b[49m\u001b[43m,\u001b[49m\u001b[43m \u001b[49m\u001b[43mdevice\u001b[49m\u001b[43m)\u001b[49m\n",
      "File \u001b[0;32m~/GitHub/LDED-FusionNet/code/train_utils.py:153\u001b[0m, in \u001b[0;36mtraining_loop\u001b[0;34m(model, loss_fn, optimizer, train_loader, valid_loader, epochs, scheduler, device, print_every, mode)\u001b[0m\n\u001b[1;32m    151\u001b[0m train_losses\u001b[38;5;241m.\u001b[39mappend(train_loss)\n\u001b[1;32m    152\u001b[0m \u001b[38;5;66;03m# validation\u001b[39;00m\n\u001b[0;32m--> 153\u001b[0m model, valid_loss, valid_acc \u001b[38;5;241m=\u001b[39m \u001b[43mtest_single_epoch\u001b[49m\u001b[43m(\u001b[49m\u001b[43mmodel\u001b[49m\u001b[43m,\u001b[49m\u001b[43m \u001b[49m\u001b[43mepoch\u001b[49m\u001b[43m,\u001b[49m\u001b[43m \u001b[49m\u001b[43mvalid_loader\u001b[49m\u001b[43m,\u001b[49m\u001b[43m \u001b[49m\u001b[43mloss_fn\u001b[49m\u001b[43m,\u001b[49m\u001b[43m \u001b[49m\u001b[43mdevice\u001b[49m\u001b[43m,\u001b[49m\u001b[43m \u001b[49m\u001b[43mmode\u001b[49m\u001b[43m \u001b[49m\u001b[38;5;241;43m=\u001b[39;49m\u001b[43m \u001b[49m\u001b[43mmode\u001b[49m\u001b[43m)\u001b[49m\n\u001b[1;32m    154\u001b[0m valid_losses\u001b[38;5;241m.\u001b[39mappend(valid_loss)\n\u001b[1;32m    156\u001b[0m \u001b[38;5;66;03m# if epoch % print_every == (print_every - 1):\u001b[39;00m\n\u001b[1;32m    157\u001b[0m     \n\u001b[1;32m    158\u001b[0m \u001b[38;5;66;03m#     train_acc = get_accuracy(model, train_loader, device=device)\u001b[39;00m\n\u001b[1;32m    159\u001b[0m \u001b[38;5;66;03m#     valid_acc = get_accuracy(model, valid_loader, device=device)\u001b[39;00m\n",
      "File \u001b[0;32m~/GitHub/LDED-FusionNet/code/train_utils.py:92\u001b[0m, in \u001b[0;36mtest_single_epoch\u001b[0;34m(model, epoch, testloader, loss_fn, device, mode)\u001b[0m\n\u001b[1;32m     88\u001b[0m \u001b[38;5;28;01mwith\u001b[39;00m torch\u001b[38;5;241m.\u001b[39mno_grad():\n\u001b[1;32m     89\u001b[0m     \u001b[38;5;66;03m#  create a progress bar for the training data loader\u001b[39;00m\n\u001b[1;32m     90\u001b[0m     pbar \u001b[38;5;241m=\u001b[39m tqdm(testloader, desc\u001b[38;5;241m=\u001b[39m\u001b[38;5;124mf\u001b[39m\u001b[38;5;124m\"\u001b[39m\u001b[38;5;124mEpoch \u001b[39m\u001b[38;5;132;01m{\u001b[39;00mepoch\u001b[38;5;132;01m}\u001b[39;00m\u001b[38;5;124m\"\u001b[39m) \n\u001b[0;32m---> 92\u001b[0m     \u001b[38;5;28;01mfor\u001b[39;00m batch_idx, (inputs, targets) \u001b[38;5;129;01min\u001b[39;00m \u001b[38;5;28menumerate\u001b[39m(testloader):\n\u001b[1;32m     93\u001b[0m         \u001b[38;5;28;01mif\u001b[39;00m mode \u001b[38;5;241m==\u001b[39m \u001b[38;5;124m\"\u001b[39m\u001b[38;5;124msingle_model\u001b[39m\u001b[38;5;124m\"\u001b[39m:\n\u001b[1;32m     94\u001b[0m             inputs, targets \u001b[38;5;241m=\u001b[39m inputs\u001b[38;5;241m.\u001b[39mto(device), targets\u001b[38;5;241m.\u001b[39mto(device)\n",
      "File \u001b[0;32m~/anaconda3/envs/torch/lib/python3.9/site-packages/torch/utils/data/dataloader.py:628\u001b[0m, in \u001b[0;36m_BaseDataLoaderIter.__next__\u001b[0;34m(self)\u001b[0m\n\u001b[1;32m    625\u001b[0m \u001b[38;5;28;01mif\u001b[39;00m \u001b[38;5;28mself\u001b[39m\u001b[38;5;241m.\u001b[39m_sampler_iter \u001b[38;5;129;01mis\u001b[39;00m \u001b[38;5;28;01mNone\u001b[39;00m:\n\u001b[1;32m    626\u001b[0m     \u001b[38;5;66;03m# TODO(https://github.com/pytorch/pytorch/issues/76750)\u001b[39;00m\n\u001b[1;32m    627\u001b[0m     \u001b[38;5;28mself\u001b[39m\u001b[38;5;241m.\u001b[39m_reset()  \u001b[38;5;66;03m# type: ignore[call-arg]\u001b[39;00m\n\u001b[0;32m--> 628\u001b[0m data \u001b[38;5;241m=\u001b[39m \u001b[38;5;28;43mself\u001b[39;49m\u001b[38;5;241;43m.\u001b[39;49m\u001b[43m_next_data\u001b[49m\u001b[43m(\u001b[49m\u001b[43m)\u001b[49m\n\u001b[1;32m    629\u001b[0m \u001b[38;5;28mself\u001b[39m\u001b[38;5;241m.\u001b[39m_num_yielded \u001b[38;5;241m+\u001b[39m\u001b[38;5;241m=\u001b[39m \u001b[38;5;241m1\u001b[39m\n\u001b[1;32m    630\u001b[0m \u001b[38;5;28;01mif\u001b[39;00m \u001b[38;5;28mself\u001b[39m\u001b[38;5;241m.\u001b[39m_dataset_kind \u001b[38;5;241m==\u001b[39m _DatasetKind\u001b[38;5;241m.\u001b[39mIterable \u001b[38;5;129;01mand\u001b[39;00m \\\n\u001b[1;32m    631\u001b[0m         \u001b[38;5;28mself\u001b[39m\u001b[38;5;241m.\u001b[39m_IterableDataset_len_called \u001b[38;5;129;01mis\u001b[39;00m \u001b[38;5;129;01mnot\u001b[39;00m \u001b[38;5;28;01mNone\u001b[39;00m \u001b[38;5;129;01mand\u001b[39;00m \\\n\u001b[1;32m    632\u001b[0m         \u001b[38;5;28mself\u001b[39m\u001b[38;5;241m.\u001b[39m_num_yielded \u001b[38;5;241m>\u001b[39m \u001b[38;5;28mself\u001b[39m\u001b[38;5;241m.\u001b[39m_IterableDataset_len_called:\n",
      "File \u001b[0;32m~/anaconda3/envs/torch/lib/python3.9/site-packages/torch/utils/data/dataloader.py:1316\u001b[0m, in \u001b[0;36m_MultiProcessingDataLoaderIter._next_data\u001b[0;34m(self)\u001b[0m\n\u001b[1;32m   1313\u001b[0m     \u001b[38;5;28;01mreturn\u001b[39;00m \u001b[38;5;28mself\u001b[39m\u001b[38;5;241m.\u001b[39m_process_data(data)\n\u001b[1;32m   1315\u001b[0m \u001b[38;5;28;01massert\u001b[39;00m \u001b[38;5;129;01mnot\u001b[39;00m \u001b[38;5;28mself\u001b[39m\u001b[38;5;241m.\u001b[39m_shutdown \u001b[38;5;129;01mand\u001b[39;00m \u001b[38;5;28mself\u001b[39m\u001b[38;5;241m.\u001b[39m_tasks_outstanding \u001b[38;5;241m>\u001b[39m \u001b[38;5;241m0\u001b[39m\n\u001b[0;32m-> 1316\u001b[0m idx, data \u001b[38;5;241m=\u001b[39m \u001b[38;5;28;43mself\u001b[39;49m\u001b[38;5;241;43m.\u001b[39;49m\u001b[43m_get_data\u001b[49m\u001b[43m(\u001b[49m\u001b[43m)\u001b[49m\n\u001b[1;32m   1317\u001b[0m \u001b[38;5;28mself\u001b[39m\u001b[38;5;241m.\u001b[39m_tasks_outstanding \u001b[38;5;241m-\u001b[39m\u001b[38;5;241m=\u001b[39m \u001b[38;5;241m1\u001b[39m\n\u001b[1;32m   1318\u001b[0m \u001b[38;5;28;01mif\u001b[39;00m \u001b[38;5;28mself\u001b[39m\u001b[38;5;241m.\u001b[39m_dataset_kind \u001b[38;5;241m==\u001b[39m _DatasetKind\u001b[38;5;241m.\u001b[39mIterable:\n\u001b[1;32m   1319\u001b[0m     \u001b[38;5;66;03m# Check for _IterableDatasetStopIteration\u001b[39;00m\n",
      "File \u001b[0;32m~/anaconda3/envs/torch/lib/python3.9/site-packages/torch/utils/data/dataloader.py:1282\u001b[0m, in \u001b[0;36m_MultiProcessingDataLoaderIter._get_data\u001b[0;34m(self)\u001b[0m\n\u001b[1;32m   1278\u001b[0m     \u001b[38;5;66;03m# In this case, `self._data_queue` is a `queue.Queue`,. But we don't\u001b[39;00m\n\u001b[1;32m   1279\u001b[0m     \u001b[38;5;66;03m# need to call `.task_done()` because we don't use `.join()`.\u001b[39;00m\n\u001b[1;32m   1280\u001b[0m \u001b[38;5;28;01melse\u001b[39;00m:\n\u001b[1;32m   1281\u001b[0m     \u001b[38;5;28;01mwhile\u001b[39;00m \u001b[38;5;28;01mTrue\u001b[39;00m:\n\u001b[0;32m-> 1282\u001b[0m         success, data \u001b[38;5;241m=\u001b[39m \u001b[38;5;28;43mself\u001b[39;49m\u001b[38;5;241;43m.\u001b[39;49m\u001b[43m_try_get_data\u001b[49m\u001b[43m(\u001b[49m\u001b[43m)\u001b[49m\n\u001b[1;32m   1283\u001b[0m         \u001b[38;5;28;01mif\u001b[39;00m success:\n\u001b[1;32m   1284\u001b[0m             \u001b[38;5;28;01mreturn\u001b[39;00m data\n",
      "File \u001b[0;32m~/anaconda3/envs/torch/lib/python3.9/site-packages/torch/utils/data/dataloader.py:1120\u001b[0m, in \u001b[0;36m_MultiProcessingDataLoaderIter._try_get_data\u001b[0;34m(self, timeout)\u001b[0m\n\u001b[1;32m   1107\u001b[0m \u001b[38;5;28;01mdef\u001b[39;00m \u001b[38;5;21m_try_get_data\u001b[39m(\u001b[38;5;28mself\u001b[39m, timeout\u001b[38;5;241m=\u001b[39m_utils\u001b[38;5;241m.\u001b[39mMP_STATUS_CHECK_INTERVAL):\n\u001b[1;32m   1108\u001b[0m     \u001b[38;5;66;03m# Tries to fetch data from `self._data_queue` once for a given timeout.\u001b[39;00m\n\u001b[1;32m   1109\u001b[0m     \u001b[38;5;66;03m# This can also be used as inner loop of fetching without timeout, with\u001b[39;00m\n\u001b[0;32m   (...)\u001b[0m\n\u001b[1;32m   1117\u001b[0m     \u001b[38;5;66;03m# Returns a 2-tuple:\u001b[39;00m\n\u001b[1;32m   1118\u001b[0m     \u001b[38;5;66;03m#   (bool: whether successfully get data, any: data if successful else None)\u001b[39;00m\n\u001b[1;32m   1119\u001b[0m     \u001b[38;5;28;01mtry\u001b[39;00m:\n\u001b[0;32m-> 1120\u001b[0m         data \u001b[38;5;241m=\u001b[39m \u001b[38;5;28;43mself\u001b[39;49m\u001b[38;5;241;43m.\u001b[39;49m\u001b[43m_data_queue\u001b[49m\u001b[38;5;241;43m.\u001b[39;49m\u001b[43mget\u001b[49m\u001b[43m(\u001b[49m\u001b[43mtimeout\u001b[49m\u001b[38;5;241;43m=\u001b[39;49m\u001b[43mtimeout\u001b[49m\u001b[43m)\u001b[49m\n\u001b[1;32m   1121\u001b[0m         \u001b[38;5;28;01mreturn\u001b[39;00m (\u001b[38;5;28;01mTrue\u001b[39;00m, data)\n\u001b[1;32m   1122\u001b[0m     \u001b[38;5;28;01mexcept\u001b[39;00m \u001b[38;5;167;01mException\u001b[39;00m \u001b[38;5;28;01mas\u001b[39;00m e:\n\u001b[1;32m   1123\u001b[0m         \u001b[38;5;66;03m# At timeout and error, we manually check whether any worker has\u001b[39;00m\n\u001b[1;32m   1124\u001b[0m         \u001b[38;5;66;03m# failed. Note that this is the only mechanism for Windows to detect\u001b[39;00m\n\u001b[1;32m   1125\u001b[0m         \u001b[38;5;66;03m# worker failures.\u001b[39;00m\n",
      "File \u001b[0;32m~/anaconda3/envs/torch/lib/python3.9/multiprocessing/queues.py:113\u001b[0m, in \u001b[0;36mQueue.get\u001b[0;34m(self, block, timeout)\u001b[0m\n\u001b[1;32m    111\u001b[0m \u001b[38;5;28;01mif\u001b[39;00m block:\n\u001b[1;32m    112\u001b[0m     timeout \u001b[38;5;241m=\u001b[39m deadline \u001b[38;5;241m-\u001b[39m time\u001b[38;5;241m.\u001b[39mmonotonic()\n\u001b[0;32m--> 113\u001b[0m     \u001b[38;5;28;01mif\u001b[39;00m \u001b[38;5;129;01mnot\u001b[39;00m \u001b[38;5;28;43mself\u001b[39;49m\u001b[38;5;241;43m.\u001b[39;49m\u001b[43m_poll\u001b[49m\u001b[43m(\u001b[49m\u001b[43mtimeout\u001b[49m\u001b[43m)\u001b[49m:\n\u001b[1;32m    114\u001b[0m         \u001b[38;5;28;01mraise\u001b[39;00m Empty\n\u001b[1;32m    115\u001b[0m \u001b[38;5;28;01melif\u001b[39;00m \u001b[38;5;129;01mnot\u001b[39;00m \u001b[38;5;28mself\u001b[39m\u001b[38;5;241m.\u001b[39m_poll():\n",
      "File \u001b[0;32m~/anaconda3/envs/torch/lib/python3.9/multiprocessing/connection.py:257\u001b[0m, in \u001b[0;36m_ConnectionBase.poll\u001b[0;34m(self, timeout)\u001b[0m\n\u001b[1;32m    255\u001b[0m \u001b[38;5;28mself\u001b[39m\u001b[38;5;241m.\u001b[39m_check_closed()\n\u001b[1;32m    256\u001b[0m \u001b[38;5;28mself\u001b[39m\u001b[38;5;241m.\u001b[39m_check_readable()\n\u001b[0;32m--> 257\u001b[0m \u001b[38;5;28;01mreturn\u001b[39;00m \u001b[38;5;28;43mself\u001b[39;49m\u001b[38;5;241;43m.\u001b[39;49m\u001b[43m_poll\u001b[49m\u001b[43m(\u001b[49m\u001b[43mtimeout\u001b[49m\u001b[43m)\u001b[49m\n",
      "File \u001b[0;32m~/anaconda3/envs/torch/lib/python3.9/multiprocessing/connection.py:424\u001b[0m, in \u001b[0;36mConnection._poll\u001b[0;34m(self, timeout)\u001b[0m\n\u001b[1;32m    423\u001b[0m \u001b[38;5;28;01mdef\u001b[39;00m \u001b[38;5;21m_poll\u001b[39m(\u001b[38;5;28mself\u001b[39m, timeout):\n\u001b[0;32m--> 424\u001b[0m     r \u001b[38;5;241m=\u001b[39m \u001b[43mwait\u001b[49m\u001b[43m(\u001b[49m\u001b[43m[\u001b[49m\u001b[38;5;28;43mself\u001b[39;49m\u001b[43m]\u001b[49m\u001b[43m,\u001b[49m\u001b[43m \u001b[49m\u001b[43mtimeout\u001b[49m\u001b[43m)\u001b[49m\n\u001b[1;32m    425\u001b[0m     \u001b[38;5;28;01mreturn\u001b[39;00m \u001b[38;5;28mbool\u001b[39m(r)\n",
      "File \u001b[0;32m~/anaconda3/envs/torch/lib/python3.9/multiprocessing/connection.py:931\u001b[0m, in \u001b[0;36mwait\u001b[0;34m(object_list, timeout)\u001b[0m\n\u001b[1;32m    928\u001b[0m     deadline \u001b[38;5;241m=\u001b[39m time\u001b[38;5;241m.\u001b[39mmonotonic() \u001b[38;5;241m+\u001b[39m timeout\n\u001b[1;32m    930\u001b[0m \u001b[38;5;28;01mwhile\u001b[39;00m \u001b[38;5;28;01mTrue\u001b[39;00m:\n\u001b[0;32m--> 931\u001b[0m     ready \u001b[38;5;241m=\u001b[39m \u001b[43mselector\u001b[49m\u001b[38;5;241;43m.\u001b[39;49m\u001b[43mselect\u001b[49m\u001b[43m(\u001b[49m\u001b[43mtimeout\u001b[49m\u001b[43m)\u001b[49m\n\u001b[1;32m    932\u001b[0m     \u001b[38;5;28;01mif\u001b[39;00m ready:\n\u001b[1;32m    933\u001b[0m         \u001b[38;5;28;01mreturn\u001b[39;00m [key\u001b[38;5;241m.\u001b[39mfileobj \u001b[38;5;28;01mfor\u001b[39;00m (key, events) \u001b[38;5;129;01min\u001b[39;00m ready]\n",
      "File \u001b[0;32m~/anaconda3/envs/torch/lib/python3.9/selectors.py:416\u001b[0m, in \u001b[0;36m_PollLikeSelector.select\u001b[0;34m(self, timeout)\u001b[0m\n\u001b[1;32m    414\u001b[0m ready \u001b[38;5;241m=\u001b[39m []\n\u001b[1;32m    415\u001b[0m \u001b[38;5;28;01mtry\u001b[39;00m:\n\u001b[0;32m--> 416\u001b[0m     fd_event_list \u001b[38;5;241m=\u001b[39m \u001b[38;5;28;43mself\u001b[39;49m\u001b[38;5;241;43m.\u001b[39;49m\u001b[43m_selector\u001b[49m\u001b[38;5;241;43m.\u001b[39;49m\u001b[43mpoll\u001b[49m\u001b[43m(\u001b[49m\u001b[43mtimeout\u001b[49m\u001b[43m)\u001b[49m\n\u001b[1;32m    417\u001b[0m \u001b[38;5;28;01mexcept\u001b[39;00m \u001b[38;5;167;01mInterruptedError\u001b[39;00m:\n\u001b[1;32m    418\u001b[0m     \u001b[38;5;28;01mreturn\u001b[39;00m ready\n",
      "\u001b[0;31mKeyboardInterrupt\u001b[0m: "
     ]
    }
   ],
   "source": [
    "# -----Model---------------\n",
    "print('==> Building model..')\n",
    "\n",
    "net = MFCCCNN(dropout_rate=Dropout_rate) \n",
    "\n",
    "net = net.to(device)\n",
    "if device == 'cuda':\n",
    "    net = torch.nn.DataParallel(net)\n",
    "    cudnn.benchmark = True\n",
    "    print (\"--- Using CUDA ---\")\n",
    "\n",
    "if resume:\n",
    "    # Load checkpoint.\n",
    "    print('==> Resuming from checkpoint..')\n",
    "    assert os.path.isdir('checkpoint'), 'Error: no checkpoint directory found!'\n",
    "    checkpoint = torch.load('./checkpoint/ckpt.pth')\n",
    "    net.load_state_dict(checkpoint['net'])\n",
    "    best_acc = checkpoint['acc']\n",
    "    start_epoch = checkpoint['epoch']\n",
    "\n",
    "loss_fn = nn.CrossEntropyLoss()\n",
    "\n",
    "# Note: weight_decay in pytorch is L2 regularization\n",
    "# optimizer = optim.Adam(net.parameters(), lr=LEARNING_RATE, weight_decay=5e-4)\n",
    "# scheduler = torch.optim.lr_scheduler.CosineAnnealingLR(optimizer, T_max=200)\n",
    "optimizer = optim.SGD(net.parameters(), lr=0.04275183165118986, momentum=Momentumn, weight_decay=Regularization)\n",
    "scheduler = optim.lr_scheduler.StepLR(optimizer, step_size=7, gamma=0.1)\n",
    "\n",
    "model, optimizer, (train_losses, valid_losses, train_accuracy, valid_accuracy) = training_loop(net, loss_fn, optimizer, train_dataloader, val_dataloader, EPOCHS, scheduler, device)"
   ]
  },
  {
   "cell_type": "code",
   "execution_count": null,
   "id": "97901149-558c-4241-b6d3-9f8389f3ec1f",
   "metadata": {
    "scrolled": true,
    "tags": []
   },
   "outputs": [],
   "source": [
    "valid_accuracy"
   ]
  },
  {
   "cell_type": "code",
   "execution_count": null,
   "id": "ab7210cd-ecf4-4c73-8bd0-24c22829334c",
   "metadata": {
    "scrolled": true
   },
   "outputs": [],
   "source": [
    "loss_acc_plot(train_losses, valid_losses, train_accuracy, valid_accuracy, 200, \"Initial Training\",\n",
    "              interval=50, yloss_limit1=0, yloss_limit2=0.1, yacc_limit1=40, yacc_limit2=100)\n",
    "\n",
    "save_fig (\"train_lost_curve_audio\")"
   ]
  },
  {
   "cell_type": "code",
   "execution_count": null,
   "id": "433ed0ce-439c-479d-9945-5f77bfb629d6",
   "metadata": {},
   "outputs": [],
   "source": [
    "get_accuracy(model, test_dataloader, device)"
   ]
  },
  {
   "cell_type": "code",
   "execution_count": null,
   "id": "fa55aa1c-93a7-4696-bc9e-c5f76627dfa3",
   "metadata": {
    "tags": []
   },
   "outputs": [],
   "source": [
    "test_accuracy_mean, test_accuracy_std, auc_mean, auc_std = model_evaluation(model, val_dataloader, classes, device, classifier_name = \"MFCC-CNN\", \n",
    "                                                                            signal_type = \"raw\", seed=0)\n",
    "\n",
    "save_fig (\"ROC_curve (acoustic-based)-raw\")"
   ]
  },
  {
   "cell_type": "code",
   "execution_count": null,
   "id": "d4e6a1ce-69a6-4303-b691-8708bed57ea4",
   "metadata": {},
   "outputs": [],
   "source": [
    "yt, yp = class_report(model, val_dataloader, device, classes)"
   ]
  },
  {
   "cell_type": "code",
   "execution_count": null,
   "id": "14e8a280-0af0-4caf-90bc-959d2860b83c",
   "metadata": {
    "scrolled": true,
    "tags": []
   },
   "outputs": [],
   "source": [
    "conf_matrix(yt, yp, classes)\n",
    "save_fig(\"confusion_matrix(audio_based)-raw\")"
   ]
  },
  {
   "cell_type": "markdown",
   "id": "8819d61f-1df3-4f40-b2e0-9b9ad7d33009",
   "metadata": {},
   "source": [
    "### Save the trained model into the folder"
   ]
  },
  {
   "cell_type": "code",
   "execution_count": null,
   "id": "2cf0e4a7-2a11-4688-82b0-c7e9c2d5d3da",
   "metadata": {},
   "outputs": [],
   "source": [
    "# Save the model's state_dict\n",
    "torch.save(model.state_dict(), os.path.join(model_path, 'trained_audio_MFCC-CNN(raw).pth'))"
   ]
  },
  {
   "cell_type": "markdown",
   "id": "393f0c2a-2bf8-4fd4-9cd8-39b6e9c74d8f",
   "metadata": {},
   "source": [
    "# Load the trained model to test"
   ]
  },
  {
   "cell_type": "code",
   "execution_count": null,
   "id": "45adfe14-c7dc-4730-acb6-1e0d535e3291",
   "metadata": {
    "scrolled": true,
    "tags": []
   },
   "outputs": [],
   "source": [
    "# Initialize your model\n",
    "model = nn.DataParallel(MFCCCNN())\n",
    "device = torch.device(\"cuda\" if torch.cuda.is_available() else \"cpu\")\n",
    "model.to(device)\n",
    "\n",
    "# Load the state dictionary\n",
    "model.load_state_dict(torch.load(os.path.join(model_path, 'trained_audio_MFCC-CNN(raw).pth')))\n",
    "\n",
    "\n",
    "model.eval()  # Set the model to evaluation mode"
   ]
  },
  {
   "cell_type": "markdown",
   "id": "52c00985-73e7-42f7-beb2-8971cffdba10",
   "metadata": {},
   "source": [
    "### Random testing"
   ]
  },
  {
   "cell_type": "code",
   "execution_count": null,
   "id": "8f7e595a-2c15-460b-91c3-4cc92e19e9b0",
   "metadata": {},
   "outputs": [],
   "source": [
    "import PIL.Image\n",
    "\n",
    "# Load and preprocess the image\n",
    "sample_number = 24\n",
    "index = 16127\n",
    "img_path = os.path.join(Dataset_path, f\"{sample_number}/images/sample_{sample_number}_{index}.jpg\")\n",
    "audio_path = os.path.join(Dataset_path, f\"{sample_number}/raw_audio/sample_{sample_number}_{index}.wav\")\n",
    "input_image = PIL.Image.open(img_path).convert('L')  \n",
    "# apply transform\n",
    "waveform, sample_rate = torchaudio.load(audio_path)\n",
    "waveform = waveform.to(device)\n",
    "input_tensor = mel_spectrogram(waveform)\n",
    "input_batch = input_tensor.unsqueeze(0)  # Create a mini-batch as expected by the model\n",
    "\n",
    "# Move the input to the GPU if available\n",
    "input_batch = input_batch.to(device)\n",
    "\n",
    "# Make the prediction\n",
    "with torch.no_grad():\n",
    "    output = model(input_batch)\n",
    "\n",
    "# The output has unnormalized scores. To get the label, use argmax to get the index of the maximum score\n",
    "_, predicted_label_index = torch.max(output, 1)\n",
    "\n",
    "\n",
    "print(f\"Predicted label index: {predicted_label_index.item()}\")\n",
    "\n",
    "\n",
    "# (1) Map the predicted index to the actual class name\n",
    "index_to_class = {\n",
    "    0: 'Defect-free',\n",
    "    1: 'Keyhole pores',\n",
    "    2: 'Laser defocus',\n",
    "    3: 'Laser-off'\n",
    "}\n",
    "\n",
    "\n",
    "predicted_class_name = index_to_class[predicted_label_index.item()]\n",
    "print(f\"Predicted class name: {predicted_class_name}\")\n",
    "\n",
    "# (2) Display the image and print the ground truth label\n",
    "try:\n",
    "    ground_truth_label = df_multimodal.loc[\n",
    "        (df_multimodal['Sample number'] == sample_number) & \n",
    "        (df_multimodal['image_file_name'] == f\"sample_{sample_number}_{index}.jpg\"), \n",
    "        'class_name_v3'\n",
    "    ].iloc[0]\n",
    "except IndexError:\n",
    "    ground_truth_label = \"NaN\"\n",
    "\n",
    "\n",
    "# Display the image\n",
    "plt.figure(figsize=(10, 4))\n",
    "plt.subplot(1, 2, 1)\n",
    "plt.imshow(input_image, cmap='gray')\n",
    "plt.title(f\"Ground Truth: {ground_truth_label}, Prediction: {predicted_class_name}\", pad=15)\n",
    "plt.axis('off')\n",
    "\n",
    "# Load and plot the audio signal\n",
    "waveform, sample_rate = torchaudio.load(audio_path)\n",
    "plt.subplot(1, 2, 2)\n",
    "plt.plot(waveform.t().numpy())\n",
    "plt.title('Audio Signal', pad=15)\n",
    "plt.xlabel('Sample', labelpad=10)\n",
    "plt.ylabel('Amplitude', labelpad=10)\n",
    "plt.ylim([-0.1, 0.1])\n",
    "plt.tick_params(axis='both', which='major', labelsize=10)\n",
    "\n",
    "plt.tight_layout()\n",
    "plt.show()"
   ]
  }
 ],
 "metadata": {
  "kernelspec": {
   "display_name": "Python 3 (ipykernel)",
   "language": "python",
   "name": "python3"
  },
  "language_info": {
   "codemirror_mode": {
    "name": "ipython",
    "version": 3
   },
   "file_extension": ".py",
   "mimetype": "text/x-python",
   "name": "python",
   "nbconvert_exporter": "python",
   "pygments_lexer": "ipython3",
   "version": "3.9.19"
  }
 },
 "nbformat": 4,
 "nbformat_minor": 5
}
